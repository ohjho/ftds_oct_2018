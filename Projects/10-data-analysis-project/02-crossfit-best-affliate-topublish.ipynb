{
 "cells": [
  {
   "cell_type": "markdown",
   "metadata": {},
   "source": [
    "# Python And Data Analysis Project\n",
    "Day 10 of Xccelerate Full-time Data Science Cohort 03  \n",
    "Date: 29th Oct 2018\n",
    "\n",
    "Presentated in class on Day 14: 2nd Nov 2018\n",
    "\n",
    "The Markdown version is created using:\n",
    "```\n",
    "jupyter nbconvert 02-crossfit-best-affliate-topublish.ipynb --to markdown --output=cf18_which_gym_to_join.md\n",
    "```"
   ]
  },
  {
   "cell_type": "markdown",
   "metadata": {},
   "source": [
    "## What is the Crossfit Open?\n",
    "\n",
    "Or just simply what is Crossfit???\n",
    "\n",
    "[![Youtube link to 'Story of the Open'](https://img.youtube.com/vi/skUxFsTzZ4Q/0.jpg)](https://www.youtube.com/watch?v=skUxFsTzZ4Q)\n"
   ]
  },
  {
   "cell_type": "markdown",
   "metadata": {},
   "source": [
    "## 1. Define the Business Need\n",
    "People from around the world enters their scores into [Games.Crossfit.com](https://games.crossfit.com/) and there's already some filtering functions offered in the [leaderboard](https://games.crossfit.com/leaderboard/onlinequalifiers/2018) for people to interact with the data.\n",
    "\n",
    "_**Aside from finding the world's best athletes or creating bragging rights, how can we use the data to create value for the community???**_\n",
    "\n",
    "To those new to crossfit, **Could we use the data to determine which gym to join?**\n",
    "\n",
    ">the three most important and interdependent facets of any fitness program, can be supported only by measurable, observable, repeatable facts, i.e., data.\n",
    ">\n",
    "> Greg Glassman\n",
    "\n",
    "With Coach Glassman's quote in mind, we can all agree that the ultimate objective of the sport is if can we improve our measurable performance? For that the open is the ultimate performance test that's hosted by HQ once a year.\n",
    "\n",
    ">The magic is in the movement, the art is in the programming, the science is in the explanation, and the fun is in the community\n",
    ">\n",
    ">Greg Glassman\n",
    "\n",
    "And if you have been doing Crossfit for a while, you'd ultimately know that performance aside, the reason that keeps you coming back is the community! Having coached for the last three years at [Asphodel](https://crossfitasphodel.com), it is my opinion that one objective way to measure the health of an affiliate is it's members participation in the Open. Members who participate in the open tend to be those who come consistently (i.e. active in the community) and those who support and cheer on other members (i.e. contribute positively to the community).\n",
    "\n",
    "Therefore, with the Open data from 2018 and 2017, we want to find which affliate serves its member in the best way. One indication of a great affliate is the community. Another is the quality of coaching. So in short we want to answer two questions:  \n",
    "\n",
    "**1. For a given `Region` which affliate improved its members' participation the most, from 2017 to 2018?**  \n",
    "\n",
    "**2. For a given `Region` which affliate's athlete performance improved the most from 2017 to 2018?**\n"
   ]
  },
  {
   "cell_type": "markdown",
   "metadata": {},
   "source": [
    "## 2. Explore the Data\n",
    "\n",
    ">If I have seen further it is only by standing on the shoulders of giants.\n",
    ">\n",
    ">Sir Isaac Newton\n",
    "\n",
    "Over the years, [the leaderboard site](https://games.crossfit.com/leaderboard/onlinequalifiers/) actually has gone thru a few changes. It's not the most straight forward to scrape and there's no public API available.  \n",
    "\n",
    "Luckily, Jean-Michel Daignan wrote a [great piece](http://jmdaignan.com/2018/03/30/crossfitopen/) on how to scrape the Crossfit Game website as of 2018 and even made the tool available on [github](https://github.com/jeanmidevacc/crossfit_webscraping). In short, he made use of a hidden API. [Click here](https://ianlondon.github.io/blog/web-scraping-discovering-hidden-apis/) if you wish to learn how to do that with other sites.\n",
    "\n",
    "[Ray Bell](https://github.com/raybellwaves/cfanalytics) actually did the heavy lifting and made the Crossfit Open 2018 and 2017 dataset available on [Github](https://github.com/raybellwaves/cfanalytics/tree/master/Data). \n",
    "\n",
    "### Side Notes:\n",
    "* Sam Swift is the real OG in this and was one of the first to work with [open data](http://swift.pw/crossfit-games-data-2012-2015/)\n",
    "* Jonathan Kinnick from BTWB wrote [a great piece](https://btwb.blog/2018/02/24/crossfit-open-18-1-preliminary-analysis/) as well analyzing athlete's performance.\n",
    "\n",
    "### Data Retrieval:\n",
    "Let the fun begin, we are gonna use `pandas` to manage the data and `seaborn` + `matplotlib` for visualize\n"
   ]
  },
  {
   "cell_type": "code",
   "execution_count": 1,
   "metadata": {},
   "outputs": [],
   "source": [
    "import pandas as pd\n",
    "import numpy as np\n",
    "\n",
    "%matplotlib inline\n",
    "import matplotlib.pyplot as plt\n",
    "import matplotlib as mpl\n",
    "import seaborn as sns\n",
    "\n",
    "sns.set(color_codes=True) #overide maplot libs ugly colours.\n",
    "mpl.rcParams['figure.figsize'] = [13, 8] #default figure size"
   ]
  },
  {
   "cell_type": "markdown",
   "metadata": {},
   "source": [
    "Let's define the data links."
   ]
  },
  {
   "cell_type": "code",
   "execution_count": 2,
   "metadata": {},
   "outputs": [],
   "source": [
    "url_head = 'https://raw.githubusercontent.com/raybellwaves/cfanalytics/master/Data/'\n",
    "\n",
    "l_18url = [\n",
    "    url_head + 'Women_Rx_2018.csv',\n",
    "    url_head + 'Men_Rx_2018.csv'\n",
    "]\n",
    "\n",
    "l_17url = [\n",
    "    url_head + 'Women_Rx_2017.csv',\n",
    "    url_head + 'Men_Rx_2017.csv'\n",
    "]\n",
    "\n",
    "gyms_url = url_head + 'Affiliate_list.csv'"
   ]
  },
  {
   "cell_type": "markdown",
   "metadata": {},
   "source": [
    "**Let's download the data. This might take a while**"
   ]
  },
  {
   "cell_type": "code",
   "execution_count": 3,
   "metadata": {},
   "outputs": [
    {
     "name": "stderr",
     "output_type": "stream",
     "text": [
      "/Users/JHO/.virtualenvs/accelerateHK3/lib/python3.6/site-packages/IPython/core/interactiveshell.py:2850: DtypeWarning: Columns (13,20) have mixed types. Specify dtype option on import or set low_memory=False.\n",
      "  if self.run_code(code, result):\n",
      "/Users/JHO/.virtualenvs/accelerateHK3/lib/python3.6/site-packages/IPython/core/interactiveshell.py:2850: DtypeWarning: Columns (16,18,29) have mixed types. Specify dtype option on import or set low_memory=False.\n",
      "  if self.run_code(code, result):\n",
      "/Users/JHO/.virtualenvs/accelerateHK3/lib/python3.6/site-packages/IPython/core/interactiveshell.py:2850: DtypeWarning: Columns (24,29) have mixed types. Specify dtype option on import or set low_memory=False.\n",
      "  if self.run_code(code, result):\n"
     ]
    }
   ],
   "source": [
    "l_d17 = [pd.read_csv(iurl) for iurl in l_17url]\n",
    "l_d18 = [pd.read_csv(iurl) for iurl in l_18url]\n",
    "dgyms = pd.read_csv(gyms_url)"
   ]
  },
  {
   "cell_type": "markdown",
   "metadata": {},
   "source": [
    "### How many people completed in 2017 and 2018?"
   ]
  },
  {
   "cell_type": "code",
   "execution_count": 7,
   "metadata": {},
   "outputs": [
    {
     "name": "stdout",
     "output_type": "stream",
     "text": [
      "# of Open Athletes \n",
      "2017: 273,670 \n",
      "2018: 303,956\n"
     ]
    }
   ],
   "source": [
    "print(f'# of Open Athletes \\n2017: {\"{:,}\".format(len(l_d17[0]) + len(l_d17[1]))} \\n2018: {\"{:,}\".format(len(l_d18[0]) + len(l_d18[1]))}')"
   ]
  },
  {
   "cell_type": "markdown",
   "metadata": {},
   "source": [
    "#### We need to apply some basic data cleaning:\n",
    "* 2017 and 2018 data column names are different, so we need to rename them"
   ]
  },
  {
   "cell_type": "code",
   "execution_count": 8,
   "metadata": {},
   "outputs": [],
   "source": [
    "col_map = {'Userid':'User_id', \n",
    "           'Height (m)': 'Height_(m)', \n",
    "           'Weight (kg)':'Weight_(kg)',\n",
    "           'Regionid':'Region_id',\n",
    "           'Regionname':'Region_name',\n",
    "           'Affiliateid':'Affiliate_id',\n",
    "           'Overallrank':'Overall_rank'}\n",
    "l_d17 = [d.rename(columns = col_map) for d in l_d17]"
   ]
  },
  {
   "cell_type": "markdown",
   "metadata": {},
   "source": [
    "* In the data frame that we want, we just want to have **region data**, **Overall_rank**, and a new column for **sex**"
   ]
  },
  {
   "cell_type": "code",
   "execution_count": 10,
   "metadata": {},
   "outputs": [],
   "source": [
    "def JoinAllAthletes( df_ladies, df_men):\n",
    "    l_columns = ['User_id', 'Name', 'Height_(m)', 'Weight_(kg)','Age',\n",
    "                 'Region_id','Region_name','Affiliate_id','Overall_rank']\n",
    "    dfl = df_ladies.loc[:, l_columns].set_index('User_id')\n",
    "    dfm = df_men.loc[:, l_columns].set_index('User_id')\n",
    "    dfl['Sex'] = 'F'\n",
    "    dfm['Sex'] = 'M'\n",
    "    \n",
    "    return pd.concat([dfl, dfm])\n",
    "\n",
    "df_18 = JoinAllAthletes( l_d18[0], l_d18[1])\n",
    "df_17 = JoinAllAthletes( l_d17[0], l_d17[1])"
   ]
  },
  {
   "cell_type": "markdown",
   "metadata": {},
   "source": [
    "* we also want to remove missing data"
   ]
  },
  {
   "cell_type": "code",
   "execution_count": 11,
   "metadata": {},
   "outputs": [
    {
     "name": "stdout",
     "output_type": "stream",
     "text": [
      "For 2018: 303956 total athletes, 287564 athletes have the crucial data. That is 94.61%\n",
      "\n",
      "For 2017: 273670 total athletes, 261126 athletes have the crucial data. That is 95.42%\n"
     ]
    }
   ],
   "source": [
    "from functools import reduce\n",
    "\n",
    "def GetMissing(in_df):\n",
    "    missing_filter = [in_df.Overall_rank.isna(),\n",
    "                     in_df.Affiliate_id.isna(),\n",
    "                     in_df.Affiliate_id == 0,\n",
    "                     in_df.Region_id.isna(),\n",
    "                     in_df.Region_id ==0]\n",
    "    \n",
    "    dfilter = reduce( lambda x, y : x | y, missing_filter)\n",
    "    return dfilter\n",
    "\n",
    "df18 = df_18[~(GetMissing(df_18))] # '~' is for filter negation\n",
    "df17 = df_17[~(GetMissing(df_17))]\n",
    "\n",
    "print(f'For 2018: {len(df_18)} total athletes, {len(df18)} athletes have the crucial data. That is {\"{:.2%}\".format(len(df18)/ len(df_18))}\\n')\n",
    "print(f'For 2017: {len(df_17)} total athletes, {len(df17)} athletes have the crucial data. That is {\"{:.2%}\".format(len(df17)/ len(df_17))}')"
   ]
  },
  {
   "cell_type": "markdown",
   "metadata": {},
   "source": [
    "## 3. Analyse the Data"
   ]
  },
  {
   "cell_type": "markdown",
   "metadata": {},
   "source": [
    "Since the data set is pretty big, we are going to select a `Region` or maybe even a city first for speed of computation"
   ]
  },
  {
   "cell_type": "markdown",
   "metadata": {},
   "source": [
    "### Question I: For the `Asia/Hong Kong`, which affiliate has the best Open participation?\n",
    "\n",
    "To do that we need to combine the 2017 and 2018 data frame as well as getting affiliate information from the `dgyms` dataframe.  \n",
    "\n",
    "* Let's create two new dataframes for the 2017 and 2018 data by `Affiliate_id` and filter only for `Region_name== \"Asia\"`"
   ]
  },
  {
   "cell_type": "code",
   "execution_count": 118,
   "metadata": {},
   "outputs": [
    {
     "name": "stderr",
     "output_type": "stream",
     "text": [
      "/Users/JHO/.virtualenvs/accelerateHK3/lib/python3.6/site-packages/ipykernel_launcher.py:1: FutureWarning: using a dict on a Series for aggregation\n",
      "is deprecated and will be removed in a future version\n",
      "  \"\"\"Entry point for launching an IPython kernel.\n",
      "/Users/JHO/.virtualenvs/accelerateHK3/lib/python3.6/site-packages/ipykernel_launcher.py:2: FutureWarning: using a dict on a Series for aggregation\n",
      "is deprecated and will be removed in a future version\n",
      "  \n"
     ]
    }
   ],
   "source": [
    "df18_ = df18[df18.Region_name=='Asia'].groupby('Affiliate_id')['Name'].agg({'Athlete_count_2018': 'count'})\n",
    "df17_ = df17[df17.Region_name=='Asia'].groupby('Affiliate_id')['Name'].agg({'Athlete_count': 'count'})\n"
   ]
  },
  {
   "cell_type": "markdown",
   "metadata": {},
   "source": [
    "* We are going to store the 2017 athletes count number in the 2018 dataframe"
   ]
  },
  {
   "cell_type": "code",
   "execution_count": 15,
   "metadata": {},
   "outputs": [],
   "source": [
    "def GetACount(in_df, a_id):\n",
    "    nfilter = in_df.index == a_id\n",
    "    if sum( nfilter ) == 0:\n",
    "        return np.nan\n",
    "    else:\n",
    "        return int(in_df[ nfilter ]['Athlete_count'].values)\n",
    "df18_['Athlete_count_2017'] = df18_.index.map(lambda x: GetACount(df17_, x))\n",
    "df18_['change'] = df18_['Athlete_count_2018'] - df18_['Athlete_count_2017']\n",
    "df18_['pct_change'] = df18_['Athlete_count_2018'] / df18_['Athlete_count_2017'] -1"
   ]
  },
  {
   "cell_type": "markdown",
   "metadata": {},
   "source": [
    "* And let's fill in the affiliates data as well. The `GetAffiliateDet()` function will be useful again later."
   ]
  },
  {
   "cell_type": "code",
   "execution_count": 18,
   "metadata": {},
   "outputs": [],
   "source": [
    "def GetAffiliateDet( a_id, colname):\n",
    "    dfilter = dgyms.Affiliate_id == a_id\n",
    "    if sum(dfilter) == 0:\n",
    "        return np.nan\n",
    "    else:\n",
    "        return dgyms[dfilter][colname].values[0]\n",
    "\n",
    "df18_['Affiliate_name'] = df18_.index.map(lambda x: GetAffiliateDet(x, 'Affiliate_name'))\n",
    "df18_['Country'] = df18_.index.map(lambda x: GetAffiliateDet(x, 'Country'))"
   ]
  },
  {
   "cell_type": "markdown",
   "metadata": {},
   "source": [
    "#### The Top 10 `Asia` Affiliates by Open Participation are:"
   ]
  },
  {
   "cell_type": "code",
   "execution_count": 22,
   "metadata": {},
   "outputs": [
    {
     "data": {
      "text/html": [
       "<div>\n",
       "<style scoped>\n",
       "    .dataframe tbody tr th:only-of-type {\n",
       "        vertical-align: middle;\n",
       "    }\n",
       "\n",
       "    .dataframe tbody tr th {\n",
       "        vertical-align: top;\n",
       "    }\n",
       "\n",
       "    .dataframe thead th {\n",
       "        text-align: right;\n",
       "    }\n",
       "</style>\n",
       "<table border=\"1\" class=\"dataframe\">\n",
       "  <thead>\n",
       "    <tr style=\"text-align: right;\">\n",
       "      <th></th>\n",
       "      <th>Affiliate_name</th>\n",
       "      <th>Country</th>\n",
       "      <th>Athlete_count_2018</th>\n",
       "      <th>Athlete_count_2017</th>\n",
       "    </tr>\n",
       "    <tr>\n",
       "      <th>Affiliate_id</th>\n",
       "      <th></th>\n",
       "      <th></th>\n",
       "      <th></th>\n",
       "      <th></th>\n",
       "    </tr>\n",
       "  </thead>\n",
       "  <tbody>\n",
       "    <tr>\n",
       "      <th>1971</th>\n",
       "      <td>CrossFit Gangnam</td>\n",
       "      <td>Korea, Republic of</td>\n",
       "      <td>192</td>\n",
       "      <td>138.0</td>\n",
       "    </tr>\n",
       "    <tr>\n",
       "      <th>10506</th>\n",
       "      <td>CrossFit Apgujeong</td>\n",
       "      <td>Korea, Republic of</td>\n",
       "      <td>120</td>\n",
       "      <td>100.0</td>\n",
       "    </tr>\n",
       "    <tr>\n",
       "      <th>12640</th>\n",
       "      <td>CrossFit Redyar</td>\n",
       "      <td>Russian Federation</td>\n",
       "      <td>82</td>\n",
       "      <td>113.0</td>\n",
       "    </tr>\n",
       "    <tr>\n",
       "      <th>4574</th>\n",
       "      <td>CrossFit EKB</td>\n",
       "      <td>Russian Federation</td>\n",
       "      <td>80</td>\n",
       "      <td>81.0</td>\n",
       "    </tr>\n",
       "    <tr>\n",
       "      <th>13557</th>\n",
       "      <td>CrossFit 6221</td>\n",
       "      <td>Indonesia</td>\n",
       "      <td>78</td>\n",
       "      <td>37.0</td>\n",
       "    </tr>\n",
       "    <tr>\n",
       "      <th>9402</th>\n",
       "      <td>East West CrossFit</td>\n",
       "      <td>Thailand</td>\n",
       "      <td>73</td>\n",
       "      <td>59.0</td>\n",
       "    </tr>\n",
       "    <tr>\n",
       "      <th>5724</th>\n",
       "      <td>Reebok CrossFit MeWellness</td>\n",
       "      <td>China</td>\n",
       "      <td>72</td>\n",
       "      <td>59.0</td>\n",
       "    </tr>\n",
       "    <tr>\n",
       "      <th>6582</th>\n",
       "      <td>CrossFit Teddygym</td>\n",
       "      <td>Korea, Republic of</td>\n",
       "      <td>67</td>\n",
       "      <td>82.0</td>\n",
       "    </tr>\n",
       "    <tr>\n",
       "      <th>5827</th>\n",
       "      <td>CrossFit Gof Metgot</td>\n",
       "      <td>Guam</td>\n",
       "      <td>66</td>\n",
       "      <td>56.0</td>\n",
       "    </tr>\n",
       "    <tr>\n",
       "      <th>10774</th>\n",
       "      <td>CrossFit Bukit Timah</td>\n",
       "      <td>Singapore</td>\n",
       "      <td>64</td>\n",
       "      <td>45.0</td>\n",
       "    </tr>\n",
       "  </tbody>\n",
       "</table>\n",
       "</div>"
      ],
      "text/plain": [
       "                          Affiliate_name             Country  \\\n",
       "Affiliate_id                                                   \n",
       "1971                    CrossFit Gangnam  Korea, Republic of   \n",
       "10506                 CrossFit Apgujeong  Korea, Republic of   \n",
       "12640                    CrossFit Redyar  Russian Federation   \n",
       "4574                        CrossFit EKB  Russian Federation   \n",
       "13557                      CrossFit 6221           Indonesia   \n",
       "9402                  East West CrossFit            Thailand   \n",
       "5724          Reebok CrossFit MeWellness               China   \n",
       "6582                   CrossFit Teddygym  Korea, Republic of   \n",
       "5827                 CrossFit Gof Metgot                Guam   \n",
       "10774               CrossFit Bukit Timah           Singapore   \n",
       "\n",
       "              Athlete_count_2018  Athlete_count_2017  \n",
       "Affiliate_id                                          \n",
       "1971                         192               138.0  \n",
       "10506                        120               100.0  \n",
       "12640                         82               113.0  \n",
       "4574                          80                81.0  \n",
       "13557                         78                37.0  \n",
       "9402                          73                59.0  \n",
       "5724                          72                59.0  \n",
       "6582                          67                82.0  \n",
       "5827                          66                56.0  \n",
       "10774                         64                45.0  "
      ]
     },
     "execution_count": 22,
     "metadata": {},
     "output_type": "execute_result"
    }
   ],
   "source": [
    "l_display_a_col = ['Affiliate_name','Country','Athlete_count_2018', 'Athlete_count_2017']\n",
    "df18_.sort_values(by= 'Athlete_count_2018', ascending=False).head(10).loc[: , l_display_a_col]"
   ]
  },
  {
   "cell_type": "markdown",
   "metadata": {},
   "source": [
    "#### The Top 10 `Asia` Affiliates by INCREASE in Open Participation:"
   ]
  },
  {
   "cell_type": "code",
   "execution_count": 25,
   "metadata": {},
   "outputs": [
    {
     "data": {
      "text/html": [
       "<div>\n",
       "<style scoped>\n",
       "    .dataframe tbody tr th:only-of-type {\n",
       "        vertical-align: middle;\n",
       "    }\n",
       "\n",
       "    .dataframe tbody tr th {\n",
       "        vertical-align: top;\n",
       "    }\n",
       "\n",
       "    .dataframe thead th {\n",
       "        text-align: right;\n",
       "    }\n",
       "</style>\n",
       "<table border=\"1\" class=\"dataframe\">\n",
       "  <thead>\n",
       "    <tr style=\"text-align: right;\">\n",
       "      <th></th>\n",
       "      <th>Affiliate_name</th>\n",
       "      <th>Country</th>\n",
       "      <th>Athlete_count_2018</th>\n",
       "      <th>Athlete_count_2017</th>\n",
       "      <th>change</th>\n",
       "      <th>pct_change</th>\n",
       "    </tr>\n",
       "    <tr>\n",
       "      <th>Affiliate_id</th>\n",
       "      <th></th>\n",
       "      <th></th>\n",
       "      <th></th>\n",
       "      <th></th>\n",
       "      <th></th>\n",
       "      <th></th>\n",
       "    </tr>\n",
       "  </thead>\n",
       "  <tbody>\n",
       "    <tr>\n",
       "      <th>1971</th>\n",
       "      <td>CrossFit Gangnam</td>\n",
       "      <td>Korea, Republic of</td>\n",
       "      <td>192</td>\n",
       "      <td>138.0</td>\n",
       "      <td>54.0</td>\n",
       "      <td>0.391304</td>\n",
       "    </tr>\n",
       "    <tr>\n",
       "      <th>13557</th>\n",
       "      <td>CrossFit 6221</td>\n",
       "      <td>Indonesia</td>\n",
       "      <td>78</td>\n",
       "      <td>37.0</td>\n",
       "      <td>41.0</td>\n",
       "      <td>1.108108</td>\n",
       "    </tr>\n",
       "    <tr>\n",
       "      <th>4947</th>\n",
       "      <td>CrossFit Senayan</td>\n",
       "      <td>Indonesia</td>\n",
       "      <td>41</td>\n",
       "      <td>4.0</td>\n",
       "      <td>37.0</td>\n",
       "      <td>9.250000</td>\n",
       "    </tr>\n",
       "    <tr>\n",
       "      <th>17422</th>\n",
       "      <td>Elite Zone CrossFit</td>\n",
       "      <td>Malaysia</td>\n",
       "      <td>43</td>\n",
       "      <td>7.0</td>\n",
       "      <td>36.0</td>\n",
       "      <td>5.142857</td>\n",
       "    </tr>\n",
       "    <tr>\n",
       "      <th>87</th>\n",
       "      <td>Humphreys CrossFit</td>\n",
       "      <td>Korea, Republic of</td>\n",
       "      <td>42</td>\n",
       "      <td>6.0</td>\n",
       "      <td>36.0</td>\n",
       "      <td>6.000000</td>\n",
       "    </tr>\n",
       "    <tr>\n",
       "      <th>15879</th>\n",
       "      <td>CrossFit Loga</td>\n",
       "      <td>Taiwan</td>\n",
       "      <td>44</td>\n",
       "      <td>18.0</td>\n",
       "      <td>26.0</td>\n",
       "      <td>1.444444</td>\n",
       "    </tr>\n",
       "    <tr>\n",
       "      <th>18157</th>\n",
       "      <td>Reebok CrossFit Asphodel</td>\n",
       "      <td>Hong Kong</td>\n",
       "      <td>36</td>\n",
       "      <td>11.0</td>\n",
       "      <td>25.0</td>\n",
       "      <td>2.272727</td>\n",
       "    </tr>\n",
       "    <tr>\n",
       "      <th>10722</th>\n",
       "      <td>CrossFit Hakata</td>\n",
       "      <td>Japan</td>\n",
       "      <td>49</td>\n",
       "      <td>24.0</td>\n",
       "      <td>25.0</td>\n",
       "      <td>1.041667</td>\n",
       "    </tr>\n",
       "    <tr>\n",
       "      <th>3170</th>\n",
       "      <td>CrossFit Himalaya</td>\n",
       "      <td>India</td>\n",
       "      <td>38</td>\n",
       "      <td>15.0</td>\n",
       "      <td>23.0</td>\n",
       "      <td>1.533333</td>\n",
       "    </tr>\n",
       "    <tr>\n",
       "      <th>18438</th>\n",
       "      <td>CrossFit Vyom</td>\n",
       "      <td>India</td>\n",
       "      <td>24</td>\n",
       "      <td>3.0</td>\n",
       "      <td>21.0</td>\n",
       "      <td>7.000000</td>\n",
       "    </tr>\n",
       "  </tbody>\n",
       "</table>\n",
       "</div>"
      ],
      "text/plain": [
       "                        Affiliate_name             Country  \\\n",
       "Affiliate_id                                                 \n",
       "1971                  CrossFit Gangnam  Korea, Republic of   \n",
       "13557                    CrossFit 6221           Indonesia   \n",
       "4947                  CrossFit Senayan           Indonesia   \n",
       "17422              Elite Zone CrossFit            Malaysia   \n",
       "87                  Humphreys CrossFit  Korea, Republic of   \n",
       "15879                    CrossFit Loga              Taiwan   \n",
       "18157         Reebok CrossFit Asphodel           Hong Kong   \n",
       "10722                  CrossFit Hakata               Japan   \n",
       "3170                 CrossFit Himalaya               India   \n",
       "18438                    CrossFit Vyom               India   \n",
       "\n",
       "              Athlete_count_2018  Athlete_count_2017  change  pct_change  \n",
       "Affiliate_id                                                              \n",
       "1971                         192               138.0    54.0    0.391304  \n",
       "13557                         78                37.0    41.0    1.108108  \n",
       "4947                          41                 4.0    37.0    9.250000  \n",
       "17422                         43                 7.0    36.0    5.142857  \n",
       "87                            42                 6.0    36.0    6.000000  \n",
       "15879                         44                18.0    26.0    1.444444  \n",
       "18157                         36                11.0    25.0    2.272727  \n",
       "10722                         49                24.0    25.0    1.041667  \n",
       "3170                          38                15.0    23.0    1.533333  \n",
       "18438                         24                 3.0    21.0    7.000000  "
      ]
     },
     "execution_count": 25,
     "metadata": {},
     "output_type": "execute_result"
    }
   ],
   "source": [
    "l_display_a_col = ['Affiliate_name','Country','Athlete_count_2018', 'Athlete_count_2017','change','pct_change']\n",
    "df18_.sort_values(by= 'change', ascending=False).head(10).loc[:,l_display_a_col]"
   ]
  },
  {
   "cell_type": "markdown",
   "metadata": {},
   "source": [
    "#### `Hong Kong` Affiliate Open Participation ranked:"
   ]
  },
  {
   "cell_type": "code",
   "execution_count": 29,
   "metadata": {},
   "outputs": [
    {
     "data": {
      "text/html": [
       "<div>\n",
       "<style scoped>\n",
       "    .dataframe tbody tr th:only-of-type {\n",
       "        vertical-align: middle;\n",
       "    }\n",
       "\n",
       "    .dataframe tbody tr th {\n",
       "        vertical-align: top;\n",
       "    }\n",
       "\n",
       "    .dataframe thead th {\n",
       "        text-align: right;\n",
       "    }\n",
       "</style>\n",
       "<table border=\"1\" class=\"dataframe\">\n",
       "  <thead>\n",
       "    <tr style=\"text-align: right;\">\n",
       "      <th></th>\n",
       "      <th>Affiliate_name</th>\n",
       "      <th>Country</th>\n",
       "      <th>Athlete_count_2018</th>\n",
       "      <th>Athlete_count_2017</th>\n",
       "      <th>change</th>\n",
       "      <th>pct_change</th>\n",
       "    </tr>\n",
       "    <tr>\n",
       "      <th>Affiliate_id</th>\n",
       "      <th></th>\n",
       "      <th></th>\n",
       "      <th></th>\n",
       "      <th></th>\n",
       "      <th></th>\n",
       "      <th></th>\n",
       "    </tr>\n",
       "  </thead>\n",
       "  <tbody>\n",
       "    <tr>\n",
       "      <th>6874</th>\n",
       "      <td>CrossFit CFPT</td>\n",
       "      <td>Hong Kong</td>\n",
       "      <td>62</td>\n",
       "      <td>66.0</td>\n",
       "      <td>-4.0</td>\n",
       "      <td>-0.060606</td>\n",
       "    </tr>\n",
       "    <tr>\n",
       "      <th>5725</th>\n",
       "      <td>CrossFit 852</td>\n",
       "      <td>Hong Kong</td>\n",
       "      <td>59</td>\n",
       "      <td>63.0</td>\n",
       "      <td>-4.0</td>\n",
       "      <td>-0.063492</td>\n",
       "    </tr>\n",
       "    <tr>\n",
       "      <th>15225</th>\n",
       "      <td>CrossFit Quarry Bay</td>\n",
       "      <td>Hong Kong</td>\n",
       "      <td>51</td>\n",
       "      <td>47.0</td>\n",
       "      <td>4.0</td>\n",
       "      <td>0.085106</td>\n",
       "    </tr>\n",
       "    <tr>\n",
       "      <th>18157</th>\n",
       "      <td>Reebok CrossFit Asphodel</td>\n",
       "      <td>Hong Kong</td>\n",
       "      <td>36</td>\n",
       "      <td>11.0</td>\n",
       "      <td>25.0</td>\n",
       "      <td>2.272727</td>\n",
       "    </tr>\n",
       "    <tr>\n",
       "      <th>11248</th>\n",
       "      <td>CrossFit Cavaliers</td>\n",
       "      <td>Hong Kong</td>\n",
       "      <td>32</td>\n",
       "      <td>35.0</td>\n",
       "      <td>-3.0</td>\n",
       "      <td>-0.085714</td>\n",
       "    </tr>\n",
       "    <tr>\n",
       "      <th>6960</th>\n",
       "      <td>CrossFit Typhoon</td>\n",
       "      <td>Hong Kong</td>\n",
       "      <td>29</td>\n",
       "      <td>19.0</td>\n",
       "      <td>10.0</td>\n",
       "      <td>0.526316</td>\n",
       "    </tr>\n",
       "    <tr>\n",
       "      <th>17460</th>\n",
       "      <td>CrossFit FPG</td>\n",
       "      <td>Hong Kong</td>\n",
       "      <td>29</td>\n",
       "      <td>25.0</td>\n",
       "      <td>4.0</td>\n",
       "      <td>0.160000</td>\n",
       "    </tr>\n",
       "    <tr>\n",
       "      <th>15287</th>\n",
       "      <td>Lion Rock CrossFit</td>\n",
       "      <td>Hong Kong</td>\n",
       "      <td>14</td>\n",
       "      <td>3.0</td>\n",
       "      <td>11.0</td>\n",
       "      <td>3.666667</td>\n",
       "    </tr>\n",
       "  </tbody>\n",
       "</table>\n",
       "</div>"
      ],
      "text/plain": [
       "                        Affiliate_name    Country  Athlete_count_2018  \\\n",
       "Affiliate_id                                                            \n",
       "6874                     CrossFit CFPT  Hong Kong                  62   \n",
       "5725                      CrossFit 852  Hong Kong                  59   \n",
       "15225              CrossFit Quarry Bay  Hong Kong                  51   \n",
       "18157         Reebok CrossFit Asphodel  Hong Kong                  36   \n",
       "11248               CrossFit Cavaliers  Hong Kong                  32   \n",
       "6960                  CrossFit Typhoon  Hong Kong                  29   \n",
       "17460                     CrossFit FPG  Hong Kong                  29   \n",
       "15287               Lion Rock CrossFit  Hong Kong                  14   \n",
       "\n",
       "              Athlete_count_2017  change  pct_change  \n",
       "Affiliate_id                                          \n",
       "6874                        66.0    -4.0   -0.060606  \n",
       "5725                        63.0    -4.0   -0.063492  \n",
       "15225                       47.0     4.0    0.085106  \n",
       "18157                       11.0    25.0    2.272727  \n",
       "11248                       35.0    -3.0   -0.085714  \n",
       "6960                        19.0    10.0    0.526316  \n",
       "17460                       25.0     4.0    0.160000  \n",
       "15287                        3.0    11.0    3.666667  "
      ]
     },
     "execution_count": 29,
     "metadata": {},
     "output_type": "execute_result"
    }
   ],
   "source": [
    "l_display_a_col = ['Affiliate_name','Country','Athlete_count_2018', 'Athlete_count_2017','change']\n",
    "df18_[df18_.Country =='Hong Kong'].sort_values(by= 'Athlete_count_2018', ascending=False).head(10).loc[:,l_display_a_col]"
   ]
  },
  {
   "cell_type": "markdown",
   "metadata": {},
   "source": [
    "#### And who's open participation dropped the most in `Asia`?\n",
    "* Is this a sign of a struggling affiliate?\n",
    "* Does these location indicate a difficult market in the region?"
   ]
  },
  {
   "cell_type": "code",
   "execution_count": 32,
   "metadata": {},
   "outputs": [
    {
     "data": {
      "text/html": [
       "<div>\n",
       "<style scoped>\n",
       "    .dataframe tbody tr th:only-of-type {\n",
       "        vertical-align: middle;\n",
       "    }\n",
       "\n",
       "    .dataframe tbody tr th {\n",
       "        vertical-align: top;\n",
       "    }\n",
       "\n",
       "    .dataframe thead th {\n",
       "        text-align: right;\n",
       "    }\n",
       "</style>\n",
       "<table border=\"1\" class=\"dataframe\">\n",
       "  <thead>\n",
       "    <tr style=\"text-align: right;\">\n",
       "      <th></th>\n",
       "      <th>Affiliate_name</th>\n",
       "      <th>Country</th>\n",
       "      <th>Athlete_count_2018</th>\n",
       "      <th>Athlete_count_2017</th>\n",
       "      <th>change</th>\n",
       "      <th>pct_change</th>\n",
       "    </tr>\n",
       "    <tr>\n",
       "      <th>Affiliate_id</th>\n",
       "      <th></th>\n",
       "      <th></th>\n",
       "      <th></th>\n",
       "      <th></th>\n",
       "      <th></th>\n",
       "      <th></th>\n",
       "    </tr>\n",
       "  </thead>\n",
       "  <tbody>\n",
       "    <tr>\n",
       "      <th>10569</th>\n",
       "      <td>CrossFit Choigang</td>\n",
       "      <td>Korea, Republic of</td>\n",
       "      <td>2</td>\n",
       "      <td>41.0</td>\n",
       "      <td>-39.0</td>\n",
       "      <td>-0.951220</td>\n",
       "    </tr>\n",
       "    <tr>\n",
       "      <th>16155</th>\n",
       "      <td>Tsunami Elite CrossFit</td>\n",
       "      <td>China</td>\n",
       "      <td>1</td>\n",
       "      <td>19.0</td>\n",
       "      <td>-18.0</td>\n",
       "      <td>-0.947368</td>\n",
       "    </tr>\n",
       "    <tr>\n",
       "      <th>15446</th>\n",
       "      <td>CrossFit Pangyo Avenue</td>\n",
       "      <td>Korea, Republic of</td>\n",
       "      <td>9</td>\n",
       "      <td>110.0</td>\n",
       "      <td>-101.0</td>\n",
       "      <td>-0.918182</td>\n",
       "    </tr>\n",
       "    <tr>\n",
       "      <th>9337</th>\n",
       "      <td>CrossFit Genome</td>\n",
       "      <td>India</td>\n",
       "      <td>1</td>\n",
       "      <td>10.0</td>\n",
       "      <td>-9.0</td>\n",
       "      <td>-0.900000</td>\n",
       "    </tr>\n",
       "    <tr>\n",
       "      <th>8987</th>\n",
       "      <td>CrossFit 1229</td>\n",
       "      <td>Philippines</td>\n",
       "      <td>9</td>\n",
       "      <td>61.0</td>\n",
       "      <td>-52.0</td>\n",
       "      <td>-0.852459</td>\n",
       "    </tr>\n",
       "    <tr>\n",
       "      <th>9097</th>\n",
       "      <td>CrossFit WeMax</td>\n",
       "      <td>China</td>\n",
       "      <td>1</td>\n",
       "      <td>6.0</td>\n",
       "      <td>-5.0</td>\n",
       "      <td>-0.833333</td>\n",
       "    </tr>\n",
       "    <tr>\n",
       "      <th>8994</th>\n",
       "      <td>CrossFit Primero</td>\n",
       "      <td>India</td>\n",
       "      <td>4</td>\n",
       "      <td>23.0</td>\n",
       "      <td>-19.0</td>\n",
       "      <td>-0.826087</td>\n",
       "    </tr>\n",
       "    <tr>\n",
       "      <th>16527</th>\n",
       "      <td>CrossFit IDOL 2</td>\n",
       "      <td>Kazakhstan</td>\n",
       "      <td>6</td>\n",
       "      <td>34.0</td>\n",
       "      <td>-28.0</td>\n",
       "      <td>-0.823529</td>\n",
       "    </tr>\n",
       "    <tr>\n",
       "      <th>14015</th>\n",
       "      <td>CrossFit Iron Fitness</td>\n",
       "      <td>Singapore</td>\n",
       "      <td>2</td>\n",
       "      <td>11.0</td>\n",
       "      <td>-9.0</td>\n",
       "      <td>-0.818182</td>\n",
       "    </tr>\n",
       "    <tr>\n",
       "      <th>14480</th>\n",
       "      <td>HNXT CrossFit</td>\n",
       "      <td>Korea, Republic of</td>\n",
       "      <td>5</td>\n",
       "      <td>25.0</td>\n",
       "      <td>-20.0</td>\n",
       "      <td>-0.800000</td>\n",
       "    </tr>\n",
       "  </tbody>\n",
       "</table>\n",
       "</div>"
      ],
      "text/plain": [
       "                      Affiliate_name             Country  Athlete_count_2018  \\\n",
       "Affiliate_id                                                                   \n",
       "10569              CrossFit Choigang  Korea, Republic of                   2   \n",
       "16155         Tsunami Elite CrossFit               China                   1   \n",
       "15446         CrossFit Pangyo Avenue  Korea, Republic of                   9   \n",
       "9337                 CrossFit Genome               India                   1   \n",
       "8987                   CrossFit 1229         Philippines                   9   \n",
       "9097                  CrossFit WeMax               China                   1   \n",
       "8994                CrossFit Primero               India                   4   \n",
       "16527                CrossFit IDOL 2          Kazakhstan                   6   \n",
       "14015          CrossFit Iron Fitness           Singapore                   2   \n",
       "14480                  HNXT CrossFit  Korea, Republic of                   5   \n",
       "\n",
       "              Athlete_count_2017  change  pct_change  \n",
       "Affiliate_id                                          \n",
       "10569                       41.0   -39.0   -0.951220  \n",
       "16155                       19.0   -18.0   -0.947368  \n",
       "15446                      110.0  -101.0   -0.918182  \n",
       "9337                        10.0    -9.0   -0.900000  \n",
       "8987                        61.0   -52.0   -0.852459  \n",
       "9097                         6.0    -5.0   -0.833333  \n",
       "8994                        23.0   -19.0   -0.826087  \n",
       "16527                       34.0   -28.0   -0.823529  \n",
       "14015                       11.0    -9.0   -0.818182  \n",
       "14480                       25.0   -20.0   -0.800000  "
      ]
     },
     "execution_count": 32,
     "metadata": {},
     "output_type": "execute_result"
    }
   ],
   "source": [
    "l_display_a_col = ['Affiliate_name','Country','Athlete_count_2018', 'Athlete_count_2017','change', 'pct_change']\n",
    "df18_.sort_values(by= 'pct_change', ascending=True).head(10).loc[:,l_display_a_col]"
   ]
  },
  {
   "cell_type": "markdown",
   "metadata": {},
   "source": [
    "### Question II: For the `Asia/Hong Kong` Region, which affiliate improved their Open Athletes' performance the most?\n",
    "Where the improve in preformance is the total number of rank improved for all athletes who completed both in 2017 and 2018.  \n",
    "* First lets create another new dataframe with only `Asia` athletes where we also store their 2017 over ranking\n",
    "\n",
    "**Note that this data frame lookup operation will take a while**"
   ]
  },
  {
   "cell_type": "code",
   "execution_count": 74,
   "metadata": {},
   "outputs": [],
   "source": [
    "col_to_keep = ['Name','Age','Affiliate_id','Overall_rank','Sex']\n",
    "df18all = df18[df18.Region_name=='Asia'].loc[:, col_to_keep]\n",
    "df18all = df18all.rename(columns= {'Overall_rank':'rank18'})\n",
    "\n",
    "def GetRank(in_df, strName):\n",
    "    nfilter = in_df.Name == strName\n",
    "    if sum( nfilter ) == 0:\n",
    "        return np.nan\n",
    "    else:\n",
    "        return in_df[ nfilter ]['Overall_rank'].values[0]\n",
    "\n",
    "df18all['rank17'] = df18all.Name.apply(lambda x: GetRank(df17, x))"
   ]
  },
  {
   "cell_type": "markdown",
   "metadata": {},
   "source": [
    "#### In `Asia` how many percent are repeat athletes (Survivability)?"
   ]
  },
  {
   "cell_type": "code",
   "execution_count": 75,
   "metadata": {},
   "outputs": [
    {
     "name": "stdout",
     "output_type": "stream",
     "text": [
      "3973 of 7142 athletes are missing 2017 data.\n",
      "\n",
      "Therefore, only 44.37% are repeat athletes.\n"
     ]
    }
   ],
   "source": [
    "print(f'{sum(df18all.rank17.isna())} of {len(df18all)} athletes are missing 2017 data.\\n')\n",
    "print(f'Therefore, only {\"{:.2%}\".format(1- (sum(df18all.rank17.isna())/ len(df18all)))} are repeat athletes.')"
   ]
  },
  {
   "cell_type": "markdown",
   "metadata": {},
   "source": [
    "* here we create the rank `improvement` column and a normalization of it: `imp_z`"
   ]
  },
  {
   "cell_type": "code",
   "execution_count": 82,
   "metadata": {},
   "outputs": [
    {
     "name": "stderr",
     "output_type": "stream",
     "text": [
      "/Users/JHO/.virtualenvs/accelerateHK3/lib/python3.6/site-packages/ipykernel_launcher.py:2: SettingWithCopyWarning: \n",
      "A value is trying to be set on a copy of a slice from a DataFrame.\n",
      "Try using .loc[row_indexer,col_indexer] = value instead\n",
      "\n",
      "See the caveats in the documentation: http://pandas.pydata.org/pandas-docs/stable/indexing.html#indexing-view-versus-copy\n",
      "  \n",
      "/Users/JHO/.virtualenvs/accelerateHK3/lib/python3.6/site-packages/ipykernel_launcher.py:3: SettingWithCopyWarning: \n",
      "A value is trying to be set on a copy of a slice from a DataFrame.\n",
      "Try using .loc[row_indexer,col_indexer] = value instead\n",
      "\n",
      "See the caveats in the documentation: http://pandas.pydata.org/pandas-docs/stable/indexing.html#indexing-view-versus-copy\n",
      "  This is separate from the ipykernel package so we can avoid doing imports until\n"
     ]
    },
    {
     "name": "stdout",
     "output_type": "stream",
     "text": [
      "Average improvement is 2,956 ranks\n",
      "that is a 1.03% improvement over the entire population! \n",
      "\n",
      "with a standard deviation of 38,443 ranks\n",
      "\n"
     ]
    },
    {
     "name": "stderr",
     "output_type": "stream",
     "text": [
      "/Users/JHO/.virtualenvs/accelerateHK3/lib/python3.6/site-packages/ipykernel_launcher.py:4: SettingWithCopyWarning: \n",
      "A value is trying to be set on a copy of a slice from a DataFrame.\n",
      "Try using .loc[row_indexer,col_indexer] = value instead\n",
      "\n",
      "See the caveats in the documentation: http://pandas.pydata.org/pandas-docs/stable/indexing.html#indexing-view-versus-copy\n",
      "  after removing the cwd from sys.path.\n",
      "/Users/JHO/.virtualenvs/accelerateHK3/lib/python3.6/site-packages/ipykernel_launcher.py:7: SettingWithCopyWarning: \n",
      "A value is trying to be set on a copy of a slice from a DataFrame.\n",
      "Try using .loc[row_indexer,col_indexer] = value instead\n",
      "\n",
      "See the caveats in the documentation: http://pandas.pydata.org/pandas-docs/stable/indexing.html#indexing-view-versus-copy\n",
      "  import sys\n"
     ]
    }
   ],
   "source": [
    "df18a = df18all.dropna(subset=['rank17'])\n",
    "df18a['improvement']= df18a['rank17'] - df18a['rank18']\n",
    "df18a['Affiliate_name'] = df18a.Affiliate_id.map(lambda x: GetAffiliateDet(x, 'Affiliate_name'))\n",
    "df18a['Country'] = df18a.Affiliate_id.map(lambda x: GetAffiliateDet(x, 'Country'))\n",
    "imp_mean = df18a.improvement.mean()\n",
    "imp_std = df18a.improvement.std()\n",
    "df18a['imp_z'] = df18a.improvement.apply( lambda x: (x - imp_mean)/ imp_std)\n",
    "\n",
    "print(f'Average improvement is {\"{:,.0f}\".format(imp_mean)} ranks')\n",
    "print(f'that is a {\"{:.2%}\".format(imp_mean/len(df18))} improvement over the entire population! \\n')\n",
    "print(f'with a standard deviation of {\"{:,.0f}\".format(imp_std)} ranks\\n')"
   ]
  },
  {
   "cell_type": "markdown",
   "metadata": {},
   "source": [
    "#### This means that on average, repeat athletes in `Asia` improve their global ranking by nearly 3,000 spots! The prize of consistency!\n",
    "\n",
    "#### What's the distribution of the normalized performance?"
   ]
  },
  {
   "cell_type": "code",
   "execution_count": 50,
   "metadata": {},
   "outputs": [
    {
     "name": "stderr",
     "output_type": "stream",
     "text": [
      "/Users/JHO/.virtualenvs/accelerateHK3/lib/python3.6/site-packages/scipy/stats/stats.py:1706: FutureWarning: Using a non-tuple sequence for multidimensional indexing is deprecated; use `arr[tuple(seq)]` instead of `arr[seq]`. In the future this will be interpreted as an array index, `arr[np.array(seq)]`, which will result either in an error or a different result.\n",
      "  return np.add.reduce(sorted[indexer] * weights, axis=axis) / sumval\n",
      "/Users/JHO/.virtualenvs/accelerateHK3/lib/python3.6/site-packages/matplotlib/axes/_axes.py:6462: UserWarning: The 'normed' kwarg is deprecated, and has been replaced by the 'density' kwarg.\n",
      "  warnings.warn(\"The 'normed' kwarg is deprecated, and has been \"\n"
     ]
    },
    {
     "data": {
      "text/plain": [
       "<matplotlib.axes._subplots.AxesSubplot at 0x1138d16a0>"
      ]
     },
     "execution_count": 50,
     "metadata": {},
     "output_type": "execute_result"
    },
    {
     "data": {
      "image/png": "[encoded data removed]",
      "text/plain": [
       "<Figure size 1440x720 with 1 Axes>"
      ]
     },
     "metadata": {},
     "output_type": "display_data"
    }
   ],
   "source": [
    "plt.figure(figsize=(20,10))\n",
    "sns.set(font_scale = 1.5, context = 'notebook')\n",
    "sns.distplot(df18a.imp_z)"
   ]
  },
  {
   "cell_type": "markdown",
   "metadata": {},
   "source": [
    "Ranking improvement, quite normally distributed!"
   ]
  },
  {
   "cell_type": "markdown",
   "metadata": {},
   "source": [
    "#### Just for fun, let's see the top 10 most improved `male` athletes in `Asia`"
   ]
  },
  {
   "cell_type": "code",
   "execution_count": 51,
   "metadata": {},
   "outputs": [
    {
     "name": "stderr",
     "output_type": "stream",
     "text": [
      "/Users/JHO/.virtualenvs/accelerateHK3/lib/python3.6/site-packages/ipykernel_launcher.py:2: UserWarning: Boolean Series key will be reindexed to match DataFrame index.\n",
      "  \n"
     ]
    },
    {
     "data": {
      "text/html": [
       "<div>\n",
       "<style scoped>\n",
       "    .dataframe tbody tr th:only-of-type {\n",
       "        vertical-align: middle;\n",
       "    }\n",
       "\n",
       "    .dataframe tbody tr th {\n",
       "        vertical-align: top;\n",
       "    }\n",
       "\n",
       "    .dataframe thead th {\n",
       "        text-align: right;\n",
       "    }\n",
       "</style>\n",
       "<table border=\"1\" class=\"dataframe\">\n",
       "  <thead>\n",
       "    <tr style=\"text-align: right;\">\n",
       "      <th></th>\n",
       "      <th>Name</th>\n",
       "      <th>Age</th>\n",
       "      <th>Affiliate_name</th>\n",
       "      <th>Country</th>\n",
       "      <th>rank18</th>\n",
       "      <th>rank17</th>\n",
       "      <th>improvement</th>\n",
       "      <th>imp_z</th>\n",
       "    </tr>\n",
       "    <tr>\n",
       "      <th>User_id</th>\n",
       "      <th></th>\n",
       "      <th></th>\n",
       "      <th></th>\n",
       "      <th></th>\n",
       "      <th></th>\n",
       "      <th></th>\n",
       "      <th></th>\n",
       "      <th></th>\n",
       "    </tr>\n",
       "  </thead>\n",
       "  <tbody>\n",
       "    <tr>\n",
       "      <th>319745</th>\n",
       "      <td>Keith Stillman</td>\n",
       "      <td>27</td>\n",
       "      <td>Port Tower CrossFit</td>\n",
       "      <td>Japan</td>\n",
       "      <td>2763</td>\n",
       "      <td>151198.0</td>\n",
       "      <td>148435.0</td>\n",
       "      <td>3.784274</td>\n",
       "    </tr>\n",
       "    <tr>\n",
       "      <th>57487</th>\n",
       "      <td>Kim Jwa-Nyeon</td>\n",
       "      <td>43</td>\n",
       "      <td>CrossFit LOL</td>\n",
       "      <td>Korea, Republic of</td>\n",
       "      <td>34873</td>\n",
       "      <td>179933.0</td>\n",
       "      <td>145060.0</td>\n",
       "      <td>3.696482</td>\n",
       "    </tr>\n",
       "    <tr>\n",
       "      <th>1363804</th>\n",
       "      <td>Timofey Bakhurinskiy</td>\n",
       "      <td>25</td>\n",
       "      <td>CrossFit Astana</td>\n",
       "      <td>Kazakhstan</td>\n",
       "      <td>3815</td>\n",
       "      <td>148447.0</td>\n",
       "      <td>144632.0</td>\n",
       "      <td>3.685349</td>\n",
       "    </tr>\n",
       "    <tr>\n",
       "      <th>733891</th>\n",
       "      <td>Zachary Thibodaux</td>\n",
       "      <td>24</td>\n",
       "      <td>Fight Tonight CrossFit</td>\n",
       "      <td>Korea, Republic of</td>\n",
       "      <td>13953</td>\n",
       "      <td>155611.0</td>\n",
       "      <td>141658.0</td>\n",
       "      <td>3.607988</td>\n",
       "    </tr>\n",
       "    <tr>\n",
       "      <th>967176</th>\n",
       "      <td>Eunwoong Lee</td>\n",
       "      <td>24</td>\n",
       "      <td>CrossFit MATE</td>\n",
       "      <td>Korea, Republic of</td>\n",
       "      <td>41171</td>\n",
       "      <td>182305.0</td>\n",
       "      <td>141134.0</td>\n",
       "      <td>3.594358</td>\n",
       "    </tr>\n",
       "    <tr>\n",
       "      <th>752725</th>\n",
       "      <td>Lee Byeong Su</td>\n",
       "      <td>27</td>\n",
       "      <td>CrossFit Shout</td>\n",
       "      <td>Korea, Republic of</td>\n",
       "      <td>48961</td>\n",
       "      <td>189840.0</td>\n",
       "      <td>140879.0</td>\n",
       "      <td>3.587724</td>\n",
       "    </tr>\n",
       "    <tr>\n",
       "      <th>278578</th>\n",
       "      <td>JiMoo Son</td>\n",
       "      <td>27</td>\n",
       "      <td>CrossFit Limelight</td>\n",
       "      <td>Korea, Republic of</td>\n",
       "      <td>291</td>\n",
       "      <td>139217.0</td>\n",
       "      <td>138926.0</td>\n",
       "      <td>3.536922</td>\n",
       "    </tr>\n",
       "    <tr>\n",
       "      <th>879011</th>\n",
       "      <td>Xingchen Li</td>\n",
       "      <td>30</td>\n",
       "      <td>Attitude CrossFit</td>\n",
       "      <td>China</td>\n",
       "      <td>12561</td>\n",
       "      <td>149311.0</td>\n",
       "      <td>136750.0</td>\n",
       "      <td>3.480319</td>\n",
       "    </tr>\n",
       "    <tr>\n",
       "      <th>1097087</th>\n",
       "      <td>Paolo Volpe</td>\n",
       "      <td>30</td>\n",
       "      <td>CrossFit 6221</td>\n",
       "      <td>Indonesia</td>\n",
       "      <td>41938</td>\n",
       "      <td>178364.0</td>\n",
       "      <td>136426.0</td>\n",
       "      <td>3.471891</td>\n",
       "    </tr>\n",
       "    <tr>\n",
       "      <th>496740</th>\n",
       "      <td>Hogun Hwang</td>\n",
       "      <td>28</td>\n",
       "      <td>CrossFit Teddygym</td>\n",
       "      <td>Korea, Republic of</td>\n",
       "      <td>6292</td>\n",
       "      <td>141781.0</td>\n",
       "      <td>135489.0</td>\n",
       "      <td>3.447517</td>\n",
       "    </tr>\n",
       "  </tbody>\n",
       "</table>\n",
       "</div>"
      ],
      "text/plain": [
       "                         Name  Age          Affiliate_name  \\\n",
       "User_id                                                      \n",
       "319745         Keith Stillman   27     Port Tower CrossFit   \n",
       "57487           Kim Jwa-Nyeon   43            CrossFit LOL   \n",
       "1363804  Timofey Bakhurinskiy   25         CrossFit Astana   \n",
       "733891      Zachary Thibodaux   24  Fight Tonight CrossFit   \n",
       "967176           Eunwoong Lee   24           CrossFit MATE   \n",
       "752725          Lee Byeong Su   27          CrossFit Shout   \n",
       "278578              JiMoo Son   27      CrossFit Limelight   \n",
       "879011            Xingchen Li   30       Attitude CrossFit   \n",
       "1097087           Paolo Volpe   30           CrossFit 6221   \n",
       "496740            Hogun Hwang   28       CrossFit Teddygym   \n",
       "\n",
       "                    Country  rank18    rank17  improvement     imp_z  \n",
       "User_id                                                               \n",
       "319745                Japan    2763  151198.0     148435.0  3.784274  \n",
       "57487    Korea, Republic of   34873  179933.0     145060.0  3.696482  \n",
       "1363804          Kazakhstan    3815  148447.0     144632.0  3.685349  \n",
       "733891   Korea, Republic of   13953  155611.0     141658.0  3.607988  \n",
       "967176   Korea, Republic of   41171  182305.0     141134.0  3.594358  \n",
       "752725   Korea, Republic of   48961  189840.0     140879.0  3.587724  \n",
       "278578   Korea, Republic of     291  139217.0     138926.0  3.536922  \n",
       "879011                China   12561  149311.0     136750.0  3.480319  \n",
       "1097087           Indonesia   41938  178364.0     136426.0  3.471891  \n",
       "496740   Korea, Republic of    6292  141781.0     135489.0  3.447517  "
      ]
     },
     "execution_count": 51,
     "metadata": {},
     "output_type": "execute_result"
    }
   ],
   "source": [
    "l_display_a_col = ['Name','Age','Affiliate_name','Country','rank18', 'rank17','improvement', 'imp_z']\n",
    "df18a.sort_values(by ='improvement', ascending = False)[df18a.Sex=='M'].head(10).loc[:,l_display_a_col]"
   ]
  },
  {
   "cell_type": "markdown",
   "metadata": {},
   "source": [
    "#### Where are these insane improvement from?\n",
    "![picture of keith](img/kstillman.jpg \"Keith and I at Bangkok Throwdown 2018\")\n",
    "* Injuries?\n",
    "* New to the sport?\n",
    "* Actual Improvements?\n",
    "* Something else?\n",
    "\n",
    "#### Back to our topic\n",
    "* let's group the dataframe by `Affiliate_id` again and rank them by `Total_rank_improved`"
   ]
  },
  {
   "cell_type": "code",
   "execution_count": 52,
   "metadata": {},
   "outputs": [
    {
     "name": "stderr",
     "output_type": "stream",
     "text": [
      "/Users/JHO/.virtualenvs/accelerateHK3/lib/python3.6/site-packages/ipykernel_launcher.py:4: FutureWarning: using a dict on a Series for aggregation\n",
      "is deprecated and will be removed in a future version\n",
      "  after removing the cwd from sys.path.\n"
     ]
    }
   ],
   "source": [
    "df18ag = df18a.groupby('Affiliate_id')['improvement'].agg({'athletes_count': 'count', \n",
    "                                                           'Total_rank_improved': 'sum', \n",
    "                                                           'Avg_rank_improved': 'mean',\n",
    "                                                           'Median_rank_improved': 'median'})\n",
    "df18ag['Affiliate_name'] = df18ag.index.map(lambda x: GetAffiliateDet(x, 'Affiliate_name'))\n",
    "df18ag['Country'] = df18ag.index.map(lambda x: GetAffiliateDet(x, 'Country'))"
   ]
  },
  {
   "cell_type": "markdown",
   "metadata": {},
   "source": [
    "#### Which gym improved their repeat athletes the most in `Asia`?"
   ]
  },
  {
   "cell_type": "code",
   "execution_count": 63,
   "metadata": {},
   "outputs": [
    {
     "data": {
      "text/html": [
       "<div>\n",
       "<style scoped>\n",
       "    .dataframe tbody tr th:only-of-type {\n",
       "        vertical-align: middle;\n",
       "    }\n",
       "\n",
       "    .dataframe tbody tr th {\n",
       "        vertical-align: top;\n",
       "    }\n",
       "\n",
       "    .dataframe thead th {\n",
       "        text-align: right;\n",
       "    }\n",
       "</style>\n",
       "<table border=\"1\" class=\"dataframe\">\n",
       "  <thead>\n",
       "    <tr style=\"text-align: right;\">\n",
       "      <th></th>\n",
       "      <th>Affiliate_name</th>\n",
       "      <th>Country</th>\n",
       "      <th>athletes_count</th>\n",
       "      <th>Total_rank_improved</th>\n",
       "      <th>Avg_rank_improved</th>\n",
       "      <th>Median_rank_improved</th>\n",
       "    </tr>\n",
       "    <tr>\n",
       "      <th>Affiliate_id</th>\n",
       "      <th></th>\n",
       "      <th></th>\n",
       "      <th></th>\n",
       "      <th></th>\n",
       "      <th></th>\n",
       "      <th></th>\n",
       "    </tr>\n",
       "  </thead>\n",
       "  <tbody>\n",
       "    <tr>\n",
       "      <th>4574</th>\n",
       "      <td>CrossFit EKB</td>\n",
       "      <td>Russian Federation</td>\n",
       "      <td>39</td>\n",
       "      <td>590534.0</td>\n",
       "      <td>15141.897436</td>\n",
       "      <td>9924.0</td>\n",
       "    </tr>\n",
       "    <tr>\n",
       "      <th>14574</th>\n",
       "      <td>Actualize CrossFit</td>\n",
       "      <td>Singapore</td>\n",
       "      <td>23</td>\n",
       "      <td>515447.0</td>\n",
       "      <td>22410.739130</td>\n",
       "      <td>13294.0</td>\n",
       "    </tr>\n",
       "    <tr>\n",
       "      <th>18507</th>\n",
       "      <td>CrossFit RK Olympicpark</td>\n",
       "      <td>Korea, Republic of</td>\n",
       "      <td>12</td>\n",
       "      <td>501346.0</td>\n",
       "      <td>41778.833333</td>\n",
       "      <td>30873.0</td>\n",
       "    </tr>\n",
       "    <tr>\n",
       "      <th>12640</th>\n",
       "      <td>CrossFit Redyar</td>\n",
       "      <td>Russian Federation</td>\n",
       "      <td>51</td>\n",
       "      <td>443793.0</td>\n",
       "      <td>8701.823529</td>\n",
       "      <td>5486.0</td>\n",
       "    </tr>\n",
       "    <tr>\n",
       "      <th>16276</th>\n",
       "      <td>Singa CrossFit</td>\n",
       "      <td>Korea, Republic of</td>\n",
       "      <td>27</td>\n",
       "      <td>423556.0</td>\n",
       "      <td>15687.259259</td>\n",
       "      <td>17580.0</td>\n",
       "    </tr>\n",
       "    <tr>\n",
       "      <th>17256</th>\n",
       "      <td>CrossFit Daikanyama</td>\n",
       "      <td>Japan</td>\n",
       "      <td>16</td>\n",
       "      <td>387475.0</td>\n",
       "      <td>24217.187500</td>\n",
       "      <td>13047.0</td>\n",
       "    </tr>\n",
       "    <tr>\n",
       "      <th>13853</th>\n",
       "      <td>CrossFit 4TP</td>\n",
       "      <td>Korea, Republic of</td>\n",
       "      <td>25</td>\n",
       "      <td>375524.0</td>\n",
       "      <td>15020.960000</td>\n",
       "      <td>9531.0</td>\n",
       "    </tr>\n",
       "    <tr>\n",
       "      <th>18581</th>\n",
       "      <td>CrossFit GangDong</td>\n",
       "      <td>Korea, Republic of</td>\n",
       "      <td>11</td>\n",
       "      <td>370516.0</td>\n",
       "      <td>33683.272727</td>\n",
       "      <td>20964.0</td>\n",
       "    </tr>\n",
       "    <tr>\n",
       "      <th>6582</th>\n",
       "      <td>CrossFit Teddygym</td>\n",
       "      <td>Korea, Republic of</td>\n",
       "      <td>35</td>\n",
       "      <td>366844.0</td>\n",
       "      <td>10481.257143</td>\n",
       "      <td>11125.0</td>\n",
       "    </tr>\n",
       "    <tr>\n",
       "      <th>4947</th>\n",
       "      <td>CrossFit Senayan</td>\n",
       "      <td>Indonesia</td>\n",
       "      <td>18</td>\n",
       "      <td>359358.0</td>\n",
       "      <td>19964.333333</td>\n",
       "      <td>14386.5</td>\n",
       "    </tr>\n",
       "  </tbody>\n",
       "</table>\n",
       "</div>"
      ],
      "text/plain": [
       "                       Affiliate_name             Country  athletes_count  \\\n",
       "Affiliate_id                                                                \n",
       "4574                     CrossFit EKB  Russian Federation              39   \n",
       "14574              Actualize CrossFit           Singapore              23   \n",
       "18507         CrossFit RK Olympicpark  Korea, Republic of              12   \n",
       "12640                 CrossFit Redyar  Russian Federation              51   \n",
       "16276                  Singa CrossFit  Korea, Republic of              27   \n",
       "17256             CrossFit Daikanyama               Japan              16   \n",
       "13853                    CrossFit 4TP  Korea, Republic of              25   \n",
       "18581               CrossFit GangDong  Korea, Republic of              11   \n",
       "6582                CrossFit Teddygym  Korea, Republic of              35   \n",
       "4947                 CrossFit Senayan           Indonesia              18   \n",
       "\n",
       "              Total_rank_improved  Avg_rank_improved  Median_rank_improved  \n",
       "Affiliate_id                                                                \n",
       "4574                     590534.0       15141.897436                9924.0  \n",
       "14574                    515447.0       22410.739130               13294.0  \n",
       "18507                    501346.0       41778.833333               30873.0  \n",
       "12640                    443793.0        8701.823529                5486.0  \n",
       "16276                    423556.0       15687.259259               17580.0  \n",
       "17256                    387475.0       24217.187500               13047.0  \n",
       "13853                    375524.0       15020.960000                9531.0  \n",
       "18581                    370516.0       33683.272727               20964.0  \n",
       "6582                     366844.0       10481.257143               11125.0  \n",
       "4947                     359358.0       19964.333333               14386.5  "
      ]
     },
     "execution_count": 63,
     "metadata": {},
     "output_type": "execute_result"
    }
   ],
   "source": [
    "l_display_a_col = ['Affiliate_name','Country','athletes_count','Total_rank_improved','Avg_rank_improved','Median_rank_improved']\n",
    "df18ag.sort_values( by = 'Total_rank_improved', ascending = False).head(10).loc[:, l_display_a_col]"
   ]
  },
  {
   "cell_type": "markdown",
   "metadata": {},
   "source": [
    "#### Which gym improved their repeat athletes the most in `Asia/Hong Kong`?"
   ]
  },
  {
   "cell_type": "code",
   "execution_count": 65,
   "metadata": {},
   "outputs": [
    {
     "data": {
      "text/html": [
       "<div>\n",
       "<style scoped>\n",
       "    .dataframe tbody tr th:only-of-type {\n",
       "        vertical-align: middle;\n",
       "    }\n",
       "\n",
       "    .dataframe tbody tr th {\n",
       "        vertical-align: top;\n",
       "    }\n",
       "\n",
       "    .dataframe thead th {\n",
       "        text-align: right;\n",
       "    }\n",
       "</style>\n",
       "<table border=\"1\" class=\"dataframe\">\n",
       "  <thead>\n",
       "    <tr style=\"text-align: right;\">\n",
       "      <th></th>\n",
       "      <th>Affiliate_name</th>\n",
       "      <th>Country</th>\n",
       "      <th>athletes_count</th>\n",
       "      <th>Total_rank_improved</th>\n",
       "      <th>Avg_rank_improved</th>\n",
       "      <th>Median_rank_improved</th>\n",
       "    </tr>\n",
       "    <tr>\n",
       "      <th>Affiliate_id</th>\n",
       "      <th></th>\n",
       "      <th></th>\n",
       "      <th></th>\n",
       "      <th></th>\n",
       "      <th></th>\n",
       "      <th></th>\n",
       "    </tr>\n",
       "  </thead>\n",
       "  <tbody>\n",
       "    <tr>\n",
       "      <th>6874</th>\n",
       "      <td>CrossFit CFPT</td>\n",
       "      <td>Hong Kong</td>\n",
       "      <td>41</td>\n",
       "      <td>205201.0</td>\n",
       "      <td>5004.902439</td>\n",
       "      <td>290.0</td>\n",
       "    </tr>\n",
       "    <tr>\n",
       "      <th>15287</th>\n",
       "      <td>Lion Rock CrossFit</td>\n",
       "      <td>Hong Kong</td>\n",
       "      <td>6</td>\n",
       "      <td>-11716.0</td>\n",
       "      <td>-1952.666667</td>\n",
       "      <td>8303.0</td>\n",
       "    </tr>\n",
       "    <tr>\n",
       "      <th>6960</th>\n",
       "      <td>CrossFit Typhoon</td>\n",
       "      <td>Hong Kong</td>\n",
       "      <td>10</td>\n",
       "      <td>-26480.0</td>\n",
       "      <td>-2648.000000</td>\n",
       "      <td>-4648.5</td>\n",
       "    </tr>\n",
       "    <tr>\n",
       "      <th>18157</th>\n",
       "      <td>Reebok CrossFit Asphodel</td>\n",
       "      <td>Hong Kong</td>\n",
       "      <td>22</td>\n",
       "      <td>-77357.0</td>\n",
       "      <td>-3516.227273</td>\n",
       "      <td>-5222.0</td>\n",
       "    </tr>\n",
       "    <tr>\n",
       "      <th>11248</th>\n",
       "      <td>CrossFit Cavaliers</td>\n",
       "      <td>Hong Kong</td>\n",
       "      <td>22</td>\n",
       "      <td>-93719.0</td>\n",
       "      <td>-4259.954545</td>\n",
       "      <td>162.5</td>\n",
       "    </tr>\n",
       "    <tr>\n",
       "      <th>5725</th>\n",
       "      <td>CrossFit 852</td>\n",
       "      <td>Hong Kong</td>\n",
       "      <td>44</td>\n",
       "      <td>-155654.0</td>\n",
       "      <td>-3537.590909</td>\n",
       "      <td>765.5</td>\n",
       "    </tr>\n",
       "    <tr>\n",
       "      <th>17460</th>\n",
       "      <td>CrossFit FPG</td>\n",
       "      <td>Hong Kong</td>\n",
       "      <td>17</td>\n",
       "      <td>-170945.0</td>\n",
       "      <td>-10055.588235</td>\n",
       "      <td>6581.0</td>\n",
       "    </tr>\n",
       "    <tr>\n",
       "      <th>15225</th>\n",
       "      <td>CrossFit Quarry Bay</td>\n",
       "      <td>Hong Kong</td>\n",
       "      <td>30</td>\n",
       "      <td>-684962.0</td>\n",
       "      <td>-22832.066667</td>\n",
       "      <td>-4756.0</td>\n",
       "    </tr>\n",
       "  </tbody>\n",
       "</table>\n",
       "</div>"
      ],
      "text/plain": [
       "                        Affiliate_name    Country  athletes_count  \\\n",
       "Affiliate_id                                                        \n",
       "6874                     CrossFit CFPT  Hong Kong              41   \n",
       "15287               Lion Rock CrossFit  Hong Kong               6   \n",
       "6960                  CrossFit Typhoon  Hong Kong              10   \n",
       "18157         Reebok CrossFit Asphodel  Hong Kong              22   \n",
       "11248               CrossFit Cavaliers  Hong Kong              22   \n",
       "5725                      CrossFit 852  Hong Kong              44   \n",
       "17460                     CrossFit FPG  Hong Kong              17   \n",
       "15225              CrossFit Quarry Bay  Hong Kong              30   \n",
       "\n",
       "              Total_rank_improved  Avg_rank_improved  Median_rank_improved  \n",
       "Affiliate_id                                                                \n",
       "6874                     205201.0        5004.902439                 290.0  \n",
       "15287                    -11716.0       -1952.666667                8303.0  \n",
       "6960                     -26480.0       -2648.000000               -4648.5  \n",
       "18157                    -77357.0       -3516.227273               -5222.0  \n",
       "11248                    -93719.0       -4259.954545                 162.5  \n",
       "5725                    -155654.0       -3537.590909                 765.5  \n",
       "17460                   -170945.0      -10055.588235                6581.0  \n",
       "15225                   -684962.0      -22832.066667               -4756.0  "
      ]
     },
     "execution_count": 65,
     "metadata": {},
     "output_type": "execute_result"
    }
   ],
   "source": [
    "df18ag[df18ag.Country == 'Hong Kong'].sort_values( by = 'Total_rank_improved', ascending = False).loc[:,l_display_a_col]"
   ]
  },
  {
   "cell_type": "markdown",
   "metadata": {},
   "source": [
    "#### How do those improvement in `Asia/Hong Kong` compare by distribution in a boxplot (to account for outliners)"
   ]
  },
  {
   "cell_type": "code",
   "execution_count": 69,
   "metadata": {},
   "outputs": [
    {
     "data": {
      "text/plain": [
       "<matplotlib.collections.LineCollection at 0x113da27f0>"
      ]
     },
     "execution_count": 69,
     "metadata": {},
     "output_type": "execute_result"
    },
    {
     "data": {
      "image/png": "[encoded data removed]",
      "text/plain": [
       "<Figure size 1080x720 with 1 Axes>"
      ]
     },
     "metadata": {},
     "output_type": "display_data"
    }
   ],
   "source": [
    "plt.figure(figsize=(15,10))\n",
    "sns.set(font_scale = 1.5, context = 'talk')\n",
    "g = sns.boxplot( data = df18a[ df18a.Country == 'Hong Kong'], \n",
    "            x = 'Affiliate_name', y = 'imp_z')\n",
    "g.set_xticklabels(g.get_xticklabels(), rotation=45)\n",
    "mean_z = df18a.imp_z.mean()\n",
    "g.hlines(mean_z, g.get_xlim()[0], g.get_xlim()[1], color = 'r')"
   ]
  },
  {
   "cell_type": "markdown",
   "metadata": {},
   "source": [
    "#### Are there noticeable improvement differences between Male and Female athletes in `Asia/Hong Kong`?"
   ]
  },
  {
   "cell_type": "code",
   "execution_count": 73,
   "metadata": {},
   "outputs": [
    {
     "name": "stderr",
     "output_type": "stream",
     "text": [
      "/Users/JHO/.virtualenvs/accelerateHK3/lib/python3.6/site-packages/scipy/stats/stats.py:1706: FutureWarning: Using a non-tuple sequence for multidimensional indexing is deprecated; use `arr[tuple(seq)]` instead of `arr[seq]`. In the future this will be interpreted as an array index, `arr[np.array(seq)]`, which will result either in an error or a different result.\n",
      "  return np.add.reduce(sorted[indexer] * weights, axis=axis) / sumval\n"
     ]
    },
    {
     "data": {
      "text/plain": [
       "<matplotlib.collections.LineCollection at 0x11464edd8>"
      ]
     },
     "execution_count": 73,
     "metadata": {},
     "output_type": "execute_result"
    },
    {
     "data": {
      "image/png": "[encoded data removed]",
      "text/plain": [
       "<Figure size 1080x720 with 1 Axes>"
      ]
     },
     "metadata": {},
     "output_type": "display_data"
    }
   ],
   "source": [
    "plt.figure(figsize=(15,10))\n",
    "sns.set(font_scale = 1, context = 'talk')\n",
    "g = sns.violinplot( data = df18a[ df18a.Country == 'Hong Kong'], \n",
    "            x = 'Affiliate_name', y = 'imp_z', hue = 'Sex', split=True,\n",
    "            palette = ['r','b'])\n",
    "g.set_xticklabels(g.get_xticklabels(), rotation=90)\n",
    "mean_z = df18a.imp_z.mean()\n",
    "g.hlines(mean_z, g.get_xlim()[0], g.get_xlim()[1], color = 'r')"
   ]
  },
  {
   "cell_type": "markdown",
   "metadata": {},
   "source": [
    "#### Also what's the survivibility of the 'Open Athlete' by gyms in `Asia/Hong Kong`?"
   ]
  },
  {
   "cell_type": "code",
   "execution_count": 106,
   "metadata": {},
   "outputs": [
    {
     "data": {
      "text/html": [
       "<div>\n",
       "<style scoped>\n",
       "    .dataframe tbody tr th:only-of-type {\n",
       "        vertical-align: middle;\n",
       "    }\n",
       "\n",
       "    .dataframe tbody tr th {\n",
       "        vertical-align: top;\n",
       "    }\n",
       "\n",
       "    .dataframe thead th {\n",
       "        text-align: right;\n",
       "    }\n",
       "</style>\n",
       "<table border=\"1\" class=\"dataframe\">\n",
       "  <thead>\n",
       "    <tr style=\"text-align: right;\">\n",
       "      <th></th>\n",
       "      <th>Affiliate_name</th>\n",
       "      <th>Country</th>\n",
       "      <th>Athlete_count_2018</th>\n",
       "      <th>Athlete_2018_repeat_count</th>\n",
       "      <th>survival_rate</th>\n",
       "    </tr>\n",
       "    <tr>\n",
       "      <th>Affiliate_id</th>\n",
       "      <th></th>\n",
       "      <th></th>\n",
       "      <th></th>\n",
       "      <th></th>\n",
       "      <th></th>\n",
       "    </tr>\n",
       "  </thead>\n",
       "  <tbody>\n",
       "    <tr>\n",
       "      <th>5725</th>\n",
       "      <td>CrossFit 852</td>\n",
       "      <td>Hong Kong</td>\n",
       "      <td>59</td>\n",
       "      <td>44.0</td>\n",
       "      <td>0.745763</td>\n",
       "    </tr>\n",
       "    <tr>\n",
       "      <th>11248</th>\n",
       "      <td>CrossFit Cavaliers</td>\n",
       "      <td>Hong Kong</td>\n",
       "      <td>32</td>\n",
       "      <td>22.0</td>\n",
       "      <td>0.687500</td>\n",
       "    </tr>\n",
       "    <tr>\n",
       "      <th>6874</th>\n",
       "      <td>CrossFit CFPT</td>\n",
       "      <td>Hong Kong</td>\n",
       "      <td>62</td>\n",
       "      <td>41.0</td>\n",
       "      <td>0.661290</td>\n",
       "    </tr>\n",
       "    <tr>\n",
       "      <th>18157</th>\n",
       "      <td>Reebok CrossFit Asphodel</td>\n",
       "      <td>Hong Kong</td>\n",
       "      <td>36</td>\n",
       "      <td>22.0</td>\n",
       "      <td>0.611111</td>\n",
       "    </tr>\n",
       "    <tr>\n",
       "      <th>15225</th>\n",
       "      <td>CrossFit Quarry Bay</td>\n",
       "      <td>Hong Kong</td>\n",
       "      <td>51</td>\n",
       "      <td>30.0</td>\n",
       "      <td>0.588235</td>\n",
       "    </tr>\n",
       "    <tr>\n",
       "      <th>17460</th>\n",
       "      <td>CrossFit FPG</td>\n",
       "      <td>Hong Kong</td>\n",
       "      <td>29</td>\n",
       "      <td>17.0</td>\n",
       "      <td>0.586207</td>\n",
       "    </tr>\n",
       "    <tr>\n",
       "      <th>15287</th>\n",
       "      <td>Lion Rock CrossFit</td>\n",
       "      <td>Hong Kong</td>\n",
       "      <td>14</td>\n",
       "      <td>6.0</td>\n",
       "      <td>0.428571</td>\n",
       "    </tr>\n",
       "    <tr>\n",
       "      <th>6960</th>\n",
       "      <td>CrossFit Typhoon</td>\n",
       "      <td>Hong Kong</td>\n",
       "      <td>29</td>\n",
       "      <td>10.0</td>\n",
       "      <td>0.344828</td>\n",
       "    </tr>\n",
       "  </tbody>\n",
       "</table>\n",
       "</div>"
      ],
      "text/plain": [
       "                        Affiliate_name    Country  Athlete_count_2018  \\\n",
       "Affiliate_id                                                            \n",
       "5725                      CrossFit 852  Hong Kong                  59   \n",
       "11248               CrossFit Cavaliers  Hong Kong                  32   \n",
       "6874                     CrossFit CFPT  Hong Kong                  62   \n",
       "18157         Reebok CrossFit Asphodel  Hong Kong                  36   \n",
       "15225              CrossFit Quarry Bay  Hong Kong                  51   \n",
       "17460                     CrossFit FPG  Hong Kong                  29   \n",
       "15287               Lion Rock CrossFit  Hong Kong                  14   \n",
       "6960                  CrossFit Typhoon  Hong Kong                  29   \n",
       "\n",
       "              Athlete_2018_repeat_count  survival_rate  \n",
       "Affiliate_id                                            \n",
       "5725                               44.0       0.745763  \n",
       "11248                              22.0       0.687500  \n",
       "6874                               41.0       0.661290  \n",
       "18157                              22.0       0.611111  \n",
       "15225                              30.0       0.588235  \n",
       "17460                              17.0       0.586207  \n",
       "15287                               6.0       0.428571  \n",
       "6960                               10.0       0.344828  "
      ]
     },
     "execution_count": 106,
     "metadata": {},
     "output_type": "execute_result"
    }
   ],
   "source": [
    "def dfGet(in_df, keyCol, inkey, getcol):\n",
    "    dfilter = in_df[keyCol]== inkey\n",
    "    if sum(dfilter)==0:\n",
    "        return np.nan\n",
    "    else:\n",
    "        return in_df[dfilter][getcol].values[0]\n",
    "\n",
    "df18s = df18_\n",
    "df18s['Athlete_2018_repeat_count'] = df18s.Affiliate_name.apply(lambda x: dfGet(df18ag, 'Affiliate_name',x,'athletes_count'))\n",
    "df18s['survival_rate'] = df18s['Athlete_2018_repeat_count']/ df18s['Athlete_count_2018']\n",
    "\n",
    "l_display_a_col = ['Affiliate_name','Country','Athlete_count_2018','Athlete_2018_repeat_count','survival_rate']\n",
    "df18s[df18s.Country == 'Hong Kong'].sort_values( by = 'survival_rate', ascending = False).loc[:, l_display_a_col]"
   ]
  },
  {
   "cell_type": "code",
   "execution_count": 115,
   "metadata": {},
   "outputs": [
    {
     "data": {
      "text/plain": [
       "Text(0.5,1,'Open Athlete Survival Rate')"
      ]
     },
     "execution_count": 115,
     "metadata": {},
     "output_type": "execute_result"
    },
    {
     "data": {
      "image/png": "[encoded data removed]",
      "text/plain": [
       "<Figure size 1080x720 with 1 Axes>"
      ]
     },
     "metadata": {},
     "output_type": "display_data"
    }
   ],
   "source": [
    "plt.figure(figsize=(15,10))\n",
    "sns.set(font_scale = 1.5, context = 'talk')\n",
    "g = sns.barplot( data = df18s[ df18s.Country == 'Hong Kong'], \n",
    "            x = 'Affiliate_name', y = 'survival_rate')\n",
    "g.set_xticklabels(g.get_xticklabels(), rotation=45)\n",
    "g.set_title('Open Athlete Survival Rate')"
   ]
  },
  {
   "cell_type": "markdown",
   "metadata": {},
   "source": [
    "## What does this all mean?\n",
    "* Keep at it! Repeat athletes found 1% global ranking improvement on average! And [one percent](https://jamesclear.com/marginal-gains) goes a long way!\n",
    "\n",
    "* With this analysis, we can help someone identify where's a good gym to join if they are visiting or moving to a new city (maybe even write a Plot.ly interactive web app??)\n",
    "\n",
    "### What's Next?\n",
    "Using the same dataset we will answer\n",
    "* which country to move to if you want to become a [2019 Crossfit Game](https://morningchalkup.com/2018/08/23/how-greg-glassman-is-reshaping-the-crossfit-games/) athlete? Taking into account the competitiveness of the country, quality of life, and coaching jobs available.\n",
    "* Analyze performance by Weight Class! To answer the question, what if Crossfit have weight categories?"
   ]
  }
 ],
 "metadata": {
  "kernelspec": {
   "display_name": "Python 3",
   "language": "python",
   "name": "python3"
  },
  "language_info": {
   "codemirror_mode": {
    "name": "ipython",
    "version": 3
   },
   "file_extension": ".py",
   "mimetype": "text/x-python",
   "name": "python",
   "nbconvert_exporter": "python",
   "pygments_lexer": "ipython3",
   "version": "3.6.3"
  }
 },
 "nbformat": 4,
 "nbformat_minor": 2
}
