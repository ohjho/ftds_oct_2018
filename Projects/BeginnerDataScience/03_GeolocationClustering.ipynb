{
 "cells": [
  {
   "cell_type": "markdown",
   "metadata": {},
   "source": [
    "### Reference\n",
    "[Geolocation clustering a Paris Vacation](https://towardsdatascience.com/using-unsupervised-learning-to-plan-a-paris-vacation-geo-location-clustering-d0337b4210de): used K-Means and recommended HDBSCAN  \n",
    "[KMeans Clustering of Geolocation](https://www.kaggle.com/xxing9703/kmean-clustering-of-latitude-and-longitude#)"
   ]
  },
  {
   "cell_type": "code",
   "execution_count": 280,
   "metadata": {},
   "outputs": [],
   "source": [
    "import requests, json # for getting data\n",
    "from urllib.parse import urlencode\n",
    "from time import sleep\n",
    "from datetime import datetime\n",
    "\n",
    "import pandas as pd\n",
    "import numpy as np"
   ]
  },
  {
   "cell_type": "code",
   "execution_count": 42,
   "metadata": {},
   "outputs": [],
   "source": [
    "fname = 'data/centadata_clean.csv'\n",
    "data = pd.read_csv( fname, index_col = 0 )"
   ]
  },
  {
   "cell_type": "code",
   "execution_count": 43,
   "metadata": {},
   "outputs": [],
   "source": [
    "addresses = data['buildingaddress'].unique()"
   ]
  },
  {
   "cell_type": "code",
   "execution_count": 56,
   "metadata": {},
   "outputs": [
    {
     "name": "stdout",
     "output_type": "stream",
     "text": [
      "There are 9,496 building addresses to lookup.\n"
     ]
    }
   ],
   "source": [
    "print( f'There are {\"{:,}\".format(len(addresses))} building addresses to lookup.')\n",
    "geo_dict = { key : '' for key in addresses}"
   ]
  },
  {
   "cell_type": "code",
   "execution_count": 90,
   "metadata": {},
   "outputs": [],
   "source": [
    "def geocode( in_address, giveLatLon = True):\n",
    "    url = \"https://www.als.ogcio.gov.hk/lookup\"\n",
    "    headers = { 'Accept': 'application/json'}\n",
    "    params = {\n",
    "        \"q\": in_address,\n",
    "        'n': 1\n",
    "    }\n",
    "    data = requests.post(url, headers = headers, data = params)\n",
    "    \n",
    "    if data.status_code == 200:\n",
    "        djson = json.loads( data.text )\n",
    "        \n",
    "        try:\n",
    "            geodata = djson['SuggestedAddress'][0]['Address']['PremisesAddress']['GeospatialInformation'][0]\n",
    "        except KeyError:\n",
    "            # no likely no SuggestedAddress\n",
    "            return None\n",
    "        \n",
    "        if giveLatLon:\n",
    "            return ( float(geodata['Latitude']), float(geodata['Longitude']))\n",
    "        else:\n",
    "            geodata\n",
    "    else:\n",
    "        return None"
   ]
  },
  {
   "cell_type": "code",
   "execution_count": 47,
   "metadata": {},
   "outputs": [],
   "source": [
    "# ----------------------------\n",
    "# ref: https://gist.github.com/vladignatyev/06860ec2040cb497f0f3\n",
    "# ----------------------------\n",
    "import sys\n",
    "\n",
    "def progress(count, total, status=''):\n",
    "    bar_len = 60\n",
    "    filled_len = int(round(bar_len * count / float(total)))\n",
    "\n",
    "    percents = round(100.0 * count / float(total), 1)\n",
    "    bar = '=' * filled_len + '-' * (bar_len - filled_len)\n",
    "\n",
    "    sys.stdout.write('[%s] %s%s ...%s\\r' % (bar, percents, '%', status))\n",
    "    sys.stdout.flush()"
   ]
  },
  {
   "cell_type": "code",
   "execution_count": 162,
   "metadata": {},
   "outputs": [],
   "source": [
    "def BuildGeoDict( geo_dict , tmp_fname = None ):\n",
    "    counter = 0\n",
    "\n",
    "    for addr in geo_dict:\n",
    "        if geo_dict[ addr ] == '':\n",
    "            try:\n",
    "                counter += 1\n",
    "                igcode = geocode( addr)\n",
    "                if igcode:\n",
    "                    geo_dict[addr] = igcode\n",
    "\n",
    "                if counter % 50 == 0:\n",
    "                    # take a break every 50 address\n",
    "                    progress( counter, len(geo_dict), status = 'Geocoding Building Addresses')\n",
    "                    rest_s = np.random.randint(1,5)\n",
    "                    sleep( rest_s)\n",
    "                    \n",
    "                    # make a backup\n",
    "                    if tmp_fname != None:\n",
    "                        with open( tmp_fname, 'w') as outfile:\n",
    "                            json.dump(geo_dict, outfile)\n",
    "\n",
    "            except ValueError:    # this will catch all exceptions\n",
    "                print(f'Unexpected error coding {addr}: {sys.exc_info()[0]}\\nContinuing with next address...')\n",
    "        else:\n",
    "            pass\n",
    "    \n",
    "    progress( 100, 100, status = 'Geocoding Completed.')\n",
    "    print( f'Fetched {counter} buildings geocodes and written temporary json data to {tmp_fname}')\n",
    "    return geo_dict"
   ]
  },
  {
   "cell_type": "markdown",
   "metadata": {},
   "source": [
    "*Legacy*: read data from CSV"
   ]
  },
  {
   "cell_type": "code",
   "execution_count": 163,
   "metadata": {},
   "outputs": [],
   "source": [
    "fname_csv = 'data/building_geocode.csv'\n",
    "tmp_fname = 'data/tmp_building_geocode.json'\n",
    "df_tmp = pd.read_csv( fname_csv, index_col = 0)\n",
    "\n",
    "df_tmp['latlon'] = df_tmp.apply( lambda x: '' if np.isnan(x.Lat) else (x.Lat, x.Lon),axis =1)\n",
    "addr_geo_dict = { key : latlon for key, latlon in zip( df_tmp.index, df_tmp.latlon ) }\n",
    "\n",
    "fname_json = 'data/building_geocode.json'\n",
    "with open( fname_json, 'w') as fh:\n",
    "    json.dump( addr_geo_dict, fh)"
   ]
  },
  {
   "cell_type": "markdown",
   "metadata": {},
   "source": [
    "Load what we already have in `data/building_geocode.json` and finish getting geocode,  \n",
    "write the output in the end back to the json file"
   ]
  },
  {
   "cell_type": "code",
   "execution_count": 164,
   "metadata": {},
   "outputs": [
    {
     "name": "stdout",
     "output_type": "stream",
     "text": [
      "[============================================================] 100.0% ...Geocoding Completed.dresses\r"
     ]
    }
   ],
   "source": [
    "fname_json = 'data/building_geocode.json'\n",
    "tmp_fname = 'data/tmp_building_geocode.json'\n",
    "\n",
    "with open(fname_json, 'r') as fh:\n",
    "    jdata = fh.read()\n",
    "addr_geo_dict = json.loads(jdata)\n",
    "\n",
    "out_dict = BuildGeoDict( addr_geo_dict, tmp_fname = tmp_fname)\n",
    "with open( fname_json, 'w') as fh:\n",
    "    json.dump( out_dict, fh)"
   ]
  },
  {
   "cell_type": "markdown",
   "metadata": {},
   "source": [
    "Load the JSON back into a Dataframe for use"
   ]
  },
  {
   "cell_type": "code",
   "execution_count": 187,
   "metadata": {},
   "outputs": [
    {
     "name": "stdout",
     "output_type": "stream",
     "text": [
      "There are 19 buildings missing geocode.\n"
     ]
    },
    {
     "data": {
      "text/html": [
       "<div>\n",
       "<style scoped>\n",
       "    .dataframe tbody tr th:only-of-type {\n",
       "        vertical-align: middle;\n",
       "    }\n",
       "\n",
       "    .dataframe tbody tr th {\n",
       "        vertical-align: top;\n",
       "    }\n",
       "\n",
       "    .dataframe thead th {\n",
       "        text-align: right;\n",
       "    }\n",
       "</style>\n",
       "<table border=\"1\" class=\"dataframe\">\n",
       "  <thead>\n",
       "    <tr style=\"text-align: right;\">\n",
       "      <th></th>\n",
       "      <th>Lat</th>\n",
       "      <th>Lon</th>\n",
       "    </tr>\n",
       "  </thead>\n",
       "  <tbody>\n",
       "    <tr>\n",
       "      <th>21 FAIRVIEW PARK SECTION C, 6TH STREET</th>\n",
       "      <td>NaN</td>\n",
       "      <td>NaN</td>\n",
       "    </tr>\n",
       "    <tr>\n",
       "      <th>11 FAIRVIEW PARK SECTION C, 6TH STREET</th>\n",
       "      <td>NaN</td>\n",
       "      <td>NaN</td>\n",
       "    </tr>\n",
       "    <tr>\n",
       "      <th>16 FAIRVIEW PARK SECTION B, 6TH STREET</th>\n",
       "      <td>NaN</td>\n",
       "      <td>NaN</td>\n",
       "    </tr>\n",
       "    <tr>\n",
       "      <th>3 FAIRVIEW PARK SECTION C, 1ST STREET</th>\n",
       "      <td>NaN</td>\n",
       "      <td>NaN</td>\n",
       "    </tr>\n",
       "    <tr>\n",
       "      <th>7 FAIRVIEW PARK SECTION C, 1ST STREET</th>\n",
       "      <td>NaN</td>\n",
       "      <td>NaN</td>\n",
       "    </tr>\n",
       "  </tbody>\n",
       "</table>\n",
       "</div>"
      ],
      "text/plain": [
       "                                        Lat  Lon\n",
       "21 FAIRVIEW PARK SECTION C, 6TH STREET  NaN  NaN\n",
       "11 FAIRVIEW PARK SECTION C, 6TH STREET  NaN  NaN\n",
       "16 FAIRVIEW PARK SECTION B, 6TH STREET  NaN  NaN\n",
       "3 FAIRVIEW PARK SECTION C, 1ST STREET   NaN  NaN\n",
       "7 FAIRVIEW PARK SECTION C, 1ST STREET   NaN  NaN"
      ]
     },
     "execution_count": 187,
     "metadata": {},
     "output_type": "execute_result"
    }
   ],
   "source": [
    "clean_dict = {key : tuple( out_dict[key]) for key in out_dict}\n",
    "df_geo = pd.DataFrame.from_dict(clean_dict, orient = 'index', columns = ['Lat', 'Lon'])\n",
    "\n",
    "missing_addr = df_geo[ df_geo.Lat.isna()]\n",
    "print(f'There are {len(missing_addr)} buildings missing geocode.')\n",
    "\n",
    "missing_addr.head()"
   ]
  },
  {
   "cell_type": "markdown",
   "metadata": {},
   "source": [
    "Let's manually geocode these few missing geocode"
   ]
  },
  {
   "cell_type": "code",
   "execution_count": 220,
   "metadata": {
    "scrolled": true
   },
   "outputs": [],
   "source": [
    "import re\n",
    "def manualGeo( addr ):\n",
    "    m = re.search(r'(.+)SECTION', addr)\n",
    "    if m is None:\n",
    "        return None\n",
    "    else:\n",
    "        new_addr = m.group(1)\n",
    "        return geocode(new_addr)\n",
    "\n",
    "df_bgeo = df_geo.reset_index().rename(columns = {'index': 'building_address'})\n",
    "df_bgeo['latlon'] = df_bgeo.apply(\n",
    "     lambda x: manualGeo( x.building_address ) if np.isnan(x.Lat) else (x.Lat, x.Lon), axis=1)\n",
    "\n",
    "#df_bgeo.at[df_bgeo.Lat.isna(),['Lat']] = df_bgeo[df_geo.Lat.isna()]['building_address'].apply( manualGeo)"
   ]
  },
  {
   "cell_type": "code",
   "execution_count": 222,
   "metadata": {},
   "outputs": [
    {
     "data": {
      "text/html": [
       "<div>\n",
       "<style scoped>\n",
       "    .dataframe tbody tr th:only-of-type {\n",
       "        vertical-align: middle;\n",
       "    }\n",
       "\n",
       "    .dataframe tbody tr th {\n",
       "        vertical-align: top;\n",
       "    }\n",
       "\n",
       "    .dataframe thead th {\n",
       "        text-align: right;\n",
       "    }\n",
       "</style>\n",
       "<table border=\"1\" class=\"dataframe\">\n",
       "  <thead>\n",
       "    <tr style=\"text-align: right;\">\n",
       "      <th></th>\n",
       "      <th>building_address</th>\n",
       "      <th>Lat</th>\n",
       "      <th>Lon</th>\n",
       "      <th>latlon</th>\n",
       "    </tr>\n",
       "  </thead>\n",
       "  <tbody>\n",
       "    <tr>\n",
       "      <th>7515</th>\n",
       "      <td>21 FAIRVIEW PARK SECTION C, 6TH STREET</td>\n",
       "      <td>NaN</td>\n",
       "      <td>NaN</td>\n",
       "      <td>(22.479, 114.0508)</td>\n",
       "    </tr>\n",
       "    <tr>\n",
       "      <th>7516</th>\n",
       "      <td>11 FAIRVIEW PARK SECTION C, 6TH STREET</td>\n",
       "      <td>NaN</td>\n",
       "      <td>NaN</td>\n",
       "      <td>(22.4807, 114.0508)</td>\n",
       "    </tr>\n",
       "    <tr>\n",
       "      <th>7517</th>\n",
       "      <td>16 FAIRVIEW PARK SECTION B, 6TH STREET</td>\n",
       "      <td>NaN</td>\n",
       "      <td>NaN</td>\n",
       "      <td>(22.4796, 114.0504)</td>\n",
       "    </tr>\n",
       "    <tr>\n",
       "      <th>7518</th>\n",
       "      <td>3 FAIRVIEW PARK SECTION C, 1ST STREET</td>\n",
       "      <td>NaN</td>\n",
       "      <td>NaN</td>\n",
       "      <td>(22.4849, 114.0445)</td>\n",
       "    </tr>\n",
       "    <tr>\n",
       "      <th>7519</th>\n",
       "      <td>36 FAIRVIEW PARK SECTION B, 4TH STREET</td>\n",
       "      <td>22.2250</td>\n",
       "      <td>114.1120</td>\n",
       "      <td>(22.225, 114.112)</td>\n",
       "    </tr>\n",
       "    <tr>\n",
       "      <th>7520</th>\n",
       "      <td>23 FAIRVIEW PARK SECTION C, 3RD STREET</td>\n",
       "      <td>22.2040</td>\n",
       "      <td>114.0323</td>\n",
       "      <td>(22.204, 114.0323)</td>\n",
       "    </tr>\n",
       "    <tr>\n",
       "      <th>7521</th>\n",
       "      <td>7 FAIRVIEW PARK SECTION C, 1ST STREET</td>\n",
       "      <td>NaN</td>\n",
       "      <td>NaN</td>\n",
       "      <td>(22.4746, 114.043)</td>\n",
       "    </tr>\n",
       "    <tr>\n",
       "      <th>7522</th>\n",
       "      <td>31 FAIRVIEW PARK SECTION C, 4TH STREET</td>\n",
       "      <td>22.4652</td>\n",
       "      <td>114.1425</td>\n",
       "      <td>(22.4652, 114.1425)</td>\n",
       "    </tr>\n",
       "    <tr>\n",
       "      <th>7523</th>\n",
       "      <td>2 FAIRVIEW PARK SECTION B, 1ST STREET</td>\n",
       "      <td>NaN</td>\n",
       "      <td>NaN</td>\n",
       "      <td>(22.485, 114.0444)</td>\n",
       "    </tr>\n",
       "    <tr>\n",
       "      <th>7524</th>\n",
       "      <td>14 FAIRVIEW PARK SECTION C, 6TH STREET</td>\n",
       "      <td>NaN</td>\n",
       "      <td>NaN</td>\n",
       "      <td>(22.4795, 114.0503)</td>\n",
       "    </tr>\n",
       "  </tbody>\n",
       "</table>\n",
       "</div>"
      ],
      "text/plain": [
       "                            building_address      Lat       Lon  \\\n",
       "7515  21 FAIRVIEW PARK SECTION C, 6TH STREET      NaN       NaN   \n",
       "7516  11 FAIRVIEW PARK SECTION C, 6TH STREET      NaN       NaN   \n",
       "7517  16 FAIRVIEW PARK SECTION B, 6TH STREET      NaN       NaN   \n",
       "7518   3 FAIRVIEW PARK SECTION C, 1ST STREET      NaN       NaN   \n",
       "7519  36 FAIRVIEW PARK SECTION B, 4TH STREET  22.2250  114.1120   \n",
       "7520  23 FAIRVIEW PARK SECTION C, 3RD STREET  22.2040  114.0323   \n",
       "7521   7 FAIRVIEW PARK SECTION C, 1ST STREET      NaN       NaN   \n",
       "7522  31 FAIRVIEW PARK SECTION C, 4TH STREET  22.4652  114.1425   \n",
       "7523   2 FAIRVIEW PARK SECTION B, 1ST STREET      NaN       NaN   \n",
       "7524  14 FAIRVIEW PARK SECTION C, 6TH STREET      NaN       NaN   \n",
       "\n",
       "                   latlon  \n",
       "7515   (22.479, 114.0508)  \n",
       "7516  (22.4807, 114.0508)  \n",
       "7517  (22.4796, 114.0504)  \n",
       "7518  (22.4849, 114.0445)  \n",
       "7519    (22.225, 114.112)  \n",
       "7520   (22.204, 114.0323)  \n",
       "7521   (22.4746, 114.043)  \n",
       "7522  (22.4652, 114.1425)  \n",
       "7523   (22.485, 114.0444)  \n",
       "7524  (22.4795, 114.0503)  "
      ]
     },
     "execution_count": 222,
     "metadata": {},
     "output_type": "execute_result"
    }
   ],
   "source": [
    "df_bgeo.iloc[7515:,:].head(10)"
   ]
  },
  {
   "cell_type": "code",
   "execution_count": 298,
   "metadata": {},
   "outputs": [],
   "source": [
    "for addr in clean_dict:\n",
    "    if clean_dict[addr] == ():\n",
    "        clean_dict[addr] = manualGeo(addr)\n",
    "        \n",
    "data['latlon'] = data.buildingaddress.apply( lambda x: clean_dict[x])"
   ]
  },
  {
   "cell_type": "code",
   "execution_count": 299,
   "metadata": {},
   "outputs": [
    {
     "data": {
      "text/html": [
       "<div>\n",
       "<style scoped>\n",
       "    .dataframe tbody tr th:only-of-type {\n",
       "        vertical-align: middle;\n",
       "    }\n",
       "\n",
       "    .dataframe tbody tr th {\n",
       "        vertical-align: top;\n",
       "    }\n",
       "\n",
       "    .dataframe thead th {\n",
       "        text-align: right;\n",
       "    }\n",
       "</style>\n",
       "<table border=\"1\" class=\"dataframe\">\n",
       "  <thead>\n",
       "    <tr style=\"text-align: right;\">\n",
       "      <th></th>\n",
       "      <th>txdate</th>\n",
       "      <th>price</th>\n",
       "      <th>saleablearea</th>\n",
       "      <th>xaxis</th>\n",
       "      <th>yaxis</th>\n",
       "      <th>buildingaddress</th>\n",
       "      <th>dateofcompletion</th>\n",
       "      <th>numberofunits</th>\n",
       "      <th>numberoffloors</th>\n",
       "      <th>flatsperfloor</th>\n",
       "      <th>...</th>\n",
       "      <th>price_per_sqf</th>\n",
       "      <th>flat_type</th>\n",
       "      <th>floor_number</th>\n",
       "      <th>building_age</th>\n",
       "      <th>deal_age</th>\n",
       "      <th>deal_year</th>\n",
       "      <th>schoolnet_en</th>\n",
       "      <th>latlon</th>\n",
       "      <th>adj_price_per_sqf</th>\n",
       "      <th>haslatlon</th>\n",
       "    </tr>\n",
       "  </thead>\n",
       "  <tbody>\n",
       "    <tr>\n",
       "      <th>0</th>\n",
       "      <td>2017-02-16</td>\n",
       "      <td>2880000</td>\n",
       "      <td>392.0</td>\n",
       "      <td>NO. 205A</td>\n",
       "      <td>2/F</td>\n",
       "      <td>205A TUNG CHOI STREET</td>\n",
       "      <td>1963-08-01</td>\n",
       "      <td>8</td>\n",
       "      <td>8</td>\n",
       "      <td>1</td>\n",
       "      <td>...</td>\n",
       "      <td>7346.938776</td>\n",
       "      <td>n</td>\n",
       "      <td>2</td>\n",
       "      <td>55.301848</td>\n",
       "      <td>641</td>\n",
       "      <td>2017</td>\n",
       "      <td>Kowloon district No. 32 school network</td>\n",
       "      <td>(22.3231, 114.1696)</td>\n",
       "      <td>8991.196804</td>\n",
       "      <td>True</td>\n",
       "    </tr>\n",
       "    <tr>\n",
       "      <th>1</th>\n",
       "      <td>2018-01-11</td>\n",
       "      <td>3000000</td>\n",
       "      <td>392.0</td>\n",
       "      <td>NO. 205A</td>\n",
       "      <td>3/F</td>\n",
       "      <td>205A TUNG CHOI STREET</td>\n",
       "      <td>1963-08-01</td>\n",
       "      <td>8</td>\n",
       "      <td>8</td>\n",
       "      <td>1</td>\n",
       "      <td>...</td>\n",
       "      <td>7653.061224</td>\n",
       "      <td>n</td>\n",
       "      <td>3</td>\n",
       "      <td>55.301848</td>\n",
       "      <td>312</td>\n",
       "      <td>2018</td>\n",
       "      <td>Kowloon district No. 32 school network</td>\n",
       "      <td>(22.3231, 114.1696)</td>\n",
       "      <td>8261.302969</td>\n",
       "      <td>True</td>\n",
       "    </tr>\n",
       "    <tr>\n",
       "      <th>2</th>\n",
       "      <td>2017-06-26</td>\n",
       "      <td>51000000</td>\n",
       "      <td>1912.0</td>\n",
       "      <td>NO. 4B</td>\n",
       "      <td>5/F</td>\n",
       "      <td>4A-4B WONG NAI CHUNG GAP ROAD</td>\n",
       "      <td>1965-09-01</td>\n",
       "      <td>8</td>\n",
       "      <td>8</td>\n",
       "      <td>1</td>\n",
       "      <td>...</td>\n",
       "      <td>26673.640167</td>\n",
       "      <td>n</td>\n",
       "      <td>5</td>\n",
       "      <td>53.215606</td>\n",
       "      <td>511</td>\n",
       "      <td>2017</td>\n",
       "      <td>Hong Kong District No. 12 school network</td>\n",
       "      <td>(22.2629, 114.1854)</td>\n",
       "      <td>30122.817775</td>\n",
       "      <td>True</td>\n",
       "    </tr>\n",
       "    <tr>\n",
       "      <th>3</th>\n",
       "      <td>2018-03-21</td>\n",
       "      <td>4150000</td>\n",
       "      <td>294.0</td>\n",
       "      <td>FLAT B</td>\n",
       "      <td>16/F</td>\n",
       "      <td>98 TSEUK LUK STREET</td>\n",
       "      <td>1999-01-01</td>\n",
       "      <td>30</td>\n",
       "      <td>15</td>\n",
       "      <td>2</td>\n",
       "      <td>...</td>\n",
       "      <td>14115.646259</td>\n",
       "      <td>n</td>\n",
       "      <td>16</td>\n",
       "      <td>19.882272</td>\n",
       "      <td>243</td>\n",
       "      <td>2018</td>\n",
       "      <td>Kowloon district No. 43 school network</td>\n",
       "      <td>(22.335, 114.1975)</td>\n",
       "      <td>14725.757578</td>\n",
       "      <td>True</td>\n",
       "    </tr>\n",
       "    <tr>\n",
       "      <th>4</th>\n",
       "      <td>2017-11-28</td>\n",
       "      <td>5250000</td>\n",
       "      <td>530.0</td>\n",
       "      <td>FLAT B</td>\n",
       "      <td>8/F</td>\n",
       "      <td>54-58 SOUTH WALL ROAD</td>\n",
       "      <td>1969-10-01</td>\n",
       "      <td>32</td>\n",
       "      <td>9</td>\n",
       "      <td>4</td>\n",
       "      <td>...</td>\n",
       "      <td>9905.660377</td>\n",
       "      <td>n</td>\n",
       "      <td>8</td>\n",
       "      <td>49.133470</td>\n",
       "      <td>356</td>\n",
       "      <td>2017</td>\n",
       "      <td>Kowloon district No. 41 school network</td>\n",
       "      <td>(22.3298, 114.1911)</td>\n",
       "      <td>10919.178555</td>\n",
       "      <td>True</td>\n",
       "    </tr>\n",
       "  </tbody>\n",
       "</table>\n",
       "<p>5 rows × 22 columns</p>\n",
       "</div>"
      ],
      "text/plain": [
       "      txdate     price  saleablearea     xaxis yaxis  \\\n",
       "0 2017-02-16   2880000         392.0  NO. 205A   2/F   \n",
       "1 2018-01-11   3000000         392.0  NO. 205A   3/F   \n",
       "2 2017-06-26  51000000        1912.0    NO. 4B   5/F   \n",
       "3 2018-03-21   4150000         294.0    FLAT B  16/F   \n",
       "4 2017-11-28   5250000         530.0    FLAT B   8/F   \n",
       "\n",
       "                 buildingaddress dateofcompletion  numberofunits  \\\n",
       "0          205A TUNG CHOI STREET       1963-08-01              8   \n",
       "1          205A TUNG CHOI STREET       1963-08-01              8   \n",
       "2  4A-4B WONG NAI CHUNG GAP ROAD       1965-09-01              8   \n",
       "3            98 TSEUK LUK STREET       1999-01-01             30   \n",
       "4          54-58 SOUTH WALL ROAD       1969-10-01             32   \n",
       "\n",
       "   numberoffloors  flatsperfloor    ...    price_per_sqf flat_type  \\\n",
       "0               8              1    ...      7346.938776         n   \n",
       "1               8              1    ...      7653.061224         n   \n",
       "2               8              1    ...     26673.640167         n   \n",
       "3              15              2    ...     14115.646259         n   \n",
       "4               9              4    ...      9905.660377         n   \n",
       "\n",
       "   floor_number building_age  deal_age  deal_year  \\\n",
       "0             2    55.301848       641       2017   \n",
       "1             3    55.301848       312       2018   \n",
       "2             5    53.215606       511       2017   \n",
       "3            16    19.882272       243       2018   \n",
       "4             8    49.133470       356       2017   \n",
       "\n",
       "                               schoolnet_en               latlon  \\\n",
       "0    Kowloon district No. 32 school network  (22.3231, 114.1696)   \n",
       "1    Kowloon district No. 32 school network  (22.3231, 114.1696)   \n",
       "2  Hong Kong District No. 12 school network  (22.2629, 114.1854)   \n",
       "3    Kowloon district No. 43 school network   (22.335, 114.1975)   \n",
       "4    Kowloon district No. 41 school network  (22.3298, 114.1911)   \n",
       "\n",
       "  adj_price_per_sqf haslatlon  \n",
       "0       8991.196804      True  \n",
       "1       8261.302969      True  \n",
       "2      30122.817775      True  \n",
       "3      14725.757578      True  \n",
       "4      10919.178555      True  \n",
       "\n",
       "[5 rows x 22 columns]"
      ]
     },
     "execution_count": 299,
     "metadata": {},
     "output_type": "execute_result"
    }
   ],
   "source": [
    "data.head()"
   ]
  },
  {
   "cell_type": "markdown",
   "metadata": {},
   "source": [
    "### Let's build a model\n",
    "\n",
    "for our model we will just be concerned with the **small/ medium units**, and excluding all ab-normal `flat_type`"
   ]
  },
  {
   "cell_type": "code",
   "execution_count": 274,
   "metadata": {},
   "outputs": [
    {
     "data": {
      "text/html": [
       "<div>\n",
       "<style scoped>\n",
       "    .dataframe tbody tr th:only-of-type {\n",
       "        vertical-align: middle;\n",
       "    }\n",
       "\n",
       "    .dataframe tbody tr th {\n",
       "        vertical-align: top;\n",
       "    }\n",
       "\n",
       "    .dataframe thead th {\n",
       "        text-align: right;\n",
       "    }\n",
       "</style>\n",
       "<table border=\"1\" class=\"dataframe\">\n",
       "  <thead>\n",
       "    <tr style=\"text-align: right;\">\n",
       "      <th></th>\n",
       "      <th>Date</th>\n",
       "      <th>CCI</th>\n",
       "      <th>idx_date</th>\n",
       "    </tr>\n",
       "  </thead>\n",
       "  <tbody>\n",
       "    <tr>\n",
       "      <th>0</th>\n",
       "      <td>2018/11/05 - 2018/11/11</td>\n",
       "      <td>180.78</td>\n",
       "      <td>2018-11-05</td>\n",
       "    </tr>\n",
       "    <tr>\n",
       "      <th>1</th>\n",
       "      <td>2018/10/29 - 2018/11/04</td>\n",
       "      <td>183.32</td>\n",
       "      <td>2018-10-29</td>\n",
       "    </tr>\n",
       "    <tr>\n",
       "      <th>2</th>\n",
       "      <td>2018/10/22 - 2018/10/28</td>\n",
       "      <td>184.49</td>\n",
       "      <td>2018-10-22</td>\n",
       "    </tr>\n",
       "    <tr>\n",
       "      <th>3</th>\n",
       "      <td>2018/10/15 - 2018/10/21</td>\n",
       "      <td>185.66</td>\n",
       "      <td>2018-10-15</td>\n",
       "    </tr>\n",
       "    <tr>\n",
       "      <th>4</th>\n",
       "      <td>2018/10/08 - 2018/10/14</td>\n",
       "      <td>186.00</td>\n",
       "      <td>2018-10-08</td>\n",
       "    </tr>\n",
       "  </tbody>\n",
       "</table>\n",
       "</div>"
      ],
      "text/plain": [
       "                      Date     CCI   idx_date\n",
       "0  2018/11/05 - 2018/11/11  180.78 2018-11-05\n",
       "1  2018/10/29 - 2018/11/04  183.32 2018-10-29\n",
       "2  2018/10/22 - 2018/10/28  184.49 2018-10-22\n",
       "3  2018/10/15 - 2018/10/21  185.66 2018-10-15\n",
       "4  2018/10/08 - 2018/10/14  186.00 2018-10-08"
      ]
     },
     "execution_count": 274,
     "metadata": {},
     "output_type": "execute_result"
    }
   ],
   "source": [
    "cci_data = pd.read_csv('data/cci_small_medium_2017_2018.csv', header = None, names = ['Date', 'CCI'])\n",
    "cci_data['idx_date'] = cci_data['Date'].apply( lambda x: x.split(\" - \")[0])\n",
    "\n",
    "cci_data.idx_date = cci_data.idx_date.astype('datetime64')\n",
    "data.txdate = data.txdate.astype('datetime64')\n",
    "\n",
    "cci_data.head()"
   ]
  },
  {
   "cell_type": "code",
   "execution_count": 271,
   "metadata": {},
   "outputs": [
    {
     "data": {
      "text/plain": [
       "167.47"
      ]
     },
     "execution_count": 271,
     "metadata": {},
     "output_type": "execute_result"
    }
   ],
   "source": [
    "def GetCCI(inDate):\n",
    "    dfilter = (cci_data.idx_date <= inDate) \n",
    "    return cci_data[dfilter]['CCI'].iloc[0]\n",
    "\n",
    "#GetCCI( data.txdate[1])"
   ]
  },
  {
   "cell_type": "code",
   "execution_count": 281,
   "metadata": {
    "scrolled": true
   },
   "outputs": [
    {
     "data": {
      "text/html": [
       "<div>\n",
       "<style scoped>\n",
       "    .dataframe tbody tr th:only-of-type {\n",
       "        vertical-align: middle;\n",
       "    }\n",
       "\n",
       "    .dataframe tbody tr th {\n",
       "        vertical-align: top;\n",
       "    }\n",
       "\n",
       "    .dataframe thead th {\n",
       "        text-align: right;\n",
       "    }\n",
       "</style>\n",
       "<table border=\"1\" class=\"dataframe\">\n",
       "  <thead>\n",
       "    <tr style=\"text-align: right;\">\n",
       "      <th></th>\n",
       "      <th>txdate</th>\n",
       "      <th>price</th>\n",
       "      <th>saleablearea</th>\n",
       "      <th>xaxis</th>\n",
       "      <th>yaxis</th>\n",
       "      <th>buildingaddress</th>\n",
       "      <th>dateofcompletion</th>\n",
       "      <th>numberofunits</th>\n",
       "      <th>numberoffloors</th>\n",
       "      <th>flatsperfloor</th>\n",
       "      <th>...</th>\n",
       "      <th>region</th>\n",
       "      <th>price_per_sqf</th>\n",
       "      <th>flat_type</th>\n",
       "      <th>floor_number</th>\n",
       "      <th>building_age</th>\n",
       "      <th>deal_age</th>\n",
       "      <th>deal_year</th>\n",
       "      <th>schoolnet_en</th>\n",
       "      <th>latlon</th>\n",
       "      <th>adj_price_per_sqf</th>\n",
       "    </tr>\n",
       "  </thead>\n",
       "  <tbody>\n",
       "    <tr>\n",
       "      <th>0</th>\n",
       "      <td>2017-02-16</td>\n",
       "      <td>2880000</td>\n",
       "      <td>392.0</td>\n",
       "      <td>NO. 205A</td>\n",
       "      <td>2/F</td>\n",
       "      <td>205A TUNG CHOI STREET</td>\n",
       "      <td>1963-08-01</td>\n",
       "      <td>8</td>\n",
       "      <td>8</td>\n",
       "      <td>1</td>\n",
       "      <td>...</td>\n",
       "      <td>Mongkok/Yaumatei</td>\n",
       "      <td>7346.938776</td>\n",
       "      <td>n</td>\n",
       "      <td>2</td>\n",
       "      <td>55.301848</td>\n",
       "      <td>641</td>\n",
       "      <td>2017</td>\n",
       "      <td>Kowloon district No. 32 school network</td>\n",
       "      <td>(22.3231, 114.1696)</td>\n",
       "      <td>8991.196804</td>\n",
       "    </tr>\n",
       "    <tr>\n",
       "      <th>1</th>\n",
       "      <td>2018-01-11</td>\n",
       "      <td>3000000</td>\n",
       "      <td>392.0</td>\n",
       "      <td>NO. 205A</td>\n",
       "      <td>3/F</td>\n",
       "      <td>205A TUNG CHOI STREET</td>\n",
       "      <td>1963-08-01</td>\n",
       "      <td>8</td>\n",
       "      <td>8</td>\n",
       "      <td>1</td>\n",
       "      <td>...</td>\n",
       "      <td>Mongkok/Yaumatei</td>\n",
       "      <td>7653.061224</td>\n",
       "      <td>n</td>\n",
       "      <td>3</td>\n",
       "      <td>55.301848</td>\n",
       "      <td>312</td>\n",
       "      <td>2018</td>\n",
       "      <td>Kowloon district No. 32 school network</td>\n",
       "      <td>(22.3231, 114.1696)</td>\n",
       "      <td>8261.302969</td>\n",
       "    </tr>\n",
       "    <tr>\n",
       "      <th>2</th>\n",
       "      <td>2017-06-26</td>\n",
       "      <td>51000000</td>\n",
       "      <td>1912.0</td>\n",
       "      <td>NO. 4B</td>\n",
       "      <td>5/F</td>\n",
       "      <td>4A-4B WONG NAI CHUNG GAP ROAD</td>\n",
       "      <td>1965-09-01</td>\n",
       "      <td>8</td>\n",
       "      <td>8</td>\n",
       "      <td>1</td>\n",
       "      <td>...</td>\n",
       "      <td>Happy Valley/Mid Level East</td>\n",
       "      <td>26673.640167</td>\n",
       "      <td>n</td>\n",
       "      <td>5</td>\n",
       "      <td>53.215606</td>\n",
       "      <td>511</td>\n",
       "      <td>2017</td>\n",
       "      <td>Hong Kong District No. 12 school network</td>\n",
       "      <td>(22.2629, 114.1854)</td>\n",
       "      <td>30122.817775</td>\n",
       "    </tr>\n",
       "    <tr>\n",
       "      <th>3</th>\n",
       "      <td>2018-03-21</td>\n",
       "      <td>4150000</td>\n",
       "      <td>294.0</td>\n",
       "      <td>FLAT B</td>\n",
       "      <td>16/F</td>\n",
       "      <td>98 TSEUK LUK STREET</td>\n",
       "      <td>1999-01-01</td>\n",
       "      <td>30</td>\n",
       "      <td>15</td>\n",
       "      <td>2</td>\n",
       "      <td>...</td>\n",
       "      <td>Diamond Hill/Wong Tai Sin</td>\n",
       "      <td>14115.646259</td>\n",
       "      <td>n</td>\n",
       "      <td>16</td>\n",
       "      <td>19.882272</td>\n",
       "      <td>243</td>\n",
       "      <td>2018</td>\n",
       "      <td>Kowloon district No. 43 school network</td>\n",
       "      <td>(22.335, 114.1975)</td>\n",
       "      <td>14725.757578</td>\n",
       "    </tr>\n",
       "    <tr>\n",
       "      <th>4</th>\n",
       "      <td>2017-11-28</td>\n",
       "      <td>5250000</td>\n",
       "      <td>530.0</td>\n",
       "      <td>FLAT B</td>\n",
       "      <td>8/F</td>\n",
       "      <td>54-58 SOUTH WALL ROAD</td>\n",
       "      <td>1969-10-01</td>\n",
       "      <td>32</td>\n",
       "      <td>9</td>\n",
       "      <td>4</td>\n",
       "      <td>...</td>\n",
       "      <td>Diamond Hill/Wong Tai Sin</td>\n",
       "      <td>9905.660377</td>\n",
       "      <td>n</td>\n",
       "      <td>8</td>\n",
       "      <td>49.133470</td>\n",
       "      <td>356</td>\n",
       "      <td>2017</td>\n",
       "      <td>Kowloon district No. 41 school network</td>\n",
       "      <td>(22.3298, 114.1911)</td>\n",
       "      <td>10919.178555</td>\n",
       "    </tr>\n",
       "  </tbody>\n",
       "</table>\n",
       "<p>5 rows × 21 columns</p>\n",
       "</div>"
      ],
      "text/plain": [
       "      txdate     price  saleablearea     xaxis yaxis  \\\n",
       "0 2017-02-16   2880000         392.0  NO. 205A   2/F   \n",
       "1 2018-01-11   3000000         392.0  NO. 205A   3/F   \n",
       "2 2017-06-26  51000000        1912.0    NO. 4B   5/F   \n",
       "3 2018-03-21   4150000         294.0    FLAT B  16/F   \n",
       "4 2017-11-28   5250000         530.0    FLAT B   8/F   \n",
       "\n",
       "                 buildingaddress dateofcompletion  numberofunits  \\\n",
       "0          205A TUNG CHOI STREET       1963-08-01              8   \n",
       "1          205A TUNG CHOI STREET       1963-08-01              8   \n",
       "2  4A-4B WONG NAI CHUNG GAP ROAD       1965-09-01              8   \n",
       "3            98 TSEUK LUK STREET       1999-01-01             30   \n",
       "4          54-58 SOUTH WALL ROAD       1969-10-01             32   \n",
       "\n",
       "   numberoffloors  flatsperfloor        ...         \\\n",
       "0               8              1        ...          \n",
       "1               8              1        ...          \n",
       "2               8              1        ...          \n",
       "3              15              2        ...          \n",
       "4               9              4        ...          \n",
       "\n",
       "                        region price_per_sqf  flat_type floor_number  \\\n",
       "0             Mongkok/Yaumatei   7346.938776          n            2   \n",
       "1             Mongkok/Yaumatei   7653.061224          n            3   \n",
       "2  Happy Valley/Mid Level East  26673.640167          n            5   \n",
       "3    Diamond Hill/Wong Tai Sin  14115.646259          n           16   \n",
       "4    Diamond Hill/Wong Tai Sin   9905.660377          n            8   \n",
       "\n",
       "   building_age  deal_age  deal_year  \\\n",
       "0     55.301848       641       2017   \n",
       "1     55.301848       312       2018   \n",
       "2     53.215606       511       2017   \n",
       "3     19.882272       243       2018   \n",
       "4     49.133470       356       2017   \n",
       "\n",
       "                               schoolnet_en               latlon  \\\n",
       "0    Kowloon district No. 32 school network  (22.3231, 114.1696)   \n",
       "1    Kowloon district No. 32 school network  (22.3231, 114.1696)   \n",
       "2  Hong Kong District No. 12 school network  (22.2629, 114.1854)   \n",
       "3    Kowloon district No. 43 school network   (22.335, 114.1975)   \n",
       "4    Kowloon district No. 41 school network  (22.3298, 114.1911)   \n",
       "\n",
       "  adj_price_per_sqf  \n",
       "0       8991.196804  \n",
       "1       8261.302969  \n",
       "2      30122.817775  \n",
       "3      14725.757578  \n",
       "4      10919.178555  \n",
       "\n",
       "[5 rows x 21 columns]"
      ]
     },
     "execution_count": 281,
     "metadata": {},
     "output_type": "execute_result"
    }
   ],
   "source": [
    "data['adj_price_per_sqf'] = data.apply( lambda x: x.price_per_sqf * GetCCI(datetime.today())/ GetCCI(x.txdate) , axis = 1)\n",
    "data.head()"
   ]
  },
  {
   "cell_type": "code",
   "execution_count": 305,
   "metadata": {},
   "outputs": [],
   "source": [
    "l_mod_col = ['lat','lon', 'adj_price_per_sqf']\n",
    "\n",
    "data['lat'] = data.latlon.apply( lambda x: x[0])\n",
    "data['lon'] = data.latlon.apply( lambda x: x[1])\n",
    "\n",
    "size_filter = data.saleablearea <= 1076\n",
    "flat_type_filter = data.flat_type == 'n'\n",
    "\n",
    "df_cluster = data[size_filter & flat_type_filter]\n",
    "df_model = df_cluster[l_mod_col]"
   ]
  },
  {
   "cell_type": "markdown",
   "metadata": {},
   "source": [
    "#### Machine Learning Prelimary"
   ]
  },
  {
   "cell_type": "code",
   "execution_count": 307,
   "metadata": {},
   "outputs": [],
   "source": [
    "from sklearn.cluster import KMeans\n",
    "\n",
    "% matplotlib inline\n",
    "import matplotlib.pyplot as plt\n",
    "import seaborn as sns"
   ]
  },
  {
   "cell_type": "markdown",
   "metadata": {},
   "source": [
    "since there's 56 region in the original dataset, we will use that as the starting point"
   ]
  },
  {
   "cell_type": "code",
   "execution_count": 306,
   "metadata": {},
   "outputs": [
    {
     "name": "stderr",
     "output_type": "stream",
     "text": [
      "/Users/JHO/.virtualenvs/accelerateHK3/lib/python3.6/site-packages/ipykernel_launcher.py:3: SettingWithCopyWarning: \n",
      "A value is trying to be set on a copy of a slice from a DataFrame.\n",
      "Try using .loc[row_indexer,col_indexer] = value instead\n",
      "\n",
      "See the caveats in the documentation: http://pandas.pydata.org/pandas-docs/stable/indexing.html#indexing-view-versus-copy\n",
      "  This is separate from the ipykernel package so we can avoid doing imports until\n"
     ]
    },
    {
     "ename": "NameError",
     "evalue": "name 'sns' is not defined",
     "output_type": "error",
     "traceback": [
      "\u001b[0;31m---------------------------------------------------------------------------\u001b[0m",
      "\u001b[0;31mNameError\u001b[0m                                 Traceback (most recent call last)",
      "\u001b[0;32m<ipython-input-306-89c02a18ee88>\u001b[0m in \u001b[0;36m<module>\u001b[0;34m()\u001b[0m\n\u001b[1;32m      3\u001b[0m \u001b[0mdf_cluster\u001b[0m\u001b[0;34m[\u001b[0m\u001b[0;34m'cluster'\u001b[0m\u001b[0;34m]\u001b[0m \u001b[0;34m=\u001b[0m \u001b[0mk_means\u001b[0m\u001b[0;34m.\u001b[0m\u001b[0mpredict\u001b[0m\u001b[0;34m(\u001b[0m \u001b[0mdf_model\u001b[0m\u001b[0;34m)\u001b[0m\u001b[0;34m\u001b[0m\u001b[0m\n\u001b[1;32m      4\u001b[0m \u001b[0;34m\u001b[0m\u001b[0m\n\u001b[0;32m----> 5\u001b[0;31m \u001b[0msns\u001b[0m\u001b[0;34m.\u001b[0m\u001b[0mlmplot\u001b[0m\u001b[0;34m(\u001b[0m\u001b[0mx\u001b[0m \u001b[0;34m=\u001b[0m \u001b[0;34m'lat'\u001b[0m\u001b[0;34m,\u001b[0m \u001b[0my\u001b[0m\u001b[0;34m=\u001b[0m\u001b[0;34m'lon'\u001b[0m\u001b[0;34m,\u001b[0m \u001b[0mhue\u001b[0m \u001b[0;34m=\u001b[0m \u001b[0;34m'cluster'\u001b[0m\u001b[0;34m,\u001b[0m \u001b[0mdata\u001b[0m \u001b[0;34m=\u001b[0m \u001b[0mdf_cluster\u001b[0m\u001b[0;34m,\u001b[0m \u001b[0mfit_reg\u001b[0m \u001b[0;34m=\u001b[0m \u001b[0;32mFalse\u001b[0m\u001b[0;34m)\u001b[0m\u001b[0;34m\u001b[0m\u001b[0m\n\u001b[0m",
      "\u001b[0;31mNameError\u001b[0m: name 'sns' is not defined"
     ]
    }
   ],
   "source": [
    "k_means = KMeans( n_clusters= 56, random_state= 420)\n",
    "k_means.fit( df_model )\n",
    "df_cluster['cluster'] = k_means.predict( df_model)"
   ]
  },
  {
   "cell_type": "code",
   "execution_count": 314,
   "metadata": {},
   "outputs": [
    {
     "data": {
      "text/plain": [
       "<seaborn.axisgrid.FacetGrid at 0x11da32e80>"
      ]
     },
     "execution_count": 314,
     "metadata": {},
     "output_type": "execute_result"
    },
    {
     "data": {
      "text/plain": [
       "<Figure size 2160x2880 with 0 Axes>"
      ]
     },
     "metadata": {},
     "output_type": "display_data"
    },
    {
     "data": {
      "image/png": "[encoded data removed]",
      "text/plain": [
       "<Figure size 360x360 with 1 Axes>"
      ]
     },
     "metadata": {},
     "output_type": "display_data"
    }
   ],
   "source": [
    "plt.figure(figsize = (30,40))\n",
    "\n",
    "sns.lmplot(x = 'lat', y='lon', hue = 'cluster', data = df_cluster, fit_reg = False, legend = False)"
   ]
  },
  {
   "cell_type": "markdown",
   "metadata": {},
   "source": [
    "Looks like 56 clusters are a bit over kill, let's see what's the optimal number of clusters according to the elblow method"
   ]
  },
  {
   "cell_type": "code",
   "execution_count": 313,
   "metadata": {},
   "outputs": [
    {
     "data": {
      "image/png": "[encoded data removed]",
      "text/plain": [
       "<Figure size 432x288 with 1 Axes>"
      ]
     },
     "metadata": {},
     "output_type": "display_data"
    }
   ],
   "source": [
    "wcss = [] # within-cluster sum of errors\n",
    "\n",
    "for i in range(1, 11):\n",
    "    k_means = KMeans( n_clusters = i, random_state = 420)\n",
    "    k_means.fit( df_model )\n",
    "    wcss.append( k_means.inertia_)\n",
    "\n",
    "plt.scatter(x = range(1,11), y = wcss) \n",
    "plt.xlabel('number of Clusters')\n",
    "plt.ylabel('cluster sum of errors');"
   ]
  },
  {
   "cell_type": "code",
   "execution_count": 315,
   "metadata": {},
   "outputs": [
    {
     "name": "stderr",
     "output_type": "stream",
     "text": [
      "/Users/JHO/.virtualenvs/accelerateHK3/lib/python3.6/site-packages/ipykernel_launcher.py:3: SettingWithCopyWarning: \n",
      "A value is trying to be set on a copy of a slice from a DataFrame.\n",
      "Try using .loc[row_indexer,col_indexer] = value instead\n",
      "\n",
      "See the caveats in the documentation: http://pandas.pydata.org/pandas-docs/stable/indexing.html#indexing-view-versus-copy\n",
      "  This is separate from the ipykernel package so we can avoid doing imports until\n"
     ]
    },
    {
     "data": {
      "text/plain": [
       "<seaborn.axisgrid.FacetGrid at 0x122d4c898>"
      ]
     },
     "execution_count": 315,
     "metadata": {},
     "output_type": "execute_result"
    },
    {
     "data": {
      "text/plain": [
       "<Figure size 2160x2880 with 0 Axes>"
      ]
     },
     "metadata": {},
     "output_type": "display_data"
    },
    {
     "data": {
      "image/png": "[encoded data removed]",
      "text/plain": [
       "<Figure size 360x360 with 1 Axes>"
      ]
     },
     "metadata": {},
     "output_type": "display_data"
    }
   ],
   "source": [
    "k_means = KMeans( n_clusters = 3, random_state = 420)\n",
    "k_means.fit( df_model )\n",
    "df_cluster['cluster'] = k_means.predict( df_model)\n",
    "plt.figure(figsize = (30,40))\n",
    "\n",
    "sns.lmplot(x = 'lat', y='lon', hue = 'cluster', data = df_cluster, fit_reg = False, legend = False)"
   ]
  },
  {
   "cell_type": "code",
   "execution_count": 322,
   "metadata": {},
   "outputs": [
    {
     "name": "stderr",
     "output_type": "stream",
     "text": [
      "/Users/JHO/.virtualenvs/accelerateHK3/lib/python3.6/site-packages/ipykernel_launcher.py:18: SettingWithCopyWarning: \n",
      "A value is trying to be set on a copy of a slice from a DataFrame.\n",
      "Try using .loc[row_indexer,col_indexer] = value instead\n",
      "\n",
      "See the caveats in the documentation: http://pandas.pydata.org/pandas-docs/stable/indexing.html#indexing-view-versus-copy\n"
     ]
    },
    {
     "data": {
      "text/plain": [
       "<seaborn.axisgrid.FacetGrid at 0x122d589b0>"
      ]
     },
     "execution_count": 322,
     "metadata": {},
     "output_type": "execute_result"
    },
    {
     "data": {
      "text/plain": [
       "<Figure size 2160x2880 with 0 Axes>"
      ]
     },
     "metadata": {},
     "output_type": "display_data"
    },
    {
     "data": {
      "image/png": "[encoded data removed]",
      "text/plain": [
       "<Figure size 410.625x360 with 1 Axes>"
      ]
     },
     "metadata": {},
     "output_type": "display_data"
    }
   ],
   "source": [
    "manual_cluster_dict = {5000: 1,\n",
    "                      10000: 2,\n",
    "                      12000: 3,\n",
    "                      15000: 4,\n",
    "                      18000: 5,\n",
    "                      20000: 6,\n",
    "                      25000: 7,\n",
    "                      30000: 8,\n",
    "                      35000: 9,\n",
    "                      40000: 10}\n",
    "def mapPrice(inPrice):\n",
    "    cluster = 0\n",
    "    for i in manual_cluster_dict:\n",
    "        if inPrice >= i:\n",
    "            cluster = manual_cluster_dict[i]\n",
    "    return cluster\n",
    "\n",
    "df_cluster['man_bin'] = df_cluster.adj_price_per_sqf.apply(mapPrice)\n",
    "\n",
    "plt.figure(figsize = (30,40))\n",
    "sns.lmplot(x = 'lat', y='lon', hue = 'man_bin', data = df_cluster, fit_reg = False, legend = True)"
   ]
  },
  {
   "cell_type": "code",
   "execution_count": 331,
   "metadata": {},
   "outputs": [
    {
     "name": "stderr",
     "output_type": "stream",
     "text": [
      "/Users/JHO/.virtualenvs/accelerateHK3/lib/python3.6/site-packages/ipykernel_launcher.py:4: SettingWithCopyWarning: \n",
      "A value is trying to be set on a copy of a slice from a DataFrame.\n",
      "Try using .loc[row_indexer,col_indexer] = value instead\n",
      "\n",
      "See the caveats in the documentation: http://pandas.pydata.org/pandas-docs/stable/indexing.html#indexing-view-versus-copy\n",
      "  after removing the cwd from sys.path.\n"
     ]
    },
    {
     "name": "stdout",
     "output_type": "stream",
     "text": [
      "Model score compare to manual price bining: 0.5286866675374277\n"
     ]
    },
    {
     "data": {
      "text/plain": [
       "<seaborn.axisgrid.FacetGrid at 0x12aafcac8>"
      ]
     },
     "execution_count": 331,
     "metadata": {},
     "output_type": "execute_result"
    },
    {
     "data": {
      "text/plain": [
       "<Figure size 2160x2880 with 0 Axes>"
      ]
     },
     "metadata": {},
     "output_type": "display_data"
    },
    {
     "data": {
      "image/png": "[encoded data removed]",
      "text/plain": [
       "<Figure size 402.375x360 with 1 Axes>"
      ]
     },
     "metadata": {},
     "output_type": "display_data"
    }
   ],
   "source": [
    "df_model = df_cluster[['lat', 'lon', 'adj_price_per_sqf']]\n",
    "k_means = KMeans( n_clusters = 10, random_state = 420)\n",
    "k_means.fit( df_model )\n",
    "df_cluster['cluster'] = k_means.predict( df_model)\n",
    "\n",
    "from sklearn.metrics import adjusted_rand_score\n",
    "cluster_score = adjusted_rand_score(df_cluster.cluster, df_cluster.man_bin)\n",
    "print( f'Model score compare to manual price bining: {cluster_score}')\n",
    "\n",
    "plt.figure(figsize = (30,40))\n",
    "sns.lmplot(x = 'lat', y='lon', hue = 'cluster', data = df_cluster, fit_reg = False, legend = True)"
   ]
  },
  {
   "cell_type": "code",
   "execution_count": null,
   "metadata": {},
   "outputs": [],
   "source": []
  }
 ],
 "metadata": {
  "kernelspec": {
   "display_name": "Python 3",
   "language": "python",
   "name": "python3"
  },
  "language_info": {
   "codemirror_mode": {
    "name": "ipython",
    "version": 3
   },
   "file_extension": ".py",
   "mimetype": "text/x-python",
   "name": "python",
   "nbconvert_exporter": "python",
   "pygments_lexer": "ipython3",
   "version": "3.6.3"
  }
 },
 "nbformat": 4,
 "nbformat_minor": 2
}
