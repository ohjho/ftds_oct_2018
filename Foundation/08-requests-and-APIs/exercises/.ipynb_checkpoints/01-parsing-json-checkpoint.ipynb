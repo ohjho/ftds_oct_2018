{
 "cells": [
  {
   "cell_type": "markdown",
   "metadata": {},
   "source": [
    "# Parsing JSON\n",
    "\n",
    "In a previous notebook we got the longatude and latitude for all of the resturants in the open rice dataset, however this is still in the json format. \n",
    " \n",
    " "
   ]
  },
  {
   "cell_type": "code",
   "execution_count": 5,
   "metadata": {},
   "outputs": [],
   "source": [
    "import json"
   ]
  },
  {
   "cell_type": "code",
   "execution_count": 6,
   "metadata": {},
   "outputs": [],
   "source": [
    "addresses = json.load(open(\"data/openrice_addresses.json\"))"
   ]
  },
  {
   "cell_type": "code",
   "execution_count": 7,
   "metadata": {},
   "outputs": [
    {
     "name": "stdout",
     "output_type": "stream",
     "text": [
      "{\"RequestAddress\": {\"AddressLine\": [\"Shop J-K., 200 Hollywood Road,\"]}, \"SuggestedAddress\": [{\"Address\": {\"PremisesAddress\": {\"EngPremisesAddress\": {\"BuildingName\": \"KEE ON BUILDING\", \"EngStreet\": {\"StreetName\": \"HOLLYWOOD ROAD\", \"BuildingNoFrom\": \"200\"}, \"EngDistrict\": {\"DcDistrict\": \"CW\"}, \"Region\": \"HK\"}, \"ChiPremisesAddress\": {\"Region\": \"\\u9999\\u6e2f\", \"ChiDistrict\": {\"DcDistrict\": \"CW\"}, \"ChiStreet\": {\"StreetName\": \"\\u8377\\u674e\\u6d3b\\u9053\", \"BuildingNoFrom\": \"200\"}, \"BuildingName\": \"\\u797a\\u5b89\\u5927\\u5ec8\"}, \"GeospatialInformation\": [{\"Northing\": \"816264\", \"Easting\": \"833279\", \"Latitude\": \"22.2852\", \"Longitude\": \"114.1478\"}, {\"Northing\": \"816264\", \"Easting\": \"833281\", \"Latitude\": \"22.2852\", \"Longitude\": \"114.1478\"}]}}, \"ValidationInformation\": {\"ValidationTime\": null}}]}\n"
     ]
    }
   ],
   "source": [
    "print(addresses[0])"
   ]
  },
  {
   "cell_type": "markdown",
   "metadata": {},
   "source": [
    "Your goal is to parse this json,to extract the longatude and lattitude and add it back to our openrice dataframe, how to do this is outlined bellow.\n",
    "\n",
    "Create a function that takes json dict for an address and returns a dictionary contaning the address and it's longitude and latitude. \n",
    "\n",
    "```\n",
    "{'address': 'Shop J-K., 200 Hollywood Road,',\n",
    " 'longitude': 114.1478,\n",
    " 'latitude': 22.2852}\n",
    "```\n",
    "\n",
    "For some of the addresses your function might fail. Therefore you should use a try and catch: in the catch block return the address but with Lon and Lat as `np.nan`\n",
    "\n",
    "```\n",
    "{'address': 'Shop J-K., 200 Hollywood Road,',\n",
    " 'longitude': np.nan,\n",
    " 'latitude': np.nan}\n",
    "```\n"
   ]
  },
  {
   "cell_type": "markdown",
   "metadata": {},
   "source": [
    "Apply the function to all of the addresses. To create a list of dictionaries. You can then use the list of dictionaries to create new DataFrame and merge it back into the original."
   ]
  }
 ],
 "metadata": {
  "kernelspec": {
   "display_name": "Python 3",
   "language": "python",
   "name": "python3"
  },
  "language_info": {
   "codemirror_mode": {
    "name": "ipython",
    "version": 3
   },
   "file_extension": ".py",
   "mimetype": "text/x-python",
   "name": "python",
   "nbconvert_exporter": "python",
   "pygments_lexer": "ipython3",
   "version": "3.6.3"
  }
 },
 "nbformat": 4,
 "nbformat_minor": 2
}
