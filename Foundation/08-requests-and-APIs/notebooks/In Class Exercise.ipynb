{
 "cells": [
  {
   "cell_type": "markdown",
   "metadata": {},
   "source": [
    "### Request Example"
   ]
  },
  {
   "cell_type": "code",
   "execution_count": 5,
   "metadata": {},
   "outputs": [
    {
     "name": "stdout",
     "output_type": "stream",
     "text": [
      "200\n"
     ]
    }
   ],
   "source": [
    "import requests\n",
    "\n",
    "url = \"http://google.com\"\n",
    "response = requests.get(url)\n",
    "\n",
    "print(response.status_code)"
   ]
  },
  {
   "cell_type": "markdown",
   "metadata": {},
   "source": [
    "## A simple API requests and response example"
   ]
  },
  {
   "cell_type": "code",
   "execution_count": 28,
   "metadata": {},
   "outputs": [
    {
     "name": "stdout",
     "output_type": "stream",
     "text": [
      "Why did the scarecrow win an award? Because he was outstanding in his field.\n"
     ]
    }
   ],
   "source": [
    "url = 'https://icanhazdadjoke.com/'\n",
    "\n",
    "# The documentation specifics this\n",
    "header = { 'Accept': 'application/json'}\n",
    "\n",
    "response = requests.get(url, headers = header)\n",
    "print(response.json()['joke'])\n"
   ]
  },
  {
   "cell_type": "markdown",
   "metadata": {},
   "source": [
    "## A simple API requests with Argument"
   ]
  },
  {
   "cell_type": "markdown",
   "metadata": {},
   "source": [
    "### JHO's Note\n",
    "[Notes](https://stackoverflow.com/questions/16511337/correct-way-to-try-except-using-python-requests-module) on catching requests exceptions are here"
   ]
  },
  {
   "cell_type": "code",
   "execution_count": 40,
   "metadata": {},
   "outputs": [
    {
     "name": "stdout",
     "output_type": "stream",
     "text": [
      "What jokes to search for ?adf\n",
      "I'll tell you what often gets over looked... garden fences. \n",
      "\n",
      "Why do birds fly south for the winter? Because it's too far to walk. \n",
      "\n",
      "What is a centipedes's favorite Beatle song?  I want to hold your hand, hand, hand, hand... \n",
      "\n",
      "My first time using an elevator was an uplifting experience. The second time let me down. \n",
      "\n",
      "To be Frank, I'd have to change my name. \n",
      "\n",
      "Slept like a log last night … woke up in the fireplace. \n",
      "\n",
      "Why does a Moon-rock taste better than an Earth-rock? Because it's a little meteor. \n",
      "\n",
      "I thought my wife was joking when she said she'd leave me if I didn't stop signing \"I'm A Believer\"... Then I saw her face. \n",
      "\n",
      "What do you call two barracuda fish?  A Pairacuda! \n",
      "\n",
      "Why is Peter Pan always flying? Because he Neverlands. \n",
      "\n",
      "What do you do on a remote island? Try and find the TV island it belongs to. \n",
      "\n",
      "Did you know that protons have mass? I didn't even know they were catholic. \n",
      "\n",
      "Dad I’m hungry’ … ‘Hi hungry I’m dad \n",
      "\n",
      "I was fired from the keyboard factory yesterday.  I wasn't putting in enough shifts. \n",
      "\n",
      "Whoever invented the knock-knock joke should get a no bell prize. \n",
      "\n",
      "Wife: Honey I’m pregnant.\n",
      "\n",
      "Me: Well…. what do we do now?\n",
      "\n",
      "Wife: Well, I guess we should go to a baby doctor.\n",
      "\n",
      "Me: Hm.. I think I’d be a lot more comfortable going to an adult doctor. \n",
      "\n",
      "Do I enjoy making courthouse puns? Guilty \n",
      "\n",
      "Why couldn't the kid see the pirate movie? Because it was rated arrr! \n",
      "\n",
      "Man, I really love my furniture... me and my recliner go way back. \n",
      "\n",
      "What did the traffic light say to the car as it passed? \"Don't look I'm changing!\" \n",
      "\n"
     ]
    }
   ],
   "source": [
    "str_term = input(\"What jokes to search for ?\")\n",
    "url = 'https://icanhazdadjoke.com/search'\n",
    "header = {\n",
    "    'Accept': 'application/json',\n",
    "    'term': str_term,\n",
    "    'limit': '3'\n",
    "}\n",
    "\n",
    "response = requests.get(url, headers = header)\n",
    "if response.status_code == 200:\n",
    "    jokes = response.json()['results']\n",
    "    for joke in jokes:\n",
    "        print( joke['joke'], '\\n' )\n",
    "else:\n",
    "    print(f'Error with search: {requests.exceptions.RequestException}')"
   ]
  },
  {
   "cell_type": "code",
   "execution_count": 38,
   "metadata": {},
   "outputs": [
    {
     "name": "stdout",
     "output_type": "stream",
     "text": [
      "What jokes to search for ?god\n",
      "[]\n"
     ]
    }
   ],
   "source": [
    "# Another way\n",
    "str_term = input(\"What jokes to search for ?\")\n",
    "url = 'https://icanhazdadjoke.com/search'\n",
    "url += '?term='+ str_term\n",
    "header = {\n",
    "    'Accept': 'application/json',\n",
    "}\n",
    "\n",
    "response = requests.get(url, headers = header)\n",
    "print(response.json()['results'])"
   ]
  },
  {
   "cell_type": "markdown",
   "metadata": {},
   "source": [
    "### Another API get Example\n",
    "This one uses the `params` optarg"
   ]
  },
  {
   "cell_type": "code",
   "execution_count": 26,
   "metadata": {},
   "outputs": [
    {
     "data": {
      "text/plain": [
       "False"
      ]
     },
     "execution_count": 26,
     "metadata": {},
     "output_type": "execute_result"
    }
   ],
   "source": [
    "import re\n",
    "\n",
    "m =re.search('lo', 'Hello World')\n",
    "m == None"
   ]
  },
  {
   "cell_type": "code",
   "execution_count": 18,
   "metadata": {},
   "outputs": [
    {
     "name": "stdout",
     "output_type": "stream",
     "text": [
      "There are 90 todos. First 10 are: \n",
      "\n",
      "et porro tempora\n",
      "quo adipisci enim quam ut ab\n",
      "illo est ratione doloremque quia maiores aut\n",
      "vero rerum temporibus dolor\n",
      "ipsa repellendus fugit nisi\n",
      "repellendus sunt dolores architecto voluptatum\n",
      "ab voluptatum amet voluptas\n",
      "accusamus eos facilis sint et aut voluptatem\n",
      "quo laboriosam deleniti aut qui\n",
      "molestiae ipsa aut voluptatibus pariatur dolor nihil\n",
      "\n",
      "\n",
      "There are 90 todos completed. Top 10 Todos that are completed are: \n",
      "\n",
      "et porro tempora\n",
      "quo adipisci enim quam ut ab\n",
      "illo est ratione doloremque quia maiores aut\n",
      "vero rerum temporibus dolor\n",
      "ipsa repellendus fugit nisi\n",
      "repellendus sunt dolores architecto voluptatum\n",
      "ab voluptatum amet voluptas\n",
      "accusamus eos facilis sint et aut voluptatem\n",
      "quo laboriosam deleniti aut qui\n",
      "molestiae ipsa aut voluptatibus pariatur dolor nihil\n"
     ]
    }
   ],
   "source": [
    "import re as regex\n",
    "\n",
    "def findin(pattern, x):\n",
    "    m = regex.search(pattern,x)\n",
    "    if m == None:\n",
    "        return False\n",
    "    else:\n",
    "        return True\n",
    "\n",
    "url = 'https://jsonplaceholder.typicode.com/todos'\n",
    "params = {'completed': 'true'}\n",
    "response = requests.get(url, params = params)\n",
    "if response.status_code == 200:\n",
    "    results = response.json()\n",
    "    #print(results[1])\n",
    "    print(f'There are {len(results)} todos. First 10 are: \\n')\n",
    "    for i in range(10):\n",
    "        print( results[i]['title'])\n",
    "    \n",
    "    l_completed = []\n",
    "    for todo in results:\n",
    "        if todo['completed']: \n",
    "            l_completed.append(todo)\n",
    "    print(f'\\n\\nThere are {len(l_completed)} todos completed. Top 10 Todos that are completed are: \\n')\n",
    "    for i in range(10):\n",
    "        print(l_completed[i]['title'])\n",
    "else:\n",
    "    print(f\"Request error with status_code {response.status_code}\")"
   ]
  },
  {
   "cell_type": "markdown",
   "metadata": {},
   "source": [
    "### More Exercise\n",
    "Let's get the user_id, post title, and number of comments for each post"
   ]
  },
  {
   "cell_type": "code",
   "execution_count": 46,
   "metadata": {},
   "outputs": [
    {
     "name": "stdout",
     "output_type": "stream",
     "text": [
      "   1  \\\n",
      "0  1   \n",
      "1  1   \n",
      "2  1   \n",
      "3  1   \n",
      "4  1   \n",
      "5  1   \n",
      "6  1   \n",
      "7  1   \n",
      "8  1   \n",
      "\n",
      "  sunt aut facere repellat provident occaecati excepturi optio reprehenderit  \\\n",
      "0                                       qui est esse                           \n",
      "1  ea molestias quasi exercitationem repellat qui...                           \n",
      "2                               eum et est occaecati                           \n",
      "3                                 nesciunt quas odio                           \n",
      "4                 dolorem eum magni eos aperiam quia                           \n",
      "5                               magnam facilis autem                           \n",
      "6                           dolorem dolore est ipsam                           \n",
      "7  nesciunt iure omnis dolorem tempora et accusan...                           \n",
      "8                        optio molestias id quia eum                           \n",
      "\n",
      "   5  \n",
      "0  5  \n",
      "1  5  \n",
      "2  5  \n",
      "3  5  \n",
      "4  5  \n",
      "5  5  \n",
      "6  5  \n",
      "7  5  \n",
      "8  5  \n"
     ]
    }
   ],
   "source": [
    "import requests, csv\n",
    "import pandas as pd  #for reading the CSV in the end\n",
    "base_url = 'https://jsonplaceholder.typicode.com/'\n",
    "\n",
    "def getcomment_count(post_id):\n",
    "    url = base_url + 'posts/'+ str(post_id) + '/comments'\n",
    "    data = requests.get(url)\n",
    "    if data.status_code == 200:\n",
    "        return len(data.json())\n",
    "    else:\n",
    "        return None\n",
    "\n",
    "def getPostDets(postlimit= None):\n",
    "    url = base_url + 'posts'\n",
    "    data = requests.get(url)\n",
    "    l_output = []\n",
    "    if data.status_code ==200:\n",
    "        posts = data.json()\n",
    "        if postlimit != None:\n",
    "            posts = posts[: min(len(posts), postlimit)]\n",
    "        #print(posts[1])\n",
    "        for post in posts:\n",
    "            l_output.append(\n",
    "                [post['userId'], post['title'], getcomment_count(post['id'])]\n",
    "            )\n",
    "        return l_output\n",
    "    else:\n",
    "        return f'Request error with status code: {data.status_code}'\n",
    "\n",
    "def main():\n",
    "    data = getPostDets(10)\n",
    "    fname = 'inclassex.csv'\n",
    "    with open(fname, 'w') as f:\n",
    "        for line in data:\n",
    "            f.write(\",\".join([str(item) for item in line]))\n",
    "            f.write('\\n')\n",
    "    df = pd.read_csv(fname)\n",
    "    print(df.head(10))\n",
    "    \n",
    "main()"
   ]
  },
  {
   "cell_type": "code",
   "execution_count": 66,
   "metadata": {},
   "outputs": [],
   "source": [
    "import numpy as np\n",
    "def getaddress( in_json):\n",
    "    ojson = json.loads(in_json)\n",
    "    req_add = ojson['RequestAddress']['AddressLine'][0]\n",
    "    try:\n",
    "        data = ojson['SuggestedAddress'][0]['Address']['PremisesAddress']\n",
    "        dgeo = data['GeospatialInformation']\n",
    "        spacedict = {\n",
    "            'address': req_add,\n",
    "            'longitude': dgeo[0]['Longitude'],\n",
    "            'latitude' : dgeo[0]['Latitude']\n",
    "        }\n",
    "    except:\n",
    "        spacedict = {\n",
    "            'address': req_add,\n",
    "            'longitude': np.nan,\n",
    "            'latitude' : np.nan\n",
    "        }\n",
    "    return spacedict"
   ]
  },
  {
   "cell_type": "code",
   "execution_count": 69,
   "metadata": {},
   "outputs": [
    {
     "data": {
      "text/plain": [
       "{'address': 'planet earth', 'latitude': '22.3372', 'longitude': '114.2151'}"
      ]
     },
     "execution_count": 69,
     "metadata": {},
     "output_type": "execute_result"
    }
   ],
   "source": [
    "import json\n",
    "url = 'https://www.als.ogcio.gov.hk/lookup'\n",
    "address = \"planet earth\"\n",
    "header = { 'Accept': 'application/json'}\n",
    "params = {\n",
    "    'q': address,\n",
    "    'n':1\n",
    "}\n",
    "\n",
    "data = requests.get(url, headers = header, params = params)\n",
    "getaddress( data.text)"
   ]
  },
  {
   "cell_type": "code",
   "execution_count": null,
   "metadata": {},
   "outputs": [],
   "source": []
  }
 ],
 "metadata": {
  "kernelspec": {
   "display_name": "Python 3",
   "language": "python",
   "name": "python3"
  },
  "language_info": {
   "codemirror_mode": {
    "name": "ipython",
    "version": 3
   },
   "file_extension": ".py",
   "mimetype": "text/x-python",
   "name": "python",
   "nbconvert_exporter": "python",
   "pygments_lexer": "ipython3",
   "version": "3.6.3"
  }
 },
 "nbformat": 4,
 "nbformat_minor": 2
}
