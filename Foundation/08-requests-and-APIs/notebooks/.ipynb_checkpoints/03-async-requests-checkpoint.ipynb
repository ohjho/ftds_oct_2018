{
 "cells": [
  {
   "cell_type": "markdown",
   "metadata": {},
   "source": [
    "# Asynchronous Requests\n",
    "\n",
    "If we want to make many request, we might just use a for loop, however if we have 1000s to send this can take a long time. This is because each request has to wait until we got a response from the previous before it can be sent. \n"
   ]
  },
  {
   "cell_type": "code",
   "execution_count": 1,
   "metadata": {},
   "outputs": [],
   "source": [
    "from requests_futures.sessions import FuturesSession"
   ]
  },
  {
   "cell_type": "code",
   "execution_count": 2,
   "metadata": {},
   "outputs": [],
   "source": [
    "session = FuturesSession()\n",
    "# first request is started in background\n",
    "future_one = session.get('http://httpbin.org/get')\n",
    "# second requests is started immediately\n",
    "future_two = session.get('http://httpbin.org/get?foo=bar')\n",
    "# wait for the first request to complete, if it hasn't already\n"
   ]
  },
  {
   "cell_type": "code",
   "execution_count": 3,
   "metadata": {},
   "outputs": [],
   "source": [
    "r = future_one.result()"
   ]
  },
  {
   "cell_type": "code",
   "execution_count": 4,
   "metadata": {},
   "outputs": [
    {
     "data": {
      "text/plain": [
       "True"
      ]
     },
     "execution_count": 4,
     "metadata": {},
     "output_type": "execute_result"
    }
   ],
   "source": [
    "r.status_code ==200"
   ]
  },
  {
   "cell_type": "markdown",
   "metadata": {},
   "source": [
    "# Making Requests\n",
    "\n",
    "Let's write a function that will take a session and and address and make a request for us."
   ]
  },
  {
   "cell_type": "code",
   "execution_count": 5,
   "metadata": {},
   "outputs": [],
   "source": [
    "import numpy as np\n",
    "import pandas as pd"
   ]
  },
  {
   "cell_type": "code",
   "execution_count": 7,
   "metadata": {},
   "outputs": [],
   "source": [
    "def make_request(session, address):\n",
    "    \n",
    "    data = {\"q\":address, \"n\":1}\n",
    "    headers ={\"Accept\": \"application/json\"}\n",
    "    api_url = \"https://www.als.ogcio.gov.hk/lookup\"\n",
    "    future = session.post(api_url,data=data,headers=headers)\n",
    "    return future"
   ]
  },
  {
   "cell_type": "markdown",
   "metadata": {},
   "source": [
    "Since the API is quite slow this will take sometime, therefore bellow is a function that prints the percentage progress."
   ]
  },
  {
   "cell_type": "code",
   "execution_count": 13,
   "metadata": {},
   "outputs": [],
   "source": [
    "import time,sys\n",
    "\n",
    "def print_progress(futures):\n",
    "\n",
    "    check_done = lambda x: x.done()\n",
    "    check_done = np.vectorize(check_done)\n",
    "\n",
    "    #basic percentage progress\n",
    "    while not check_done(futures).all():\n",
    "        time.sleep(1)\n",
    "        percent = check_done(futures).mean() * 100\n",
    "        sys.stdout.write(\"\\r%d%%\" % percent)\n",
    "        sys.stdout.flush()    \n",
    "    print(\"\\n\")\n"
   ]
  },
  {
   "cell_type": "markdown",
   "metadata": {},
   "source": [
    "We can now read in the open rice csv and make a request for each unique address"
   ]
  },
  {
   "cell_type": "code",
   "execution_count": 6,
   "metadata": {},
   "outputs": [],
   "source": [
    "df = pd.read_csv(\"data/open-rice.csv\")"
   ]
  },
  {
   "cell_type": "code",
   "execution_count": 16,
   "metadata": {},
   "outputs": [
    {
     "name": "stdout",
     "output_type": "stream",
     "text": [
      "100%CPU times: user 2min 51s, sys: 8.95 s, total: 3min\n",
      "Wall time: 38min 13s\n"
     ]
    }
   ],
   "source": [
    "%%time\n",
    "#create session with 16 workers\n",
    "session = FuturesSession(max_workers=16)\n",
    "#make all of the requests\n",
    "futures =   np.array([ make_request(session,address) for address in df.address.unique()]) \n",
    "print_progress(futures)"
   ]
  },
  {
   "cell_type": "markdown",
   "metadata": {},
   "source": [
    "It took nearly 40 minutes even with async requests."
   ]
  },
  {
   "cell_type": "markdown",
   "metadata": {},
   "source": [
    "## Parsing Response\n",
    "\n",
    "Now all of the requests have been made we can parse them to get the json."
   ]
  },
  {
   "cell_type": "code",
   "execution_count": 43,
   "metadata": {},
   "outputs": [],
   "source": [
    "json_results = np.vectorize(lambda x: x.result().json())(futures)"
   ]
  },
  {
   "cell_type": "code",
   "execution_count": 55,
   "metadata": {},
   "outputs": [
    {
     "data": {
      "text/plain": [
       "{'RequestAddress': {'AddressLine': ['Shop J-K., 200 Hollywood Road,']},\n",
       " 'SuggestedAddress': [{'Address': {'PremisesAddress': {'EngPremisesAddress': {'BuildingName': 'KEE ON BUILDING',\n",
       "      'EngStreet': {'StreetName': 'HOLLYWOOD ROAD', 'BuildingNoFrom': '200'},\n",
       "      'EngDistrict': {'DcDistrict': 'CW'},\n",
       "      'Region': 'HK'},\n",
       "     'ChiPremisesAddress': {'Region': '香港',\n",
       "      'ChiDistrict': {'DcDistrict': 'CW'},\n",
       "      'ChiStreet': {'StreetName': '荷李活道', 'BuildingNoFrom': '200'},\n",
       "      'BuildingName': '祺安大廈'},\n",
       "     'GeospatialInformation': [{'Northing': '816264',\n",
       "       'Easting': '833279',\n",
       "       'Latitude': '22.2852',\n",
       "       'Longitude': '114.1478'},\n",
       "      {'Northing': '816264',\n",
       "       'Easting': '833281',\n",
       "       'Latitude': '22.2852',\n",
       "       'Longitude': '114.1478'}]}},\n",
       "   'ValidationInformation': {'ValidationTime': None}}]}"
      ]
     },
     "execution_count": 55,
     "metadata": {},
     "output_type": "execute_result"
    }
   ],
   "source": [
    "json_results[0]"
   ]
  },
  {
   "cell_type": "markdown",
   "metadata": {},
   "source": [
    "We'll write this json to disk for future use."
   ]
  },
  {
   "cell_type": "code",
   "execution_count": 59,
   "metadata": {},
   "outputs": [],
   "source": [
    "result = [ json.dumps(result) for result in json_results]\n",
    "result = json.dumps(result)\n",
    "with open(\"data/openrice_addresses.json\",\"w\") as f:\n",
    "    f.write(result)"
   ]
  }
 ],
 "metadata": {
  "kernelspec": {
   "display_name": "Python 3",
   "language": "python",
   "name": "python3"
  },
  "language_info": {
   "codemirror_mode": {
    "name": "ipython",
    "version": 3
   },
   "file_extension": ".py",
   "mimetype": "text/x-python",
   "name": "python",
   "nbconvert_exporter": "python",
   "pygments_lexer": "ipython3",
   "version": "3.6.3"
  }
 },
 "nbformat": 4,
 "nbformat_minor": 2
}
