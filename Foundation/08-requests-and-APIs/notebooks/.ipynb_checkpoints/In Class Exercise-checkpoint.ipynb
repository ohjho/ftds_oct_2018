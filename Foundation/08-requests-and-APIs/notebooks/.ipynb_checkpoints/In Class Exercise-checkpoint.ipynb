{
 "cells": [
  {
   "cell_type": "markdown",
   "metadata": {},
   "source": [
    "### Request Example"
   ]
  },
  {
   "cell_type": "code",
   "execution_count": 4,
   "metadata": {},
   "outputs": [
    {
     "name": "stdout",
     "output_type": "stream",
     "text": [
      "200\n"
     ]
    }
   ],
   "source": [
    "import requests\n",
    "\n",
    "url = \"http://google.com\"\n",
    "response = requests.get(url)\n",
    "\n",
    "print(response.status_code)"
   ]
  },
  {
   "cell_type": "markdown",
   "metadata": {},
   "source": [
    "## A simple API requests and response example"
   ]
  },
  {
   "cell_type": "code",
   "execution_count": 28,
   "metadata": {},
   "outputs": [
    {
     "name": "stdout",
     "output_type": "stream",
     "text": [
      "Why did the scarecrow win an award? Because he was outstanding in his field.\n"
     ]
    }
   ],
   "source": [
    "url = 'https://icanhazdadjoke.com/'\n",
    "\n",
    "# The documentation specifics this\n",
    "header = { 'Accept': 'application/json'}\n",
    "\n",
    "response = requests.get(url, headers = header)\n",
    "print(response.json()['joke'])\n"
   ]
  },
  {
   "cell_type": "markdown",
   "metadata": {},
   "source": [
    "## A simple API requests with Argument"
   ]
  },
  {
   "cell_type": "markdown",
   "metadata": {},
   "source": [
    "### JHO's Note\n",
    "[Notes](https://stackoverflow.com/questions/16511337/correct-way-to-try-except-using-python-requests-module) on catching requests exceptions are here"
   ]
  },
  {
   "cell_type": "code",
   "execution_count": 40,
   "metadata": {},
   "outputs": [
    {
     "name": "stdout",
     "output_type": "stream",
     "text": [
      "What jokes to search for ?adf\n",
      "I'll tell you what often gets over looked... garden fences. \n",
      "\n",
      "Why do birds fly south for the winter? Because it's too far to walk. \n",
      "\n",
      "What is a centipedes's favorite Beatle song?  I want to hold your hand, hand, hand, hand... \n",
      "\n",
      "My first time using an elevator was an uplifting experience. The second time let me down. \n",
      "\n",
      "To be Frank, I'd have to change my name. \n",
      "\n",
      "Slept like a log last night … woke up in the fireplace. \n",
      "\n",
      "Why does a Moon-rock taste better than an Earth-rock? Because it's a little meteor. \n",
      "\n",
      "I thought my wife was joking when she said she'd leave me if I didn't stop signing \"I'm A Believer\"... Then I saw her face. \n",
      "\n",
      "What do you call two barracuda fish?  A Pairacuda! \n",
      "\n",
      "Why is Peter Pan always flying? Because he Neverlands. \n",
      "\n",
      "What do you do on a remote island? Try and find the TV island it belongs to. \n",
      "\n",
      "Did you know that protons have mass? I didn't even know they were catholic. \n",
      "\n",
      "Dad I’m hungry’ … ‘Hi hungry I’m dad \n",
      "\n",
      "I was fired from the keyboard factory yesterday.  I wasn't putting in enough shifts. \n",
      "\n",
      "Whoever invented the knock-knock joke should get a no bell prize. \n",
      "\n",
      "Wife: Honey I’m pregnant.\n",
      "\n",
      "Me: Well…. what do we do now?\n",
      "\n",
      "Wife: Well, I guess we should go to a baby doctor.\n",
      "\n",
      "Me: Hm.. I think I’d be a lot more comfortable going to an adult doctor. \n",
      "\n",
      "Do I enjoy making courthouse puns? Guilty \n",
      "\n",
      "Why couldn't the kid see the pirate movie? Because it was rated arrr! \n",
      "\n",
      "Man, I really love my furniture... me and my recliner go way back. \n",
      "\n",
      "What did the traffic light say to the car as it passed? \"Don't look I'm changing!\" \n",
      "\n"
     ]
    }
   ],
   "source": [
    "str_term = input(\"What jokes to search for ?\")\n",
    "url = 'https://icanhazdadjoke.com/search'\n",
    "header = {\n",
    "    'Accept': 'application/json',\n",
    "    'term': str_term,\n",
    "    'limit': '3'\n",
    "}\n",
    "\n",
    "response = requests.get(url, headers = header)\n",
    "if response.status_code == 200:\n",
    "    jokes = response.json()['results']\n",
    "    for joke in jokes:\n",
    "        print( joke['joke'], '\\n' )\n",
    "else:\n",
    "    print(f'Error with search: {requests.exceptions.RequestException}')"
   ]
  },
  {
   "cell_type": "code",
   "execution_count": 38,
   "metadata": {},
   "outputs": [
    {
     "name": "stdout",
     "output_type": "stream",
     "text": [
      "What jokes to search for ?god\n",
      "[]\n"
     ]
    }
   ],
   "source": [
    "# Another way\n",
    "str_term = input(\"What jokes to search for ?\")\n",
    "url = 'https://icanhazdadjoke.com/search'\n",
    "url += '?term='+ str_term\n",
    "header = {\n",
    "    'Accept': 'application/json',\n",
    "}\n",
    "\n",
    "response = requests.get(url, headers = header)\n",
    "print(response.json()['results'])"
   ]
  },
  {
   "cell_type": "markdown",
   "metadata": {},
   "source": [
    "### Another API get Example"
   ]
  },
  {
   "cell_type": "code",
   "execution_count": 42,
   "metadata": {},
   "outputs": [
    {
     "name": "stdout",
     "output_type": "stream",
     "text": [
      "{'userId': 1, 'id': 2, 'title': 'quis ut nam facilis et officia qui', 'completed': False}\n"
     ]
    }
   ],
   "source": [
    "url = 'https://jsonplaceholder.typicode.com/todos'\n",
    "\n",
    "response = requests.get(url)\n",
    "if response.status_code == 200:\n",
    "    results = response.json()\n",
    "    print( results[1])\n",
    "else:\n",
    "    print(f\"Request error with status_code {response.status_code}\")"
   ]
  }
 ],
 "metadata": {
  "kernelspec": {
   "display_name": "Python 3",
   "language": "python",
   "name": "python3"
  },
  "language_info": {
   "codemirror_mode": {
    "name": "ipython",
    "version": 3
   },
   "file_extension": ".py",
   "mimetype": "text/x-python",
   "name": "python",
   "nbconvert_exporter": "python",
   "pygments_lexer": "ipython3",
   "version": "3.6.3"
  }
 },
 "nbformat": 4,
 "nbformat_minor": 2
}
