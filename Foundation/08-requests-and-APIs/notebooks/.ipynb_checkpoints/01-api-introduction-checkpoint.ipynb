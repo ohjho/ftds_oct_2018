{
 "cells": [
  {
   "cell_type": "markdown",
   "metadata": {},
   "source": [
    "# API\n",
    "\n",
    "API stands for application programming interface, and is a gateway through which different computers / software components communicate.   For example if you want to interact with another computer (server)  with python this is often done through an API.  Equally if two servers communicate with one another they often do so through an API.\n",
    "These days as a programming you will have to deal with APIs often either to fetch data or as a way to deploy your solutions/algorithms.\n"
   ]
  },
  {
   "cell_type": "markdown",
   "metadata": {},
   "source": [
    "#  HTTP\n",
    "\n",
    "HTTP (Hyper text transfer protocol) is a request-response protocol that we use to send and recieve information on the internet. The protocol supports many [methods](https://developer.mozilla.org/en-US/docs/Web/HTTP/Methods) for example when you go on a webpage your browser makes a GET request, and the sever will repsond with the HTML page, some metadata (a header ) and some kind of status code. Likewise when your on a website and you fill out a form, when you press the submit button you'll send the forms information to the server using a POST request, and server will respond to comform it recieved the POST request.\n",
    "\n",
    "##  HTTP methods\n",
    "There are several methods:\n",
    "\n",
    "* GET used to retrieve a resource.   Requests contain usually just the URL.   Responses contain a body with the requested resource. \n",
    "\n",
    "* POST used to initiate an action on a server, like writing to a database.  The POST request can contain a body with information relevant to the request. \n",
    "\n",
    "* DELETE used to delete resources on a server. \n",
    "\n",
    "* PUT usually used to update resources on a server. \n",
    "\n",
    "With most of the API well interact with we'll only need to worry about `GET` and `POST` requests.\n",
    "\n",
    "## HTTP headers\n",
    "\n",
    "With every request and response you can pass along additional information, like status codes, cookies or authentication. \n",
    "\n",
    "## HTTP status\n",
    "There are a lot of status codes.   The most important ones are:\n",
    "\n",
    "* 200 - everything ok - if request was successful \n",
    "* 400 - Bad request - the request couldn’t be understood \n",
    "* 401 - Unauthorized - authentication is required for this request \n",
    "* 403 - Forbidden - client is not allowed to perform this request \n",
    "* 404 - Not found - resource doesn’t exist \n",
    "* 408 - Request timeout - request took too long \n",
    "* 500 - Internal Server Error - the server couldn’t handle request because of fault on its side"
   ]
  },
  {
   "cell_type": "markdown",
   "metadata": {},
   "source": [
    "# JSON\n",
    "\n",
    "JSON is a file format used by almost all modern APIs.   It stands for JavaScript Object Notation and is just a strict version of a JS object.   You can store JSON files using .json in the following format:\n",
    "\n",
    "```javascript\n",
    "{\n",
    "    \"name\": \"Mark Zuckerberg\",\n",
    "    \"occupation\": \"CEO\",\n",
    "    \"married\": true,\n",
    "    \"children\": [\n",
    "        {\n",
    "            \"name\": \"Maxima\"\n",
    "        }\n",
    "    ],\n",
    "    \"grandchildren\": []\n",
    "}\n",
    "```\n",
    "\n",
    "The main purpose of JSON is to pass dataround in the form a string. When you want to retrieve a batch of data from an API server (back-end) it will often be encoded as json.\n",
    "JSON is very similar to a python dictionary, the above json is almost a python dict, execept true should be True. The two primary parts that make up JSON are keys and values.   Together they make a key/value pair.\n",
    "\n",
    "* Key:   A key is always a string enclosed in quotation marks.\n",
    "\n",
    "* Value:   A value can be a string, number, boolean expression, array, or object.\n",
    "\n",
    "* Key/Value Pair:   A key value pair follows a specific syntax, with the key followed by a colon followed by the value.   Key/value pairs are comma separated.\n",
    "\n",
    "Some basic JSON Syntax Rules:\n",
    "\n",
    "* Data is in name/value pairs\n",
    "\n",
    "* Data is separated by commas\n",
    "\n",
    "* Curly braces hold objects\n",
    "\n",
    "* Square brackets hold arrays\n",
    "\n",
    "\n"
   ]
  },
  {
   "cell_type": "markdown",
   "metadata": {},
   "source": [
    "We can use the `json` library to help parse it into a python dictionary, `json.load` can be use to load json from a file or string and `json.dump` used to convert a python object into json."
   ]
  },
  {
   "cell_type": "code",
   "execution_count": 11,
   "metadata": {},
   "outputs": [
    {
     "data": {
      "text/plain": [
       "'{\"food\": [\"fried chicken\", \"fries\"], \"cost\": [40, 15], \"healthy\": [false, false]}'"
      ]
     },
     "execution_count": 11,
     "metadata": {},
     "output_type": "execute_result"
    }
   ],
   "source": [
    "import json\n",
    "\n",
    "d = { \n",
    "    \"food\": [\"fried chicken\", \"fries\"],\n",
    "    \"cost\": [40,15],\n",
    "    \"healthy\":[False,False]\n",
    "    }\n",
    "\n",
    "json.dumps(d)"
   ]
  },
  {
   "cell_type": "markdown",
   "metadata": {},
   "source": [
    "JSON can only used to pass encode and decode a limit number of object types. \n",
    "\n",
    "<table border=\"1\" class=\"docutils\" id=\"json-to-py-table\">\n",
    "<colgroup>\n",
    "<col width=\"44%\">\n",
    "<col width=\"56%\">\n",
    "</colgroup>\n",
    "<thead valign=\"bottom\">\n",
    "<tr class=\"row-odd\"><th class=\"head\">JSON</th>\n",
    "<th class=\"head\">Python</th>\n",
    "</tr>\n",
    "</thead>\n",
    "<tbody valign=\"top\">\n",
    "<tr class=\"row-even\"><td>object</td>\n",
    "<td>dict</td>\n",
    "</tr>\n",
    "<tr class=\"row-odd\"><td>array</td>\n",
    "<td>list</td>\n",
    "</tr>\n",
    "<tr class=\"row-even\"><td>string</td>\n",
    "<td>str</td>\n",
    "</tr>\n",
    "<tr class=\"row-odd\"><td>number (int)</td>\n",
    "<td>int</td>\n",
    "</tr>\n",
    "<tr class=\"row-even\"><td>number (real)</td>\n",
    "<td>float</td>\n",
    "</tr>\n",
    "<tr class=\"row-odd\"><td>true</td>\n",
    "<td>True</td>\n",
    "</tr>\n",
    "<tr class=\"row-even\"><td>false</td>\n",
    "<td>False</td>\n",
    "</tr>\n",
    "<tr class=\"row-odd\"><td>null</td>\n",
    "<td>None</td>\n",
    "</tr>\n",
    "</tbody>\n",
    "</table>\n"
   ]
  }
 ],
 "metadata": {
  "kernelspec": {
   "display_name": "Python 3",
   "language": "python",
   "name": "python3"
  },
  "language_info": {
   "codemirror_mode": {
    "name": "ipython",
    "version": 3
   },
   "file_extension": ".py",
   "mimetype": "text/x-python",
   "name": "python",
   "nbconvert_exporter": "python",
   "pygments_lexer": "ipython3",
   "version": "3.6.3"
  }
 },
 "nbformat": 4,
 "nbformat_minor": 2
}
