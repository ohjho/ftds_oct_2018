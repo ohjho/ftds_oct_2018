{
 "cells": [
  {
   "cell_type": "markdown",
   "metadata": {},
   "source": [
    "# Geo Tagging\n",
    "\n",
    "The Hong Kong goverment provides an [API](https://data.gov.hk/en-data/dataset/hk-ogcio-st_div_02-als/resource/8bd8eca8-b2a7-4171-b40c-a76336ec74a6) for address lookup, we can be used to get the longatude and latitude for and address. Although many other APIs provide geo coding like Google or Bings API, sometimes they don't work so great with Hong Kong Addresses. We can use the API in one of two ways, `GET` or `POST` requests.\n",
    "\n",
    "## GET Request\n",
    "\n",
    "The first way is by using a `GET` request to `https://www.als.ogcio.gov.hk/lookup?q=<input address in free text format>`. Notice the `?` in the url, after that we send our url parameters. `q` is the parameter and it's set equal to some address. For example if I want the longatude and latitude for Mong Kok McDonalds the url would look like  `https://www.als.ogcio.gov.hk/lookup?q=612-618%20Nathan%20Rd`. The space is replace by `%20` as this is the url encoding for spaces. Thankfully we don't have to generate this URL using string formatiing since the request library will handle it for us. We just pass the parameters to `requests.get` as a dictionary.\n",
    "\n"
   ]
  },
  {
   "cell_type": "code",
   "execution_count": 12,
   "metadata": {},
   "outputs": [
    {
     "data": {
      "text/plain": [
       "<Response [200]>"
      ]
     },
     "execution_count": 12,
     "metadata": {},
     "output_type": "execute_result"
    }
   ],
   "source": [
    "import requests\n",
    "\n",
    "url = \"https://www.als.ogcio.gov.hk/lookup\"\n",
    "address =  \"612-618 Nathan Rd\"\n",
    "params = {\n",
    "    \"q\":address\n",
    "}\n",
    "\n",
    "requests.get(url, params=params) #200 means success"
   ]
  },
  {
   "cell_type": "markdown",
   "metadata": {},
   "source": [
    "## POST Request\n",
    "\n",
    "Alternatively we can make a post request to `https://www.als.ogcio.gov.hk/lookup`.  In this case it's probally better to make a POST request since it gives us more control.  By default the API responds in XML, but this is a bit of a pain to parse. However if we make a POST request we can set the accept type in the headers to json, and the API will respond in JSON.  We'll send the `q` parameter in the query body.\n",
    "\n"
   ]
  },
  {
   "cell_type": "code",
   "execution_count": 15,
   "metadata": {},
   "outputs": [],
   "source": [
    "data = {\"q\":address, \"n\":1} #n means only send 1 \n",
    "headers ={\"Accept\": \"application/json\"}\n",
    "api_url = \"https://www.als.ogcio.gov.hk/lookup\"\n",
    "res = requests.post(api_url,data=data,headers=headers)"
   ]
  },
  {
   "cell_type": "markdown",
   "metadata": {},
   "source": [
    "We can then parse get the JSON text back from the response and parse it into a Python dictionary."
   ]
  },
  {
   "cell_type": "code",
   "execution_count": 20,
   "metadata": {},
   "outputs": [
    {
     "data": {
      "text/plain": [
       "{'RequestAddress': {'AddressLine': ['612-618 Nathan Rd']},\n",
       " 'SuggestedAddress': [{'Address': {'PremisesAddress': {'EngPremisesAddress': {'BuildingName': 'GOOD HOPE BUILDING',\n",
       "      'EngStreet': {'StreetName': 'NATHAN ROAD',\n",
       "       'BuildingNoFrom': '612',\n",
       "       'BuildingNoTo': '618'},\n",
       "      'EngDistrict': {'DcDistrict': 'YTM'},\n",
       "      'Region': 'KLN'},\n",
       "     'ChiPremisesAddress': {'Region': '九龍',\n",
       "      'ChiDistrict': {'DcDistrict': 'YTM'},\n",
       "      'ChiStreet': {'StreetName': '彌敦道',\n",
       "       'BuildingNoFrom': '612',\n",
       "       'BuildingNoTo': '618'},\n",
       "      'BuildingName': '好望角大廈'},\n",
       "     'GeospatialInformation': [{'Northing': '819812',\n",
       "       'Easting': '835573',\n",
       "       'Latitude': '22.3173',\n",
       "       'Longitude': '114.1701'}]}},\n",
       "   'ValidationInformation': {'ValidationTime': None}}]}"
      ]
     },
     "execution_count": 20,
     "metadata": {},
     "output_type": "execute_result"
    }
   ],
   "source": [
    "import json\n",
    "json.loads(res.text)"
   ]
  }
 ],
 "metadata": {
  "kernelspec": {
   "display_name": "Python 3",
   "language": "python",
   "name": "python3"
  },
  "language_info": {
   "codemirror_mode": {
    "name": "ipython",
    "version": 3
   },
   "file_extension": ".py",
   "mimetype": "text/x-python",
   "name": "python",
   "nbconvert_exporter": "python",
   "pygments_lexer": "ipython3",
   "version": "3.6.3"
  }
 },
 "nbformat": 4,
 "nbformat_minor": 2
}
