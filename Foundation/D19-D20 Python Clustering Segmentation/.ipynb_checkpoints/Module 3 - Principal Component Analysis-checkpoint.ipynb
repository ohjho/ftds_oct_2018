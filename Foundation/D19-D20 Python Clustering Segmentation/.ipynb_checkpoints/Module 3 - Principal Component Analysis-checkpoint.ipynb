{
 "cells": [
  {
   "cell_type": "markdown",
   "metadata": {},
   "source": [
    "<h1 style=\"font-size:42px; text-align:center; margin-bottom:30px;\"><span style=\"color:SteelBlue\">Module 3:</span> PCA</h1>\n",
    "<hr>\n",
    "\n",
    "\n",
    "Principal Component Analysis, or PCA, is a popular dimensionality reduction technique.\n",
    "\n",
    "PCA seeks to create new features by finding linear combinations of your original ones. These new features, called **principal components**, are meant to maximize the **\"explained variance,\"** which we'll explain further in the module.\n",
    "\n",
    "* In this module, we'll prepare individual item features for our clustering algorithms, except this time we'll use PCA instead of thresholding.\n",
    "* PCA is especially effective when you have many correlated features.\n",
    "* Important: PCA creates new features that replace the original ones.\n",
    "\n",
    "\n",
    "<br><hr id=\"toc\">\n",
    "\n",
    "### In this module, we will cover...\n",
    "\n",
    "1. Principal components Analysis Concept\n",
    "2. Application of PCA: Dimensionality reduction\n",
    "3. Item data PCA\n",
    "4. Explained variance\n"
   ]
  },
  {
   "cell_type": "markdown",
   "metadata": {},
   "source": [
    "# Principle Component Analysis Concept\n",
    "\n",
    "Principal component analysis is a fast and flexible unsupervised method for dimensionality reduction in data,consider the following 200 points:\n"
   ]
  },
  {
   "cell_type": "code",
   "execution_count": 12,
   "metadata": {},
   "outputs": [
    {
     "name": "stdout",
     "output_type": "stream",
     "text": [
      "(200, 2)\n"
     ]
    },
    {
     "data": {
      "image/png": "[encoded data removed]",
      "text/plain": [
       "<Figure size 432x288 with 1 Axes>"
      ]
     },
     "metadata": {},
     "output_type": "display_data"
    }
   ],
   "source": [
    "# rng stands for random number generator\n",
    "rng = np.random.RandomState(1)\n",
    "X = np.dot(rng.rand(2, 2), rng.randn(2, 200)).T\n",
    "print(X.shape)\n",
    "\n",
    "plt.scatter(X[:, 0], X[:, 1])\n",
    "plt.axis('equal');"
   ]
  },
  {
   "cell_type": "markdown",
   "metadata": {},
   "source": [
    "By eye, it is clear that there is a nearly linear relationship between the x and y variables.\n",
    "\n",
    "Linear regression: predicting y from x\n",
    "\n",
    "Principal Component Analysis: relationship between x and y\n",
    "\n",
    "In principal component analysis, this relationship is quantified by finding a list of the principal axes in the data, and using those axes to describe the dataset. Using Scikit-Learn's PCA estimator, we can compute this as follows:"
   ]
  },
  {
   "cell_type": "code",
   "execution_count": 13,
   "metadata": {},
   "outputs": [
    {
     "data": {
      "text/plain": [
       "PCA(copy=True, iterated_power='auto', n_components=2, random_state=None,\n",
       "  svd_solver='auto', tol=0.0, whiten=False)"
      ]
     },
     "execution_count": 13,
     "metadata": {},
     "output_type": "execute_result"
    }
   ],
   "source": [
    "from sklearn.decomposition import PCA\n",
    "pca = PCA(n_components=2)\n",
    "pca.fit(X)"
   ]
  },
  {
   "cell_type": "markdown",
   "metadata": {},
   "source": [
    "The fit learns some quantities from the data, most importantly the \"components\" and \"explained variance\":"
   ]
  },
  {
   "cell_type": "code",
   "execution_count": 14,
   "metadata": {},
   "outputs": [
    {
     "name": "stdout",
     "output_type": "stream",
     "text": [
      "[[-0.94446029 -0.32862557]\n",
      " [-0.32862557  0.94446029]]\n"
     ]
    }
   ],
   "source": [
    "print(pca.components_)"
   ]
  },
  {
   "cell_type": "code",
   "execution_count": 15,
   "metadata": {},
   "outputs": [
    {
     "name": "stdout",
     "output_type": "stream",
     "text": [
      "[0.7625315 0.0184779]\n"
     ]
    }
   ],
   "source": [
    "print(pca.explained_variance_)"
   ]
  },
  {
   "cell_type": "markdown",
   "metadata": {},
   "source": [
    "To see what these numbers mean, let's visualize them as vectors over the input data, using the \"components\" to define the direction of the vector, and the \"explained variance\" to define the squared-length of the vector:"
   ]
  },
  {
   "cell_type": "code",
   "execution_count": 16,
   "metadata": {},
   "outputs": [
    {
     "data": {
      "image/png": "[encoded data removed]",
      "text/plain": [
       "<Figure size 432x288 with 1 Axes>"
      ]
     },
     "metadata": {},
     "output_type": "display_data"
    }
   ],
   "source": [
    "def draw_vector(v0, v1, ax=None):\n",
    "    ax = ax or plt.gca()\n",
    "    arrowprops=dict(arrowstyle='->',\n",
    "                    linewidth=2,\n",
    "                    shrinkA=0, shrinkB=0)\n",
    "    ax.annotate('', v1, v0, arrowprops=arrowprops)\n",
    "\n",
    "# plot data\n",
    "plt.scatter(X[:, 0], X[:, 1], alpha=0.2)\n",
    "for length, vector in zip(pca.explained_variance_, pca.components_):\n",
    "    v = vector * 3 * np.sqrt(length)\n",
    "    draw_vector(pca.mean_, pca.mean_ + v)\n",
    "plt.axis('equal');"
   ]
  },
  {
   "cell_type": "markdown",
   "metadata": {},
   "source": [
    "These vectors represent the principal axes of the data, and the length of the vector is an indication of how \"important\" that axis is in describing the distribution of the data—more precisely, it is a measure of the variance of the data when projected onto that axis. The projection of each data point onto the principal axes are the \"principal components\" of the data."
   ]
  },
  {
   "cell_type": "markdown",
   "metadata": {},
   "source": [
    "### PCA as dimensionality reduction\n",
    "\n",
    "Using PCA for dimensionality reduction involves zeroing out one or more of the smallest principal components, resulting in a lower-dimensional projection of the data that preserves the maximal data variance.\n",
    "\n",
    "Here is an example of using PCA as a dimensionality reduction transform:"
   ]
  },
  {
   "cell_type": "code",
   "execution_count": 28,
   "metadata": {},
   "outputs": [
    {
     "name": "stdout",
     "output_type": "stream",
     "text": [
      "original shape:    (200, 2)\n",
      "transformed shape: (200, 1)\n",
      "[[-0.62530162 -0.17006366]\n",
      " [ 0.96069503  0.5909006 ]\n",
      " [-0.59854339 -0.40259339]\n",
      " [-2.22805938 -0.53257674]\n",
      " [-0.46143006 -0.49886724]]\n",
      "[[ 0.67676923]\n",
      " [-1.07121393]\n",
      " [ 0.72791236]\n",
      " [ 2.30964136]\n",
      " [ 0.63005232]]\n"
     ]
    }
   ],
   "source": [
    "pca = PCA(n_components=1)\n",
    "pca.fit(X)\n",
    "X_pca = pca.transform(X)\n",
    "print(\"original shape:   \", X.shape)\n",
    "print(\"transformed shape:\", X_pca.shape)\n",
    "\n",
    "print(X[0:5])\n",
    "print(X_pca[0:5])"
   ]
  },
  {
   "cell_type": "markdown",
   "metadata": {},
   "source": [
    "The transformed data has been reduced to a single dimension. To understand the effect of this dimensionality reduction, we can perform the inverse transform of this reduced data and plot it along with the original data:"
   ]
  },
  {
   "cell_type": "code",
   "execution_count": 29,
   "metadata": {
    "scrolled": true
   },
   "outputs": [
    {
     "data": {
      "image/png": "[encoded data removed]",
      "text/plain": [
       "<Figure size 432x288 with 1 Axes>"
      ]
     },
     "metadata": {},
     "output_type": "display_data"
    }
   ],
   "source": [
    "X_new = pca.inverse_transform(X_pca)\n",
    "plt.scatter(X[:, 0], X[:, 1], alpha=0.2)\n",
    "plt.scatter(X_new[:, 0], X_new[:, 1], alpha=0.8)\n",
    "plt.axis('equal');"
   ]
  },
  {
   "cell_type": "markdown",
   "metadata": {},
   "source": [
    "The light points are the original data, while the dark points are the projected version. This makes clear what a PCA dimensionality reduction means: the information along the least important principal axis or axes is removed, leaving only the component(s) of the data with the highest variance. The fraction of variance that is cut out (proportional to the spread of points about the line formed in this figure) is roughly a measure of how much \"information\" is discarded in this reduction of dimensionality.\n",
    "This reduced-dimension dataset is in some senses \"good enough\" to encode the most important relationships between the points: despite reducing the dimension of the data by 50%, the overall relationship between the data points are mostly preserved."
   ]
  },
  {
   "cell_type": "markdown",
   "metadata": {},
   "source": [
    "# The Mathematics for PCA algorithms\n",
    "\n",
    "\n",
    "Step 1: We need to preprocess the data into normalized form\n",
    "\n",
    "\n",
    "\n",
    "Step 2: We can reduce the dimension by using svd\n",
    "\n"
   ]
  },
  {
   "cell_type": "markdown",
   "metadata": {},
   "source": [
    "# Singular Value Decomposition (SVD)\n",
    "\n",
    "Singular value decomposition takes a rectangular matrix of gene expression data (defined as A, where A is a n x p matrix) in which the n rows represents the genes, and the p columns represents the experimental conditions. \n",
    "\n",
    "![](img/svd1.png)\n",
    "![](img/svd2.png)\n"
   ]
  },
  {
   "cell_type": "code",
   "execution_count": 19,
   "metadata": {
    "scrolled": true
   },
   "outputs": [
    {
     "name": "stdout",
     "output_type": "stream",
     "text": [
      "[[2 4]\n",
      " [1 3]\n",
      " [0 0]\n",
      " [0 0]] (4, 2)\n",
      "[[ 0.82 -0.58  0.    0.  ]\n",
      " [ 0.58  0.82  0.    0.  ]\n",
      " [ 0.    0.    1.    0.  ]\n",
      " [ 0.    0.    0.    1.  ]] (4, 4)\n",
      "[[ 0.4  -0.91]\n",
      " [ 0.91  0.4 ]] (2, 2)\n",
      "[[5.47 0.  ]\n",
      " [0.   0.37]\n",
      " [0.   0.  ]\n",
      " [0.   0.  ]] (4, 2)\n",
      "[[1.989446 3.995874]\n",
      " [0.992946 3.008426]\n",
      " [0.       0.      ]\n",
      " [0.       0.      ]]\n"
     ]
    }
   ],
   "source": [
    "# Example of SVD is given below:\n",
    "    \n",
    "import numpy as np\n",
    "\n",
    "A = np.array([[2,4],[1,3],[0,0],[0,0]])\n",
    "U = np.array([[0.82,-0.58,0,0],[0.58,0.82,0,0],[0,0,1,0],[0,0,0,1]])\n",
    "V = np.array([[0.40,-0.91],[0.91,0.40]])\n",
    "S = np.array([[5.47,0],[0,0.37],[0,0],[0,0]])\n",
    "\n",
    "print(A,A.shape)\n",
    "print(U,U.shape)    \n",
    "print(V,V.shape)    \n",
    "print(S,S.shape)\n",
    "\n",
    "print(np.dot(np.dot(U,S),V.T))"
   ]
  },
  {
   "cell_type": "markdown",
   "metadata": {},
   "source": [
    "# Application of PCA for visualization: Hand-written digits\n",
    "\n",
    "The usefulness of the dimensionality reduction may not be entirely apparent in only two dimensions, but becomes much more clear when looking at high-dimensional data.\n",
    "\n",
    "We start by loading the data:"
   ]
  },
  {
   "cell_type": "code",
   "execution_count": 20,
   "metadata": {},
   "outputs": [
    {
     "data": {
      "text/plain": [
       "(1797, 64)"
      ]
     },
     "execution_count": 20,
     "metadata": {},
     "output_type": "execute_result"
    }
   ],
   "source": [
    "from sklearn.datasets import load_digits\n",
    "digits = load_digits()\n",
    "digits.data.shape"
   ]
  },
  {
   "cell_type": "markdown",
   "metadata": {},
   "source": [
    "Recall that the data consists of 8×8 pixel images, meaning that they are 64-dimensional.\n",
    "To gain some intuition into the relationships between these points, we can use PCA to project them to a more manageable number of dimensions, say two:"
   ]
  },
  {
   "cell_type": "code",
   "execution_count": 21,
   "metadata": {},
   "outputs": [
    {
     "name": "stdout",
     "output_type": "stream",
     "text": [
      "(1797, 64)\n",
      "(1797, 2)\n",
      "[[ 0.  0.  5. 13.  9.  1.  0.  0.  0.  0. 13. 15. 10. 15.  5.  0.  0.  3.\n",
      "  15.  2.  0. 11.  8.  0.  0.  4. 12.  0.  0.  8.  8.  0.  0.  5.  8.  0.\n",
      "   0.  9.  8.  0.  0.  4. 11.  0.  1. 12.  7.  0.  0.  2. 14.  5. 10. 12.\n",
      "   0.  0.  0.  0.  6. 13. 10.  0.  0.  0.]\n",
      " [ 0.  0.  0. 12. 13.  5.  0.  0.  0.  0.  0. 11. 16.  9.  0.  0.  0.  0.\n",
      "   3. 15. 16.  6.  0.  0.  0.  7. 15. 16. 16.  2.  0.  0.  0.  0.  1. 16.\n",
      "  16.  3.  0.  0.  0.  0.  1. 16. 16.  6.  0.  0.  0.  0.  1. 16. 16.  6.\n",
      "   0.  0.  0.  0.  0. 11. 16. 10.  0.  0.]]\n",
      "[[ -1.2594676   21.27488884]\n",
      " [  7.95760916 -20.76869572]]\n"
     ]
    }
   ],
   "source": [
    "pca = PCA(2)  # project from 64 to 2 dimensions\n",
    "projected = pca.fit_transform(digits.data)\n",
    "print(digits.data.shape)\n",
    "print(projected.shape)\n",
    "\n",
    "print(digits.data[0:2,:])\n",
    "print(projected[0:2,:])"
   ]
  },
  {
   "cell_type": "markdown",
   "metadata": {},
   "source": [
    "### What do the components mean?\n",
    "\n",
    "We can go a bit further here, and begin to ask what the reduced dimensions *mean*.\n",
    "This meaning can be understood in terms of combinations of basis vectors.\n",
    "For example, each image in the training set is defined by a collection of 64 pixel values, which we will call the vector $x$:\n",
    "\n",
    "$$\n",
    "x = [x_1, x_2, x_3 \\cdots x_{64}]\n",
    "$$\n",
    "\n",
    "One way we can think about this is in terms of a pixel basis.\n",
    "That is, to construct the image, we multiply each element of the vector by the pixel it describes, and then add the results together to build the image:\n",
    "\n",
    "$$\n",
    "{\\rm image}(x) = x_1 \\cdot{\\rm (pixel~1)} + x_2 \\cdot{\\rm (pixel~2)} + x_3 \\cdot{\\rm (pixel~3)} \\cdots x_{64} \\cdot{\\rm (pixel~64)}\n",
    "$$\n",
    "\n",
    "One way we might imagine reducing the dimension of this data is to zero out all but a few of these basis vectors.\n",
    "For example, if we use only the first eight pixels, we get an eight-dimensional projection of the data, but it is not very reflective of the whole image: we've thrown out nearly 90% of the pixels!"
   ]
  },
  {
   "cell_type": "markdown",
   "metadata": {},
   "source": [
    "\n",
    "$$\n",
    "image(x) = {\\rm mean} + x_1 \\cdot{\\rm (basis~1)} + x_2 \\cdot{\\rm (basis~2)} + x_3 \\cdot{\\rm (basis~3)} \\cdots\n",
    "$$\n",
    "\n",
    "PCA can be thought of as a process of choosing optimal basis functions, such that adding together just the first few of them is enough to suitably reconstruct the bulk of the elements in the dataset.\n",
    "The principal components, which act as the low-dimensional representation of our data, are simply the coefficients that multiply each of the elements in this series.\n",
    "This figure shows a similar depiction of reconstructing this digit using the mean plus the first eight PCA basis functions:"
   ]
  },
  {
   "cell_type": "markdown",
   "metadata": {},
   "source": [
    "### Choosing the number of components\n",
    "\n",
    "A vital part of using PCA in practice is the ability to estimate how many components are needed to describe the data.\n",
    "This can be determined by looking at the cumulative *explained variance ratio* as a function of the number of components:"
   ]
  },
  {
   "cell_type": "code",
   "execution_count": 22,
   "metadata": {},
   "outputs": [
    {
     "data": {
      "image/png": "[encoded data removed]",
      "text/plain": [
       "<Figure size 432x288 with 1 Axes>"
      ]
     },
     "metadata": {},
     "output_type": "display_data"
    }
   ],
   "source": [
    "pca = PCA().fit(digits.data)\n",
    "plt.plot(np.cumsum(pca.explained_variance_ratio_))\n",
    "plt.xlabel('number of components')\n",
    "plt.ylabel('cumulative explained variance');"
   ]
  },
  {
   "cell_type": "markdown",
   "metadata": {},
   "source": [
    "This curve quantifies how much of the total, 64-dimensional variance is contained within the first $N$ components.\n",
    "For example, we see that with the digits the first 10 components contain approximately 75% of the variance, while you need around 50 components to describe close to 100% of the variance.\n",
    "\n",
    "Here we see that our two-dimensional projection loses a lot of information (as measured by the explained variance) and that we'd need about 20 components to retain 90% of the variance.  Looking at this plot for a high-dimensional dataset can help you understand the level of redundancy present in multiple observations."
   ]
  },
  {
   "cell_type": "code",
   "execution_count": null,
   "metadata": {},
   "outputs": [],
   "source": []
  },
  {
   "cell_type": "markdown",
   "metadata": {},
   "source": [
    "## PCA as Noise Filtering\n",
    "\n",
    "PCA can also be used as a filtering approach for noisy data.\n",
    "The idea is this: any components with variance much larger than the effect of the noise should be relatively unaffected by the noise.\n",
    "So if you reconstruct the data using just the largest subset of principal components, you should be preferentially keeping the signal and throwing out the noise.\n",
    "\n",
    "Let's see how this looks with the digits data.\n",
    "First we will plot several of the input noise-free data:"
   ]
  },
  {
   "cell_type": "code",
   "execution_count": 23,
   "metadata": {
    "scrolled": true
   },
   "outputs": [
    {
     "data": {
      "image/png": "[encoded data removed]",
      "text/plain": [
       "<Figure size 720x288 with 40 Axes>"
      ]
     },
     "metadata": {},
     "output_type": "display_data"
    }
   ],
   "source": [
    "def plot_digits(data):\n",
    "    fig, axes = plt.subplots(4, 10, figsize=(10, 4),\n",
    "                             subplot_kw={'xticks':[], 'yticks':[]},\n",
    "                             gridspec_kw=dict(hspace=0.1, wspace=0.1))\n",
    "    for i, ax in enumerate(axes.flat):\n",
    "        ax.imshow(data[i].reshape(8, 8),\n",
    "                  cmap='binary', interpolation='nearest',\n",
    "                  clim=(0, 16))\n",
    "plot_digits(digits.data)"
   ]
  },
  {
   "cell_type": "markdown",
   "metadata": {},
   "source": [
    "Now lets add some random noise to create a noisy dataset, and re-plot it:"
   ]
  },
  {
   "cell_type": "code",
   "execution_count": 24,
   "metadata": {
    "scrolled": true
   },
   "outputs": [
    {
     "data": {
      "image/png": "[encoded data removed]",
      "text/plain": [
       "<Figure size 720x288 with 40 Axes>"
      ]
     },
     "metadata": {},
     "output_type": "display_data"
    }
   ],
   "source": [
    "np.random.seed(42)\n",
    "noisy = np.random.normal(digits.data, 4)\n",
    "plot_digits(noisy)"
   ]
  },
  {
   "cell_type": "markdown",
   "metadata": {},
   "source": [
    "It's clear by eye that the images are noisy, and contain spurious pixels. Let's train a PCA on the noisy data, requesting that the projection preserve 50% of the variance:"
   ]
  },
  {
   "cell_type": "code",
   "execution_count": 26,
   "metadata": {
    "scrolled": true
   },
   "outputs": [
    {
     "data": {
      "text/plain": [
       "12"
      ]
     },
     "execution_count": 26,
     "metadata": {},
     "output_type": "execute_result"
    }
   ],
   "source": [
    "pca = PCA(0.50).fit(noisy)\n",
    "pca.n_components_"
   ]
  },
  {
   "cell_type": "markdown",
   "metadata": {},
   "source": [
    "Here 50% of the variance amounts to 12 principal components. Now we compute these components, and then use the inverse of the transform to reconstruct the filtered digits:"
   ]
  },
  {
   "cell_type": "code",
   "execution_count": 25,
   "metadata": {},
   "outputs": [
    {
     "data": {
      "image/png": "[encoded data removed]",
      "text/plain": [
       "<Figure size 720x288 with 40 Axes>"
      ]
     },
     "metadata": {},
     "output_type": "display_data"
    }
   ],
   "source": [
    "components = pca.transform(noisy)\n",
    "filtered = pca.inverse_transform(components)\n",
    "plot_digits(filtered)"
   ]
  },
  {
   "cell_type": "markdown",
   "metadata": {},
   "source": [
    "\n",
    "This signal preserving/noise filtering property makes PCA a very useful feature selection routine—for example, rather than training a classifier on very high-dimensional data, you might instead train the classifier on the lower-dimensional representation, which will automatically serve to filter out random noise in the inputs."
   ]
  },
  {
   "cell_type": "markdown",
   "metadata": {},
   "source": [
    "<span id=\"item-data\"></span>\n",
    "# 4. Item data PCA\n",
    "\n",
    "Now let's get back to our project.\n",
    "\n",
    "<br>\n",
    "**First, scale <code style=\"color:crimson\">item_data</code>, which you imported at the beginning of this module.**\n",
    "* Name the scaled dataset <code style=\"color:crimson\">item_data_scaled</code>.\n",
    "* Then, display the first 5 rows. \n",
    "    * You can't use <code style=\"color:steelblue\">.head()</code> because it's not a dataframe.\n",
    "    * You must **index/slice the array** instead."
   ]
  },
  {
   "cell_type": "markdown",
   "metadata": {},
   "source": [
    "### First, let's import libraries and load the item data.\n",
    "\n",
    "First, import libraries that you'll need."
   ]
  },
  {
   "cell_type": "code",
   "execution_count": 1,
   "metadata": {},
   "outputs": [],
   "source": [
    "# Commonly used data science packages: NumPy, Pandas, Matplotlib, Seaborn \n",
    "import numpy as np\n",
    "import pandas as pd\n",
    "import matplotlib.pyplot as plt\n",
    "import seaborn as sns\n",
    "%matplotlib inline\n",
    "\n",
    "# sklearn sub modules for preprocessing and decomposition\n",
    "from sklearn.preprocessing import StandardScaler\n",
    "from sklearn.decomposition import PCA"
   ]
  },
  {
   "cell_type": "markdown",
   "metadata": {},
   "source": [
    "Next, let's import the full item data that we saved in the previous module (before applying thresholds).\n",
    "* Remember, we saved it as <code style=\"color:crimson\">'item_data.csv'</code>.\n",
    "* This time, we'll also pass in the argument <code style=\"color:steelblue\">index_col=0</code> to tell Pandas to treat the first column (CustomerID) as the index."
   ]
  },
  {
   "cell_type": "code",
   "execution_count": 2,
   "metadata": {},
   "outputs": [],
   "source": [
    "# getting item data for using PCA to reduce dimension\n",
    "item_data = pd.read_csv('data/item_data.csv',index_col = 0) # with index_col = 0 for using CustomerID as index"
   ]
  },
  {
   "cell_type": "code",
   "execution_count": 3,
   "metadata": {},
   "outputs": [
    {
     "name": "stdout",
     "output_type": "stream",
     "text": [
      "(414, 2574)\n"
     ]
    }
   ],
   "source": [
    "print(item_data.shape) # Just to confirm this dataset should have 2574 features"
   ]
  },
  {
   "cell_type": "code",
   "execution_count": 4,
   "metadata": {
    "scrolled": true
   },
   "outputs": [
    {
     "data": {
      "text/html": [
       "<div>\n",
       "<style scoped>\n",
       "    .dataframe tbody tr th:only-of-type {\n",
       "        vertical-align: middle;\n",
       "    }\n",
       "\n",
       "    .dataframe tbody tr th {\n",
       "        vertical-align: top;\n",
       "    }\n",
       "\n",
       "    .dataframe thead th {\n",
       "        text-align: right;\n",
       "    }\n",
       "</style>\n",
       "<table border=\"1\" class=\"dataframe\">\n",
       "  <thead>\n",
       "    <tr style=\"text-align: right;\">\n",
       "      <th></th>\n",
       "      <th>10002</th>\n",
       "      <th>10120</th>\n",
       "      <th>10125</th>\n",
       "      <th>10133</th>\n",
       "      <th>10135</th>\n",
       "      <th>11001</th>\n",
       "      <th>15034</th>\n",
       "      <th>15036</th>\n",
       "      <th>15039</th>\n",
       "      <th>15044A</th>\n",
       "      <th>...</th>\n",
       "      <th>90192</th>\n",
       "      <th>90201A</th>\n",
       "      <th>90201B</th>\n",
       "      <th>90201C</th>\n",
       "      <th>90201D</th>\n",
       "      <th>90202D</th>\n",
       "      <th>90204</th>\n",
       "      <th>C2</th>\n",
       "      <th>M</th>\n",
       "      <th>POST</th>\n",
       "    </tr>\n",
       "    <tr>\n",
       "      <th>CustomerID</th>\n",
       "      <th></th>\n",
       "      <th></th>\n",
       "      <th></th>\n",
       "      <th></th>\n",
       "      <th></th>\n",
       "      <th></th>\n",
       "      <th></th>\n",
       "      <th></th>\n",
       "      <th></th>\n",
       "      <th></th>\n",
       "      <th></th>\n",
       "      <th></th>\n",
       "      <th></th>\n",
       "      <th></th>\n",
       "      <th></th>\n",
       "      <th></th>\n",
       "      <th></th>\n",
       "      <th></th>\n",
       "      <th></th>\n",
       "      <th></th>\n",
       "      <th></th>\n",
       "    </tr>\n",
       "  </thead>\n",
       "  <tbody>\n",
       "    <tr>\n",
       "      <th>12347</th>\n",
       "      <td>0</td>\n",
       "      <td>0</td>\n",
       "      <td>0</td>\n",
       "      <td>0</td>\n",
       "      <td>0</td>\n",
       "      <td>0</td>\n",
       "      <td>0</td>\n",
       "      <td>0</td>\n",
       "      <td>0</td>\n",
       "      <td>0</td>\n",
       "      <td>...</td>\n",
       "      <td>0</td>\n",
       "      <td>0</td>\n",
       "      <td>0</td>\n",
       "      <td>0</td>\n",
       "      <td>0</td>\n",
       "      <td>0</td>\n",
       "      <td>0</td>\n",
       "      <td>0</td>\n",
       "      <td>0</td>\n",
       "      <td>0</td>\n",
       "    </tr>\n",
       "    <tr>\n",
       "      <th>12348</th>\n",
       "      <td>0</td>\n",
       "      <td>0</td>\n",
       "      <td>0</td>\n",
       "      <td>0</td>\n",
       "      <td>0</td>\n",
       "      <td>0</td>\n",
       "      <td>0</td>\n",
       "      <td>0</td>\n",
       "      <td>0</td>\n",
       "      <td>0</td>\n",
       "      <td>...</td>\n",
       "      <td>0</td>\n",
       "      <td>0</td>\n",
       "      <td>0</td>\n",
       "      <td>0</td>\n",
       "      <td>0</td>\n",
       "      <td>0</td>\n",
       "      <td>0</td>\n",
       "      <td>0</td>\n",
       "      <td>0</td>\n",
       "      <td>4</td>\n",
       "    </tr>\n",
       "    <tr>\n",
       "      <th>12349</th>\n",
       "      <td>0</td>\n",
       "      <td>0</td>\n",
       "      <td>0</td>\n",
       "      <td>0</td>\n",
       "      <td>0</td>\n",
       "      <td>0</td>\n",
       "      <td>0</td>\n",
       "      <td>0</td>\n",
       "      <td>0</td>\n",
       "      <td>0</td>\n",
       "      <td>...</td>\n",
       "      <td>0</td>\n",
       "      <td>0</td>\n",
       "      <td>0</td>\n",
       "      <td>0</td>\n",
       "      <td>0</td>\n",
       "      <td>0</td>\n",
       "      <td>0</td>\n",
       "      <td>0</td>\n",
       "      <td>0</td>\n",
       "      <td>1</td>\n",
       "    </tr>\n",
       "    <tr>\n",
       "      <th>12350</th>\n",
       "      <td>0</td>\n",
       "      <td>0</td>\n",
       "      <td>0</td>\n",
       "      <td>0</td>\n",
       "      <td>0</td>\n",
       "      <td>0</td>\n",
       "      <td>0</td>\n",
       "      <td>0</td>\n",
       "      <td>0</td>\n",
       "      <td>0</td>\n",
       "      <td>...</td>\n",
       "      <td>0</td>\n",
       "      <td>0</td>\n",
       "      <td>0</td>\n",
       "      <td>0</td>\n",
       "      <td>0</td>\n",
       "      <td>0</td>\n",
       "      <td>0</td>\n",
       "      <td>0</td>\n",
       "      <td>0</td>\n",
       "      <td>1</td>\n",
       "    </tr>\n",
       "    <tr>\n",
       "      <th>12352</th>\n",
       "      <td>0</td>\n",
       "      <td>0</td>\n",
       "      <td>0</td>\n",
       "      <td>0</td>\n",
       "      <td>0</td>\n",
       "      <td>0</td>\n",
       "      <td>0</td>\n",
       "      <td>0</td>\n",
       "      <td>0</td>\n",
       "      <td>0</td>\n",
       "      <td>...</td>\n",
       "      <td>0</td>\n",
       "      <td>0</td>\n",
       "      <td>0</td>\n",
       "      <td>0</td>\n",
       "      <td>0</td>\n",
       "      <td>0</td>\n",
       "      <td>0</td>\n",
       "      <td>0</td>\n",
       "      <td>3</td>\n",
       "      <td>5</td>\n",
       "    </tr>\n",
       "  </tbody>\n",
       "</table>\n",
       "<p>5 rows × 2574 columns</p>\n",
       "</div>"
      ],
      "text/plain": [
       "            10002  10120  10125  10133  10135  11001  15034  15036  15039  \\\n",
       "CustomerID                                                                  \n",
       "12347           0      0      0      0      0      0      0      0      0   \n",
       "12348           0      0      0      0      0      0      0      0      0   \n",
       "12349           0      0      0      0      0      0      0      0      0   \n",
       "12350           0      0      0      0      0      0      0      0      0   \n",
       "12352           0      0      0      0      0      0      0      0      0   \n",
       "\n",
       "            15044A  ...   90192  90201A  90201B  90201C  90201D  90202D  \\\n",
       "CustomerID          ...                                                   \n",
       "12347            0  ...       0       0       0       0       0       0   \n",
       "12348            0  ...       0       0       0       0       0       0   \n",
       "12349            0  ...       0       0       0       0       0       0   \n",
       "12350            0  ...       0       0       0       0       0       0   \n",
       "12352            0  ...       0       0       0       0       0       0   \n",
       "\n",
       "            90204  C2  M  POST  \n",
       "CustomerID                      \n",
       "12347           0   0  0     0  \n",
       "12348           0   0  0     4  \n",
       "12349           0   0  0     1  \n",
       "12350           0   0  0     1  \n",
       "12352           0   0  3     5  \n",
       "\n",
       "[5 rows x 2574 columns]"
      ]
     },
     "execution_count": 4,
     "metadata": {},
     "output_type": "execute_result"
    }
   ],
   "source": [
    "item_data.head()"
   ]
  },
  {
   "cell_type": "markdown",
   "metadata": {},
   "source": [
    "Q1: using standardscaler() to transform the original item_data to be a normalized one, and print out the first 5 scaled data\n",
    "\n",
    "#### JHO's Note:\n",
    "[sklearn doc](https://scikit-learn.org/stable/modules/generated/sklearn.preprocessing.StandardScaler.html)"
   ]
  },
  {
   "cell_type": "code",
   "execution_count": 6,
   "metadata": {},
   "outputs": [
    {
     "name": "stdout",
     "output_type": "stream",
     "text": [
      "[[-0.13303802 -0.04920678 -0.1119152  ... -0.10482848 -0.15568183\n",
      "  -0.68068072]\n",
      " [-0.13303802 -0.04920678 -0.1119152  ... -0.10482848 -0.15568183\n",
      "   0.38776219]\n",
      " [-0.13303802 -0.04920678 -0.1119152  ... -0.10482848 -0.15568183\n",
      "  -0.41356999]\n",
      " [-0.13303802 -0.04920678 -0.1119152  ... -0.10482848 -0.15568183\n",
      "  -0.41356999]]\n"
     ]
    }
   ],
   "source": [
    "# Your answer here:\n",
    "scaler = StandardScaler()\n",
    "scaler.fit(item_data)\n",
    "item_data_norm = scaler.transform(item_data)\n",
    "print( item_data_norm[:4,:])"
   ]
  },
  {
   "cell_type": "code",
   "execution_count": null,
   "metadata": {},
   "outputs": [],
   "source": [
    "# %load solution/m3q1.py"
   ]
  },
  {
   "cell_type": "code",
   "execution_count": 33,
   "metadata": {
    "scrolled": true
   },
   "outputs": [
    {
     "data": {
      "text/plain": [
       "array([[-0.13303802, -0.04920678, -0.1119152 , ..., -0.10482848,\n",
       "        -0.15568183, -0.68068072],\n",
       "       [-0.13303802, -0.04920678, -0.1119152 , ..., -0.10482848,\n",
       "        -0.15568183,  0.38776219],\n",
       "       [-0.13303802, -0.04920678, -0.1119152 , ..., -0.10482848,\n",
       "        -0.15568183, -0.41356999],\n",
       "       [-0.13303802, -0.04920678, -0.1119152 , ..., -0.10482848,\n",
       "        -0.15568183, -0.41356999],\n",
       "       [-0.13303802, -0.04920678, -0.1119152 , ..., -0.10482848,\n",
       "         5.53128397,  0.65487292]])"
      ]
     },
     "execution_count": 33,
     "metadata": {},
     "output_type": "execute_result"
    }
   ],
   "source": []
  },
  {
   "cell_type": "markdown",
   "metadata": {},
   "source": [
    "**Next, initialize and fit an instance of the PCA transformation.**\n",
    "* Keep all of the components for now (just don't pass in any argument)."
   ]
  },
  {
   "cell_type": "markdown",
   "metadata": {},
   "source": [
    "Q2: initialize and fit an instance of the PCA transformation. Then display first 5 records"
   ]
  },
  {
   "cell_type": "code",
   "execution_count": 7,
   "metadata": {},
   "outputs": [
    {
     "name": "stdout",
     "output_type": "stream",
     "text": [
      "[[ 5.87614052e+00  4.82891689e+00 -4.95545069e-01 ... -6.62646278e-04\n",
      "  -4.43629806e-05  2.22183383e-14]\n",
      " [-4.21983747e+00  1.22621722e+00 -1.88191211e+00 ... -2.11471782e-04\n",
      "  -2.69154340e-04  5.49386925e-15]\n",
      " [-1.26084676e+00  2.38766371e+00 -7.31483440e-02 ...  2.57750179e-04\n",
      "  -2.05682324e-04  7.86523624e-15]\n",
      " [-4.92931983e+00 -7.14858724e-01 -1.58093026e+00 ... -1.98603886e-03\n",
      "   9.92316312e-05  1.21807946e-14]]\n"
     ]
    }
   ],
   "source": [
    "# Your answer here:\n",
    "\n",
    "pca = PCA()\n",
    "pca.fit(item_data_norm)\n",
    "data_pca = pca.transform(item_data_norm)\n",
    "print( data_pca[:4,:])"
   ]
  },
  {
   "cell_type": "code",
   "execution_count": null,
   "metadata": {},
   "outputs": [],
   "source": [
    "# %load solution/m3q2.py"
   ]
  },
  {
   "cell_type": "code",
   "execution_count": 37,
   "metadata": {},
   "outputs": [
    {
     "data": {
      "text/plain": [
       "array([[ 5.87614052e+00,  4.82891689e+00, -4.95545069e-01, ...,\n",
       "        -6.62646278e-04, -4.43629806e-05,  1.74860126e-15],\n",
       "       [-4.21983747e+00,  1.22621722e+00, -1.88191211e+00, ...,\n",
       "        -2.11471782e-04, -2.69154340e-04,  9.22872889e-16],\n",
       "       [-1.26084676e+00,  2.38766371e+00, -7.31483440e-02, ...,\n",
       "         2.57750179e-04, -2.05682324e-04, -3.08607306e-15],\n",
       "       [-4.92931983e+00, -7.14858724e-01, -1.58093026e+00, ...,\n",
       "        -1.98603886e-03,  9.92316312e-05, -6.86430079e-15],\n",
       "       [-2.05311348e+00,  2.11095022e+00,  1.84807021e-01, ...,\n",
       "        -3.43415269e-04, -1.32981672e-04,  3.05311332e-16]])"
      ]
     },
     "execution_count": 37,
     "metadata": {},
     "output_type": "execute_result"
    }
   ],
   "source": []
  },
  {
   "cell_type": "markdown",
   "metadata": {},
   "source": [
    "<span id=\"explained-variance\"></span>\n",
    "# 5. Explained variance\n",
    "\n",
    "Earlier, we already saw how to display the **explained variance ratio** for each of the principal components.\n",
    "\n",
    "<br>\n",
    "**It's very helpful to calculate and plot the <u>cumulative</u> explained variance.**\n",
    "* This will tell us the total amount of variance we'd capture if we kept up to the n-th component.\n",
    "* First, we'll use <code style=\"color:steelblue\">np.cumsum()</code> to calculate the cumulative explained variance.\n",
    "* Then, we'll plot it so we can see how many $PC$ features we'd need to keep in order to capture most of the original variance."
   ]
  },
  {
   "cell_type": "code",
   "execution_count": 8,
   "metadata": {},
   "outputs": [],
   "source": [
    "cumulative_explained_variance = np.cumsum(pca.explained_variance_ratio_)"
   ]
  },
  {
   "cell_type": "code",
   "execution_count": 9,
   "metadata": {},
   "outputs": [
    {
     "data": {
      "text/plain": [
       "[<matplotlib.lines.Line2D at 0x108707160>]"
      ]
     },
     "execution_count": 9,
     "metadata": {},
     "output_type": "execute_result"
    },
    {
     "data": {
      "image/png": "[encoded data removed]",
      "text/plain": [
       "<Figure size 432x288 with 1 Axes>"
      ]
     },
     "metadata": {},
     "output_type": "display_data"
    }
   ],
   "source": [
    "plt.plot(range(len(cumulative_explained_variance)),cumulative_explained_variance)"
   ]
  },
  {
   "cell_type": "code",
   "execution_count": 10,
   "metadata": {},
   "outputs": [
    {
     "data": {
      "text/plain": [
       "0.7955069032205402"
      ]
     },
     "execution_count": 10,
     "metadata": {},
     "output_type": "execute_result"
    }
   ],
   "source": [
    "cumulative_explained_variance[124]"
   ]
  },
  {
   "cell_type": "markdown",
   "metadata": {},
   "source": [
    "**Initialize and fit another PCA transformation.**\n",
    "* This time, only keep 125 components.\n",
    "* Generate the principal component features from the fitted instance and name the new matrix <code style=\"color:crimson\">PC_items</code>.\n",
    "* Then, display the shape of <code style=\"color:crimson\">PC_items</code> to confirm it only has 125 features."
   ]
  },
  {
   "cell_type": "markdown",
   "metadata": {},
   "source": [
    "Q3: Initialize and fit another PCA transformation, only keep 125 components. Then, display shape of the transormed one. Name it as PC_items"
   ]
  },
  {
   "cell_type": "code",
   "execution_count": 11,
   "metadata": {},
   "outputs": [
    {
     "name": "stdout",
     "output_type": "stream",
     "text": [
      "(414, 125)\n"
     ]
    }
   ],
   "source": [
    "# Your answer here:\n",
    "pca_ = PCA(n_components= 125)\n",
    "pca_.fit(item_data_norm)\n",
    "PC_items = pca_.transform(item_data_norm)\n",
    "print(PC_items.shape)"
   ]
  },
  {
   "cell_type": "code",
   "execution_count": null,
   "metadata": {},
   "outputs": [],
   "source": [
    "# %load solution/m3q3.py\n"
   ]
  },
  {
   "cell_type": "code",
   "execution_count": 42,
   "metadata": {},
   "outputs": [
    {
     "data": {
      "text/plain": [
       "(414, 125)"
      ]
     },
     "execution_count": 42,
     "metadata": {},
     "output_type": "execute_result"
    }
   ],
   "source": [
    "PC_items.shape"
   ]
  },
  {
   "cell_type": "code",
   "execution_count": null,
   "metadata": {},
   "outputs": [],
   "source": []
  },
  {
   "cell_type": "code",
   "execution_count": null,
   "metadata": {},
   "outputs": [],
   "source": []
  },
  {
   "cell_type": "markdown",
   "metadata": {},
   "source": [
    "Q4: Put PC_items into a new dataframe. Name the dataframe as item_pca"
   ]
  },
  {
   "cell_type": "code",
   "execution_count": 15,
   "metadata": {},
   "outputs": [
    {
     "data": {
      "text/html": [
       "<div>\n",
       "<style scoped>\n",
       "    .dataframe tbody tr th:only-of-type {\n",
       "        vertical-align: middle;\n",
       "    }\n",
       "\n",
       "    .dataframe tbody tr th {\n",
       "        vertical-align: top;\n",
       "    }\n",
       "\n",
       "    .dataframe thead th {\n",
       "        text-align: right;\n",
       "    }\n",
       "</style>\n",
       "<table border=\"1\" class=\"dataframe\">\n",
       "  <thead>\n",
       "    <tr style=\"text-align: right;\">\n",
       "      <th></th>\n",
       "      <th>PC1</th>\n",
       "      <th>PC2</th>\n",
       "      <th>PC3</th>\n",
       "      <th>PC4</th>\n",
       "      <th>PC5</th>\n",
       "      <th>PC6</th>\n",
       "      <th>PC7</th>\n",
       "      <th>PC8</th>\n",
       "      <th>PC9</th>\n",
       "      <th>PC10</th>\n",
       "      <th>...</th>\n",
       "      <th>PC116</th>\n",
       "      <th>PC117</th>\n",
       "      <th>PC118</th>\n",
       "      <th>PC119</th>\n",
       "      <th>PC120</th>\n",
       "      <th>PC121</th>\n",
       "      <th>PC122</th>\n",
       "      <th>PC123</th>\n",
       "      <th>PC124</th>\n",
       "      <th>PC125</th>\n",
       "    </tr>\n",
       "    <tr>\n",
       "      <th>CustomerID</th>\n",
       "      <th></th>\n",
       "      <th></th>\n",
       "      <th></th>\n",
       "      <th></th>\n",
       "      <th></th>\n",
       "      <th></th>\n",
       "      <th></th>\n",
       "      <th></th>\n",
       "      <th></th>\n",
       "      <th></th>\n",
       "      <th></th>\n",
       "      <th></th>\n",
       "      <th></th>\n",
       "      <th></th>\n",
       "      <th></th>\n",
       "      <th></th>\n",
       "      <th></th>\n",
       "      <th></th>\n",
       "      <th></th>\n",
       "      <th></th>\n",
       "      <th></th>\n",
       "    </tr>\n",
       "  </thead>\n",
       "  <tbody>\n",
       "    <tr>\n",
       "      <th>12347</th>\n",
       "      <td>5.876139</td>\n",
       "      <td>4.828926</td>\n",
       "      <td>-0.495540</td>\n",
       "      <td>3.093820</td>\n",
       "      <td>-0.633743</td>\n",
       "      <td>-11.534056</td>\n",
       "      <td>2.162097</td>\n",
       "      <td>7.117039</td>\n",
       "      <td>5.336093</td>\n",
       "      <td>4.424460</td>\n",
       "      <td>...</td>\n",
       "      <td>-0.452940</td>\n",
       "      <td>-0.296131</td>\n",
       "      <td>0.158894</td>\n",
       "      <td>-0.386851</td>\n",
       "      <td>-0.367182</td>\n",
       "      <td>0.166659</td>\n",
       "      <td>0.156405</td>\n",
       "      <td>-0.367226</td>\n",
       "      <td>0.495659</td>\n",
       "      <td>-0.098097</td>\n",
       "    </tr>\n",
       "    <tr>\n",
       "      <th>12348</th>\n",
       "      <td>-4.219833</td>\n",
       "      <td>1.226232</td>\n",
       "      <td>-1.881947</td>\n",
       "      <td>-0.174188</td>\n",
       "      <td>0.818135</td>\n",
       "      <td>1.160866</td>\n",
       "      <td>-0.871677</td>\n",
       "      <td>-0.846437</td>\n",
       "      <td>0.460319</td>\n",
       "      <td>0.854410</td>\n",
       "      <td>...</td>\n",
       "      <td>0.180772</td>\n",
       "      <td>-0.794541</td>\n",
       "      <td>0.062513</td>\n",
       "      <td>0.393138</td>\n",
       "      <td>1.873893</td>\n",
       "      <td>-1.280147</td>\n",
       "      <td>-1.193823</td>\n",
       "      <td>1.909914</td>\n",
       "      <td>-0.915270</td>\n",
       "      <td>0.331037</td>\n",
       "    </tr>\n",
       "    <tr>\n",
       "      <th>12349</th>\n",
       "      <td>-1.260836</td>\n",
       "      <td>2.387735</td>\n",
       "      <td>-0.072934</td>\n",
       "      <td>-1.119386</td>\n",
       "      <td>-0.034381</td>\n",
       "      <td>-3.715082</td>\n",
       "      <td>-0.343971</td>\n",
       "      <td>-0.149533</td>\n",
       "      <td>-0.789544</td>\n",
       "      <td>-0.380238</td>\n",
       "      <td>...</td>\n",
       "      <td>-0.463174</td>\n",
       "      <td>3.172681</td>\n",
       "      <td>0.070485</td>\n",
       "      <td>1.231989</td>\n",
       "      <td>-0.120768</td>\n",
       "      <td>-2.766994</td>\n",
       "      <td>0.220913</td>\n",
       "      <td>-7.212996</td>\n",
       "      <td>0.711504</td>\n",
       "      <td>1.357779</td>\n",
       "    </tr>\n",
       "    <tr>\n",
       "      <th>12350</th>\n",
       "      <td>-4.929319</td>\n",
       "      <td>-0.714881</td>\n",
       "      <td>-1.580971</td>\n",
       "      <td>-0.469900</td>\n",
       "      <td>-0.116484</td>\n",
       "      <td>0.647832</td>\n",
       "      <td>0.112882</td>\n",
       "      <td>-1.336009</td>\n",
       "      <td>1.546695</td>\n",
       "      <td>-1.190009</td>\n",
       "      <td>...</td>\n",
       "      <td>0.032329</td>\n",
       "      <td>-0.655412</td>\n",
       "      <td>1.351142</td>\n",
       "      <td>-0.827022</td>\n",
       "      <td>1.160707</td>\n",
       "      <td>0.620264</td>\n",
       "      <td>0.437828</td>\n",
       "      <td>-0.683128</td>\n",
       "      <td>-0.861502</td>\n",
       "      <td>-0.250593</td>\n",
       "    </tr>\n",
       "    <tr>\n",
       "      <th>12352</th>\n",
       "      <td>-2.053111</td>\n",
       "      <td>2.110533</td>\n",
       "      <td>0.184524</td>\n",
       "      <td>0.127709</td>\n",
       "      <td>0.087257</td>\n",
       "      <td>-1.944357</td>\n",
       "      <td>2.383465</td>\n",
       "      <td>0.900845</td>\n",
       "      <td>-0.673526</td>\n",
       "      <td>0.082517</td>\n",
       "      <td>...</td>\n",
       "      <td>-4.037379</td>\n",
       "      <td>-8.531206</td>\n",
       "      <td>-6.517592</td>\n",
       "      <td>2.661958</td>\n",
       "      <td>-2.718597</td>\n",
       "      <td>8.759306</td>\n",
       "      <td>1.858032</td>\n",
       "      <td>1.834690</td>\n",
       "      <td>-4.596705</td>\n",
       "      <td>1.972465</td>\n",
       "    </tr>\n",
       "  </tbody>\n",
       "</table>\n",
       "<p>5 rows × 125 columns</p>\n",
       "</div>"
      ],
      "text/plain": [
       "                 PC1       PC2       PC3       PC4       PC5        PC6  \\\n",
       "CustomerID                                                                \n",
       "12347       5.876139  4.828926 -0.495540  3.093820 -0.633743 -11.534056   \n",
       "12348      -4.219833  1.226232 -1.881947 -0.174188  0.818135   1.160866   \n",
       "12349      -1.260836  2.387735 -0.072934 -1.119386 -0.034381  -3.715082   \n",
       "12350      -4.929319 -0.714881 -1.580971 -0.469900 -0.116484   0.647832   \n",
       "12352      -2.053111  2.110533  0.184524  0.127709  0.087257  -1.944357   \n",
       "\n",
       "                 PC7       PC8       PC9      PC10    ...        PC116  \\\n",
       "CustomerID                                            ...                \n",
       "12347       2.162097  7.117039  5.336093  4.424460    ...    -0.452940   \n",
       "12348      -0.871677 -0.846437  0.460319  0.854410    ...     0.180772   \n",
       "12349      -0.343971 -0.149533 -0.789544 -0.380238    ...    -0.463174   \n",
       "12350       0.112882 -1.336009  1.546695 -1.190009    ...     0.032329   \n",
       "12352       2.383465  0.900845 -0.673526  0.082517    ...    -4.037379   \n",
       "\n",
       "               PC117     PC118     PC119     PC120     PC121     PC122  \\\n",
       "CustomerID                                                               \n",
       "12347      -0.296131  0.158894 -0.386851 -0.367182  0.166659  0.156405   \n",
       "12348      -0.794541  0.062513  0.393138  1.873893 -1.280147 -1.193823   \n",
       "12349       3.172681  0.070485  1.231989 -0.120768 -2.766994  0.220913   \n",
       "12350      -0.655412  1.351142 -0.827022  1.160707  0.620264  0.437828   \n",
       "12352      -8.531206 -6.517592  2.661958 -2.718597  8.759306  1.858032   \n",
       "\n",
       "               PC123     PC124     PC125  \n",
       "CustomerID                                \n",
       "12347      -0.367226  0.495659 -0.098097  \n",
       "12348       1.909914 -0.915270  0.331037  \n",
       "12349      -7.212996  0.711504  1.357779  \n",
       "12350      -0.683128 -0.861502 -0.250593  \n",
       "12352       1.834690 -4.596705  1.972465  \n",
       "\n",
       "[5 rows x 125 columns]"
      ]
     },
     "execution_count": 15,
     "metadata": {},
     "output_type": "execute_result"
    }
   ],
   "source": [
    "# Your answer here:\n",
    "item_pca = pd.DataFrame( data = PC_items,\n",
    "                         index = item_data.index,\n",
    "                         columns = [f'PC{x+1}' for x in range(PC_items.shape[1])]\n",
    "                       )\n",
    "item_pca.head()"
   ]
  },
  {
   "cell_type": "code",
   "execution_count": null,
   "metadata": {},
   "outputs": [],
   "source": [
    "# %load solution/m3q4.py"
   ]
  },
  {
   "cell_type": "code",
   "execution_count": 47,
   "metadata": {
    "scrolled": true
   },
   "outputs": [
    {
     "data": {
      "text/html": [
       "<div>\n",
       "<style scoped>\n",
       "    .dataframe tbody tr th:only-of-type {\n",
       "        vertical-align: middle;\n",
       "    }\n",
       "\n",
       "    .dataframe tbody tr th {\n",
       "        vertical-align: top;\n",
       "    }\n",
       "\n",
       "    .dataframe thead th {\n",
       "        text-align: right;\n",
       "    }\n",
       "</style>\n",
       "<table border=\"1\" class=\"dataframe\">\n",
       "  <thead>\n",
       "    <tr style=\"text-align: right;\">\n",
       "      <th></th>\n",
       "      <th>PC1</th>\n",
       "      <th>PC2</th>\n",
       "      <th>PC3</th>\n",
       "      <th>PC4</th>\n",
       "      <th>PC5</th>\n",
       "      <th>PC6</th>\n",
       "      <th>PC7</th>\n",
       "      <th>PC8</th>\n",
       "      <th>PC9</th>\n",
       "      <th>PC10</th>\n",
       "      <th>...</th>\n",
       "      <th>PC116</th>\n",
       "      <th>PC117</th>\n",
       "      <th>PC118</th>\n",
       "      <th>PC119</th>\n",
       "      <th>PC120</th>\n",
       "      <th>PC121</th>\n",
       "      <th>PC122</th>\n",
       "      <th>PC123</th>\n",
       "      <th>PC124</th>\n",
       "      <th>PC125</th>\n",
       "    </tr>\n",
       "    <tr>\n",
       "      <th>CustomerID</th>\n",
       "      <th></th>\n",
       "      <th></th>\n",
       "      <th></th>\n",
       "      <th></th>\n",
       "      <th></th>\n",
       "      <th></th>\n",
       "      <th></th>\n",
       "      <th></th>\n",
       "      <th></th>\n",
       "      <th></th>\n",
       "      <th></th>\n",
       "      <th></th>\n",
       "      <th></th>\n",
       "      <th></th>\n",
       "      <th></th>\n",
       "      <th></th>\n",
       "      <th></th>\n",
       "      <th></th>\n",
       "      <th></th>\n",
       "      <th></th>\n",
       "      <th></th>\n",
       "    </tr>\n",
       "  </thead>\n",
       "  <tbody>\n",
       "    <tr>\n",
       "      <th>12347</th>\n",
       "      <td>5.876143</td>\n",
       "      <td>4.828932</td>\n",
       "      <td>-0.495552</td>\n",
       "      <td>3.093894</td>\n",
       "      <td>-0.633677</td>\n",
       "      <td>-11.534020</td>\n",
       "      <td>2.162067</td>\n",
       "      <td>7.116998</td>\n",
       "      <td>5.336126</td>\n",
       "      <td>4.424402</td>\n",
       "      <td>...</td>\n",
       "      <td>-0.856597</td>\n",
       "      <td>0.357342</td>\n",
       "      <td>-0.368880</td>\n",
       "      <td>-0.378711</td>\n",
       "      <td>-0.616205</td>\n",
       "      <td>0.013086</td>\n",
       "      <td>0.293218</td>\n",
       "      <td>-0.453965</td>\n",
       "      <td>-0.174888</td>\n",
       "      <td>-0.190862</td>\n",
       "    </tr>\n",
       "    <tr>\n",
       "      <th>12348</th>\n",
       "      <td>-4.219834</td>\n",
       "      <td>1.226222</td>\n",
       "      <td>-1.882000</td>\n",
       "      <td>-0.174263</td>\n",
       "      <td>0.817526</td>\n",
       "      <td>1.160729</td>\n",
       "      <td>-0.871469</td>\n",
       "      <td>-0.846297</td>\n",
       "      <td>0.460178</td>\n",
       "      <td>0.854608</td>\n",
       "      <td>...</td>\n",
       "      <td>1.953596</td>\n",
       "      <td>1.130400</td>\n",
       "      <td>-1.709736</td>\n",
       "      <td>-1.009348</td>\n",
       "      <td>0.923401</td>\n",
       "      <td>0.786149</td>\n",
       "      <td>-0.514248</td>\n",
       "      <td>-0.015260</td>\n",
       "      <td>-0.286322</td>\n",
       "      <td>1.045924</td>\n",
       "    </tr>\n",
       "    <tr>\n",
       "      <th>12349</th>\n",
       "      <td>-1.260863</td>\n",
       "      <td>2.387711</td>\n",
       "      <td>-0.073109</td>\n",
       "      <td>-1.119595</td>\n",
       "      <td>-0.034129</td>\n",
       "      <td>-3.714750</td>\n",
       "      <td>-0.343950</td>\n",
       "      <td>-0.148812</td>\n",
       "      <td>-0.789848</td>\n",
       "      <td>-0.380225</td>\n",
       "      <td>...</td>\n",
       "      <td>-2.535607</td>\n",
       "      <td>2.598100</td>\n",
       "      <td>1.945910</td>\n",
       "      <td>-2.304115</td>\n",
       "      <td>-3.268209</td>\n",
       "      <td>-1.432470</td>\n",
       "      <td>-2.813796</td>\n",
       "      <td>4.559345</td>\n",
       "      <td>-0.206425</td>\n",
       "      <td>-1.638483</td>\n",
       "    </tr>\n",
       "    <tr>\n",
       "      <th>12350</th>\n",
       "      <td>-4.929327</td>\n",
       "      <td>-0.714859</td>\n",
       "      <td>-1.580895</td>\n",
       "      <td>-0.469832</td>\n",
       "      <td>-0.116063</td>\n",
       "      <td>0.647731</td>\n",
       "      <td>0.113059</td>\n",
       "      <td>-1.336438</td>\n",
       "      <td>1.547068</td>\n",
       "      <td>-1.189869</td>\n",
       "      <td>...</td>\n",
       "      <td>1.043560</td>\n",
       "      <td>1.137140</td>\n",
       "      <td>0.466139</td>\n",
       "      <td>0.077872</td>\n",
       "      <td>0.118739</td>\n",
       "      <td>0.192527</td>\n",
       "      <td>-2.044408</td>\n",
       "      <td>-0.641665</td>\n",
       "      <td>-1.759512</td>\n",
       "      <td>-0.299707</td>\n",
       "    </tr>\n",
       "    <tr>\n",
       "      <th>12352</th>\n",
       "      <td>-2.053111</td>\n",
       "      <td>2.110701</td>\n",
       "      <td>0.184953</td>\n",
       "      <td>0.128037</td>\n",
       "      <td>0.087317</td>\n",
       "      <td>-1.944598</td>\n",
       "      <td>2.383370</td>\n",
       "      <td>0.900004</td>\n",
       "      <td>-0.672559</td>\n",
       "      <td>0.081827</td>\n",
       "      <td>...</td>\n",
       "      <td>1.538148</td>\n",
       "      <td>-9.576680</td>\n",
       "      <td>-4.516459</td>\n",
       "      <td>7.686704</td>\n",
       "      <td>-4.573471</td>\n",
       "      <td>0.447658</td>\n",
       "      <td>-0.077780</td>\n",
       "      <td>-5.024337</td>\n",
       "      <td>2.152031</td>\n",
       "      <td>1.082797</td>\n",
       "    </tr>\n",
       "  </tbody>\n",
       "</table>\n",
       "<p>5 rows × 125 columns</p>\n",
       "</div>"
      ],
      "text/plain": [
       "                 PC1       PC2       PC3       PC4       PC5        PC6  \\\n",
       "CustomerID                                                                \n",
       "12347       5.876143  4.828932 -0.495552  3.093894 -0.633677 -11.534020   \n",
       "12348      -4.219834  1.226222 -1.882000 -0.174263  0.817526   1.160729   \n",
       "12349      -1.260863  2.387711 -0.073109 -1.119595 -0.034129  -3.714750   \n",
       "12350      -4.929327 -0.714859 -1.580895 -0.469832 -0.116063   0.647731   \n",
       "12352      -2.053111  2.110701  0.184953  0.128037  0.087317  -1.944598   \n",
       "\n",
       "                 PC7       PC8       PC9      PC10    ...        PC116  \\\n",
       "CustomerID                                            ...                \n",
       "12347       2.162067  7.116998  5.336126  4.424402    ...    -0.856597   \n",
       "12348      -0.871469 -0.846297  0.460178  0.854608    ...     1.953596   \n",
       "12349      -0.343950 -0.148812 -0.789848 -0.380225    ...    -2.535607   \n",
       "12350       0.113059 -1.336438  1.547068 -1.189869    ...     1.043560   \n",
       "12352       2.383370  0.900004 -0.672559  0.081827    ...     1.538148   \n",
       "\n",
       "               PC117     PC118     PC119     PC120     PC121     PC122  \\\n",
       "CustomerID                                                               \n",
       "12347       0.357342 -0.368880 -0.378711 -0.616205  0.013086  0.293218   \n",
       "12348       1.130400 -1.709736 -1.009348  0.923401  0.786149 -0.514248   \n",
       "12349       2.598100  1.945910 -2.304115 -3.268209 -1.432470 -2.813796   \n",
       "12350       1.137140  0.466139  0.077872  0.118739  0.192527 -2.044408   \n",
       "12352      -9.576680 -4.516459  7.686704 -4.573471  0.447658 -0.077780   \n",
       "\n",
       "               PC123     PC124     PC125  \n",
       "CustomerID                                \n",
       "12347      -0.453965 -0.174888 -0.190862  \n",
       "12348      -0.015260 -0.286322  1.045924  \n",
       "12349       4.559345 -0.206425 -1.638483  \n",
       "12350      -0.641665 -1.759512 -0.299707  \n",
       "12352      -5.024337  2.152031  1.082797  \n",
       "\n",
       "[5 rows x 125 columns]"
      ]
     },
     "execution_count": 47,
     "metadata": {},
     "output_type": "execute_result"
    }
   ],
   "source": [
    "item_pca.head()"
   ]
  },
  {
   "cell_type": "code",
   "execution_count": null,
   "metadata": {},
   "outputs": [],
   "source": []
  },
  {
   "cell_type": "code",
   "execution_count": 16,
   "metadata": {},
   "outputs": [],
   "source": [
    "# save this item dataframe with PCA features as 'pca_item_data.csv'.\n",
    "\n",
    "item_pca.to_csv('data/pca_item_data.csv')"
   ]
  },
  {
   "cell_type": "markdown",
   "metadata": {},
   "source": [
    "## Summary of Module 3\n",
    "\n",
    "Congratulations!\n",
    "\n",
    "As a reminder, here are a few things you did in this module:\n",
    "* You saw how PCA work.\n",
    "* You contrasted plots of the original features against plots of the principal component features.\n",
    "* You learned how to intepret cumulative explained variance.\n",
    "* And you reduced the dimensionality of the item dataset using PCA.\n",
    "\n"
   ]
  },
  {
   "cell_type": "markdown",
   "metadata": {},
   "source": [
    "## Reference:\n",
    "* [MIT Singular Value Decomposition details](http://web.mit.edu/be.400/www/SVD/Singular_Value_Decomposition.htm)\n",
    "* [Coursera PCA Lecture](https://www.coursera.org/lecture/machine-learning/principal-component-analysis-algorithm-ZYIPa)\n",
    "* [Python Data Science Handbook PCA chapter](https://jakevdp.github.io/PythonDataScienceHandbook/05.09-principal-component-analysis.html)"
   ]
  }
 ],
 "metadata": {
  "kernelspec": {
   "display_name": "Python 3",
   "language": "python",
   "name": "python3"
  },
  "language_info": {
   "codemirror_mode": {
    "name": "ipython",
    "version": 3
   },
   "file_extension": ".py",
   "mimetype": "text/x-python",
   "name": "python",
   "nbconvert_exporter": "python",
   "pygments_lexer": "ipython3",
   "version": "3.6.3"
  }
 },
 "nbformat": 4,
 "nbformat_minor": 1
}
