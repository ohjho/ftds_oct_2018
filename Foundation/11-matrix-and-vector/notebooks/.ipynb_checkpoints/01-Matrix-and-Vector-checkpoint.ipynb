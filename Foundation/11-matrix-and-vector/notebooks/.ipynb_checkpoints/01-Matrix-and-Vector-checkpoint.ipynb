{
 "cells": [
  {
   "cell_type": "markdown",
   "metadata": {},
   "source": [
    "# Introduction to Linear Algebra\n",
    "\n",
    "Linear algebra covers a wide range of topics ranging from vectors and matrices, determinants, system of linear equations, eigenvalue and eigen-vector, linear transformation etc. In each of the area, there are ongoing advancement in mathematics itself. Thanks to the advancement, there are many applications of linear algebra in industries such as computer science and engineering, which forms the foundation of the deep learning and machine learning we are studying. In fact, two particular python data science packages, namely numpy and scipy are giving us the power to do most of the computation work in linear algebra. To better understand the output from python data science packages, we can learn how to read the documentation and textbooks in mathematics which then can be translated into Python code that do the hard computation work for us.   \n",
    "\n",
    "With reference to the mathematics book Advanced Engineering Mathematics, we can understand the concept and applications for matrix and vectors. In addition, when we read the documentation from open source python packages, there are assumptions that readers already familiar with the definitions and mathematical symbols, which we need to further verify and update the logical meaning for those symbols and models.\n",
    "\n",
    "http://instructor.sdu.edu.kz/~merey/Advanced%20Engineering%20Mathematics%2010th%20Edition.pdf\n"
   ]
  },
  {
   "cell_type": "markdown",
   "metadata": {},
   "source": [
    "## Matrices and Vectors"
   ]
  },
  {
   "cell_type": "markdown",
   "metadata": {},
   "source": [
    "![matrix](img/matrix_example.png)"
   ]
  },
  {
   "cell_type": "markdown",
   "metadata": {},
   "source": [
    "A matrix in mathematics is a rectangular array of numbers or functions which enclose in brackets. We can see an example in the above.\n",
    "\n",
    "The numbers (or functions) inside the matrix are called entries or, less commonly, elements\n",
    "of the matrix. \n",
    "\n",
    "The first matrix above has two rows, which are the horizontal lines of entries.\n",
    "Furthermore, it has three columns, which are the vertical lines of entries. \n",
    "\n",
    "The second and third matrices are square matrices, which means that each has as many rows as columns— 3 and 2, respectively. The entries of the second matrix have two indices, signifying their location within the matrix. The first index is the number of the row and the second is the number of the column, so that together the entry’s position is uniquely identified. \n",
    "\n",
    "For example, (read a two three) is in Row 2 and Column 3, etc. The notation is standard and applies to all matrices, including those that are not square.\n",
    "\n",
    "Matrices having just a single row or column are called vectors. \n",
    "\n",
    "We see that fourth matrix above has just one row and is called a row vector. \n",
    "The last matrix above has just one column and is called a column vector. \n",
    "\n",
    "Because the goal of the indexing of entries was to uniquely identify the position of an element within a matrix, one index suffices for vectors, whether they are row or column vectors. Thus, the third entry of the row vector above is denoted by\n",
    "Matrices are handy for storing and processing data in applications. \n",
    "\n",
    "Below we can see two common examples in using matrices and vectors representing problems."
   ]
  },
  {
   "cell_type": "markdown",
   "metadata": {},
   "source": [
    "## Example 1 of Matrix application: System of Linear Equation"
   ]
  },
  {
   "cell_type": "markdown",
   "metadata": {},
   "source": [
    "![system of linear equation](img/linear_system.png)"
   ]
  },
  {
   "cell_type": "markdown",
   "metadata": {},
   "source": [
    "![matrixA](img/matrixA.png)"
   ]
  },
  {
   "cell_type": "markdown",
   "metadata": {},
   "source": [
    "We are given a system of linear equations, briefly a linear system, such as x1,x2,x3 are the unknowns. \n",
    "We form the coefficient matrix, call it A, by listing the coefficients of the unknowns in the position in which they appear in the linear equations. In the second equation, there is no unknown x2 which means that the coefficient of x2 is 0 and hence in matrix A, a22=0 \n",
    "\n",
    "We can formulate the system of linear equation in the above two examples of matrix A"
   ]
  },
  {
   "cell_type": "markdown",
   "metadata": {},
   "source": [
    "## Example 2 of Matrix application: Sales Figure Storage"
   ]
  },
  {
   "cell_type": "markdown",
   "metadata": {},
   "source": [
    "![salesfigure](img/salesfigure.png)"
   ]
  },
  {
   "cell_type": "markdown",
   "metadata": {},
   "source": [
    "Sales figures for three products I, II, III in a store on Weekdays for each week can be arranged in a matrix form.\n",
    "\n",
    "If the company has 10 stores, we can set up 10 such matrices, one for each store. Then, by adding corresponding entries of these matrices, we can get a matrix showing the total sales of each product on each day. \n",
    "\n",
    "Can you think of other data which can be stored in matrix form? For instance, in transportation or storage problems? Or in listing distances in a network of roads?"
   ]
  },
  {
   "cell_type": "markdown",
   "metadata": {},
   "source": [
    "# General Concept on Matrix and Vectors"
   ]
  },
  {
   "cell_type": "markdown",
   "metadata": {},
   "source": [
    "![generalmatrix](img/generalmatrix.png)\n",
    "![row vector](img/rowvector.png)\n",
    "![column vector](img/columnvector.png)"
   ]
  },
  {
   "cell_type": "markdown",
   "metadata": {},
   "source": [
    "We can see that the matrix is a m by n matrix. In case m = n, then we call it square matrix. \n",
    "\n",
    "A vector is a matrix with only one row or column. Its entries are called the components of the vector. \n",
    "\n",
    "We can see that the vector can be defined as row vector or column vector"
   ]
  },
  {
   "cell_type": "markdown",
   "metadata": {},
   "source": [
    "# Matrix and Vectors in Python Numpy and Scipy packages"
   ]
  },
  {
   "cell_type": "code",
   "execution_count": 15,
   "metadata": {},
   "outputs": [
    {
     "name": "stdout",
     "output_type": "stream",
     "text": [
      "[1 2 3] (3,) <class 'numpy.ndarray'>\n",
      "[[1.+5.j 0.+2.j 0.+3.j]\n",
      " [0.+4.j 0.+5.j 0.+6.j]] (2, 3) <class 'numpy.ndarray'>\n",
      "[[[1.5 2.  3. ]\n",
      "  [4.  5.  6. ]]\n",
      "\n",
      " [[3.  2.  1. ]\n",
      "  [4.  5.  6. ]]] (2, 2, 3) <class 'numpy.ndarray'>\n"
     ]
    }
   ],
   "source": [
    "# creating vector\n",
    "\n",
    "import numpy as np\n",
    "\n",
    "a = np.array([1,2,3])  # 1 by 3 numpy array\n",
    "b = np.array([(1+5j,2j,3j), (4j,5j,6j)])  # 2 by 3 numpy array\n",
    "c = np.array([[(1.5,2,3), (4,5,6)], [(3,2,1), (4,5,6)]])  # 2 by 2 by 3 numpy array\n",
    "\n",
    "print(a, a.shape, type(a))\n",
    "print(b, b.shape, type(b))\n",
    "print(c, c.shape, type(c))"
   ]
  },
  {
   "cell_type": "code",
   "execution_count": 18,
   "metadata": {},
   "outputs": [
    {
     "name": "stdout",
     "output_type": "stream",
     "text": [
      "[[0.11185433 0.97183906]\n",
      " [0.74316615 0.34003784]] (2, 2) <class 'numpy.matrixlib.defmatrix.matrix'>\n",
      "[[1.+5.j 0.+2.j 0.+3.j]\n",
      " [0.+4.j 0.+5.j 0.+6.j]] (2, 3) <class 'numpy.matrixlib.defmatrix.matrix'>\n",
      "[[0.6277502  0.24586558 0.92338858 0.42486695 0.21240078]\n",
      " [0.71047691 0.80277425 0.0700249  0.92185021 0.35757173]\n",
      " [0.82733314 0.62077185 0.53632514 0.09124965 0.7796613 ]\n",
      " [0.67377871 0.24490826 0.54360261 0.05433316 0.12456928]\n",
      " [0.25657764 0.62050381 0.19121716 0.84706037 0.70154772]\n",
      " [0.72587145 0.69716871 0.63403317 0.92931382 0.37195244]\n",
      " [0.26830171 0.78159183 0.78480409 0.22777781 0.97598452]\n",
      " [0.73530055 0.11497849 0.568303   0.60553831 0.47094345]\n",
      " [0.50050234 0.45664697 0.56190155 0.24719839 0.06377844]\n",
      " [0.4872751  0.69687116 0.79049172 0.13510988 0.93598797]] (10, 5) <class 'numpy.matrixlib.defmatrix.matrix'>\n",
      "[[3 4]\n",
      " [5 6]] (2, 2) <class 'numpy.matrixlib.defmatrix.matrix'>\n"
     ]
    }
   ],
   "source": [
    "# Creating matrix\n",
    "\n",
    "import numpy as np\n",
    "\n",
    "A = np.matrix(np.random.random((2,2)))  # 2 by 2 matrix\n",
    "B = np.asmatrix(b)  # 2 by 3 matrix\n",
    "C = np.mat(np.random.random((10,5)))  #  10 by 5 matrix\n",
    "D = np.mat([[3,4], [5,6]])  # 2 by 2 matrix\n",
    "\n",
    "\n",
    "print(A, A.shape, type(A))\n",
    "print(B, B.shape, type(B))\n",
    "print(C, C.shape, type(C))\n",
    "print(D, D.shape, type(D))"
   ]
  },
  {
   "cell_type": "markdown",
   "metadata": {},
   "source": [
    "# Matrix Functions, arithmetic and mathematical"
   ]
  },
  {
   "cell_type": "code",
   "execution_count": 19,
   "metadata": {},
   "outputs": [
    {
     "name": "stdout",
     "output_type": "stream",
     "text": [
      "[[0.11185433 0.97183906]\n",
      " [0.74316615 0.34003784]]\n",
      "[[3 4]\n",
      " [5 6]]\n",
      "[[3.11185433 4.97183906]\n",
      " [5.74316615 6.34003784]]\n"
     ]
    }
   ],
   "source": [
    "# Addition\n",
    "print(A)\n",
    "print(D)\n",
    "print(np.add(A,D))"
   ]
  },
  {
   "cell_type": "code",
   "execution_count": 21,
   "metadata": {},
   "outputs": [
    {
     "name": "stdout",
     "output_type": "stream",
     "text": [
      "[[0.11185433 0.97183906]\n",
      " [0.74316615 0.34003784]]\n",
      "[[3 4]\n",
      " [5 6]]\n",
      "[[2.88814567 3.02816094]\n",
      " [4.25683385 5.65996216]]\n"
     ]
    }
   ],
   "source": [
    "# Subtraction\n",
    "print(A)\n",
    "print(D)\n",
    "print(np.subtract(D,A))"
   ]
  },
  {
   "cell_type": "code",
   "execution_count": 22,
   "metadata": {},
   "outputs": [
    {
     "name": "stdout",
     "output_type": "stream",
     "text": [
      "[[0.11185433 0.97183906]\n",
      " [0.74316615 0.34003784]]\n",
      "[[3 4]\n",
      " [5 6]]\n",
      "[[0.03728478 0.24295976]\n",
      " [0.14863323 0.05667297]]\n"
     ]
    }
   ],
   "source": [
    "# Division\n",
    "print(A)\n",
    "print(D)\n",
    "print(np.divide(A,D))"
   ]
  },
  {
   "cell_type": "code",
   "execution_count": 27,
   "metadata": {},
   "outputs": [
    {
     "name": "stdout",
     "output_type": "stream",
     "text": [
      "[[0.11185433 0.97183906]\n",
      " [0.74316615 0.34003784]]\n",
      "[[3 4]\n",
      " [5 6]]\n",
      "[[0.33556299 3.88735622]\n",
      " [3.71583077 2.04022706]]\n"
     ]
    }
   ],
   "source": [
    "# multiplication\n",
    "print(A)\n",
    "print(D)\n",
    "print(np.multiply(A,D))"
   ]
  },
  {
   "cell_type": "code",
   "execution_count": 28,
   "metadata": {},
   "outputs": [
    {
     "name": "stdout",
     "output_type": "stream",
     "text": [
      "[[0.11185433 0.97183906]\n",
      " [0.74316615 0.34003784]]\n",
      "[[3 4]\n",
      " [5 6]]\n",
      "[[5.19475827 6.27845166]\n",
      " [3.92968768 5.01289168]]\n",
      "[[5.19475827 6.27845166]\n",
      " [3.92968768 5.01289168]]\n"
     ]
    }
   ],
   "source": [
    "# matrix dot product\n",
    "print(A)\n",
    "print(D)\n",
    "print(np.dot(A,D))\n",
    "print(A@D) # or in python3"
   ]
  },
  {
   "cell_type": "markdown",
   "metadata": {},
   "source": [
    "# Matrix multiplication "
   ]
  },
  {
   "cell_type": "markdown",
   "metadata": {},
   "source": [
    "![matrixdotproduct](img/matrixdotproduct.png)\n",
    "![matrixdotproduct_example](img/matrixdotproduct_example.png)"
   ]
  },
  {
   "cell_type": "markdown",
   "metadata": {},
   "source": [
    "![multiplication with vector](img/vectormultiplication.png)"
   ]
  },
  {
   "cell_type": "markdown",
   "metadata": {},
   "source": [
    "We can see the mathematical matrix dot product as multiplication in the above example\n",
    "\n",
    "Matrix can also multiply with vectors to form new matrix in the same manner\n",
    "\n",
    "In mathematics, always check the dimensions are matched to allow the operation on multiplication."
   ]
  },
  {
   "cell_type": "markdown",
   "metadata": {},
   "source": [
    "# Linear Transformation"
   ]
  },
  {
   "cell_type": "markdown",
   "metadata": {},
   "source": [
    "![original system of linear equation](img/untransformed.png)\n",
    "\n",
    "![linearly transformed with matrix](img/lineartransformed.png)"
   ]
  },
  {
   "cell_type": "markdown",
   "metadata": {},
   "source": [
    "The motivation behind the design on the “unnatural” rule for matrix multiplication is by its use in linear transformation see above"
   ]
  },
  {
   "cell_type": "markdown",
   "metadata": {},
   "source": [
    "# Transpose of Matrix and Vector"
   ]
  },
  {
   "cell_type": "markdown",
   "metadata": {},
   "source": [
    "![transpose of matrix](img/transposeofmatrix.png)\n",
    "![transpose of vector](img/transposeofvector.png)"
   ]
  },
  {
   "cell_type": "markdown",
   "metadata": {},
   "source": [
    "# Application of Matrix Multiplication"
   ]
  },
  {
   "cell_type": "markdown",
   "metadata": {},
   "source": [
    "### Computer Production\n",
    "\n",
    "Supercomp Ltd produces two computer models PC1086 and PC1186. The matrix A shows the cost per computer (in thousands of dollars) and B the production figures for the year 2010 (in multiples of 10,000 units.) Find a matrix C that shows the shareholders the cost per quarter (in millions of dollars) for raw material, labor, and miscellaneous."
   ]
  },
  {
   "cell_type": "markdown",
   "metadata": {},
   "source": [
    "![Computer Production Example](img/computerproduction.png)"
   ]
  },
  {
   "cell_type": "code",
   "execution_count": 48,
   "metadata": {},
   "outputs": [
    {
     "name": "stdout",
     "output_type": "stream",
     "text": [
      "(3, 2)\n",
      "(2, 4)\n",
      "[[13.2 12.8 13.6 15.6]\n",
      " [ 3.3  3.2  3.4  3.9]\n",
      " [ 5.1  5.2  5.4  6.3]]\n"
     ]
    }
   ],
   "source": [
    "import numpy as np\n",
    "\n",
    "A = np.array([[1.2,1.6],[0.3,0.4],[0.5,0.6]])\n",
    "B = np.array([[3,8,6,9],[6,2,4,3]])\n",
    "\n",
    "result = np.dot(A,B)\n",
    "\n",
    "print(A.shape)\n",
    "print(B.shape)\n",
    "print(result)"
   ]
  },
  {
   "cell_type": "markdown",
   "metadata": {},
   "source": [
    "## Weight Watching\n",
    "\n",
    "Suppose that in a weight-watching program, a person of 185 lb burns 350 cal/hr in walking (3 mph), 500 in bicycling (13 mph), and 950 in jogging (5.5 mph). Bill, weighing 185 lb, plans to exercise according to the matrix shown. Verify the calculations"
   ]
  },
  {
   "cell_type": "markdown",
   "metadata": {},
   "source": [
    "![weight watching](img/weightwatching.png)"
   ]
  },
  {
   "cell_type": "code",
   "execution_count": 51,
   "metadata": {},
   "outputs": [
    {
     "name": "stdout",
     "output_type": "stream",
     "text": [
      "(4, 3)\n",
      "(3, 1)\n",
      "[[ 825.]\n",
      " [1325.]\n",
      " [1000.]\n",
      " [2400.]]\n"
     ]
    }
   ],
   "source": [
    "import numpy as np\n",
    "\n",
    "A = np.array([[1.0,0,0.5],[1.0,1.0,0.5],[1.5,0,0.5],[2.0,1.5,1.0]])\n",
    "B = np.array([[350],[500],[950]])\n",
    "\n",
    "result = np.dot(A,B)\n",
    "\n",
    "print(A.shape)\n",
    "print(B.shape)\n",
    "print(result)"
   ]
  },
  {
   "cell_type": "markdown",
   "metadata": {},
   "source": [
    "# System of Linear Equation"
   ]
  },
  {
   "cell_type": "markdown",
   "metadata": {},
   "source": [
    "![system of linear equation](img/systemofequation.png)\n",
    "![matrix form of linear system](img/matrixform.png)"
   ]
  },
  {
   "cell_type": "markdown",
   "metadata": {},
   "source": [
    "We can make use of linear transformation to transform system of linear equation to transform into matrix form. In matrix form, we will make use of inverse and matrix multiplication to solve for the system of linear equation"
   ]
  },
  {
   "cell_type": "markdown",
   "metadata": {},
   "source": [
    "![Example of system of linear equation](img/exampleofsystemoflinearequation.png)"
   ]
  },
  {
   "cell_type": "code",
   "execution_count": 57,
   "metadata": {},
   "outputs": [
    {
     "name": "stdout",
     "output_type": "stream",
     "text": [
      "[[ 2  5]\n",
      " [-4  3]]\n",
      "[[ 0.11538462 -0.19230769]\n",
      " [ 0.15384615  0.07692308]]\n",
      "[[  2]\n",
      " [-30]]\n",
      "[[ 6.]\n",
      " [-2.]]\n",
      "[[ 6.]\n",
      " [-2.]]\n"
     ]
    }
   ],
   "source": [
    "import numpy as np\n",
    "from scipy import linalg\n",
    "\n",
    "A = np.array([[2,5],[-4,3]])\n",
    "B = np.array([[2],[-30]])\n",
    "Ainv = linalg.inv(A)\n",
    "result = np.dot(Ainv,B)\n",
    "\n",
    "# using linalg from scipy package\n",
    "result2 = linalg.solve(A,B)\n",
    "\n",
    "print(A)\n",
    "print(Ainv)\n",
    "print(B)\n",
    "print(result)\n",
    "print(result2)\n",
    "\n",
    "# x1 = 6, x2 = -2"
   ]
  },
  {
   "cell_type": "code",
   "execution_count": null,
   "metadata": {},
   "outputs": [],
   "source": [
    "# References:\n",
    "# Textbook: Advanced Engineering Mathematics 10th Edition by EDWIN KREYSZIG\n",
    "# CheatSheet: https://s3.amazonaws.com/assets.datacamp.com/blog_assets/Python_SciPy_Cheat_Sheet_Linear_Algebra.pdf\n",
    "# Documentation: https://docs.scipy.org/doc/numpy-1.13.0/reference/routines.linalg.html\n",
    "# Khan Academy: "
   ]
  }
 ],
 "metadata": {
  "kernelspec": {
   "display_name": "Python 3",
   "language": "python",
   "name": "python3"
  },
  "language_info": {
   "codemirror_mode": {
    "name": "ipython",
    "version": 3
   },
   "file_extension": ".py",
   "mimetype": "text/x-python",
   "name": "python",
   "nbconvert_exporter": "python",
   "pygments_lexer": "ipython3",
   "version": "3.6.5"
  }
 },
 "nbformat": 4,
 "nbformat_minor": 2
}
