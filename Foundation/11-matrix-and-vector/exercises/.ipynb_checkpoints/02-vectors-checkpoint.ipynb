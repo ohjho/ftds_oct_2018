{
 "cells": [
  {
   "cell_type": "markdown",
   "metadata": {},
   "source": [
    "\n",
    "# Linear algerbra\n",
    "\n",
    "Along with probability and statistics, multivariable calculus, linear algebra is one of the key area of maths involved in deep learning. We represent neural networks using matrices, and linear algebra is key for understanding how to work with these matrices.  In order to drill deeper into many machine learning algorithms a good foundation linear algebra will go a long way. \n",
    "Linear algebra is also very important in computer graphics (since it allows us to effectively describe space), and hence GPU (graphics processing units) where originally designed to do linear algebra very fast. In more recent years there ability to preform matrix maths efficently has been repurposed for deep learning. For further understanding on GPU’s, their relevance to Deep Learning see [here](https://www.analyticsvidhya.com/blog/2017/05/gpus-necessary-for-deep-learning/)"
   ]
  },
  {
   "cell_type": "code",
   "execution_count": 25,
   "metadata": {},
   "outputs": [],
   "source": [
    "from ipywidgets import interactive\n"
   ]
  },
  {
   "cell_type": "markdown",
   "metadata": {},
   "source": [
    "# Vectors \n",
    "\n",
    "Vectors are basically a list of numbers.\n",
    "\n",
    "$$ v = \\begin{bmatrix}\n",
    "v_1\\\\ \n",
    "v_2\\\\ \n",
    "\\end{bmatrix} $$\n",
    "\n",
    "In the vector $ v $ is a column vector and we'd say $ v_1 $ is the first component, $ v_2 $ is the second component. When we add vectors we add each individual component."
   ]
  },
  {
   "cell_type": "markdown",
   "metadata": {},
   "source": [
    "$$ v = \\begin{bmatrix}\n",
    "v_1\\\\ \n",
    "v_2\\\\ \n",
    "\\end{bmatrix} \\qquad\n",
    "w = \\begin{bmatrix}\n",
    "w_1\\\\ \n",
    "w_2\\\\ \n",
    "\\end{bmatrix}  \\qquad\n",
    "v + w = \\begin{bmatrix}\n",
    "v_1 + w_1\\\\ \n",
    "v_2 + w_2\\\\ \n",
    "\\end{bmatrix} $$\n",
    "\n"
   ]
  },
  {
   "cell_type": "markdown",
   "metadata": {},
   "source": [
    "We could do this with python like."
   ]
  },
  {
   "cell_type": "code",
   "execution_count": 26,
   "metadata": {},
   "outputs": [
    {
     "data": {
      "text/plain": [
       "[6, 8, 10, 12]"
      ]
     },
     "execution_count": 26,
     "metadata": {},
     "output_type": "execute_result"
    }
   ],
   "source": [
    "v = [1,2,3,4] \n",
    "w = [5,6,7,8]\n",
    "z = [0]\n",
    "\n",
    "for i in range( len(v)):\n",
    "    z[i] = v[i] + w[i]\n"
   ]
  },
  {
   "cell_type": "markdown",
   "metadata": {},
   "source": [
    "Notice we have to use a for loop to add each element. This can get tiresome, thankfully numpy helps us out here, as it automatically does the component-wise addition for us."
   ]
  },
  {
   "cell_type": "code",
   "execution_count": 27,
   "metadata": {},
   "outputs": [
    {
     "data": {
      "text/plain": [
       "array([ 6,  8, 10, 12])"
      ]
     },
     "execution_count": 27,
     "metadata": {},
     "output_type": "execute_result"
    }
   ],
   "source": [
    "v = np.array([1,2,3,4])\n"
   ]
  },
  {
   "cell_type": "markdown",
   "metadata": {},
   "source": [
    "Another common operation is scalar multiplication in which we multiple each element in a vector by a scalar (number)"
   ]
  },
  {
   "cell_type": "markdown",
   "metadata": {},
   "source": [
    "$$ 2v = \\begin{bmatrix}\n",
    "2v_1\\\\ \n",
    "2v_2\\\\ \n",
    "\\end{bmatrix} $$"
   ]
  },
  {
   "cell_type": "markdown",
   "metadata": {},
   "source": [
    "Often instead of thinking of vectors a list of numbers we like to think of them as points in space. For example a vector with two components can be though of as a point in the xy plane.\n",
    "\n",
    "## Interpretation\n",
    "\n",
    "The vector  $ \\begin{bmatrix} 3\\\\ -2 \\\\ \\end{bmatrix} $, means go right 3 steps and down -2 steps. Vectors can be intereted either as points space or and arror pointing from the origin to a point.  We can show this in code by plotting it. \n",
    "\n",
    "\n"
   ]
  },
  {
   "cell_type": "code",
   "execution_count": 28,
   "metadata": {},
   "outputs": [
    {
     "data": {
      "text/plain": [
       "(-10, 10)"
      ]
     },
     "execution_count": 28,
     "metadata": {},
     "output_type": "execute_result"
    },
    {
     "data": {
      "image/png": "[encoded data removed]",
      "text/plain": [
       "<Figure size 432x288 with 2 Axes>"
      ]
     },
     "metadata": {},
     "output_type": "display_data"
    }
   ],
   "source": [
    "fig,axes = plt.subplots(1,2)\n"
   ]
  },
  {
   "cell_type": "markdown",
   "metadata": {},
   "source": [
    "The interetation as arrow makes more sense when we add two vectors, since we can think it as traveling to the end of the first vector and then to a another."
   ]
  },
  {
   "cell_type": "code",
   "execution_count": 29,
   "metadata": {},
   "outputs": [
    {
     "data": {
      "text/plain": [
       "(-10, 10)"
      ]
     },
     "execution_count": 29,
     "metadata": {},
     "output_type": "execute_result"
    },
    {
     "data": {
      "image/png": "[encoded data removed]",
      "text/plain": [
       "<Figure size 432x288 with 1 Axes>"
      ]
     },
     "metadata": {},
     "output_type": "display_data"
    }
   ],
   "source": [
    "\n"
   ]
  },
  {
   "cell_type": "markdown",
   "metadata": {},
   "source": [
    "# Linear combinations\n",
    "\n",
    "Lets say we have a bunch of vectors of length n:\n",
    "\n",
    "$$ v_1, v_2,... v_n \\in  \\mathbb{R}^n $$\n",
    "\n",
    "A linear comination of them means we scale them by a number and add them together"
   ]
  },
  {
   "cell_type": "code",
   "execution_count": 30,
   "metadata": {},
   "outputs": [
    {
     "data": {
      "text/plain": [
       "array([14, 19, 24])"
      ]
     },
     "execution_count": 30,
     "metadata": {},
     "output_type": "execute_result"
    }
   ],
   "source": [
    "v1 = np.array([1,2,3])\n"
   ]
  },
  {
   "cell_type": "markdown",
   "metadata": {},
   "source": [
    "# Linear Span\n",
    "\n",
    "By multiplying each vector by a scalar and then adding them together (a linear comination), which points can you reach? The set of all possible vectors (or points) that you can reach given a linear combination of vectors vectors is called the span of those vectors. For a great explanation see [](https://www.youtube.com/watch?v=k7RM-ot2NWY)\n",
    "\n",
    "In our normal coordinate system we use the basis vectors.\n",
    "\n",
    "* $ \\hat{i} = \\begin{bmatrix}\n",
    "0\\\\ \n",
    "1 \n",
    "\\end{bmatrix} $\n",
    "* $ \\hat{j} = \\begin{bmatrix}\n",
    "1\\\\ \n",
    "0 \n",
    "\\end{bmatrix} $\n",
    "\n",
    "When we give coridinates $(x,y)$ we use them to scale the basis vectors and then add them together, using this we can reach any point (if the vectors are linearly indpedent, covered later).\n",
    "\n",
    "$$  x  \\begin{bmatrix}\n",
    "1 \\\\\n",
    "0 \n",
    "\\end{bmatrix}   + \n",
    " y \\begin{bmatrix}\n",
    "0 \\\\\n",
    "1 \n",
    "\\end{bmatrix}   =\n",
    "\\begin{bmatrix}\n",
    "x \\\\\n",
    "y \n",
    "\\end{bmatrix}\n",
    "$$\n",
    "\n",
    "Bellow is a interactive plot to demo this."
   ]
  },
  {
   "cell_type": "code",
   "execution_count": 31,
   "metadata": {},
   "outputs": [
    {
     "data": {
      "application/vnd.jupyter.widget-view+json": {
       "model_id": "15457918f5ec4d18b6639e2b4945214f",
       "version_major": 2,
       "version_minor": 0
      },
      "text/plain": [
       "interactive(children=(IntSlider(value=0, description='x', max=10, min=-10), IntSlider(value=0, description='y'…"
      ]
     },
     "metadata": {},
     "output_type": "display_data"
    }
   ],
   "source": [
    "def f(x,y):\n"
   ]
  },
  {
   "cell_type": "markdown",
   "metadata": {},
   "source": [
    "But who says we have to use the standard basis vectors, we could use some other vectors to define our coordinate system, and in most case it will should work."
   ]
  },
  {
   "cell_type": "code",
   "execution_count": 32,
   "metadata": {},
   "outputs": [
    {
     "data": {
      "application/vnd.jupyter.widget-view+json": {
       "model_id": "301a8bf63d8d43f4b5b093b6c4db6a58",
       "version_major": 2,
       "version_minor": 0
      },
      "text/plain": [
       "interactive(children=(IntSlider(value=0, description='x', max=10, min=-10), IntSlider(value=0, description='y'…"
      ]
     },
     "metadata": {},
     "output_type": "display_data"
    }
   ],
   "source": [
    "\n"
   ]
  },
  {
   "cell_type": "markdown",
   "metadata": {},
   "source": [
    "If we get unlucky and we choose two vectors that are on the same line or are ** linearly dependent **, then we can only travel on that line."
   ]
  },
  {
   "cell_type": "code",
   "execution_count": 33,
   "metadata": {},
   "outputs": [
    {
     "data": {
      "application/vnd.jupyter.widget-view+json": {
       "model_id": "f5992696cce7461ca15ec932b3147df2",
       "version_major": 2,
       "version_minor": 0
      },
      "text/plain": [
       "interactive(children=(IntSlider(value=0, description='x', max=10, min=-10), IntSlider(value=0, description='y'…"
      ]
     },
     "metadata": {},
     "output_type": "display_data"
    }
   ],
   "source": [
    "\n"
   ]
  },
  {
   "cell_type": "markdown",
   "metadata": {},
   "source": [
    "# Dot Product\n",
    "\n",
    "Given two vectors we can get the dot product by multiplying each element together and then taking the sum of the final vector.\n",
    "\n",
    "$$ v \\cdot w = v_1 w_1 + v_2 w_2 $$\n"
   ]
  },
  {
   "cell_type": "markdown",
   "metadata": {},
   "source": [
    "We can represent this in python code like so"
   ]
  },
  {
   "cell_type": "code",
   "execution_count": 22,
   "metadata": {},
   "outputs": [
    {
     "data": {
      "text/plain": [
       "130"
      ]
     },
     "execution_count": 22,
     "metadata": {},
     "output_type": "execute_result"
    }
   ],
   "source": [
    "v = [1,2,3,4,5]\n"
   ]
  },
  {
   "cell_type": "markdown",
   "metadata": {},
   "source": [
    "The dot product exhibts some very usefull properties:\n",
    "\n",
    "* Commutatuve - $ \\textbf{r} \\cdot \\textbf{s} = \\textbf{s} \\cdot \\textbf{r} $\n",
    "* Distributive - $ \\textbf{r} \\cdot \\textbf{(s + t )}= \\textbf{r} \\cdot \\textbf{s} + \\textbf{r} \\cdot \\textbf{t} $\n",
    "* Associative  $ \\textbf{r} \\cdot (a \\textbf{s}) = a(\\textbf{r} \\cdot \\textbf{s}) $\n"
   ]
  },
  {
   "cell_type": "markdown",
   "metadata": {},
   "source": [
    "# Exercises"
   ]
  },
  {
   "cell_type": "markdown",
   "metadata": {},
   "source": [
    "** 1. **   Create vector  $ a $ with values ranging from 1 to 10. Create another vector $ b $ with values ranging from 21 to 30. Take the dot product of $ a $ and $ b $."
   ]
  },
  {
   "cell_type": "code",
   "execution_count": null,
   "metadata": {},
   "outputs": [],
   "source": []
  },
  {
   "cell_type": "markdown",
   "metadata": {},
   "source": [
    "** 2. **\n",
    "Create a vector with values only even values ranging from 1 to 100 . \n"
   ]
  },
  {
   "cell_type": "code",
   "execution_count": null,
   "metadata": {},
   "outputs": [],
   "source": []
  },
  {
   "cell_type": "markdown",
   "metadata": {},
   "source": [
    "** 3. **  How do you reverse a vector ?"
   ]
  },
  {
   "cell_type": "code",
   "execution_count": null,
   "metadata": {},
   "outputs": [],
   "source": []
  },
  {
   "cell_type": "markdown",
   "metadata": {},
   "source": [
    "** 4. **  Find indices of all non-zero elements from  $ [1,23,0,2,4,0] $. * Hint * `np.nonzero`\n"
   ]
  },
  {
   "cell_type": "code",
   "execution_count": null,
   "metadata": {},
   "outputs": [],
   "source": []
  },
  {
   "cell_type": "markdown",
   "metadata": {},
   "source": [
    "** 5. **  The three corners of a parallelogram are $ (1,1) $, $ (4,2) $, and $ (1,3) $, this is plotted bellow. What are the 3 other possible corners? Use vector addtion to get to get the other corners."
   ]
  },
  {
   "cell_type": "code",
   "execution_count": 21,
   "metadata": {},
   "outputs": [
    {
     "data": {
      "image/png": "[encoded data removed]",
      "text/plain": [
       "<matplotlib.figure.Figure at 0x7fb40dc1ee10>"
      ]
     },
     "metadata": {},
     "output_type": "display_data"
    }
   ],
   "source": [
    "\n"
   ]
  },
  {
   "cell_type": "markdown",
   "metadata": {},
   "source": [
    "** 6. **  What is the distance for between the vectors $ a $ and $ b $?"
   ]
  },
  {
   "cell_type": "code",
   "execution_count": 23,
   "metadata": {},
   "outputs": [],
   "source": [
    "a = np.array([3,4])\n"
   ]
  },
  {
   "cell_type": "markdown",
   "metadata": {},
   "source": [
    "** 7. ** What is the size of the vector $ v $ ?"
   ]
  },
  {
   "cell_type": "code",
   "execution_count": 35,
   "metadata": {},
   "outputs": [],
   "source": [
    "v = [1,2,35,3]"
   ]
  }
 ],
 "metadata": {
  "kernelspec": {
   "display_name": "Python 3",
   "language": "python",
   "name": "python3"
  },
  "language_info": {
   "codemirror_mode": {
    "name": "ipython",
    "version": 3
   },
   "file_extension": ".py",
   "mimetype": "text/x-python",
   "name": "python",
   "nbconvert_exporter": "python",
   "pygments_lexer": "ipython3",
   "version": "3.6.3"
  }
 },
 "nbformat": 4,
 "nbformat_minor": 2
}
