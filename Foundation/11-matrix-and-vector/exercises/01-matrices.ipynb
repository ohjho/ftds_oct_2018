{
 "cells": [
  {
   "cell_type": "markdown",
   "metadata": {},
   "source": [
    "# Matrix \n",
    "\n",
    "A matrix is a grid of numbers arranged into m rows and n columns, kind of like a excel spread sheet or a pandas dataframe.\n",
    "\n",
    "$$ A = \n",
    "\\begin{bmatrix}\n",
    " 1 & 2 \\\\ \n",
    " 3 & 4 \\\\ \n",
    " 5 & 6 \n",
    "\\end{bmatrix} $$\n",
    "\n",
    "\n",
    " $ A $ is a matrix with 3 row and 2 columns or a 3 by 2 matrix. The items inside a matrix are called elements, so each element in $ A $ is a number. In numpy there a numerous methods to create matrices, some are demonstrated bellow.\n"
   ]
  },
  {
   "cell_type": "code",
   "execution_count": 227,
   "metadata": {},
   "outputs": [
    {
     "data": {
      "text/plain": [
       "array([[ 0.36592721,  0.70598879,  0.57818689],\n",
       "       [ 0.24585161,  0.73850868,  0.33433893],\n",
       "       [ 0.82485778,  0.92059805,  0.85819294]])"
      ]
     },
     "execution_count": 227,
     "metadata": {},
     "output_type": "execute_result"
    }
   ],
   "source": [
    "np.random.random((3,3))"
   ]
  },
  {
   "cell_type": "code",
   "execution_count": 228,
   "metadata": {},
   "outputs": [
    {
     "data": {
      "text/plain": [
       "array([[ 0.,  0.,  0.,  0.],\n",
       "       [ 0.,  0.,  0.,  0.],\n",
       "       [ 0.,  0.,  0.,  0.]])"
      ]
     },
     "execution_count": 228,
     "metadata": {},
     "output_type": "execute_result"
    }
   ],
   "source": [
    "np.zeros((3,4))"
   ]
  },
  {
   "cell_type": "code",
   "execution_count": 229,
   "metadata": {},
   "outputs": [
    {
     "data": {
      "text/plain": [
       "array([[ 1.,  1.,  1.,  1.,  1.,  1.,  1.,  1.,  1.,  1.],\n",
       "       [ 1.,  1.,  1.,  1.,  1.,  1.,  1.,  1.,  1.,  1.]])"
      ]
     },
     "execution_count": 229,
     "metadata": {},
     "output_type": "execute_result"
    }
   ],
   "source": [
    "np.ones((2,10))"
   ]
  },
  {
   "cell_type": "code",
   "execution_count": 230,
   "metadata": {},
   "outputs": [
    {
     "data": {
      "text/plain": [
       "array([[ 1.,  0.,  0.,  0.,  0.],\n",
       "       [ 0.,  1.,  0.,  0.,  0.],\n",
       "       [ 0.,  0.,  1.,  0.,  0.],\n",
       "       [ 0.,  0.,  0.,  1.,  0.],\n",
       "       [ 0.,  0.,  0.,  0.,  1.]])"
      ]
     },
     "execution_count": 230,
     "metadata": {},
     "output_type": "execute_result"
    }
   ],
   "source": [
    "np.eye(5) #"
   ]
  },
  {
   "cell_type": "code",
   "execution_count": 231,
   "metadata": {},
   "outputs": [
    {
     "data": {
      "text/plain": [
       "array([[1402,  191],\n",
       "       [1371,  821],\n",
       "       [ 949, 1437]])"
      ]
     },
     "execution_count": 231,
     "metadata": {},
     "output_type": "execute_result"
    }
   ],
   "source": [
    "np.array([[1402,191],[1371,821],[949,1437]])"
   ]
  },
  {
   "cell_type": "markdown",
   "metadata": {},
   "source": [
    "## Matrix indexing\n",
    "\n",
    "We can access individual elements using the syntax\n",
    "\n",
    "```\n",
    "Matrix[row,col]\n",
    "```"
   ]
  },
  {
   "cell_type": "code",
   "execution_count": 232,
   "metadata": {},
   "outputs": [
    {
     "data": {
      "text/plain": [
       "1402"
      ]
     },
     "execution_count": 232,
     "metadata": {},
     "output_type": "execute_result"
    }
   ],
   "source": [
    "A = np.array([[1402,191],[1371,821],[949,1437]])\n"
   ]
  },
  {
   "cell_type": "markdown",
   "metadata": {},
   "source": [
    "The normal python index rules apply so we can index matrix using \n",
    "\n",
    "```python\n",
    "Matrix[start:stop:step,start:stop:step]\n",
    "```"
   ]
  },
  {
   "cell_type": "code",
   "execution_count": 233,
   "metadata": {},
   "outputs": [
    {
     "data": {
      "text/plain": [
       "array([[1402,  191],\n",
       "       [ 949, 1437]])"
      ]
     },
     "execution_count": 233,
     "metadata": {},
     "output_type": "execute_result"
    }
   ],
   "source": [
    "#A[0::2] #alternative syntax\n"
   ]
  },
  {
   "cell_type": "code",
   "execution_count": 232,
   "metadata": {},
   "outputs": [
    {
     "data": {
      "text/plain": [
       "array([[1371,  821]])"
      ]
     },
     "execution_count": 232,
     "metadata": {},
     "output_type": "execute_result"
    }
   ],
   "source": [
    "A[1::2,:] # return only even rows"
   ]
  },
  {
   "cell_type": "code",
   "execution_count": 233,
   "metadata": {},
   "outputs": [
    {
     "data": {
      "text/plain": [
       "array([[1402],\n",
       "       [ 949]])"
      ]
     },
     "execution_count": 233,
     "metadata": {},
     "output_type": "execute_result"
    }
   ],
   "source": [
    "A[0::2,0::2] # odd rows and odd cols"
   ]
  },
  {
   "cell_type": "markdown",
   "metadata": {},
   "source": [
    "## Matrix addition\n",
    "\n",
    "When we you add two matrices the elements are added element wise. The same rules apply for subtraction\n",
    "\n",
    "$$ \\begin{bmatrix}\n",
    " 1 & 2 \\\\ \n",
    " 3 & 4 \\\\ \n",
    " 5 & 6 \n",
    "\\end{bmatrix} +\n",
    " \\begin{bmatrix}\n",
    " 1 & 1 \\\\ \n",
    " 1 & 1 \\\\ \n",
    " 1 & 1 \n",
    "\\end{bmatrix} =\n",
    " \\begin{bmatrix}\n",
    " 1 +1 & 1 +2 \\\\ \n",
    " 1 + 3& 1 + 4 \\\\ \n",
    " 1 +5 & 1 + 6 \n",
    "\\end{bmatrix} $$\n",
    "\n",
    "In traditional maths only matrices of the same size can be added or subtracted. However in numpy these rules are relax by something called broadcasting, which well cover later."
   ]
  },
  {
   "cell_type": "code",
   "execution_count": 3,
   "metadata": {},
   "outputs": [
    {
     "data": {
      "text/plain": [
       "array([[ 2.,  2.,  2.,  2.,  2.],\n",
       "       [ 2.,  2.,  2.,  2.,  2.],\n",
       "       [ 2.,  2.,  2.,  2.,  2.],\n",
       "       [ 2.,  2.,  2.,  2.,  2.],\n",
       "       [ 2.,  2.,  2.,  2.,  2.]])"
      ]
     },
     "execution_count": 3,
     "metadata": {},
     "output_type": "execute_result"
    }
   ],
   "source": [
    "np.ones((5,5)) + np.ones((5,1)) "
   ]
  },
  {
   "cell_type": "markdown",
   "metadata": {},
   "source": [
    "## Multiplication \n",
    "\n",
    "Matrix multiplication is slghtly more complicated than addition and subtraction. I'll start by explaining when it's valid to multiply two matrices together and later how you do it.\n",
    "\n",
    "### Inside outside rule\n",
    "\n",
    "Matrix multiplication has different rules to addition and subtraction. Matrices must be of certain dimensions if we wish to multiply them together. Say we have matrix $ A $ which is **m by n** and we have matrix $ B $ which is **n by p**, the two matrices can only be multiplied if n ==  n. The resulting product will be **m by p**. This is explained by the picture bellow\n"
   ]
  },
  {
   "cell_type": "markdown",
   "metadata": {},
   "source": [
    "\n",
    "![inny outey rule](https://www.freemathhelp.com/images/lessons/mat11.png)\n",
    "\n",
    "We can express the above matrix multiplication in numpy like so."
   ]
  },
  {
   "cell_type": "code",
   "execution_count": 234,
   "metadata": {},
   "outputs": [
    {
     "data": {
      "text/plain": [
       "array([[1, 2, 3],\n",
       "       [4, 5, 6]])"
      ]
     },
     "execution_count": 234,
     "metadata": {},
     "output_type": "execute_result"
    }
   ],
   "source": [
    "X = np.array([[1,2,3],[4,5,6]])\n"
   ]
  },
  {
   "cell_type": "code",
   "execution_count": 235,
   "metadata": {},
   "outputs": [
    {
     "data": {
      "text/plain": [
       "array([9, 8, 7])"
      ]
     },
     "execution_count": 235,
     "metadata": {},
     "output_type": "execute_result"
    }
   ],
   "source": [
    "y = np.array([9,8,7])\n"
   ]
  },
  {
   "cell_type": "code",
   "execution_count": 236,
   "metadata": {},
   "outputs": [
    {
     "data": {
      "text/plain": [
       "array([[ 9, 16, 21],\n",
       "       [36, 40, 42]])"
      ]
     },
     "execution_count": 236,
     "metadata": {},
     "output_type": "execute_result"
    }
   ],
   "source": [
    "X*y"
   ]
  },
  {
   "cell_type": "markdown",
   "metadata": {},
   "source": [
    "### The calculation\n",
    "\n",
    "But how is the answers calculated? We can think of the calculation in terms of dot products.  We can figure out the resulting matrix shape using the inside out rule. So to fill position 1,1  in our new matrix we take the dot product from row 1 of the first matrix and column 1 from the second matrix\n",
    "\n",
    "![matrix mul](https://www.mathsisfun.com/algebra/images/matrix-multiply-a.svg)"
   ]
  },
  {
   "cell_type": "markdown",
   "metadata": {},
   "source": [
    "The next position we want to calculated is $ (1,2) $, so we take the dot product of row 1 from the first matrix and column two from the second. "
   ]
  },
  {
   "cell_type": "markdown",
   "metadata": {},
   "source": [
    "![](https://www.mathsisfun.com/algebra/images/matrix-multiply-b.svg)"
   ]
  },
  {
   "cell_type": "markdown",
   "metadata": {},
   "source": [
    "## Reshaping\n",
    "\n",
    "As we have seen above if matrices are not of the correct shape we can't do operations upon them. Often in deep learning we need to reshape matrices in order to create our networks. "
   ]
  },
  {
   "cell_type": "code",
   "execution_count": 237,
   "metadata": {},
   "outputs": [
    {
     "data": {
      "text/plain": [
       "array([1, 2, 3, 4, 5, 6, 7, 8, 9])"
      ]
     },
     "execution_count": 237,
     "metadata": {},
     "output_type": "execute_result"
    }
   ],
   "source": [
    "A = np.arange(1,10)\n"
   ]
  },
  {
   "cell_type": "code",
   "execution_count": 238,
   "metadata": {},
   "outputs": [
    {
     "data": {
      "text/plain": [
       "array([[1, 2, 3],\n",
       "       [4, 5, 6],\n",
       "       [7, 8, 9]])"
      ]
     },
     "execution_count": 238,
     "metadata": {},
     "output_type": "execute_result"
    }
   ],
   "source": [
    "A.reshape((3,3))"
   ]
  },
  {
   "cell_type": "markdown",
   "metadata": {},
   "source": [
    "We can get the shape of a matrix like so."
   ]
  },
  {
   "cell_type": "code",
   "execution_count": 154,
   "metadata": {},
   "outputs": [
    {
     "data": {
      "text/plain": [
       "(4, 3)"
      ]
     },
     "execution_count": 154,
     "metadata": {},
     "output_type": "execute_result"
    }
   ],
   "source": [
    "C.shape"
   ]
  },
  {
   "cell_type": "code",
   "execution_count": 155,
   "metadata": {},
   "outputs": [
    {
     "data": {
      "text/plain": [
       "(2, 2)"
      ]
     },
     "execution_count": 155,
     "metadata": {},
     "output_type": "execute_result"
    }
   ],
   "source": [
    "B.shape"
   ]
  },
  {
   "cell_type": "markdown",
   "metadata": {},
   "source": [
    "## Order matters\n",
    "\n",
    "The order of matrix multiplication matters. That means that\n",
    "\n",
    "$$ AB \\neq BA $$ \n",
    "\n"
   ]
  },
  {
   "cell_type": "code",
   "execution_count": 2,
   "metadata": {},
   "outputs": [
    {
     "data": {
      "text/plain": [
       "array([[1, 2, 3],\n",
       "       [4, 5, 6],\n",
       "       [7, 8, 9]])"
      ]
     },
     "execution_count": 2,
     "metadata": {},
     "output_type": "execute_result"
    }
   ],
   "source": [
    "A = np.arange(1,10).reshape((3,3))\n"
   ]
  },
  {
   "cell_type": "code",
   "execution_count": 3,
   "metadata": {},
   "outputs": [
    {
     "data": {
      "text/plain": [
       "array([[10, 11, 12],\n",
       "       [13, 14, 15],\n",
       "       [16, 17, 18]])"
      ]
     },
     "execution_count": 3,
     "metadata": {},
     "output_type": "execute_result"
    }
   ],
   "source": [
    "B = np.arange(10,19).reshape((3,3))\n"
   ]
  },
  {
   "cell_type": "code",
   "execution_count": 6,
   "metadata": {},
   "outputs": [
    {
     "data": {
      "text/plain": [
       "array([[ 84,  90,  96],\n",
       "       [201, 216, 231],\n",
       "       [318, 342, 366]])"
      ]
     },
     "execution_count": 6,
     "metadata": {},
     "output_type": "execute_result"
    }
   ],
   "source": [
    "# np.matmul(A,B)\n"
   ]
  },
  {
   "cell_type": "code",
   "execution_count": 8,
   "metadata": {},
   "outputs": [
    {
     "data": {
      "text/plain": [
       "array([[138, 171, 204],\n",
       "       [174, 216, 258],\n",
       "       [210, 261, 312]])"
      ]
     },
     "execution_count": 8,
     "metadata": {},
     "output_type": "execute_result"
    }
   ],
   "source": [
    "B @ A"
   ]
  },
  {
   "cell_type": "code",
   "execution_count": 9,
   "metadata": {},
   "outputs": [
    {
     "data": {
      "text/plain": [
       "array([[False, False, False],\n",
       "       [False,  True, False],\n",
       "       [False, False, False]])"
      ]
     },
     "execution_count": 9,
     "metadata": {},
     "output_type": "execute_result"
    }
   ],
   "source": [
    "A @ B  == B @ A #check eqaulity element wise"
   ]
  },
  {
   "cell_type": "code",
   "execution_count": 11,
   "metadata": {},
   "outputs": [
    {
     "data": {
      "text/plain": [
       "False"
      ]
     },
     "execution_count": 11,
     "metadata": {},
     "output_type": "execute_result"
    }
   ],
   "source": [
    "(A @ B  == B @ A).all() #Check if all of them are true"
   ]
  },
  {
   "cell_type": "markdown",
   "metadata": {},
   "source": [
    "# Transpose\n",
    "\n",
    "The transpose switches the rows and columns in a matrix.A transpose can be thought of as rotating a matrix around it's diagonal. The diagonal starts in the top left hand corner and ends in the bottom right and corner. In maths the transpose is indicated by a T in the top-right corner of the matrix.\n",
    "\n",
    "$$ \\begin{bmatrix}\n",
    " 1 & 2 & 3 \\\\ \n",
    " 4 & 5 & 6\n",
    "\\end{bmatrix}^T =\n",
    "\\begin{bmatrix}\n",
    "1 & 2\\\\ \n",
    "3 & 4\\\\ \n",
    "5 & 6\n",
    "\\end{bmatrix} $$"
   ]
  },
  {
   "cell_type": "code",
   "execution_count": 12,
   "metadata": {},
   "outputs": [
    {
     "data": {
      "text/plain": [
       "array([[1, 0],\n",
       "       [1, 1]])"
      ]
     },
     "execution_count": 12,
     "metadata": {},
     "output_type": "execute_result"
    }
   ],
   "source": [
    "A = np.array([[1,0],[1,1]])\n"
   ]
  },
  {
   "cell_type": "code",
   "execution_count": 13,
   "metadata": {},
   "outputs": [
    {
     "data": {
      "text/plain": [
       "array([[1, 1],\n",
       "       [0, 1]])"
      ]
     },
     "execution_count": 13,
     "metadata": {},
     "output_type": "execute_result"
    }
   ],
   "source": [
    "A.T"
   ]
  },
  {
   "cell_type": "markdown",
   "metadata": {},
   "source": [
    "# Broadcasting\n",
    "\n",
    "In numpy the rules for addition, subtraction and multiplication are relaxed. Broadcasting allows us to take the hadamard product (element wise multiplication) of a matrix and a vector, even though there shapes are not the same.\n"
   ]
  },
  {
   "cell_type": "markdown",
   "metadata": {},
   "source": [
    "\n",
    "$$ \\begin{bmatrix}\n",
    "a_1  \\\\ \n",
    "a_2   \n",
    "\\end{bmatrix} \\cdot\n",
    "\\begin{bmatrix}\n",
    "b_1 & b_2  \\\\ \n",
    "b_3 & b_4   \n",
    "\\end{bmatrix} =\n",
    "\\begin{bmatrix}\n",
    "a_1 \\cdot b_1 & a_1 \\cdot b_2  \\\\ \n",
    "a_2 \\cdot b_3 &  a_2 \\cdot b_4   \n",
    "\\end{bmatrix} $$"
   ]
  },
  {
   "cell_type": "code",
   "execution_count": 14,
   "metadata": {},
   "outputs": [
    {
     "data": {
      "text/plain": [
       "array([[ 2,  6],\n",
       "       [ 4, 10]])"
      ]
     },
     "execution_count": 14,
     "metadata": {},
     "output_type": "execute_result"
    }
   ],
   "source": [
    "A = np.array([1,2])\n"
   ]
  },
  {
   "cell_type": "markdown",
   "metadata": {},
   "source": [
    "The same rules apply for addition"
   ]
  },
  {
   "cell_type": "code",
   "execution_count": 15,
   "metadata": {},
   "outputs": [
    {
     "data": {
      "text/plain": [
       "array([[1, 3],\n",
       "       [3, 5]])"
      ]
     },
     "execution_count": 15,
     "metadata": {},
     "output_type": "execute_result"
    }
   ],
   "source": [
    "A = np.array([0,1])\n"
   ]
  },
  {
   "cell_type": "markdown",
   "metadata": {},
   "source": [
    "## Questions\n"
   ]
  },
  {
   "cell_type": "markdown",
   "metadata": {},
   "source": [
    "** 1. **   Define a function that returns True of False depending if two matrices can be multiplied together.\n"
   ]
  },
  {
   "cell_type": "code",
   "execution_count": 16,
   "metadata": {},
   "outputs": [
    {
     "data": {
      "text/plain": [
       "True"
      ]
     },
     "execution_count": 16,
     "metadata": {},
     "output_type": "execute_result"
    }
   ],
   "source": [
    "import numpy as np\n",
    "\n",
    "def CanMatMultiple(A, B):\n",
    "    return A.shape[1] == B.shape[0]\n",
    "\n",
    "A = np.random.random((2,3))\n",
    "B = np.ones((3,4))\n",
    "\n",
    "CanMatMultiple(A,B)"
   ]
  },
  {
   "cell_type": "markdown",
   "metadata": {},
   "source": [
    "** 2. **  Define a function that given two matrices will return the dimension of the multiplication."
   ]
  },
  {
   "cell_type": "code",
   "execution_count": 8,
   "metadata": {},
   "outputs": [
    {
     "data": {
      "text/plain": [
       "(2, 4)"
      ]
     },
     "execution_count": 8,
     "metadata": {},
     "output_type": "execute_result"
    }
   ],
   "source": [
    "def DotDimension(A, B):\n",
    "    if CanMatMultiple(A, B):\n",
    "        return (A.shape[0], B.shape[1])\n",
    "    else:\n",
    "        return None\n",
    "    \n",
    "DotDimension(A,B)"
   ]
  },
  {
   "cell_type": "markdown",
   "metadata": {},
   "source": [
    "** 3. **  Create a 3 by 3 matrix with values ranging from 1 to 9"
   ]
  },
  {
   "cell_type": "code",
   "execution_count": 13,
   "metadata": {},
   "outputs": [
    {
     "name": "stdout",
     "output_type": "stream",
     "text": [
      "[[1 2 3]\n",
      " [4 5 6]\n",
      " [7 8 9]]\n"
     ]
    }
   ],
   "source": [
    "A = np.arange(1,10).reshape(3,3)\n",
    "print( A )"
   ]
  },
  {
   "cell_type": "markdown",
   "metadata": {},
   "source": [
    "### 4.\n",
    "\n",
    "Create a 3 by 3 by 3 matrix with random values"
   ]
  },
  {
   "cell_type": "code",
   "execution_count": 12,
   "metadata": {},
   "outputs": [
    {
     "name": "stdout",
     "output_type": "stream",
     "text": [
      "[[0.83421581 0.87036545 0.77282753]\n",
      " [0.58155496 0.017069   0.37290013]\n",
      " [0.03926112 0.34619335 0.3207228 ]]\n"
     ]
    }
   ],
   "source": [
    "B = np.random.random((3,3))\n",
    "print( B )"
   ]
  },
  {
   "cell_type": "markdown",
   "metadata": {},
   "source": [
    "### 5.\n",
    "\n",
    "Reshape the following matrices $ A $ and $ B $ so that they can be multiplied together."
   ]
  },
  {
   "cell_type": "code",
   "execution_count": 14,
   "metadata": {},
   "outputs": [
    {
     "data": {
      "text/plain": [
       "array([[ True,  True,  True],\n",
       "       [ True,  True,  True],\n",
       "       [ True,  True,  True]])"
      ]
     },
     "execution_count": 14,
     "metadata": {},
     "output_type": "execute_result"
    }
   ],
   "source": [
    "C = A @ B\n",
    "C == np.dot(A,B)"
   ]
  },
  {
   "cell_type": "code",
   "execution_count": 96,
   "metadata": {
    "collapsed": true
   },
   "outputs": [],
   "source": [
    "A = np.ones((3,4))\n"
   ]
  },
  {
   "cell_type": "markdown",
   "metadata": {},
   "source": [
    "### 6.\n",
    "\n",
    "Using C and D (defined bellow) perform the following operation $ C \\cdot D^T $"
   ]
  },
  {
   "cell_type": "code",
   "execution_count": null,
   "metadata": {},
   "outputs": [],
   "source": [
    "C = np.ones((3,4))\n",
    "D = np.random.random((2,4))"
   ]
  },
  {
   "cell_type": "markdown",
   "metadata": {},
   "source": [
    "### 7. \n",
    "Given the bellow 3 matrices put them in a order that they can multiplied together"
   ]
  },
  {
   "cell_type": "code",
   "execution_count": 109,
   "metadata": {
    "collapsed": true
   },
   "outputs": [],
   "source": [
    "X1 = np.ones((4,3))\n"
   ]
  },
  {
   "cell_type": "code",
   "execution_count": null,
   "metadata": {},
   "outputs": [],
   "source": []
  },
  {
   "cell_type": "markdown",
   "metadata": {},
   "source": [
    "### 8.\n",
    "\n",
    "How would you create a 8 by 8 matrix with a checkerboard pattern? * Hint * [::2] indexing will help. "
   ]
  },
  {
   "cell_type": "code",
   "execution_count": 23,
   "metadata": {},
   "outputs": [
    {
     "name": "stdout",
     "output_type": "stream",
     "text": [
      "[[1. 0. 1. 0. 1. 0. 1. 0.]\n",
      " [0. 1. 0. 1. 0. 1. 0. 1.]\n",
      " [1. 0. 1. 0. 1. 0. 1. 0.]\n",
      " [0. 1. 0. 1. 0. 1. 0. 1.]\n",
      " [1. 0. 1. 0. 1. 0. 1. 0.]\n",
      " [0. 1. 0. 1. 0. 1. 0. 1.]\n",
      " [1. 0. 1. 0. 1. 0. 1. 0.]\n",
      " [0. 1. 0. 1. 0. 1. 0. 1.]]\n"
     ]
    }
   ],
   "source": [
    "checker = np.ones((8,8))\n",
    "checker[0::2,1::2] = 0\n",
    "checker[1::2,0::2] = 0\n",
    "\n",
    "print( checker )"
   ]
  },
  {
   "cell_type": "markdown",
   "metadata": {},
   "source": [
    "### 9.\n",
    "\n",
    "Can you multiply the two matrices, $ A $ and $ B $, without using numpy?"
   ]
  },
  {
   "cell_type": "code",
   "execution_count": 133,
   "metadata": {
    "collapsed": true
   },
   "outputs": [],
   "source": [
    "A=[[1,2]\n"
   ]
  },
  {
   "cell_type": "code",
   "execution_count": 33,
   "metadata": {},
   "outputs": [
    {
     "name": "stdout",
     "output_type": "stream",
     "text": [
      "[[8 1]\n",
      " [1 4]\n",
      " [3 1]]\n",
      "\n",
      "[[2 9 3 7]\n",
      " [7 9 5 3]]\n"
     ]
    }
   ],
   "source": [
    "A = np.random.randint(1,10,6).reshape(3,2)\n",
    "B = np.random.randint(1,10,8).reshape(2,4)\n",
    "print(f'{A}\\n\\n{B}')"
   ]
  },
  {
   "cell_type": "code",
   "execution_count": 47,
   "metadata": {},
   "outputs": [
    {
     "data": {
      "text/plain": [
       "array([[ True,  True,  True,  True],\n",
       "       [ True,  True,  True,  True],\n",
       "       [ True,  True,  True,  True]])"
      ]
     },
     "execution_count": 47,
     "metadata": {},
     "output_type": "execute_result"
    }
   ],
   "source": [
    "def arrM(a, b):\n",
    "    if len(a) == len(b):\n",
    "        return sum([ a_i * b[i] for i, a_i in enumerate(a)])\n",
    "    else:\n",
    "        return None\n",
    "\n",
    "def MatDot(A,B):\n",
    "    if CanMatMultiple(A,B):\n",
    "        # where A is of size m x i and B of size i x n\n",
    "        s = (A.shape[0], B.shape[1]) # out array is of size m x n\n",
    "        C = np.zeros(s)\n",
    "        return [[arrM(A[m, :], B[:, n] ) for n in range(s[1])] for m in range(s[0]) ]\n",
    "    else:\n",
    "        return None\n",
    "\n",
    "MArr = lambda a, b: sum([a_i * b[i] for i, a_i in enumerate(a) ])\n",
    "MDot = lambda A, B: [[MArr(A[m, :], B[:, n]) for n in range(B.shape[1])] for m in range(A.shape[0])]\n",
    "\n",
    "#arrM(A[0,:], B[:,0])\n",
    "result = MDot(A, B) #np.mat(MatDot(A,B))\n",
    "result2 = A @ B\n",
    "result == result2"
   ]
  },
  {
   "cell_type": "markdown",
   "metadata": {},
   "source": [
    "### 10. \n",
    "\n",
    "How would you take the transpose of a matrix without using numpy?"
   ]
  },
  {
   "cell_type": "code",
   "execution_count": 51,
   "metadata": {},
   "outputs": [
    {
     "name": "stdout",
     "output_type": "stream",
     "text": [
      "[[8 1]\n",
      " [1 4]\n",
      " [3 1]]\n"
     ]
    },
    {
     "data": {
      "text/plain": [
       "array([[ True,  True,  True],\n",
       "       [ True,  True,  True]])"
      ]
     },
     "execution_count": 51,
     "metadata": {},
     "output_type": "execute_result"
    }
   ],
   "source": [
    "TMat = lambda A : [[A[m,n] for m in range(A.shape[0])] for n in range(A.shape[1])]\n",
    "\n",
    "np.transpose(A) == TMat(A)"
   ]
  },
  {
   "cell_type": "markdown",
   "metadata": {},
   "source": [
    "## Additional resources\n",
    "\n",
    "Bellow are list of useful resources\n",
    "\n",
    "* [SciPy numpy talk](https://www.youtube.com/watch?v=lKcwuPnSHIQ)\n",
    "* [Matrix multiplication ](https://www.freemathhelp.com/matrix-multiplication.html)\n",
    "* [Maths needed for deep learning](https://www.quora.com/What-mathematical-background-does-one-need-for-learning-Deep-Learning)\n",
    "* [Linear algebra for deep learning](http://www.deeplearningbook.org/contents/linear_algebra.html)\n",
    "* [Great youtube playlist on linear algebra](https://www.youtube.com/channel/UCYO_jab_esuFRV4b17AJtAw)\n"
   ]
  }
 ],
 "metadata": {
  "kernelspec": {
   "display_name": "Python 3",
   "language": "python",
   "name": "python3"
  },
  "language_info": {
   "codemirror_mode": {
    "name": "ipython",
    "version": 3
   },
   "file_extension": ".py",
   "mimetype": "text/x-python",
   "name": "python",
   "nbconvert_exporter": "python",
   "pygments_lexer": "ipython3",
   "version": "3.6.3"
  }
 },
 "nbformat": 4,
 "nbformat_minor": 2
}
