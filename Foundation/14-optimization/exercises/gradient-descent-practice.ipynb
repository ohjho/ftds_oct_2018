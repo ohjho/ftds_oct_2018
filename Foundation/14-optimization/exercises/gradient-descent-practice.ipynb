{
 "cells": [
  {
   "cell_type": "markdown",
   "metadata": {},
   "source": [
    "## Gradient Descent\n",
    "Check out this [video](https://youtu.be/pB0lqYWzJkQ)\n",
    "\n",
    "Gradient again is the vector of the derivatives of the function to minimize  \n",
    "For a function $f(x,y)$  \n",
    "\n",
    "Gradient of $f(x,y) = \\nabla f(x,y) = \n",
    "\\begin{bmatrix}\n",
    "   \\frac{\\partial \\mathbf{f}}{\\partial x} \\\\\n",
    "   \\frac{\\partial \\mathbf{f}}{\\partial y} \n",
    "\\end{bmatrix}\n",
    "$\n",
    "\n",
    "Suppose:\n",
    "$\\mathbf{J} = w^{2}$  \n",
    "\n",
    "$\\frac{\\partial \\mathbf{J}}{\\partial w} = 2w$  \n",
    "\n",
    "Gradient Descent iterate thru w, setting learning rate, l, and some number of steps:  \n",
    "\n",
    "$ w - l * \\frac{\\partial \\mathbf{J}}{\\partial w} = w - l * 2w$\n"
   ]
  },
  {
   "cell_type": "markdown",
   "metadata": {},
   "source": [
    "### Practice!\n",
    "\n",
    "Let's try to optimize:  \n",
    "\n",
    "$J(x,y) = x^2 + y^4$  \n"
   ]
  },
  {
   "cell_type": "code",
   "execution_count": 9,
   "metadata": {},
   "outputs": [
    {
     "name": "stdout",
     "output_type": "stream",
     "text": [
      "0.97 0.95\n",
      "0.11406544773931321 0.27923535873738353\n",
      "0.013778989985484737 0.21711742851982868\n",
      "0.0011948567665664167 0.18492518760327525\n",
      "-0.000210797701721949 0.16383170813062728\n"
     ]
    }
   ],
   "source": [
    "def cost(x, y):\n",
    "    return x**2 + y**4\n",
    "\n",
    "def part_x( x, y):\n",
    "    return 2 * x + y**4\n",
    "\n",
    "def part_y( x, y):\n",
    "    return x**2 + 4 * y**3\n",
    "\n",
    "xi = 1  # inital x\n",
    "yi = 1  # inital y\n",
    "iter_count = 500\n",
    "learning_rate = 0.01\n",
    "for i in range(iter_count):\n",
    "    x_ , y_ = xi , yi\n",
    "    xi = x_ - learning_rate * part_x(x_, y_)\n",
    "    yi = y_ - learning_rate * part_y(x_, y_)\n",
    "    if i % 100 == 0:\n",
    "        print( xi, yi )"
   ]
  },
  {
   "cell_type": "code",
   "execution_count": 10,
   "metadata": {},
   "outputs": [
    {
     "data": {
      "text/plain": [
       "0.0004897933428923395"
      ]
     },
     "execution_count": 10,
     "metadata": {},
     "output_type": "execute_result"
    }
   ],
   "source": [
    "cost(xi, yi)"
   ]
  }
 ],
 "metadata": {
  "kernelspec": {
   "display_name": "Python 3",
   "language": "python",
   "name": "python3"
  },
  "language_info": {
   "codemirror_mode": {
    "name": "ipython",
    "version": 3
   },
   "file_extension": ".py",
   "mimetype": "text/x-python",
   "name": "python",
   "nbconvert_exporter": "python",
   "pygments_lexer": "ipython3",
   "version": "3.6.3"
  }
 },
 "nbformat": 4,
 "nbformat_minor": 2
}
