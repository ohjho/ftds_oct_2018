{
 "cells": [
  {
   "cell_type": "markdown",
   "metadata": {},
   "source": [
    "# Exercise 1:\n",
    "\n",
    "To formulate a broiler diet, and the daily requirement is 100 kg. The diet must contain \n",
    " \n",
    "i. at least 0.8% but not more than 1.2% calcium; \n",
    "ii. at least 22% protein; \n",
    "iii. at most 5% crude fiber. \n",
    " \n",
    "The main ingredients used include limestone, corn and soybean meal. The nutritive content of these ingredients is as follow:\n",
    "\n",
    "![](img/dietex1.png)\n",
    "\n",
    "\n",
    "Problem: Determine the feed mix method that minimizes the daily cost of producing 100 kg diet while satisfying the nutritive requirements"
   ]
  },
  {
   "cell_type": "code",
   "execution_count": null,
   "metadata": {},
   "outputs": [],
   "source": []
  },
  {
   "cell_type": "markdown",
   "metadata": {},
   "source": [
    "# Solution 1:\n",
    "\n",
    "The problem can be formulated as below:\n",
    "\n",
    "![](img/dietex1sol.png)\n",
    "\n",
    "We can solve this constrained linear programming problem with the following script"
   ]
  },
  {
   "cell_type": "code",
   "execution_count": 15,
   "metadata": {},
   "outputs": [
    {
     "name": "stdout",
     "output_type": "stream",
     "text": [
      "Optimization terminated successfully.\n",
      "         Current function value: 7.089802    \n",
      "         Iterations: 6\n",
      "     fun: 7.089801903781838\n",
      " message: 'Optimization terminated successfully.'\n",
      "     nit: 6\n",
      "   slack: array([0.4       , 0.        , 0.        , 1.11679959])\n",
      "  status: 0\n",
      " success: True\n",
      "       x: array([ 2.81708258, 64.85721636, 32.32570105])\n"
     ]
    }
   ],
   "source": [
    "from scipy.optimize import linprog\n"
   ]
  },
  {
   "cell_type": "code",
   "execution_count": 16,
   "metadata": {},
   "outputs": [
    {
     "name": "stdout",
     "output_type": "stream",
     "text": [
      "The minimized daily cost is : $ 7.089801903781838\n",
      "The amount for x  1  to use is :  2.8170825829688706\n",
      "The amount for x  2  to use is :  64.85721636223309\n",
      "The amount for x  3  to use is :  32.325701054798046\n"
     ]
    }
   ],
   "source": [
    "print(\"The minimized daily cost is : $\",res['fun'])\n"
   ]
  },
  {
   "cell_type": "code",
   "execution_count": null,
   "metadata": {},
   "outputs": [],
   "source": []
  },
  {
   "cell_type": "markdown",
   "metadata": {},
   "source": [
    "# Exercise 2: Dakota Problem\n",
    "\n",
    "\n",
    "The Dakota Furniture Company manufactures desks, tables, and chairs. The manufacture of each type of furniture requires lumber and two types of skilled labor: finishing and carpentry. The amount of each resource needed to make each type of furniture is given in the following table.  \n",
    "\n",
    "![](img/dakotaex2.png)\n",
    "\n",
    "Currently, 48 board feet of lumber, 20 finishing hours, and 8 carpentry hours are available. A desk sells for 60, a table for 30, and a chair for 20. Dakota believes that demands for desks and chairs are unlimited, but at most five tables can be sold. Because the available resources have already been purchased, Dakota wants to maximize total revenue."
   ]
  },
  {
   "cell_type": "code",
   "execution_count": null,
   "metadata": {},
   "outputs": [],
   "source": []
  },
  {
   "cell_type": "markdown",
   "metadata": {},
   "source": [
    "# Solution 2:\n",
    "\n",
    "The problem can be formulated as below:\n",
    "\n",
    "![](img/dakotaex2sol.png)\n",
    "\n",
    "We can solve this constrained linear programming problem with the following script"
   ]
  },
  {
   "cell_type": "code",
   "execution_count": 2,
   "metadata": {},
   "outputs": [
    {
     "name": "stdout",
     "output_type": "stream",
     "text": [
      "     fun: -280.0\n",
      " message: 'Optimization terminated successfully.'\n",
      "     nit: 2\n",
      "   slack: array([24.,  0.,  0.,  5.])\n",
      "  status: 0\n",
      " success: True\n",
      "       x: array([2., 0., 8.])\n"
     ]
    }
   ],
   "source": [
    "from scipy.optimize import linprog\n",
    "\n",
    "c = [ -60, -30, -20]\n",
    "A = [ [8, 6, 1],\n",
    "     [4, 2, 1.5],\n",
    "     [2, 1.5, 0.5],\n",
    "     [0, 1, 0]\n",
    "    ]\n",
    "b = [48, 20, 8, 5]\n",
    "\n",
    "res = linprog(c, A_ub = A, b_ub = b)\n",
    "\n",
    "print( res )"
   ]
  },
  {
   "cell_type": "code",
   "execution_count": 17,
   "metadata": {},
   "outputs": [
    {
     "name": "stdout",
     "output_type": "stream",
     "text": [
      "Optimization terminated successfully.\n",
      "         Current function value: -280.000000 \n",
      "         Iterations: 2\n",
      "     fun: -280.0\n",
      " message: 'Optimization terminated successfully.'\n",
      "     nit: 2\n",
      "   slack: array([24.,  0.,  0.,  5.])\n",
      "  status: 0\n",
      " success: True\n",
      "       x: array([2., 0., 8.])\n"
     ]
    }
   ],
   "source": [
    "from scipy.optimize import linprog\n"
   ]
  },
  {
   "cell_type": "code",
   "execution_count": 18,
   "metadata": {},
   "outputs": [
    {
     "name": "stdout",
     "output_type": "stream",
     "text": [
      "The maximized total revenue is : $ 280.0\n",
      "The number of x 1  to produce is :  2.0\n",
      "The number of x 2  to produce is :  0.0\n",
      "The number of x 3  to produce is :  8.0\n"
     ]
    }
   ],
   "source": [
    "print(\"The maximized total revenue is : $\",-res['fun'])\n"
   ]
  },
  {
   "cell_type": "code",
   "execution_count": null,
   "metadata": {},
   "outputs": [],
   "source": []
  },
  {
   "cell_type": "markdown",
   "metadata": {},
   "source": [
    "# Exercise 3: Diet Problem\n",
    "\n",
    "My diet requires that the food I eat come from one of the four “basic food groups” (chocolate cake, ice-cream, soda, and cheesecake). At present, the following four foods are available for consumption: brownies, chocolate ice cream, cola, and pineapple cheesecake. Each brownie costs 50 cents, each scoop of chocolate ice cream costs 20 cents, each bottle of cola costs 30 cents, and each piece of pineapple cheesecake costs 80 cents. Each day, I must ingest at least 500 calories, 6 oz of chocolate, 10 oz of sugar, and 8 oz of fat. The nutritional content per unit of each food is shown in the following table. \n",
    "\n",
    "\n",
    "Formulate a linear programming model that can used to satisfy my daily nutritional requirements at minimum cost.\n",
    "\n",
    "![](img/dietex2.png)\n"
   ]
  },
  {
   "cell_type": "code",
   "execution_count": null,
   "metadata": {},
   "outputs": [],
   "source": []
  },
  {
   "cell_type": "markdown",
   "metadata": {},
   "source": [
    "# Solution 3:\n",
    "\n",
    "The problem can be formulated as below:\n",
    "\n",
    "![](img/dietex2sol.png)\n",
    "\n",
    "We can solve this constrained linear programming problem with the following script"
   ]
  },
  {
   "cell_type": "code",
   "execution_count": 19,
   "metadata": {},
   "outputs": [
    {
     "name": "stdout",
     "output_type": "stream",
     "text": [
      "Optimization terminated successfully.\n",
      "         Current function value: 90.000000   \n",
      "         Iterations: 7\n",
      "     fun: 90.0\n",
      " message: 'Optimization terminated successfully.'\n",
      "     nit: 7\n",
      "   slack: array([250.,   0.,   0.,   5.])\n",
      "  status: 0\n",
      " success: True\n",
      "       x: array([0., 3., 1., 0.])\n"
     ]
    }
   ],
   "source": [
    "from scipy.optimize import linprog\n"
   ]
  },
  {
   "cell_type": "code",
   "execution_count": 20,
   "metadata": {},
   "outputs": [
    {
     "name": "stdout",
     "output_type": "stream",
     "text": [
      "The minimized cost is : $ 90.0\n",
      "The amount of nutrition 1  to consume is :  0.0\n",
      "The amount of nutrition 2  to consume is :  2.9999999999999996\n",
      "The amount of nutrition 3  to consume is :  1.0\n",
      "The amount of nutrition 4  to consume is :  0.0\n"
     ]
    }
   ],
   "source": [
    "print(\"The minimized cost is : $\",res['fun'])\n"
   ]
  },
  {
   "cell_type": "code",
   "execution_count": null,
   "metadata": {},
   "outputs": [],
   "source": []
  }
 ],
 "metadata": {
  "kernelspec": {
   "display_name": "Python 3",
   "language": "python",
   "name": "python3"
  },
  "language_info": {
   "codemirror_mode": {
    "name": "ipython",
    "version": 3
   },
   "file_extension": ".py",
   "mimetype": "text/x-python",
   "name": "python",
   "nbconvert_exporter": "python",
   "pygments_lexer": "ipython3",
   "version": "3.6.3"
  }
 },
 "nbformat": 4,
 "nbformat_minor": 2
}
