{
 "cells": [
  {
   "cell_type": "markdown",
   "metadata": {},
   "source": [
    "# Linear Regression through gradient descent\n",
    "\n",
    "Gradient descent is a key proccess in deep learning, it and it's variations are the heart of how we train our neural networks. When learning a new concept it's helpful to view it though the lens of something we already understand so, we'll use linear regression."
   ]
  },
  {
   "cell_type": "code",
   "execution_count": 2,
   "metadata": {},
   "outputs": [],
   "source": [
    "#For data\n",
    "import pandas as pd\n",
    "#Math libraries\n",
    "import numpy as np\n",
    "from scipy import stats\n",
    "#Plotting\n",
    "import matplotlib.pyplot as plt\n",
    "%matplotlib inline  \n",
    "import seaborn as sns\n",
    "sns.set(rc={'figure.figsize':(10,5)})\n"
   ]
  },
  {
   "cell_type": "markdown",
   "metadata": {},
   "source": [
    "# Linear Regression\n",
    "\n",
    "Linear regression just draws a straight line though the data that best fits it. In linear regession our goal is to minimize the distance between each point and the line we draw, to do this we try to minmize our objective function mean sqaure error.\n",
    "\n",
    "$$ error(m,b) = \\frac{1}{N} \\sum_{i}^{N} ( y_i -(mx_i + b))^2 $$\n"
   ]
  },
  {
   "cell_type": "code",
   "execution_count": 4,
   "metadata": {},
   "outputs": [
    {
     "data": {
      "text/html": [
       "<div>\n",
       "<style scoped>\n",
       "    .dataframe tbody tr th:only-of-type {\n",
       "        vertical-align: middle;\n",
       "    }\n",
       "\n",
       "    .dataframe tbody tr th {\n",
       "        vertical-align: top;\n",
       "    }\n",
       "\n",
       "    .dataframe thead th {\n",
       "        text-align: right;\n",
       "    }\n",
       "</style>\n",
       "<table border=\"1\" class=\"dataframe\">\n",
       "  <thead>\n",
       "    <tr style=\"text-align: right;\">\n",
       "      <th></th>\n",
       "      <th>total_bill</th>\n",
       "      <th>tip</th>\n",
       "      <th>sex</th>\n",
       "      <th>smoker</th>\n",
       "      <th>day</th>\n",
       "      <th>time</th>\n",
       "      <th>size</th>\n",
       "    </tr>\n",
       "  </thead>\n",
       "  <tbody>\n",
       "    <tr>\n",
       "      <th>0</th>\n",
       "      <td>16.99</td>\n",
       "      <td>1.01</td>\n",
       "      <td>Female</td>\n",
       "      <td>No</td>\n",
       "      <td>Sun</td>\n",
       "      <td>Dinner</td>\n",
       "      <td>2</td>\n",
       "    </tr>\n",
       "    <tr>\n",
       "      <th>1</th>\n",
       "      <td>10.34</td>\n",
       "      <td>1.66</td>\n",
       "      <td>Male</td>\n",
       "      <td>No</td>\n",
       "      <td>Sun</td>\n",
       "      <td>Dinner</td>\n",
       "      <td>3</td>\n",
       "    </tr>\n",
       "    <tr>\n",
       "      <th>2</th>\n",
       "      <td>21.01</td>\n",
       "      <td>3.50</td>\n",
       "      <td>Male</td>\n",
       "      <td>No</td>\n",
       "      <td>Sun</td>\n",
       "      <td>Dinner</td>\n",
       "      <td>3</td>\n",
       "    </tr>\n",
       "    <tr>\n",
       "      <th>3</th>\n",
       "      <td>23.68</td>\n",
       "      <td>3.31</td>\n",
       "      <td>Male</td>\n",
       "      <td>No</td>\n",
       "      <td>Sun</td>\n",
       "      <td>Dinner</td>\n",
       "      <td>2</td>\n",
       "    </tr>\n",
       "    <tr>\n",
       "      <th>4</th>\n",
       "      <td>24.59</td>\n",
       "      <td>3.61</td>\n",
       "      <td>Female</td>\n",
       "      <td>No</td>\n",
       "      <td>Sun</td>\n",
       "      <td>Dinner</td>\n",
       "      <td>4</td>\n",
       "    </tr>\n",
       "  </tbody>\n",
       "</table>\n",
       "</div>"
      ],
      "text/plain": [
       "   total_bill   tip     sex smoker  day    time  size\n",
       "0       16.99  1.01  Female     No  Sun  Dinner     2\n",
       "1       10.34  1.66    Male     No  Sun  Dinner     3\n",
       "2       21.01  3.50    Male     No  Sun  Dinner     3\n",
       "3       23.68  3.31    Male     No  Sun  Dinner     2\n",
       "4       24.59  3.61  Female     No  Sun  Dinner     4"
      ]
     },
     "execution_count": 4,
     "metadata": {},
     "output_type": "execute_result"
    }
   ],
   "source": [
    "tips = sns.load_dataset('tips')\n",
    "tips.head()"
   ]
  },
  {
   "cell_type": "code",
   "execution_count": 5,
   "metadata": {},
   "outputs": [],
   "source": [
    "x = np.array(tips[\"total_bill\"])\n",
    "y = np.array(tips[\"tip\"])"
   ]
  },
  {
   "cell_type": "code",
   "execution_count": 6,
   "metadata": {},
   "outputs": [
    {
     "data": {
      "image/png": "[encoded data removed]",
      "text/plain": [
       "<Figure size 432x288 with 1 Axes>"
      ]
     },
     "metadata": {},
     "output_type": "display_data"
    }
   ],
   "source": [
    "reg_plot = sns.regplot(x,y)"
   ]
  },
  {
   "cell_type": "code",
   "execution_count": 8,
   "metadata": {},
   "outputs": [
    {
     "name": "stdout",
     "output_type": "stream",
     "text": [
      "b: 0.9202696135546717\n",
      "m: 0.10502451738435338\n"
     ]
    }
   ],
   "source": [
    "x_line =  reg_plot.get_lines()[0].get_xdata()\n",
    "y_line =  reg_plot.get_lines()[0].get_ydata()\n",
    "results = stats.linregress(x_line,y_line)\n",
    "\n",
    "print(\"b: {}\".format(results.intercept))\n",
    "print(\"m: {}\".format(results.slope))"
   ]
  },
  {
   "cell_type": "markdown",
   "metadata": {},
   "source": [
    "We normally calculate this straight line using a simple formular, but today where going to do it differently using gradient descent."
   ]
  },
  {
   "cell_type": "markdown",
   "metadata": {},
   "source": [
    "# Overview\n",
    "\n",
    "Imagine we're standing ontop of a mountain and our goal is to get to the bottom as quickly as possible. We follow a simple procedure to do this:\n",
    "\n",
    "* Look around to find which direction is the steepest\n",
    "* Take a step in the steepest direction\n",
    "* Keep repeating the above steps until we reach flat ground.\n",
    "\n",
    "By following these steps we should get to the bottom of the mountain. Okay so it' a bit of an oversimplication, if we followed those rules exactly aside the fact that you'd probaly fall off a cliff you still might not make it to the bottom. What if the montain isn't flat all the way down but contains little hills, if we always go in the steepest direction and stop at flat ground we might get stuck.\n",
    "\n",
    "![local min](https://qph.fs.quoracdn.net/main-qimg-93f3f471c3b535a8fa514cc5110c59c9)\n",
    "\n",
    "In the langauge of deep learning we'd call the size of the step we take the learning rate, and a function that contains lots of little hills a non-convex function. "
   ]
  },
  {
   "cell_type": "markdown",
   "metadata": {},
   "source": [
    "# Gradient Descent\n",
    "\n",
    "Gradient descent essentialy just expressed this process in maths allowing us to find the mimimum for a function. Given a function and it's parameters, gradient descent iteratively updates the parameters values until we mimimize the function. By using calculus we can take the partial devrivative, with respect to a parameter, this tells us how the function changes with respect to that parameter. Lets apply this to linear regression.\n",
    "\n",
    "The equation for linear regression is.\n",
    "\n",
    "$$ y = mx + b $$\n",
    "\n",
    "Given the two parameters $m$ and $b$, we could write a error function that looks like.\n",
    "\n",
    "$$ error(m,b) = \\frac{1}{N} \\sum_{i}^{N} ( y_i -(mx_i + b))^2 $$\n",
    "\n",
    "By taking the partial derivatives we can calculate how much both $ m $ and $ b $ contribute towards the error.\n",
    "\n",
    "$$ \\frac{\\partial }{\\partial m}error(m,b) = \\frac{2}{N} \\sum_{i=1}^{N} - x_i(y_i -(m x_i + b)) $$\n",
    "\n",
    "$$ \\frac{\\partial }{\\partial b}error(m,b) = \\frac{2}{N} \\sum_{i=1}^{N} -(y_i -(m x_i + b)) $$\n",
    "\n",
    "Let express these functions in code and use them to solve linear regression the gradient descent way."
   ]
  },
  {
   "cell_type": "code",
   "execution_count": 9,
   "metadata": {},
   "outputs": [],
   "source": [
    "def cost_function(x,y,m,b):\n",
    "    \n",
    "    y_hat = prediction(x,m,b)\n",
    "    return np.mean((y - y_hat)**2)"
   ]
  },
  {
   "cell_type": "code",
   "execution_count": 10,
   "metadata": {},
   "outputs": [],
   "source": [
    "def prediction(x,m,b):\n",
    "    \n",
    "    return x*m + b"
   ]
  },
  {
   "cell_type": "code",
   "execution_count": 11,
   "metadata": {},
   "outputs": [],
   "source": [
    "def partial_b(x,y,m,b):\n",
    "    \n",
    "    y_hat = prediction(x,m,b)\n",
    "    return 2 * np.mean(-(y - y_hat))"
   ]
  },
  {
   "cell_type": "code",
   "execution_count": 12,
   "metadata": {},
   "outputs": [],
   "source": [
    "def partial_m(x,y,m,b):\n",
    "    \n",
    "    y_hat = prediction(x,m,b)\n",
    "    return 2 * np.mean(-x * (y - y_hat))"
   ]
  },
  {
   "cell_type": "code",
   "execution_count": 13,
   "metadata": {},
   "outputs": [],
   "source": [
    "def update_weights(x,y,m,b,step_rate=0.001):\n",
    "    \n",
    "    new_m = m - (partial_m(x,y,m,b) *  step_rate)\n",
    "    new_b = b - (partial_b(x,y,m,b) * step_rate)\n",
    "    return [new_m,new_b]"
   ]
  },
  {
   "cell_type": "code",
   "execution_count": 14,
   "metadata": {},
   "outputs": [
    {
     "name": "stdout",
     "output_type": "stream",
     "text": [
      "m: 0.10502451738436037\n",
      "b: 0.9202696135545072\n"
     ]
    }
   ],
   "source": [
    "m = 0\n",
    "b = 0\n",
    "\n",
    "error_rates = []\n",
    "epochs = 100000\n",
    "for i in range(epochs):\n",
    "    \n",
    "    m,b = update_weights(x,y,m,b,step_rate=0.001)\n",
    "    e = cost_function(x,y,m,b)\n",
    "    error_rates.append(e)\n",
    "    \n",
    "\n",
    "print(\"m: {}\".format(m))\n",
    "print(\"b: {}\".format(b))"
   ]
  },
  {
   "cell_type": "code",
   "execution_count": 15,
   "metadata": {},
   "outputs": [
    {
     "data": {
      "text/plain": [
       "Text(0,0.5,'Error Rate')"
      ]
     },
     "execution_count": 15,
     "metadata": {},
     "output_type": "execute_result"
    },
    {
     "data": {
      "image/png": "[encoded data removed]",
      "text/plain": [
       "<Figure size 432x288 with 1 Axes>"
      ]
     },
     "metadata": {},
     "output_type": "display_data"
    }
   ],
   "source": [
    "plt.plot(error_rates)\n",
    "plt.xlabel(\"Number  iterations\")\n",
    "plt.ylabel(\"Error Rate\")"
   ]
  },
  {
   "cell_type": "markdown",
   "metadata": {},
   "source": [
    "# Additional resources\n",
    "\n",
    "* [Math behind linreg](https://www.youtube.com/watch?v=1C3olrs1CUw https://www.youtube.com/watch?v=0T0z8d0_aY4)\n",
    "* [Partial derivative explanation](https://math.stackexchange.com/questions/70728/partial-derivative-in-gradient-descent-for-two-variables)\n",
    "* [Least sqaures derivation](https://www.youtube.com/watch?v=EnNH3SxyZEI)\n",
    "* [Linreg with gradient descent](https://www.youtube.com/watch?v=uwwWVAgJBcM)"
   ]
  }
 ],
 "metadata": {
  "kernelspec": {
   "display_name": "Python 3",
   "language": "python",
   "name": "python3"
  },
  "language_info": {
   "codemirror_mode": {
    "name": "ipython",
    "version": 3
   },
   "file_extension": ".py",
   "mimetype": "text/x-python",
   "name": "python",
   "nbconvert_exporter": "python",
   "pygments_lexer": "ipython3",
   "version": "3.6.3"
  }
 },
 "nbformat": 4,
 "nbformat_minor": 2
}
