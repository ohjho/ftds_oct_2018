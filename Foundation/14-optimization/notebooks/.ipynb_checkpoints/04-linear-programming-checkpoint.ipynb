{
 "cells": [
  {
   "cell_type": "markdown",
   "metadata": {},
   "source": [
    "# Optimization in Python: Solving constrained linear programming problem \n",
    "\n",
    "In solving constrained linear programming problem, we often go through the following steps in order to solve it using python.\n",
    "\n",
    "Step 1: Define objective function\n",
    "\n",
    "Step 2: Set the constraints including bounds\n",
    "\n",
    "Step 3: Solve the linear programming with chosen algorithm"
   ]
  },
  {
   "cell_type": "markdown",
   "metadata": {},
   "source": [
    "Let us use the following example for demonstration\n",
    "\n",
    "![linearprog](img/linearpro.png)"
   ]
  },
  {
   "cell_type": "code",
   "execution_count": 2,
   "metadata": {},
   "outputs": [
    {
     "name": "stdout",
     "output_type": "stream",
     "text": [
      "The initialized value for objective fuction is : 16\n",
      "     fun: 17.01401724563517\n",
      "     jac: array([14.57227015,  1.37940764,  2.37940764,  9.56415057])\n",
      " message: 'Optimization terminated successfully.'\n",
      "    nfev: 30\n",
      "     nit: 5\n",
      "    njev: 5\n",
      "  status: 0\n",
      " success: True\n",
      "       x: array([1.        , 4.7429961 , 3.82115462, 1.37940765])\n"
     ]
    }
   ],
   "source": [
    "import numpy as np\n",
    "from scipy.optimize import minimize\n",
    "\n",
    "def obj(x):\n",
    "    x1 = x[0]\n",
    "    x2 = x[1]\n",
    "    x3 = x[2]\n",
    "    x4 = x[3]\n",
    "    return x1*x4*(x1+x2+x3)+x3\n",
    "\n",
    "def constraint(x):\n",
    "    return x[0]*x[1]*x[2]*x[3]-25.0\n",
    "\n",
    "\n",
    "def constraint2(x):\n",
    "    sum_sq = 40\n",
    "    for i in range(4):\n",
    "        sum_sq = sum_sq - x[i]**2\n",
    "    return sum_sq\n",
    "\n",
    "x0 = [1,5,5,1]\n",
    "\n",
    "print(\"The initialized value for objective fuction is :\",obj(x0))\n",
    "\n",
    "bound = (1.0,5.0)\n",
    "\n",
    "bounds = (bound,bound,bound,bound)\n",
    "\n",
    "con1 = {'type':'ineq','fun':constraint}\n",
    "con2 = {'type':'eq','fun':constraint2}\n",
    "cons = [con1,con2]\n",
    "\n",
    "sol = minimize(obj,x0,method='SLSQP',bounds=bounds,constraints=cons)\n",
    "\n",
    "print(sol)"
   ]
  },
  {
   "cell_type": "code",
   "execution_count": 16,
   "metadata": {
    "scrolled": true
   },
   "outputs": [
    {
     "name": "stdout",
     "output_type": "stream",
     "text": [
      "The optimized objective function is :  17.01401724563517\n",
      "The corresponding value for x 1 is :  1.0\n",
      "The corresponding value for x 2 is :  4.742996096883977\n",
      "The corresponding value for x 3 is :  3.8211546234095715\n",
      "The corresponding value for x 4 is :  1.379407645075325\n"
     ]
    }
   ],
   "source": [
    "print(\"The optimized objective function is : \",sol['fun'])\n",
    "\n",
    "for i in range(4):\n",
    "    print(\"The corresponding value for x\",i+1, \"is : \", sol['x'][i])\n"
   ]
  },
  {
   "cell_type": "code",
   "execution_count": null,
   "metadata": {},
   "outputs": [],
   "source": []
  },
  {
   "cell_type": "markdown",
   "metadata": {},
   "source": [
    "# Application of linear programming"
   ]
  },
  {
   "cell_type": "markdown",
   "metadata": {},
   "source": [
    "Case Study: \n",
    "\n",
    "A plastic factory produces three products. The production of each type of product has to go through 2 or 3 operations as shown below:\n",
    "\n",
    "![factory](img/factoryapply.png)\n",
    "\n",
    "\n",
    "Problem: Determine the production schedule such that the total profit of production will be maximized.\n",
    "\n",
    "We can formulate the problem into the framework of linear programming and solve it with scipy package\n",
    "\n",
    "![](img/factorylinpro.png)"
   ]
  },
  {
   "cell_type": "code",
   "execution_count": 17,
   "metadata": {
    "scrolled": true
   },
   "outputs": [
    {
     "name": "stdout",
     "output_type": "stream",
     "text": [
      "Optimization terminated successfully.\n",
      "         Current function value: -1350.000000\n",
      "         Iterations: 2\n",
      "     fun: -1350.0\n",
      " message: 'Optimization terminated successfully.'\n",
      "     nit: 2\n",
      "   slack: array([ 0.,  0., 20.])\n",
      "  status: 0\n",
      " success: True\n",
      "       x: array([  0., 100., 230.])\n"
     ]
    }
   ],
   "source": [
    "from scipy.optimize import linprog\n",
    "\n",
    "c = [-3,-2,-5]\n",
    "A = [[1,2,1],[3,0,2],[1,4,0]]\n",
    "b = [430,460,420]\n",
    "\n",
    "x1_bounds = (0, None)\n",
    "x2_bounds = (0, None)\n",
    "x3_bounds = (0, None)\n",
    "\n",
    "res = linprog(c, A_ub=A, b_ub=b, bounds=(x1_bounds, x2_bounds,x3_bounds),options={\"disp\": True})\n",
    "\n",
    "print(res)  # Maximum is 1350"
   ]
  },
  {
   "cell_type": "code",
   "execution_count": 19,
   "metadata": {},
   "outputs": [
    {
     "name": "stdout",
     "output_type": "stream",
     "text": [
      "The maximized profit is : $ 1350.0\n",
      "The number of units for product  1  to produce is :  0.0\n",
      "The number of units for product  2  to produce is :  100.0\n",
      "The number of units for product  3  to produce is :  230.0\n"
     ]
    }
   ],
   "source": [
    "print(\"The maximized profit is : $\",-res['fun'])\n",
    "\n",
    "for i in range(3):\n",
    "    print(\"The number of units for product \",i+1, \" to produce is : \", res['x'][i])\n"
   ]
  },
  {
   "cell_type": "code",
   "execution_count": null,
   "metadata": {},
   "outputs": [],
   "source": []
  },
  {
   "cell_type": "code",
   "execution_count": null,
   "metadata": {},
   "outputs": [],
   "source": [
    "# Reference:\n",
    "# https://docs.scipy.org/doc/scipy/reference/generated/scipy.optimize.linprog.html\n",
    "# https://docs.scipy.org/doc/scipy/reference/optimize.minimize-slsqp.html"
   ]
  }
 ],
 "metadata": {
  "kernelspec": {
   "display_name": "Python 3",
   "language": "python",
   "name": "python3"
  },
  "language_info": {
   "codemirror_mode": {
    "name": "ipython",
    "version": 3
   },
   "file_extension": ".py",
   "mimetype": "text/x-python",
   "name": "python",
   "nbconvert_exporter": "python",
   "pygments_lexer": "ipython3",
   "version": "3.6.3"
  }
 },
 "nbformat": 4,
 "nbformat_minor": 2
}
