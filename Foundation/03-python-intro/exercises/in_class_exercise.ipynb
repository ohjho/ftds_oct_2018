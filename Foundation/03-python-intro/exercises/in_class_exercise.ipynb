{
 "cells": [
  {
   "cell_type": "markdown",
   "metadata": {},
   "source": [
    "## In Class Exercise\n",
    "\n",
    "The JHO's select"
   ]
  },
  {
   "cell_type": "markdown",
   "metadata": {},
   "source": [
    "### Exercise 4\n",
    "Create a list, squares, that consists of the squares of the numbers 1 to 10. A list\n",
    "comprehension could be useful here. Use filter() and a lambda expression to print out\n",
    "only the squares that are between 30 and 70 (inclusive)."
   ]
  },
  {
   "cell_type": "code",
   "execution_count": 7,
   "metadata": {},
   "outputs": [
    {
     "data": {
      "text/plain": [
       "[36, 49, 64]"
      ]
     },
     "execution_count": 7,
     "metadata": {},
     "output_type": "execute_result"
    }
   ],
   "source": [
    "list(filter(lambda x: 30< x < 70, [x**2 for x in range(1,11)]))"
   ]
  },
  {
   "cell_type": "markdown",
   "metadata": {},
   "source": [
    "### Exercise 5\n",
    "The string  \n",
    "garbled = \"!XeXgXaXsXsXeXmX XtXeXrXcXeXsX XeXhXtX XmXaX XI\"  \n",
    "is garbled in two ways:  \n",
    "* First, our message is backwards;\n",
    "* Second, the letter we want is every other letter.  \n",
    "Use lambda and filter to extract the message and save it to a variable called message.  \n",
    "Use list slicing to extract the message and save it to a variable called message."
   ]
  },
  {
   "cell_type": "code",
   "execution_count": 1,
   "metadata": {},
   "outputs": [
    {
     "data": {
      "text/plain": [
       "'I am the secret message!'"
      ]
     },
     "execution_count": 1,
     "metadata": {},
     "output_type": "execute_result"
    }
   ],
   "source": [
    "from functools import reduce\n",
    "garbled = \"!XeXgXaXsXsXeXmX XtXeXrXcXeXsX XeXhXtX XmXaX XI\"\n",
    "# could use ''.join() but what's the fun in that?\n",
    "str_fixed = reduce(lambda x, y: x + y , [l for i,l in enumerate(garbled[::-1]) if i%2 == 0])\n",
    "str_fixed"
   ]
  },
  {
   "cell_type": "markdown",
   "metadata": {},
   "source": [
    "### File I/O\n",
    "Take any text file which you already had with you  \n",
    "1. Write a Python program to read an entire text file.\n",
    "2. Write a Python program to read first n lines of a file.\n",
    "3. Write a Python program to append text to a file and display the text.\n",
    "4. Write a Python program to read a file line by line and store it into a list."
   ]
  },
  {
   "cell_type": "markdown",
   "metadata": {},
   "source": [
    "#### Using Pandas to write a CSV"
   ]
  },
  {
   "cell_type": "code",
   "execution_count": 70,
   "metadata": {},
   "outputs": [],
   "source": [
    "import os\n",
    "import pandas\n",
    "from pandas_datareader import data as web\n",
    "from datetime import datetime as dt\n",
    "\n",
    "# for multiple tickers, a 3D matrix is returned\n",
    "df = web.DataReader(['SPY','GLD'],\n",
    "                   'yahoo',\n",
    "                   dt(2017,1,1),\n",
    "                   dt.now())"
   ]
  },
  {
   "cell_type": "code",
   "execution_count": 71,
   "metadata": {},
   "outputs": [
    {
     "name": "stdout",
     "output_type": "stream",
     "text": [
      "MultiIndex(levels=[['High', 'Low', 'Open', 'Close', 'Volume', 'Adj Close'], ['GLD', 'SPY']],\n",
      "           labels=[[0, 0, 1, 1, 2, 2, 3, 3, 4, 4, 5, 5], [0, 1, 0, 1, 0, 1, 0, 1, 0, 1, 0, 1]],\n",
      "           names=['Attributes', 'Symbols'])\n"
     ]
    },
    {
     "data": {
      "text/html": [
       "<div>\n",
       "<style scoped>\n",
       "    .dataframe tbody tr th:only-of-type {\n",
       "        vertical-align: middle;\n",
       "    }\n",
       "\n",
       "    .dataframe tbody tr th {\n",
       "        vertical-align: top;\n",
       "    }\n",
       "\n",
       "    .dataframe thead th {\n",
       "        text-align: right;\n",
       "    }\n",
       "</style>\n",
       "<table border=\"1\" class=\"dataframe\">\n",
       "  <thead>\n",
       "    <tr style=\"text-align: right;\">\n",
       "      <th></th>\n",
       "      <th>Attributes</th>\n",
       "      <th>High</th>\n",
       "      <th>Low</th>\n",
       "      <th>Open</th>\n",
       "      <th>Close</th>\n",
       "      <th>Volume</th>\n",
       "      <th>Adj Close</th>\n",
       "    </tr>\n",
       "    <tr>\n",
       "      <th>Date</th>\n",
       "      <th>Symbols</th>\n",
       "      <th></th>\n",
       "      <th></th>\n",
       "      <th></th>\n",
       "      <th></th>\n",
       "      <th></th>\n",
       "      <th></th>\n",
       "    </tr>\n",
       "  </thead>\n",
       "  <tbody>\n",
       "    <tr>\n",
       "      <th rowspan=\"2\" valign=\"top\">2017-01-03</th>\n",
       "      <th>GLD</th>\n",
       "      <td>111.000000</td>\n",
       "      <td>109.370003</td>\n",
       "      <td>109.620003</td>\n",
       "      <td>110.470001</td>\n",
       "      <td>7527400.0</td>\n",
       "      <td>110.470001</td>\n",
       "    </tr>\n",
       "    <tr>\n",
       "      <th>SPY</th>\n",
       "      <td>225.830002</td>\n",
       "      <td>223.880005</td>\n",
       "      <td>225.039993</td>\n",
       "      <td>225.240005</td>\n",
       "      <td>91366500.0</td>\n",
       "      <td>218.092178</td>\n",
       "    </tr>\n",
       "    <tr>\n",
       "      <th rowspan=\"2\" valign=\"top\">2017-01-04</th>\n",
       "      <th>GLD</th>\n",
       "      <td>111.220001</td>\n",
       "      <td>110.610001</td>\n",
       "      <td>111.059998</td>\n",
       "      <td>110.860001</td>\n",
       "      <td>4904100.0</td>\n",
       "      <td>110.860001</td>\n",
       "    </tr>\n",
       "    <tr>\n",
       "      <th>SPY</th>\n",
       "      <td>226.750000</td>\n",
       "      <td>225.610001</td>\n",
       "      <td>225.619995</td>\n",
       "      <td>226.580002</td>\n",
       "      <td>78744400.0</td>\n",
       "      <td>219.389679</td>\n",
       "    </tr>\n",
       "    <tr>\n",
       "      <th>2017-01-05</th>\n",
       "      <th>GLD</th>\n",
       "      <td>112.940002</td>\n",
       "      <td>112.070000</td>\n",
       "      <td>112.160004</td>\n",
       "      <td>112.580002</td>\n",
       "      <td>9606800.0</td>\n",
       "      <td>112.580002</td>\n",
       "    </tr>\n",
       "  </tbody>\n",
       "</table>\n",
       "</div>"
      ],
      "text/plain": [
       "Attributes                High         Low        Open       Close  \\\n",
       "Date       Symbols                                                   \n",
       "2017-01-03 GLD      111.000000  109.370003  109.620003  110.470001   \n",
       "           SPY      225.830002  223.880005  225.039993  225.240005   \n",
       "2017-01-04 GLD      111.220001  110.610001  111.059998  110.860001   \n",
       "           SPY      226.750000  225.610001  225.619995  226.580002   \n",
       "2017-01-05 GLD      112.940002  112.070000  112.160004  112.580002   \n",
       "\n",
       "Attributes              Volume   Adj Close  \n",
       "Date       Symbols                          \n",
       "2017-01-03 GLD       7527400.0  110.470001  \n",
       "           SPY      91366500.0  218.092178  \n",
       "2017-01-04 GLD       4904100.0  110.860001  \n",
       "           SPY      78744400.0  219.389679  \n",
       "2017-01-05 GLD       9606800.0  112.580002  "
      ]
     },
     "execution_count": 71,
     "metadata": {},
     "output_type": "execute_result"
    }
   ],
   "source": [
    "# Let's transform the df\n",
    "print( df.columns)\n",
    "\n",
    "ndf = df.stack()\n",
    "ndf.head()"
   ]
  },
  {
   "cell_type": "markdown",
   "metadata": {},
   "source": [
    "### JHO's Notes\n",
    "Found some interesting resources on handling [MultiIndex](https://jakevdp.github.io/PythonDataScienceHandbook/03.05-hierarchical-indexing.html), [reshaping it in different ways](https://pandas.pydata.org/pandas-docs/stable/reshaping.html), and [stacking it](https://pandas.pydata.org/pandas-docs/stable/generated/pandas.DataFrame.stack.html)"
   ]
  },
  {
   "cell_type": "code",
   "execution_count": 79,
   "metadata": {},
   "outputs": [
    {
     "data": {
      "text/html": [
       "<div>\n",
       "<style scoped>\n",
       "    .dataframe tbody tr th:only-of-type {\n",
       "        vertical-align: middle;\n",
       "    }\n",
       "\n",
       "    .dataframe tbody tr th {\n",
       "        vertical-align: top;\n",
       "    }\n",
       "\n",
       "    .dataframe thead th {\n",
       "        text-align: right;\n",
       "    }\n",
       "</style>\n",
       "<table border=\"1\" class=\"dataframe\">\n",
       "  <thead>\n",
       "    <tr style=\"text-align: right;\">\n",
       "      <th>Attributes</th>\n",
       "      <th>Date</th>\n",
       "      <th>Symbols</th>\n",
       "      <th>High</th>\n",
       "      <th>Low</th>\n",
       "      <th>Open</th>\n",
       "      <th>Close</th>\n",
       "      <th>Volume</th>\n",
       "      <th>Adj Close</th>\n",
       "    </tr>\n",
       "  </thead>\n",
       "  <tbody>\n",
       "    <tr>\n",
       "      <th>0</th>\n",
       "      <td>2017-01-03</td>\n",
       "      <td>GLD</td>\n",
       "      <td>111.000000</td>\n",
       "      <td>109.370003</td>\n",
       "      <td>109.620003</td>\n",
       "      <td>110.470001</td>\n",
       "      <td>7527400.0</td>\n",
       "      <td>110.470001</td>\n",
       "    </tr>\n",
       "    <tr>\n",
       "      <th>1</th>\n",
       "      <td>2017-01-03</td>\n",
       "      <td>SPY</td>\n",
       "      <td>225.830002</td>\n",
       "      <td>223.880005</td>\n",
       "      <td>225.039993</td>\n",
       "      <td>225.240005</td>\n",
       "      <td>91366500.0</td>\n",
       "      <td>218.092178</td>\n",
       "    </tr>\n",
       "    <tr>\n",
       "      <th>2</th>\n",
       "      <td>2017-01-04</td>\n",
       "      <td>GLD</td>\n",
       "      <td>111.220001</td>\n",
       "      <td>110.610001</td>\n",
       "      <td>111.059998</td>\n",
       "      <td>110.860001</td>\n",
       "      <td>4904100.0</td>\n",
       "      <td>110.860001</td>\n",
       "    </tr>\n",
       "    <tr>\n",
       "      <th>3</th>\n",
       "      <td>2017-01-04</td>\n",
       "      <td>SPY</td>\n",
       "      <td>226.750000</td>\n",
       "      <td>225.610001</td>\n",
       "      <td>225.619995</td>\n",
       "      <td>226.580002</td>\n",
       "      <td>78744400.0</td>\n",
       "      <td>219.389679</td>\n",
       "    </tr>\n",
       "    <tr>\n",
       "      <th>4</th>\n",
       "      <td>2017-01-05</td>\n",
       "      <td>GLD</td>\n",
       "      <td>112.940002</td>\n",
       "      <td>112.070000</td>\n",
       "      <td>112.160004</td>\n",
       "      <td>112.580002</td>\n",
       "      <td>9606800.0</td>\n",
       "      <td>112.580002</td>\n",
       "    </tr>\n",
       "  </tbody>\n",
       "</table>\n",
       "</div>"
      ],
      "text/plain": [
       "Attributes       Date Symbols        High         Low        Open       Close  \\\n",
       "0          2017-01-03     GLD  111.000000  109.370003  109.620003  110.470001   \n",
       "1          2017-01-03     SPY  225.830002  223.880005  225.039993  225.240005   \n",
       "2          2017-01-04     GLD  111.220001  110.610001  111.059998  110.860001   \n",
       "3          2017-01-04     SPY  226.750000  225.610001  225.619995  226.580002   \n",
       "4          2017-01-05     GLD  112.940002  112.070000  112.160004  112.580002   \n",
       "\n",
       "Attributes      Volume   Adj Close  \n",
       "0            7527400.0  110.470001  \n",
       "1           91366500.0  218.092178  \n",
       "2            4904100.0  110.860001  \n",
       "3           78744400.0  219.389679  \n",
       "4            9606800.0  112.580002  "
      ]
     },
     "execution_count": 79,
     "metadata": {},
     "output_type": "execute_result"
    }
   ],
   "source": [
    "# Continue transforming the data\n",
    "# ref: https://stackoverflow.com/questions/20110170/turn-pandas-multi-index-into-column\n",
    "ndf.reset_index(inplace = True)\n",
    "ndf.head()"
   ]
  },
  {
   "cell_type": "code",
   "execution_count": 82,
   "metadata": {},
   "outputs": [],
   "source": [
    "#read to CSV\n",
    "if not os.path.exists('data'): \n",
    "    os.mkdir('data')\n",
    "\n",
    "ndf.to_csv('data/stocks.csv', index = True)"
   ]
  },
  {
   "cell_type": "markdown",
   "metadata": {},
   "source": [
    "#### Use a Generator to print lines in a file"
   ]
  },
  {
   "cell_type": "code",
   "execution_count": 83,
   "metadata": {},
   "outputs": [
    {
     "name": "stdout",
     "output_type": "stream",
     "text": [
      ",Date,Symbols,High,Low,Open,Close,Volume,Adj Close\n",
      "\n",
      "0,2017-01-03,GLD,111.0,109.37000274658203,109.62000274658203,110.47000122070312,7527400.0,110.47000122070312\n",
      "\n",
      "1,2017-01-03,SPY,225.8300018310547,223.8800048828125,225.0399932861328,225.24000549316406,91366500.0,218.09217834472656\n",
      "\n",
      "2,2017-01-04,GLD,111.22000122070312,110.61000061035156,111.05999755859375,110.86000061035156,4904100.0,110.86000061035156\n",
      "\n",
      "3,2017-01-04,SPY,226.75,225.61000061035156,225.6199951171875,226.5800018310547,78744400.0,219.38967895507812\n",
      "\n"
     ]
    }
   ],
   "source": [
    "filepath = 'data/stocks.csv'\n",
    "lines_to_print = 5\n",
    "with open(filepath) as f:\n",
    "    flines = f.readlines()\n",
    "\n",
    "def list_print(in_list):\n",
    "#     lcount = 0\n",
    "#     while lcount < len(in_list):\n",
    "#         yield in_list(lcount)\n",
    "#         lcount += 1\n",
    "    for i in in_list:\n",
    "        yield i\n",
    "\n",
    "line_gen = list_print(flines)\n",
    "\n",
    "for i in range(lines_to_print):\n",
    "    print(next(line_gen))"
   ]
  },
  {
   "cell_type": "markdown",
   "metadata": {},
   "source": [
    "## Classes Exercies\n",
    "\n",
    "### Exercise 2\n",
    "Define a class called Songs, it will show the lyrics of a song. Its __init__() method should have two arguments:self and lyrics. lyrics is a list. Inside your class create a method called sing_me_a_song that prints each element of lyrics on his own line."
   ]
  },
  {
   "cell_type": "code",
   "execution_count": 16,
   "metadata": {},
   "outputs": [
    {
     "name": "stdout",
     "output_type": "stream",
     "text": [
      "May god bless you,\n",
      "Have a sunshine on you,\n",
      "Happy Birthday to you !\n"
     ]
    }
   ],
   "source": [
    "class Song:\n",
    "    def __init__(self, lyrics):\n",
    "        self.lyrics = lyrics\n",
    "        \n",
    "    def sing_me_a_song(self):\n",
    "        for i in self.lyrics:\n",
    "            print(i)\n",
    "            \n",
    "happy_bday = Song([\"May god bless you,\",\n",
    "                \"Have a sunshine on you,\",\n",
    "                \"Happy Birthday to you !\"])\n",
    "happy_bday.sing_me_a_song()"
   ]
  },
  {
   "cell_type": "markdown",
   "metadata": {},
   "source": [
    "## Exercise: Car\n"
   ]
  },
  {
   "cell_type": "code",
   "execution_count": 21,
   "metadata": {},
   "outputs": [
    {
     "name": "stdout",
     "output_type": "stream",
     "text": [
      "new\n",
      "used\n"
     ]
    }
   ],
   "source": [
    "class Car:\n",
    "    # member varible\n",
    "    condition = 'new'\n",
    "    \n",
    "    def __init__(self, model, color, mpg):\n",
    "        self.model = model\n",
    "        self.color = color\n",
    "        self.mpg = mpg\n",
    "    \n",
    "    def display_car(self):\n",
    "        return f\"This is a {self.color} {self.model} with {self.mpg} MPG\"\n",
    "    \n",
    "    def drive_car(self):\n",
    "        self.condition = 'used'\n",
    "        \n",
    "my_car = Car(model=\"DeLorean\", color=\"silver\", mpg=88)\n",
    "print(my_car.condition)\n",
    "my_car.display_car()\n",
    "my_car.drive_car()\n",
    "print(my_car.condition)"
   ]
  },
  {
   "cell_type": "code",
   "execution_count": 25,
   "metadata": {},
   "outputs": [
    {
     "name": "stdout",
     "output_type": "stream",
     "text": [
      "new\n",
      "like new\n"
     ]
    }
   ],
   "source": [
    "class ElectricCar(Car):\n",
    "    def __init__(self, model, color, mpg, battery_type):\n",
    "        super().__init__(model, color, mpg)\n",
    "        self.battery_type = battery_type\n",
    "    \n",
    "    def drive_car(self):\n",
    "        self.condition = 'like new'\n",
    "\n",
    "my_car = ElectricCar(model = \"Toyota\", color = \"Red\", mpg = 90, battery_type = \"molten salt\")\n",
    "print(my_car.condition)\n",
    "my_car.drive_car()\n",
    "print(my_car.condition)"
   ]
  },
  {
   "cell_type": "code",
   "execution_count": null,
   "metadata": {},
   "outputs": [],
   "source": []
  }
 ],
 "metadata": {
  "kernelspec": {
   "display_name": "Python 3",
   "language": "python",
   "name": "python3"
  },
  "language_info": {
   "codemirror_mode": {
    "name": "ipython",
    "version": 3
   },
   "file_extension": ".py",
   "mimetype": "text/x-python",
   "name": "python",
   "nbconvert_exporter": "python",
   "pygments_lexer": "ipython3",
   "version": "3.6.3"
  }
 },
 "nbformat": 4,
 "nbformat_minor": 2
}
