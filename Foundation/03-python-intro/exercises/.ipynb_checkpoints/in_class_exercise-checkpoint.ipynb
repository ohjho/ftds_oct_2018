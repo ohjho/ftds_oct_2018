{
 "cells": [
  {
   "cell_type": "markdown",
   "metadata": {},
   "source": [
    "## In Class Exercise\n",
    "\n",
    "The JHO's select"
   ]
  },
  {
   "cell_type": "markdown",
   "metadata": {},
   "source": [
    "### Exercise 4\n",
    "Create a list, squares, that consists of the squares of the numbers 1 to 10. A list\n",
    "comprehension could be useful here. Use filter() and a lambda expression to print out\n",
    "only the squares that are between 30 and 70 (inclusive)."
   ]
  },
  {
   "cell_type": "code",
   "execution_count": 7,
   "metadata": {},
   "outputs": [
    {
     "data": {
      "text/plain": [
       "[36, 49, 64]"
      ]
     },
     "execution_count": 7,
     "metadata": {},
     "output_type": "execute_result"
    }
   ],
   "source": [
    "list(filter(lambda x: 30< x < 70, [x**2 for x in range(1,11)]))"
   ]
  },
  {
   "cell_type": "markdown",
   "metadata": {},
   "source": [
    "### Exercise 5\n",
    "The string  \n",
    "garbled = \"!XeXgXaXsXsXeXmX XtXeXrXcXeXsX XeXhXtX XmXaX XI\"  \n",
    "is garbled in two ways:  \n",
    "* First, our message is backwards;\n",
    "* Second, the letter we want is every other letter.  \n",
    "Use lambda and filter to extract the message and save it to a variable called message.  \n",
    "Use list slicing to extract the message and save it to a variable called message."
   ]
  },
  {
   "cell_type": "code",
   "execution_count": 1,
   "metadata": {},
   "outputs": [
    {
     "data": {
      "text/plain": [
       "'I am the secret message!'"
      ]
     },
     "execution_count": 1,
     "metadata": {},
     "output_type": "execute_result"
    }
   ],
   "source": [
    "from functools import reduce\n",
    "garbled = \"!XeXgXaXsXsXeXmX XtXeXrXcXeXsX XeXhXtX XmXaX XI\"\n",
    "# could use ''.join() but what's the fun in that?\n",
    "str_fixed = reduce(lambda x, y: x + y , [l for i,l in enumerate(garbled[::-1]) if i%2 == 0])\n",
    "str_fixed"
   ]
  },
  {
   "cell_type": "markdown",
   "metadata": {},
   "source": [
    "### File I/O\n",
    "Take any text file which you already had with you  \n",
    "1. Write a Python program to read an entire text file.\n",
    "2. Write a Python program to read first n lines of a file.\n",
    "3. Write a Python program to append text to a file and display the text.\n",
    "4. Write a Python program to read a file line by line and store it into a list."
   ]
  },
  {
   "cell_type": "markdown",
   "metadata": {},
   "source": [
    "#### Using Pandas to write a CSV"
   ]
  },
  {
   "cell_type": "code",
   "execution_count": null,
   "metadata": {},
   "outputs": [],
   "source": [
    "import os\n",
    "from pandas_datareader import data as web\n",
    "from datetime import datetime as dt\n",
    "\n",
    "# for multiple tickers, a 3D matrix is returned\n",
    "df = web.DataReader(['SPY','GLD'],\n",
    "                   'yahoo',\n",
    "                   dt(2017,1,1),\n",
    "                   dt.now())\n",
    "# Flatten 3D to 2D\n",
    "df = df.to_frame()\n",
    "\n",
    "if not os.path.exists('data'): \n",
    "    os.mkdir('data')\n",
    "\n",
    "df.to_csv('data/stocks.csv', index = True)"
   ]
  },
  {
   "cell_type": "markdown",
   "metadata": {},
   "source": [
    "#### Use a Generator to print lines in a file"
   ]
  },
  {
   "cell_type": "code",
   "execution_count": null,
   "metadata": {},
   "outputs": [],
   "source": [
    "filepath = 'data/stocks.csv'\n",
    "lines_to_print = 5\n",
    "with open(filepath) as f:\n",
    "    flines = f.readlines()\n",
    "\n",
    "def list_print(in_list):\n",
    "#     lcount = 0\n",
    "#     while lcount < len(in_list):\n",
    "#         yield in_list(lcount)\n",
    "#         lcount += 1\n",
    "    for i in in_list:\n",
    "        yield i\n",
    "\n",
    "line_gen = list_print(flines)\n",
    "\n",
    "for i in range(lines_to_print):\n",
    "    print(next(line_gen))"
   ]
  },
  {
   "cell_type": "code",
   "execution_count": null,
   "metadata": {},
   "outputs": [],
   "source": []
  }
 ],
 "metadata": {
  "kernelspec": {
   "display_name": "Python 3",
   "language": "python",
   "name": "python3"
  },
  "language_info": {
   "codemirror_mode": {
    "name": "ipython",
    "version": 3
   },
   "file_extension": ".py",
   "mimetype": "text/x-python",
   "name": "python",
   "nbconvert_exporter": "python",
   "pygments_lexer": "ipython3",
   "version": "3.6.3"
  }
 },
 "nbformat": 4,
 "nbformat_minor": 2
}
