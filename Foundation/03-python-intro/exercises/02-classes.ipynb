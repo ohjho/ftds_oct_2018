{
 "cells": [
  {
   "cell_type": "markdown",
   "metadata": {},
   "source": [
    "# Classes"
   ]
  },
  {
   "cell_type": "markdown",
   "metadata": {},
   "source": [
    "** 1.) ** Imagine that you want to develop a game and in that game you'll have monsters. Create a class called ‘Monster' and:\n",
    "\n",
    "* Initialize the Monster’s health as 100 and give the monster a name.\n",
    "* Give that monster a method called wounded, that takes one parameter. The parameter reduces the monsters health. \n",
    "* Create a function `strike` that returns a random number between 5-20, which is the damamge to be delt.\n",
    "* Use `strike` and the monsters wounded method to damge the monster until it's health is bellow 0.\n",
    "* When health is 0 print(‘monster dead’)\n"
   ]
  },
  {
   "cell_type": "markdown",
   "metadata": {},
   "source": [
    "\n",
    "*Hint* :The Monster class should rougthly look like this:\n",
    "\n",
    "\n",
    "```python\n",
    "\n",
    "class Monster:\n",
    "    \n",
    "    def __init__(self,name,health=100):\n",
    "        #initialize your stuff here\n",
    "\n",
    "\n",
    "    def wound(self,damage):\n",
    "        #Here is where you can damage the monster\n",
    "\n",
    "```\n",
    "\n",
    "You can create a random int using the random library.\n",
    "\n",
    "```python\n",
    "random.randint(start,stop)\n",
    "```\n",
    "\n"
   ]
  },
  {
   "cell_type": "code",
   "execution_count": 23,
   "metadata": {},
   "outputs": [
    {
     "name": "stdout",
     "output_type": "stream",
     "text": [
      "Bob health is 100\n",
      "Bob health is 81\n",
      "Bob health is 66\n",
      "Bob health is 45\n",
      "Bob health is 26\n",
      "Bob health is 17\n",
      "Bob health is 3\n",
      "Bob is dead\n"
     ]
    }
   ],
   "source": [
    "# %load solutions/one.py\n"
   ]
  },
  {
   "cell_type": "markdown",
   "metadata": {},
   "source": [
    "** 2.) ** Create a class to represent a person, they should have a name and an age. The person should have a `info` method which should return a string with his information, something like the bellow.\n",
    "\n",
    "```python\n",
    "\n",
    "person = Person(\"Tom\",44)\n",
    "person.info()\n",
    "\n",
    "'The person is called Tom an is 44 years old'\n",
    "```"
   ]
  },
  {
   "cell_type": "code",
   "execution_count": 5,
   "metadata": {},
   "outputs": [],
   "source": [
    "# %load solutions/two.py\n"
   ]
  },
  {
   "cell_type": "markdown",
   "metadata": {},
   "source": [
    "\n",
    "** 3.) ** Continuing on from 2, create a class called Student which has the property gpa. Your student class should inherient from the `Person`, * hint * your need to use `super`.  Overwrite the info method so tht .info() method returns the following string instead.  \n",
    "\n",
    "```python\n",
    "student = Student(\"Tom\",22,4.0)\n",
    "student.info()\n",
    "\n",
    "'The student is called Tom and is 22 years old. He has a overall GPA of 4.0 at uni.'\n",
    "\n",
    "```"
   ]
  },
  {
   "cell_type": "code",
   "execution_count": 12,
   "metadata": {},
   "outputs": [],
   "source": [
    "# %load solutions/three.py\n"
   ]
  }
 ],
 "metadata": {
  "kernelspec": {
   "display_name": "Python 3",
   "language": "python",
   "name": "python3"
  },
  "language_info": {
   "codemirror_mode": {
    "name": "ipython",
    "version": 3
   },
   "file_extension": ".py",
   "mimetype": "text/x-python",
   "name": "python",
   "nbconvert_exporter": "python",
   "pygments_lexer": "ipython3",
   "version": "3.6.5"
  }
 },
 "nbformat": 4,
 "nbformat_minor": 2
}
