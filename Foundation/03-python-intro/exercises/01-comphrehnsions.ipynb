{
 "cells": [
  {
   "cell_type": "markdown",
   "metadata": {},
   "source": [
    "# List Comprehension"
   ]
  },
  {
   "cell_type": "markdown",
   "metadata": {},
   "source": [
    "** 1.) ** Convert the bellow expression into a list comprehension"
   ]
  },
  {
   "cell_type": "code",
   "execution_count": 3,
   "metadata": {
    "collapsed": false
   },
   "outputs": [
    {
     "data": {
      "text/plain": [
       "['b', 'b', 'c']"
      ]
     },
     "execution_count": 3,
     "metadata": {},
     "output_type": "execute_result"
    }
   ],
   "source": [
    "empty_list = []\n",
    "for char in \"abc\":\n",
    "    if char == \"a\":\n",
    "        empty_list.append(\"b\")\n",
    "    else:\n",
    "        empty_list.append(char)\n",
    "\n",
    "empty_list"
   ]
  },
  {
   "cell_type": "code",
   "execution_count": 15,
   "metadata": {},
   "outputs": [],
   "source": [
    "# %load solutions/list-1.py"
   ]
  },
  {
   "cell_type": "markdown",
   "metadata": {},
   "source": [
    "** 2.) ** Use a list comprehension to square each odd number in the list and remove each even number. "
   ]
  },
  {
   "cell_type": "code",
   "execution_count": 17,
   "metadata": {},
   "outputs": [],
   "source": [
    "l =[1,2,3,4,5,6,7,8,9]"
   ]
  },
  {
   "cell_type": "code",
   "execution_count": 18,
   "metadata": {},
   "outputs": [
    {
     "data": {
      "text/plain": [
       "[4, 16, 36, 64]"
      ]
     },
     "execution_count": 18,
     "metadata": {},
     "output_type": "execute_result"
    }
   ],
   "source": [
    "# %load solutions/list-2.py"
   ]
  },
  {
   "cell_type": "markdown",
   "metadata": {},
   "source": [
    "# Fibonacci Generator"
   ]
  },
  {
   "cell_type": "markdown",
   "metadata": {},
   "source": [
    "Write a generator function to calculate the fibonaci sequence, each time you call next on the generator it should return the next number in the sequence\n",
    "\n",
    "```python\n",
    "\n",
    "fib = fib_generator()\n",
    "\n",
    ">>> next(fib) \n",
    "1\n",
    ">>> next(fib) \n",
    "1\n",
    ">>> next(fib) \n",
    "2\n",
    ">>> next(fib) \n",
    "3\n",
    "\n",
    "```"
   ]
  },
  {
   "cell_type": "code",
   "execution_count": 20,
   "metadata": {},
   "outputs": [],
   "source": [
    "# %load solutions/fib_generators.py\n",
    "def fib_generator():\n",
    "    a,b = 0, 1\n",
    "    while True:\n",
    "        a,b = b,a+b\n",
    "        yield a"
   ]
  },
  {
   "cell_type": "markdown",
   "metadata": {},
   "source": [
    "# RNA To Protein"
   ]
  },
  {
   "cell_type": "markdown",
   "metadata": {},
   "source": [
    "Write a program that can translate RNA into protein. Every 3 non-overlaping letters (or codon) corresponds to a single letter ( or amino acid)\n",
    "\n",
    "![gentic code](http://science.halleyhosting.com/sci/soph/nucleic/pics/codon.gif)\n",
    "\n",
    "\n",
    "Example Input\n",
    "> AUGGCCAUGGCGCCCAGAACUGAGAUCAAUAGUACCCGUAUUAACGGGUGA\n",
    "\n",
    "Example output\n",
    "> MAMAPRTEINSTRING*\n",
    "\n",
    "You can use the condon table provided."
   ]
  },
  {
   "cell_type": "code",
   "execution_count": 4,
   "metadata": {},
   "outputs": [],
   "source": [
    "string = \"\"\"UUU F      CUU L      AUU I      GUU V\n",
    "UUC F      CUC L      AUC I      GUC V\n",
    "UUA L      CUA L      AUA I      GUA V\n",
    "UUG L      CUG L      AUG M      GUG V\n",
    "UCU S      CCU P      ACU T      GCU A\n",
    "UCC S      CCC P      ACC T      GCC A\n",
    "UCA S      CCA P      ACA T      GCA A\n",
    "UCG S      CCG P      ACG T      GCG A\n",
    "UAU Y      CAU H      AAU N      GAU D\n",
    "UAC Y      CAC H      AAC N      GAC D\n",
    "UAA *      CAA Q      AAA K      GAA E\n",
    "UAG *      CAG Q      AAG K      GAG E\n",
    "UGU C      CGU R      AGU S      GGU G\n",
    "UGC C      CGC R      AGC S      GGC G\n",
    "UGA *      CGA R      AGA R      GGA G\n",
    "UGG W      CGG R      AGG R      GGG G\"\"\"\n",
    "\n",
    "codon_table =  string.split()\n",
    "codon_table = dict(zip(codon_table[0::2], codon_table[1::2]))"
   ]
  },
  {
   "cell_type": "code",
   "execution_count": 5,
   "metadata": {},
   "outputs": [],
   "source": [
    "rna = \"AUGGCCAUGGCGCCCAGAACUGAGAUCAAUAGUACCCGUAUUAACGGGUGA\""
   ]
  },
  {
   "cell_type": "code",
   "execution_count": 11,
   "metadata": {},
   "outputs": [],
   "source": [
    "# %load solutions/rna2aa.py\n",
    "def translate(rna):\n",
    "    return  \"\".join([codon_table[rna[ i:i + 3]] for i in range(0,len(rna),3 )])"
   ]
  },
  {
   "cell_type": "code",
   "execution_count": 12,
   "metadata": {},
   "outputs": [],
   "source": [
    "assert translate(\"AUGGCCAUGGCGCCCAGAACUGAGAUCAAUAGUACCCGUAUUAACGGGUGA\") == 'MAMAPRTEINSTRING*'"
   ]
  },
  {
   "cell_type": "markdown",
   "metadata": {},
   "source": [
    "# Casear Cipher\n",
    "\n",
    "Casears cipher is one of the ealiest known and simplest shift ciphers. Each letter in the plan text is moved by a shift of $ n $ . For example, with a shift of 1, A would be replaced by B, B would become C, and so on.\n",
    "\n",
    "\n",
    "\n",
    "```\n",
    "shift of  1\n",
    "plain text:  defend the east wall of the castle\n",
    "cipher text: efgfoe uif fbtu xbmm pg uif dbtumf\n",
    "\n",
    "shift of 2\n",
    "plain text: abcdefghijklmnopqrstuvwxyz\n",
    "cipher text: cdefghijklmnopqrstuvwxyzab\n",
    "```\n",
    "\n",
    "\n",
    "** 1. ** )  Write two functions, the first should that take text and a key and encrypt that text. The second should take a text and a key and decrypt the text. You can assume that the string is all lowercase. You may find dictionary comphensions usefull."
   ]
  },
  {
   "cell_type": "code",
   "execution_count": 1,
   "metadata": {
    "collapsed": true
   },
   "outputs": [],
   "source": [
    "import string"
   ]
  },
  {
   "cell_type": "code",
   "execution_count": 13,
   "metadata": {
    "collapsed": true
   },
   "outputs": [],
   "source": [
    "# %load solutions/encrypt.py"
   ]
  },
  {
   "cell_type": "code",
   "execution_count": 15,
   "metadata": {},
   "outputs": [],
   "source": [
    "assert encrypt(\"abc xzy\",2) == \"cde zba\""
   ]
  },
  {
   "cell_type": "code",
   "execution_count": 14,
   "metadata": {},
   "outputs": [],
   "source": [
    "# %load solutions/decrypt.py"
   ]
  },
  {
   "cell_type": "code",
   "execution_count": 17,
   "metadata": {},
   "outputs": [],
   "source": [
    "assert decrypt(\"cde zab\",2) == \"abc xyz\""
   ]
  },
  {
   "cell_type": "markdown",
   "metadata": {},
   "source": [
    "** 2. ) ** Can you and encrypt and decrpyt a string when we remove the assumption that all the letters are lowercase?"
   ]
  },
  {
   "cell_type": "code",
   "execution_count": 24,
   "metadata": {},
   "outputs": [],
   "source": [
    "# %load solutions/casear.py\n"
   ]
  },
  {
   "cell_type": "code",
   "execution_count": null,
   "metadata": {},
   "outputs": [],
   "source": [
    "assert casear(\"aBc xZy\",2) == \"cDe zBa\"\n",
    "assert casear(\"cDe zBa\",2,encrypt=False)"
   ]
  }
 ],
 "metadata": {
  "kernelspec": {
   "display_name": "Python 3",
   "language": "python",
   "name": "python3"
  },
  "language_info": {
   "codemirror_mode": {
    "name": "ipython",
    "version": 3
   },
   "file_extension": ".py",
   "mimetype": "text/x-python",
   "name": "python",
   "nbconvert_exporter": "python",
   "pygments_lexer": "ipython3",
   "version": "3.6.5"
  }
 },
 "nbformat": 4,
 "nbformat_minor": 2
}
