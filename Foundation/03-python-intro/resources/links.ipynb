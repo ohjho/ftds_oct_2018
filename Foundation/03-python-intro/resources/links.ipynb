{
 "cells": [
  {
   "cell_type": "markdown",
   "metadata": {},
   "source": [
    "# Python Introduction Resources\n",
    "\n",
    "The notebooks provided should provide a good starting point for learning python. To make this journey easier bellow are a list of links to some other good resources.\n",
    "\n",
    "* [Digital Ocean Tutorial Series](https://www.digitalocean.com/community/tutorial_series/how-to-code-in-python-3)\n",
    "* [Intro To Python](http://introtopython.org/)\n",
    "* [Cheatsheets ](https://ehmatthes.github.io/pcc/cheatsheets/README.html)\n",
    "* [Beginners Guide - various different resources](https://wiki.python.org/moin/BeginnersGuide/NonProgrammers)"
   ]
  }
 ],
 "metadata": {
  "kernelspec": {
   "display_name": "Python 3",
   "language": "python",
   "name": "python3"
  },
  "language_info": {
   "codemirror_mode": {
    "name": "ipython",
    "version": 3
   },
   "file_extension": ".py",
   "mimetype": "text/x-python",
   "name": "python",
   "nbconvert_exporter": "python",
   "pygments_lexer": "ipython3",
   "version": "3.6.5"
  }
 },
 "nbformat": 4,
 "nbformat_minor": 2
}
