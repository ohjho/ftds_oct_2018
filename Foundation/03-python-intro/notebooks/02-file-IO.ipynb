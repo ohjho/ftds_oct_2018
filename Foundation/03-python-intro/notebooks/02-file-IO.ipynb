{
 "cells": [
  {
   "cell_type": "markdown",
   "metadata": {},
   "source": [
    "# File IO\n",
    "\n",
    "File IO (file input output ). What we'll cover:\n",
    "\n",
    "\n",
    "* The os (operating system) module.\n",
    "* Reading and Writing Files\n"
   ]
  },
  {
   "cell_type": "markdown",
   "metadata": {},
   "source": [
    "# OS\n",
    "\n",
    "The os module in python lets us interact with the operating system allowing us to list files, move directories and even run commands."
   ]
  },
  {
   "cell_type": "code",
   "execution_count": 23,
   "metadata": {},
   "outputs": [],
   "source": [
    "import os"
   ]
  },
  {
   "cell_type": "code",
   "execution_count": 2,
   "metadata": {},
   "outputs": [
    {
     "data": {
      "text/plain": [
       "'/home/it-dog/PythonIntroduction'"
      ]
     },
     "execution_count": 2,
     "metadata": {},
     "output_type": "execute_result"
    }
   ],
   "source": [
    "os.getcwd() #get current working directory"
   ]
  },
  {
   "cell_type": "markdown",
   "metadata": {},
   "source": [
    "If the the data directory doesn't exist lets make one."
   ]
  },
  {
   "cell_type": "code",
   "execution_count": 24,
   "metadata": {},
   "outputs": [],
   "source": [
    "if not os.path.exists('data'):\n",
    "    os.mkdir('data')"
   ]
  },
  {
   "cell_type": "code",
   "execution_count": 25,
   "metadata": {},
   "outputs": [
    {
     "data": {
      "text/plain": [
       "['json.txt',\n",
       " '.ipynb_checkpoints',\n",
       " 'shopping_json.txt',\n",
       " 'some-string.txt',\n",
       " 'zen-of-python.txt',\n",
       " 'example.csv',\n",
       " 'file.txt',\n",
       " 'list_json.txt',\n",
       " 'ML-Book.pdf',\n",
       " 'quick-fox.txt',\n",
       " 'some_-tring.txt',\n",
       " 'example2.csv']"
      ]
     },
     "execution_count": 25,
     "metadata": {},
     "output_type": "execute_result"
    }
   ],
   "source": [
    "os.listdir('data') # returns a list of all the files in dir"
   ]
  },
  {
   "cell_type": "markdown",
   "metadata": {},
   "source": [
    "# Text Files\n",
    "\n",
    "When working with plain text files there are a few diffrent most to open a file, some of the most common are:\n",
    "\n",
    "* 'r' – Read mode as we've just seen\n",
    "* 'w' – Write mode (existing file with the same name will be erased when this mode is activated)\n",
    "* 'a' – Append mode, this is used to add new data to the end of the file; that is new information is automatically amended to the end \n",
    "* 'r+' –  Read and write mode\n",
    "* 'a+' - Read and append mode.\n"
   ]
  },
  {
   "cell_type": "markdown",
   "metadata": {},
   "source": [
    "## Reading \n",
    "\n",
    "The first argument is the location of the file, the second is what mode you want to open the file in. We'll open the file in readmode, and then we'll cover the other mode's later.\n",
    "\n",
    "```python\n",
    "open('location/of/file','mode')\n",
    "```\n",
    "\n",
    "When we open a file it retruns a filehandle object, we can the call `.read()` on that object to get the text. Afterwards we should close the filehandle using `.close()`."
   ]
  },
  {
   "cell_type": "code",
   "execution_count": 13,
   "metadata": {},
   "outputs": [
    {
     "data": {
      "text/plain": [
       "'The quick brown fox jumps over the lazy dog.'"
      ]
     },
     "execution_count": 13,
     "metadata": {},
     "output_type": "execute_result"
    }
   ],
   "source": [
    "filehandle = open('data/quick-fox.txt','r')\n",
    "text = filehandle.read()\n",
    "filehandle.close()\n",
    "text"
   ]
  },
  {
   "cell_type": "markdown",
   "metadata": {},
   "source": [
    "Sometimes you forget to close the file handle therefore python offers and alternative synatx to open and file that will automatically close the file handle for you. "
   ]
  },
  {
   "cell_type": "code",
   "execution_count": 14,
   "metadata": {},
   "outputs": [],
   "source": [
    "with open('data/quick-fox.txt','r') as f: #f is the filehandle\n",
    "    text  = f.read()"
   ]
  },
  {
   "cell_type": "markdown",
   "metadata": {},
   "source": [
    "Using this syntax we don't have to bother closing the file handle, python will take care of it automatically.  \n"
   ]
  },
  {
   "cell_type": "code",
   "execution_count": 52,
   "metadata": {},
   "outputs": [
    {
     "data": {
      "text/plain": [
       "True"
      ]
     },
     "execution_count": 52,
     "metadata": {},
     "output_type": "execute_result"
    }
   ],
   "source": [
    "f.closed # Check if file handle is closed"
   ]
  },
  {
   "cell_type": "markdown",
   "metadata": {},
   "source": [
    "We can use `.readlines()` to read each line into a list."
   ]
  },
  {
   "cell_type": "code",
   "execution_count": 53,
   "metadata": {},
   "outputs": [
    {
     "name": "stdout",
     "output_type": "stream",
     "text": [
      "The file has 19 lines\n"
     ]
    }
   ],
   "source": [
    "with open('data/zen-of-python.txt','r') as f: #f is the filehandle\n",
    "    lines  = f.readlines()\n",
    "    \n",
    "print(f\"The file has {len(lines)} lines\")"
   ]
  },
  {
   "cell_type": "code",
   "execution_count": 54,
   "metadata": {},
   "outputs": [
    {
     "data": {
      "text/plain": [
       "['Beautiful is better than ugly.\\n',\n",
       " 'Explicit is better than implicit.\\n',\n",
       " 'Simple is better than complex.\\n']"
      ]
     },
     "execution_count": 54,
     "metadata": {},
     "output_type": "execute_result"
    }
   ],
   "source": [
    "lines[0:3]"
   ]
  },
  {
   "cell_type": "markdown",
   "metadata": {},
   "source": [
    "In some cases when a file is especially large you don't want to read the whole file into memory all at once. In such cases you can use the filehandle as a iterable and loop over it using a for loop."
   ]
  },
  {
   "cell_type": "code",
   "execution_count": 65,
   "metadata": {},
   "outputs": [
    {
     "name": "stdout",
     "output_type": "stream",
     "text": [
      "Line length: 31\n",
      "Line length: 34\n",
      "Line length: 31\n",
      "Line length: 36\n",
      "Line length: 28\n",
      "Line length: 29\n",
      "Line length: 20\n",
      "Line length: 56\n",
      "Line length: 36\n",
      "Line length: 35\n",
      "Line length: 28\n",
      "Line length: 58\n",
      "Line length: 70\n",
      "Line length: 67\n",
      "Line length: 26\n",
      "Line length: 49\n",
      "Line length: 59\n",
      "Line length: 65\n",
      "Line length: 95\n"
     ]
    }
   ],
   "source": [
    "with open('data/zen-of-python.txt','r') as f:\n",
    "\n",
    "    for line in f:\n",
    "        print(f\"Line length: {len(line)}\")\n",
    "    "
   ]
  },
  {
   "cell_type": "markdown",
   "metadata": {},
   "source": [
    "# Writing\n",
    "\n",
    "Writing files follows exactly the same syntax, we just need to replace the mode with `'w'`. Note that if we open a file in write mode, when we perform the write it will overwrite the old contents with the new ones"
   ]
  },
  {
   "cell_type": "code",
   "execution_count": 97,
   "metadata": {},
   "outputs": [],
   "source": [
    "s = \"Some string\\n\"\n",
    "with open(\"data/some-string.txt\",\"w\") as f:\n",
    "    f.write(s)"
   ]
  },
  {
   "cell_type": "markdown",
   "metadata": {},
   "source": [
    "If we don't want to overwrite make sure you use append `'a'` mode."
   ]
  },
  {
   "cell_type": "code",
   "execution_count": 98,
   "metadata": {},
   "outputs": [],
   "source": [
    "s = \"Some sceond string\\n\"\n",
    "with open(\"data/some-string.txt\",\"a\") as f:\n",
    "    f.write(s)"
   ]
  },
  {
   "cell_type": "markdown",
   "metadata": {},
   "source": [
    "# JSON\n",
    "\n",
    "We will likely encounter JSON (Javascript object notation) when working with APIs later. You can think of JSON as a python dict,  an example of JSON is:\n",
    "\n",
    "```\n",
    "{\"name\":\"John\", \n",
    " \"age\":30, \n",
    " \"car\":\"honda\" }\n",
    "```\n"
   ]
  },
  {
   "cell_type": "code",
   "execution_count": 99,
   "metadata": {},
   "outputs": [],
   "source": [
    "import json"
   ]
  },
  {
   "cell_type": "code",
   "execution_count": 100,
   "metadata": {},
   "outputs": [
    {
     "data": {
      "text/plain": [
       "{'age': 30, 'car': 'honda', 'name': 'John'}"
      ]
     },
     "execution_count": 100,
     "metadata": {},
     "output_type": "execute_result"
    }
   ],
   "source": [
    "with open(\"data/json.txt\",\"r\") as f:\n",
    "    j = json.load(f)\n",
    "j # returns a python dict"
   ]
  },
  {
   "cell_type": "code",
   "execution_count": 101,
   "metadata": {},
   "outputs": [],
   "source": [
    "d = {\"chicken\":2 , \"carrots\":4,\"fish\":1}\n",
    "\n",
    "with open(\"data/shopping_json.txt\",\"w\") as f:\n",
    "    json.dump(d,f) #parmas: stuff you wanna write, filehandle"
   ]
  },
  {
   "cell_type": "markdown",
   "metadata": {},
   "source": [
    "# CSV\n",
    "\n",
    "CSV (commar seperated values) is a simple file format for tabular data, each value is seperated by a comma. An example:\n",
    "\n",
    "```\n",
    "Type, Primary Text, Title, Description, Owner\n",
    "MyRequirementType, \"The vehicle must have two wheels.\", \"Vehicle wheels\", \"This requirement defines the rules for vehicles\", \"Joe Blogs\"\n",
    "```\n",
    "\n",
    "Honestly you'll rarley work with CSVs without pandas, so this isn't to important but for completeness we'll add it anyway."
   ]
  },
  {
   "cell_type": "code",
   "execution_count": 20,
   "metadata": {},
   "outputs": [],
   "source": [
    "import csv"
   ]
  },
  {
   "cell_type": "code",
   "execution_count": 21,
   "metadata": {},
   "outputs": [
    {
     "name": "stdout",
     "output_type": "stream",
     "text": [
      "['Year', 'Make', 'Model', 'Length']\n",
      "['1997', 'Ford', 'E350', '2.34']\n",
      "['2000', 'Mercury', 'Cougar', '2.38']\n"
     ]
    }
   ],
   "source": [
    "l = []\n",
    "\n",
    "with open('data/example.csv', newline='') as f:\n",
    "    reader = csv.reader(f)\n",
    "    for row in reader:\n",
    "        l.append(row)\n",
    "        print(row)\n",
    "        "
   ]
  },
  {
   "cell_type": "code",
   "execution_count": 22,
   "metadata": {},
   "outputs": [],
   "source": [
    "with open('data/example2.csv', 'w') as f:\n",
    "    writer = csv.writer(f)\n",
    "    writer.writerows(l)\n",
    "        "
   ]
  }
 ],
 "metadata": {
  "kernelspec": {
   "display_name": "Python 3",
   "language": "python",
   "name": "python3"
  },
  "language_info": {
   "codemirror_mode": {
    "name": "ipython",
    "version": 3
   },
   "file_extension": ".py",
   "mimetype": "text/x-python",
   "name": "python",
   "nbconvert_exporter": "python",
   "pygments_lexer": "ipython3",
   "version": "3.6.3"
  }
 },
 "nbformat": 4,
 "nbformat_minor": 2
}
