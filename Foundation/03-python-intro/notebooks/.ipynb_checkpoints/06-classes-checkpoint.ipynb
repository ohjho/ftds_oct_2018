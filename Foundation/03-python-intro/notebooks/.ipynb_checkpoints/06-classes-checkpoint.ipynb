{
 "cells": [
  {
   "cell_type": "markdown",
   "metadata": {},
   "source": [
    "# Classes\n",
    "\n",
    "\n",
    "\n",
    "Clasess help us keep code organized and modular. A class allow us to contain both information and behaviour in one python object. Bellow I define class for a point which contains the position and a method to move the point up by one."
   ]
  },
  {
   "cell_type": "code",
   "execution_count": 2,
   "metadata": {},
   "outputs": [],
   "source": [
    "class Point:\n",
    "    \n",
    "    #Class attributes\n",
    "    x = 0\n",
    "    y = 0\n",
    "    \n",
    "    def move_up(self):\n",
    "        \n",
    "        self.y += 1"
   ]
  },
  {
   "cell_type": "markdown",
   "metadata": {},
   "source": [
    "Note how the class starts with a capital, this is a convention amongst programmers. Every function defined in the class will take self as its first  argument, which refers to the class being created. "
   ]
  },
  {
   "cell_type": "code",
   "execution_count": 5,
   "metadata": {},
   "outputs": [
    {
     "data": {
      "text/plain": [
       "(0, 0)"
      ]
     },
     "execution_count": 5,
     "metadata": {},
     "output_type": "execute_result"
    }
   ],
   "source": [
    "p = Point()\n",
    "p.x, p.y"
   ]
  },
  {
   "cell_type": "code",
   "execution_count": 6,
   "metadata": {},
   "outputs": [
    {
     "data": {
      "text/plain": [
       "1"
      ]
     },
     "execution_count": 6,
     "metadata": {},
     "output_type": "execute_result"
    }
   ],
   "source": [
    "p.move_up()\n",
    "p.y"
   ]
  },
  {
   "cell_type": "markdown",
   "metadata": {},
   "source": [
    "# Init"
   ]
  },
  {
   "cell_type": "markdown",
   "metadata": {},
   "source": [
    "We want to be able to set where our points starts, so instead lets move use instance attributes instead. "
   ]
  },
  {
   "cell_type": "code",
   "execution_count": 24,
   "metadata": {},
   "outputs": [],
   "source": [
    "class Point:\n",
    "    \n",
    "    def __init__(self , x = 0 , y = 0):\n",
    "        self.x = x # instance attributes\n",
    "        self.y = y\n",
    "        \n",
    "    def move_up(self):\n",
    "        \n",
    "        self.y += 1\n"
   ]
  },
  {
   "cell_type": "markdown",
   "metadata": {},
   "source": [
    "The `__init__` dunder method is called when the class is created it allows us to initialize our class with some values. \n",
    "\n",
    "\n"
   ]
  },
  {
   "cell_type": "code",
   "execution_count": 25,
   "metadata": {},
   "outputs": [],
   "source": [
    "p1 = Point(5,14)\n",
    "p2 = Point(3,4)"
   ]
  },
  {
   "cell_type": "markdown",
   "metadata": {},
   "source": [
    "## Adding Behaviour"
   ]
  },
  {
   "cell_type": "markdown",
   "metadata": {},
   "source": [
    "Now we've got to points the next step would be adding them together. We can add this behaviourby defining dunder `__add__` "
   ]
  },
  {
   "cell_type": "code",
   "execution_count": 14,
   "metadata": {},
   "outputs": [],
   "source": [
    "class Point:\n",
    "    \n",
    "    def __init__(self , x = 0 , y = 0):\n",
    "        self.x = x # instance attributes\n",
    "        self.y = y\n",
    "        \n",
    "    def move_up(self):\n",
    "        \n",
    "        self.y += 1\n",
    "        \n",
    "    def __add__(p1,p2):\n",
    "        return Point(p1.x + p2.x , p1.y + p2.y)\n"
   ]
  },
  {
   "cell_type": "code",
   "execution_count": 16,
   "metadata": {},
   "outputs": [
    {
     "name": "stdout",
     "output_type": "stream",
     "text": [
      "<__main__.Point object at 0x7f86a02810f0>\n"
     ]
    }
   ],
   "source": [
    "p1 = Point(5,14)\n",
    "p2 = Point(3,4)\n",
    "p3 = p1 + p2\n",
    "print(p3)"
   ]
  },
  {
   "cell_type": "markdown",
   "metadata": {},
   "source": [
    "So the addition works, but the point is printing weird? We could explicitly tell the point to print it's x and y coordinates.\n",
    "\n"
   ]
  },
  {
   "cell_type": "raw",
   "metadata": {},
   "source": [
    "print(f\"x: {p3.x} y: {p3.y}\")"
   ]
  },
  {
   "cell_type": "markdown",
   "metadata": {},
   "source": [
    "Or we could add the correct printing behaviour, just like before defining another dunder method. This time we need to define two `__str__` which is called by print, and `__repr__` which is called in the python repl or jupyter notebook."
   ]
  },
  {
   "cell_type": "code",
   "execution_count": 18,
   "metadata": {},
   "outputs": [],
   "source": [
    "class Point:\n",
    "    \n",
    "    def __init__(self , x = 0 , y = 0):\n",
    "        self.x = x\n",
    "        self.y = y\n",
    "        \n",
    "    def move_up(self):\n",
    "        \n",
    "        self.y += 1\n",
    "        \n",
    "        \n",
    "    def __add__(p1,p2):\n",
    "        return Point(p1.x + p2.x , p1.y + p2.y)\n",
    "    \n",
    "    #get called by print\n",
    "    def __str__(self):\n",
    "        return f\"x: {self.x} y: {self.y}\"\n",
    "    \n",
    "    #is called to display in the repl or jupyter notebook\n",
    "    def __repr__(self):\n",
    "        return f\"x: {self.x} y: {self.y}\""
   ]
  },
  {
   "cell_type": "code",
   "execution_count": 19,
   "metadata": {},
   "outputs": [
    {
     "name": "stdout",
     "output_type": "stream",
     "text": [
      "x: 4 y: 5\n"
     ]
    }
   ],
   "source": [
    "p = Point(4,5)\n",
    "print(p)"
   ]
  },
  {
   "cell_type": "markdown",
   "metadata": {},
   "source": [
    "## Inheritance\n",
    "\n",
    "Sometimes you have a class with properties defined that you want to access from another class, that is called inheritance.   In the example we have two classes.   To make class Toyota access the properties of class Car we can connect them with extends."
   ]
  },
  {
   "cell_type": "code",
   "execution_count": 23,
   "metadata": {},
   "outputs": [
    {
     "name": "stdout",
     "output_type": "stream",
     "text": [
      "beep\n",
      "vroom\n"
     ]
    }
   ],
   "source": [
    "class Car:\n",
    "    def __init__(self,car_type):\n",
    "        self.car_type  = car_type\n",
    "        \n",
    "    def honk(self):\n",
    "        return \"beep\"\n",
    "    \n",
    "    \n",
    "class Toyota(Car):\n",
    "    \n",
    "    def __init__(self,car_type,color):\n",
    "        super().__init__(car_type)\n",
    "        self.color = color\n",
    "        \n",
    "    def drive(self):\n",
    "        return \"vroom\"\n",
    "        \n",
    "        \n",
    "toyota = Toyota(\"pick up\",\"red\")\n",
    "print(toyota.honk())\n",
    "print(toyota.drive())"
   ]
  }
 ],
 "metadata": {
  "kernelspec": {
   "display_name": "Python 3",
   "language": "python",
   "name": "python3"
  },
  "language_info": {
   "codemirror_mode": {
    "name": "ipython",
    "version": 3
   },
   "file_extension": ".py",
   "mimetype": "text/x-python",
   "name": "python",
   "nbconvert_exporter": "python",
   "pygments_lexer": "ipython3",
   "version": "3.6.3"
  }
 },
 "nbformat": 4,
 "nbformat_minor": 2
}
