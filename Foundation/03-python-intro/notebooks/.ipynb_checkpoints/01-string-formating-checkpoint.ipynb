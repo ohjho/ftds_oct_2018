{
 "cells": [
  {
   "cell_type": "markdown",
   "metadata": {},
   "source": [
    "# String Formating\n",
    "\n",
    "String formatting provides us a simple way to construct new strings from variables. Python has lots of ways to perform string formating, we'll focus on the newest and easiest way, f-strings, however we'll also touch on some of the older ways because you'll likely run into them reading code in the wild."
   ]
  },
  {
   "cell_type": "markdown",
   "metadata": {},
   "source": [
    "# F-Strings\n",
    "\n",
    "F-strings where only added in python 3.6, at the time of writing the latest version. They are really easy to use because we can just put variables directly in the string surrounded by curly brackets `{}`. In addition they are more readable compared to the other string formating methods.\n",
    "\n"
   ]
  },
  {
   "cell_type": "code",
   "execution_count": 1,
   "metadata": {},
   "outputs": [
    {
     "name": "stdout",
     "output_type": "stream",
     "text": [
      "My name is Dom and I am 22 years old\n"
     ]
    }
   ],
   "source": [
    "name = \"Dom\"\n",
    "age = 22\n",
    "print(f\"My name is {name} and I am {age} years old\")"
   ]
  },
  {
   "cell_type": "markdown",
   "metadata": {},
   "source": [
    "Notice the `f` flag at the start of the string, this tells python that we want it to format the string for us. "
   ]
  },
  {
   "cell_type": "code",
   "execution_count": 2,
   "metadata": {},
   "outputs": [
    {
     "name": "stdout",
     "output_type": "stream",
     "text": [
      "My age in dog years is 154\n"
     ]
    }
   ],
   "source": [
    "print(f\"My age in dog years is {age * 7}\")# F-strings support any python expression."
   ]
  },
  {
   "cell_type": "code",
   "execution_count": 3,
   "metadata": {},
   "outputs": [
    {
     "name": "stdout",
     "output_type": "stream",
     "text": [
      "2 divided by 3 equals 0.6666666666666666\n"
     ]
    }
   ],
   "source": [
    "a = 2\n",
    "b = 3\n",
    "c = a/b\n",
    "print(f\"{a} divided by {b} equals {a/b}\")"
   ]
  },
  {
   "cell_type": "markdown",
   "metadata": {},
   "source": [
    "All of those 6's look a little ugly, how about we round it off."
   ]
  },
  {
   "cell_type": "code",
   "execution_count": 4,
   "metadata": {},
   "outputs": [
    {
     "name": "stdout",
     "output_type": "stream",
     "text": [
      "2 divided by 3 equals 0.67\n"
     ]
    }
   ],
   "source": [
    "print(f\"{a} divided by {b} equals {a/b:.2f}\")"
   ]
  },
  {
   "cell_type": "markdown",
   "metadata": {},
   "source": [
    "We can keep quotes in the string using by using `!r` a the end of the replacement field."
   ]
  },
  {
   "cell_type": "code",
   "execution_count": 19,
   "metadata": {},
   "outputs": [
    {
     "name": "stdout",
     "output_type": "stream",
     "text": [
      "He said 'Python' is great\n"
     ]
    }
   ],
   "source": [
    "langauge = \"Python\"\n",
    "print(f\"He said {langauge!r} is great\")"
   ]
  },
  {
   "cell_type": "markdown",
   "metadata": {},
   "source": [
    "# .Format\n",
    "\n",
    "This method is very similar to f-strings but slightly more verbose."
   ]
  },
  {
   "cell_type": "code",
   "execution_count": 16,
   "metadata": {},
   "outputs": [
    {
     "name": "stdout",
     "output_type": "stream",
     "text": [
      "A: 1\n",
      "B: 2\n",
      "C: 3\n"
     ]
    }
   ],
   "source": [
    "a, b, c = 1, 2, 3\n",
    "print(\"A: {}\\nB: {}\\nC: {}\".format(a,b,c))"
   ]
  },
  {
   "cell_type": "markdown",
   "metadata": {},
   "source": [
    "# C-Style\n",
    "\n",
    "The C style is a little annoying since we always need to tell python which type of varibale we want to insert into the string, is it a string, float , etc...\n",
    "\n"
   ]
  },
  {
   "cell_type": "code",
   "execution_count": 14,
   "metadata": {},
   "outputs": [
    {
     "name": "stdout",
     "output_type": "stream",
     "text": [
      "Hello Dom!\n"
     ]
    }
   ],
   "source": [
    "name = \"Dom\"\n",
    "print(\"Hello %s!\" % name) #%s for string"
   ]
  },
  {
   "cell_type": "markdown",
   "metadata": {},
   "source": [
    "If we want to use a different data type we have to change the character after the`%`."
   ]
  },
  {
   "cell_type": "code",
   "execution_count": 1,
   "metadata": {},
   "outputs": [
    {
     "name": "stdout",
     "output_type": "stream",
     "text": [
      "My age is 27!\n"
     ]
    }
   ],
   "source": [
    "age = 27\n",
    "print(\"My age is %d!\" % age)"
   ]
  },
  {
   "cell_type": "markdown",
   "metadata": {},
   "source": [
    "# +\n",
    "\n",
    "By far the most painful way, I don't think this even counts as string formating."
   ]
  },
  {
   "cell_type": "code",
   "execution_count": 5,
   "metadata": {},
   "outputs": [
    {
     "name": "stdout",
     "output_type": "stream",
     "text": [
      "My age is 27\n"
     ]
    }
   ],
   "source": [
    "print(\"My age is \" + str(27))"
   ]
  },
  {
   "cell_type": "markdown",
   "metadata": {},
   "source": [
    "### JHO's Note\n",
    "See [PyFormat](https://pyformat.info/) for a good reference on String formating"
   ]
  }
 ],
 "metadata": {
  "kernelspec": {
   "display_name": "Python 3",
   "language": "python",
   "name": "python3"
  },
  "language_info": {
   "codemirror_mode": {
    "name": "ipython",
    "version": 3
   },
   "file_extension": ".py",
   "mimetype": "text/x-python",
   "name": "python",
   "nbconvert_exporter": "python",
   "pygments_lexer": "ipython3",
   "version": "3.6.3"
  }
 },
 "nbformat": 4,
 "nbformat_minor": 2
}
