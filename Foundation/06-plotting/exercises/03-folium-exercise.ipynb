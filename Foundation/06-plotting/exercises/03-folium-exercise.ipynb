{
 "cells": [
  {
   "cell_type": "markdown",
   "metadata": {},
   "source": [
    "# Open rice\n",
    "\n",
    "In this exercise we'll use folium to help visulize the open rice dataset. You may find [these](http://nbviewer.jupyter.org/github/python-visualization/folium/tree/master/examples/) reference notebooks helpfull"
   ]
  },
  {
   "cell_type": "markdown",
   "metadata": {},
   "source": [
    "## Markers"
   ]
  },
  {
   "cell_type": "code",
   "execution_count": 1,
   "metadata": {},
   "outputs": [],
   "source": [
    "import folium\n",
    "import pandas as pd\n",
    "import json"
   ]
  },
  {
   "cell_type": "code",
   "execution_count": 2,
   "metadata": {},
   "outputs": [],
   "source": [
    "hkjson = json.load(open(\"data/hk_geo.json\"))"
   ]
  },
  {
   "cell_type": "code",
   "execution_count": 3,
   "metadata": {},
   "outputs": [],
   "source": [
    "df = pd.read_csv('data/geotagged-openrice.csv')"
   ]
  },
  {
   "cell_type": "markdown",
   "metadata": {},
   "source": [
    "** 1. ** Use folium to draw a pop up marker for the location of 10 resturants."
   ]
  },
  {
   "cell_type": "code",
   "execution_count": 12,
   "metadata": {},
   "outputs": [
    {
     "data": {
      "text/plain": [
       "[22.2852, 114.1478]"
      ]
     },
     "execution_count": 12,
     "metadata": {},
     "output_type": "execute_result"
    }
   ],
   "source": [
    "l_latlon = df[['latitude','longitude']].values[:10]\n",
    "start_loc = list(l_latlon[0])"
   ]
  },
  {
   "cell_type": "markdown",
   "metadata": {},
   "source": [
    "### JHO's Note\n",
    "The map tiles matter! Read [this](https://python-graph-gallery.com/288-map-background-with-folium/)\n",
    "\n",
    "And this [Kaggle Tutorial](https://www.kaggle.com/daveianhickey/how-to-folium-for-maps-heatmaps-time-analysis) is also very useful"
   ]
  },
  {
   "cell_type": "code",
   "execution_count": 29,
   "metadata": {},
   "outputs": [
    {
     "data": {
      "text/html": [
       "<div style=\"width:100%;\"><div style=\"position:relative;width:100%;height:0;padding-bottom:60%;\"><iframe src=\"data:text/html;charset=utf-8;base64,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\" style=\"position:absolute;width:100%;height:100%;left:0;top:0;border:none !important;\" allowfullscreen webkitallowfullscreen mozallowfullscreen></iframe></div></div>"
      ],
      "text/plain": [
       "<folium.folium.Map at 0x113b6bef0>"
      ]
     },
     "execution_count": 29,
     "metadata": {},
     "output_type": "execute_result"
    }
   ],
   "source": [
    "# init map\n",
    "map_openrice = folium.Map( location = start_loc, zoom_start= 15, tiles = 'Stamen Toner')\n",
    "\n",
    "for i in l_latlon:\n",
    "    folium.Marker( list(i), popup='London Bridge').add_to(map_openrice)\n",
    "map_openrice"
   ]
  },
  {
   "cell_type": "code",
   "execution_count": null,
   "metadata": {},
   "outputs": [],
   "source": [
    "# %load solutions/draw_markers.py"
   ]
  },
  {
   "cell_type": "code",
   "execution_count": 8,
   "metadata": {},
   "outputs": [
    {
     "data": {
      "text/plain": [
       "array([[ 22.2852, 114.1478],\n",
       "       [ 22.2852, 114.1478],\n",
       "       [ 22.2835, 114.1511],\n",
       "       [ 22.2835, 114.1511],\n",
       "       [ 22.2835, 114.1511],\n",
       "       [ 22.2853, 114.1477],\n",
       "       [ 22.2853, 114.1477],\n",
       "       [ 22.2879, 114.1518],\n",
       "       [ 22.2879, 114.1518],\n",
       "       [ 22.2867, 114.1479]])"
      ]
     },
     "execution_count": 8,
     "metadata": {},
     "output_type": "execute_result"
    }
   ],
   "source": [
    "df[[\"latitude\",\"longitude\"]].values[:10]"
   ]
  },
  {
   "cell_type": "markdown",
   "metadata": {},
   "source": [
    "## Choropleth \n",
    "\n",
    "Before we can create a choropleth map we need to calculate if a point falls within a district. We can use shapely to calculate if a point falls within a polygon."
   ]
  },
  {
   "cell_type": "code",
   "execution_count": 50,
   "metadata": {},
   "outputs": [],
   "source": [
    "from geojson import utils #used to get coordinates from geo json\n",
    "from shapely.geometry import Point, Polygon\n",
    "import numpy as np"
   ]
  },
  {
   "cell_type": "code",
   "execution_count": 51,
   "metadata": {},
   "outputs": [],
   "source": [
    "polygons  = [ Polygon(utils.coords(each)) for each in hkjson[\"features\"]] \n",
    "points = [ Point(p) for p  in df[[\"longitude\",\"latitude\"]].values]"
   ]
  },
  {
   "cell_type": "code",
   "execution_count": 52,
   "metadata": {},
   "outputs": [],
   "source": [
    "def find_district(polygons,districts,point):\n",
    "    \n",
    "    assert len(districts) == len(polygons)\n",
    "    \n",
    "    for i,polygon in enumerate(polygons):\n",
    "        if polygon.contains(point):\n",
    "            return districts[i]\n",
    "    return np.nan\n"
   ]
  },
  {
   "cell_type": "code",
   "execution_count": 53,
   "metadata": {},
   "outputs": [
    {
     "data": {
      "text/plain": [
       "'Central and Western'"
      ]
     },
     "execution_count": 53,
     "metadata": {},
     "output_type": "execute_result"
    }
   ],
   "source": [
    "find_district(polygons,districts,points[1])"
   ]
  },
  {
   "cell_type": "code",
   "execution_count": 54,
   "metadata": {},
   "outputs": [],
   "source": [
    "#quite slow be patient\n",
    "resturant_district = [find_district(polygons,districts,point) for point in points]"
   ]
  },
  {
   "cell_type": "code",
   "execution_count": 48,
   "metadata": {},
   "outputs": [],
   "source": [
    "df[\"district\"] = resturant_district"
   ]
  },
  {
   "cell_type": "code",
   "execution_count": 55,
   "metadata": {},
   "outputs": [
    {
     "data": {
      "text/html": [
       "<div>\n",
       "<style scoped>\n",
       "    .dataframe tbody tr th:only-of-type {\n",
       "        vertical-align: middle;\n",
       "    }\n",
       "\n",
       "    .dataframe tbody tr th {\n",
       "        vertical-align: top;\n",
       "    }\n",
       "\n",
       "    .dataframe thead th {\n",
       "        text-align: right;\n",
       "    }\n",
       "</style>\n",
       "<table border=\"1\" class=\"dataframe\">\n",
       "  <thead>\n",
       "    <tr style=\"text-align: right;\">\n",
       "      <th></th>\n",
       "      <th>address</th>\n",
       "      <th>bookmarks</th>\n",
       "      <th>dislikes</th>\n",
       "      <th>food_type</th>\n",
       "      <th>likes</th>\n",
       "      <th>name</th>\n",
       "      <th>number_of_reviews</th>\n",
       "      <th>price_range</th>\n",
       "      <th>latitude</th>\n",
       "      <th>longitude</th>\n",
       "      <th>district</th>\n",
       "    </tr>\n",
       "  </thead>\n",
       "  <tbody>\n",
       "    <tr>\n",
       "      <th>0</th>\n",
       "      <td>Shop J-K., 200 Hollywood Road,</td>\n",
       "      <td>5838</td>\n",
       "      <td>6</td>\n",
       "      <td>Hong Kong Style</td>\n",
       "      <td>78</td>\n",
       "      <td>For Kee Restaurant 科記咖啡餐室</td>\n",
       "      <td>(133 Reviews)</td>\n",
       "      <td>Below $50</td>\n",
       "      <td>22.2852</td>\n",
       "      <td>114.1478</td>\n",
       "      <td>Central and Western</td>\n",
       "    </tr>\n",
       "    <tr>\n",
       "      <th>1</th>\n",
       "      <td>Shop J-K., 200 Hollywood Road,</td>\n",
       "      <td>5838</td>\n",
       "      <td>6</td>\n",
       "      <td>Tea Restaurant</td>\n",
       "      <td>78</td>\n",
       "      <td>For Kee Restaurant 科記咖啡餐室</td>\n",
       "      <td>(133 Reviews)</td>\n",
       "      <td>Below $50</td>\n",
       "      <td>22.2852</td>\n",
       "      <td>114.1478</td>\n",
       "      <td>Central and Western</td>\n",
       "    </tr>\n",
       "    <tr>\n",
       "      <th>2</th>\n",
       "      <td>G/F, 108 Hollywood Road,</td>\n",
       "      <td>3492</td>\n",
       "      <td>2</td>\n",
       "      <td>International</td>\n",
       "      <td>20</td>\n",
       "      <td>Blue · Butcher &amp; Meat Specialist</td>\n",
       "      <td>(30 Reviews)</td>\n",
       "      <td>$201-400</td>\n",
       "      <td>22.2835</td>\n",
       "      <td>114.1511</td>\n",
       "      <td>Central and Western</td>\n",
       "    </tr>\n",
       "    <tr>\n",
       "      <th>3</th>\n",
       "      <td>G/F, 108 Hollywood Road,</td>\n",
       "      <td>2259</td>\n",
       "      <td>10</td>\n",
       "      <td>Western</td>\n",
       "      <td>35</td>\n",
       "      <td>Classified</td>\n",
       "      <td>(71 Reviews)</td>\n",
       "      <td>$101-200</td>\n",
       "      <td>22.2835</td>\n",
       "      <td>114.1511</td>\n",
       "      <td>Central and Western</td>\n",
       "    </tr>\n",
       "    <tr>\n",
       "      <th>4</th>\n",
       "      <td>G/F, 108 Hollywood Road,</td>\n",
       "      <td>3492</td>\n",
       "      <td>2</td>\n",
       "      <td>International</td>\n",
       "      <td>20</td>\n",
       "      <td>Blue · Butcher &amp; Meat Specialist</td>\n",
       "      <td>(30 Reviews)</td>\n",
       "      <td>$201-400</td>\n",
       "      <td>22.2835</td>\n",
       "      <td>114.1511</td>\n",
       "      <td>Central and Western</td>\n",
       "    </tr>\n",
       "  </tbody>\n",
       "</table>\n",
       "</div>"
      ],
      "text/plain": [
       "                          address  bookmarks  dislikes        food_type  \\\n",
       "0  Shop J-K., 200 Hollywood Road,       5838         6  Hong Kong Style   \n",
       "1  Shop J-K., 200 Hollywood Road,       5838         6   Tea Restaurant   \n",
       "2        G/F, 108 Hollywood Road,       3492         2    International   \n",
       "3        G/F, 108 Hollywood Road,       2259        10          Western   \n",
       "4        G/F, 108 Hollywood Road,       3492         2    International   \n",
       "\n",
       "   likes                              name number_of_reviews price_range  \\\n",
       "0     78         For Kee Restaurant 科記咖啡餐室     (133 Reviews)   Below $50   \n",
       "1     78         For Kee Restaurant 科記咖啡餐室     (133 Reviews)   Below $50   \n",
       "2     20  Blue · Butcher & Meat Specialist      (30 Reviews)    $201-400   \n",
       "3     35                        Classified      (71 Reviews)    $101-200   \n",
       "4     20  Blue · Butcher & Meat Specialist      (30 Reviews)    $201-400   \n",
       "\n",
       "   latitude  longitude             district  \n",
       "0   22.2852   114.1478  Central and Western  \n",
       "1   22.2852   114.1478  Central and Western  \n",
       "2   22.2835   114.1511  Central and Western  \n",
       "3   22.2835   114.1511  Central and Western  \n",
       "4   22.2835   114.1511  Central and Western  "
      ]
     },
     "execution_count": 55,
     "metadata": {},
     "output_type": "execute_result"
    }
   ],
   "source": [
    "df.head()"
   ]
  },
  {
   "cell_type": "markdown",
   "metadata": {},
   "source": [
    "We could then get the counts for all of a paritcular food type in a district like so."
   ]
  },
  {
   "cell_type": "code",
   "execution_count": 56,
   "metadata": {},
   "outputs": [
    {
     "data": {
      "text/plain": [
       "Yau Tsim Mong          218\n",
       "Central and Western    120\n",
       "Wan Chai                87\n",
       "Eastern                 64\n",
       "Kwun Tong               64\n",
       "Sha Tin                 40\n",
       "Sham Shui Po            37\n",
       "Southern                35\n",
       "Kowloon City            35\n",
       "Tsuen Wan               30\n",
       "Yuen Long               28\n",
       "Sai Kung                26\n",
       "Kwai Tsing              25\n",
       "Wong Tai Sin            21\n",
       "Tai Po                  18\n",
       "North                   16\n",
       "Tuen Mun                11\n",
       "Islands                  9\n",
       "Name: district, dtype: int64"
      ]
     },
     "execution_count": 56,
     "metadata": {},
     "output_type": "execute_result"
    }
   ],
   "source": [
    "df[df[\"food_type\"] == \"International\"].district.value_counts()"
   ]
  },
  {
   "cell_type": "markdown",
   "metadata": {},
   "source": [
    "** 1. ** Use district counts like the one above to create a choropleth map to visulize the resturant styles in Hong Kong. You can use these notebooks a a reference.\n",
    "\n",
    "\n",
    "* [Choropleth](http://nbviewer.jupyter.org/github/python-visualization/folium/blob/master/examples/GeoJSON_and_choropleth.ipynb)\n",
    "* [Time Slider choropleth](http://nbviewer.jupyter.org/github/python-visualization/folium/blob/master/examples/TimeSliderChoropleth.ipynb)"
   ]
  },
  {
   "cell_type": "code",
   "execution_count": null,
   "metadata": {},
   "outputs": [],
   "source": [
    "# %load solutions/choropleth.py"
   ]
  }
 ],
 "metadata": {
  "kernelspec": {
   "display_name": "Python 3",
   "language": "python",
   "name": "python3"
  },
  "language_info": {
   "codemirror_mode": {
    "name": "ipython",
    "version": 3
   },
   "file_extension": ".py",
   "mimetype": "text/x-python",
   "name": "python",
   "nbconvert_exporter": "python",
   "pygments_lexer": "ipython3",
   "version": "3.6.3"
  }
 },
 "nbformat": 4,
 "nbformat_minor": 2
}
