{
 "cells": [
  {
   "cell_type": "markdown",
   "metadata": {},
   "source": [
    "# Open rice\n",
    "\n",
    "In this exercise we'll use folium to help visulize the open rice dataset. You may find [these](http://nbviewer.jupyter.org/github/python-visualization/folium/tree/master/examples/) reference notebooks helpfull"
   ]
  },
  {
   "cell_type": "markdown",
   "metadata": {},
   "source": [
    "## Markers"
   ]
  },
  {
   "cell_type": "code",
   "execution_count": 1,
   "metadata": {},
   "outputs": [],
   "source": [
    "import folium\n",
    "import pandas as pd\n",
    "import json"
   ]
  },
  {
   "cell_type": "code",
   "execution_count": 2,
   "metadata": {},
   "outputs": [],
   "source": [
    "hkjson = json.load(open(\"data/hk_geo.json\"))"
   ]
  },
  {
   "cell_type": "code",
   "execution_count": 3,
   "metadata": {},
   "outputs": [],
   "source": [
    "df = pd.read_csv('data/geotagged-openrice.csv')"
   ]
  },
  {
   "cell_type": "markdown",
   "metadata": {},
   "source": [
    "** 1. ** Use folium to draw a pop up marker for the location of 10 resturants."
   ]
  },
  {
   "cell_type": "code",
   "execution_count": 4,
   "metadata": {},
   "outputs": [
    {
     "data": {
      "text/html": [
       "<div>\n",
       "<style scoped>\n",
       "    .dataframe tbody tr th:only-of-type {\n",
       "        vertical-align: middle;\n",
       "    }\n",
       "\n",
       "    .dataframe tbody tr th {\n",
       "        vertical-align: top;\n",
       "    }\n",
       "\n",
       "    .dataframe thead th {\n",
       "        text-align: right;\n",
       "    }\n",
       "</style>\n",
       "<table border=\"1\" class=\"dataframe\">\n",
       "  <thead>\n",
       "    <tr style=\"text-align: right;\">\n",
       "      <th></th>\n",
       "      <th>address</th>\n",
       "      <th>bookmarks</th>\n",
       "      <th>dislikes</th>\n",
       "      <th>food_type</th>\n",
       "      <th>likes</th>\n",
       "      <th>name</th>\n",
       "      <th>number_of_reviews</th>\n",
       "      <th>price_range</th>\n",
       "      <th>latitude</th>\n",
       "      <th>longitude</th>\n",
       "    </tr>\n",
       "  </thead>\n",
       "  <tbody>\n",
       "    <tr>\n",
       "      <th>0</th>\n",
       "      <td>Shop J-K., 200 Hollywood Road,</td>\n",
       "      <td>5838</td>\n",
       "      <td>6</td>\n",
       "      <td>Hong Kong Style</td>\n",
       "      <td>78</td>\n",
       "      <td>For Kee Restaurant 科記咖啡餐室</td>\n",
       "      <td>(133 Reviews)</td>\n",
       "      <td>Below $50</td>\n",
       "      <td>22.2852</td>\n",
       "      <td>114.1478</td>\n",
       "    </tr>\n",
       "    <tr>\n",
       "      <th>1</th>\n",
       "      <td>Shop J-K., 200 Hollywood Road,</td>\n",
       "      <td>5838</td>\n",
       "      <td>6</td>\n",
       "      <td>Tea Restaurant</td>\n",
       "      <td>78</td>\n",
       "      <td>For Kee Restaurant 科記咖啡餐室</td>\n",
       "      <td>(133 Reviews)</td>\n",
       "      <td>Below $50</td>\n",
       "      <td>22.2852</td>\n",
       "      <td>114.1478</td>\n",
       "    </tr>\n",
       "    <tr>\n",
       "      <th>2</th>\n",
       "      <td>G/F, 108 Hollywood Road,</td>\n",
       "      <td>3492</td>\n",
       "      <td>2</td>\n",
       "      <td>International</td>\n",
       "      <td>20</td>\n",
       "      <td>Blue · Butcher &amp; Meat Specialist</td>\n",
       "      <td>(30 Reviews)</td>\n",
       "      <td>$201-400</td>\n",
       "      <td>22.2835</td>\n",
       "      <td>114.1511</td>\n",
       "    </tr>\n",
       "    <tr>\n",
       "      <th>3</th>\n",
       "      <td>G/F, 108 Hollywood Road,</td>\n",
       "      <td>2259</td>\n",
       "      <td>10</td>\n",
       "      <td>Western</td>\n",
       "      <td>35</td>\n",
       "      <td>Classified</td>\n",
       "      <td>(71 Reviews)</td>\n",
       "      <td>$101-200</td>\n",
       "      <td>22.2835</td>\n",
       "      <td>114.1511</td>\n",
       "    </tr>\n",
       "    <tr>\n",
       "      <th>4</th>\n",
       "      <td>G/F, 108 Hollywood Road,</td>\n",
       "      <td>3492</td>\n",
       "      <td>2</td>\n",
       "      <td>International</td>\n",
       "      <td>20</td>\n",
       "      <td>Blue · Butcher &amp; Meat Specialist</td>\n",
       "      <td>(30 Reviews)</td>\n",
       "      <td>$201-400</td>\n",
       "      <td>22.2835</td>\n",
       "      <td>114.1511</td>\n",
       "    </tr>\n",
       "  </tbody>\n",
       "</table>\n",
       "</div>"
      ],
      "text/plain": [
       "                          address  bookmarks  dislikes        food_type  \\\n",
       "0  Shop J-K., 200 Hollywood Road,       5838         6  Hong Kong Style   \n",
       "1  Shop J-K., 200 Hollywood Road,       5838         6   Tea Restaurant   \n",
       "2        G/F, 108 Hollywood Road,       3492         2    International   \n",
       "3        G/F, 108 Hollywood Road,       2259        10          Western   \n",
       "4        G/F, 108 Hollywood Road,       3492         2    International   \n",
       "\n",
       "   likes                              name number_of_reviews price_range  \\\n",
       "0     78         For Kee Restaurant 科記咖啡餐室     (133 Reviews)   Below $50   \n",
       "1     78         For Kee Restaurant 科記咖啡餐室     (133 Reviews)   Below $50   \n",
       "2     20  Blue · Butcher & Meat Specialist      (30 Reviews)    $201-400   \n",
       "3     35                        Classified      (71 Reviews)    $101-200   \n",
       "4     20  Blue · Butcher & Meat Specialist      (30 Reviews)    $201-400   \n",
       "\n",
       "   latitude  longitude  \n",
       "0   22.2852   114.1478  \n",
       "1   22.2852   114.1478  \n",
       "2   22.2835   114.1511  \n",
       "3   22.2835   114.1511  \n",
       "4   22.2835   114.1511  "
      ]
     },
     "execution_count": 4,
     "metadata": {},
     "output_type": "execute_result"
    }
   ],
   "source": [
    "map_openrice = folium.Map( locations = df9)"
   ]
  },
  {
   "cell_type": "code",
   "execution_count": null,
   "metadata": {},
   "outputs": [],
   "source": [
    "# %load solutions/draw_markers.py"
   ]
  },
  {
   "cell_type": "code",
   "execution_count": 8,
   "metadata": {},
   "outputs": [
    {
     "data": {
      "text/plain": [
       "array([[ 22.2852, 114.1478],\n",
       "       [ 22.2852, 114.1478],\n",
       "       [ 22.2835, 114.1511],\n",
       "       [ 22.2835, 114.1511],\n",
       "       [ 22.2835, 114.1511],\n",
       "       [ 22.2853, 114.1477],\n",
       "       [ 22.2853, 114.1477],\n",
       "       [ 22.2879, 114.1518],\n",
       "       [ 22.2879, 114.1518],\n",
       "       [ 22.2867, 114.1479]])"
      ]
     },
     "execution_count": 8,
     "metadata": {},
     "output_type": "execute_result"
    }
   ],
   "source": [
    "df[[\"latitude\",\"longitude\"]].values[:10]"
   ]
  },
  {
   "cell_type": "markdown",
   "metadata": {},
   "source": [
    "## Choropleth \n",
    "\n",
    "Before we can create a choropleth map we need to calculate if a point falls within a district. We can use shapely to calculate if a point falls within a polygon."
   ]
  },
  {
   "cell_type": "code",
   "execution_count": 50,
   "metadata": {},
   "outputs": [],
   "source": [
    "from geojson import utils #used to get coordinates from geo json\n",
    "from shapely.geometry import Point, Polygon\n",
    "import numpy as np"
   ]
  },
  {
   "cell_type": "code",
   "execution_count": 51,
   "metadata": {},
   "outputs": [],
   "source": [
    "polygons  = [ Polygon(utils.coords(each)) for each in hkjson[\"features\"]] \n",
    "points = [ Point(p) for p  in df[[\"longitude\",\"latitude\"]].values]"
   ]
  },
  {
   "cell_type": "code",
   "execution_count": 52,
   "metadata": {},
   "outputs": [],
   "source": [
    "def find_district(polygons,districts,point):\n",
    "    \n",
    "    assert len(districts) == len(polygons)\n",
    "    \n",
    "    for i,polygon in enumerate(polygons):\n",
    "        if polygon.contains(point):\n",
    "            return districts[i]\n",
    "    return np.nan\n"
   ]
  },
  {
   "cell_type": "code",
   "execution_count": 53,
   "metadata": {},
   "outputs": [
    {
     "data": {
      "text/plain": [
       "'Central and Western'"
      ]
     },
     "execution_count": 53,
     "metadata": {},
     "output_type": "execute_result"
    }
   ],
   "source": [
    "find_district(polygons,districts,points[1])"
   ]
  },
  {
   "cell_type": "code",
   "execution_count": 54,
   "metadata": {},
   "outputs": [],
   "source": [
    "#quite slow be patient\n",
    "resturant_district = [find_district(polygons,districts,point) for point in points]"
   ]
  },
  {
   "cell_type": "code",
   "execution_count": 48,
   "metadata": {},
   "outputs": [],
   "source": [
    "df[\"district\"] = resturant_district"
   ]
  },
  {
   "cell_type": "code",
   "execution_count": 55,
   "metadata": {},
   "outputs": [
    {
     "data": {
      "text/html": [
       "<div>\n",
       "<style scoped>\n",
       "    .dataframe tbody tr th:only-of-type {\n",
       "        vertical-align: middle;\n",
       "    }\n",
       "\n",
       "    .dataframe tbody tr th {\n",
       "        vertical-align: top;\n",
       "    }\n",
       "\n",
       "    .dataframe thead th {\n",
       "        text-align: right;\n",
       "    }\n",
       "</style>\n",
       "<table border=\"1\" class=\"dataframe\">\n",
       "  <thead>\n",
       "    <tr style=\"text-align: right;\">\n",
       "      <th></th>\n",
       "      <th>address</th>\n",
       "      <th>bookmarks</th>\n",
       "      <th>dislikes</th>\n",
       "      <th>food_type</th>\n",
       "      <th>likes</th>\n",
       "      <th>name</th>\n",
       "      <th>number_of_reviews</th>\n",
       "      <th>price_range</th>\n",
       "      <th>latitude</th>\n",
       "      <th>longitude</th>\n",
       "      <th>district</th>\n",
       "    </tr>\n",
       "  </thead>\n",
       "  <tbody>\n",
       "    <tr>\n",
       "      <th>0</th>\n",
       "      <td>Shop J-K., 200 Hollywood Road,</td>\n",
       "      <td>5838</td>\n",
       "      <td>6</td>\n",
       "      <td>Hong Kong Style</td>\n",
       "      <td>78</td>\n",
       "      <td>For Kee Restaurant 科記咖啡餐室</td>\n",
       "      <td>(133 Reviews)</td>\n",
       "      <td>Below $50</td>\n",
       "      <td>22.2852</td>\n",
       "      <td>114.1478</td>\n",
       "      <td>Central and Western</td>\n",
       "    </tr>\n",
       "    <tr>\n",
       "      <th>1</th>\n",
       "      <td>Shop J-K., 200 Hollywood Road,</td>\n",
       "      <td>5838</td>\n",
       "      <td>6</td>\n",
       "      <td>Tea Restaurant</td>\n",
       "      <td>78</td>\n",
       "      <td>For Kee Restaurant 科記咖啡餐室</td>\n",
       "      <td>(133 Reviews)</td>\n",
       "      <td>Below $50</td>\n",
       "      <td>22.2852</td>\n",
       "      <td>114.1478</td>\n",
       "      <td>Central and Western</td>\n",
       "    </tr>\n",
       "    <tr>\n",
       "      <th>2</th>\n",
       "      <td>G/F, 108 Hollywood Road,</td>\n",
       "      <td>3492</td>\n",
       "      <td>2</td>\n",
       "      <td>International</td>\n",
       "      <td>20</td>\n",
       "      <td>Blue · Butcher &amp; Meat Specialist</td>\n",
       "      <td>(30 Reviews)</td>\n",
       "      <td>$201-400</td>\n",
       "      <td>22.2835</td>\n",
       "      <td>114.1511</td>\n",
       "      <td>Central and Western</td>\n",
       "    </tr>\n",
       "    <tr>\n",
       "      <th>3</th>\n",
       "      <td>G/F, 108 Hollywood Road,</td>\n",
       "      <td>2259</td>\n",
       "      <td>10</td>\n",
       "      <td>Western</td>\n",
       "      <td>35</td>\n",
       "      <td>Classified</td>\n",
       "      <td>(71 Reviews)</td>\n",
       "      <td>$101-200</td>\n",
       "      <td>22.2835</td>\n",
       "      <td>114.1511</td>\n",
       "      <td>Central and Western</td>\n",
       "    </tr>\n",
       "    <tr>\n",
       "      <th>4</th>\n",
       "      <td>G/F, 108 Hollywood Road,</td>\n",
       "      <td>3492</td>\n",
       "      <td>2</td>\n",
       "      <td>International</td>\n",
       "      <td>20</td>\n",
       "      <td>Blue · Butcher &amp; Meat Specialist</td>\n",
       "      <td>(30 Reviews)</td>\n",
       "      <td>$201-400</td>\n",
       "      <td>22.2835</td>\n",
       "      <td>114.1511</td>\n",
       "      <td>Central and Western</td>\n",
       "    </tr>\n",
       "  </tbody>\n",
       "</table>\n",
       "</div>"
      ],
      "text/plain": [
       "                          address  bookmarks  dislikes        food_type  \\\n",
       "0  Shop J-K., 200 Hollywood Road,       5838         6  Hong Kong Style   \n",
       "1  Shop J-K., 200 Hollywood Road,       5838         6   Tea Restaurant   \n",
       "2        G/F, 108 Hollywood Road,       3492         2    International   \n",
       "3        G/F, 108 Hollywood Road,       2259        10          Western   \n",
       "4        G/F, 108 Hollywood Road,       3492         2    International   \n",
       "\n",
       "   likes                              name number_of_reviews price_range  \\\n",
       "0     78         For Kee Restaurant 科記咖啡餐室     (133 Reviews)   Below $50   \n",
       "1     78         For Kee Restaurant 科記咖啡餐室     (133 Reviews)   Below $50   \n",
       "2     20  Blue · Butcher & Meat Specialist      (30 Reviews)    $201-400   \n",
       "3     35                        Classified      (71 Reviews)    $101-200   \n",
       "4     20  Blue · Butcher & Meat Specialist      (30 Reviews)    $201-400   \n",
       "\n",
       "   latitude  longitude             district  \n",
       "0   22.2852   114.1478  Central and Western  \n",
       "1   22.2852   114.1478  Central and Western  \n",
       "2   22.2835   114.1511  Central and Western  \n",
       "3   22.2835   114.1511  Central and Western  \n",
       "4   22.2835   114.1511  Central and Western  "
      ]
     },
     "execution_count": 55,
     "metadata": {},
     "output_type": "execute_result"
    }
   ],
   "source": [
    "df.head()"
   ]
  },
  {
   "cell_type": "markdown",
   "metadata": {},
   "source": [
    "We could then get the counts for all of a paritcular food type in a district like so."
   ]
  },
  {
   "cell_type": "code",
   "execution_count": 56,
   "metadata": {},
   "outputs": [
    {
     "data": {
      "text/plain": [
       "Yau Tsim Mong          218\n",
       "Central and Western    120\n",
       "Wan Chai                87\n",
       "Eastern                 64\n",
       "Kwun Tong               64\n",
       "Sha Tin                 40\n",
       "Sham Shui Po            37\n",
       "Southern                35\n",
       "Kowloon City            35\n",
       "Tsuen Wan               30\n",
       "Yuen Long               28\n",
       "Sai Kung                26\n",
       "Kwai Tsing              25\n",
       "Wong Tai Sin            21\n",
       "Tai Po                  18\n",
       "North                   16\n",
       "Tuen Mun                11\n",
       "Islands                  9\n",
       "Name: district, dtype: int64"
      ]
     },
     "execution_count": 56,
     "metadata": {},
     "output_type": "execute_result"
    }
   ],
   "source": [
    "df[df[\"food_type\"] == \"International\"].district.value_counts()"
   ]
  },
  {
   "cell_type": "markdown",
   "metadata": {},
   "source": [
    "** 1. ** Use district counts like the one above to create a choropleth map to visulize the resturant styles in Hong Kong. You can use these notebooks a a reference.\n",
    "\n",
    "\n",
    "* [Choropleth](http://nbviewer.jupyter.org/github/python-visualization/folium/blob/master/examples/GeoJSON_and_choropleth.ipynb)\n",
    "* [Time Slider choropleth](http://nbviewer.jupyter.org/github/python-visualization/folium/blob/master/examples/TimeSliderChoropleth.ipynb)"
   ]
  },
  {
   "cell_type": "code",
   "execution_count": null,
   "metadata": {},
   "outputs": [],
   "source": [
    "# %load solutions/choropleth.py"
   ]
  }
 ],
 "metadata": {
  "kernelspec": {
   "display_name": "Python 3",
   "language": "python",
   "name": "python3"
  },
  "language_info": {
   "codemirror_mode": {
    "name": "ipython",
    "version": 3
   },
   "file_extension": ".py",
   "mimetype": "text/x-python",
   "name": "python",
   "nbconvert_exporter": "python",
   "pygments_lexer": "ipython3",
   "version": "3.6.3"
  }
 },
 "nbformat": 4,
 "nbformat_minor": 2
}
