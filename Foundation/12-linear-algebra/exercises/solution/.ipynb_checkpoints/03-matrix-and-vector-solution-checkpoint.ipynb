{
 "cells": [
  {
   "cell_type": "markdown",
   "metadata": {},
   "source": [
    "# Exercise 1: Matrix and Vector calculation\n",
    "\n",
    "### The following figure shows the representation of matrices and vectors, using numpy and scipy.linalg to answer to newly formed matrix "
   ]
  },
  {
   "cell_type": "markdown",
   "metadata": {},
   "source": [
    "![example of matrix and vecor](img/matrixandvector.png)"
   ]
  },
  {
   "cell_type": "markdown",
   "metadata": {},
   "source": [
    "In each of the following questions from question 11 to question 20, calculate result or state whether and why it is not defined"
   ]
  },
  {
   "cell_type": "markdown",
   "metadata": {},
   "source": [
    "![questions](img/matrixandvectorquestion.png)"
   ]
  },
  {
   "cell_type": "code",
   "execution_count": 7,
   "metadata": {},
   "outputs": [
    {
     "name": "stdout",
     "output_type": "stream",
     "text": [
      "[[ 4 -2  3]\n",
      " [-2  1  6]\n",
      " [ 1  2  2]]\n",
      "[[ 1 -3  0]\n",
      " [-3  1  0]\n",
      " [ 0  0 -2]]\n",
      "[[ 0  1]\n",
      " [ 3  2]\n",
      " [-2  0]]\n",
      "[[ 1 -2  0]]\n",
      "[[ 3]\n",
      " [ 1]\n",
      " [-1]]\n"
     ]
    }
   ],
   "source": [
    "import numpy as np\n",
    "\n",
    "A = np.array([[4,-2,3],[-2,1,6],[1,2,2]])\n",
    "B = np.array([[1,-3,0],[-3,1,0],[0,0,-2]])\n",
    "C = np.array([[0,1],[3,2],[-2,0]])\n",
    "a = np.array([[1,-2,0]])\n",
    "b_t = np.array([[3,1,-1]])\n",
    "b = b_t.T\n",
    "\n",
    "print(A)\n",
    "print(B)\n",
    "print(C)\n",
    "print(a)\n",
    "print(b)"
   ]
  },
  {
   "cell_type": "code",
   "execution_count": 14,
   "metadata": {},
   "outputs": [
    {
     "name": "stdout",
     "output_type": "stream",
     "text": [
      "[[ 10 -14  -6]\n",
      " [ -5   7 -12]\n",
      " [ -5  -1  -4]]\n",
      "[[ 10 -14  -6]\n",
      " [ -5   7 -12]\n",
      " [ -5  -1  -4]]\n",
      "[[ 10  -5 -15]\n",
      " [-14   7  -3]\n",
      " [ -2  -4  -4]]\n",
      "[[ 10  -5 -15]\n",
      " [-14   7  -3]\n",
      " [ -2  -4  -4]]\n"
     ]
    }
   ],
   "source": [
    "# 11\n",
    "print(np.dot(A,B))\n",
    "print(np.dot(A,B.T))\n",
    "print(np.dot(B,A))\n",
    "print(np.dot(B.T,A))"
   ]
  },
  {
   "cell_type": "code",
   "execution_count": 15,
   "metadata": {},
   "outputs": [
    {
     "name": "stdout",
     "output_type": "stream",
     "text": [
      "[[29  8  6]\n",
      " [ 8 41 12]\n",
      " [ 6 12  9]]\n",
      "[[23 -4  6]\n",
      " [-4 17 12]\n",
      " [ 2  4 19]]\n",
      "[[10 -6  0]\n",
      " [-6 10  0]\n",
      " [ 0  0  4]]\n",
      "[[10 -6  0]\n",
      " [-6 10  0]\n",
      " [ 0  0  4]]\n"
     ]
    }
   ],
   "source": [
    "# 12\n",
    "print(np.dot(A,A.T))\n",
    "print(np.dot(A,A))\n",
    "print(np.dot(B,B.T))\n",
    "print(np.dot(B,B))"
   ]
  },
  {
   "cell_type": "code",
   "execution_count": 18,
   "metadata": {},
   "outputs": [
    {
     "name": "stdout",
     "output_type": "stream",
     "text": [
      "[[ 1  2  0]\n",
      " [ 2 13 -6]\n",
      " [ 0 -6  4]]\n",
      "[[-9 -5]\n",
      " [ 3 -1]\n",
      " [ 4  0]]\n",
      "(3, 2) (3, 3)\n",
      "[[-9  3  4]\n",
      " [-5 -1  0]]\n"
     ]
    }
   ],
   "source": [
    "# 13\n",
    "print(np.dot(C,C.T))\n",
    "print(np.dot(B,C))\n",
    "# print(np.dot(C,B))\n",
    "print(C.shape,B.shape) # dimension not match\n",
    "print(np.dot(C.T,B))"
   ]
  },
  {
   "cell_type": "code",
   "execution_count": 19,
   "metadata": {},
   "outputs": [
    {
     "name": "stdout",
     "output_type": "stream",
     "text": [
      "[[10  0  9]\n",
      " [ 0  1 18]\n",
      " [ 3  6 10]]\n",
      "[[10  0  3]\n",
      " [ 0  1  6]\n",
      " [ 9 18 10]]\n",
      "[[10  0  3]\n",
      " [ 0  1  6]\n",
      " [ 9 18 10]]\n",
      "[[ 10]\n",
      " [ -2]\n",
      " [-27]]\n"
     ]
    }
   ],
   "source": [
    "# 14\n",
    "print(3*A-2*B)\n",
    "print((3*A-2*B).T)\n",
    "print(3*A.T-2*B.T)\n",
    "print(np.dot((3*A-2*B).T,a.T))"
   ]
  },
  {
   "cell_type": "code",
   "execution_count": 21,
   "metadata": {},
   "outputs": [
    {
     "name": "stdout",
     "output_type": "stream",
     "text": [
      "(3, 3) (1, 3)\n",
      "[[ 8]\n",
      " [-4]\n",
      " [-3]]\n",
      "[[  7 -11   3]]\n",
      "[[  7 -11   3]]\n"
     ]
    }
   ],
   "source": [
    "# 15\n",
    "# print(np.dot(A,a))\n",
    "print(A.shape,a.shape) # dimension not match\n",
    "\n",
    "print(np.dot(A,a.T))\n",
    "print(np.dot(A,b).T)\n",
    "print(np.dot(b.T,A.T))"
   ]
  },
  {
   "cell_type": "code",
   "execution_count": 24,
   "metadata": {},
   "outputs": [
    {
     "name": "stdout",
     "output_type": "stream",
     "text": [
      "[[-9 -5]\n",
      " [ 3 -1]\n",
      " [ 4  0]]\n",
      "(3, 3) (2, 3)\n",
      "[[ 0]\n",
      " [-8]\n",
      " [ 2]]\n",
      "[[ 0 -8  2]]\n"
     ]
    }
   ],
   "source": [
    "# 16\n",
    "print(np.dot(B,C))\n",
    "# print(np.dot(B,C.T))\n",
    "print(B.shape,C.T.shape) # dimension not match\n",
    " \n",
    "print(np.dot(B,b))\n",
    "print(np.dot(b.T,B))"
   ]
  },
  {
   "cell_type": "code",
   "execution_count": 32,
   "metadata": {},
   "outputs": [
    {
     "name": "stdout",
     "output_type": "stream",
     "text": [
      "[[-30 -18]\n",
      " [ 45   9]\n",
      " [  5  -7]]\n",
      "(3, 3) (1, 3)\n",
      "[[ 22]\n",
      " [  4]\n",
      " [-12]]\n",
      "(3, 2) (3, 1)\n"
     ]
    }
   ],
   "source": [
    "# 17\n",
    "print(np.dot(np.dot(A,B),C))\n",
    "# print(np.dot(np.dot(A,B),a))\n",
    "print(np.dot(A,B).shape,a.shape) # dimension not match\n",
    "\n",
    "print(np.dot(np.dot(A,B),b))\n",
    "# print(np.dot(C,a.T))\n",
    "print(C.shape,a.T.shape) # dimension not match"
   ]
  },
  {
   "cell_type": "code",
   "execution_count": 40,
   "metadata": {},
   "outputs": [
    {
     "name": "stdout",
     "output_type": "stream",
     "text": [
      "[[1]]\n",
      "[[ 3 -6  0]\n",
      " [ 1 -2  0]\n",
      " [-1  2  0]]\n",
      "[[ 8 -4 -9]]\n",
      "[[ 0]\n",
      " [-8]\n",
      " [ 2]]\n"
     ]
    }
   ],
   "source": [
    "# 18\n",
    "print(np.dot(a,b))\n",
    "print(np.dot(b,a))\n",
    "print(np.dot(a,A))\n",
    "print(np.dot(B,b))"
   ]
  },
  {
   "cell_type": "code",
   "execution_count": 44,
   "metadata": {},
   "outputs": [
    {
     "name": "stdout",
     "output_type": "stream",
     "text": [
      "[[10.5  6.   9. ]\n",
      " [ 4.5  0.   3. ]\n",
      " [-1.5 -6.  -3. ]]\n",
      "[[10.5]\n",
      " [ 0. ]\n",
      " [-3. ]]\n",
      "[[ 7]\n",
      " [-3]\n",
      " [ 1]]\n",
      "[[ 7]\n",
      " [-3]\n",
      " [ 1]]\n"
     ]
    }
   ],
   "source": [
    "# 19\n",
    "print(1.5*a+3*b)\n",
    "print(1.5*a.T+3*b)\n",
    "\n",
    "print(np.dot((A-B),b))\n",
    "print(np.dot(A,b)-np.dot(B,b))\n"
   ]
  },
  {
   "cell_type": "code",
   "execution_count": 50,
   "metadata": {},
   "outputs": [
    {
     "name": "stdout",
     "output_type": "stream",
     "text": [
      "[[7]]\n",
      "[[17]]\n",
      "[[ -3 -24  12]]\n",
      "[[  5 -10   0]\n",
      " [  5 -10   0]]\n"
     ]
    }
   ],
   "source": [
    "# 20\n",
    "print(np.dot(np.dot(b.T,A),b))\n",
    "print(np.dot(np.dot(a,B),a.T))\n",
    "print(np.dot(np.dot(a,C),C.T))\n",
    "print(np.dot(np.dot(C.T,b),a))"
   ]
  },
  {
   "cell_type": "code",
   "execution_count": null,
   "metadata": {},
   "outputs": [],
   "source": []
  },
  {
   "cell_type": "markdown",
   "metadata": {},
   "source": [
    "# Exercise 2: Concert Subscription\n",
    "\n",
    "In a community of 100,000 adults, subscribers to a concert series tend to renew their subscription with probability 0.9 and persons presently not subscribing will subscribe for the next season with probability 0.002. If the present number of subscribers is 1200, can one predict an increase, decrease, or no change over each of the next three seasons?"
   ]
  },
  {
   "cell_type": "code",
   "execution_count": 3,
   "metadata": {},
   "outputs": [
    {
     "name": "stdout",
     "output_type": "stream",
     "text": [
      "[[0.9   0.002]\n",
      " [0.1   0.998]]\n",
      "[[ 1200]\n",
      " [98800]]\n",
      "[[ 1409.8617504]\n",
      " [98590.1382496]]\n",
      "[[ 1277.6]\n",
      " [98722.4]]\n"
     ]
    }
   ],
   "source": [
    "# The question is solved by defining the transition matrix \n",
    "\n",
    "import numpy as np\n",
    "from scipy import linalg\n",
    "\n",
    "transition_matrix = np.array([[0.9,0.002],[0.1,0.998]])\n",
    "sub_type = np.array([[1200],[100000-1200]])\n",
    "\n",
    "A = transition_matrix\n",
    "b = sub_type\n",
    "\n",
    "result = np.dot(A,np.dot(A,np.dot(A,b)))\n",
    "\n",
    "\n",
    "print(A)\n",
    "print(b)\n",
    "#print(Ainv)\n",
    "print(result)\n",
    "\n",
    "# after 3 seasons, number of subscribers increase"
   ]
  },
  {
   "cell_type": "code",
   "execution_count": null,
   "metadata": {},
   "outputs": [],
   "source": []
  },
  {
   "cell_type": "markdown",
   "metadata": {},
   "source": [
    "# Exercise 3: Profit Vector\n",
    "\n",
    "Profit vector. Two factory outlets F1 and F2 in New York and Los Angeles sell sofas (S), chairs (C), and tables (T) with a profit of 35, 62 and 30, respectively. Let the sales in a certain week be given by the matrix below.\n",
    "Introduce a “profit vector” p such that the components of v=Ap give the total profits of F1 and F2 .\n"
   ]
  },
  {
   "cell_type": "markdown",
   "metadata": {},
   "source": [
    "![factory matrix](img/factorymatrix.png)"
   ]
  },
  {
   "cell_type": "code",
   "execution_count": 62,
   "metadata": {},
   "outputs": [
    {
     "name": "stdout",
     "output_type": "stream",
     "text": [
      "[[400  60 240]\n",
      " [100 120 500]]\n",
      "[35 62 30]\n",
      "The total profit for F1 is $ 24920\n",
      "The total profit for F2 is $ 25940\n"
     ]
    }
   ],
   "source": [
    "import numpy as np\n",
    "\n",
    "A = np.array([[400,60,240],[100,120,500]])\n",
    "p = np.array([35,62,30])\n",
    "\n",
    "print(A)\n",
    "print(p.T)\n",
    "\n",
    "v = np.dot(A,p.T)\n",
    "print(\"The total profit for F1 is $\",v[0])\n",
    "print(\"The total profit for F2 is $\",v[1])"
   ]
  },
  {
   "cell_type": "markdown",
   "metadata": {},
   "source": [
    "# Exercise 4: Solving System of Linear Equation\n",
    "\n",
    "Using Numpy and Scipy.linalg to solve the system of linear equations in the following"
   ]
  },
  {
   "cell_type": "markdown",
   "metadata": {},
   "source": [
    "![System of Linear Equation Exercise 1](img/linearsystemex1.png)"
   ]
  },
  {
   "cell_type": "markdown",
   "metadata": {},
   "source": [
    "![System of Linear Equation Exercise 2](img/linearsystemex2.png)"
   ]
  },
  {
   "cell_type": "markdown",
   "metadata": {},
   "source": [
    "![System of Linear Equation Exercise 3](img/linearsystemex3.png)"
   ]
  },
  {
   "cell_type": "code",
   "execution_count": 70,
   "metadata": {},
   "outputs": [
    {
     "name": "stdout",
     "output_type": "stream",
     "text": [
      "[[ 4 -6]\n",
      " [-3  8]]\n",
      "[[0.57142857 0.42857143]\n",
      " [0.21428571 0.28571429]]\n",
      "[[-11]\n",
      " [ 10]]\n",
      "[[-2. ]\n",
      " [ 0.5]]\n",
      "[[-2. ]\n",
      " [ 0.5]]\n",
      "-11.0\n",
      "10.0\n"
     ]
    }
   ],
   "source": [
    "# Q1\n",
    "\n",
    "import numpy as np\n",
    "from scipy import linalg\n",
    "\n",
    "A = np.array([[4,-6],[-3,8]])\n",
    "b = np.array([[-11],[10]])\n",
    "Ainv = linalg.inv(A)\n",
    "result = np.dot(Ainv,b)\n",
    "\n",
    "# using linalg from scipy package\n",
    "result2 = linalg.solve(A,b)\n",
    "\n",
    "print(A)\n",
    "print(Ainv)\n",
    "print(b)\n",
    "print(result)\n",
    "print(result2)\n",
    "\n",
    "# x = -2, y = 0.5\n",
    "\n",
    "print(4*-2-6*0.5)\n",
    "print(-3*-2+8*0.5)"
   ]
  },
  {
   "cell_type": "code",
   "execution_count": 74,
   "metadata": {},
   "outputs": [
    {
     "name": "stdout",
     "output_type": "stream",
     "text": [
      "[[ 1  1 -1]\n",
      " [ 0  8  6]\n",
      " [-2  4 -6]]\n",
      "[[ 0.72 -0.02 -0.14]\n",
      " [ 0.12  0.08  0.06]\n",
      " [-0.16  0.06 -0.08]]\n",
      "[[ 9]\n",
      " [-6]\n",
      " [40]]\n",
      "[[ 1.]\n",
      " [ 3.]\n",
      " [-5.]]\n",
      "[[ 1.]\n",
      " [ 3.]\n",
      " [-5.]]\n",
      "9\n",
      "-6\n",
      "40\n"
     ]
    }
   ],
   "source": [
    "# Q2\n",
    "\n",
    "import numpy as np\n",
    "from scipy import linalg\n",
    "\n",
    "A = np.array([[1,1,-1],[0,8,6],[-2,4,-6]])\n",
    "b = np.array([[9],[-6],[40]])\n",
    "Ainv = linalg.inv(A)\n",
    "result = np.dot(Ainv,b)\n",
    "\n",
    "# using linalg from scipy package\n",
    "result2 = linalg.solve(A,b)\n",
    "\n",
    "print(A)\n",
    "print(Ainv)\n",
    "print(b)\n",
    "print(result)\n",
    "print(result2)\n",
    "\n",
    "# x = 1, y = 3, z = -5\n",
    "\n",
    "print(1*1+1*3-1*-5)\n",
    "print(0*1+8*3+6*-5)\n",
    "print(-2*1+4*3-6*-5)\n"
   ]
  },
  {
   "cell_type": "code",
   "execution_count": 78,
   "metadata": {},
   "outputs": [
    {
     "name": "stdout",
     "output_type": "stream",
     "text": [
      "[[  0  10   4  -2]\n",
      " [ -3 -17   1   2]\n",
      " [  1   1   1   0]\n",
      " [  8 -34  16 -10]]\n",
      "[[-0.17857143 -0.10204082  0.57142857  0.01530612]\n",
      " [ 0.03571429 -0.01530612  0.03571429 -0.01020408]\n",
      " [ 0.14285714  0.11734694  0.39285714 -0.00510204]\n",
      " [-0.03571429  0.15816327  0.96428571 -0.06122449]]\n",
      "[[-4]\n",
      " [ 2]\n",
      " [ 6]\n",
      " [ 4]]\n",
      "[[ 4.00000000e+00]\n",
      " [-1.38777878e-17]\n",
      " [ 2.00000000e+00]\n",
      " [ 6.00000000e+00]]\n",
      "[[4.00000000e+00]\n",
      " [1.04491579e-16]\n",
      " [2.00000000e+00]\n",
      " [6.00000000e+00]]\n",
      "-4\n",
      "2\n",
      "6\n",
      "4\n"
     ]
    }
   ],
   "source": [
    "# Q3\n",
    "\n",
    "import numpy as np\n",
    "from scipy import linalg\n",
    "\n",
    "A = np.array([[0,10,4,-2],[-3,-17,1,2],[1,1,1,0],[8,-34,16,-10]])\n",
    "b = np.array([[-4],[2],[6],[4]])\n",
    "Ainv = linalg.inv(A)\n",
    "result = np.dot(Ainv,b)\n",
    "\n",
    "# using linalg from scipy package\n",
    "result2 = linalg.solve(A,b)\n",
    "\n",
    "print(A)\n",
    "print(Ainv)\n",
    "print(b)\n",
    "print(result)\n",
    "print(result2)\n",
    "\n",
    "# w = 4, x = 0, y = 2, z = 6\n",
    "\n",
    "print(0*4+10*0+4*2-2*6)\n",
    "print(-3*4-17*0+1*2+2*6)\n",
    "print(1*4+1*0+1*2+0*6)\n",
    "print(8*4-34*0+16*2-10*6)\n"
   ]
  },
  {
   "cell_type": "markdown",
   "metadata": {},
   "source": [
    "# Exercise 5: Model of Markets\n",
    "\n",
    "Determine the equilibrium solution (S1 = D1, S2 = D2) of the two-commodity market with linear model ( D = demand, S = supply, P = price; index = 1 for first commodity, index = 2 for second commodity)"
   ]
  },
  {
   "cell_type": "markdown",
   "metadata": {},
   "source": [
    "![demand and supply equation](img/demandsupply.png)"
   ]
  },
  {
   "cell_type": "markdown",
   "metadata": {},
   "source": [
    "# solution formulation\n",
    "By setting D1 = S1, and D2 = S2\n",
    "We can formulate a system of linear equation to solve for the equilibrium solution on the price , P1 and P2 respectively"
   ]
  },
  {
   "cell_type": "code",
   "execution_count": 97,
   "metadata": {},
   "outputs": [
    {
     "name": "stdout",
     "output_type": "stream",
     "text": [
      "[[ 6  0]\n",
      " [ 1 -1]]\n",
      "[[ 0.16666667  0.        ]\n",
      " [ 0.16666667 -1.        ]]\n",
      "[[36]\n",
      " [-4]]\n",
      "[[ 6.]\n",
      " [10.]]\n",
      "[[ 6.]\n",
      " [10.]]\n",
      "D1 is: 18\n",
      "S1 is: 18\n",
      "D2 is: 26\n",
      "S2 is: 26\n"
     ]
    }
   ],
   "source": [
    "# Q1\n",
    "\n",
    "import numpy as np\n",
    "from scipy import linalg\n",
    "\n",
    "A = np.array([[6,0],[1,-1]])\n",
    "b = np.array([[36],[-4]])\n",
    "Ainv = linalg.inv(A)\n",
    "result = np.dot(Ainv,b)\n",
    "\n",
    "# using linalg from scipy package\n",
    "result2 = linalg.solve(A,b)\n",
    "\n",
    "print(A)\n",
    "print(Ainv)\n",
    "print(b)\n",
    "print(result)\n",
    "print(result2)\n",
    "\n",
    "# P1 = 6, P2 = 10\n",
    "P1 = 6 \n",
    "P2 = 10\n",
    "\n",
    "\n",
    "print(\"D1 is:\",40-2*P1-P2)\n",
    "print(\"S1 is:\",4*P1-P2+4)\n",
    "\n",
    "print(\"D2 is:\",16+5*P1-2*P2)\n",
    "print(\"S2 is:\",3*P2-4)"
   ]
  },
  {
   "cell_type": "code",
   "execution_count": null,
   "metadata": {},
   "outputs": [],
   "source": []
  },
  {
   "cell_type": "code",
   "execution_count": null,
   "metadata": {},
   "outputs": [],
   "source": [
    "# Reference:\n",
    "# Textbook: Advanced Engineering Mathematics\n"
   ]
  }
 ],
 "metadata": {
  "kernelspec": {
   "display_name": "Python 3",
   "language": "python",
   "name": "python3"
  },
  "language_info": {
   "codemirror_mode": {
    "name": "ipython",
    "version": 3
   },
   "file_extension": ".py",
   "mimetype": "text/x-python",
   "name": "python",
   "nbconvert_exporter": "python",
   "pygments_lexer": "ipython3",
   "version": "3.6.3"
  }
 },
 "nbformat": 4,
 "nbformat_minor": 2
}
