{
 "cells": [
  {
   "cell_type": "markdown",
   "metadata": {},
   "source": [
    "# Exercise 1: Matrix and Vector calculation\n",
    "\n",
    "### The following figure shows the representation of matrices and vectors, using numpy and scipy.linalg to answer to newly formed matrix "
   ]
  },
  {
   "cell_type": "markdown",
   "metadata": {},
   "source": [
    "![example of matrix and vecor](img/matrixandvector.png)"
   ]
  },
  {
   "cell_type": "markdown",
   "metadata": {},
   "source": [
    "In each of the following questions from question 11 to question 20, calculate result or state whether and why it is not defined"
   ]
  },
  {
   "cell_type": "markdown",
   "metadata": {},
   "source": [
    "![questions](img/matrixandvectorquestion.png)"
   ]
  },
  {
   "cell_type": "code",
   "execution_count": null,
   "metadata": {},
   "outputs": [],
   "source": []
  },
  {
   "cell_type": "markdown",
   "metadata": {},
   "source": [
    "# Exercise 2: Concert Subscription\n",
    "\n",
    "In a community of 100,000 adults, subscribers to a concert series tend to renew their subscription with probability and persons presently not subscribing will subscribe for the next season with probability . If the present number of subscribers is 1200, can one predict an increase, decrease, or no change over each of the next three seasons?"
   ]
  },
  {
   "cell_type": "code",
   "execution_count": null,
   "metadata": {},
   "outputs": [],
   "source": []
  },
  {
   "cell_type": "code",
   "execution_count": null,
   "metadata": {},
   "outputs": [],
   "source": []
  },
  {
   "cell_type": "markdown",
   "metadata": {},
   "source": [
    "# Exercise 3: Profit Vector\n",
    "\n",
    "Profit vector. Two factory outlets F1 and F2 in New York and Los Angeles sell sofas (S), chairs (C), and tables (T) with a profit of 35, 62 and 30, respectively. Let the sales in a certain week be given by the matrix below.\n",
    "Introduce a “profit vector” p such that the components of v=Ap give the total profits of F1 and F2 .\n"
   ]
  },
  {
   "cell_type": "markdown",
   "metadata": {},
   "source": [
    "![factory matrix](img/factorymatrix.png)"
   ]
  },
  {
   "cell_type": "code",
   "execution_count": null,
   "metadata": {},
   "outputs": [],
   "source": []
  },
  {
   "cell_type": "markdown",
   "metadata": {},
   "source": [
    "# Exercise 4: Solving System of Linear Equation\n",
    "\n",
    "Using Numpy and Scipy.linalg to solve the system of linear equations in the following"
   ]
  },
  {
   "cell_type": "markdown",
   "metadata": {},
   "source": [
    "![System of Linear Equation Exercise 1](img/linearsystemex1.png)"
   ]
  },
  {
   "cell_type": "markdown",
   "metadata": {},
   "source": [
    "![System of Linear Equation Exercise 2](img/linearsystemex2.png)"
   ]
  },
  {
   "cell_type": "markdown",
   "metadata": {},
   "source": [
    "![System of Linear Equation Exercise 3](img/linearsystemex3.png)"
   ]
  },
  {
   "cell_type": "code",
   "execution_count": null,
   "metadata": {},
   "outputs": [],
   "source": []
  },
  {
   "cell_type": "markdown",
   "metadata": {},
   "source": [
    "# Exercise 5: Model of Markets\n",
    "\n",
    "Determine the equilibrium solution (S1 = D1, S2 = D2) of the two-commodity market with linear model ( D = demand, S = supply, P = price; index = 1 for first commodity, index = 2 for second commodity)"
   ]
  },
  {
   "cell_type": "markdown",
   "metadata": {},
   "source": [
    "![demand and supply equation](img/demandsupply.png)"
   ]
  },
  {
   "cell_type": "code",
   "execution_count": null,
   "metadata": {},
   "outputs": [],
   "source": []
  },
  {
   "cell_type": "code",
   "execution_count": null,
   "metadata": {},
   "outputs": [],
   "source": [
    "# Reference:\n"
   ]
  }
 ],
 "metadata": {
  "kernelspec": {
   "display_name": "Python 3",
   "language": "python",
   "name": "python3"
  },
  "language_info": {
   "codemirror_mode": {
    "name": "ipython",
    "version": 3
   },
   "file_extension": ".py",
   "mimetype": "text/x-python",
   "name": "python",
   "nbconvert_exporter": "python",
   "pygments_lexer": "ipython3",
   "version": "3.6.3"
  }
 },
 "nbformat": 4,
 "nbformat_minor": 2
}
