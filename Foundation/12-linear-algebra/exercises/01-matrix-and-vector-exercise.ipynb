{
 "cells": [
  {
   "cell_type": "markdown",
   "metadata": {},
   "source": [
    "# Exercise 1: Matrix and Vector calculation\n",
    "\n",
    "### The following figure shows the representation of matrices and vectors, using numpy and scipy.linalg to answer to newly formed matrix "
   ]
  },
  {
   "cell_type": "markdown",
   "metadata": {},
   "source": [
    "![example of matrix and vecor](img/matrixandvector.png)"
   ]
  },
  {
   "cell_type": "markdown",
   "metadata": {},
   "source": [
    "In each of the following questions from question 11 to question 20, calculate result or state whether and why it is not defined"
   ]
  },
  {
   "cell_type": "markdown",
   "metadata": {},
   "source": [
    "![questions](img/matrixandvectorquestion.png)"
   ]
  },
  {
   "cell_type": "code",
   "execution_count": null,
   "metadata": {},
   "outputs": [],
   "source": []
  },
  {
   "cell_type": "markdown",
   "metadata": {},
   "source": [
    "# Exercise 2: Concert Subscription\n",
    "\n",
    "In a community of 100,000 adults, subscribers to a concert series tend to renew their subscription with probability 90% and persons presently not subscribing will subscribe for the next season with probability 0.2%. If the present number of subscribers is 1200, can one predict an increase, decrease, or no change over each of the next three seasons?"
   ]
  },
  {
   "cell_type": "code",
   "execution_count": 5,
   "metadata": {},
   "outputs": [
    {
     "name": "stdout",
     "output_type": "stream",
     "text": [
      "sub vs non-sub after 1 year: [[ 1277.6]\n",
      " [98722.4]]\n",
      "sub vs non-sub after 2 year: [[ 1347.2848]\n",
      " [98652.7152]]\n",
      "sub vs non-sub after 3 year: [[ 1409.8617504]\n",
      " [98590.1382496]]\n"
     ]
    }
   ],
   "source": [
    "import numpy as np\n",
    "MTrans = np.array([[0.9, 0.002], [0.1, 0.998]])\n",
    "t_pop = 100000\n",
    "sub_pop = 1200\n",
    "MPop = np.array([[sub_pop],[t_pop- sub_pop]])\n",
    "\n",
    "for i in range(3):\n",
    "    MPop = np.dot(MTrans, MPop)\n",
    "    print(f'sub vs non-sub after {i + 1} year: {MPop}')\n",
    "    \n"
   ]
  },
  {
   "cell_type": "code",
   "execution_count": null,
   "metadata": {},
   "outputs": [],
   "source": []
  },
  {
   "cell_type": "markdown",
   "metadata": {},
   "source": [
    "# Exercise 3: Profit Vector\n",
    "\n",
    "Profit vector. Two factory outlets F1 and F2 in New York and Los Angeles sell sofas (S), chairs (C), and tables (T) with a profit of 35, 62 and 30, respectively. Let the sales in a certain week be given by the matrix below.\n",
    "Introduce a “profit vector” p such that the components of v=Ap give the total profits of F1 and F2 .\n"
   ]
  },
  {
   "cell_type": "markdown",
   "metadata": {},
   "source": [
    "![factory matrix](img/factorymatrix.png)"
   ]
  },
  {
   "cell_type": "code",
   "execution_count": 12,
   "metadata": {},
   "outputs": [
    {
     "name": "stdout",
     "output_type": "stream",
     "text": [
      "Profit margin for F1 and F2 are [[24920]\n",
      " [25940]]\n"
     ]
    }
   ],
   "source": [
    "from scipy import linalg\n",
    "\n",
    "p = np.array([35, 62, 30]) # profit 1 x 3\n",
    "A = np.array([\n",
    "    [400, 60, 240],\n",
    "    [100, 120, 500]\n",
    "]) # 2 x 3 (Sales)\n",
    "\n",
    "\n",
    "v = np.dot(A, np.mat(p).T)\n",
    "print(f'Profit margin for F1 and F2 are {v}')\n"
   ]
  },
  {
   "cell_type": "markdown",
   "metadata": {},
   "source": [
    "# Exercise 4: Solving System of Linear Equation\n",
    "\n",
    "Using Numpy and Scipy.linalg to solve the system of linear equations in the following"
   ]
  },
  {
   "cell_type": "markdown",
   "metadata": {},
   "source": [
    "![System of Linear Equation Exercise 1](img/linearsystemex1.png)"
   ]
  },
  {
   "cell_type": "markdown",
   "metadata": {},
   "source": [
    "![System of Linear Equation Exercise 2](img/linearsystemex2.png)"
   ]
  },
  {
   "cell_type": "markdown",
   "metadata": {},
   "source": [
    "![System of Linear Equation Exercise 3](img/linearsystemex3.png)"
   ]
  },
  {
   "cell_type": "code",
   "execution_count": 13,
   "metadata": {},
   "outputs": [
    {
     "name": "stdout",
     "output_type": "stream",
     "text": [
      "w,x,y,z are [ 4.00000000e+00 -1.38777878e-17  2.00000000e+00  6.00000000e+00]\n"
     ]
    }
   ],
   "source": [
    "# exercise 3\n",
    "A = np.array([\n",
    "    [0, 10, 4, -2],\n",
    "    [-3, -17, 1, 2],\n",
    "    [1,1,1,0],\n",
    "    [8,-34,16,-10]\n",
    "])\n",
    "b = np.array([-4,2,6,4])\n",
    "\n",
    "AInv = linalg.inv(A)\n",
    "\n",
    "# A * x = b\n",
    "# x = A.I * b\n",
    "\n",
    "x = np.dot( AInv, b)\n",
    "\n",
    "print(f'w,x,y,z are {x}')"
   ]
  },
  {
   "cell_type": "markdown",
   "metadata": {},
   "source": [
    "# Exercise 5: Model of Markets\n",
    "\n",
    "Determine the equilibrium solution (S1 = D1, S2 = D2) of the two-commodity market with linear model ( D = demand, S = supply, P = price; index = 1 for first commodity, index = 2 for second commodity)"
   ]
  },
  {
   "cell_type": "markdown",
   "metadata": {},
   "source": [
    "![demand and supply equation](img/demandsupply.png)"
   ]
  },
  {
   "cell_type": "code",
   "execution_count": null,
   "metadata": {},
   "outputs": [],
   "source": []
  },
  {
   "cell_type": "code",
   "execution_count": null,
   "metadata": {},
   "outputs": [],
   "source": [
    "# Reference:\n"
   ]
  }
 ],
 "metadata": {
  "kernelspec": {
   "display_name": "Python 3",
   "language": "python",
   "name": "python3"
  },
  "language_info": {
   "codemirror_mode": {
    "name": "ipython",
    "version": 3
   },
   "file_extension": ".py",
   "mimetype": "text/x-python",
   "name": "python",
   "nbconvert_exporter": "python",
   "pygments_lexer": "ipython3",
   "version": "3.6.3"
  }
 },
 "nbformat": 4,
 "nbformat_minor": 2
}
