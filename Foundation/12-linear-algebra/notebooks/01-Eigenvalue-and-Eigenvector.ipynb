{
 "cells": [
  {
   "cell_type": "markdown",
   "metadata": {},
   "source": [
    "# Introduction to Eigenvalue and Eigenvector\n",
    "\n",
    "A matrix eigenvalue problem considers the vector equation in the following picture\n",
    "\n",
    "Here A is a given square matrix, an unknown scalar $\\lambda$, and x an unknown vector.\n",
    "\n",
    "In a matrix eigenvalue problem, the task is to determine $\\lambda$’s and x’s that satisfy the equation below. \n",
    "\n",
    "Since x = 0 is always a solution for any $\\lambda$ and thus not interesting, we only admit solutions with $x \\neq 0$\n",
    "\n",
    "The solutions to the equation are given the following names: \n",
    "\n",
    "\n",
    "Eigenvalues of A : The $\\lambda$’s that satisfy the equation \n",
    "\n",
    "Eigenvectors of A: The corresponding nonzero x’s that also satisfy the equation\n"
   ]
  },
  {
   "cell_type": "markdown",
   "metadata": {},
   "source": [
    "![vector equation](img/vectorequation.png)"
   ]
  },
  {
   "cell_type": "markdown",
   "metadata": {},
   "source": [
    "# Example of Eigenvalue and Eigenvector\n",
    "\n",
    "### The right-hand side in the following figure shows an example for a matrix with a pair of eigenvalue (i.e. 10) and eigenvector (i.e. [3,4])\n",
    "\n",
    "### The matrix multiplication on the left handside show that there is no eigenvalue nor eigenvector formed\n",
    "\n"
   ]
  },
  {
   "cell_type": "markdown",
   "metadata": {},
   "source": [
    "![Example of eigenvalue and eigenvector](img/exampleofeigenvalue.png)"
   ]
  },
  {
   "cell_type": "code",
   "execution_count": 1,
   "metadata": {},
   "outputs": [
    {
     "name": "stdout",
     "output_type": "stream",
     "text": [
      "[[6 3]\n",
      " [4 7]]\n",
      "(3+0j)\n",
      "[-0.70710678  0.70710678]\n",
      "(10+0j)\n",
      "[-0.6 -0.8]\n"
     ]
    }
   ],
   "source": [
    "import numpy as np\n",
    "from scipy import linalg\n",
    "\n",
    "A = np.array([[6,3],[4,7]])\n",
    "la, v = linalg.eig(A) \n",
    "\n",
    "l1, l2 = la \n",
    "v1 = v[:,0] \n",
    "v2 = v[:,1] \n",
    "\n",
    "print(A)\n",
    "\n",
    "# first possible pair of eigenvalue and eigenvector\n",
    "print(l1)\n",
    "print(v1)\n",
    "\n",
    "# second possible pair of eigenvalue and eigenvector\n",
    "print(l2)\n",
    "print(v2)"
   ]
  },
  {
   "cell_type": "markdown",
   "metadata": {},
   "source": [
    "# Mathematics for multiple eigenvalues and its corresponding eigenvector\n",
    "\n",
    "We see that for a given square matrix A, we are finding $\\lambda$ as the eigenvalue and its corresponding eigenvector that can satisfy the equation. Let's see the mathematical operation below\n"
   ]
  },
  {
   "cell_type": "markdown",
   "metadata": {},
   "source": [
    "![Step 1 of eigenvalue calculation](img/mathofeigenvalue.png)"
   ]
  },
  {
   "cell_type": "markdown",
   "metadata": {},
   "source": [
    "![Step 2 of eigenvalue calculation](img/mathofeigenvalue3.png)"
   ]
  },
  {
   "cell_type": "markdown",
   "metadata": {},
   "source": [
    "![Step 3 of eigenvalue calculation](img/mathofeigenvalue2.png)"
   ]
  },
  {
   "cell_type": "markdown",
   "metadata": {},
   "source": [
    "# Application of Eigenvalues: Problems Arising from Population Models. Leslie Model\n",
    "\n",
    "The Leslie model describes age-specified population growth, as follows. Let the oldest age attained by the females in some animal population be 9 years. Divide the population into three age classes of 3 years each. Let the “Leslie matrix” as below \n",
    "\n"
   ]
  },
  {
   "cell_type": "markdown",
   "metadata": {},
   "source": [
    "![Leslie Matrix as the square matrix for finding eigenvalue](img/lesilemodel.png)"
   ]
  },
  {
   "cell_type": "code",
   "execution_count": 19,
   "metadata": {},
   "outputs": [],
   "source": [
    "import numpy as np\n",
    "from scipy import linalg\n",
    "\n",
    "l = np.array([[0,2.3,0.4],[0.6,0,0],[0,0.3,0]])\n",
    "\n",
    "la, v = linalg.eig(l) \n"
   ]
  },
  {
   "cell_type": "code",
   "execution_count": 4,
   "metadata": {},
   "outputs": [
    {
     "name": "stdout",
     "output_type": "stream",
     "text": [
      "[[1080.]\n",
      " [ 240.]\n",
      " [ 120.]]\n"
     ]
    }
   ],
   "source": [
    "import numpy as np\n",
    "\n",
    "l = np.array( [[0,2.3,0.4], [0.6, 0, 0],[0,0.3,0]])\n",
    "p = np.array([[400],[400],[400]])\n",
    "\n",
    "p_new = l @ p\n",
    "print(p_new)"
   ]
  },
  {
   "cell_type": "code",
   "execution_count": 6,
   "metadata": {},
   "outputs": [
    {
     "data": {
      "text/plain": [
       "array([1080.,  240.,  120.])"
      ]
     },
     "execution_count": 6,
     "metadata": {},
     "output_type": "execute_result"
    }
   ],
   "source": [
    "b = np.array([400,400,400])\n",
    "l @ b"
   ]
  },
  {
   "cell_type": "code",
   "execution_count": 20,
   "metadata": {},
   "outputs": [
    {
     "name": "stdout",
     "output_type": "stream",
     "text": [
      "[[0.  2.3 0.4]\n",
      " [0.6 0.  0. ]\n",
      " [0.  0.3 0. ]]\n",
      "(1.2000000000000002+0j)\n",
      "[-0.88888889 -0.44444444 -0.11111111]\n",
      "(-1.1477225575051662+0j)\n",
      "[ 0.87978097 -0.45992699  0.12021903]\n",
      "(-0.052277442494833896+0j)\n",
      "[ 0.01495588 -0.17165196  0.98504412]\n"
     ]
    }
   ],
   "source": [
    "l1, l2, l3 = la \n",
    "v1 = v[:,0] \n",
    "v2 = v[:,1] \n",
    "v3 = v[:,2] \n",
    "\n",
    "print(l)\n",
    "\n",
    "# first possible pair of eigenvalue and eigenvector\n",
    "print(l1)\n",
    "print(v1)\n",
    "\n",
    "# second possible pair of eigenvalue and eigenvector\n",
    "print(l2)\n",
    "print(v2)\n",
    "\n",
    "# second possible pair of eigenvalue and eigenvector\n",
    "print(l3)\n",
    "print(v3)\n"
   ]
  },
  {
   "cell_type": "markdown",
   "metadata": {},
   "source": [
    "![solution](img/lesliesolution.png)"
   ]
  }
 ],
 "metadata": {
  "kernelspec": {
   "display_name": "Python 3",
   "language": "python",
   "name": "python3"
  },
  "language_info": {
   "codemirror_mode": {
    "name": "ipython",
    "version": 3
   },
   "file_extension": ".py",
   "mimetype": "text/x-python",
   "name": "python",
   "nbconvert_exporter": "python",
   "pygments_lexer": "ipython3",
   "version": "3.6.3"
  }
 },
 "nbformat": 4,
 "nbformat_minor": 2
}
