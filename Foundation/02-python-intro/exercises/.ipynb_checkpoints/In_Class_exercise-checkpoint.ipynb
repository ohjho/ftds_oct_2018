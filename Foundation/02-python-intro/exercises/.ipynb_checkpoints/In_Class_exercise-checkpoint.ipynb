{
 "cells": [
  {
   "cell_type": "markdown",
   "metadata": {},
   "source": [
    "# In Class Exercise\n",
    "\n",
    "1) Write a set of conditional statements that check to see if n is divisible whole by 2. If it is, then print \"n is even\". Otherwise, print \"n is odd\"."
   ]
  },
  {
   "cell_type": "code",
   "execution_count": 3,
   "metadata": {},
   "outputs": [
    {
     "name": "stdout",
     "output_type": "stream",
     "text": [
      "True\n",
      "False\n"
     ]
    }
   ],
   "source": [
    "def is_even(in_int):\n",
    "    return in_int % 2 == 0\n",
    "print(is_even(6))\n",
    "print(is_even(7))"
   ]
  },
  {
   "cell_type": "markdown",
   "metadata": {},
   "source": [
    "2) Exercise- Use a for loop and range function to print all the numbers in the range and add it to a list. Show the list in the end.\n"
   ]
  },
  {
   "cell_type": "code",
   "execution_count": 4,
   "metadata": {},
   "outputs": [
    {
     "name": "stdout",
     "output_type": "stream",
     "text": [
      "1\n",
      "2\n",
      "3\n",
      "4\n",
      "5\n",
      "6\n",
      "7\n",
      "8\n",
      "9\n"
     ]
    },
    {
     "data": {
      "text/plain": [
       "[1, 2, 3, 4, 5, 6, 7, 8, 9]"
      ]
     },
     "execution_count": 4,
     "metadata": {},
     "output_type": "execute_result"
    }
   ],
   "source": [
    "def printlist(last_num):\n",
    "    out_list = [i for i in range(1, last_num + 1)]\n",
    "    for i in out_list:\n",
    "        print(i)\n",
    "    return out_list\n",
    "\n",
    "printlist(9)\n",
    "    "
   ]
  },
  {
   "cell_type": "markdown",
   "metadata": {},
   "source": [
    "3) Using \"for loops \" and \"if statements \" answer the following questions :  \n",
    "3.1) Given the names below who has the longest First name? and how long is it?   \n",
    "3.2) And what about the shortest name? \n",
    "\n",
    "These are \"probably\" our names :Xiaoyan , Maitreya , Jason , Qihui , Chuck , Jeremy , Mihwa , Lina , Huijun , Raul , Warintra , Abhay\n"
   ]
  },
  {
   "cell_type": "code",
   "execution_count": 16,
   "metadata": {},
   "outputs": [
    {
     "name": "stdout",
     "output_type": "stream",
     "text": [
      "{'Xiaoyan': 7, 'Maitreya': 8, 'Jason': 5, 'Qihui': 5, 'Chuck': 5, 'Jeremy': 6, 'Mihwa': 5, 'Lina': 4, 'Huijun': 6, 'Raul': 4, 'Warintra': 8, 'Abhay': 5}\n",
      "Longest name is ['Maitreya', 'Warintra'] at 8 characters\n",
      "Shortest name is ['Lina', 'Raul'] at 4 characters\n"
     ]
    }
   ],
   "source": [
    "lnames= [\"Xiaoyan\" , \"Maitreya\" , \"Jason\" , \"Qihui\" , \"Chuck\" , \"Jeremy\" , \"Mihwa\" , \"Lina\" , \"Huijun\" , \"Raul\" , \"Warintra\" , \"Abhay\"]\n",
    "llen = [len(name) for name in lnames]\n",
    "dict_name_len = dict(zip(lnames, llen))\n",
    "\n",
    "print(dict_name_len)\n",
    "print(\"Longest name is {} at {} characters\".format([lnames[idx] for idx, ilen in enumerate(llen) if ilen == max(llen)],max(llen)))\n",
    "print(\"Shortest name is {} at {} characters\".format([lnames[idx] for idx,ilen in enumerate(llen) if ilen == min(llen)],min(llen)))"
   ]
  },
  {
   "cell_type": "markdown",
   "metadata": {},
   "source": [
    "4) Find the maximum, minimum and mean of the list of numbers provided below without using max and min functions\n",
    "x=[1,55,3,64,6,4,32,15]\n"
   ]
  },
  {
   "cell_type": "markdown",
   "metadata": {},
   "source": [
    "### JHO's notes\n",
    "I chose the functional programming way in this [medium article](https://medium.com/@antash/six-ways-to-find-max-value-of-a-list-in-python-b7d7ccfabc0d)"
   ]
  },
  {
   "cell_type": "code",
   "execution_count": 24,
   "metadata": {},
   "outputs": [
    {
     "name": "stdout",
     "output_type": "stream",
     "text": [
      "Max = 64, Min = 1, Mean = 22.5\n",
      "Test: Max = 64, Min = 1, Mean = 22.5\n"
     ]
    }
   ],
   "source": [
    "from functools import reduce\n",
    "x=[1,55,3,64,6,4,32,15]\n",
    "\n",
    "max_= reduce(lambda i,j: i if i > j else j, x)\n",
    "min_ = reduce(lambda i, j: i if i < j else j, x)\n",
    "mean_ = reduce(lambda i,j: i + j, x)/len(x)\n",
    "\n",
    "print(\"Max = {}, Min = {}, Mean = {}\".format( max_, min_, mean_))\n",
    "print(\"Test: Max = {}, Min = {}, Mean = {}\".format( max(x), min(x), sum(x)/len(x)))\n"
   ]
  },
  {
   "cell_type": "markdown",
   "metadata": {},
   "source": [
    "### Functions\n",
    "\n",
    "a. Construct a function that returns all the divisors of the number the user inputs as a list.\n",
    "\n",
    "b. Write a function for finding out the factorial of a number that the user inputs\n",
    "The factorial of 4, mathematically, for e.g. would equal the result 4!= 4 X 3 x 2 X 1 = 24\n",
    "\n",
    "c. Write a function to check BMI \n",
    "\n",
    "if bmi <= 18.5 then Underweight  \n",
    "if bmi > 18.5 and bmi < 25.0 then Normal  \n",
    "if bmi >= 25.0 and bmi < 30.0 then Overweight  \n",
    "if bmi >= 30 then Obese\n"
   ]
  },
  {
   "cell_type": "code",
   "execution_count": 29,
   "metadata": {},
   "outputs": [
    {
     "data": {
      "text/plain": [
       "24"
      ]
     },
     "execution_count": 29,
     "metadata": {},
     "output_type": "execute_result"
    }
   ],
   "source": [
    "def getdiv(in_num):\n",
    "    return [x for x in range(1,in_num +1) if in_num%x ==0]\n",
    "\n",
    "getdiv(36)\n",
    "\n",
    "def getfac(in_num):\n",
    "    return reduce(lambda x,y: x * y, range(1,in_num +1))\n",
    "getfac(4)"
   ]
  },
  {
   "cell_type": "markdown",
   "metadata": {},
   "source": [
    "1) Generate a random number between 1 and 9 (including 1 and 9). Ask the user to guess the number, then tell them whether they guessed too low, too high, or exactly right.  \n",
    "\n",
    "Extras:  \n",
    "\n",
    "* Keep the game going until the user types “exit”\n",
    "* Keep track of how many guesses the user has taken, and when the game ends, print this out.\n",
    "\n"
   ]
  },
  {
   "cell_type": "code",
   "execution_count": 35,
   "metadata": {},
   "outputs": [
    {
     "name": "stdout",
     "output_type": "stream",
     "text": [
      "Pick a number from 1 to 9:1\n",
      "too low, I got  7\n",
      "Pick a number from 1 to 9:7\n",
      "too low, I got  10\n",
      "Pick a number from 1 to 9:7\n",
      "too high, I got  6\n",
      "Pick a number from 1 to 9:7\n",
      "too high, I got  6\n",
      "Pick a number from 1 to 9:7\n",
      "right\n",
      "Pick a number from 1 to 9:7\n",
      "too low, I got  8\n",
      "Pick a number from 1 to 9:exit\n"
     ]
    }
   ],
   "source": [
    "from random import randint\n",
    "runcount = 0\n",
    "uinput= input(\"Pick a number from 1 to 9:\")\n",
    "while uinput != \"exit\":\n",
    "    randnum = randint(1,10)\n",
    "    runcount += 1\n",
    "    uinput = int(uinput)\n",
    "    if randnum == uinput:\n",
    "        print( \"right\")\n",
    "    elif randnum > uinput:\n",
    "        print (\"too low, I got \", randnum)\n",
    "    else:\n",
    "        print(\"too high, I got \", randnum)\n",
    "    uinput = input(\"Pick a number from 1 to 9:\")\n",
    "    "
   ]
  },
  {
   "cell_type": "markdown",
   "metadata": {},
   "source": [
    "### JHO's notes:\n",
    "There are different ways to create random numbers in python for example: [here](https://www.thecrazyprogrammer.com/2018/04/generate-random-number-in-python.html) or [here](https://machinelearningmastery.com/how-to-generate-random-numbers-in-python/)"
   ]
  },
  {
   "cell_type": "markdown",
   "metadata": {},
   "source": [
    "2) Write a program (function!) that takes a list and returns a new list that contains all the elements of the first list minus all the duplicates.\n",
    "\n",
    "Extras:\n",
    "* Write two different functions to do this - one using a loop and constructing a list, and another using sets.\n"
   ]
  },
  {
   "cell_type": "code",
   "execution_count": null,
   "metadata": {},
   "outputs": [],
   "source": []
  }
 ],
 "metadata": {
  "kernelspec": {
   "display_name": "Python 3",
   "language": "python",
   "name": "python3"
  },
  "language_info": {
   "codemirror_mode": {
    "name": "ipython",
    "version": 3
   },
   "file_extension": ".py",
   "mimetype": "text/x-python",
   "name": "python",
   "nbconvert_exporter": "python",
   "pygments_lexer": "ipython3",
   "version": "3.6.3"
  }
 },
 "nbformat": 4,
 "nbformat_minor": 2
}
