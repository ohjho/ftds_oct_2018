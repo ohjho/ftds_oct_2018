{
 "cells": [
  {
   "cell_type": "markdown",
   "metadata": {},
   "source": [
    "# Python\n",
    "\n",
    "Out of all of the potential programming langauges why would you choose python, through out this notebook I hope to convey why python is a good choice for data science and **even** better choice if it's your first prorgamming langauge.\n",
    "\n",
    "\n",
    "* Bullet 1\n",
    "* Bullet 2\n",
    "\n",
    "\n",
    "\n",
    "![img](https://zgab33vy595fw5zq-zippykid.netdna-ssl.com/wp-content/uploads/2017/09/projections-1-1024x878.png)\n"
   ]
  },
  {
   "cell_type": "markdown",
   "metadata": {},
   "source": [
    "## Popularity\n",
    "\n",
    "Python is 4th in the tiobe index (a programming langauge popularity survey) and continues to gain atention. Along with it's popularity comes a large community, this means that there are many open source libraries to solve a wide varitey of problems. In particular python has brilliant libraries for data science and machine learning, and is probably the most popular langauge used in these fields. Its popularity means debugging is considerably easier, since any problem you have encontered is likely to already be on stackoverflow (a popular programming forum). A recent [post](https://stackoverflow.blog/2017/09/06/incredible-growth-python/) from stackoverflow predicts it's popularity to only continue growing.\n",
    "\n",
    "<img src=\"https://zgab33vy595fw5zq-zippykid.netdna-ssl.com/wp-content/uploads/2017/09/projections-1-1024x878.png\"   alt=\"Smiley face\" width=\"600\">\n"
   ]
  },
  {
   "cell_type": "markdown",
   "metadata": {},
   "source": [
    "## Simple And  High Level\n",
    "\n",
    "Python has  a simple syntax which makes it easier to learn especially as a begginer programing, this also makes it simpler to write more complex programs. To illustrate this lets look at two hello world programs; the hello world program simply prints the words \"hello world\" onto the screen, it's a kind of programming tradation.\n",
    "\n",
    "> Hello world in C\n",
    "\n",
    "```C\n",
    "#include <stdio.h>\n",
    "int main()\n",
    "{\n",
    "   // printf() displays the string inside quotation\n",
    "   printf(\"Hello, World!\");\n",
    "   return 0;\n",
    "}\n",
    "\n",
    "```\n",
    "\n",
    "> Hello world in Python\n",
    "\n",
    "```python\n",
    "print(\"Hello, World!\")\n",
    "```\n",
    "\n",
    "A high-level langauge abstracts way the details of how a computer actually operates. They do this by providing featues to complete many standard tasks. This combined with python's simplicity means that it's much quicker to develop with, allowing us to achieve more in a shorter time. "
   ]
  },
  {
   "cell_type": "markdown",
   "metadata": {},
   "source": [
    "## Interpreted \n",
    "\n",
    "\n",
    "In a nut shell an interpreted langauge is one where you can run a program instantly, this is in contrast to a compiled langauge like C which must be built (using a compiler) before you can run the program. This makes python well suited for data analysis as we can easily use code to explore our problem, and get instant feedback. The same instant feed back loop makes it easier for a beginner to learn since they can quickly see the output of there code. It also aids in incremental development workflows, like that of programming in jupyter notebooks.\n"
   ]
  },
  {
   "cell_type": "markdown",
   "metadata": {},
   "source": [
    "## Zen of Python\n",
    "\n",
    "Have a read of the zen of python which expresses the pythonic philosophy rather eloquently."
   ]
  },
  {
   "cell_type": "code",
   "execution_count": 7,
   "metadata": {},
   "outputs": [],
   "source": [
    "import this"
   ]
  },
  {
   "cell_type": "code",
   "execution_count": null,
   "metadata": {},
   "outputs": [],
   "source": []
  },
  {
   "cell_type": "code",
   "execution_count": 1,
   "metadata": {},
   "outputs": [
    {
     "name": "stdout",
     "output_type": "stream",
     "text": [
      "The Zen of Python, by Tim Peters\n",
      "\n",
      "Beautiful is better than ugly.\n",
      "Explicit is better than implicit.\n",
      "Simple is better than complex.\n",
      "Complex is better than complicated.\n",
      "Flat is better than nested.\n",
      "Sparse is better than dense.\n",
      "Readability counts.\n",
      "Special cases aren't special enough to break the rules.\n",
      "Although practicality beats purity.\n",
      "Errors should never pass silently.\n",
      "Unless explicitly silenced.\n",
      "In the face of ambiguity, refuse the temptation to guess.\n",
      "There should be one-- and preferably only one --obvious way to do it.\n",
      "Although that way may not be obvious at first unless you're Dutch.\n",
      "Now is better than never.\n",
      "Although never is often better than *right* now.\n",
      "If the implementation is hard to explain, it's a bad idea.\n",
      "If the implementation is easy to explain, it may be a good idea.\n",
      "Namespaces are one honking great idea -- let's do more of those!\n"
     ]
    }
   ],
   "source": [
    "import this"
   ]
  },
  {
   "cell_type": "markdown",
   "metadata": {},
   "source": [
    "# Jupyter\n",
    "\n",
    "Jupyter is a interactive development enviorment,in which we can run code and view the results instantly. Unlike tradtional programes which are just a text files, jupyter notebooks are documents in which we can mix HTML, Markdown and code. Given the nature of notebooks they are perfect for data analysis/science and fittingly so Jupyter is an acroynom for Julia, Python and R, all great langauges for data science. \n",
    "\n",
    "Jupyter comes in two flavours, the classic jupyter notebook and the newer jupyter lab. Both use the same notebook format, however the later jupyter lab, provides more modern features. Jupyter lab is where the project is going, it's more complete than classic jupyter notebooks proving the ability to screen split, terminals, pdf viewers and more. Anyone can write extension to add functionality to jupyter lab, and in the future I'm sure many great extension will be created once the project matures.\n"
   ]
  },
  {
   "cell_type": "markdown",
   "metadata": {},
   "source": [
    "## Cell types\n",
    "\n",
    "There are 3 default cell types, markdown, code and raw.  Raw cells are rarely used so we won't cover these in any detail. Code cell are for, well, code. Markdown is used to write text in the notebook. You can use play button at the top of the notebook to excute  a cell or use the following shortcuts.\n",
    "\n",
    "* `Ctrl-Enter` - Excute current cell\n",
    "* `Shift-Enter` - Excute cell and move to cell bellow\n",
    "* `Alt-Enter` - Excute cell and create a new cell bellow\n",
    "\n",
    "There are many more shortcuts which can be found in the commands tab on the left hand side of jupyter lab, or in the help tab in the classic notebook."
   ]
  },
  {
   "cell_type": "markdown",
   "metadata": {},
   "source": [
    "## Markdown\n",
    "\n",
    "Markdown is a lightweight langauge for writting text documents and is how we write text in a notebook. It's failry simple to pick up, check out these cheatsheets [(1)](https://github.com/adam-p/markdown-here/wiki/Markdown-Cheatsheet) [(2)](https://ia.net/writer/support/general/markdown-guide/).  The markdown cells are also capable of excuting html, this allows us to embed youtube videos or even web pages (using iframes)."
   ]
  },
  {
   "cell_type": "markdown",
   "metadata": {},
   "source": [
    "## Latex \n",
    "\n",
    "Latext is langauge for writting mathmatical equations, it looks a little strange if you've need seen it before, but thankfully there some good [websites](https://www.codecogs.com/latex/eqneditor.php) that can help use write it. We can use latex inside markdown cells by surrounding it in a single dollar sign `$` for inline of double dollar `$$` to center it. Double click this cell to see the latex for the equation.\n",
    "\n",
    "$$ \\frac{a^2}{b} = c $$\n"
   ]
  },
  {
   "cell_type": "markdown",
   "metadata": {},
   "source": [
    "## Magics\n",
    "\n",
    "Magics are specific to Python Notebooks, they add addtional functionaliy to the code cells. For example bellow, using the bash magic, I can excute bash code in the notebook."
   ]
  },
  {
   "cell_type": "code",
   "execution_count": 6,
   "metadata": {},
   "outputs": [
    {
     "name": "stdout",
     "output_type": "stream",
     "text": [
      "Hello World\n"
     ]
    }
   ],
   "source": [
    "%%bash\n",
    "echo \"Hello World\""
   ]
  },
  {
   "cell_type": "markdown",
   "metadata": {},
   "source": [
    "There are magics avalaible for a large varitey of task for loading files, to running r code."
   ]
  },
  {
   "cell_type": "markdown",
   "metadata": {},
   "source": [
    "## Extensions\n",
    "\n",
    "Extensions give us even more functionality. Extension for the classic notebooks don't work with jupyter lab and since the lab project is still young there aren't as many extensions are there are for the classic notebook. Nevertheless one extension that I really like is [jupyter lab vim](https://github.com/jwkvam/jupyterlab_vim), which allows for vim keybindings inside a notebook cell.  Another one that we'll use later is the [plotly extension](https://github.com/jupyterlab/jupyter-renderers) which allows for interactive javascript plots within the notebook cells.\n",
    "\n"
   ]
  },
  {
   "cell_type": "markdown",
   "metadata": {},
   "source": [
    "## Kernel\n",
    "\n",
    "The kerenel is a computational engine responsible for excuting the code in a notebook. We can install kernels for other [langauges](https://github.com/jupyter/jupyter/wiki/Jupyter-kernels), so we can programming notebooks in differnet langauges. Sometimes the kernel will crash so you'll have to restart it using the circular arrow at the top of the notebook. In the top right hand corner theres a small circle that represents the state of the kernel. When the circle is black it means either that it's running (preforming computations) or altertively it's crashed. When the circle is white it means that the kernel is idle."
   ]
  },
  {
   "cell_type": "markdown",
   "metadata": {},
   "source": [
    "## Reference and Resources:\n",
    "\n",
    "* [Jupyter Notebook Tutorial: The Definitive Guide](https://www.datacamp.com/community/tutorials/tutorial-jupyter-notebook)\n",
    "* [Markdown Cheatsheet](https://github.com/adam-p/markdown-here/wiki/Markdown-Cheatsheet)\n",
    "* [Markdown Guide](https://ia.net/writer/support/general/markdown-guide/)\n",
    "* [Latex Generator](https://www.codecogs.com/latex/eqneditor.php)"
   ]
  }
 ],
 "metadata": {
  "kernelspec": {
   "display_name": "Python 3",
   "language": "python",
   "name": "python3"
  },
  "language_info": {
   "codemirror_mode": {
    "name": "ipython",
    "version": 3
   },
   "file_extension": ".py",
   "mimetype": "text/x-python",
   "name": "python",
   "nbconvert_exporter": "python",
   "pygments_lexer": "ipython3",
   "version": "3.6.5"
  }
 },
 "nbformat": 4,
 "nbformat_minor": 2
}
