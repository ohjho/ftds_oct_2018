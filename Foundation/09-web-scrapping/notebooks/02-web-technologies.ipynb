{
 "cells": [
  {
   "cell_type": "markdown",
   "metadata": {},
   "source": [
    "# Web Technologies\n",
    "\n",
    "Since we're going to be webe scrapping it's helpfull be familiar with some of the technologies behind the web."
   ]
  },
  {
   "cell_type": "markdown",
   "metadata": {},
   "source": [
    "# AJAX\n",
    "\n",
    "AJAX (Asynchronous JavaScript and XML) is used a lot in the modern web. It very usefull and can be used to:\n",
    "\n",
    "* Update a webpage with reloading\n",
    "* Fetch data from a server without having to reload the page\n",
    "* Send data without having to refresh the page\n",
    "* Send data to a sever in the background\n",
    "\n",
    "Despite having XML in the name AJAX nowdays it's used more frequently to fetch and recieve JSON, which is another easier to parse data exchange format. Sometimes it's possible to inspect a webpage a figure out how it makes it's AJAX request, we can then make request directly to those same endpoint. Open up chrome webtools and click on the network tab.\n",
    "\n",
    "In the left hand corner this is a red record button, click this and then refresh the page. After the page has loaded you can click the stop button. Now click on the XHR tab to see any ajax requests that have been made. Make sure you've clicked the disable cache button.\n",
    "\n"
   ]
  },
  {
   "cell_type": "markdown",
   "metadata": {},
   "source": [
    "# Cookies\n",
    "\n",
    "Have you every wondered why you can log in once to Facebook and then always return without having to log in again? Cookies is the magic word here. Cookies are unique identifiers send by the server and stored in the users browser. They are then passed along with every request to the server, making it possible to uniquely identify a user. Without cookies a user remains pretty much anonymous. Imagine that, with every request you receive you have dynamically return data but have no way of identifying the requesting party, many applications couldn’t work the way they currently do. Cookies are therefore essential.\n",
    "\n",
    "The Server send a Set-Cookie with the response. The format of Set-Cookie header is as follow.\n",
    "```\n",
    "Set-Cookie: COOKIES_NAME=12345\n",
    "```\n",
    "\n",
    "Your browser would know immediately that it has to store 12345 to the cookies COOKIES_NAME.\n",
    "\n",
    "Now, with every new request to the server, the browser will send back all previously stored cookies to the server using the Cookie header.\n",
    "\n",
    "```\n",
    "GET /sample_page.html HTTP/1.1\n",
    "Host: www.example.org\n",
    "Cookie: COOKIES_NAME=12345\n",
    "This cookie is called session cookie which is going to be gone as long as the browser is closed.\n",
    "```\n",
    "\n",
    "If the server want to store the cookies even after the browser is closed. They can use permanent cookies. The Set-Cookie header from server response is as follow. By using Expires\n",
    "\n",
    "```\n",
    "Set-Cookie: COOKIES_NAME=12345 Expires=Sat, 2 Sep 2017 03:30:00 GMT\n",
    "```\n",
    "\n",
    "Or by using Max-Age\n",
    "\n",
    "```\n",
    "Set-Cookie: COOKIES_NAME=12345 Max-Age=20\n",
    "```\n",
    "\n",
    "The cookies is going to be expired in 20 seconds as a result. One trickier web sites to scrape we may have to send cookies along with our request if we want to get the correct response.\n",
    "\n"
   ]
  },
  {
   "cell_type": "markdown",
   "metadata": {},
   "source": [
    "\n",
    "# SPA\n",
    "\n",
    "Recently in web design there has been a move towards SPAs (single page apps), these are websites that load a single html page and then dynamically update the page as the user interacts with it.  When the user interactives with the page they trigger javascript code which is used to fetch data/send data via AJAX or modify the pages layout.  Single Page Apps are tricker to scrape since when we request the HTML page the data that we want has yet to be fetched. In order to fetch the data we must use code to click on the relevant part of the application. We can achieve this by clicking on elements using splash scripts. "
   ]
  }
 ],
 "metadata": {
  "kernelspec": {
   "display_name": "Python 3",
   "language": "python",
   "name": "python3"
  },
  "language_info": {
   "codemirror_mode": {
    "name": "ipython",
    "version": 3
   },
   "file_extension": ".py",
   "mimetype": "text/x-python",
   "name": "python",
   "nbconvert_exporter": "python",
   "pygments_lexer": "ipython3",
   "version": "3.6.3"
  }
 },
 "nbformat": 4,
 "nbformat_minor": 2
}
