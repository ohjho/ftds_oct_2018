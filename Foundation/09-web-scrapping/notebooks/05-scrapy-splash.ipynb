{
 "cells": [
  {
   "cell_type": "markdown",
   "metadata": {},
   "source": [
    "# Intro\n",
    "\n",
    "Due to the rise in single page applications, and rising user expectations for dynamic and interactive websites, javascript is being increasingly used in constructing websites. This can lead to some trouble when scrapping. \n"
   ]
  },
  {
   "cell_type": "markdown",
   "metadata": {},
   "source": [
    "# Splash\n",
    "\n",
    "Splash is a lightweight scriptable browser. We can interactive with it by writing lua browsing scripts and also by excuting javascript. To use splash we need to first install [docker](https://docs.docker.com/install/). Docker is similar to a virtual machine, but more lightweight, it provides an easy way to run other virtural enviroments. \n",
    "Follow the docker install guides to install it.  You can check that docker is running with.\n",
    "\n",
    "```\n",
    "sudo systemctl status docker\n",
    "```\n",
    "\n",
    "After you've installed docker you  can then install [splash](https://splash.readthedocs.io/en/stable/install.html) by running. \n",
    "\n",
    "```\n",
    "sudo docker pull scrapinghub/splash\n",
    "```\n",
    "\n",
    "To launch the splash server run:\n",
    "\n",
    "```\n",
    "sudo docker run -p 8050:8050 -p 5023:5023 scrapinghub/splash\n",
    "```\n",
    "\n",
    "\n",
    "Since thats quite a long command to remember you may wish to put an alias in your `.bashrc` (if on linux or mac).\n",
    "\n",
    "```\n",
    "alias splash=\"sudo docker run -p 8050:8050 -p 5023:5023 scrapinghub/splash\"\n",
    "\n",
    "```\n",
    "\n",
    "That way you can launch the server by just running `splash`. Once splash is running you can vist http://localhost:8050/, here there is a interactive enviroment that you an use to test splash scripts. Bellow is an example splash splash script.\n",
    "\n",
    "```lua\n",
    "function main(splash, args)\n",
    "  splash:go(args.url)\n",
    "  local scroll_to = splash:jsfunc(\"window.scrollTo\")\n",
    "  scroll_to(0, 300)\n",
    "  return {png=splash:png()}\n",
    "end\n",
    "```\n",
    "\n",
    "As you can see the code is very pythonic, if your unfamilair with lua you can utilize this [cheatsheet](https://learnxinyminutes.com/docs/lua/) to help you out. The splash webpage (http://localhost:8050/) also has a series of examples to help get you started."
   ]
  },
  {
   "cell_type": "markdown",
   "metadata": {},
   "source": [
    "# Scrapy Splash\n",
    "\n",
    "Scrapy splash is a plugin for scrapy that allows it to send html to splash for rendering, and the excution of scripts. Follow the [setup guide](https://github.com/scrapy-plugins/scrapy-splash) setup guide from the link above, making sure to copy the relevant parts into the settings of your scrapy project.\n",
    "\n",
    "## Requests\n",
    "\n",
    "In order to do this we need to send our requests to splash to render, there are two ways to do this. One way is to use `scrapy_splash.SplashRequest` , you'll likely do this inside the `start_request` method.\n"
   ]
  },
  {
   "cell_type": "markdown",
   "metadata": {},
   "source": [
    "```python\n",
    "from scrapy_splash import SplashRequest\n",
    "...\n",
    "#Inside spider class add\n",
    "    def start_requests(self): \n",
    "         yield SplashRequest(\n",
    "                        url,\n",
    "                        self.parse, #pasing callback we sih to use\n",
    "                        endpoint='execute',\n",
    "                        args = { \n",
    "                            'lua_source': splash_script,\n",
    "                            'wait': 1,  #wait 1 second st start\n",
    "                            'elements' : ['#id-of-element','.some-class'], #css selctors\n",
    "                            'maxwait' : [20,20] #time willing to wait for each in seconds\n",
    "                            }\n",
    "                        )\n",
    "...\n",
    "\n",
    "```"
   ]
  },
  {
   "cell_type": "markdown",
   "metadata": {},
   "source": [
    "The second way is to modify the original scrapy request, this method works well when are are getting our links from the LinkExtractor. "
   ]
  },
  {
   "cell_type": "markdown",
   "metadata": {},
   "source": [
    "```python\n",
    "\n",
    "...\n",
    "   rules = [\n",
    "            Rule(LinkExtractor(allow = (r'https://detail.tmall.com/item.htm.*')),\n",
    "                 process_request = \"use_splash\"),\n",
    "        ]\n",
    "        \n",
    "    def use_splash(self, request):\n",
    "        request.meta['splash'] = {\n",
    "                'endpoint' : 'execute',\n",
    "                 'args' : { \n",
    "                    'lua_source': splash_script,\n",
    "                    'wait': 1,  \n",
    "                    'elements' : ['#id-of-element','.some-class'], \n",
    "                    'maxwait' : [20,20]\n",
    "                    }\n",
    "                 }\n",
    "        return request\n",
    "...\n",
    "```\n",
    "\n"
   ]
  },
  {
   "cell_type": "markdown",
   "metadata": {},
   "source": [
    "Make sure you you read the splash script in from the file.\n",
    "\n",
    "```python\n",
    "with open('path/to/splash/script','r') as f:\n",
    "    splash_script = f.read()\n",
    "```"
   ]
  },
  {
   "cell_type": "markdown",
   "metadata": {},
   "source": [
    "In the above examples we're asking splash to excute a lua script for us, this might not always be needed. Sometimes just sending the html to splash for rendering, along with a slight wait is enough to get  correct html. \n",
    "\n",
    "```python\n",
    "    yield SplashRequest(url,\n",
    "        args={\n",
    "            # optional; parameters passed to Splash HTTP API\n",
    "            'wait': 5,\n",
    "        },\n",
    "        endpoint='render.html',\n",
    "    )\n",
    "```\n",
    "\n",
    "Note how the endpoint argument change."
   ]
  },
  {
   "cell_type": "markdown",
   "metadata": {},
   "source": [
    "## Splash Response\n",
    "\n",
    "Splash returns us a subclass of a scrapy response, there are 3 differebt types depending on what we asked splash to return us.\n",
    "\n",
    "* SplashResponse is returned for binary Splash responses - e.g. for /render.png responses;\n",
    "* SplashTextResponse is returned when the result is text - e.g. for /render.html responses;\n",
    "* SplashJsonResponse is returned when the result is a JSON object - e.g. for /render.json responses or /execute responses when script returns a Lua table.\n",
    "\n",
    "\n",
    "Splash responses https://stackoverflow.com/questions/37203458/how-to-handle-multiple-return-values-in-scrapy-from-splash"
   ]
  },
  {
   "cell_type": "markdown",
   "metadata": {},
   "source": [
    "# Example\n",
    "\n",
    "Bellow is an example script that we can use to wait for a particular element to load"
   ]
  },
  {
   "cell_type": "markdown",
   "metadata": {},
   "source": [
    "## Waiting For An Element\n",
    "\n",
    "Often we'll request a web page but the html element that what we're looking for isn't there, this is because it's dynamically generated by javascript after the page is loaded. In these cases we can use splash to wait until the element is loaded and then send us the html. \n",
    "\n",
    "```lua\n",
    "function wait_for_element(splash, css, maxwait)\n",
    "    -- Wait until a selector matches an element\n",
    "    -- in the page. Return an error if waited more\n",
    "    -- than maxwait seconds.\n",
    "    if maxwait == nil then\n",
    "        maxwait = 10\n",
    "    end\n",
    "    return splash:wait_for_resume(string.format([[\n",
    "      function main(splash) {\n",
    "        var selector = '%s';\n",
    "        var maxwait = %s;\n",
    "        var end = Date.now() + maxwait*1000;\n",
    "        function check() {\n",
    "          if(document.querySelector(selector)) {\n",
    "            splash.resume('Element found');\n",
    "          } else if(Date.now() >= end) {\n",
    "            var err = 'Timeout waiting for element';\n",
    "            splash.error(err + \" \" + selector);\n",
    "          } else {\n",
    "            setTimeout(check, 200);\n",
    "          }\n",
    "        }\n",
    "        check();\n",
    "      }\n",
    "    ]], css, maxwait))\n",
    "  end\n",
    "  \n",
    "  function main(splash, args)\n",
    "    splash:go(args.url)\n",
    "    for i = 1 , #args.elements do \n",
    "        wait_for_element(splash, args.elements[i], args.maxwait[i])\n",
    "    end\n",
    "    return {html=splash:html()}\n",
    "  end\n",
    "```"
   ]
  },
  {
   "cell_type": "markdown",
   "metadata": {},
   "source": [
    "# Exercise\n",
    "\n",
    "* Use scrapy and splash to scrape http://quotes.toscrape.com/js/"
   ]
  }
 ],
 "metadata": {
  "kernelspec": {
   "display_name": "Python 3",
   "language": "python",
   "name": "python3"
  },
  "language_info": {
   "codemirror_mode": {
    "name": "ipython",
    "version": 3
   },
   "file_extension": ".py",
   "mimetype": "text/x-python",
   "name": "python",
   "nbconvert_exporter": "python",
   "pygments_lexer": "ipython3",
   "version": "3.6.3"
  }
 },
 "nbformat": 4,
 "nbformat_minor": 2
}
