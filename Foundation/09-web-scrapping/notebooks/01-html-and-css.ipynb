{
 "cells": [
  {
   "cell_type": "markdown",
   "metadata": {},
   "source": [
    "# HTML, CSS and Javascript\n",
    "\n",
    "There's a tiro of technologies commonly used  in the  creation of webpages:\n",
    "\n",
    "* HTML - used to create the content of the page\n",
    "* CSS - used to style the content. \n",
    "* Javascript - used to add interactivity to pages, add logic and fetch data.\n",
    "\n",
    "\n",
    "The browser rendering engine takes the html and css and renders it into a webpage.  Afterwards any javascript is then excuted, this may change the layout of the page, or fetch some additional data. \n",
    "\n",
    "\n"
   ]
  },
  {
   "cell_type": "markdown",
   "metadata": {},
   "source": [
    "# HTML \n",
    "HTML (Hyper Text Markup Langage) is used to contain the content of a web page, itconsists of html elements or tags which are names surrounded by angle brackets (<>). HTML tags usually come in pairs, for example:\n",
    "\n",
    "```\n",
    "<tagname>content goes here...</tagname>\n",
    "\n",
    "```\n",
    "\n",
    "\n",
    "Bellow we have an example of what HTML looks like. We can use the ipython html magic (`%%html`) to excute the html in the notebook so we can see how it renders. "
   ]
  },
  {
   "cell_type": "code",
   "execution_count": 1,
   "metadata": {},
   "outputs": [
    {
     "data": {
      "text/html": [
       "<body>\n",
       "    <h1>This is a heading</h1>\n",
       "    <p>Normal text usually going in paragraph tags</p>\n",
       "    <ul>\n",
       "        <li>Item 1</li>\n",
       "        <li><strong>We can bold text by putting it inside strong tags</strong></li>\n",
       "        <li> <a href=\"https://developer.mozilla.org/en-US/docs/Web/HTML/Element\">Link to MDN Docs</a> </li>\n",
       "    </ul>\n",
       "</body>"
      ],
      "text/plain": [
       "<IPython.core.display.HTML object>"
      ]
     },
     "metadata": {},
     "output_type": "display_data"
    }
   ],
   "source": [
    "%%html\n",
    "<body>\n",
    "    <h1>This is a heading</h1>\n",
    "    <p>Normal text usually going in paragraph tags</p>\n",
    "    <ul>\n",
    "        <li>Item 1</li>\n",
    "        <li><strong>We can bold text by putting it inside strong tags</strong></li>\n",
    "        <li> <a href=\"https://developer.mozilla.org/en-US/docs/Web/HTML/Element\">Link to MDN Docs</a> </li>\n",
    "    </ul>\n",
    "</body>"
   ]
  },
  {
   "cell_type": "markdown",
   "metadata": {},
   "source": [
    "HTML elements can also have attributes, these attributes provide a way to add additional information to the element. For example in the `<a>` tag there is a href attribute which contains a link to another site.\n",
    "\n",
    "```html\n",
    "<a href=\"https://www.javascript.com/\" >JavaScript</a>\n",
    "```\n",
    "\n",
    "Another common tag is the ` <div>` tag. Web developers use div tags to divide up pages and apply styles easily to lots of elements. The div tags often contain a class attribute, which can be targeted with css. \n",
    "\n",
    "\n",
    "```html\n",
    "  <div class=\"red\">\n",
    "        <p>Some text that I want read</p>\n",
    "  </div>\n",
    "```\n",
    "\n",
    "A`<style>` tag can be used to contain CSS which allows us to apply different styling to the html. For illustrative purposes I put the CSS inside the style tag but usally it is within a seperate file called a stylesheet and linked to the html document using a `<link>` tag. Class attribtutes can be reused to apply the same styles to many elements. This is in contrast to id attributes which should be used on a single element. Notice that in CSS classes start with a dot e.g `.classname` , whereas ID's start with a hashtag e.g `#myid`. More on CSS later."
   ]
  },
  {
   "cell_type": "code",
   "execution_count": 4,
   "metadata": {},
   "outputs": [
    {
     "data": {
      "text/html": [
       "<body>\n",
       "    <style>\n",
       "        .red {\n",
       "            color:red\n",
       "        }\n",
       "        \n",
       "        .hidden {\n",
       "            display:none\n",
       "        }\n",
       "        \n",
       "        #an_id {\n",
       "            color: blue\n",
       "        }\n",
       "    \n",
       "    </style>\n",
       "    <h2 class=\"hidden\">This text will be hidden. Try and remove the hidden class to see what happens.</h2>\n",
       "    <div class=\"red\">\n",
       "        <p> This text will be red because it is surrounded by a div that has a class of red. </p>\n",
       "        <p id=\"an_id\">The styling from IDs has higher proirty over classes, hence me being blue. Ids should be unique</p>\n",
       "    </div>\n",
       "    <img src=\"http://www.catster.com/wp-content/uploads/2017/08/A-fluffy-cat-looking-funny-surprised-or-concerned.jpg\" alt=\"\">\n",
       "</body>"
      ],
      "text/plain": [
       "<IPython.core.display.HTML object>"
      ]
     },
     "metadata": {},
     "output_type": "display_data"
    }
   ],
   "source": [
    "%%html\n",
    "<body>\n",
    "    <style>\n",
    "        .red {\n",
    "            color:red\n",
    "        }\n",
    "        \n",
    "        .hidden {\n",
    "            display:none\n",
    "        }\n",
    "        \n",
    "        #an_id {\n",
    "            color: blue\n",
    "        }\n",
    "    \n",
    "    </style>\n",
    "    <h2 class=\"hidden\">This text will be hidden. Try and remove the hidden class to see what happens.</h2>\n",
    "    <div class=\"red\">\n",
    "        <p> This text will be red because it is surrounded by a div that has a class of red. </p>\n",
    "        <p id=\"an_id\">The styling from IDs has higher proirty over classes, hence me being blue. Ids should be unique</p>\n",
    "    </div>\n",
    "    <img src=\"http://www.catster.com/wp-content/uploads/2017/08/A-fluffy-cat-looking-funny-surprised-or-concerned.jpg\" alt=\"\">\n",
    "</body>"
   ]
  },
  {
   "cell_type": "markdown",
   "metadata": {},
   "source": [
    "Html is infact a type of tree structure so when describing html you may hear the use words such as parent, child, sibling and ancestor node. A child node is anything that is contained within an element, for example the p tags within the div are children of the div. Siblings are elments that are next to each other in the tree for example the two p tags above are siblings. A parents node is the node directly above an element.  For more on the HTML Tree see [here](https://javascript.info/dom-nodes).  There are many html elements, a good resource to learn more about them and web tech in general is MDN (mozilla development network) [documentation](https://developer.mozilla.org/en-US/docs/Web/HTML/Element)"
   ]
  },
  {
   "cell_type": "markdown",
   "metadata": {},
   "source": [
    "Bellow is one final example of a table in html."
   ]
  },
  {
   "cell_type": "code",
   "execution_count": 2,
   "metadata": {},
   "outputs": [
    {
     "data": {
      "text/html": [
       "<table style=\"width:100%\">\n",
       "  <tr>   \n",
       "    <th>Firstname</th>\n",
       "    <th>Lastname</th> \n",
       "    <th>Age</th>\n",
       "  </tr>\n",
       "  <tr>\n",
       "    <td>Jill</td>\n",
       "    <td>Smith</td> \n",
       "    <td>50</td>\n",
       "  </tr>\n",
       "  <tr>\n",
       "    <td>Eve</td>\n",
       "    <td>Jackson</td> \n",
       "    <td>94</td>\n",
       "  </tr>\n",
       "</table>"
      ],
      "text/plain": [
       "<IPython.core.display.HTML object>"
      ]
     },
     "metadata": {},
     "output_type": "display_data"
    }
   ],
   "source": [
    "%%html\n",
    "<table style=\"width:100%\">\n",
    "  <tr>   \n",
    "    <th>Firstname</th>\n",
    "    <th>Lastname</th> \n",
    "    <th>Age</th>\n",
    "  </tr>\n",
    "  <tr>\n",
    "    <td>Jill</td>\n",
    "    <td>Smith</td> \n",
    "    <td>50</td>\n",
    "  </tr>\n",
    "  <tr>\n",
    "    <td>Eve</td>\n",
    "    <td>Jackson</td> \n",
    "    <td>94</td>\n",
    "  </tr>\n",
    "</table>"
   ]
  },
  {
   "cell_type": "markdown",
   "metadata": {},
   "source": [
    "# CSS\n",
    "\n",
    "CSS (Cascading style sheets) are help web developers design and structure a page. HTML contains the content of a page and CSS is used to describe how to lay it out. "
   ]
  },
  {
   "cell_type": "markdown",
   "metadata": {},
   "source": [
    "## Styling with CSS\n",
    "\n",
    "Bellow some html without any styling provided."
   ]
  },
  {
   "cell_type": "code",
   "execution_count": 13,
   "metadata": {},
   "outputs": [
    {
     "data": {
      "text/html": [
       "<body>\n",
       "    <div>\n",
       "        <header>\n",
       "            <h1>Welcome to my page</h1>\n",
       "        </header>\n",
       "        <section>\n",
       "            <div>\n",
       "                <h3>Navigate my page</h3>\n",
       "                <ul>\n",
       "                    <li><a href=\"/index.html\">Home</a></li>\n",
       "                    <li><a href=\"/about.html\">About</a></li>\n",
       "                </ul>\n",
       "            </div>\n",
       "            <div>\n",
       "                <h2>Text about me</h2>\n",
       "                <p>Roof party fap synth meh bushwick. Stumptown cray farm-to-table celiac marfa, ugh chillwave DIY everyday carry. Seitan wolf taxidermy fanny pack, gastropub activated charcoal la croix bitters. Four dollar toast umami echo park post-ironic pop-up man braid. Try-hard normcore tofu, chartreuse next level mlkshk gluten-free chicharrones prism vegan glossier seitan health goth banjo.</p>\n",
       "            </div>\n",
       "        </section>\n",
       "    </div>\n",
       "</body>"
      ],
      "text/plain": [
       "<IPython.core.display.HTML object>"
      ]
     },
     "metadata": {},
     "output_type": "display_data"
    }
   ],
   "source": [
    "%%html\n",
    "<body>\n",
    "    <div>\n",
    "        <header>\n",
    "            <h1>Welcome to my page</h1>\n",
    "        </header>\n",
    "        <section>\n",
    "            <div>\n",
    "                <h3>Navigate my page</h3>\n",
    "                <ul>\n",
    "                    <li><a href=\"/index.html\">Home</a></li>\n",
    "                    <li><a href=\"/about.html\">About</a></li>\n",
    "                </ul>\n",
    "            </div>\n",
    "            <div>\n",
    "                <h2>Text about me</h2>\n",
    "                <p>Roof party fap synth meh bushwick. Stumptown cray farm-to-table celiac marfa, ugh chillwave DIY everyday carry. Seitan wolf taxidermy fanny pack, gastropub activated charcoal la croix bitters. Four dollar toast umami echo park post-ironic pop-up man braid. Try-hard normcore tofu, chartreuse next level mlkshk gluten-free chicharrones prism vegan glossier seitan health goth banjo.</p>\n",
    "            </div>\n",
    "        </section>\n",
    "    </div>\n",
    "</body>"
   ]
  },
  {
   "cell_type": "markdown",
   "metadata": {},
   "source": [
    "Lets add some attributes to the html  and CSS to style it."
   ]
  },
  {
   "cell_type": "code",
   "execution_count": 12,
   "metadata": {},
   "outputs": [
    {
     "data": {
      "text/html": [
       "<body>\n",
       "<style>\n",
       "body {\n",
       "    background-color: #9B9B9B;\n",
       "}\n",
       "\n",
       "#container {\n",
       "    width: 800px;\n",
       "    margin: auto;\n",
       "    background-color: white;\n",
       "}\n",
       "\n",
       ".heading {\n",
       "    text-align: center;\n",
       "    padding-top: 20px;\n",
       "}\n",
       "\n",
       "section {\n",
       "    display: flex;\n",
       "}\n",
       "\n",
       "#navigation {\n",
       "    width: 30%;\n",
       "    padding-left: 30px;\n",
       "}\n",
       "\n",
       "#content {\n",
       "    width: 60%;\n",
       "}\n",
       "\n",
       ".link {\n",
       "    color: red;\n",
       "}\n",
       "\n",
       "\n",
       "</style>\n",
       "\n",
       "\n",
       "    <div id=\"container\">\n",
       "        <header>\n",
       "            <h1 class=\"heading\">Welcome to my page</h1>\n",
       "        </header>\n",
       "        <section>\n",
       "            <div id=\"navigation\">\n",
       "                <h3>Navigate my page</h3>\n",
       "                <ul>\n",
       "                    <li><a href=\"/index.html\" class=\"link\">Home</a></li>\n",
       "                    <li><a href=\"/about.html\" class=\"link\">About</a></li>\n",
       "                </ul>\n",
       "            </div>\n",
       "            <div id=\"content\">\n",
       "                <h2>Text about me</h2>\n",
       "                <p>Roof party fap synth meh bushwick. Stumptown cray farm-to-table celiac marfa, ugh chillwave DIY everyday carry. \n",
       "                Seitan wolf taxidermy fanny pack, gastropub activated charcoal la croix bitters.\n",
       "                Four dollar toast umami echo park post-ironic pop-up man braid. Try-hard normcore tofu, \n",
       "                chartreuse next level mlkshk gluten-free chicharrones prism vegan glossier seitan health goth banjo.\n",
       "                </p>\n",
       "            </div>\n",
       "        </section>\n",
       "    </div>\n",
       "</body>"
      ],
      "text/plain": [
       "<IPython.core.display.HTML object>"
      ]
     },
     "metadata": {},
     "output_type": "display_data"
    }
   ],
   "source": [
    "%%html\n",
    "<body>\n",
    "<style>\n",
    "body {\n",
    "    background-color: #9B9B9B;\n",
    "}\n",
    "\n",
    "#container {\n",
    "    width: 800px;\n",
    "    margin: auto;\n",
    "    background-color: white;\n",
    "}\n",
    "\n",
    ".heading {\n",
    "    text-align: center;\n",
    "    padding-top: 20px;\n",
    "}\n",
    "\n",
    "section {\n",
    "    display: flex;\n",
    "}\n",
    "\n",
    "#navigation {\n",
    "    width: 30%;\n",
    "    padding-left: 30px;\n",
    "}\n",
    "\n",
    "#content {\n",
    "    width: 60%;\n",
    "}\n",
    "\n",
    ".link {\n",
    "    color: red;\n",
    "}\n",
    "\n",
    "\n",
    "</style>\n",
    "\n",
    "\n",
    "    <div id=\"container\">\n",
    "        <header>\n",
    "            <h1 class=\"heading\">Welcome to my page</h1>\n",
    "        </header>\n",
    "        <section>\n",
    "            <div id=\"navigation\">\n",
    "                <h3>Navigate my page</h3>\n",
    "                <ul>\n",
    "                    <li><a href=\"/index.html\" class=\"link\">Home</a></li>\n",
    "                    <li><a href=\"/about.html\" class=\"link\">About</a></li>\n",
    "                </ul>\n",
    "            </div>\n",
    "            <div id=\"content\">\n",
    "                <h2>Text about me</h2>\n",
    "                <p>Roof party fap synth meh bushwick. Stumptown cray farm-to-table celiac marfa, ugh chillwave DIY everyday carry. \n",
    "                Seitan wolf taxidermy fanny pack, gastropub activated charcoal la croix bitters.\n",
    "                Four dollar toast umami echo park post-ironic pop-up man braid. Try-hard normcore tofu, \n",
    "                chartreuse next level mlkshk gluten-free chicharrones prism vegan glossier seitan health goth banjo.\n",
    "                </p>\n",
    "            </div>\n",
    "        </section>\n",
    "    </div>\n",
    "</body>"
   ]
  },
  {
   "cell_type": "markdown",
   "metadata": {},
   "source": [
    "We can see how the layout of the page has changed."
   ]
  },
  {
   "cell_type": "markdown",
   "metadata": {},
   "source": [
    "## CSS Syntax\n",
    "\n",
    "\n",
    "The syntax of CSS is quite simple it consists to a propetry and a value seperated by a colon and a selector which specifies which html element to target.\n",
    "\n",
    "![Css selector](https://cdn.mos.cms.futurecdn.net/c3cf2e9ff8f8adfe64311cc5f4c1f82a-650-80.png)\n",
    "\n",
    "For the purpose of web scrapping what we really care about is how CSS selectors work because they provide us a effiective way to specify which html elements we want. In other works they provide a langauge to specify which piece of data we want to extract from a web page."
   ]
  },
  {
   "cell_type": "markdown",
   "metadata": {},
   "source": [
    "For a more detailed explanation of CSS see [here](https://developer.mozilla.org/en-US/docs/Learn/CSS/Introduction_to_CSS)"
   ]
  },
  {
   "cell_type": "markdown",
   "metadata": {},
   "source": [
    "## CSS Selectors\n",
    "\n",
    "CSS Selectors are little lanaguge to specify which html element we wish to select.\n",
    "\n",
    "### Element Selectorss \n",
    "\n",
    "The most basic css selectors simply the name of the element that you would like to select. For example bellow the css selector would select all `p` tags and colour them red.\n",
    "\n",
    "```css\n",
    "p {\n",
    "color: red;\n",
    "}\n",
    "```\n",
    "\n",
    "### Descendant Selectors\n",
    "\n",
    "\n",
    "Descendant selectors can be used to selected elements within other elements. For example the css bellow would select all `li` elements contained within  a `ul` \n",
    "\n",
    "```\n",
    "ul li {\n",
    "border-bottom: 1px gray solid;\n",
    "}\n",
    "```\n",
    "\n",
    "### Classes\n",
    "\n",
    "\n",
    "Classes start with a dot **`.`** and can be used to select elements that have that class as an attribute.\n",
    "\n",
    "```.green\n",
    ".spaghetti {\n",
    "background-color: green;\n",
    "}\n",
    "```\n",
    "    \n",
    "### IDs\n",
    "\n",
    "IDs start with a hash tag # and are used to apply a css style to a unique element.\n",
    "\n",
    "```css\n",
    "#fusilli {\n",
    "background-color: yellow;\n",
    "}\n",
    "```\n",
    "\n",
    "### Chained Selectors\n",
    "\n",
    "When using classes we can chain selectors together. For example the selector bellow would select all elements that have both the `.spaghetti` and `.penne` class.\n",
    "\n",
    "```css\n",
    ".spaghetti.penne {\n",
    "background: blue;\n",
    "}\n",
    "```\n",
    "\n",
    "There are many more ways to write CSS selectors so I won't continue to list them all here but hopefully you get the point. To learn the other ways I suggest you use a [cheatsheet](https://www.w3schools.com/cssref/css_selectors.asp).\n"
   ]
  },
  {
   "cell_type": "markdown",
   "metadata": {},
   "source": [
    "# Chrome Development Tools\n",
    "\n",
    "Before we can scrape a webpage we need to understand it's structure, for this we'll use the chrome developer tools to inspect it. Most of the browsers have development tools but chrome's are among the best. The development tools allow us to inspect a html page easily so that we can find the html elements which we would like to extract information from. They also allow us to look at network requests to see if the page fetching or sending data via AJAX."
   ]
  },
  {
   "cell_type": "markdown",
   "metadata": {},
   "source": [
    "# Javascript\n",
    "\n",
    "Currently Javascript is the most popular langauge and certianly the langauge of the web.You need to use JS for anything dynamic in your web browser. Closing a popup by clicking a button? Logging into an app? Displaying content endlessly on your Facebook feed? All of this is achieved with the magic of JavaScript. JavaScript support is built right into all the major web browsers, and each browser has a JS console. For a brief overview of the langauge see [javascript in Y minutes](https://learnxinyminutes.com/docs/javascript/). Don't worry about learning any javascript it your not fully comfortable with python yet. Nevertheless bellow is some of the usefull aspect of javascript you may use in web scrapping. First is beinig able to select particular html elements, for this we can reuse our CSS selectors.\n",
    "\n",
    "```javascript\n",
    "// To Select by ID , prepend the id that you wanted to select with '#'\n",
    "document.querySelector('#id')\n",
    "\n",
    "// To select by class, prepend the class that you wanted to select with '.'\n",
    "document.querySelector('.class')\n",
    "\n",
    "// To select by two class, write them together. NO SPACE in the middle.\n",
    "// Only the element that are matching these two classes will be selected.\n",
    "document.querySelector('.class1.class2')\n",
    "\n",
    "// And No, you couldn't have two ids for an element. You don't have two ID Card right?\n",
    "\n",
    "// To select a specific tag by its tag name , just write the name of tag as selector.\n",
    "// This example selects ALL of the <a></a> in your webpage\n",
    "document.querySelectorAll('a')\n",
    "\n",
    "// To select multiple distinct elements at the same time, sepearte the selector with comman(,)\n",
    "// The following example selects all the element with class=class or id=id or <a> tag in your webpage.\n",
    "document.querySelectorAll('.class,#id,a')\n",
    "\n",
    "```\n",
    "\n",
    "Selecting and element returns a DOM element which has a number of methods and attributes. After we've selected an element we'll usually want to extract information form the element or alterntively click on it. We can access attributes of the element by using it like a dictionary. The text can be accessed using `.text`.\n",
    "\n",
    "```javascript\n",
    "link = document.querySelector('#linkICareAbout')\n",
    "href = link['href'] \n",
    "text = link.text \n",
    "\n",
    "```\n",
    "\n",
    "Clicking on the element is also quite simple\n",
    "\n",
    "```javascript\n",
    "\n",
    "//Select a button with id of #next-page-button\n",
    "button = document.querySelector('#next-page-button')\n",
    "button.click()\n",
    "\n",
    "```\n",
    "\n",
    "Slightly less often we may want to submit a form. In order to do this we'll have to fill out the input fields of the form and then finally click on the submit button. This would look something like.\n",
    "\n",
    "```javascript\n",
    "//Select a input field with the id of full-name\n",
    "fullname = document.querySelector('#full-name')\n",
    "//Set the value of the input field\n",
    "fullname.value = 'Dom Morgan'\n",
    "\n",
    "email = document.querySelector('#email')\n",
    "email.value = 'somewhere@email.com'\n",
    "\n",
    "//Finaly Submit the from by clicking on the submit button\n",
    "sumbitButton = document.querySelector('#submit-button')\n",
    "sumbitButton.click()\n",
    "\n",
    "```"
   ]
  }
 ],
 "metadata": {
  "kernelspec": {
   "display_name": "Python 3",
   "language": "python",
   "name": "python3"
  },
  "language_info": {
   "codemirror_mode": {
    "name": "ipython",
    "version": 3
   },
   "file_extension": ".py",
   "mimetype": "text/x-python",
   "name": "python",
   "nbconvert_exporter": "python",
   "pygments_lexer": "ipython3",
   "version": "3.6.5"
  }
 },
 "nbformat": 4,
 "nbformat_minor": 2
}
