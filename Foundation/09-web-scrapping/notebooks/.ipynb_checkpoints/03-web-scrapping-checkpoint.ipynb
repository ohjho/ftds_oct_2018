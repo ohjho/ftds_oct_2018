{
 "cells": [
  {
   "cell_type": "markdown",
   "metadata": {},
   "source": [
    "# Web Scrapping\n",
    "\n",
    "Web scrapping is the process of extracting usefull information from web pages, before we can get into web scrapping we should have a basic understanding of the technologies used to create webpages. The process involves making a HTTP request to a website and parsing the returned HTML so we can extract the information.\n",
    "\n"
   ]
  },
  {
   "cell_type": "markdown",
   "metadata": {},
   "source": [
    "# HTTP\n",
    "\n"
   ]
  },
  {
   "cell_type": "code",
   "execution_count": 1,
   "metadata": {},
   "outputs": [],
   "source": [
    "from requests_html import HTMLSession"
   ]
  },
  {
   "cell_type": "code",
   "execution_count": 2,
   "metadata": {},
   "outputs": [],
   "source": [
    "sess = HTMLSession()"
   ]
  },
  {
   "cell_type": "code",
   "execution_count": 3,
   "metadata": {},
   "outputs": [],
   "source": [
    "url = \"https://en.wikipedia.org/wiki/42_(number)\""
   ]
  },
  {
   "cell_type": "code",
   "execution_count": 4,
   "metadata": {},
   "outputs": [],
   "source": [
    "response = sess.get(url) #make get request"
   ]
  },
  {
   "cell_type": "markdown",
   "metadata": {},
   "source": [
    "The response object has many methods. Bellow we look at the status code of the response to check if it was successfull."
   ]
  },
  {
   "cell_type": "code",
   "execution_count": 5,
   "metadata": {},
   "outputs": [
    {
     "data": {
      "text/plain": [
       "200"
      ]
     },
     "execution_count": 5,
     "metadata": {},
     "output_type": "execute_result"
    }
   ],
   "source": [
    "response.status_code #200 means succesfull"
   ]
  },
  {
   "cell_type": "markdown",
   "metadata": {},
   "source": [
    "Headers allow us to contain additional information we sending and responding to HTTP requests, such as if the request is coming from a laptop or a mobile or which browser was used to make the request. In the response headers bellow we can see some additional information like character encoding ('utf-8') and that the content has been gzipped. The browser will make use of this information to render the page correctly."
   ]
  },
  {
   "cell_type": "code",
   "execution_count": 6,
   "metadata": {},
   "outputs": [
    {
     "data": {
      "text/plain": [
       "{'Date': 'Wed, 20 Jun 2018 04:39:02 GMT', 'Content-Type': 'text/html; charset=UTF-8', 'Content-Length': '47641', 'Connection': 'keep-alive', 'Server': 'mw1247.eqiad.wmnet', 'X-Content-Type-Options': 'nosniff', 'P3P': 'CP=\"This is not a P3P policy! See https://en.wikipedia.org/wiki/Special:CentralAutoLogin/P3P for more info.\"', 'X-Powered-By': 'HHVM/3.18.6-dev', 'Content-language': 'en', 'Vary': 'Accept-Encoding,Cookie,Authorization', 'Link': '</static/images/project-logos/enwiki.png>;rel=preload;as=image;media=not all and (min-resolution: 1.5dppx),</static/images/project-logos/enwiki-1.5x.png>;rel=preload;as=image;media=(min-resolution: 1.5dppx) and (max-resolution: 1.999999dppx),</static/images/project-logos/enwiki-2x.png>;rel=preload;as=image;media=(min-resolution: 2dppx)', 'Last-Modified': 'Tue, 19 Jun 2018 22:38:51 GMT', 'Backend-Timing': 'D=105941 t=1529448196438069', 'Content-Encoding': 'gzip', 'X-Varnish': '465681593 449058662, 116932997 97369490, 124377582 76287078, 687304923 608670712', 'Via': '1.1 varnish (Varnish/5.1), 1.1 varnish (Varnish/5.1), 1.1 varnish (Varnish/5.1), 1.1 varnish (Varnish/5.1)', 'Age': '21344', 'X-Cache': 'cp1066 hit/5, cp2010 hit/1, cp5011 hit/7, cp5007 hit/10', 'X-Cache-Status': 'hit-front', 'Strict-Transport-Security': 'max-age=106384710; includeSubDomains; preload', 'Set-Cookie': 'WMF-Last-Access=20-Jun-2018;Path=/;HttpOnly;secure;Expires=Sun, 22 Jul 2018 00:00:00 GMT, WMF-Last-Access-Global=20-Jun-2018;Path=/;Domain=.wikipedia.org;HttpOnly;secure;Expires=Sun, 22 Jul 2018 00:00:00 GMT, GeoIP=HK:HCW:Central:22.28:114.15:v4; Path=/; secure; Domain=.wikipedia.org', 'X-Analytics': 'ns=0;page_id=191178;https=1;nocookies=1', 'X-Client-IP': '42.200.176.163', 'Cache-Control': 'private, s-maxage=0, max-age=0, must-revalidate', 'Accept-Ranges': 'bytes'}"
      ]
     },
     "execution_count": 6,
     "metadata": {},
     "output_type": "execute_result"
    }
   ],
   "source": [
    "response.headers"
   ]
  },
  {
   "cell_type": "markdown",
   "metadata": {},
   "source": [
    "What we're really intrested in is the responses text in other words the HTML document itself."
   ]
  },
  {
   "cell_type": "code",
   "execution_count": 7,
   "metadata": {},
   "outputs": [
    {
     "name": "stdout",
     "output_type": "stream",
     "text": [
      "Number of chars:  250460\n"
     ]
    },
    {
     "data": {
      "text/plain": [
       "'<!DOCTYPE html>\\n<html class=\"client-nojs\" lang=\"en\" dir=\"ltr\">\\n<head>\\n<meta charset=\"UTF-8\"/>\\n<title>42 (number) - Wikipedia</title>\\n<script>document.documentElement.className = document.documentElement.className.replace( /(^|\\\\s)client-nojs(\\\\s|$)/, \"$1client-js$2\" );</script>\\n<script>(window.RLQ=window.RLQ||[]).push(function(){mw.config.set({\"wgCanonicalNamespace\":\"\",\"wgCanonicalSpecialPageName\":false,\"wgNamespaceNumber\":0,\"wgPageName\":\"42_(number)\",\"wgTitle\":\"42 (number)\",\"wgCurRevisionId\":844818912,\"wgRevisionId\":844818912,\"wgArticleId\":191178,\"wgIsArticle\":true,\"wgIsRedirect\":false,\"wgAction\":\"view\",\"wgUserName\":null,\"wgUserGroups\":[\"*\"],\"wgCategories\":[\"CS1: Julian–Gregorian uncertainty\",\"All articles with dead external links\",\"Articles with dead external links from December 2017\",\"Articles with permanently dead external links\",\"Articles needing additional references from February 2011\",\"All articles needing additional references\",\"Articles with short description\",\"All articles wit'"
      ]
     },
     "execution_count": 7,
     "metadata": {},
     "output_type": "execute_result"
    }
   ],
   "source": [
    "html = response.text #the html\n",
    "print(\"Number of chars: \",len(html))\n",
    "html[:1000]"
   ]
  },
  {
   "cell_type": "markdown",
   "metadata": {},
   "source": [
    "As you can see it would be very tricky to extract information out of this  large html document without some help, this is where beautiful soup comes in."
   ]
  },
  {
   "cell_type": "markdown",
   "metadata": {},
   "source": [
    "## CSS Selectors\n",
    "\n",
    "Web developers use CSS selectors to select elements on the page they want to apply styling on. Hence CSS Selectors provide us with a succint way to specify which information on the html page we'd like to extract.  The simplest way to get to grips with them is to play one of these games:\n",
    "\n",
    "* [CSS Diner](https://flukeout.github.io/)\n",
    "* [CSS Leveler](http://toolness.github.io/css-selector-game/)\n",
    "\n",
    "Alternatively you could write a simple html page and try to style it.  For a good cheatsheet on CSS Selectors and Xpath see [here](http://www.cheetyr.com/css-selectors).\n"
   ]
  },
  {
   "cell_type": "markdown",
   "metadata": {},
   "source": [
    "# Parsing HTML\n",
    "\n",
    "Request html can also help us parse the html and return an easy to use object, using this object we can get anything we want from the page. First however we need to spot what information we want and what kind of HTML element is it contained in. Does that element always have a certain attribute, or some other unique way to identify it? The easiest way to do this is using the chrome developer tools."
   ]
  },
  {
   "cell_type": "markdown",
   "metadata": {},
   "source": [
    "## Links\n",
    "Using `soup.find_all` we can extract all of the `<a>` tags from a page."
   ]
  },
  {
   "cell_type": "code",
   "execution_count": 8,
   "metadata": {},
   "outputs": [
    {
     "data": {
      "text/plain": [
       "[<Element 'a' id='top'>,\n",
       " <Element 'a' class=('mw-jump-link',) href='#mw-head'>,\n",
       " <Element 'a' class=('mw-jump-link',) href='#p-search'>,\n",
       " <Element 'a' href='/wiki/File:Question_book-new.svg' class=('image',)>,\n",
       " <Element 'a' href='/wiki/Wikipedia:Verifiability' title='Wikipedia:Verifiability'>]"
      ]
     },
     "execution_count": 8,
     "metadata": {},
     "output_type": "execute_result"
    }
   ],
   "source": [
    "a_tags = response.html.find('a') #get all a tags\n",
    "a_tags[:5]"
   ]
  },
  {
   "cell_type": "markdown",
   "metadata": {},
   "source": [
    "We can access the attribute from a tag using `.attrs`, which returns us a dictionary of the attributes."
   ]
  },
  {
   "cell_type": "code",
   "execution_count": 9,
   "metadata": {},
   "outputs": [
    {
     "data": {
      "text/plain": [
       "{'class': ('mw-jump-link',), 'href': '#mw-head'}"
      ]
     },
     "execution_count": 9,
     "metadata": {},
     "output_type": "execute_result"
    }
   ],
   "source": [
    "a_tag = a_tags[1]\n",
    "a_tag.attrs"
   ]
  },
  {
   "cell_type": "markdown",
   "metadata": {},
   "source": [
    "If we only want `<a>` tags with a href attibute, we could filter it using a list comprhension"
   ]
  },
  {
   "cell_type": "code",
   "execution_count": 10,
   "metadata": {},
   "outputs": [
    {
     "data": {
      "text/plain": [
       "[<Element 'a' class=('mw-jump-link',) href='#mw-head'>,\n",
       " <Element 'a' class=('mw-jump-link',) href='#p-search'>,\n",
       " <Element 'a' href='/wiki/File:Question_book-new.svg' class=('image',)>,\n",
       " <Element 'a' href='/wiki/Wikipedia:Verifiability' title='Wikipedia:Verifiability'>,\n",
       " <Element 'a' class=('external', 'text') href='//en.wikipedia.org/w/index.php?title=42_(number)&action=edit'>]"
      ]
     },
     "execution_count": 10,
     "metadata": {},
     "output_type": "execute_result"
    }
   ],
   "source": [
    "[ a for a in a_tags if 'href' in a.attrs][:5]"
   ]
  },
  {
   "cell_type": "markdown",
   "metadata": {},
   "source": [
    "But if all we want is the links. Then there are some convient funcitons for us, `response.html.links` returns a set of all the links."
   ]
  },
  {
   "cell_type": "code",
   "execution_count": 11,
   "metadata": {},
   "outputs": [
    {
     "data": {
      "text/plain": [
       "['/wiki/370_(number)',\n",
       " '/wiki/Coldplay',\n",
       " '/w/index.php?title=42_(number)&action=edit&section=11',\n",
       " '/wiki/136_(number)',\n",
       " '/wiki/623_(number)']"
      ]
     },
     "execution_count": 11,
     "metadata": {},
     "output_type": "execute_result"
    }
   ],
   "source": [
    "list(response.html.links)[:5]"
   ]
  },
  {
   "cell_type": "markdown",
   "metadata": {},
   "source": [
    "Another option is to use [css selectors](https://www.w3schools.com/cssref/css_selectors.asp), if we want a tags with a particular href."
   ]
  },
  {
   "cell_type": "code",
   "execution_count": 12,
   "metadata": {},
   "outputs": [
    {
     "data": {
      "text/plain": [
       "[<Element 'a' href='/wiki/Greek_numerals' title='Greek numerals'>,\n",
       " <Element 'a' href='/wiki/Roman_numerals' title='Roman numerals'>,\n",
       " <Element 'a' href='/wiki/Arabic_numerals' title='Arabic numerals'>,\n",
       " <Element 'a' href='/wiki/Chinese_numerals' title='Chinese numerals'>,\n",
       " <Element 'a' href='/wiki/Chuvash_numerals' title='Chuvash numerals'>,\n",
       " <Element 'a' href='/wiki/Hebrew_numerals' title='Hebrew numerals'>]"
      ]
     },
     "execution_count": 12,
     "metadata": {},
     "output_type": "execute_result"
    }
   ],
   "source": [
    "response.html.find('a[href*=numerals]') # select all a tags where the href contains the substring numerals."
   ]
  },
  {
   "cell_type": "markdown",
   "metadata": {},
   "source": [
    "## Text\n",
    "\n",
    "Often we'll want to extract text from a webpage we can use `get_text` for that."
   ]
  },
  {
   "cell_type": "code",
   "execution_count": 13,
   "metadata": {},
   "outputs": [
    {
     "data": {
      "text/plain": [
       "'42 (number) - Wikipedia\\ndocument.documentElement.className = document.documentElement.className.replace( /(^|\\\\s)client-nojs(\\\\s|$)/, \"$1client-js$2\" ); (window.RLQ=window.RLQ||[]).push(function(){mw.config.set({\"wgCanonicalNamespace\":\"\",\"wgCanonicalSpecialPageName\":false,\"wgNamespaceNumber\":0,\"wgPageName\":\"42_(number)\",\"wgTitle\":\"42 (number)\",\"wgCurRevisionId\":844818912,\"wgRevisionId\":844818912,\"wgArticleId\":191178,\"wgIsArticle\":true,\"wgIsRedirect\":false,\"wgAction\":\"view\",\"wgUserName\":null,\"wgUserGroups\":[\"*\"],\"wgCategories\":[\"CS1: Julian–Gregorian uncertainty\",\"All articles with dead external links\",\"Articles with dead external links from December 2017\",\"Articles with permanently dead external links\",\"Articles needing additional references from February 2011\",\"All articles needing additional references\",\"Articles with short description\",\"All articles with unsourced statements\",\"Articles with unsourced statements from February 2011\",\"Articles with unsourced statements from April 2018\",\"'"
      ]
     },
     "execution_count": 13,
     "metadata": {},
     "output_type": "execute_result"
    }
   ],
   "source": [
    "text = response.html.text\n",
    "text[:1000]"
   ]
  },
  {
   "cell_type": "markdown",
   "metadata": {},
   "source": [
    "This also gets lots of texy that we don't care about. Well have to be more specific, likes only get the text from the p tags."
   ]
  },
  {
   "cell_type": "code",
   "execution_count": 14,
   "metadata": {},
   "outputs": [
    {
     "data": {
      "text/plain": [
       "<Element 'p' >"
      ]
     },
     "execution_count": 14,
     "metadata": {},
     "output_type": "execute_result"
    }
   ],
   "source": [
    "p_tags =  response.html.find('p')\n",
    "p_tags[0]"
   ]
  },
  {
   "cell_type": "code",
   "execution_count": 15,
   "metadata": {},
   "outputs": [
    {
     "data": {
      "text/plain": [
       "'42 (forty-two) is the natural number that succeeds 41 and precedes 43.'"
      ]
     },
     "execution_count": 15,
     "metadata": {},
     "output_type": "execute_result"
    }
   ],
   "source": [
    "p_tags[0].text"
   ]
  },
  {
   "cell_type": "markdown",
   "metadata": {},
   "source": [
    "## Dynamic Pages\n",
    "\n",
    "Sometimes when we request a page the content that we want isn't in the html, this is because it's dynamically fetched or create by excuting javascript in the browser. Since where not using a browser the javascript never gets run and the content never gets loaded. "
   ]
  },
  {
   "cell_type": "code",
   "execution_count": 16,
   "metadata": {},
   "outputs": [],
   "source": [
    "url = \"http://quotes.toscrape.com/js/\"\n",
    "res = sess.get(url)"
   ]
  },
  {
   "cell_type": "code",
   "execution_count": 17,
   "metadata": {},
   "outputs": [
    {
     "data": {
      "text/plain": [
       "[]"
      ]
     },
     "execution_count": 17,
     "metadata": {},
     "output_type": "execute_result"
    }
   ],
   "source": [
    "res.html.find(\".quote\")"
   ]
  },
  {
   "cell_type": "markdown",
   "metadata": {},
   "source": [
    "Nothing is returned because the javascript hasn't yet been excuted. Thankfully requests_html allows us to render the html easily, however unfortunatley due to limitations in the library this won't work in a jupyter notebook, but will in a .`py` script or the python console. Nevertheless bellow is how we'd render the html and fetch all of the elements with a class of .quote"
   ]
  },
  {
   "cell_type": "code",
   "execution_count": 21,
   "metadata": {},
   "outputs": [],
   "source": [
    "res.html.render() #won't work in a jupyter notebook\n",
    "res.html.find(\".quote\")"
   ]
  },
  {
   "cell_type": "markdown",
   "metadata": {},
   "source": [
    "## Tables\n",
    "\n",
    "For extracting tables the pandas package has a really usefull function `read_html` , this won't work on all html tables, but can be good for some. The table might not always be formated in the correct way, but this is often easy to fix in pandas."
   ]
  },
  {
   "cell_type": "code",
   "execution_count": 72,
   "metadata": {},
   "outputs": [],
   "source": [
    "import pandas as pd"
   ]
  },
  {
   "cell_type": "code",
   "execution_count": 73,
   "metadata": {},
   "outputs": [],
   "source": [
    "tables = pd.read_html(\"http://www.nanotech-now.com/metric-prefix-table.htm\") #download all tables on page"
   ]
  },
  {
   "cell_type": "code",
   "execution_count": 74,
   "metadata": {},
   "outputs": [
    {
     "data": {
      "text/html": [
       "<div>\n",
       "<style scoped>\n",
       "    .dataframe tbody tr th:only-of-type {\n",
       "        vertical-align: middle;\n",
       "    }\n",
       "\n",
       "    .dataframe tbody tr th {\n",
       "        vertical-align: top;\n",
       "    }\n",
       "\n",
       "    .dataframe thead th {\n",
       "        text-align: right;\n",
       "    }\n",
       "</style>\n",
       "<table border=\"1\" class=\"dataframe\">\n",
       "  <thead>\n",
       "    <tr style=\"text-align: right;\">\n",
       "      <th></th>\n",
       "      <th>Prefix</th>\n",
       "      <th>Symbol</th>\n",
       "      <th>Multiplier</th>\n",
       "      <th>Exponential</th>\n",
       "    </tr>\n",
       "  </thead>\n",
       "  <tbody>\n",
       "    <tr>\n",
       "      <th>1</th>\n",
       "      <td>yotta</td>\n",
       "      <td>Y</td>\n",
       "      <td>1000000000000000000000000</td>\n",
       "      <td>1024</td>\n",
       "    </tr>\n",
       "    <tr>\n",
       "      <th>2</th>\n",
       "      <td>zetta</td>\n",
       "      <td>Z</td>\n",
       "      <td>1000000000000000000000</td>\n",
       "      <td>1021</td>\n",
       "    </tr>\n",
       "    <tr>\n",
       "      <th>3</th>\n",
       "      <td>exa</td>\n",
       "      <td>E</td>\n",
       "      <td>1000000000000000000</td>\n",
       "      <td>1018</td>\n",
       "    </tr>\n",
       "    <tr>\n",
       "      <th>4</th>\n",
       "      <td>peta</td>\n",
       "      <td>P</td>\n",
       "      <td>1000000000000000</td>\n",
       "      <td>1015</td>\n",
       "    </tr>\n",
       "    <tr>\n",
       "      <th>5</th>\n",
       "      <td>tera</td>\n",
       "      <td>T</td>\n",
       "      <td>1000000000000</td>\n",
       "      <td>1012</td>\n",
       "    </tr>\n",
       "  </tbody>\n",
       "</table>\n",
       "</div>"
      ],
      "text/plain": [
       "  Prefix Symbol                 Multiplier Exponential\n",
       "1  yotta      Y  1000000000000000000000000        1024\n",
       "2  zetta      Z     1000000000000000000000        1021\n",
       "3    exa      E        1000000000000000000        1018\n",
       "4   peta      P           1000000000000000        1015\n",
       "5   tera      T              1000000000000        1012"
      ]
     },
     "execution_count": 74,
     "metadata": {},
     "output_type": "execute_result"
    }
   ],
   "source": [
    "df = tables[0]\n",
    "df = df.rename(columns=df.iloc[0])\n",
    "df = df[df.index > 0]\n",
    "df.head()"
   ]
  },
  {
   "cell_type": "code",
   "execution_count": null,
   "metadata": {},
   "outputs": [],
   "source": [
    "[ link['href'], link.get_text() for link in soup.select('.storytime')"
   ]
  },
  {
   "cell_type": "markdown",
   "metadata": {},
   "source": [
    "# Resources \n",
    "\n",
    "* [MDN Docs](https://developer.mozilla.org/en-US/docs/Web/HTML/Element)"
   ]
  }
 ],
 "metadata": {
  "kernelspec": {
   "display_name": "Python 3",
   "language": "python",
   "name": "python3"
  },
  "language_info": {
   "codemirror_mode": {
    "name": "ipython",
    "version": 3
   },
   "file_extension": ".py",
   "mimetype": "text/x-python",
   "name": "python",
   "nbconvert_exporter": "python",
   "pygments_lexer": "ipython3",
   "version": "3.6.3"
  }
 },
 "nbformat": 4,
 "nbformat_minor": 2
}
