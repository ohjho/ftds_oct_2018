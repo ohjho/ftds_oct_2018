{
 "cells": [
  {
   "cell_type": "markdown",
   "metadata": {},
   "source": [
    "# Transportation Problem\n",
    "\n",
    "\n",
    "Powerco has three electric power plants that supply the needs of four cities. Each power plant can supply the following numbers of kilowatt-hours (kwh) of electricity: plant 1 – 35 million; plant 2 – 50 million; plant 3 – 40 million. The peak power demands in these cities, which occur at the same time (2 p.m.), are as follows (in kwh): city 1 – 45 million; city 2 – 20 million; city 3 – 30 million; city 4 – 30 million. The costs of sending 1 million kwh of electricity from plant to city depend on the distance the electricity must travel. Formulate an LP to minimize the cost of meeting each city’s peak power demand.\n",
    "\n",
    "![](img/transportation.png)\n",
    "\n",
    "The Linear Programming problem is forumlated as follow:\n",
    "\n",
    "![](img/transportlp1.png)\n",
    "![](img/transportlp2.png)"
   ]
  },
  {
   "cell_type": "markdown",
   "metadata": {},
   "source": [
    "# Python Scipy Solver for the LP Problem"
   ]
  },
  {
   "cell_type": "code",
   "execution_count": 6,
   "metadata": {},
   "outputs": [
    {
     "name": "stdout",
     "output_type": "stream",
     "text": [
      "Optimization terminated successfully.\n",
      "         Current function value: 1020.000000 \n",
      "         Iterations: 12\n",
      "     fun: 1020.0\n",
      " message: 'Optimization terminated successfully.'\n",
      "     nit: 12\n",
      "   slack: array([0., 0., 6., 0., 0., 0., 0.])\n",
      "  status: 0\n",
      " success: True\n",
      "       x: array([ 0., 10., 25.,  0., 45.,  0.,  5.,  0.,  0., 10.,  0., 30.])\n"
     ]
    }
   ],
   "source": [
    "# Powerco Formulation on linear programming\n",
    "from scipy.optimize import linprog\n",
    "\n",
    "c = [8,6,10,9,9,12,13,7,14,9,16,5]\n",
    "A = [[1,1,1,1,0,0,0,0,0,0,0,0],[0,0,0,0,1,1,1,1,0,0,0,0],[0,0,0,0,0,0,0,0,1,1,1,1],\n",
    "     [-1,0,0,0,-1,0,0,0,-1,0,0,0],[0,-1,0,0,0,-1,0,0,0,-1,0,0],\n",
    "     [0,0,-1,0,0,0,-1,0,0,0,-1,0],[0,0,0,-1,0,0,0,-1,0,0,0,-1]]\n",
    "\n",
    "b = [35,50,46,-45,-20,-30,-30]\n",
    "\n",
    "x11_bounds = (0, None)\n",
    "x12_bounds = (0, None)\n",
    "x13_bounds = (0, None)\n",
    "x14_bounds = (0, None)\n",
    "\n",
    "x21_bounds = (0, None)\n",
    "x22_bounds = (0, None)\n",
    "x23_bounds = (0, None)\n",
    "x24_bounds = (0, None)\n",
    "\n",
    "x31_bounds = (0, None)\n",
    "x32_bounds = (0, None)\n",
    "x33_bounds = (0, None)\n",
    "x34_bounds = (0, None)\n",
    "\n",
    "res = linprog(c, A_ub=A, b_ub=b, bounds=(x11_bounds, x12_bounds,x13_bounds,x14_bounds,\n",
    "                                         x21_bounds,x22_bounds,x23_bounds,x24_bounds,\n",
    "                                         x31_bounds,x32_bounds,x33_bounds,x34_bounds),options={\"disp\": True})\n",
    "\n",
    "print(res)  # Minimum is 1020\n"
   ]
  },
  {
   "cell_type": "code",
   "execution_count": null,
   "metadata": {},
   "outputs": [],
   "source": []
  },
  {
   "cell_type": "markdown",
   "metadata": {},
   "source": [
    "# Assignment Problem\n",
    "\n",
    "Machineco has four machines and four jobs to be completed. Each machine must be assigned to complete one job. The time required to set up each machine for completing each job is shown in the table below.\n",
    "\n",
    "Machineco wants to minimize the total setup time needed to complete the four jobs. Use linear programming to solve this problem\n",
    "\n",
    "![](img/assignment.png)\n",
    "\n",
    "The Linear Programming problem is formulated as below\n",
    "\n",
    "![](img/assignmentlp1.png)"
   ]
  },
  {
   "cell_type": "markdown",
   "metadata": {},
   "source": [
    "### JHO's Notes\n",
    "This linear_sum_assignment is the [Hungarian Method](https://youtu.be/FHAoNKO8zg4)"
   ]
  },
  {
   "cell_type": "markdown",
   "metadata": {},
   "source": [
    "# Python Scipy Solver for the LP Problem"
   ]
  },
  {
   "cell_type": "code",
   "execution_count": 8,
   "metadata": {},
   "outputs": [
    {
     "name": "stdout",
     "output_type": "stream",
     "text": [
      "[0 1 2 3]\n",
      "[1 3 2 0]\n"
     ]
    },
    {
     "data": {
      "text/plain": [
       "15"
      ]
     },
     "execution_count": 8,
     "metadata": {},
     "output_type": "execute_result"
    }
   ],
   "source": [
    "import numpy as np\n",
    "cost = np.array([[14, 5, 8,7], [2, 12, 6,5], [7, 8, 3,9],[2,4,6,10]])\n",
    "\n",
    "from scipy.optimize import linear_sum_assignment\n",
    "row_ind, col_ind = linear_sum_assignment(cost)\n",
    "\n",
    "print(row_ind)\n",
    "print(col_ind)\n",
    "\n",
    "cost[row_ind, col_ind].sum()\n",
    "\n",
    "# Machine 1 is assigned to job 2\n",
    "# Machine 2 is assigned to job 4\n",
    "# Machine 3 is assigned to job 3\n",
    "# Machine 4 is assigned to job 1\n",
    "\n",
    "# The minimum total setup time is 15 hours with the following assignment"
   ]
  },
  {
   "cell_type": "markdown",
   "metadata": {},
   "source": [
    "### JHO's notes\n",
    "row is the machine #\n",
    "col is the job #"
   ]
  }
 ],
 "metadata": {
  "kernelspec": {
   "display_name": "Python 3",
   "language": "python",
   "name": "python3"
  },
  "language_info": {
   "codemirror_mode": {
    "name": "ipython",
    "version": 3
   },
   "file_extension": ".py",
   "mimetype": "text/x-python",
   "name": "python",
   "nbconvert_exporter": "python",
   "pygments_lexer": "ipython3",
   "version": "3.6.3"
  }
 },
 "nbformat": 4,
 "nbformat_minor": 2
}
