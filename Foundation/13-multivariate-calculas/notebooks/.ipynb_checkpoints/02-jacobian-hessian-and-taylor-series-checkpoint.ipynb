{
 "cells": [
  {
   "cell_type": "markdown",
   "metadata": {},
   "source": [
    "# Jacobian\n",
    "\n",
    "In vector calculus, the Jacobian matrix is the matrix of all first-order partial derivatives of a vector-valued function. When the matrix is a square matrix, both the matrix and its determinant are referred to as the Jacobian in literature\n",
    "\n",
    "We can see the notation for Jacobian matrix as follow\n",
    "\n",
    "![Jacobian](img/jacobian.png)\n",
    "\n",
    "Further understanding of Jacobian with simple example below\n",
    "\n",
    "![Jacobian Example](img/jacobianexample.png)"
   ]
  },
  {
   "cell_type": "markdown",
   "metadata": {},
   "source": [
    "# Khan Academy Video on Jacobian\n",
    "\n",
    "https://www.khanacademy.org/math/multivariable-calculus/multivariable-derivatives/jacobian/v/jacobian-prerequisite-knowledge"
   ]
  },
  {
   "cell_type": "code",
   "execution_count": null,
   "metadata": {},
   "outputs": [],
   "source": []
  },
  {
   "cell_type": "markdown",
   "metadata": {},
   "source": [
    "# Hessian\n",
    "\n",
    "In mathematics, the Hessian matrix or Hessian is a square matrix of second-order partial derivatives of a scalar-valued function, or scalar field. It describes the local curvature of a function of many variables.\n",
    "\n",
    "We can see the notation for Jacobian matrix as follow\n",
    "\n",
    "![Hessian](img/hessian.png)\n",
    "\n",
    "### Application of Hessian\n",
    "\n",
    "Hessian matrices are used in large-scale optimization problems within Newton-type methods because they are the coefficient of the quadratic term of a local Taylor expansion of a functio.\n",
    "\n",
    "\n",
    "![Optimization using Hessian](img/hessianoptimizatin.png)"
   ]
  },
  {
   "cell_type": "markdown",
   "metadata": {},
   "source": [
    "# Khan Academy Video on Hessian\n",
    "\n",
    "https://www.khanacademy.org/math/multivariable-calculus/applications-of-multivariable-derivatives/quadratic-approximations/v/the-hessian-matrix"
   ]
  },
  {
   "cell_type": "code",
   "execution_count": null,
   "metadata": {},
   "outputs": [],
   "source": []
  },
  {
   "cell_type": "markdown",
   "metadata": {},
   "source": [
    "# Taylor Series\n",
    "\n",
    "In mathematics, a Taylor series is a representation of a function as an infinite sum of terms that are calculated from the values of the function's derivatives at a single point.\n",
    "\n",
    "The definition of Taylor Series are shown below.\n",
    "\n",
    "The Taylor series of a real or complex-valued function f (x) that is infinitely differentiable at a real or complex number a is the power series:\n",
    "\n",
    "![Definition of Taylor Series](img/taylorseries.png)"
   ]
  },
  {
   "cell_type": "markdown",
   "metadata": {},
   "source": [
    "# Khan Academy Video on Taylor Series\n",
    "\n",
    "https://www.khanacademy.org/math/ap-calculus-bc/bc-series/bc-taylor-series/v/maclaurin-and-taylor-series-intuition"
   ]
  },
  {
   "cell_type": "code",
   "execution_count": null,
   "metadata": {},
   "outputs": [],
   "source": []
  },
  {
   "cell_type": "code",
   "execution_count": 1,
   "metadata": {},
   "outputs": [],
   "source": [
    "# Reference:\n",
    "# https://en.wikipedia.org/wiki/Jacobian_matrix_and_determinant\n",
    "# https://en.wikipedia.org/wiki/Hessian_matrix\n",
    "# https://en.wikipedia.org/wiki/Taylor_series"
   ]
  }
 ],
 "metadata": {
  "kernelspec": {
   "display_name": "Python 3",
   "language": "python",
   "name": "python3"
  },
  "language_info": {
   "codemirror_mode": {
    "name": "ipython",
    "version": 3
   },
   "file_extension": ".py",
   "mimetype": "text/x-python",
   "name": "python",
   "nbconvert_exporter": "python",
   "pygments_lexer": "ipython3",
   "version": "3.6.3"
  }
 },
 "nbformat": 4,
 "nbformat_minor": 2
}
