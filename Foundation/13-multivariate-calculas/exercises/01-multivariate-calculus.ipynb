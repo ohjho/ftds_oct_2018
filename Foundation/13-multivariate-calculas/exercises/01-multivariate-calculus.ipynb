{
 "cells": [
  {
   "cell_type": "markdown",
   "metadata": {},
   "source": [
    "# Exericse 1:\n",
    "\n",
    "For the following multivariate function, calculate the Jacobian row vector J\n",
    "\n",
    "$f(x,y) = x^{2}y +\\frac{3}{4}x^{4}y+10$ "
   ]
  },
  {
   "cell_type": "markdown",
   "metadata": {},
   "source": [
    "### Answer:  \n",
    "\n",
    "$\n",
    "\\mathbf{J}\n",
    "=\n",
    "\\left[ \\frac{\\partial \\mathbf{f}}{\\partial x} \n",
    "       \\frac{\\partial \\mathbf{f}}{\\partial y} \\right]\n",
    "=\n",
    "\\begin{bmatrix}\n",
    "2xy + 3x^{3}y & x^{2}+ \\frac{3}{4}x^{4} \n",
    "\\end{bmatrix}\n",
    "$"
   ]
  },
  {
   "cell_type": "markdown",
   "metadata": {},
   "source": [
    "# Exercise 2:\n",
    "\n",
    "For the following multivariate function, calculate the Jacobian row vector J\n",
    "\n",
    "$f(x,y) =e^{x}\\cos(y) +xe^{3y}-15$ "
   ]
  },
  {
   "cell_type": "markdown",
   "metadata": {},
   "source": [
    "### Answer:  \n",
    "\n",
    "$\n",
    "\\mathbf{J}\n",
    "=\n",
    "\\left[ \\frac{\\partial \\mathbf{f}}{\\partial x} \n",
    "       \\frac{\\partial \\mathbf{f}}{\\partial y} \\right]\n",
    "=\n",
    "\\begin{bmatrix}\n",
    "e^{x}\\cos(y) + e^{3y} & -e^{x}\\sin(y) + xe^{3y}\n",
    "\\end{bmatrix}\n",
    "$"
   ]
  },
  {
   "cell_type": "markdown",
   "metadata": {},
   "source": [
    "# Exercise 3:\n",
    "\n",
    "For the following multivariate function, calculate the Jacobian row vector J\n",
    "\n",
    "$f(x,y,z) =e^{x}\\cos(y) +x^{2}y^{3}z^{5}$"
   ]
  },
  {
   "cell_type": "markdown",
   "metadata": {},
   "source": [
    "### Answer:  \n",
    "\n",
    "$\n",
    "\\mathbf{J}\n",
    "=\n",
    "\\left[ \\frac{\\partial \\mathbf{f}}{\\partial x} \n",
    "       \\frac{\\partial \\mathbf{f}}{\\partial y}\n",
    "       \\frac{\\partial \\mathbf{f}}{\\partial z} \n",
    "       \\right]\n",
    "=\n",
    "\\begin{bmatrix}\n",
    "e^{x}\\cos(y) + 2xy^{3}z^{5} & \n",
    "-e^{x}\\sin(y)+3x^{2}y^{2}z^{5} & \n",
    "5x^{2}y^{3}z^{4}\n",
    "\\end{bmatrix}\n",
    "$"
   ]
  },
  {
   "cell_type": "markdown",
   "metadata": {},
   "source": [
    "# Exercise 4:\n",
    "\n",
    "For the following multivariate function, calculate the Jacobian row vector J and evaluate at [0,0,0]\n",
    "\n",
    "$f(x,y,z) =e^{x}\\cos(y) +x^{2}y^{3}z^{5}$"
   ]
  },
  {
   "cell_type": "markdown",
   "metadata": {},
   "source": [
    "### Answer:  \n",
    "\n",
    "$\n",
    "\\mathbf{J}\n",
    "=\n",
    "\\left[ \\frac{\\partial \\mathbf{f}}{\\partial x} \n",
    "       \\frac{\\partial \\mathbf{f}}{\\partial y}\n",
    "       \\frac{\\partial \\mathbf{f}}{\\partial z} \n",
    "       \\right]\n",
    "=\n",
    "\\begin{bmatrix}\n",
    "e^{x}\\cos(y) + 2xy^{3}z^{5} & \n",
    "-e^{x}\\sin(y)+3x^{2}y^{2}z^{5} & \n",
    "5x^{2}y^{3}z^{4}\n",
    "\\end{bmatrix}\n",
    "=\n",
    "\\begin{bmatrix}\n",
    "1 & 0 & 0\n",
    "\\end{bmatrix}\n",
    "$"
   ]
  },
  {
   "cell_type": "markdown",
   "metadata": {},
   "source": [
    "# Exercise 5:\n",
    "\n",
    "With the following multivariate functions, \n",
    "\n",
    "$u(x,y) = x^{2}-y^{2}$\n",
    "\n",
    "$v(x,y) = 2xy$\n",
    "\n",
    "calculate the Jacobian matrix J in the form of\n",
    "\n",
    "$J = \\begin{bmatrix}\\frac{\\partial u}{\\partial x} & \\frac{\\partial u}{\\partial y} \\\\\\frac{\\partial v}{\\partial x} & \\frac{\\partial v}{\\partial y} \\end{bmatrix}$\n"
   ]
  },
  {
   "cell_type": "markdown",
   "metadata": {},
   "source": [
    "### Answer:  \n",
    "\n",
    "$\n",
    "\\mathbf{J}\n",
    "=\n",
    "\\begin{bmatrix}\n",
    "       \\frac{\\partial \\mathbf{u}}{\\partial x} \n",
    "       \\frac{\\partial \\mathbf{u}}{\\partial y} \\\\\n",
    "       \\frac{\\partial \\mathbf{v}}{\\partial x} \n",
    "       \\frac{\\partial \\mathbf{v}}{\\partial y} \n",
    "\\end{bmatrix}\n",
    "=\n",
    "\\begin{bmatrix}\n",
    "2x & 2y \\\\\n",
    "2y & 2x\n",
    "\\end{bmatrix}\n",
    "$"
   ]
  },
  {
   "cell_type": "markdown",
   "metadata": {},
   "source": [
    "# Exercise 6:\n",
    "\n",
    "With the following multivariate functions, \n",
    "\n",
    "$u(x,y,z) = 9x^{2}y^{2} + ze^{x}$\n",
    "\n",
    "$v(x,y,z) = xy + x^{2}y^{3} + 2z$\n",
    "\n",
    "$w(x,y,z) = \\cos(x)\\sin(x)e^{y}$\n",
    "\n",
    "\n",
    "calculate the Jacobian matrix J and evaluate at the point [0,0,0]"
   ]
  },
  {
   "cell_type": "markdown",
   "metadata": {},
   "source": [
    "### Answer:  \n",
    "\n",
    "$\n",
    "\\mathbf{J}\n",
    "=\n",
    "\\begin{bmatrix}\n",
    "       \\frac{\\partial \\mathbf{u}}{\\partial x} \n",
    "       \\frac{\\partial \\mathbf{u}}{\\partial y}\n",
    "       \\frac{\\partial \\mathbf{u}}{\\partial z}\\\\\n",
    "       \\frac{\\partial \\mathbf{v}}{\\partial x} \n",
    "       \\frac{\\partial \\mathbf{v}}{\\partial y}\n",
    "       \\frac{\\partial \\mathbf{v}}{\\partial z}\\\\\n",
    "       \\frac{\\partial \\mathbf{w}}{\\partial x}\n",
    "       \\frac{\\partial \\mathbf{w}}{\\partial y}\n",
    "       \\frac{\\partial \\mathbf{w}}{\\partial z}\n",
    "\\end{bmatrix}\n",
    "=\n",
    "\\begin{bmatrix}\n",
    "18xy^{2} + ze^{x} & 18x^{2}y & e^{x} \\\\\n",
    "y+2xy^{3} & x + 3x^{2}y^{2} &2 \\\\\n",
    "-\\sin^{2}(x) e^{y} + \\cos^{2}(x)e^{y} & \\cos(x)\\sin(x)e^{y} & 0\n",
    "\\end{bmatrix}\n",
    "=\n",
    "\\begin{bmatrix}\n",
    "0 & 0 & 1 \\\\\n",
    "0 & 0 & 2 \\\\\n",
    "1 & 1 & 0\n",
    "\\end{bmatrix}\n",
    "$\n",
    "\n",
    "Note that we used [product rule](https://en.wikipedia.org/wiki/Product_rule) for $\\frac{\\partial \\mathbf{w}}{\\partial x}$"
   ]
  },
  {
   "cell_type": "markdown",
   "metadata": {},
   "source": [
    "# Reference:\n",
    "https://www.coursera.org/learn/multivariate-calculus-machine-learning"
   ]
  },
  {
   "cell_type": "code",
   "execution_count": null,
   "metadata": {},
   "outputs": [],
   "source": []
  }
 ],
 "metadata": {
  "kernelspec": {
   "display_name": "Python 3",
   "language": "python",
   "name": "python3"
  },
  "language_info": {
   "codemirror_mode": {
    "name": "ipython",
    "version": 3
   },
   "file_extension": ".py",
   "mimetype": "text/x-python",
   "name": "python",
   "nbconvert_exporter": "python",
   "pygments_lexer": "ipython3",
   "version": "3.6.3"
  }
 },
 "nbformat": 4,
 "nbformat_minor": 2
}
