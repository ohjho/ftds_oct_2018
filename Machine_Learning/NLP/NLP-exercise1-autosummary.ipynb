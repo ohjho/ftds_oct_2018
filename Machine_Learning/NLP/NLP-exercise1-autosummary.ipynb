{
 "cells": [
  {
   "cell_type": "markdown",
   "metadata": {},
   "source": [
    "## Aman's ML process:\n",
    "1. Problem\n",
    "2. Data\n",
    "3. Algorithm\n",
    "4. Discovery"
   ]
  },
  {
   "cell_type": "markdown",
   "metadata": {},
   "source": [
    "## Auto-Summarizing Text\n",
    "Find a document and auto-summarize it. It can be a blog/news article/research paper. Use a machine based approach for this. \n",
    "\n",
    "* get data\n",
    "* parse\n",
    "* analyze\n",
    "\n",
    "### Reference\n",
    "* [build a quick summarizer with Python and NLTK](https://dev.to/davidisrawi/build-a-quick-summarizer-with-python-and-nltk)\n",
    "* [Stack Abuse: Text Summarization with NLTK in Python](https://stackabuse.com/text-summarization-with-nltk-in-python/)\n",
    "* [Toward Data Science have a great example with a summarizer deployed in the command line](https://towardsdatascience.com/write-a-simple-summarizer-in-python-e9ca6138a08e)\n",
    "\n",
    "* Ideas:\n",
    "    * [Using Deep Learning to AutoSummarize Email](https://medium.com/jatana/unsupervised-text-summarization-using-sentence-embeddings-adb15ce83db1)\n",
    "    * [TextRank for Text Summarization](https://nlpforhackers.io/textrank-text-summarization/)"
   ]
  },
  {
   "cell_type": "markdown",
   "metadata": {},
   "source": [
    "### 1. Get Data\n",
    "NLTK has some great [notes](https://www.nltk.org/book/ch03.html) on pre-processing"
   ]
  },
  {
   "cell_type": "code",
   "execution_count": 145,
   "metadata": {},
   "outputs": [],
   "source": [
    "import requests\n",
    "from bs4 import BeautifulSoup\n",
    "\n",
    "article_url = 'https://www.websitebuilderexpert.com/building-websites/how-much-should-a-website-cost/'\n",
    "headers = {\n",
    "    'User-Agent': 'Mozilla/5.0'\n",
    "}\n",
    "html = requests.get(article_url, headers = headers)\n",
    "soup = BeautifulSoup( html.content.decode('utf-8', 'ignore') , 'html.parser')"
   ]
  },
  {
   "cell_type": "code",
   "execution_count": 157,
   "metadata": {},
   "outputs": [],
   "source": [
    "stitle = soup.find( 'h1', class_ = 'entry-title').get_text()\n",
    "parsed_article = soup.find('div', class_ = 'entry')\n",
    "paras = parsed_article.find_all('p')\n",
    "for p in paras:\n",
    "    stext += p.get_text() + ' '"
   ]
  },
  {
   "cell_type": "markdown",
   "metadata": {},
   "source": [
    "Remove special characters and set all to lower case (?)  \n",
    "re to add a space after full stop from [stackoverflow](https://stackoverflow.com/questions/42445842/how-to-split-text-into-sentences-when-there-is-no-space-after-full-stop)"
   ]
  },
  {
   "cell_type": "code",
   "execution_count": 186,
   "metadata": {},
   "outputs": [],
   "source": [
    "import re\n",
    "raw = stext.replace(u'\\xa0',' ')\n",
    "raw = raw.replace(u'\\n',' ')\n",
    "raw = raw.lower()\n",
    "raw = re.sub(r'\\.(?=[^ \\W\\d])','. ', raw)"
   ]
  },
  {
   "cell_type": "code",
   "execution_count": 185,
   "metadata": {},
   "outputs": [
    {
     "data": {
      "text/plain": [
       "'this is what consumerism is all about. so, let’s put money (as a resource) aside for now,'"
      ]
     },
     "execution_count": 185,
     "metadata": {},
     "output_type": "execute_result"
    }
   ],
   "source": [
    "test = 'this is what consumerism is all about.so, let’s put money (as a resource) aside for now,'\n",
    "re.sub(r'\\.(?=[^ \\W\\d])','. ', test)"
   ]
  },
  {
   "cell_type": "markdown",
   "metadata": {},
   "source": [
    "### 2. Parse\n",
    "#### Preliminary"
   ]
  },
  {
   "cell_type": "code",
   "execution_count": 37,
   "metadata": {},
   "outputs": [],
   "source": [
    "import nltk\n",
    "import string"
   ]
  },
  {
   "cell_type": "markdown",
   "metadata": {},
   "source": [
    "### Tokenization"
   ]
  },
  {
   "cell_type": "code",
   "execution_count": 187,
   "metadata": {},
   "outputs": [],
   "source": [
    "from nltk import word_tokenize\n",
    "from nltk import sent_tokenize\n",
    "\n",
    "raw_nopunc = re.sub( r'[^\\w\\s]',' ',raw)\n",
    "word_tok = word_tokenize(raw_nopunc)\n",
    "sent_tok = sent_tokenize(raw)"
   ]
  },
  {
   "cell_type": "markdown",
   "metadata": {},
   "source": [
    "### Stopword Removal"
   ]
  },
  {
   "cell_type": "code",
   "execution_count": 188,
   "metadata": {},
   "outputs": [],
   "source": [
    "from nltk.corpus import stopwords\n",
    "my_stopwords = set( stopwords.words('english') + list(string.punctuation))\n",
    "my_words = [ w for w in word_tok if w not in my_stopwords]"
   ]
  },
  {
   "cell_type": "markdown",
   "metadata": {},
   "source": [
    "### N-grams"
   ]
  },
  {
   "cell_type": "code",
   "execution_count": 47,
   "metadata": {},
   "outputs": [],
   "source": [
    "from nltk import ngrams\n",
    "n = 3\n",
    "trigrams = ngrams( my_words, n)"
   ]
  },
  {
   "cell_type": "markdown",
   "metadata": {},
   "source": [
    "### 3. Analyze\n",
    "\n",
    "#### Weighted Frequency of Occurence"
   ]
  },
  {
   "cell_type": "code",
   "execution_count": 189,
   "metadata": {},
   "outputs": [],
   "source": [
    "word_freq = {}\n",
    "for w in my_words:\n",
    "    if w not in word_freq.keys():\n",
    "        word_freq[w] = 1\n",
    "    else:\n",
    "        word_freq[w] += 1"
   ]
  },
  {
   "cell_type": "markdown",
   "metadata": {},
   "source": [
    "sorting dictionary by value thanks to this [tip on StackOverflow](https://stackoverflow.com/questions/613183/how-do-i-sort-a-dictionary-by-value)"
   ]
  },
  {
   "cell_type": "code",
   "execution_count": 190,
   "metadata": {},
   "outputs": [
    {
     "name": "stdout",
     "output_type": "stream",
     "text": [
      "website:693\n",
      "cost:237\n",
      "design:155\n",
      "builder:128\n",
      "time:127\n",
      "wordpress:124\n",
      "need:113\n",
      "drag:103\n",
      "drop:99\n",
      "building:97\n"
     ]
    }
   ],
   "source": [
    "word_freq_sort = sorted( word_freq.items() , key = lambda kv: kv[1], reverse= True)\n",
    "for key, value in word_freq_sort[:10]:\n",
    "    print(f'{key}:{value}')"
   ]
  },
  {
   "cell_type": "code",
   "execution_count": 191,
   "metadata": {},
   "outputs": [],
   "source": [
    "most_freq = word_freq_sort[0][1]\n",
    "word_freq_score = { k: v/ most_freq for k,v in word_freq_sort}"
   ]
  },
  {
   "cell_type": "code",
   "execution_count": 192,
   "metadata": {},
   "outputs": [],
   "source": [
    "sent_scored = {}\n",
    "for sent in sent_tok:\n",
    "    iscore = 0\n",
    "    for w in word_tokenize(sent):\n",
    "        if w in word_freq_score.keys():\n",
    "            iscore += word_freq_score[w]\n",
    "    sent_scored[sent] = iscore"
   ]
  },
  {
   "cell_type": "code",
   "execution_count": 193,
   "metadata": {},
   "outputs": [
    {
     "name": "stdout",
     "output_type": "stream",
     "text": [
      "Auto-summary: Top 10 sentences with scores\n",
      "----------------------------\n",
      "summary chart of cost of website using drag & drop website builder: website setup costs automated setup: $0 website builder software learning costs time: few minutes – 1 hour website design costs free templates: $0 website building costs free if you do it yourself (but will cost you time) hourly costs of a designer: $30 – $60/hour average cost of content population: $500 – $2,000 website maintenance costs wix:                 $5.00 | $10.00 | $14.00 | $17.00 | $25.00 squarespace: $12.0 | $18.0 | $26.0 | $40.0 weebly:           $8.0 | $12.0 | $25.0 | $49.0 *monthly fee, based on annual plans* all plans come with dedicated, 24/7 support.: 11.359307359307367\n",
      "\n",
      "summary chart of hiring a professional to help you build a wordpress website: website setup costs hosting cost: $5 – $250/month hiring pro to setup: $50 – $200 (1-time fee) time: 1 to 6 hours website builder software learning costs paid tutorials: $50/month time to learn basics: few hours time to learn wordpress: weeks website design costs basic templates: $35 – $50 premium templates: $80 – $200 template alterations: $300 – $1,000 custom design: $5,000 – $10,000+ website building costs free if you do it yourself (but will cost you time) hourly costs of a designer: $50 – $80/hour average cost of content population: $500 – $5,000* the range is wide as it depends on how much content you have and how many pages.: 10.617604617604622\n",
      "\n",
      "website maintenance costs developer cost: $100 – $180 per hour estimated annual cost: $500 – $1,000   option #2: cost of building website if using fully managed, drag & drop website builder that takes care of all of your website technical & design challenges   fully-hosted website builders are the next best thing to hiring a developer to create a website for you.: 8.974025974025974\n",
      "\n",
      "com, you might think, “well, both are technology – so how are they different?”i’ll illustrate the difference here with this example below:there are a few ways to have high-quality homemade soup:just like the different ways to have homemade soup,different website building technologies give you different levels of website building services:method  a – custom build your website from the ground upyou can hire a website designer or developer to create your website from scratch without the use of any website building software.: 7.932178932178933\n",
      "\n",
      "com, you might think, “well, both are technology – so how are they different?” i’ll illustrate the difference here with this example below: there are a few ways to have high-quality homemade soup:  just like the different ways to have homemade soup,different website building technologies give you different levels of website building services: method  a – custom build your website from the ground up you can hire a website designer or developer to create your website from scratch without the use of any website building software.: 7.92929292929293\n",
      "\n",
      "for a basic website you can expect to pay the following in your first year:  cost of building a website: factors hiring a web designer using a website builder (e. g. wix) setup $160 $0 design & building $5,000 $0 content creation $500 $0 training to use it $600 $0 maintenance $500 $60 total $6,760 $60  here is a quick snapshot of some of the website builders that can help you build your website without having to learn how to code or breaking your bank account.: 7.694083694083693\n",
      "\n",
      "just like the different ways to have homemade soup,different website building technologies give you different levels of website building services: method  a – custom build your website from the ground up you can hire a website designer or developer to create your website from scratch without the use of any website building software.: 7.642135642135643\n",
      "\n",
      "so how you budget for your website should take into consideration:to summarize what you should take away from this discussion, here are my suggestions:use wordpress (self-hosted website builders) if:use wix, squarespace, or weebly (aka fully-hosted website builder) if:finding out how much your website will cost you doesn’t have to be very complicated – you just need to be asking the right questions.: 5.800865800865801\n",
      "\n",
      "so how you budget for your website should take into consideration: to summarize what you should take away from this discussion, here are my suggestions: use wordpress (self-hosted website builders) if: use wix, squarespace, or weebly (aka fully-hosted website builder) if: finding out how much your website will cost you doesn’t have to be very complicated – you just need to be asking the right questions.: 5.800865800865801\n",
      "\n",
      "#1 cost of setting up a website using a drag & drop builder (cost $0): there is no time or monetary costs involved in setting up a website with either wix, squarespace, weebly or any other fully managed, drag & drop website builder.: 5.506493506493507\n",
      "\n"
     ]
    }
   ],
   "source": [
    "sent_sorted = sorted( sent_scored.items(), key = lambda kv: kv[1], reverse = True)\n",
    "print(f'Auto-summary: Top 10 sentences with scores\\n----------------------------')\n",
    "for k,v in sent_sorted[:10]:\n",
    "    print(f'{k}: {v}\\n')"
   ]
  },
  {
   "cell_type": "code",
   "execution_count": null,
   "metadata": {},
   "outputs": [],
   "source": []
  }
 ],
 "metadata": {
  "kernelspec": {
   "display_name": "Python 3",
   "language": "python",
   "name": "python3"
  },
  "language_info": {
   "codemirror_mode": {
    "name": "ipython",
    "version": 3
   },
   "file_extension": ".py",
   "mimetype": "text/x-python",
   "name": "python",
   "nbconvert_exporter": "python",
   "pygments_lexer": "ipython3",
   "version": "3.6.3"
  }
 },
 "nbformat": 4,
 "nbformat_minor": 2
}
