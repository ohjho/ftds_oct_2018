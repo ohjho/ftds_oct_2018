{
 "cells": [
  {
   "cell_type": "code",
   "execution_count": 14,
   "metadata": {},
   "outputs": [],
   "source": [
    "import nltk\n",
    "import string"
   ]
  },
  {
   "cell_type": "code",
   "execution_count": 4,
   "metadata": {},
   "outputs": [],
   "source": [
    "text = 'I like to code. The code should be clean. What is the code of conduct?'"
   ]
  },
  {
   "cell_type": "markdown",
   "metadata": {},
   "source": [
    "## Tokenization"
   ]
  },
  {
   "cell_type": "code",
   "execution_count": 12,
   "metadata": {},
   "outputs": [
    {
     "name": "stdout",
     "output_type": "stream",
     "text": [
      "showing info https://raw.githubusercontent.com/nltk/nltk_data/gh-pages/index.xml\n"
     ]
    },
    {
     "data": {
      "text/plain": [
       "True"
      ]
     },
     "execution_count": 12,
     "metadata": {},
     "output_type": "execute_result"
    }
   ],
   "source": [
    "nltk.download()"
   ]
  },
  {
   "cell_type": "code",
   "execution_count": 10,
   "metadata": {},
   "outputs": [
    {
     "name": "stdout",
     "output_type": "stream",
     "text": [
      "['I', 'like', 'to', 'code', '.', 'The', 'code', 'should', 'be', 'clean', '.', 'What', 'is', 'the', 'code', 'of', 'conduct', '?']\n",
      "['I like to code.', 'The code should be clean.', 'What is the code of conduct?']\n"
     ]
    }
   ],
   "source": [
    "from nltk import word_tokenize\n",
    "from nltk import sent_tokenize\n",
    "\n",
    "word_tokens = word_tokenize( text )\n",
    "sent_tokens = sent_tokenize( text )\n",
    "print(word_tokens)\n",
    "print(sent_tokens)"
   ]
  },
  {
   "cell_type": "markdown",
   "metadata": {},
   "source": [
    "## Stopword removal"
   ]
  },
  {
   "cell_type": "code",
   "execution_count": 17,
   "metadata": {},
   "outputs": [
    {
     "name": "stdout",
     "output_type": "stream",
     "text": [
      "['I', 'like', 'code', 'The', 'code', 'clean', 'What', 'code', 'conduct']\n"
     ]
    }
   ],
   "source": [
    "from nltk.corpus import stopwords\n",
    "\n",
    "stop_words = set(stopwords.words('english') + list(string.punctuation) )\n",
    "filtered_sent = [ w for w in word_tokens if w not in stop_words]\n",
    "print(filtered_sent)"
   ]
  },
  {
   "cell_type": "markdown",
   "metadata": {},
   "source": [
    "## Parts-of-Speech"
   ]
  },
  {
   "cell_type": "code",
   "execution_count": 18,
   "metadata": {},
   "outputs": [
    {
     "data": {
      "text/plain": [
       "[('I', 'PRP'),\n",
       " ('like', 'VBP'),\n",
       " ('code', 'VBG'),\n",
       " ('The', 'DT'),\n",
       " ('code', 'NN'),\n",
       " ('clean', 'VBP'),\n",
       " ('What', 'WP'),\n",
       " ('code', 'NN'),\n",
       " ('conduct', 'NN')]"
      ]
     },
     "execution_count": 18,
     "metadata": {},
     "output_type": "execute_result"
    }
   ],
   "source": [
    "nltk.pos_tag(filtered_sent)"
   ]
  },
  {
   "cell_type": "markdown",
   "metadata": {},
   "source": [
    "## N-grams"
   ]
  },
  {
   "cell_type": "code",
   "execution_count": 25,
   "metadata": {},
   "outputs": [
    {
     "name": "stdout",
     "output_type": "stream",
     "text": [
      "('I', 'like')\n",
      "('like', 'to')\n",
      "('to', 'code.')\n",
      "('code.', 'The')\n",
      "('The', 'code')\n",
      "('code', 'should')\n",
      "('should', 'be')\n",
      "('be', 'clean.')\n",
      "('clean.', 'What')\n",
      "('What', 'is')\n",
      "('is', 'the')\n",
      "('the', 'code')\n",
      "('code', 'of')\n",
      "('of', 'conduct?')\n"
     ]
    }
   ],
   "source": [
    "from nltk import bigrams\n",
    "string_bigrams = bigrams( text.split() )\n",
    "\n",
    "for gram in  string_bigrams:\n",
    "    print(gram)"
   ]
  },
  {
   "cell_type": "code",
   "execution_count": 27,
   "metadata": {},
   "outputs": [
    {
     "name": "stdout",
     "output_type": "stream",
     "text": [
      "('I', 'like', 'code')\n",
      "('like', 'code', 'The')\n",
      "('code', 'The', 'code')\n",
      "('The', 'code', 'clean')\n",
      "('code', 'clean', 'What')\n",
      "('clean', 'What', 'code')\n",
      "('What', 'code', 'conduct')\n"
     ]
    }
   ],
   "source": [
    "from nltk import ngrams\n",
    "n = 3\n",
    "trigrams = ngrams( filtered_sent, n)\n",
    "for gram in trigrams:\n",
    "    print(gram)"
   ]
  },
  {
   "cell_type": "markdown",
   "metadata": {},
   "source": [
    "## Stemming"
   ]
  },
  {
   "cell_type": "code",
   "execution_count": 28,
   "metadata": {},
   "outputs": [
    {
     "name": "stdout",
     "output_type": "stream",
     "text": [
      "I\n",
      "like\n",
      "code\n",
      "the\n",
      "code\n",
      "clean\n",
      "what\n",
      "code\n",
      "conduct\n"
     ]
    }
   ],
   "source": [
    "from nltk.stem import PorterStemmer\n",
    "\n",
    "pstem = PorterStemmer()\n",
    "for w in filtered_sent:\n",
    "    print( pstem.stem(w))"
   ]
  },
  {
   "cell_type": "markdown",
   "metadata": {},
   "source": [
    "## Word Sense Disambiguation"
   ]
  },
  {
   "cell_type": "code",
   "execution_count": 36,
   "metadata": {},
   "outputs": [
    {
     "name": "stdout",
     "output_type": "stream",
     "text": [
      "In \"I like to code.\", \"code\" means convert ordinary language into code\n",
      "In \"The code should be clean.\", \"code\" means attach a code to\n",
      "In \"What is the code of conduct?\", \"code\" means attach a code to\n"
     ]
    }
   ],
   "source": [
    "from nltk.wsd import lesk\n",
    "\n",
    "for sent in sent_tokens:\n",
    "    ss = lesk( sent, 'code')\n",
    "    print( f'In \"{sent}\", \"code\" means {ss.definition()}')"
   ]
  },
  {
   "cell_type": "code",
   "execution_count": null,
   "metadata": {},
   "outputs": [],
   "source": []
  }
 ],
 "metadata": {
  "kernelspec": {
   "display_name": "Python 3",
   "language": "python",
   "name": "python3"
  },
  "language_info": {
   "codemirror_mode": {
    "name": "ipython",
    "version": 3
   },
   "file_extension": ".py",
   "mimetype": "text/x-python",
   "name": "python",
   "nbconvert_exporter": "python",
   "pygments_lexer": "ipython3",
   "version": "3.6.3"
  }
 },
 "nbformat": 4,
 "nbformat_minor": 2
}
