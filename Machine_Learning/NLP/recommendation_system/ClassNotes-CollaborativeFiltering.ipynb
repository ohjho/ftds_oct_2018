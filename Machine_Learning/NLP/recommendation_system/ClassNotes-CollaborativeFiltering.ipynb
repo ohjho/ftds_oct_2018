{
 "cells": [
  {
   "cell_type": "markdown",
   "metadata": {},
   "source": [
    "## Preliminary\n",
    "### User-User Relationship\n",
    "* find relationship based on users' like similarity then recommend\n",
    "\n",
    "### User-Product Relationship\n",
    "* find relationship based on the user's like and find product similiar to it\n",
    "\n",
    "### Product-Product Relationship\n",
    "* association analysis"
   ]
  },
  {
   "cell_type": "markdown",
   "metadata": {},
   "source": [
    "## Recommendation System\n",
    "### Content Based Filtering\n",
    "* master product rating vs user's product rating; example is the [Music Genome Project](https://www.pandora.com/about/mgp)\n",
    "* [how to build a simple content based book recommendation system](https://www.linkedin.com/pulse/content-based-recommender-engine-under-hood-venkat-raman)\n",
    "* [reference](https://medium.com/@cfpinela/content-based-recommender-systems-a68c2aee2235)\n",
    "\n",
    "### Collaborative Filtering\n",
    "* user-to-user \n",
    "     1. find two similar users\n",
    "     2. using the user with more data to predict the user with less data\n",
    "     3. recommend n_top product by predicted rating to the user with less data"
   ]
  },
  {
   "cell_type": "markdown",
   "metadata": {},
   "source": [
    "## Collaborative Filtering Project Process\n",
    "1. Get Data\n",
    "2. Transpose the Data into Users vs Products\n",
    "3. Define distance between two users"
   ]
  },
  {
   "cell_type": "code",
   "execution_count": null,
   "metadata": {},
   "outputs": [],
   "source": []
  }
 ],
 "metadata": {
  "kernelspec": {
   "display_name": "Python 3",
   "language": "python",
   "name": "python3"
  },
  "language_info": {
   "codemirror_mode": {
    "name": "ipython",
    "version": 3
   },
   "file_extension": ".py",
   "mimetype": "text/x-python",
   "name": "python",
   "nbconvert_exporter": "python",
   "pygments_lexer": "ipython3",
   "version": "3.6.3"
  }
 },
 "nbformat": 4,
 "nbformat_minor": 2
}
