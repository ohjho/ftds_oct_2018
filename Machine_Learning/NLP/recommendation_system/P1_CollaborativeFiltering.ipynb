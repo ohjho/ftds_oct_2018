{
 "cells": [
  {
   "cell_type": "markdown",
   "metadata": {
    "colab_type": "text",
    "id": "0CwxTfr2N9np"
   },
   "source": [
    "###Collaborative Filtering with K Nearest neighbors.\n",
    "\n",
    "This filtering is defined by finding products liked by \"similar\" users. The Nearest neighbor algorithms uses ratings of the \"most similar\" users. \n"
   ]
  },
  {
   "cell_type": "markdown",
   "metadata": {
    "colab_type": "text",
    "id": "Q5KjFsRz3Yx9"
   },
   "source": [
    "Let's start with loading the data first. What do we know about Pandas? Try to remember how we read a csv. Using that, upload a new .csv as given. "
   ]
  },
  {
   "cell_type": "code",
   "execution_count": 2,
   "metadata": {
    "cellView": "both",
    "colab": {},
    "colab_type": "code",
    "id": "aAMrXIQbw78M"
   },
   "outputs": [],
   "source": [
    "#@title\n",
    "\n",
    "\n",
    "import pandas as pd\n",
    "dataFile='data/BX-CSV-Dump/BX-Book-Ratings.csv'\n",
    "data=pd.read_csv(dataFile,sep=\";\",header=0,names=[\"user\",\"isbn\",\"rating\"], \n",
    "                encoding = 'iso-8859-1')"
   ]
  },
  {
   "cell_type": "markdown",
   "metadata": {
    "colab_type": "text",
    "id": "4m7jnZLzDVYF"
   },
   "source": [
    "How will you display the first few lines of data?"
   ]
  },
  {
   "cell_type": "code",
   "execution_count": 3,
   "metadata": {
    "cellView": "both",
    "colab": {
     "base_uri": "https://localhost:8080/",
     "height": 195
    },
    "colab_type": "code",
    "id": "ETgIe1Iew78T",
    "outputId": "53c59032-a620-4593-b371-ef2910ddaf07"
   },
   "outputs": [
    {
     "data": {
      "text/html": [
       "<div>\n",
       "<style scoped>\n",
       "    .dataframe tbody tr th:only-of-type {\n",
       "        vertical-align: middle;\n",
       "    }\n",
       "\n",
       "    .dataframe tbody tr th {\n",
       "        vertical-align: top;\n",
       "    }\n",
       "\n",
       "    .dataframe thead th {\n",
       "        text-align: right;\n",
       "    }\n",
       "</style>\n",
       "<table border=\"1\" class=\"dataframe\">\n",
       "  <thead>\n",
       "    <tr style=\"text-align: right;\">\n",
       "      <th></th>\n",
       "      <th>user</th>\n",
       "      <th>isbn</th>\n",
       "      <th>rating</th>\n",
       "    </tr>\n",
       "  </thead>\n",
       "  <tbody>\n",
       "    <tr>\n",
       "      <th>0</th>\n",
       "      <td>276725</td>\n",
       "      <td>034545104X</td>\n",
       "      <td>0</td>\n",
       "    </tr>\n",
       "    <tr>\n",
       "      <th>1</th>\n",
       "      <td>276726</td>\n",
       "      <td>0155061224</td>\n",
       "      <td>5</td>\n",
       "    </tr>\n",
       "    <tr>\n",
       "      <th>2</th>\n",
       "      <td>276727</td>\n",
       "      <td>0446520802</td>\n",
       "      <td>0</td>\n",
       "    </tr>\n",
       "    <tr>\n",
       "      <th>3</th>\n",
       "      <td>276729</td>\n",
       "      <td>052165615X</td>\n",
       "      <td>3</td>\n",
       "    </tr>\n",
       "    <tr>\n",
       "      <th>4</th>\n",
       "      <td>276729</td>\n",
       "      <td>0521795028</td>\n",
       "      <td>6</td>\n",
       "    </tr>\n",
       "  </tbody>\n",
       "</table>\n",
       "</div>"
      ],
      "text/plain": [
       "     user        isbn  rating\n",
       "0  276725  034545104X       0\n",
       "1  276726  0155061224       5\n",
       "2  276727  0446520802       0\n",
       "3  276729  052165615X       3\n",
       "4  276729  0521795028       6"
      ]
     },
     "execution_count": 3,
     "metadata": {},
     "output_type": "execute_result"
    }
   ],
   "source": [
    "#@title\n",
    "data.head()"
   ]
  },
  {
   "cell_type": "markdown",
   "metadata": {
    "colab_type": "text",
    "id": "gEw9MRJhDiCj"
   },
   "source": [
    "Now, let's get the books. You have to read this into a csv again. "
   ]
  },
  {
   "cell_type": "code",
   "execution_count": 0,
   "metadata": {
    "cellView": "both",
    "colab": {},
    "colab_type": "code",
    "id": "MDboV8nQw78a"
   },
   "outputs": [],
   "source": [
    "#@title\n",
    "bookFile='BX-Books.csv'\n",
    "books=pd.read_csv(bookFile,sep=\";\",header=0,error_bad_lines=False, usecols=[0,1,2],index_col=0,names=['isbn',\"title\",\"author\"])"
   ]
  },
  {
   "cell_type": "markdown",
   "metadata": {
    "colab_type": "text",
    "id": "mvv7JSx6FFgj"
   },
   "source": [
    "Show the first few lines of the data you just collected. "
   ]
  },
  {
   "cell_type": "code",
   "execution_count": 0,
   "metadata": {
    "cellView": "form",
    "colab": {
     "base_uri": "https://localhost:8080/",
     "height": 225
    },
    "colab_type": "code",
    "id": "cIIJCewKw78f",
    "outputId": "b3c59220-6db6-4a43-cc05-a1b7cf0ad5ae"
   },
   "outputs": [
    {
     "data": {
      "text/html": [
       "<div>\n",
       "<style scoped>\n",
       "    .dataframe tbody tr th:only-of-type {\n",
       "        vertical-align: middle;\n",
       "    }\n",
       "\n",
       "    .dataframe tbody tr th {\n",
       "        vertical-align: top;\n",
       "    }\n",
       "\n",
       "    .dataframe thead th {\n",
       "        text-align: right;\n",
       "    }\n",
       "</style>\n",
       "<table border=\"1\" class=\"dataframe\">\n",
       "  <thead>\n",
       "    <tr style=\"text-align: right;\">\n",
       "      <th></th>\n",
       "      <th>title</th>\n",
       "      <th>author</th>\n",
       "    </tr>\n",
       "    <tr>\n",
       "      <th>isbn</th>\n",
       "      <th></th>\n",
       "      <th></th>\n",
       "    </tr>\n",
       "  </thead>\n",
       "  <tbody>\n",
       "    <tr>\n",
       "      <th>0195153448</th>\n",
       "      <td>Classical Mythology</td>\n",
       "      <td>Mark P. O. Morford</td>\n",
       "    </tr>\n",
       "    <tr>\n",
       "      <th>0002005018</th>\n",
       "      <td>Clara Callan</td>\n",
       "      <td>Richard Bruce Wright</td>\n",
       "    </tr>\n",
       "    <tr>\n",
       "      <th>0060973129</th>\n",
       "      <td>Decision in Normandy</td>\n",
       "      <td>Carlo D'Este</td>\n",
       "    </tr>\n",
       "    <tr>\n",
       "      <th>0374157065</th>\n",
       "      <td>Flu: The Story of the Great Influenza Pandemic...</td>\n",
       "      <td>Gina Bari Kolata</td>\n",
       "    </tr>\n",
       "    <tr>\n",
       "      <th>0393045218</th>\n",
       "      <td>The Mummies of Urumchi</td>\n",
       "      <td>E. J. W. Barber</td>\n",
       "    </tr>\n",
       "  </tbody>\n",
       "</table>\n",
       "</div>"
      ],
      "text/plain": [
       "                                                        title  \\\n",
       "isbn                                                            \n",
       "0195153448                                Classical Mythology   \n",
       "0002005018                                       Clara Callan   \n",
       "0060973129                               Decision in Normandy   \n",
       "0374157065  Flu: The Story of the Great Influenza Pandemic...   \n",
       "0393045218                             The Mummies of Urumchi   \n",
       "\n",
       "                          author  \n",
       "isbn                              \n",
       "0195153448    Mark P. O. Morford  \n",
       "0002005018  Richard Bruce Wright  \n",
       "0060973129          Carlo D'Este  \n",
       "0374157065      Gina Bari Kolata  \n",
       "0393045218       E. J. W. Barber  "
      ]
     },
     "execution_count": 4,
     "metadata": {
      "tags": []
     },
     "output_type": "execute_result"
    }
   ],
   "source": [
    "#@title\n",
    "books.head()"
   ]
  },
  {
   "cell_type": "markdown",
   "metadata": {
    "colab_type": "text",
    "id": "0N7-JtGbFNyN"
   },
   "source": [
    "Define a function named bookMeta that returns the title and author of a book when given the ISBN."
   ]
  },
  {
   "cell_type": "code",
   "execution_count": 0,
   "metadata": {
    "cellView": "form",
    "colab": {
     "base_uri": "https://localhost:8080/",
     "height": 34
    },
    "colab_type": "code",
    "id": "7EGPrsMgw78l",
    "outputId": "7f5ed6ed-7527-46f6-f4bd-9435793ce15c"
   },
   "outputs": [
    {
     "data": {
      "text/plain": [
       "('Angels &amp; Demons', 'Dan Brown')"
      ]
     },
     "execution_count": 5,
     "metadata": {
      "tags": []
     },
     "output_type": "execute_result"
    }
   ],
   "source": [
    "#@title\n",
    "def bookMeta(isbn):\n",
    "    title = books.at[isbn,\"title\"]\n",
    "    author = books.at[isbn,\"author\"]\n",
    "    return title, author\n",
    "bookMeta(\"0671027360\")"
   ]
  },
  {
   "cell_type": "markdown",
   "metadata": {
    "colab_type": "text",
    "id": "BIa00t-zFVkR"
   },
   "source": [
    "Feed the data as ISBN and index."
   ]
  },
  {
   "cell_type": "code",
   "execution_count": 0,
   "metadata": {
    "cellView": "both",
    "colab": {},
    "colab_type": "code",
    "id": "aGe_fyN8w78q"
   },
   "outputs": [],
   "source": [
    "#@title\n",
    "data = data[data[\"isbn\"].isin(books.index)]"
   ]
  },
  {
   "cell_type": "markdown",
   "metadata": {
    "colab_type": "text",
    "id": "aLxgUDoGFkq1"
   },
   "source": [
    "Now define a function named faveBooks that takes a user and their ratings. Return the ratings in a sorted fashion."
   ]
  },
  {
   "cell_type": "code",
   "execution_count": 0,
   "metadata": {
    "cellView": "both",
    "colab": {},
    "colab_type": "code",
    "id": "C6zTy7KHw78v"
   },
   "outputs": [],
   "source": [
    "#@title\n",
    "def faveBooks(user,N):\n",
    "    userRatings = data[data[\"user\"]==user]\n",
    "    sortedRatings = pd.DataFrame.sort_values(userRatings,['rating'],ascending=[0])[:N] \n",
    "    sortedRatings[\"title\"] = sortedRatings[\"isbn\"].apply(bookMeta)\n",
    "    return sortedRatings"
   ]
  },
  {
   "cell_type": "markdown",
   "metadata": {
    "colab_type": "text",
    "id": "aysZ-H8OF0In"
   },
   "source": [
    "Use the function you made above and output a random event to make sure it works. "
   ]
  },
  {
   "cell_type": "code",
   "execution_count": 0,
   "metadata": {
    "cellView": "both",
    "colab": {
     "base_uri": "https://localhost:8080/",
     "height": 195
    },
    "colab_type": "code",
    "id": "Y2bfXn4kw784",
    "outputId": "31855468-c9d5-4d42-d3c4-c2b5018e7b3a"
   },
   "outputs": [
    {
     "data": {
      "text/html": [
       "<div>\n",
       "<style scoped>\n",
       "    .dataframe tbody tr th:only-of-type {\n",
       "        vertical-align: middle;\n",
       "    }\n",
       "\n",
       "    .dataframe tbody tr th {\n",
       "        vertical-align: top;\n",
       "    }\n",
       "\n",
       "    .dataframe thead th {\n",
       "        text-align: right;\n",
       "    }\n",
       "</style>\n",
       "<table border=\"1\" class=\"dataframe\">\n",
       "  <thead>\n",
       "    <tr style=\"text-align: right;\">\n",
       "      <th></th>\n",
       "      <th>user</th>\n",
       "      <th>isbn</th>\n",
       "      <th>rating</th>\n",
       "      <th>title</th>\n",
       "    </tr>\n",
       "  </thead>\n",
       "  <tbody>\n",
       "    <tr>\n",
       "      <th>844955</th>\n",
       "      <td>204622</td>\n",
       "      <td>0967560500</td>\n",
       "      <td>10</td>\n",
       "      <td>(Natural Hormonal Enhancement, Rob Faigin)</td>\n",
       "    </tr>\n",
       "    <tr>\n",
       "      <th>844935</th>\n",
       "      <td>204622</td>\n",
       "      <td>0671027360</td>\n",
       "      <td>10</td>\n",
       "      <td>(Angels &amp;amp; Demons, Dan Brown)</td>\n",
       "    </tr>\n",
       "    <tr>\n",
       "      <th>844926</th>\n",
       "      <td>204622</td>\n",
       "      <td>0385504209</td>\n",
       "      <td>10</td>\n",
       "      <td>(The Da Vinci Code, Dan Brown)</td>\n",
       "    </tr>\n",
       "    <tr>\n",
       "      <th>844958</th>\n",
       "      <td>204622</td>\n",
       "      <td>097173660X</td>\n",
       "      <td>9</td>\n",
       "      <td>(Life After School Explained, Cap &amp;amp; Compass)</td>\n",
       "    </tr>\n",
       "    <tr>\n",
       "      <th>844920</th>\n",
       "      <td>204622</td>\n",
       "      <td>0060935464</td>\n",
       "      <td>9</td>\n",
       "      <td>(To Kill a Mockingbird, Harper Lee)</td>\n",
       "    </tr>\n",
       "  </tbody>\n",
       "</table>\n",
       "</div>"
      ],
      "text/plain": [
       "          user        isbn  rating  \\\n",
       "844955  204622  0967560500      10   \n",
       "844935  204622  0671027360      10   \n",
       "844926  204622  0385504209      10   \n",
       "844958  204622  097173660X       9   \n",
       "844920  204622  0060935464       9   \n",
       "\n",
       "                                                   title  \n",
       "844955        (Natural Hormonal Enhancement, Rob Faigin)  \n",
       "844935                  (Angels &amp; Demons, Dan Brown)  \n",
       "844926                    (The Da Vinci Code, Dan Brown)  \n",
       "844958  (Life After School Explained, Cap &amp; Compass)  \n",
       "844920               (To Kill a Mockingbird, Harper Lee)  "
      ]
     },
     "execution_count": 8,
     "metadata": {
      "tags": []
     },
     "output_type": "execute_result"
    }
   ],
   "source": [
    "#@title\n",
    "faveBooks(204622,5)"
   ]
  },
  {
   "cell_type": "markdown",
   "metadata": {
    "colab_type": "text",
    "id": "ZaNdwsblF7qC"
   },
   "source": [
    "Display the shape of the data here."
   ]
  },
  {
   "cell_type": "code",
   "execution_count": 0,
   "metadata": {
    "cellView": "both",
    "colab": {
     "base_uri": "https://localhost:8080/",
     "height": 34
    },
    "colab_type": "code",
    "id": "yomAgZnJw79D",
    "outputId": "631cdde8-81c9-40dc-bf01-ed7682fd0a4f"
   },
   "outputs": [
    {
     "data": {
      "text/plain": [
       "(1031175, 3)"
      ]
     },
     "execution_count": 9,
     "metadata": {
      "tags": []
     },
     "output_type": "execute_result"
    }
   ],
   "source": [
    "#@title\n",
    "data.shape"
   ]
  },
  {
   "cell_type": "markdown",
   "metadata": {
    "colab_type": "text",
    "id": "3j9YINBJGEBF"
   },
   "source": [
    "Count the value of the data based on ISBN. You can try out the value_counts() function here by Pandas. Show the first few lines of your output and the shape of this new variable named usersPerISBN."
   ]
  },
  {
   "cell_type": "code",
   "execution_count": 0,
   "metadata": {
    "cellView": "both",
    "colab": {
     "base_uri": "https://localhost:8080/",
     "height": 202
    },
    "colab_type": "code",
    "id": "L9PUTYeNw79K",
    "outputId": "40bf0484-9988-48d7-f408-bde102039f59"
   },
   "outputs": [
    {
     "data": {
      "text/plain": [
       "0971880107    2502\n",
       "0316666343    1295\n",
       "0385504209     883\n",
       "0060928336     732\n",
       "0312195516     723\n",
       "044023722X     647\n",
       "0142001740     615\n",
       "067976402X     614\n",
       "0671027360     586\n",
       "0446672211     585\n",
       "Name: isbn, dtype: int64"
      ]
     },
     "execution_count": 10,
     "metadata": {
      "tags": []
     },
     "output_type": "execute_result"
    }
   ],
   "source": [
    "#@title\n",
    "usersPerISBN = data.isbn.value_counts()\n",
    "usersPerISBN.head(10)"
   ]
  },
  {
   "cell_type": "code",
   "execution_count": 0,
   "metadata": {
    "cellView": "both",
    "colab": {
     "base_uri": "https://localhost:8080/",
     "height": 34
    },
    "colab_type": "code",
    "id": "1E_3OJWSw79U",
    "outputId": "4edccaf0-34e4-46c3-85a0-4c64781f8c25"
   },
   "outputs": [
    {
     "data": {
      "text/plain": [
       "(270170,)"
      ]
     },
     "execution_count": 11,
     "metadata": {
      "tags": []
     },
     "output_type": "execute_result"
    }
   ],
   "source": [
    "#@title\n",
    "usersPerISBN.shape"
   ]
  },
  {
   "cell_type": "markdown",
   "metadata": {
    "colab_type": "text",
    "id": "ESwV3y5NGhQk"
   },
   "source": [
    "Do the same as ISBNsPerUser and show the count of values and it's shape. "
   ]
  },
  {
   "cell_type": "code",
   "execution_count": 0,
   "metadata": {
    "cellView": "both",
    "colab": {},
    "colab_type": "code",
    "id": "7cxRethHw79Y"
   },
   "outputs": [],
   "source": [
    "#@title\n",
    "ISBNsPerUser = data.user.value_counts()"
   ]
  },
  {
   "cell_type": "code",
   "execution_count": 0,
   "metadata": {
    "cellView": "both",
    "colab": {
     "base_uri": "https://localhost:8080/",
     "height": 34
    },
    "colab_type": "code",
    "id": "SPIK484_w79d",
    "outputId": "c1ebd968-c60a-4cc5-d479-3d5655b80aee"
   },
   "outputs": [
    {
     "data": {
      "text/plain": [
       "(92107,)"
      ]
     },
     "execution_count": 13,
     "metadata": {
      "tags": []
     },
     "output_type": "execute_result"
    }
   ],
   "source": [
    "#@title\n",
    "ISBNsPerUser.shape"
   ]
  },
  {
   "cell_type": "markdown",
   "metadata": {
    "colab_type": "text",
    "id": "p-9kPliqGp8o"
   },
   "source": [
    "Make sure that the data has usersPerISBN>10 and ISBNsPerUser>10. "
   ]
  },
  {
   "cell_type": "code",
   "execution_count": 0,
   "metadata": {
    "cellView": "both",
    "colab": {},
    "colab_type": "code",
    "id": "B5F8db_Fw79h"
   },
   "outputs": [],
   "source": [
    "#@title\n",
    "data = data[data[\"isbn\"].isin(usersPerISBN[usersPerISBN>10].index)]"
   ]
  },
  {
   "cell_type": "code",
   "execution_count": 0,
   "metadata": {
    "cellView": "both",
    "colab": {},
    "colab_type": "code",
    "id": "Ey6k5mFvw79m"
   },
   "outputs": [],
   "source": [
    "#@title\n",
    "data = data[data[\"user\"].isin(ISBNsPerUser[ISBNsPerUser>10].index)]"
   ]
  },
  {
   "cell_type": "markdown",
   "metadata": {
    "colab_type": "text",
    "id": "Il5gr69wG4aj"
   },
   "source": [
    "Create a matrix named userItemRatingMatrix and make a pivot table that contains the User and ISBN as explained in the theory. This matrix should be filled by the ratings. Show the first few lines and shape of this matrix. "
   ]
  },
  {
   "cell_type": "code",
   "execution_count": 0,
   "metadata": {
    "cellView": "both",
    "colab": {},
    "colab_type": "code",
    "id": "4jrtva1sw79q"
   },
   "outputs": [],
   "source": [
    "#@title\n",
    "userItemRatingMatrix=pd.pivot_table(data, values='rating',\n",
    "                                    index=['user'], columns=['isbn'])"
   ]
  },
  {
   "cell_type": "code",
   "execution_count": 0,
   "metadata": {
    "cellView": "both",
    "colab": {
     "base_uri": "https://localhost:8080/",
     "height": 274
    },
    "colab_type": "code",
    "id": "LnerFBfLw79t",
    "outputId": "15754f66-467c-48b8-f1a4-b8aa3b0c9c2b"
   },
   "outputs": [
    {
     "data": {
      "text/html": [
       "<div>\n",
       "<style scoped>\n",
       "    .dataframe tbody tr th:only-of-type {\n",
       "        vertical-align: middle;\n",
       "    }\n",
       "\n",
       "    .dataframe tbody tr th {\n",
       "        vertical-align: top;\n",
       "    }\n",
       "\n",
       "    .dataframe thead th {\n",
       "        text-align: right;\n",
       "    }\n",
       "</style>\n",
       "<table border=\"1\" class=\"dataframe\">\n",
       "  <thead>\n",
       "    <tr style=\"text-align: right;\">\n",
       "      <th>isbn</th>\n",
       "      <th>0002005018</th>\n",
       "      <th>0002251760</th>\n",
       "      <th>0002259834</th>\n",
       "      <th>0002558122</th>\n",
       "      <th>0006480764</th>\n",
       "      <th>000648302X</th>\n",
       "      <th>0006485200</th>\n",
       "      <th>000649840X</th>\n",
       "      <th>000651202X</th>\n",
       "      <th>0006512062</th>\n",
       "      <th>...</th>\n",
       "      <th>8845906884</th>\n",
       "      <th>8845915611</th>\n",
       "      <th>8878188212</th>\n",
       "      <th>8885989403</th>\n",
       "      <th>9074336329</th>\n",
       "      <th>9074336469</th>\n",
       "      <th>950491036X</th>\n",
       "      <th>9681500830</th>\n",
       "      <th>9681500954</th>\n",
       "      <th>9871138016</th>\n",
       "    </tr>\n",
       "    <tr>\n",
       "      <th>user</th>\n",
       "      <th></th>\n",
       "      <th></th>\n",
       "      <th></th>\n",
       "      <th></th>\n",
       "      <th></th>\n",
       "      <th></th>\n",
       "      <th></th>\n",
       "      <th></th>\n",
       "      <th></th>\n",
       "      <th></th>\n",
       "      <th></th>\n",
       "      <th></th>\n",
       "      <th></th>\n",
       "      <th></th>\n",
       "      <th></th>\n",
       "      <th></th>\n",
       "      <th></th>\n",
       "      <th></th>\n",
       "      <th></th>\n",
       "      <th></th>\n",
       "      <th></th>\n",
       "    </tr>\n",
       "  </thead>\n",
       "  <tbody>\n",
       "    <tr>\n",
       "      <th>8</th>\n",
       "      <td>5.0</td>\n",
       "      <td>NaN</td>\n",
       "      <td>NaN</td>\n",
       "      <td>NaN</td>\n",
       "      <td>NaN</td>\n",
       "      <td>NaN</td>\n",
       "      <td>NaN</td>\n",
       "      <td>NaN</td>\n",
       "      <td>NaN</td>\n",
       "      <td>NaN</td>\n",
       "      <td>...</td>\n",
       "      <td>NaN</td>\n",
       "      <td>NaN</td>\n",
       "      <td>NaN</td>\n",
       "      <td>NaN</td>\n",
       "      <td>NaN</td>\n",
       "      <td>NaN</td>\n",
       "      <td>NaN</td>\n",
       "      <td>NaN</td>\n",
       "      <td>NaN</td>\n",
       "      <td>NaN</td>\n",
       "    </tr>\n",
       "    <tr>\n",
       "      <th>99</th>\n",
       "      <td>NaN</td>\n",
       "      <td>NaN</td>\n",
       "      <td>NaN</td>\n",
       "      <td>NaN</td>\n",
       "      <td>NaN</td>\n",
       "      <td>NaN</td>\n",
       "      <td>NaN</td>\n",
       "      <td>NaN</td>\n",
       "      <td>NaN</td>\n",
       "      <td>NaN</td>\n",
       "      <td>...</td>\n",
       "      <td>NaN</td>\n",
       "      <td>NaN</td>\n",
       "      <td>NaN</td>\n",
       "      <td>NaN</td>\n",
       "      <td>NaN</td>\n",
       "      <td>NaN</td>\n",
       "      <td>NaN</td>\n",
       "      <td>NaN</td>\n",
       "      <td>NaN</td>\n",
       "      <td>NaN</td>\n",
       "    </tr>\n",
       "    <tr>\n",
       "      <th>242</th>\n",
       "      <td>NaN</td>\n",
       "      <td>NaN</td>\n",
       "      <td>NaN</td>\n",
       "      <td>NaN</td>\n",
       "      <td>NaN</td>\n",
       "      <td>NaN</td>\n",
       "      <td>NaN</td>\n",
       "      <td>NaN</td>\n",
       "      <td>NaN</td>\n",
       "      <td>NaN</td>\n",
       "      <td>...</td>\n",
       "      <td>NaN</td>\n",
       "      <td>NaN</td>\n",
       "      <td>NaN</td>\n",
       "      <td>NaN</td>\n",
       "      <td>NaN</td>\n",
       "      <td>NaN</td>\n",
       "      <td>NaN</td>\n",
       "      <td>NaN</td>\n",
       "      <td>NaN</td>\n",
       "      <td>NaN</td>\n",
       "    </tr>\n",
       "    <tr>\n",
       "      <th>243</th>\n",
       "      <td>NaN</td>\n",
       "      <td>NaN</td>\n",
       "      <td>NaN</td>\n",
       "      <td>NaN</td>\n",
       "      <td>NaN</td>\n",
       "      <td>NaN</td>\n",
       "      <td>NaN</td>\n",
       "      <td>NaN</td>\n",
       "      <td>NaN</td>\n",
       "      <td>NaN</td>\n",
       "      <td>...</td>\n",
       "      <td>NaN</td>\n",
       "      <td>NaN</td>\n",
       "      <td>NaN</td>\n",
       "      <td>NaN</td>\n",
       "      <td>NaN</td>\n",
       "      <td>NaN</td>\n",
       "      <td>NaN</td>\n",
       "      <td>NaN</td>\n",
       "      <td>NaN</td>\n",
       "      <td>NaN</td>\n",
       "    </tr>\n",
       "    <tr>\n",
       "      <th>254</th>\n",
       "      <td>NaN</td>\n",
       "      <td>NaN</td>\n",
       "      <td>NaN</td>\n",
       "      <td>NaN</td>\n",
       "      <td>NaN</td>\n",
       "      <td>NaN</td>\n",
       "      <td>NaN</td>\n",
       "      <td>NaN</td>\n",
       "      <td>NaN</td>\n",
       "      <td>NaN</td>\n",
       "      <td>...</td>\n",
       "      <td>NaN</td>\n",
       "      <td>NaN</td>\n",
       "      <td>NaN</td>\n",
       "      <td>NaN</td>\n",
       "      <td>NaN</td>\n",
       "      <td>NaN</td>\n",
       "      <td>NaN</td>\n",
       "      <td>NaN</td>\n",
       "      <td>NaN</td>\n",
       "      <td>NaN</td>\n",
       "    </tr>\n",
       "  </tbody>\n",
       "</table>\n",
       "<p>5 rows × 15451 columns</p>\n",
       "</div>"
      ],
      "text/plain": [
       "isbn  0002005018  0002251760  0002259834  0002558122  0006480764  000648302X  \\\n",
       "user                                                                           \n",
       "8            5.0         NaN         NaN         NaN         NaN         NaN   \n",
       "99           NaN         NaN         NaN         NaN         NaN         NaN   \n",
       "242          NaN         NaN         NaN         NaN         NaN         NaN   \n",
       "243          NaN         NaN         NaN         NaN         NaN         NaN   \n",
       "254          NaN         NaN         NaN         NaN         NaN         NaN   \n",
       "\n",
       "isbn  0006485200  000649840X  000651202X  0006512062     ...      8845906884  \\\n",
       "user                                                     ...                   \n",
       "8            NaN         NaN         NaN         NaN     ...             NaN   \n",
       "99           NaN         NaN         NaN         NaN     ...             NaN   \n",
       "242          NaN         NaN         NaN         NaN     ...             NaN   \n",
       "243          NaN         NaN         NaN         NaN     ...             NaN   \n",
       "254          NaN         NaN         NaN         NaN     ...             NaN   \n",
       "\n",
       "isbn  8845915611  8878188212  8885989403  9074336329  9074336469  950491036X  \\\n",
       "user                                                                           \n",
       "8            NaN         NaN         NaN         NaN         NaN         NaN   \n",
       "99           NaN         NaN         NaN         NaN         NaN         NaN   \n",
       "242          NaN         NaN         NaN         NaN         NaN         NaN   \n",
       "243          NaN         NaN         NaN         NaN         NaN         NaN   \n",
       "254          NaN         NaN         NaN         NaN         NaN         NaN   \n",
       "\n",
       "isbn  9681500830  9681500954  9871138016  \n",
       "user                                      \n",
       "8            NaN         NaN         NaN  \n",
       "99           NaN         NaN         NaN  \n",
       "242          NaN         NaN         NaN  \n",
       "243          NaN         NaN         NaN  \n",
       "254          NaN         NaN         NaN  \n",
       "\n",
       "[5 rows x 15451 columns]"
      ]
     },
     "execution_count": 17,
     "metadata": {
      "tags": []
     },
     "output_type": "execute_result"
    }
   ],
   "source": [
    "#@title\n",
    "userItemRatingMatrix.head()"
   ]
  },
  {
   "cell_type": "code",
   "execution_count": 0,
   "metadata": {
    "cellView": "both",
    "colab": {
     "base_uri": "https://localhost:8080/",
     "height": 34
    },
    "colab_type": "code",
    "id": "9UtjKh3yw79y",
    "outputId": "5afa29f5-4db8-4efb-9b03-afea6f6526d5"
   },
   "outputs": [
    {
     "data": {
      "text/plain": [
       "(10706, 15451)"
      ]
     },
     "execution_count": 18,
     "metadata": {
      "tags": []
     },
     "output_type": "execute_result"
    }
   ],
   "source": [
    "#@title\n",
    "userItemRatingMatrix.shape"
   ]
  },
  {
   "cell_type": "markdown",
   "metadata": {
    "colab_type": "text",
    "id": "ms2Q6bTpIa6h"
   },
   "source": [
    "Let's get 2 random users and do some analysis. "
   ]
  },
  {
   "cell_type": "code",
   "execution_count": 0,
   "metadata": {
    "cellView": "both",
    "colab": {},
    "colab_type": "code",
    "id": "N--tLTsDw794"
   },
   "outputs": [],
   "source": [
    "#@title\n",
    "user1 = 204622\n",
    "user2 = 255489"
   ]
  },
  {
   "cell_type": "markdown",
   "metadata": {
    "colab_type": "text",
    "id": "OyUyikLmIfSL"
   },
   "source": [
    "Transpose the matrix for user 1's and user 2's ratings and display the first few lines. "
   ]
  },
  {
   "cell_type": "code",
   "execution_count": 0,
   "metadata": {
    "cellView": "both",
    "colab": {
     "base_uri": "https://localhost:8080/",
     "height": 134
    },
    "colab_type": "code",
    "id": "oNqdpWDww797",
    "outputId": "eac27c59-a2d6-4e54-8fa7-704100946892"
   },
   "outputs": [
    {
     "data": {
      "text/plain": [
       "isbn\n",
       "0002005018   NaN\n",
       "0002251760   NaN\n",
       "0002259834   NaN\n",
       "0002558122   NaN\n",
       "0006480764   NaN\n",
       "Name: 204622, dtype: float64"
      ]
     },
     "execution_count": 20,
     "metadata": {
      "tags": []
     },
     "output_type": "execute_result"
    }
   ],
   "source": [
    "#@title\n",
    "user1Ratings = userItemRatingMatrix.transpose()[user1]\n",
    "user1Ratings.head()"
   ]
  },
  {
   "cell_type": "code",
   "execution_count": 0,
   "metadata": {
    "cellView": "both",
    "colab": {},
    "colab_type": "code",
    "id": "tZ-pDh37w7-B"
   },
   "outputs": [],
   "source": [
    "#@title\n",
    "user2Ratings = userItemRatingMatrix.transpose()[user2]"
   ]
  },
  {
   "cell_type": "markdown",
   "metadata": {
    "colab_type": "text",
    "id": "bJyz-wD1IpwN"
   },
   "source": [
    "Now use hamming distance and find it between the two users using a function named distance. You should import the scipy.spatial.distance library and get hamming from it for the distance measurement. "
   ]
  },
  {
   "cell_type": "code",
   "execution_count": 0,
   "metadata": {
    "cellView": "both",
    "colab": {
     "base_uri": "https://localhost:8080/",
     "height": 34
    },
    "colab_type": "code",
    "id": "1gT_QQHPw7-K",
    "outputId": "f2cc3d6c-4fd5-41db-b516-5103ba6e938c"
   },
   "outputs": [
    {
     "data": {
      "text/plain": [
       "0.9999352792699502"
      ]
     },
     "execution_count": 22,
     "metadata": {
      "tags": []
     },
     "output_type": "execute_result"
    }
   ],
   "source": [
    "#@title\n",
    "from scipy.spatial.distance import hamming \n",
    "hamming(user1Ratings,user2Ratings)"
   ]
  },
  {
   "cell_type": "code",
   "execution_count": 0,
   "metadata": {
    "cellView": "both",
    "colab": {},
    "colab_type": "code",
    "id": "PH0IsHnAw7-S"
   },
   "outputs": [],
   "source": [
    "#@title\n",
    "import numpy as np\n",
    "def distance(user1,user2):\n",
    "        try:\n",
    "            user1Ratings = userItemRatingMatrix.transpose()[user1]\n",
    "            user2Ratings = userItemRatingMatrix.transpose()[user2]\n",
    "            distance = hamming(user1Ratings,user2Ratings)\n",
    "        except: \n",
    "            distance = np.NaN\n",
    "        return distance "
   ]
  },
  {
   "cell_type": "markdown",
   "metadata": {
    "colab_type": "text",
    "id": "ntcZTJZfI-bM"
   },
   "source": [
    "Pick a distance between two users and output that. "
   ]
  },
  {
   "cell_type": "code",
   "execution_count": 0,
   "metadata": {
    "cellView": "both",
    "colab": {
     "base_uri": "https://localhost:8080/",
     "height": 34
    },
    "colab_type": "code",
    "id": "LHonPmHGw7-a",
    "outputId": "3e5587c2-1258-4d65-c5e5-eb98922940f3"
   },
   "outputs": [
    {
     "data": {
      "text/plain": [
       "0.9998705585399004"
      ]
     },
     "execution_count": 24,
     "metadata": {
      "tags": []
     },
     "output_type": "execute_result"
    }
   ],
   "source": [
    "#@title\n",
    "distance(204622,10118)"
   ]
  },
  {
   "cell_type": "markdown",
   "metadata": {
    "colab_type": "text",
    "id": "jmv7W8Y0JGyM"
   },
   "source": [
    "Based on one of the users, and then make a matrix while removing that user for your calculation of the distance. The goal is to find the distance between that user and all the other ones. Name the distance variable for all users as allUsers. "
   ]
  },
  {
   "cell_type": "code",
   "execution_count": 0,
   "metadata": {
    "cellView": "both",
    "colab": {
     "base_uri": "https://localhost:8080/",
     "height": 195
    },
    "colab_type": "code",
    "id": "N_3hcAO1w7-f",
    "outputId": "e3524e5c-7047-49c2-c27c-cb208e0c3d5c"
   },
   "outputs": [
    {
     "data": {
      "text/html": [
       "<div>\n",
       "<style scoped>\n",
       "    .dataframe tbody tr th:only-of-type {\n",
       "        vertical-align: middle;\n",
       "    }\n",
       "\n",
       "    .dataframe tbody tr th {\n",
       "        vertical-align: top;\n",
       "    }\n",
       "\n",
       "    .dataframe thead th {\n",
       "        text-align: right;\n",
       "    }\n",
       "</style>\n",
       "<table border=\"1\" class=\"dataframe\">\n",
       "  <thead>\n",
       "    <tr style=\"text-align: right;\">\n",
       "      <th></th>\n",
       "      <th>user</th>\n",
       "    </tr>\n",
       "  </thead>\n",
       "  <tbody>\n",
       "    <tr>\n",
       "      <th>0</th>\n",
       "      <td>8</td>\n",
       "    </tr>\n",
       "    <tr>\n",
       "      <th>1</th>\n",
       "      <td>99</td>\n",
       "    </tr>\n",
       "    <tr>\n",
       "      <th>2</th>\n",
       "      <td>242</td>\n",
       "    </tr>\n",
       "    <tr>\n",
       "      <th>3</th>\n",
       "      <td>243</td>\n",
       "    </tr>\n",
       "    <tr>\n",
       "      <th>4</th>\n",
       "      <td>254</td>\n",
       "    </tr>\n",
       "  </tbody>\n",
       "</table>\n",
       "</div>"
      ],
      "text/plain": [
       "   user\n",
       "0     8\n",
       "1    99\n",
       "2   242\n",
       "3   243\n",
       "4   254"
      ]
     },
     "execution_count": 25,
     "metadata": {
      "tags": []
     },
     "output_type": "execute_result"
    }
   ],
   "source": [
    "#@title\n",
    "user = 204622\n",
    "allUsers = pd.DataFrame(userItemRatingMatrix.index)\n",
    "allUsers = allUsers[allUsers.user!=user]\n",
    "allUsers.head()"
   ]
  },
  {
   "cell_type": "code",
   "execution_count": 0,
   "metadata": {
    "cellView": "both",
    "colab": {},
    "colab_type": "code",
    "id": "hePftpOLw7-n"
   },
   "outputs": [],
   "source": [
    "#@title\n",
    "allUsers[\"distance\"] = allUsers[\"user\"].apply(lambda x: distance(user,x))"
   ]
  },
  {
   "cell_type": "code",
   "execution_count": 0,
   "metadata": {
    "cellView": "both",
    "colab": {
     "base_uri": "https://localhost:8080/",
     "height": 195
    },
    "colab_type": "code",
    "id": "V3emQ9A9w7-s",
    "outputId": "6e29f38e-c493-4f6a-c3a9-2197a26d2d48"
   },
   "outputs": [
    {
     "data": {
      "text/html": [
       "<div>\n",
       "<style scoped>\n",
       "    .dataframe tbody tr th:only-of-type {\n",
       "        vertical-align: middle;\n",
       "    }\n",
       "\n",
       "    .dataframe tbody tr th {\n",
       "        vertical-align: top;\n",
       "    }\n",
       "\n",
       "    .dataframe thead th {\n",
       "        text-align: right;\n",
       "    }\n",
       "</style>\n",
       "<table border=\"1\" class=\"dataframe\">\n",
       "  <thead>\n",
       "    <tr style=\"text-align: right;\">\n",
       "      <th></th>\n",
       "      <th>user</th>\n",
       "      <th>distance</th>\n",
       "    </tr>\n",
       "  </thead>\n",
       "  <tbody>\n",
       "    <tr>\n",
       "      <th>0</th>\n",
       "      <td>8</td>\n",
       "      <td>1.000000</td>\n",
       "    </tr>\n",
       "    <tr>\n",
       "      <th>1</th>\n",
       "      <td>99</td>\n",
       "      <td>1.000000</td>\n",
       "    </tr>\n",
       "    <tr>\n",
       "      <th>2</th>\n",
       "      <td>242</td>\n",
       "      <td>0.999935</td>\n",
       "    </tr>\n",
       "    <tr>\n",
       "      <th>3</th>\n",
       "      <td>243</td>\n",
       "      <td>0.999935</td>\n",
       "    </tr>\n",
       "    <tr>\n",
       "      <th>4</th>\n",
       "      <td>254</td>\n",
       "      <td>1.000000</td>\n",
       "    </tr>\n",
       "  </tbody>\n",
       "</table>\n",
       "</div>"
      ],
      "text/plain": [
       "   user  distance\n",
       "0     8  1.000000\n",
       "1    99  1.000000\n",
       "2   242  0.999935\n",
       "3   243  0.999935\n",
       "4   254  1.000000"
      ]
     },
     "execution_count": 27,
     "metadata": {
      "tags": []
     },
     "output_type": "execute_result"
    }
   ],
   "source": [
    "#@title\n",
    "allUsers.head()"
   ]
  },
  {
   "cell_type": "markdown",
   "metadata": {
    "colab_type": "text",
    "id": "1olfYJxGJn67"
   },
   "source": [
    "Let's use K Nearest Neighbors now! Use K as 10 and sort the values on allUsers and display them. "
   ]
  },
  {
   "cell_type": "code",
   "execution_count": 0,
   "metadata": {
    "cellView": "both",
    "colab": {},
    "colab_type": "code",
    "id": "lERWTSjMw7-x"
   },
   "outputs": [],
   "source": [
    "#@title\n",
    "K = 10\n",
    "KnearestUsers = allUsers.sort_values([\"distance\"],ascending=True)[\"user\"][:K]"
   ]
  },
  {
   "cell_type": "code",
   "execution_count": 0,
   "metadata": {
    "cellView": "both",
    "colab": {
     "base_uri": "https://localhost:8080/",
     "height": 202
    },
    "colab_type": "code",
    "id": "EubcgYy8w7-2",
    "outputId": "173370e5-a152-4214-e32e-d707b4d83de9"
   },
   "outputs": [
    {
     "data": {
      "text/plain": [
       "3201     82893\n",
       "3368     87555\n",
       "2624     68555\n",
       "1813     48046\n",
       "5401    140036\n",
       "7584    198711\n",
       "565      16795\n",
       "8866    232131\n",
       "239       7346\n",
       "9693    251422\n",
       "Name: user, dtype: int64"
      ]
     },
     "execution_count": 29,
     "metadata": {
      "tags": []
     },
     "output_type": "execute_result"
    }
   ],
   "source": [
    "#@title\n",
    "KnearestUsers"
   ]
  },
  {
   "cell_type": "markdown",
   "metadata": {
    "colab_type": "text",
    "id": "2mwcqQtkJxUe"
   },
   "source": [
    "Make a function for nearestNeighbors and find the KnearestUsers for the user we picked. "
   ]
  },
  {
   "cell_type": "code",
   "execution_count": 0,
   "metadata": {
    "cellView": "both",
    "colab": {},
    "colab_type": "code",
    "id": "9c4ArHI0w7-6"
   },
   "outputs": [],
   "source": [
    "#@title\n",
    "def nearestNeighbors(user,K=10):\n",
    "    allUsers = pd.DataFrame(userItemRatingMatrix.index)\n",
    "    allUsers = allUsers[allUsers.user!=user]\n",
    "    allUsers[\"distance\"] = allUsers[\"user\"].apply(lambda x: distance(user,x))\n",
    "    KnearestUsers = allUsers.sort_values([\"distance\"],ascending=True)[\"user\"][:K]\n",
    "    return KnearestUsers"
   ]
  },
  {
   "cell_type": "code",
   "execution_count": 0,
   "metadata": {
    "cellView": "both",
    "colab": {},
    "colab_type": "code",
    "id": "n6FJzVS9w7-9"
   },
   "outputs": [],
   "source": [
    "#@title\n",
    "KnearestUsers = nearestNeighbors(user)"
   ]
  },
  {
   "cell_type": "code",
   "execution_count": 0,
   "metadata": {
    "cellView": "both",
    "colab": {
     "base_uri": "https://localhost:8080/",
     "height": 202
    },
    "colab_type": "code",
    "id": "U6nN_ETXw7-_",
    "outputId": "afd1ade0-5b92-4fa7-eeeb-2c38f4b10a3c"
   },
   "outputs": [
    {
     "data": {
      "text/plain": [
       "3201     82893\n",
       "3368     87555\n",
       "2624     68555\n",
       "1813     48046\n",
       "5401    140036\n",
       "7584    198711\n",
       "565      16795\n",
       "8866    232131\n",
       "239       7346\n",
       "9693    251422\n",
       "Name: user, dtype: int64"
      ]
     },
     "execution_count": 32,
     "metadata": {
      "tags": []
     },
     "output_type": "execute_result"
    }
   ],
   "source": [
    "#@title\n",
    "KnearestUsers"
   ]
  },
  {
   "cell_type": "markdown",
   "metadata": {
    "colab_type": "text",
    "id": "wGoQ1hGqJ9Gk"
   },
   "source": [
    "Now find the ratings of the Nearest Neighbors and put it in NNRatings. "
   ]
  },
  {
   "cell_type": "code",
   "execution_count": 0,
   "metadata": {
    "cellView": "both",
    "colab": {
     "base_uri": "https://localhost:8080/",
     "height": 422
    },
    "colab_type": "code",
    "id": "LW0eHePbw7_E",
    "outputId": "2b9d1224-f5d5-48f0-a838-a019f43798dc"
   },
   "outputs": [
    {
     "data": {
      "text/html": [
       "<div>\n",
       "<style scoped>\n",
       "    .dataframe tbody tr th:only-of-type {\n",
       "        vertical-align: middle;\n",
       "    }\n",
       "\n",
       "    .dataframe tbody tr th {\n",
       "        vertical-align: top;\n",
       "    }\n",
       "\n",
       "    .dataframe thead th {\n",
       "        text-align: right;\n",
       "    }\n",
       "</style>\n",
       "<table border=\"1\" class=\"dataframe\">\n",
       "  <thead>\n",
       "    <tr style=\"text-align: right;\">\n",
       "      <th>isbn</th>\n",
       "      <th>0002005018</th>\n",
       "      <th>0002251760</th>\n",
       "      <th>0002259834</th>\n",
       "      <th>0002558122</th>\n",
       "      <th>0006480764</th>\n",
       "      <th>000648302X</th>\n",
       "      <th>0006485200</th>\n",
       "      <th>000649840X</th>\n",
       "      <th>000651202X</th>\n",
       "      <th>0006512062</th>\n",
       "      <th>...</th>\n",
       "      <th>8845906884</th>\n",
       "      <th>8845915611</th>\n",
       "      <th>8878188212</th>\n",
       "      <th>8885989403</th>\n",
       "      <th>9074336329</th>\n",
       "      <th>9074336469</th>\n",
       "      <th>950491036X</th>\n",
       "      <th>9681500830</th>\n",
       "      <th>9681500954</th>\n",
       "      <th>9871138016</th>\n",
       "    </tr>\n",
       "    <tr>\n",
       "      <th>user</th>\n",
       "      <th></th>\n",
       "      <th></th>\n",
       "      <th></th>\n",
       "      <th></th>\n",
       "      <th></th>\n",
       "      <th></th>\n",
       "      <th></th>\n",
       "      <th></th>\n",
       "      <th></th>\n",
       "      <th></th>\n",
       "      <th></th>\n",
       "      <th></th>\n",
       "      <th></th>\n",
       "      <th></th>\n",
       "      <th></th>\n",
       "      <th></th>\n",
       "      <th></th>\n",
       "      <th></th>\n",
       "      <th></th>\n",
       "      <th></th>\n",
       "      <th></th>\n",
       "    </tr>\n",
       "  </thead>\n",
       "  <tbody>\n",
       "    <tr>\n",
       "      <th>7346</th>\n",
       "      <td>NaN</td>\n",
       "      <td>NaN</td>\n",
       "      <td>NaN</td>\n",
       "      <td>NaN</td>\n",
       "      <td>NaN</td>\n",
       "      <td>NaN</td>\n",
       "      <td>NaN</td>\n",
       "      <td>NaN</td>\n",
       "      <td>NaN</td>\n",
       "      <td>NaN</td>\n",
       "      <td>...</td>\n",
       "      <td>NaN</td>\n",
       "      <td>NaN</td>\n",
       "      <td>NaN</td>\n",
       "      <td>NaN</td>\n",
       "      <td>NaN</td>\n",
       "      <td>NaN</td>\n",
       "      <td>NaN</td>\n",
       "      <td>NaN</td>\n",
       "      <td>NaN</td>\n",
       "      <td>NaN</td>\n",
       "    </tr>\n",
       "    <tr>\n",
       "      <th>16795</th>\n",
       "      <td>NaN</td>\n",
       "      <td>NaN</td>\n",
       "      <td>NaN</td>\n",
       "      <td>NaN</td>\n",
       "      <td>NaN</td>\n",
       "      <td>NaN</td>\n",
       "      <td>NaN</td>\n",
       "      <td>NaN</td>\n",
       "      <td>NaN</td>\n",
       "      <td>NaN</td>\n",
       "      <td>...</td>\n",
       "      <td>NaN</td>\n",
       "      <td>NaN</td>\n",
       "      <td>NaN</td>\n",
       "      <td>NaN</td>\n",
       "      <td>NaN</td>\n",
       "      <td>NaN</td>\n",
       "      <td>NaN</td>\n",
       "      <td>NaN</td>\n",
       "      <td>NaN</td>\n",
       "      <td>NaN</td>\n",
       "    </tr>\n",
       "    <tr>\n",
       "      <th>48046</th>\n",
       "      <td>NaN</td>\n",
       "      <td>NaN</td>\n",
       "      <td>NaN</td>\n",
       "      <td>NaN</td>\n",
       "      <td>NaN</td>\n",
       "      <td>NaN</td>\n",
       "      <td>NaN</td>\n",
       "      <td>NaN</td>\n",
       "      <td>NaN</td>\n",
       "      <td>NaN</td>\n",
       "      <td>...</td>\n",
       "      <td>NaN</td>\n",
       "      <td>NaN</td>\n",
       "      <td>NaN</td>\n",
       "      <td>NaN</td>\n",
       "      <td>NaN</td>\n",
       "      <td>NaN</td>\n",
       "      <td>NaN</td>\n",
       "      <td>NaN</td>\n",
       "      <td>NaN</td>\n",
       "      <td>NaN</td>\n",
       "    </tr>\n",
       "    <tr>\n",
       "      <th>68555</th>\n",
       "      <td>NaN</td>\n",
       "      <td>NaN</td>\n",
       "      <td>NaN</td>\n",
       "      <td>NaN</td>\n",
       "      <td>NaN</td>\n",
       "      <td>NaN</td>\n",
       "      <td>NaN</td>\n",
       "      <td>NaN</td>\n",
       "      <td>NaN</td>\n",
       "      <td>NaN</td>\n",
       "      <td>...</td>\n",
       "      <td>NaN</td>\n",
       "      <td>NaN</td>\n",
       "      <td>NaN</td>\n",
       "      <td>NaN</td>\n",
       "      <td>NaN</td>\n",
       "      <td>NaN</td>\n",
       "      <td>NaN</td>\n",
       "      <td>NaN</td>\n",
       "      <td>NaN</td>\n",
       "      <td>NaN</td>\n",
       "    </tr>\n",
       "    <tr>\n",
       "      <th>82893</th>\n",
       "      <td>NaN</td>\n",
       "      <td>NaN</td>\n",
       "      <td>NaN</td>\n",
       "      <td>NaN</td>\n",
       "      <td>NaN</td>\n",
       "      <td>NaN</td>\n",
       "      <td>NaN</td>\n",
       "      <td>NaN</td>\n",
       "      <td>NaN</td>\n",
       "      <td>NaN</td>\n",
       "      <td>...</td>\n",
       "      <td>NaN</td>\n",
       "      <td>NaN</td>\n",
       "      <td>NaN</td>\n",
       "      <td>NaN</td>\n",
       "      <td>NaN</td>\n",
       "      <td>NaN</td>\n",
       "      <td>NaN</td>\n",
       "      <td>NaN</td>\n",
       "      <td>NaN</td>\n",
       "      <td>NaN</td>\n",
       "    </tr>\n",
       "    <tr>\n",
       "      <th>87555</th>\n",
       "      <td>NaN</td>\n",
       "      <td>NaN</td>\n",
       "      <td>NaN</td>\n",
       "      <td>NaN</td>\n",
       "      <td>NaN</td>\n",
       "      <td>NaN</td>\n",
       "      <td>NaN</td>\n",
       "      <td>NaN</td>\n",
       "      <td>NaN</td>\n",
       "      <td>NaN</td>\n",
       "      <td>...</td>\n",
       "      <td>NaN</td>\n",
       "      <td>NaN</td>\n",
       "      <td>NaN</td>\n",
       "      <td>NaN</td>\n",
       "      <td>NaN</td>\n",
       "      <td>NaN</td>\n",
       "      <td>NaN</td>\n",
       "      <td>NaN</td>\n",
       "      <td>NaN</td>\n",
       "      <td>NaN</td>\n",
       "    </tr>\n",
       "    <tr>\n",
       "      <th>140036</th>\n",
       "      <td>NaN</td>\n",
       "      <td>NaN</td>\n",
       "      <td>NaN</td>\n",
       "      <td>NaN</td>\n",
       "      <td>NaN</td>\n",
       "      <td>NaN</td>\n",
       "      <td>NaN</td>\n",
       "      <td>NaN</td>\n",
       "      <td>NaN</td>\n",
       "      <td>NaN</td>\n",
       "      <td>...</td>\n",
       "      <td>NaN</td>\n",
       "      <td>NaN</td>\n",
       "      <td>NaN</td>\n",
       "      <td>NaN</td>\n",
       "      <td>NaN</td>\n",
       "      <td>NaN</td>\n",
       "      <td>NaN</td>\n",
       "      <td>NaN</td>\n",
       "      <td>NaN</td>\n",
       "      <td>NaN</td>\n",
       "    </tr>\n",
       "    <tr>\n",
       "      <th>198711</th>\n",
       "      <td>NaN</td>\n",
       "      <td>NaN</td>\n",
       "      <td>NaN</td>\n",
       "      <td>NaN</td>\n",
       "      <td>NaN</td>\n",
       "      <td>NaN</td>\n",
       "      <td>NaN</td>\n",
       "      <td>NaN</td>\n",
       "      <td>NaN</td>\n",
       "      <td>NaN</td>\n",
       "      <td>...</td>\n",
       "      <td>NaN</td>\n",
       "      <td>NaN</td>\n",
       "      <td>NaN</td>\n",
       "      <td>NaN</td>\n",
       "      <td>NaN</td>\n",
       "      <td>NaN</td>\n",
       "      <td>NaN</td>\n",
       "      <td>NaN</td>\n",
       "      <td>NaN</td>\n",
       "      <td>NaN</td>\n",
       "    </tr>\n",
       "    <tr>\n",
       "      <th>232131</th>\n",
       "      <td>NaN</td>\n",
       "      <td>NaN</td>\n",
       "      <td>NaN</td>\n",
       "      <td>NaN</td>\n",
       "      <td>NaN</td>\n",
       "      <td>NaN</td>\n",
       "      <td>NaN</td>\n",
       "      <td>NaN</td>\n",
       "      <td>NaN</td>\n",
       "      <td>NaN</td>\n",
       "      <td>...</td>\n",
       "      <td>NaN</td>\n",
       "      <td>NaN</td>\n",
       "      <td>NaN</td>\n",
       "      <td>NaN</td>\n",
       "      <td>NaN</td>\n",
       "      <td>NaN</td>\n",
       "      <td>NaN</td>\n",
       "      <td>NaN</td>\n",
       "      <td>NaN</td>\n",
       "      <td>NaN</td>\n",
       "    </tr>\n",
       "    <tr>\n",
       "      <th>251422</th>\n",
       "      <td>NaN</td>\n",
       "      <td>NaN</td>\n",
       "      <td>NaN</td>\n",
       "      <td>NaN</td>\n",
       "      <td>NaN</td>\n",
       "      <td>NaN</td>\n",
       "      <td>NaN</td>\n",
       "      <td>NaN</td>\n",
       "      <td>NaN</td>\n",
       "      <td>NaN</td>\n",
       "      <td>...</td>\n",
       "      <td>NaN</td>\n",
       "      <td>NaN</td>\n",
       "      <td>NaN</td>\n",
       "      <td>NaN</td>\n",
       "      <td>NaN</td>\n",
       "      <td>NaN</td>\n",
       "      <td>NaN</td>\n",
       "      <td>NaN</td>\n",
       "      <td>NaN</td>\n",
       "      <td>NaN</td>\n",
       "    </tr>\n",
       "  </tbody>\n",
       "</table>\n",
       "<p>10 rows × 15451 columns</p>\n",
       "</div>"
      ],
      "text/plain": [
       "isbn    0002005018  0002251760  0002259834  0002558122  0006480764  \\\n",
       "user                                                                 \n",
       "7346           NaN         NaN         NaN         NaN         NaN   \n",
       "16795          NaN         NaN         NaN         NaN         NaN   \n",
       "48046          NaN         NaN         NaN         NaN         NaN   \n",
       "68555          NaN         NaN         NaN         NaN         NaN   \n",
       "82893          NaN         NaN         NaN         NaN         NaN   \n",
       "87555          NaN         NaN         NaN         NaN         NaN   \n",
       "140036         NaN         NaN         NaN         NaN         NaN   \n",
       "198711         NaN         NaN         NaN         NaN         NaN   \n",
       "232131         NaN         NaN         NaN         NaN         NaN   \n",
       "251422         NaN         NaN         NaN         NaN         NaN   \n",
       "\n",
       "isbn    000648302X  0006485200  000649840X  000651202X  0006512062  \\\n",
       "user                                                                 \n",
       "7346           NaN         NaN         NaN         NaN         NaN   \n",
       "16795          NaN         NaN         NaN         NaN         NaN   \n",
       "48046          NaN         NaN         NaN         NaN         NaN   \n",
       "68555          NaN         NaN         NaN         NaN         NaN   \n",
       "82893          NaN         NaN         NaN         NaN         NaN   \n",
       "87555          NaN         NaN         NaN         NaN         NaN   \n",
       "140036         NaN         NaN         NaN         NaN         NaN   \n",
       "198711         NaN         NaN         NaN         NaN         NaN   \n",
       "232131         NaN         NaN         NaN         NaN         NaN   \n",
       "251422         NaN         NaN         NaN         NaN         NaN   \n",
       "\n",
       "isbn       ...      8845906884  8845915611  8878188212  8885989403  \\\n",
       "user       ...                                                       \n",
       "7346       ...             NaN         NaN         NaN         NaN   \n",
       "16795      ...             NaN         NaN         NaN         NaN   \n",
       "48046      ...             NaN         NaN         NaN         NaN   \n",
       "68555      ...             NaN         NaN         NaN         NaN   \n",
       "82893      ...             NaN         NaN         NaN         NaN   \n",
       "87555      ...             NaN         NaN         NaN         NaN   \n",
       "140036     ...             NaN         NaN         NaN         NaN   \n",
       "198711     ...             NaN         NaN         NaN         NaN   \n",
       "232131     ...             NaN         NaN         NaN         NaN   \n",
       "251422     ...             NaN         NaN         NaN         NaN   \n",
       "\n",
       "isbn    9074336329  9074336469  950491036X  9681500830  9681500954  9871138016  \n",
       "user                                                                            \n",
       "7346           NaN         NaN         NaN         NaN         NaN         NaN  \n",
       "16795          NaN         NaN         NaN         NaN         NaN         NaN  \n",
       "48046          NaN         NaN         NaN         NaN         NaN         NaN  \n",
       "68555          NaN         NaN         NaN         NaN         NaN         NaN  \n",
       "82893          NaN         NaN         NaN         NaN         NaN         NaN  \n",
       "87555          NaN         NaN         NaN         NaN         NaN         NaN  \n",
       "140036         NaN         NaN         NaN         NaN         NaN         NaN  \n",
       "198711         NaN         NaN         NaN         NaN         NaN         NaN  \n",
       "232131         NaN         NaN         NaN         NaN         NaN         NaN  \n",
       "251422         NaN         NaN         NaN         NaN         NaN         NaN  \n",
       "\n",
       "[10 rows x 15451 columns]"
      ]
     },
     "execution_count": 33,
     "metadata": {
      "tags": []
     },
     "output_type": "execute_result"
    }
   ],
   "source": [
    "#@title\n",
    "NNRatings = userItemRatingMatrix[userItemRatingMatrix.index.isin(KnearestUsers)]\n",
    "NNRatings"
   ]
  },
  {
   "cell_type": "markdown",
   "metadata": {
    "colab_type": "text",
    "id": "IaaLI1SaKCIC"
   },
   "source": [
    "Find an average rating of NNRatings. "
   ]
  },
  {
   "cell_type": "code",
   "execution_count": 0,
   "metadata": {
    "cellView": "both",
    "colab": {
     "base_uri": "https://localhost:8080/",
     "height": 168
    },
    "colab_type": "code",
    "id": "Mnio7p0Qw7_H",
    "outputId": "492783f8-3053-4a7c-9d4a-aaa9df62bb1c"
   },
   "outputs": [
    {
     "name": "stderr",
     "output_type": "stream",
     "text": [
      "/usr/local/lib/python2.7/dist-packages/pandas/core/frame.py:4933: RuntimeWarning: Mean of empty slice\n",
      "  labels=labels)\n"
     ]
    },
    {
     "data": {
      "text/plain": [
       "isbn\n",
       "0007154615    1.5\n",
       "0020125305    0.0\n",
       "0020125607    0.0\n",
       "0020198817    0.0\n",
       "0020198906    8.0\n",
       "dtype: float64"
      ]
     },
     "execution_count": 34,
     "metadata": {
      "tags": []
     },
     "output_type": "execute_result"
    }
   ],
   "source": [
    "#@title\n",
    "avgRating = NNRatings.apply(np.nanmean).dropna()\n",
    "avgRating.head()"
   ]
  },
  {
   "cell_type": "markdown",
   "metadata": {
    "colab_type": "text",
    "id": "V2_-pIKPKFy2"
   },
   "source": [
    "Now find the books already read. "
   ]
  },
  {
   "cell_type": "code",
   "execution_count": 0,
   "metadata": {
    "cellView": "both",
    "colab": {
     "base_uri": "https://localhost:8080/",
     "height": 168
    },
    "colab_type": "code",
    "id": "DPSJAVCnw7_M",
    "outputId": "0abbd463-3be9-4755-eb69-b718af1056d8"
   },
   "outputs": [
    {
     "data": {
      "text/plain": [
       "Index([u'006016848X', u'0060935464', u'0140042598', u'0140178724',\n",
       "       u'0142004278', u'0380732238', u'0385504209', u'0425109720',\n",
       "       u'0425152898', u'0440136482', u'0440241162', u'0451191145',\n",
       "       u'0451197127', u'0553096060', u'0671027360', u'0671027387',\n",
       "       u'0671666258', u'0688174574', u'0743225708', u'076790592X',\n",
       "       u'0785264280', u'0786868716', u'0802131867', u'0802132952',\n",
       "       u'0971880107', u'1853260045', u'1853260126', u'1853260207',\n",
       "       u'185326041X', u'1878424114'],\n",
       "      dtype='object', name=u'isbn')"
      ]
     },
     "execution_count": 35,
     "metadata": {
      "tags": []
     },
     "output_type": "execute_result"
    }
   ],
   "source": [
    "#@title\n",
    "booksAlreadyRead = userItemRatingMatrix.transpose()[user].dropna().index\n",
    "booksAlreadyRead"
   ]
  },
  {
   "cell_type": "markdown",
   "metadata": {
    "colab_type": "text",
    "id": "c4WurMgqKLz4"
   },
   "source": [
    "Find an average of the booksAlreadyRead. "
   ]
  },
  {
   "cell_type": "code",
   "execution_count": 0,
   "metadata": {
    "cellView": "both",
    "colab": {},
    "colab_type": "code",
    "id": "VSkGrbS9w7_P"
   },
   "outputs": [],
   "source": [
    "#@title\n",
    "avgRating = avgRating[~avgRating.index.isin(booksAlreadyRead)]"
   ]
  },
  {
   "cell_type": "markdown",
   "metadata": {
    "colab_type": "text",
    "id": "nsVtIbyLKRLm"
   },
   "source": [
    "Now for the final part. We take the top N suggestions for any user and then show them the final output. Make a variable named topNISBNs and sort out the average ratings in it. Make a function named topN and apply all the functions we have made and then pass on a user to topN and output the final result. "
   ]
  },
  {
   "cell_type": "code",
   "execution_count": 0,
   "metadata": {
    "cellView": "both",
    "colab": {},
    "colab_type": "code",
    "id": "q-aV5xDcw7_R"
   },
   "outputs": [],
   "source": [
    "#@title\n",
    "N=3\n",
    "topNISBNs = avgRating.sort_values(ascending=False).index[:N]"
   ]
  },
  {
   "cell_type": "code",
   "execution_count": 0,
   "metadata": {
    "cellView": "both",
    "colab": {
     "base_uri": "https://localhost:8080/",
     "height": 84
    },
    "colab_type": "code",
    "id": "eeAZpeZRw7_V",
    "outputId": "211087f6-de27-4889-a83a-5c42a57d6b82"
   },
   "outputs": [
    {
     "data": {
      "text/plain": [
       "0              (Love, Greg &amp; Lauren, Greg Manning)\n",
       "1    (The Two Towers (The Lord of the Rings, Part 2...\n",
       "2    (Harry Potter and the Sorcerer's Stone (Book 1...\n",
       "Name: isbn, dtype: object"
      ]
     },
     "execution_count": 39,
     "metadata": {
      "tags": []
     },
     "output_type": "execute_result"
    }
   ],
   "source": [
    "#@title\n",
    "pd.Series(topNISBNs).apply(bookMeta)"
   ]
  },
  {
   "cell_type": "code",
   "execution_count": 0,
   "metadata": {
    "cellView": "both",
    "colab": {},
    "colab_type": "code",
    "id": "CkNh2m_Uw7_Z"
   },
   "outputs": [],
   "source": [
    "#@title\n",
    "def topN(user,N=3):\n",
    "    KnearestUsers = nearestNeighbors(user)\n",
    "    NNRatings = userItemRatingMatrix[userItemRatingMatrix.index.isin(KnearestUsers)]\n",
    "    avgRating = NNRatings.apply(np.nanmean).dropna()\n",
    "    booksAlreadyRead = userItemRatingMatrix.transpose()[user].dropna().index\n",
    "    avgRating = avgRating[~avgRating.index.isin(booksAlreadyRead)]\n",
    "    topNISBNs = avgRating.sort_values(ascending=False).index[:N]\n",
    "    return pd.Series(topNISBNs).apply(bookMeta)"
   ]
  },
  {
   "cell_type": "code",
   "execution_count": 0,
   "metadata": {
    "cellView": "both",
    "colab": {
     "base_uri": "https://localhost:8080/",
     "height": 343
    },
    "colab_type": "code",
    "id": "BeRZ3Qu4w7_e",
    "outputId": "44b07f37-01ca-4ce8-ebcd-e5e5e2ffffb0"
   },
   "outputs": [
    {
     "data": {
      "text/html": [
       "<div>\n",
       "<style scoped>\n",
       "    .dataframe tbody tr th:only-of-type {\n",
       "        vertical-align: middle;\n",
       "    }\n",
       "\n",
       "    .dataframe tbody tr th {\n",
       "        vertical-align: top;\n",
       "    }\n",
       "\n",
       "    .dataframe thead th {\n",
       "        text-align: right;\n",
       "    }\n",
       "</style>\n",
       "<table border=\"1\" class=\"dataframe\">\n",
       "  <thead>\n",
       "    <tr style=\"text-align: right;\">\n",
       "      <th></th>\n",
       "      <th>user</th>\n",
       "      <th>isbn</th>\n",
       "      <th>rating</th>\n",
       "      <th>title</th>\n",
       "    </tr>\n",
       "  </thead>\n",
       "  <tbody>\n",
       "    <tr>\n",
       "      <th>845417</th>\n",
       "      <td>204813</td>\n",
       "      <td>0399149848</td>\n",
       "      <td>10</td>\n",
       "      <td>(Birthright, Nora Roberts)</td>\n",
       "    </tr>\n",
       "    <tr>\n",
       "      <th>845407</th>\n",
       "      <td>204813</td>\n",
       "      <td>0385504209</td>\n",
       "      <td>10</td>\n",
       "      <td>(The Da Vinci Code, Dan Brown)</td>\n",
       "    </tr>\n",
       "    <tr>\n",
       "      <th>845382</th>\n",
       "      <td>204813</td>\n",
       "      <td>0373218036</td>\n",
       "      <td>10</td>\n",
       "      <td>(Truly, Madly Manhattan, Nora Roberts)</td>\n",
       "    </tr>\n",
       "    <tr>\n",
       "      <th>845359</th>\n",
       "      <td>204813</td>\n",
       "      <td>0142001805</td>\n",
       "      <td>10</td>\n",
       "      <td>(The Eyre Affair: A Novel, Jasper Fforde)</td>\n",
       "    </tr>\n",
       "    <tr>\n",
       "      <th>845431</th>\n",
       "      <td>204813</td>\n",
       "      <td>0446527793</td>\n",
       "      <td>10</td>\n",
       "      <td>(The Guardian, Nicholas Sparks)</td>\n",
       "    </tr>\n",
       "    <tr>\n",
       "      <th>845416</th>\n",
       "      <td>204813</td>\n",
       "      <td>0399149392</td>\n",
       "      <td>10</td>\n",
       "      <td>(Chesapeake Blue (Quinn Brothers (Hardcover)),...</td>\n",
       "    </tr>\n",
       "    <tr>\n",
       "      <th>845432</th>\n",
       "      <td>204813</td>\n",
       "      <td>0446531332</td>\n",
       "      <td>9</td>\n",
       "      <td>(Nights in Rodanthe, Nicholas Sparks)</td>\n",
       "    </tr>\n",
       "    <tr>\n",
       "      <th>845434</th>\n",
       "      <td>204813</td>\n",
       "      <td>0446606243</td>\n",
       "      <td>9</td>\n",
       "      <td>(The Tenth Justice, Brad Meltzer)</td>\n",
       "    </tr>\n",
       "    <tr>\n",
       "      <th>845451</th>\n",
       "      <td>204813</td>\n",
       "      <td>0671027360</td>\n",
       "      <td>9</td>\n",
       "      <td>(Angels &amp;amp; Demons, Dan Brown)</td>\n",
       "    </tr>\n",
       "    <tr>\n",
       "      <th>845433</th>\n",
       "      <td>204813</td>\n",
       "      <td>0446532452</td>\n",
       "      <td>9</td>\n",
       "      <td>(The Wedding, Nicholas Sparks)</td>\n",
       "    </tr>\n",
       "  </tbody>\n",
       "</table>\n",
       "</div>"
      ],
      "text/plain": [
       "          user        isbn  rating  \\\n",
       "845417  204813  0399149848      10   \n",
       "845407  204813  0385504209      10   \n",
       "845382  204813  0373218036      10   \n",
       "845359  204813  0142001805      10   \n",
       "845431  204813  0446527793      10   \n",
       "845416  204813  0399149392      10   \n",
       "845432  204813  0446531332       9   \n",
       "845434  204813  0446606243       9   \n",
       "845451  204813  0671027360       9   \n",
       "845433  204813  0446532452       9   \n",
       "\n",
       "                                                    title  \n",
       "845417                         (Birthright, Nora Roberts)  \n",
       "845407                     (The Da Vinci Code, Dan Brown)  \n",
       "845382             (Truly, Madly Manhattan, Nora Roberts)  \n",
       "845359          (The Eyre Affair: A Novel, Jasper Fforde)  \n",
       "845431                    (The Guardian, Nicholas Sparks)  \n",
       "845416  (Chesapeake Blue (Quinn Brothers (Hardcover)),...  \n",
       "845432              (Nights in Rodanthe, Nicholas Sparks)  \n",
       "845434                  (The Tenth Justice, Brad Meltzer)  \n",
       "845451                   (Angels &amp; Demons, Dan Brown)  \n",
       "845433                     (The Wedding, Nicholas Sparks)  "
      ]
     },
     "execution_count": 41,
     "metadata": {
      "tags": []
     },
     "output_type": "execute_result"
    }
   ],
   "source": [
    "#@title\n",
    "faveBooks(204813,10)"
   ]
  },
  {
   "cell_type": "code",
   "execution_count": 0,
   "metadata": {
    "cellView": "both",
    "colab": {
     "base_uri": "https://localhost:8080/",
     "height": 202
    },
    "colab_type": "code",
    "id": "vXkZihJew7_i",
    "outputId": "d858e9c5-f98a-41bb-e986-6610b644e851"
   },
   "outputs": [
    {
     "data": {
      "text/plain": [
       "0    (Waiting For Nick (Silhouette Special Edition)...\n",
       "1           (Wringer (Trophy Newbery), Jerry Spinelli)\n",
       "2    (The Star Wars Trilogy: Star Wars, the Empire ...\n",
       "3          (One, Two, Buckle My Shoe, Agatha Christie)\n",
       "4                          (On the Road, Jack Kerouac)\n",
       "5                 (Dead Poets Society, N.H. Kleinbaum)\n",
       "6     (Go Ask Alice (Avon/Flare Book), James Jennings)\n",
       "7                        (Carolina Moon, Nora Roberts)\n",
       "8    (Illusions: The Adventures of a Reluctant Mess...\n",
       "9    (You Just Don't Duct Tape a Baby!: True Tales ...\n",
       "Name: isbn, dtype: object"
      ]
     },
     "execution_count": 42,
     "metadata": {
      "tags": []
     },
     "output_type": "execute_result"
    }
   ],
   "source": [
    "#@title\n",
    "topN(204813,10)"
   ]
  }
 ],
 "metadata": {
  "colab": {
   "collapsed_sections": [],
   "name": "P1 - CollaborativeFiltering.ipynb",
   "provenance": [],
   "toc_visible": true,
   "version": "0.3.2"
  },
  "kernelspec": {
   "display_name": "Python 3",
   "language": "python",
   "name": "python3"
  },
  "language_info": {
   "codemirror_mode": {
    "name": "ipython",
    "version": 3
   },
   "file_extension": ".py",
   "mimetype": "text/x-python",
   "name": "python",
   "nbconvert_exporter": "python",
   "pygments_lexer": "ipython3",
   "version": "3.6.3"
  }
 },
 "nbformat": 4,
 "nbformat_minor": 1
}
