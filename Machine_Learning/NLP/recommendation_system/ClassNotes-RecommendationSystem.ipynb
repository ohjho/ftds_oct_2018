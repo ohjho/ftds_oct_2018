{
 "cells": [
  {
   "cell_type": "markdown",
   "metadata": {},
   "source": [
    "# Collaborative Filtering\n",
    "\n",
    "## Preliminary\n",
    "### User-User Relationship\n",
    "* find relationship based on users' like similarity then recommend\n",
    "\n",
    "### User-Product Relationship\n",
    "* find relationship based on the user's like and find product similiar to it\n",
    "\n",
    "### Product-Product Relationship\n",
    "* association analysis"
   ]
  },
  {
   "cell_type": "markdown",
   "metadata": {},
   "source": [
    "## Recommendation System\n",
    "### Content Based Filtering\n",
    "* master product rating vs user's product rating; example is the [Music Genome Project](https://www.pandora.com/about/mgp)\n",
    "* [how to build a simple content based book recommendation system](https://www.linkedin.com/pulse/content-based-recommender-engine-under-hood-venkat-raman)\n",
    "* [reference](https://medium.com/@cfpinela/content-based-recommender-systems-a68c2aee2235)\n",
    "\n",
    "### Collaborative Filtering\n",
    "* user-to-user \n",
    "     1. find two similar users\n",
    "     2. using the user with more data to predict the user with less data\n",
    "     3. recommend n_top product by predicted rating to the user with less data"
   ]
  },
  {
   "cell_type": "markdown",
   "metadata": {},
   "source": [
    "## Collaborative Filtering Project Process\n",
    "1. Get Data\n",
    "2. Transpose the Data into Users vs Products\n",
    "3. Define distance between two users"
   ]
  },
  {
   "cell_type": "markdown",
   "metadata": {},
   "source": [
    "---\n",
    "# Latent Factor Analysis"
   ]
  },
  {
   "cell_type": "markdown",
   "metadata": {},
   "source": [
    "![latent factor matrix](https://data-artisans.com/img/blog/factorization.svg)\n",
    "\n",
    "### [This Link](https://github.com/metpallyv/MovieRecommendation) actually did a latent factor analysis on the movie lens dataset\n",
    "\n",
    "For a more complete discussion, see [here](http://www.albertauyeung.com/post/python-matrix-factorization/)\n",
    "\n",
    "We also discussed the concept of [numerical precision error](https://reference.wolfram.com/language/tutorial/NumericalPrecision.html)"
   ]
  },
  {
   "cell_type": "markdown",
   "metadata": {},
   "source": [
    "# Association Analysis"
   ]
  },
  {
   "cell_type": "markdown",
   "metadata": {},
   "source": [
    "### Association Rule\n",
    "![association rule](https://www.saedsayad.com/images/AR_1.png)\n",
    "![apriori algo](https://www.saedsayad.com/images/AR_4.png)\n",
    "See [this link](https://www.saedsayad.com/association_rules.htm) for more\n",
    "\n",
    "### Example Kernel\n",
    "* [Insta-chart on kaggle](https://www.kaggle.com/datatheque/association-rules-mining-market-basket-analysis)"
   ]
  }
 ],
 "metadata": {
  "kernelspec": {
   "display_name": "Python 3",
   "language": "python",
   "name": "python3"
  },
  "language_info": {
   "codemirror_mode": {
    "name": "ipython",
    "version": 3
   },
   "file_extension": ".py",
   "mimetype": "text/x-python",
   "name": "python",
   "nbconvert_exporter": "python",
   "pygments_lexer": "ipython3",
   "version": "3.6.3"
  }
 },
 "nbformat": 4,
 "nbformat_minor": 2
}
