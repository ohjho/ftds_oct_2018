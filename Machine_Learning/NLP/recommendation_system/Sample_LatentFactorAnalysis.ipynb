{
 "cells": [
  {
   "cell_type": "markdown",
   "metadata": {
    "colab_type": "text",
    "id": "eToxIoyka3iG"
   },
   "source": [
    "Here we will do work with Latent Factor Analysis. "
   ]
  },
  {
   "cell_type": "code",
   "execution_count": 1,
   "metadata": {
    "colab": {},
    "colab_type": "code",
    "id": "2-Ofn5F-714P"
   },
   "outputs": [],
   "source": [
    "import pandas as pd\n",
    "dataFile='data/BX-CSV-Dump/BX-Book-Ratings.csv'\n",
    "data=pd.read_csv(dataFile,sep=\";\",header=0,names=[\"user\",\"isbn\",\"rating\"],\n",
    "                encoding = 'iso-8859-1')"
   ]
  },
  {
   "cell_type": "code",
   "execution_count": 2,
   "metadata": {
    "colab": {},
    "colab_type": "code",
    "id": "6Vw079_i714V",
    "outputId": "51675aee-fa4e-4e6d-c151-2ef7cb467d5c"
   },
   "outputs": [
    {
     "data": {
      "text/html": [
       "<div>\n",
       "<style scoped>\n",
       "    .dataframe tbody tr th:only-of-type {\n",
       "        vertical-align: middle;\n",
       "    }\n",
       "\n",
       "    .dataframe tbody tr th {\n",
       "        vertical-align: top;\n",
       "    }\n",
       "\n",
       "    .dataframe thead th {\n",
       "        text-align: right;\n",
       "    }\n",
       "</style>\n",
       "<table border=\"1\" class=\"dataframe\">\n",
       "  <thead>\n",
       "    <tr style=\"text-align: right;\">\n",
       "      <th></th>\n",
       "      <th>user</th>\n",
       "      <th>isbn</th>\n",
       "      <th>rating</th>\n",
       "    </tr>\n",
       "  </thead>\n",
       "  <tbody>\n",
       "    <tr>\n",
       "      <th>0</th>\n",
       "      <td>276725</td>\n",
       "      <td>034545104X</td>\n",
       "      <td>0</td>\n",
       "    </tr>\n",
       "    <tr>\n",
       "      <th>1</th>\n",
       "      <td>276726</td>\n",
       "      <td>0155061224</td>\n",
       "      <td>5</td>\n",
       "    </tr>\n",
       "    <tr>\n",
       "      <th>2</th>\n",
       "      <td>276727</td>\n",
       "      <td>0446520802</td>\n",
       "      <td>0</td>\n",
       "    </tr>\n",
       "    <tr>\n",
       "      <th>3</th>\n",
       "      <td>276729</td>\n",
       "      <td>052165615X</td>\n",
       "      <td>3</td>\n",
       "    </tr>\n",
       "    <tr>\n",
       "      <th>4</th>\n",
       "      <td>276729</td>\n",
       "      <td>0521795028</td>\n",
       "      <td>6</td>\n",
       "    </tr>\n",
       "  </tbody>\n",
       "</table>\n",
       "</div>"
      ],
      "text/plain": [
       "     user        isbn  rating\n",
       "0  276725  034545104X       0\n",
       "1  276726  0155061224       5\n",
       "2  276727  0446520802       0\n",
       "3  276729  052165615X       3\n",
       "4  276729  0521795028       6"
      ]
     },
     "execution_count": 2,
     "metadata": {},
     "output_type": "execute_result"
    }
   ],
   "source": [
    "data.head()"
   ]
  },
  {
   "cell_type": "code",
   "execution_count": 5,
   "metadata": {
    "colab": {},
    "colab_type": "code",
    "id": "ecN8KYiD714d"
   },
   "outputs": [],
   "source": [
    "bookFile='data/BX-CSV-Dump/BX-Books.csv'\n",
    "books=pd.read_csv(bookFile,sep=\";\",\n",
    "                  header=0,error_bad_lines=False, \n",
    "                  usecols=[0,1,2],\n",
    "                  index_col=0,\n",
    "                  names=['isbn',\"title\",\"author\"],\n",
    "                  encoding = 'iso-8859-1'\n",
    "                 )"
   ]
  },
  {
   "cell_type": "code",
   "execution_count": 6,
   "metadata": {
    "colab": {},
    "colab_type": "code",
    "id": "oNcHhhTa714h",
    "outputId": "b9449007-1b18-44a9-cb79-50914e1eb538"
   },
   "outputs": [
    {
     "data": {
      "text/html": [
       "<div>\n",
       "<style scoped>\n",
       "    .dataframe tbody tr th:only-of-type {\n",
       "        vertical-align: middle;\n",
       "    }\n",
       "\n",
       "    .dataframe tbody tr th {\n",
       "        vertical-align: top;\n",
       "    }\n",
       "\n",
       "    .dataframe thead th {\n",
       "        text-align: right;\n",
       "    }\n",
       "</style>\n",
       "<table border=\"1\" class=\"dataframe\">\n",
       "  <thead>\n",
       "    <tr style=\"text-align: right;\">\n",
       "      <th></th>\n",
       "      <th>title</th>\n",
       "      <th>author</th>\n",
       "    </tr>\n",
       "    <tr>\n",
       "      <th>isbn</th>\n",
       "      <th></th>\n",
       "      <th></th>\n",
       "    </tr>\n",
       "  </thead>\n",
       "  <tbody>\n",
       "    <tr>\n",
       "      <th>0195153448</th>\n",
       "      <td>Classical Mythology</td>\n",
       "      <td>Mark P. O. Morford</td>\n",
       "    </tr>\n",
       "    <tr>\n",
       "      <th>0002005018</th>\n",
       "      <td>Clara Callan</td>\n",
       "      <td>Richard Bruce Wright</td>\n",
       "    </tr>\n",
       "    <tr>\n",
       "      <th>0060973129</th>\n",
       "      <td>Decision in Normandy</td>\n",
       "      <td>Carlo D'Este</td>\n",
       "    </tr>\n",
       "    <tr>\n",
       "      <th>0374157065</th>\n",
       "      <td>Flu: The Story of the Great Influenza Pandemic...</td>\n",
       "      <td>Gina Bari Kolata</td>\n",
       "    </tr>\n",
       "    <tr>\n",
       "      <th>0393045218</th>\n",
       "      <td>The Mummies of Urumchi</td>\n",
       "      <td>E. J. W. Barber</td>\n",
       "    </tr>\n",
       "  </tbody>\n",
       "</table>\n",
       "</div>"
      ],
      "text/plain": [
       "                                                        title  \\\n",
       "isbn                                                            \n",
       "0195153448                                Classical Mythology   \n",
       "0002005018                                       Clara Callan   \n",
       "0060973129                               Decision in Normandy   \n",
       "0374157065  Flu: The Story of the Great Influenza Pandemic...   \n",
       "0393045218                             The Mummies of Urumchi   \n",
       "\n",
       "                          author  \n",
       "isbn                              \n",
       "0195153448    Mark P. O. Morford  \n",
       "0002005018  Richard Bruce Wright  \n",
       "0060973129          Carlo D'Este  \n",
       "0374157065      Gina Bari Kolata  \n",
       "0393045218       E. J. W. Barber  "
      ]
     },
     "execution_count": 6,
     "metadata": {},
     "output_type": "execute_result"
    }
   ],
   "source": [
    "books.head()"
   ]
  },
  {
   "cell_type": "code",
   "execution_count": 7,
   "metadata": {
    "colab": {},
    "colab_type": "code",
    "id": "XJAcKZMb714n",
    "outputId": "af4d0c15-8168-4fd3-f4a1-76cf5f883896"
   },
   "outputs": [
    {
     "data": {
      "text/plain": [
       "('Angels &amp; Demons', 'Dan Brown')"
      ]
     },
     "execution_count": 7,
     "metadata": {},
     "output_type": "execute_result"
    }
   ],
   "source": [
    "def bookMeta(isbn):\n",
    "    title = books.at[isbn,\"title\"]\n",
    "    author = books.at[isbn,\"author\"]\n",
    "    return title, author\n",
    "bookMeta(\"0671027360\")"
   ]
  },
  {
   "cell_type": "code",
   "execution_count": 8,
   "metadata": {
    "colab": {},
    "colab_type": "code",
    "id": "ahFdBLeu714u"
   },
   "outputs": [],
   "source": [
    "data = data[data[\"isbn\"].isin(books.index)]"
   ]
  },
  {
   "cell_type": "code",
   "execution_count": 9,
   "metadata": {
    "colab": {},
    "colab_type": "code",
    "id": "6DGmLQEN714z"
   },
   "outputs": [],
   "source": [
    "def faveBooks(user,N):\n",
    "    userRatings = data[data[\"user\"]==user]\n",
    "    sortedRatings = pd.DataFrame.sort_values(userRatings,['rating'],ascending=[0])[:N] \n",
    "    sortedRatings[\"title\"] = sortedRatings[\"isbn\"].apply(bookMeta)\n",
    "    return sortedRatings"
   ]
  },
  {
   "cell_type": "code",
   "execution_count": 10,
   "metadata": {
    "colab": {},
    "colab_type": "code",
    "id": "dM3yFdJH7143",
    "outputId": "a1853b25-281e-4914-9c28-726eb89f6a65"
   },
   "outputs": [
    {
     "data": {
      "text/html": [
       "<div>\n",
       "<style scoped>\n",
       "    .dataframe tbody tr th:only-of-type {\n",
       "        vertical-align: middle;\n",
       "    }\n",
       "\n",
       "    .dataframe tbody tr th {\n",
       "        vertical-align: top;\n",
       "    }\n",
       "\n",
       "    .dataframe thead th {\n",
       "        text-align: right;\n",
       "    }\n",
       "</style>\n",
       "<table border=\"1\" class=\"dataframe\">\n",
       "  <thead>\n",
       "    <tr style=\"text-align: right;\">\n",
       "      <th></th>\n",
       "      <th>user</th>\n",
       "      <th>isbn</th>\n",
       "      <th>rating</th>\n",
       "      <th>title</th>\n",
       "    </tr>\n",
       "  </thead>\n",
       "  <tbody>\n",
       "    <tr>\n",
       "      <th>844955</th>\n",
       "      <td>204622</td>\n",
       "      <td>0967560500</td>\n",
       "      <td>10</td>\n",
       "      <td>(Natural Hormonal Enhancement, Rob Faigin)</td>\n",
       "    </tr>\n",
       "    <tr>\n",
       "      <th>844935</th>\n",
       "      <td>204622</td>\n",
       "      <td>0671027360</td>\n",
       "      <td>10</td>\n",
       "      <td>(Angels &amp;amp; Demons, Dan Brown)</td>\n",
       "    </tr>\n",
       "    <tr>\n",
       "      <th>844926</th>\n",
       "      <td>204622</td>\n",
       "      <td>0385504209</td>\n",
       "      <td>10</td>\n",
       "      <td>(The Da Vinci Code, Dan Brown)</td>\n",
       "    </tr>\n",
       "    <tr>\n",
       "      <th>844958</th>\n",
       "      <td>204622</td>\n",
       "      <td>097173660X</td>\n",
       "      <td>9</td>\n",
       "      <td>(Life After School Explained, Cap &amp;amp; Compass)</td>\n",
       "    </tr>\n",
       "    <tr>\n",
       "      <th>844920</th>\n",
       "      <td>204622</td>\n",
       "      <td>0060935464</td>\n",
       "      <td>9</td>\n",
       "      <td>(To Kill a Mockingbird, Harper Lee)</td>\n",
       "    </tr>\n",
       "  </tbody>\n",
       "</table>\n",
       "</div>"
      ],
      "text/plain": [
       "          user        isbn  rating  \\\n",
       "844955  204622  0967560500      10   \n",
       "844935  204622  0671027360      10   \n",
       "844926  204622  0385504209      10   \n",
       "844958  204622  097173660X       9   \n",
       "844920  204622  0060935464       9   \n",
       "\n",
       "                                                   title  \n",
       "844955        (Natural Hormonal Enhancement, Rob Faigin)  \n",
       "844935                  (Angels &amp; Demons, Dan Brown)  \n",
       "844926                    (The Da Vinci Code, Dan Brown)  \n",
       "844958  (Life After School Explained, Cap &amp; Compass)  \n",
       "844920               (To Kill a Mockingbird, Harper Lee)  "
      ]
     },
     "execution_count": 10,
     "metadata": {},
     "output_type": "execute_result"
    }
   ],
   "source": [
    "faveBooks(204622,5)"
   ]
  },
  {
   "cell_type": "code",
   "execution_count": 11,
   "metadata": {
    "colab": {},
    "colab_type": "code",
    "id": "9ZQNxYky714-",
    "outputId": "ba83ff0c-b8e4-4985-ec12-e998d5cee4a8"
   },
   "outputs": [
    {
     "data": {
      "text/plain": [
       "(1031175, 3)"
      ]
     },
     "execution_count": 11,
     "metadata": {},
     "output_type": "execute_result"
    }
   ],
   "source": [
    "data.shape"
   ]
  },
  {
   "cell_type": "code",
   "execution_count": 12,
   "metadata": {
    "colab": {},
    "colab_type": "code",
    "id": "8tMCZzvg715G",
    "outputId": "4d9ff2dc-4eb2-4f2e-94ea-96b919e5069f"
   },
   "outputs": [
    {
     "data": {
      "text/plain": [
       "0971880107    2502\n",
       "0316666343    1295\n",
       "0385504209     883\n",
       "0060928336     732\n",
       "0312195516     723\n",
       "044023722X     647\n",
       "0142001740     615\n",
       "067976402X     614\n",
       "0671027360     586\n",
       "0446672211     585\n",
       "Name: isbn, dtype: int64"
      ]
     },
     "execution_count": 12,
     "metadata": {},
     "output_type": "execute_result"
    }
   ],
   "source": [
    "usersPerISBN = data.isbn.value_counts()\n",
    "usersPerISBN.head(10)"
   ]
  },
  {
   "cell_type": "code",
   "execution_count": 13,
   "metadata": {
    "colab": {},
    "colab_type": "code",
    "id": "YWoS-Jsc715L",
    "outputId": "d2f59583-9fbb-4635-9e17-4192ea8bce96"
   },
   "outputs": [
    {
     "data": {
      "text/plain": [
       "(270170,)"
      ]
     },
     "execution_count": 13,
     "metadata": {},
     "output_type": "execute_result"
    }
   ],
   "source": [
    "usersPerISBN.shape"
   ]
  },
  {
   "cell_type": "code",
   "execution_count": 14,
   "metadata": {
    "colab": {},
    "colab_type": "code",
    "id": "e9sOvwL1715Q"
   },
   "outputs": [],
   "source": [
    "ISBNsPerUser = data.user.value_counts()"
   ]
  },
  {
   "cell_type": "code",
   "execution_count": 15,
   "metadata": {
    "colab": {},
    "colab_type": "code",
    "id": "aVXqFVyU715U",
    "outputId": "36bb3afd-4e3c-4e8b-ac97-7b84ede3e1ff"
   },
   "outputs": [
    {
     "data": {
      "text/plain": [
       "(92107,)"
      ]
     },
     "execution_count": 15,
     "metadata": {},
     "output_type": "execute_result"
    }
   ],
   "source": [
    "ISBNsPerUser.shape"
   ]
  },
  {
   "cell_type": "code",
   "execution_count": 16,
   "metadata": {
    "colab": {},
    "colab_type": "code",
    "id": "b8XXprj5715a"
   },
   "outputs": [],
   "source": [
    "data = data[data[\"isbn\"].isin(usersPerISBN[usersPerISBN>10].index)]"
   ]
  },
  {
   "cell_type": "code",
   "execution_count": 17,
   "metadata": {
    "colab": {},
    "colab_type": "code",
    "id": "7gUeGO6N715f"
   },
   "outputs": [],
   "source": [
    "data = data[data[\"user\"].isin(ISBNsPerUser[ISBNsPerUser>10].index)]"
   ]
  },
  {
   "cell_type": "code",
   "execution_count": 18,
   "metadata": {
    "colab": {},
    "colab_type": "code",
    "id": "7MV0Xouh715l"
   },
   "outputs": [],
   "source": [
    "from scipy.sparse import coo_matrix\n",
    "data['user'] = data['user'].astype(\"category\")\n",
    "data['isbn'] = data['isbn'].astype(\"category\")\n",
    "\n",
    "R = coo_matrix((data['rating'].astype(float),\n",
    "                       (data['user'].cat.codes.copy(),\n",
    "                        data['isbn'].cat.codes.copy())))"
   ]
  },
  {
   "cell_type": "code",
   "execution_count": 19,
   "metadata": {
    "colab": {},
    "colab_type": "code",
    "id": "YK7KAz9n715q",
    "outputId": "0731b42f-c67e-4c81-f9f1-0638bef81b82"
   },
   "outputs": [
    {
     "data": {
      "text/plain": [
       "(10706, 15451)"
      ]
     },
     "execution_count": 19,
     "metadata": {},
     "output_type": "execute_result"
    }
   ],
   "source": [
    "R.shape"
   ]
  },
  {
   "cell_type": "code",
   "execution_count": 21,
   "metadata": {
    "colab": {},
    "colab_type": "code",
    "id": "IoHpxs0A715w",
    "outputId": "fc6ad87d-d0df-4613-90a4-fdbc6898ac3e"
   },
   "outputs": [
    {
     "data": {
      "text/plain": [
       "405709"
      ]
     },
     "execution_count": 21,
     "metadata": {},
     "output_type": "execute_result"
    }
   ],
   "source": [
    "len(R.data)"
   ]
  },
  {
   "cell_type": "code",
   "execution_count": 22,
   "metadata": {
    "colab": {},
    "colab_type": "code",
    "id": "xwX9WaEo7150",
    "outputId": "f73da545-d509-4913-8fa2-9d890cc10a73"
   },
   "outputs": [
    {
     "data": {
      "text/plain": [
       "0.0"
      ]
     },
     "execution_count": 22,
     "metadata": {},
     "output_type": "execute_result"
    }
   ],
   "source": [
    "R.data[0]"
   ]
  },
  {
   "cell_type": "code",
   "execution_count": 23,
   "metadata": {
    "colab": {},
    "colab_type": "code",
    "id": "F8kq9HMW7155",
    "outputId": "17339565-1334-4fe7-8d29-150d3427d7a3"
   },
   "outputs": [
    {
     "data": {
      "text/plain": [
       "10633"
      ]
     },
     "execution_count": 23,
     "metadata": {},
     "output_type": "execute_result"
    }
   ],
   "source": [
    "R.row[0]"
   ]
  },
  {
   "cell_type": "code",
   "execution_count": 24,
   "metadata": {
    "colab": {},
    "colab_type": "code",
    "id": "TzkGr7qP715-",
    "outputId": "4c4587f9-bc3b-4720-8d2f-20564f6c5b93"
   },
   "outputs": [
    {
     "data": {
      "text/plain": [
       "3053"
      ]
     },
     "execution_count": 24,
     "metadata": {},
     "output_type": "execute_result"
    }
   ],
   "source": [
    "R.col[0]"
   ]
  },
  {
   "cell_type": "code",
   "execution_count": 25,
   "metadata": {
    "colab": {},
    "colab_type": "code",
    "id": "AFwYMmAo716D"
   },
   "outputs": [],
   "source": [
    "M,N = R.shape\n",
    "K = 3"
   ]
  },
  {
   "cell_type": "code",
   "execution_count": 27,
   "metadata": {
    "colab": {},
    "colab_type": "code",
    "id": "9CDh0lHr716I"
   },
   "outputs": [],
   "source": [
    "import numpy as np\n",
    "P = np.random.rand(M,K)   # M users, K factors\n",
    "Q = np.random.rand(K,N)   # K factors, N items"
   ]
  },
  {
   "cell_type": "code",
   "execution_count": 28,
   "metadata": {
    "colab": {},
    "colab_type": "code",
    "id": "5xJJqvlk716O"
   },
   "outputs": [],
   "source": [
    "from numpy.linalg import norm\n",
    "\n",
    "def error(R,P,Q,lamda=0.02):\n",
    "    ratings = R.data\n",
    "    rows = R.row\n",
    "    cols = R.col\n",
    "    e = 0 \n",
    "    for ui in range(len(ratings)):\n",
    "        rui=ratings[ui]\n",
    "        u = rows[ui]\n",
    "        i = cols[ui]\n",
    "        if rui>0:\n",
    "            e= e + pow(rui-np.dot(P[u,:],Q[:,i]),2)+\\\n",
    "                lamda*(pow(norm(P[u,:]),2)+pow(norm(Q[:,i]),2))\n",
    "    return e"
   ]
  },
  {
   "cell_type": "code",
   "execution_count": 29,
   "metadata": {
    "colab": {},
    "colab_type": "code",
    "id": "KVD_JMpV716R",
    "outputId": "13702440-effc-4557-b4fa-8abd02a5f786"
   },
   "outputs": [
    {
     "data": {
      "text/plain": [
       "7127769.271898476"
      ]
     },
     "execution_count": 29,
     "metadata": {},
     "output_type": "execute_result"
    }
   ],
   "source": [
    "error(R,P,Q)"
   ]
  },
  {
   "cell_type": "code",
   "execution_count": 30,
   "metadata": {
    "colab": {},
    "colab_type": "code",
    "id": "TGNG5tm-716X"
   },
   "outputs": [],
   "source": [
    "rmse = np.sqrt(error(R,P,Q)/len(R.data))"
   ]
  },
  {
   "cell_type": "code",
   "execution_count": 31,
   "metadata": {
    "colab": {},
    "colab_type": "code",
    "id": "No03_h03716b",
    "outputId": "b59d3535-854f-48b2-b3a0-ea77eb2b8d0e"
   },
   "outputs": [
    {
     "data": {
      "text/plain": [
       "4.191500241696281"
      ]
     },
     "execution_count": 31,
     "metadata": {},
     "output_type": "execute_result"
    }
   ],
   "source": [
    "rmse"
   ]
  },
  {
   "cell_type": "code",
   "execution_count": 34,
   "metadata": {
    "colab": {},
    "colab_type": "code",
    "id": "0-bu1geW716g"
   },
   "outputs": [],
   "source": [
    "def SGD(R, K, lamda=0.02,steps=10, gamma=0.001):\n",
    "    \n",
    "    M,N = R.shape\n",
    "    P = np.random.rand(M,K)\n",
    "    Q = np.random.rand(K,N)\n",
    "    \n",
    "    rmse = np.sqrt(error(R,P,Q,lamda)/len(R.data))\n",
    "    print(\"Initial RMSE: \"+str(rmse))\n",
    "    \n",
    "    for step in range(steps):\n",
    "        for ui in range(len(R.data)):\n",
    "            rui=R.data[ui]\n",
    "            u = R.row[ui]\n",
    "            i = R.col[ui]\n",
    "            if rui>0:\n",
    "                eui=rui-np.dot(P[u,:],Q[:,i])\n",
    "                P[u,:]=P[u,:]+gamma*2*(eui*Q[:,i]-lamda*P[u,:])\n",
    "                Q[:,i]=Q[:,i]+gamma*2*(eui*P[u,:]-lamda*Q[:,i])\n",
    "        rmse = np.sqrt(error(R,P,Q,lamda)/len(R.data))\n",
    "        if rmse<0.5:\n",
    "            break\n",
    "    print(\"Final RMSE: \"+str(rmse))\n",
    "    return P,Q"
   ]
  },
  {
   "cell_type": "code",
   "execution_count": 35,
   "metadata": {
    "colab": {},
    "colab_type": "code",
    "id": "yW5YBErz716l",
    "outputId": "9280f768-d04a-46e8-c0f5-957646135d5f"
   },
   "outputs": [
    {
     "name": "stdout",
     "output_type": "stream",
     "text": [
      "Initial RMSE: 4.331442707245678\n",
      "Final RMSE: 0.7885043170271964\n"
     ]
    }
   ],
   "source": [
    "(P,Q)=SGD(R,K=2,gamma=0.0007,lamda=0.01, steps=100)"
   ]
  },
  {
   "cell_type": "code",
   "execution_count": null,
   "metadata": {},
   "outputs": [],
   "source": [
    "from sklearn.decomposition import "
   ]
  }
 ],
 "metadata": {
  "colab": {
   "collapsed_sections": [],
   "name": "LatentFactorAnalysis.ipynb",
   "provenance": [],
   "version": "0.3.2"
  },
  "kernelspec": {
   "display_name": "Python 3",
   "language": "python",
   "name": "python3"
  },
  "language_info": {
   "codemirror_mode": {
    "name": "ipython",
    "version": 3
   },
   "file_extension": ".py",
   "mimetype": "text/x-python",
   "name": "python",
   "nbconvert_exporter": "python",
   "pygments_lexer": "ipython3",
   "version": "3.6.3"
  }
 },
 "nbformat": 4,
 "nbformat_minor": 1
}
