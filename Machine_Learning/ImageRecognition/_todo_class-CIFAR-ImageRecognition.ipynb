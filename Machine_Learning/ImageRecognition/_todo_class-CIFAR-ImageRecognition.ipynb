{
 "cells": [
  {
   "cell_type": "markdown",
   "metadata": {},
   "source": [
    "# CNN + ANN: Image Classification of CIFAR 10 Dataset\n",
    "* [kaggle kernal example](https://www.kaggle.com/c/cifar-10)\n",
    "* [Toward Data Science Tutorial](https://towardsdatascience.com/cifar-10-image-classification-in-tensorflow-5b501f7dc77c)\n",
    "* [Medium: Image Recognition Tutorial](https://medium.com/nybles/create-your-first-image-recognition-classifier-using-cnn-keras-and-tensorflow-backend-6eaab98d14dd)\n",
    "* [Data on Github](https://github.com/EN10/CIFAR#classes)"
   ]
  },
  {
   "cell_type": "code",
   "execution_count": null,
   "metadata": {},
   "outputs": [],
   "source": []
  }
 ],
 "metadata": {
  "kernelspec": {
   "display_name": "Python 3",
   "language": "python",
   "name": "python3"
  },
  "language_info": {
   "codemirror_mode": {
    "name": "ipython",
    "version": 3
   },
   "file_extension": ".py",
   "mimetype": "text/x-python",
   "name": "python",
   "nbconvert_exporter": "python",
   "pygments_lexer": "ipython3",
   "version": "3.6.3"
  }
 },
 "nbformat": 4,
 "nbformat_minor": 2
}
