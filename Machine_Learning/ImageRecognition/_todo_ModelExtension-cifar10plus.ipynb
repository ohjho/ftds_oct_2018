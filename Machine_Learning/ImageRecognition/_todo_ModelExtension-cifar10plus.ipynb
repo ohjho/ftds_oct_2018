{
 "cells": [
  {
   "cell_type": "markdown",
   "metadata": {},
   "source": [
    "## First get the images\n",
    "we will use the [google images downloader](https://github.com/hardikvasa/google-images-download) to get 100 `crossfit-girls` pictures to add to the **CIFAR-10** dataset"
   ]
  },
  {
   "cell_type": "code",
   "execution_count": 8,
   "metadata": {},
   "outputs": [
    {
     "name": "stdout",
     "output_type": "stream",
     "text": [
      "\n",
      "Item no.: 1 --> Item name = crossfit girls\n",
      "Evaluating...\n",
      "Starting Download...\n",
      "Completed Image ====> 1. why-crossfit-girls-are-stronger-than-you.jpg\n",
      "Completed Image ====> 2. hottest_crossfit_girls_of_2018_-_kristen_graham_large.jpg\n",
      "Completed Image ====> 3. crossfit-abs.png\n",
      "Completed Image ====> 4. hottest_crossfit_girls_of_2018_-_sara_sigmundsdottir_large.jpg\n",
      "Completed Image ====> 5. 86846b5e5ecc9a59cc75b1f0c00ccb2f.jpg\n",
      "Completed Image ====> 6. 6203959021cb620246b75f217e72b15f.jpg\n",
      "Completed Image ====> 7. christmas-abbott.jpg\n",
      "Completed Image ====> 8. hottest_crossfit_girls_of_2018_-_chyna_cho_large.jpg\n",
      "Completed Image ====> 9. celia-gabbiani-e1501636081983.jpg\n",
      "Completed Image ====> 10. o.jpg\n",
      "Completed Image ====> 11. item1205012_600px.jpeg\n",
      "Completed Image ====> 12. rdrqlig__400x400.jpeg\n",
      "Completed Image ====> 13. deadlift.jpg\n",
      "Completed Image ====> 14. 16473942_1595252480503970_6788714671419224955_n-615x611.jpg\n",
      "Completed Image ====> 15. hot_crossfit_gym_girls_pics_gympaws_workout_gloves.jpg\n",
      "Completed Image ====> 16. miranda-oldroyd.jpg\n",
      "Completed Image ====> 17. 353282a74ba02c870eeeec062215e340.jpg\n",
      "Completed Image ====> 18. hottest_crossfit_girls_of_2018_-_laura_hughes_large.jpg\n",
      "Completed Image ====> 19. large.jpg\n",
      "Completed Image ====> 20. tumblr_n8sutcklao1qdjo2ho1_r1_1280.jpg\n",
      "Completed Image ====> 21. kclpuuqt_400x400.jpeg\n",
      "Completed Image ====> 22. crossfit-gams.jpg\n",
      "Completed Image ====> 23. hot-crossfit-girls-crossfit-gloves-gympaws-gym-gloves-358x480.jpg\n",
      "Completed Image ====> 24. x6l78eu.jpg\n",
      "Completed Image ====> 25. lauren-fisher.jpg\n",
      "Completed Image ====> 26. item1205010_600px.jpeg\n",
      "Completed Image ====> 27. image_15_12_58_03_494_.jpg\n",
      "Completed Image ====> 28. wpid-crossfit-girls.jpeg\n",
      "Completed Image ====> 29. 0*-shgxvejm2gdnzyv.jpg\n",
      "Completed Image ====> 30. hottest_crossfit_girls_of_2018_-_jessica_coughlan_large.jpg\n",
      "Completed Image ====> 31. yahoo_crossfit-girls-singapore-5-600x400.jpg\n",
      "Completed Image ====> 32. tumblr_inline_nrrni1hiyn1rosmwl_1280-1403.jpg\n",
      "Completed Image ====> 33. hottest_crossfit_girls_of_2018_-_zummer_pagan_large.jpg\n",
      "Completed Image ====> 34. strong-crossfit-girls-best-femal-720x380.jpg\n",
      "Completed Image ====> 35. sexy-crossfit-girls-womens-crossfit-gloves-330x480.jpg\n",
      "Completed Image ====> 36. jacky-perez.jpg\n",
      "Completed Image ====> 37. hottest_crossfit_girls_of_2018_-_camille_leblanc-bazinet_large.jpg\n",
      "Completed Image ====> 38. image_15_12_58_00_493_.jpg\n",
      "Completed Image ====> 39. crossfit-games-women-running-1024x682.jpg\n",
      "Completed Image ====> 40. denae-brown-2-464x450.jpg\n",
      "Completed Image ====> 41. naima%2b-%2bcrossfit%2bgirls.jpg\n",
      "Completed Image ====> 42. 8mkhokd.jpg\n",
      "Completed Image ====> 43. yahoo_crossfit-girls-singapore-9-400x600.jpg\n",
      "Completed Image ====> 44. crossfit-workout.png\n",
      "Completed Image ====> 45. 1529572419_maxresdefault-770x430.jpg\n",
      "Completed Image ====> 46. hot-abs-girls-six-pack-pics-crossfit-fitness-gym-gloves-gympaws-360x480.jpg\n",
      "Completed Image ====> 47. christmas-abbott-1-e1413573819891.jpeg\n",
      "Completed Image ====> 48. crossfit-girls.jpg\n",
      "Completed Image ====> 49. b11225eec5192d55057c967bb7bb8e74.jpg\n",
      "Completed Image ====> 50. hqdefault.jpg\n",
      "\n",
      "Errors: 0\n",
      "\n"
     ]
    }
   ],
   "source": [
    "from google_images_download import google_images_download as gid\n",
    "\n",
    "response = gid.googleimagesdownload()\n",
    "arguments = { 'keywords': 'crossfit girls',\n",
    "             'limit': 50,\n",
    "             'size': 'medium',\n",
    "             #'exact_size': '224,224',\n",
    "             'format': 'jpg',\n",
    "             'output_directory': '_img',\n",
    "             'image_directory': 'crossfit_girls'\n",
    "            }\n",
    "\n",
    "absolute_image_paths = response.download( arguments)"
   ]
  },
  {
   "cell_type": "markdown",
   "metadata": {},
   "source": [
    "## Load and extent the CIFAR-10 dataset\n",
    "* [Importing the data within Keras](https://keras.io/datasets/)\n",
    "* Curtis recommended [this tutorial](https://machinelearningmastery.com/use-pre-trained-vgg-model-classify-objects-photographs/)"
   ]
  },
  {
   "cell_type": "code",
   "execution_count": null,
   "metadata": {},
   "outputs": [],
   "source": []
  },
  {
   "cell_type": "markdown",
   "metadata": {},
   "source": [
    "## Image Recognition Preliminary\n",
    "reference: [Keras Applications](https://keras.io/applications/)"
   ]
  },
  {
   "cell_type": "code",
   "execution_count": null,
   "metadata": {},
   "outputs": [],
   "source": [
    "import pandas as pd\n",
    "import numpy as np\n",
    "\n",
    "from keras.applications.vgg16 import VGG16\n",
    "from keras.preprocessing import image\n",
    "from keras.applications.vgg16 import preprocess_input\n",
    "\n",
    "\n",
    "\n",
    "img_path = 'elephant.jpg'\n",
    "img = image.load_img(img_path, target_size=(224, 224))\n",
    "x = image.img_to_array(img)\n",
    "x = np.expand_dims(x, axis=0)\n",
    "x = preprocess_input(x)\n",
    "\n",
    "features = model.predict(x)"
   ]
  },
  {
   "cell_type": "markdown",
   "metadata": {},
   "source": [
    "## Loading the Keras Pre-trained model: VGG16"
   ]
  },
  {
   "cell_type": "code",
   "execution_count": null,
   "metadata": {},
   "outputs": [],
   "source": [
    "model = VGG16(weights='imagenet', include_top=False)"
   ]
  },
  {
   "cell_type": "markdown",
   "metadata": {},
   "source": [
    "## Features Extractions"
   ]
  },
  {
   "cell_type": "code",
   "execution_count": null,
   "metadata": {},
   "outputs": [],
   "source": []
  },
  {
   "cell_type": "markdown",
   "metadata": {},
   "source": [
    "## Build the ANN with Keras and Train"
   ]
  },
  {
   "cell_type": "code",
   "execution_count": null,
   "metadata": {},
   "outputs": [],
   "source": []
  },
  {
   "cell_type": "markdown",
   "metadata": {},
   "source": [
    "## Export ANN model structure and weights"
   ]
  },
  {
   "cell_type": "code",
   "execution_count": null,
   "metadata": {},
   "outputs": [],
   "source": []
  }
 ],
 "metadata": {
  "kernelspec": {
   "display_name": "Python 3",
   "language": "python",
   "name": "python3"
  },
  "language_info": {
   "codemirror_mode": {
    "name": "ipython",
    "version": 3
   },
   "file_extension": ".py",
   "mimetype": "text/x-python",
   "name": "python",
   "nbconvert_exporter": "python",
   "pygments_lexer": "ipython3",
   "version": "3.6.3"
  }
 },
 "nbformat": 4,
 "nbformat_minor": 2
}
