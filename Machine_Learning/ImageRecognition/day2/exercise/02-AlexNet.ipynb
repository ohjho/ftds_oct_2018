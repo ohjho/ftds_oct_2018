{
 "cells": [
  {
   "cell_type": "markdown",
   "metadata": {},
   "source": [
    "# AlexNet\n",
    "\n",
    "\n",
    "You goal is to implement alexnet, you can then use the network in the next exercise. Below is a picture of alexnet, it depecits the output shape of each layer.\n",
    "\n",
    "\n",
    "\n",
    "![AlexNet](http://www.mdpi.com/remotesensing/remotesensing-09-00848/article_deploy/html/images/remotesensing-09-00848-g001.png)\n",
    "\n",
    "The architecture is typical of the convolutional networks, containing a series of convolutional layers followed by a few fully connected layers.  More specific details on the size of the kernels,pooling and normalization layers can be seen in the table bellow.\n",
    "\n",
    "|Layer Name|Output Shape|Details|\n",
    "|---|---|---|\n",
    "|Input|227 x 227 x 3  | A RGB image   |\n",
    "|Conv1   | 55 x 55 x 96   |96 11 x 11 filters, stride 4, pad 0   |\n",
    "|Max Pooling 1  | 27 x 27 x 96   | 3 x 3 filter with stride 2 |\n",
    "| Normalization 1   | 27 x 27 x 96   | Batch Norm |\n",
    "|Conv2   | 27 x 27 x 256   |256  5 x 5 filters, stride 1, pad 2   |\n",
    "|Max Pooling  2 | 13 x 13 x 256   |  3 x 3 filter with stride 2 |\n",
    "| Normalization 2  | 13 x 13 x 256   | Batch Norm |\n",
    "|Conv3   | 13 x 13 x 384   |384  3 x 3 filters, stride 1, pad 1   |\n",
    "|Conv4   | 13 x 13 x 384   |384  3 x 3 filters, stride 1, pad 1   |\n",
    "|Conv5   | 13 x 13 x 256   |256  3 x 3 filters, stride 1, pad 1   |\n",
    "|fully conncected  1 | 4096   | 4096 neurones   |\n",
    "|fully conncected   2| 4096   | 4096 neurones   |\n",
    "|fully conncected   3| 1000   | 1000 neurones   |\n"
   ]
  },
  {
   "cell_type": "markdown",
   "metadata": {},
   "source": [
    "# Paper\n",
    "\n",
    "The original paper can be found here - [Image classifcation with deep convolutional learning](https://www.nvidia.cn/content/tesla/pdf/machine-learning/imagenet-classification-with-deep-convolutional-nn.pdf)"
   ]
  }
 ],
 "metadata": {
  "kernelspec": {
   "display_name": "Python 3",
   "language": "python",
   "name": "python3"
  },
  "language_info": {
   "codemirror_mode": {
    "name": "ipython",
    "version": 3
   },
   "file_extension": ".py",
   "mimetype": "text/x-python",
   "name": "python",
   "nbconvert_exporter": "python",
   "pygments_lexer": "ipython3",
   "version": "3.6.5"
  }
 },
 "nbformat": 4,
 "nbformat_minor": 2
}
