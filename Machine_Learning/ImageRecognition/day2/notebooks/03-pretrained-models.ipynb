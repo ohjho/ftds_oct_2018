{
 "cells": [
  {
   "cell_type": "markdown",
   "metadata": {},
   "source": [
    "# Pretrained Models\n",
    "\n",
    "Keras comes with many model already pretrained on imagenet.\n",
    "\n",
    "* Xception\n",
    "* VGG16\n",
    "* VGG19\n",
    "* ResNet50\n",
    "* InceptionV3\n",
    "* InceptionResNetV2\n",
    "* MobileNet\n",
    "* DenseNet\n",
    "* NASNet\n",
    "* MobileNetV2\n",
    "\n",
    "We can easily take these models and retrain them to achieve what we want, if you don't have access to powerfull GPUs this may be a more feasiable approach then starting from scratch."
   ]
  },
  {
   "cell_type": "code",
   "execution_count": 1,
   "metadata": {},
   "outputs": [
    {
     "name": "stderr",
     "output_type": "stream",
     "text": [
      "C:\\Users\\Brian Tsang\\Anaconda3\\lib\\site-packages\\h5py\\__init__.py:36: FutureWarning: Conversion of the second argument of issubdtype from `float` to `np.floating` is deprecated. In future, it will be treated as `np.float64 == np.dtype(float).type`.\n",
      "  from ._conv import register_converters as _register_converters\n",
      "Using TensorFlow backend.\n"
     ]
    },
    {
     "data": {
      "text/plain": [
       "'2.2.0'"
      ]
     },
     "execution_count": 1,
     "metadata": {},
     "output_type": "execute_result"
    }
   ],
   "source": [
    "import keras\n",
    "keras.__version__"
   ]
  },
  {
   "cell_type": "code",
   "execution_count": 1,
   "metadata": {},
   "outputs": [
    {
     "name": "stderr",
     "output_type": "stream",
     "text": [
      "/home/dom/anaconda3/lib/python3.6/site-packages/h5py/__init__.py:36: FutureWarning: Conversion of the second argument of issubdtype from `float` to `np.floating` is deprecated. In future, it will be treated as `np.float64 == np.dtype(float).type`.\n",
      "  from ._conv import register_converters as _register_converters\n",
      "Using TensorFlow backend.\n"
     ]
    },
    {
     "data": {
      "text/plain": [
       "'2.1.6'"
      ]
     },
     "execution_count": 1,
     "metadata": {},
     "output_type": "execute_result"
    }
   ],
   "source": [
    "import keras\n",
    "keras.__version__"
   ]
  },
  {
   "cell_type": "markdown",
   "metadata": {},
   "source": [
    "We can check which devices are avaliable using with keras. "
   ]
  },
  {
   "cell_type": "code",
   "execution_count": 2,
   "metadata": {},
   "outputs": [
    {
     "data": {
      "text/plain": [
       "[]"
      ]
     },
     "execution_count": 2,
     "metadata": {},
     "output_type": "execute_result"
    }
   ],
   "source": [
    "from keras import backend as K\n",
    "K.tensorflow_backend._get_available_gpus()"
   ]
  },
  {
   "cell_type": "code",
   "execution_count": null,
   "metadata": {},
   "outputs": [],
   "source": []
  },
  {
   "cell_type": "code",
   "execution_count": 2,
   "metadata": {},
   "outputs": [
    {
     "data": {
      "text/plain": [
       "['/job:localhost/replica:0/task:0/device:GPU:0']"
      ]
     },
     "execution_count": 2,
     "metadata": {},
     "output_type": "execute_result"
    }
   ],
   "source": [
    "from keras import backend as K\n",
    "K.tensorflow_backend._get_available_gpus()"
   ]
  },
  {
   "cell_type": "markdown",
   "metadata": {},
   "source": [
    "We'll download a pretrain model without the top, meaning without the fully connected layers. We'll then use the bottom half of the model as a feature extractor and retrain our own fully connected layer for classication. This is a very computational cheap (and quick) way to build a image recognition algorithm, however you will probaly get better results if you do retrain the feature extractor part."
   ]
  },
  {
   "cell_type": "code",
   "execution_count": 4,
   "metadata": {},
   "outputs": [
    {
     "name": "stdout",
     "output_type": "stream",
     "text": [
      "Downloading data from https://github.com/fchollet/deep-learning-models/releases/download/v0.1/vgg16_weights_tf_dim_ordering_tf_kernels_notop.h5\n",
      "58892288/58889256 [==============================] - 1096s 19us/step\n"
     ]
    }
   ],
   "source": [
    "from keras.applications import VGG16\n",
    "\n",
    "conv_base = VGG16(weights='imagenet',\n",
    "                  include_top=False,\n",
    "                  input_shape=(150, 150, 3))"
   ]
  },
  {
   "cell_type": "code",
   "execution_count": 5,
   "metadata": {},
   "outputs": [
    {
     "name": "stdout",
     "output_type": "stream",
     "text": [
      "_________________________________________________________________\n",
      "Layer (type)                 Output Shape              Param #   \n",
      "=================================================================\n",
      "input_2 (InputLayer)         (None, 150, 150, 3)       0         \n",
      "_________________________________________________________________\n",
      "block1_conv1 (Conv2D)        (None, 150, 150, 64)      1792      \n",
      "_________________________________________________________________\n",
      "block1_conv2 (Conv2D)        (None, 150, 150, 64)      36928     \n",
      "_________________________________________________________________\n",
      "block1_pool (MaxPooling2D)   (None, 75, 75, 64)        0         \n",
      "_________________________________________________________________\n",
      "block2_conv1 (Conv2D)        (None, 75, 75, 128)       73856     \n",
      "_________________________________________________________________\n",
      "block2_conv2 (Conv2D)        (None, 75, 75, 128)       147584    \n",
      "_________________________________________________________________\n",
      "block2_pool (MaxPooling2D)   (None, 37, 37, 128)       0         \n",
      "_________________________________________________________________\n",
      "block3_conv1 (Conv2D)        (None, 37, 37, 256)       295168    \n",
      "_________________________________________________________________\n",
      "block3_conv2 (Conv2D)        (None, 37, 37, 256)       590080    \n",
      "_________________________________________________________________\n",
      "block3_conv3 (Conv2D)        (None, 37, 37, 256)       590080    \n",
      "_________________________________________________________________\n",
      "block3_pool (MaxPooling2D)   (None, 18, 18, 256)       0         \n",
      "_________________________________________________________________\n",
      "block4_conv1 (Conv2D)        (None, 18, 18, 512)       1180160   \n",
      "_________________________________________________________________\n",
      "block4_conv2 (Conv2D)        (None, 18, 18, 512)       2359808   \n",
      "_________________________________________________________________\n",
      "block4_conv3 (Conv2D)        (None, 18, 18, 512)       2359808   \n",
      "_________________________________________________________________\n",
      "block4_pool (MaxPooling2D)   (None, 9, 9, 512)         0         \n",
      "_________________________________________________________________\n",
      "block5_conv1 (Conv2D)        (None, 9, 9, 512)         2359808   \n",
      "_________________________________________________________________\n",
      "block5_conv2 (Conv2D)        (None, 9, 9, 512)         2359808   \n",
      "_________________________________________________________________\n",
      "block5_conv3 (Conv2D)        (None, 9, 9, 512)         2359808   \n",
      "_________________________________________________________________\n",
      "block5_pool (MaxPooling2D)   (None, 4, 4, 512)         0         \n",
      "=================================================================\n",
      "Total params: 14,714,688\n",
      "Trainable params: 14,714,688\n",
      "Non-trainable params: 0\n",
      "_________________________________________________________________\n"
     ]
    }
   ],
   "source": [
    "conv_base.summary()"
   ]
  },
  {
   "cell_type": "code",
   "execution_count": null,
   "metadata": {},
   "outputs": [],
   "source": []
  },
  {
   "cell_type": "code",
   "execution_count": 3,
   "metadata": {},
   "outputs": [],
   "source": [
    "from keras.applications import VGG16\n",
    "\n",
    "conv_base = VGG16(weights='imagenet',\n",
    "                  include_top=False,\n",
    "                  input_shape=(150, 150, 3))"
   ]
  },
  {
   "cell_type": "code",
   "execution_count": 4,
   "metadata": {},
   "outputs": [
    {
     "name": "stdout",
     "output_type": "stream",
     "text": [
      "_________________________________________________________________\n",
      "Layer (type)                 Output Shape              Param #   \n",
      "=================================================================\n",
      "input_1 (InputLayer)         (None, 150, 150, 3)       0         \n",
      "_________________________________________________________________\n",
      "block1_conv1 (Conv2D)        (None, 150, 150, 64)      1792      \n",
      "_________________________________________________________________\n",
      "block1_conv2 (Conv2D)        (None, 150, 150, 64)      36928     \n",
      "_________________________________________________________________\n",
      "block1_pool (MaxPooling2D)   (None, 75, 75, 64)        0         \n",
      "_________________________________________________________________\n",
      "block2_conv1 (Conv2D)        (None, 75, 75, 128)       73856     \n",
      "_________________________________________________________________\n",
      "block2_conv2 (Conv2D)        (None, 75, 75, 128)       147584    \n",
      "_________________________________________________________________\n",
      "block2_pool (MaxPooling2D)   (None, 37, 37, 128)       0         \n",
      "_________________________________________________________________\n",
      "block3_conv1 (Conv2D)        (None, 37, 37, 256)       295168    \n",
      "_________________________________________________________________\n",
      "block3_conv2 (Conv2D)        (None, 37, 37, 256)       590080    \n",
      "_________________________________________________________________\n",
      "block3_conv3 (Conv2D)        (None, 37, 37, 256)       590080    \n",
      "_________________________________________________________________\n",
      "block3_pool (MaxPooling2D)   (None, 18, 18, 256)       0         \n",
      "_________________________________________________________________\n",
      "block4_conv1 (Conv2D)        (None, 18, 18, 512)       1180160   \n",
      "_________________________________________________________________\n",
      "block4_conv2 (Conv2D)        (None, 18, 18, 512)       2359808   \n",
      "_________________________________________________________________\n",
      "block4_conv3 (Conv2D)        (None, 18, 18, 512)       2359808   \n",
      "_________________________________________________________________\n",
      "block4_pool (MaxPooling2D)   (None, 9, 9, 512)         0         \n",
      "_________________________________________________________________\n",
      "block5_conv1 (Conv2D)        (None, 9, 9, 512)         2359808   \n",
      "_________________________________________________________________\n",
      "block5_conv2 (Conv2D)        (None, 9, 9, 512)         2359808   \n",
      "_________________________________________________________________\n",
      "block5_conv3 (Conv2D)        (None, 9, 9, 512)         2359808   \n",
      "_________________________________________________________________\n",
      "block5_pool (MaxPooling2D)   (None, 4, 4, 512)         0         \n",
      "=================================================================\n",
      "Total params: 14,714,688\n",
      "Trainable params: 14,714,688\n",
      "Non-trainable params: 0\n",
      "_________________________________________________________________\n"
     ]
    }
   ],
   "source": [
    "conv_base.summary()"
   ]
  },
  {
   "cell_type": "markdown",
   "metadata": {},
   "source": [
    "When working with large datasets like lots of images we, don't want to load them all into memory at once. We can use generators to load the images in batches. Keras has some utilites to help with this called`ImageDataGenerator`, it can load images in batchs and reshape them for us, aswell as be used to apply image augmentation. To use the ImageDataGenerator or  data directory has to be in a particular structure, so that the images for each example are in there own folder. \n",
    "\n",
    "```\n",
    "/home/dom/datasets/cat-vs-dog\n",
    "├── cat\n",
    "└── dog\n",
    "```\n",
    "\n",
    "\n",
    "For more details on the image generator see [here](https://keras.io/getting-started/faq/#how-can-i-save-a-keras-model).  The dataset was downloaded from [here](https://www.kaggle.com/c/dogs-vs-cats/data).\n"
   ]
  },
  {
   "cell_type": "code",
   "execution_count": 5,
   "metadata": {},
   "outputs": [],
   "source": [
    "import os\n",
    "import numpy as np\n",
    "from keras.preprocessing.image import ImageDataGenerator\n",
    "from tqdm import tqdm # library for progress bars"
   ]
  },
  {
   "cell_type": "code",
   "execution_count": 6,
   "metadata": {
    "collapsed": true
   },
   "outputs": [],
   "source": [
    "path = '/home/dom/datasets/cat-vs-dog'"
   ]
  },
  {
   "cell_type": "markdown",
   "metadata": {},
   "source": [
    "The function below uses a image generator to load the images in batches and will use the base of the convlutional network to extract features from them."
   ]
  },
  {
   "cell_type": "code",
   "execution_count": 71,
   "metadata": {},
   "outputs": [],
   "source": [
    "def extract_features(directory, sample_count, batch_size= 100):\n",
    "    features = np.zeros(shape=(sample_count, 4, 4, 512))\n",
    "    labels = np.zeros(shape=(sample_count))\n",
    "\n",
    "    datagen = ImageDataGenerator(rescale=1./255)\n",
    "    \n",
    "    generator = datagen.flow_from_directory(\n",
    "        directory,\n",
    "        target_size=(150, 150),\n",
    "        batch_size=batch_size,\n",
    "        class_mode='binary')\n",
    "    i = 0\n",
    "    \n",
    "    with tqdm(total=sample_count) as pbar:\n",
    "        for inputs_batch, labels_batch in generator:\n",
    "            #We use the conv_base to extract the images features\n",
    "            features_batch = conv_base.predict(inputs_batch)\n",
    "            features[i * batch_size : (i + 1) * batch_size] = features_batch\n",
    "            labels[i * batch_size : (i + 1) * batch_size] = labels_batch\n",
    "            i += 1\n",
    "            pbar.update(batch_size)\n",
    "            if i * batch_size >= sample_count:\n",
    "                # Note that since generators yield data indefinitely in a loop,\n",
    "                # we must `break` after every image has been seen once.\n",
    "                break\n",
    "        return features, labels\n"
   ]
  },
  {
   "cell_type": "code",
   "execution_count": 72,
   "metadata": {},
   "outputs": [],
   "source": [
    "n_samples = 10000 # use a lower number if you don't havea GPU"
   ]
  },
  {
   "cell_type": "code",
   "execution_count": 73,
   "metadata": {},
   "outputs": [
    {
     "name": "stdout",
     "output_type": "stream",
     "text": [
      "Found 25000 images belonging to 2 classes.\n"
     ]
    },
    {
     "name": "stderr",
     "output_type": "stream",
     "text": [
      "100%|██████████| 10000/10000 [00:55<00:00, 179.63it/s]\n"
     ]
    }
   ],
   "source": [
    "features, labels = extract_features(path,n_samples) # extract features for 1000 images"
   ]
  },
  {
   "cell_type": "code",
   "execution_count": 74,
   "metadata": {},
   "outputs": [
    {
     "data": {
      "text/plain": [
       "(10000, 4, 4, 512)"
      ]
     },
     "execution_count": 74,
     "metadata": {},
     "output_type": "execute_result"
    }
   ],
   "source": [
    "features.shape"
   ]
  },
  {
   "cell_type": "code",
   "execution_count": 75,
   "metadata": {
    "collapsed": true
   },
   "outputs": [],
   "source": [
    "features = np.reshape(features, (n_samples, 4 * 4 * 512))#flatten lay output"
   ]
  },
  {
   "cell_type": "markdown",
   "metadata": {},
   "source": [
    "Now that we have extracted the features we just need to retrain a classifier."
   ]
  },
  {
   "cell_type": "code",
   "execution_count": 77,
   "metadata": {},
   "outputs": [],
   "source": [
    "from keras import models\n",
    "from keras import layers\n",
    "from keras import optimizers"
   ]
  },
  {
   "cell_type": "code",
   "execution_count": 80,
   "metadata": {},
   "outputs": [],
   "source": [
    "#Here we'll retrain a classifier.\n",
    "model = models.Sequential()\n",
    "model.add(layers.Dense(256, activation='relu', input_dim=4 * 4 * 512))\n",
    "model.add(layers.Dense(128, activation='relu'))\n",
    "model.add(layers.Dropout(0.5))\n",
    "model.add(layers.Dense(1, activation='sigmoid'))\n",
    "\n",
    "model.compile(optimizer=optimizers.RMSprop(lr=2e-5),\n",
    "              loss='binary_crossentropy',\n",
    "              metrics=['acc'])\n",
    "\n"
   ]
  },
  {
   "cell_type": "code",
   "execution_count": 81,
   "metadata": {},
   "outputs": [
    {
     "name": "stdout",
     "output_type": "stream",
     "text": [
      "Train on 8000 samples, validate on 2000 samples\n",
      "Epoch 1/50\n",
      "8000/8000 [==============================] - 1s 107us/step - loss: 0.6898 - acc: 0.5754 - val_loss: 0.5815 - val_acc: 0.7790\n",
      "Epoch 2/50\n",
      "8000/8000 [==============================] - 1s 66us/step - loss: 0.5862 - acc: 0.6913 - val_loss: 0.5138 - val_acc: 0.8130\n",
      "Epoch 3/50\n",
      "8000/8000 [==============================] - 1s 70us/step - loss: 0.5234 - acc: 0.7549 - val_loss: 0.4630 - val_acc: 0.8245\n",
      "Epoch 4/50\n",
      "8000/8000 [==============================] - 0s 62us/step - loss: 0.4765 - acc: 0.7890 - val_loss: 0.4247 - val_acc: 0.8335\n",
      "Epoch 5/50\n",
      "8000/8000 [==============================] - 1s 65us/step - loss: 0.4386 - acc: 0.8089 - val_loss: 0.3961 - val_acc: 0.8440\n",
      "Epoch 6/50\n",
      "8000/8000 [==============================] - 1s 67us/step - loss: 0.4134 - acc: 0.8188 - val_loss: 0.3770 - val_acc: 0.8420\n",
      "Epoch 7/50\n",
      "8000/8000 [==============================] - 1s 67us/step - loss: 0.3915 - acc: 0.8305 - val_loss: 0.3596 - val_acc: 0.8525\n",
      "Epoch 8/50\n",
      "8000/8000 [==============================] - 1s 67us/step - loss: 0.3719 - acc: 0.8470 - val_loss: 0.3454 - val_acc: 0.8570\n",
      "Epoch 9/50\n",
      "8000/8000 [==============================] - 0s 62us/step - loss: 0.3562 - acc: 0.8509 - val_loss: 0.3368 - val_acc: 0.8545\n",
      "Epoch 10/50\n",
      "8000/8000 [==============================] - 1s 64us/step - loss: 0.3414 - acc: 0.8598 - val_loss: 0.3254 - val_acc: 0.8640\n",
      "Epoch 11/50\n",
      "8000/8000 [==============================] - 1s 70us/step - loss: 0.3317 - acc: 0.8620 - val_loss: 0.3170 - val_acc: 0.8710\n",
      "Epoch 12/50\n",
      "8000/8000 [==============================] - 1s 63us/step - loss: 0.3231 - acc: 0.8662 - val_loss: 0.3145 - val_acc: 0.8630\n",
      "Epoch 13/50\n",
      "8000/8000 [==============================] - 1s 65us/step - loss: 0.3079 - acc: 0.8759 - val_loss: 0.3036 - val_acc: 0.8760\n",
      "Epoch 14/50\n",
      "8000/8000 [==============================] - 1s 64us/step - loss: 0.3072 - acc: 0.8780 - val_loss: 0.2980 - val_acc: 0.8790\n",
      "Epoch 15/50\n",
      "8000/8000 [==============================] - 1s 65us/step - loss: 0.2945 - acc: 0.8805 - val_loss: 0.2921 - val_acc: 0.8820\n",
      "Epoch 16/50\n",
      "8000/8000 [==============================] - 1s 65us/step - loss: 0.2884 - acc: 0.8816 - val_loss: 0.2898 - val_acc: 0.8820\n",
      "Epoch 17/50\n",
      "8000/8000 [==============================] - 1s 66us/step - loss: 0.2842 - acc: 0.8850 - val_loss: 0.2833 - val_acc: 0.8830\n",
      "Epoch 18/50\n",
      "8000/8000 [==============================] - 1s 64us/step - loss: 0.2752 - acc: 0.8888 - val_loss: 0.2803 - val_acc: 0.8850\n",
      "Epoch 19/50\n",
      "8000/8000 [==============================] - 1s 64us/step - loss: 0.2695 - acc: 0.8907 - val_loss: 0.2762 - val_acc: 0.8855\n",
      "Epoch 20/50\n",
      "8000/8000 [==============================] - 1s 68us/step - loss: 0.2632 - acc: 0.8935 - val_loss: 0.2765 - val_acc: 0.8830\n",
      "Epoch 21/50\n",
      "8000/8000 [==============================] - 1s 65us/step - loss: 0.2628 - acc: 0.8950 - val_loss: 0.2700 - val_acc: 0.8930\n",
      "Epoch 22/50\n",
      "8000/8000 [==============================] - 1s 67us/step - loss: 0.2537 - acc: 0.8969 - val_loss: 0.2666 - val_acc: 0.8900\n",
      "Epoch 23/50\n",
      "8000/8000 [==============================] - 1s 66us/step - loss: 0.2531 - acc: 0.8979 - val_loss: 0.2671 - val_acc: 0.8920\n",
      "Epoch 24/50\n",
      "8000/8000 [==============================] - 1s 66us/step - loss: 0.2467 - acc: 0.9047 - val_loss: 0.2628 - val_acc: 0.8920\n",
      "Epoch 25/50\n",
      "8000/8000 [==============================] - 1s 64us/step - loss: 0.2383 - acc: 0.9047 - val_loss: 0.2601 - val_acc: 0.8950\n",
      "Epoch 26/50\n",
      "8000/8000 [==============================] - 1s 69us/step - loss: 0.2361 - acc: 0.9091 - val_loss: 0.2570 - val_acc: 0.8950\n",
      "Epoch 27/50\n",
      "8000/8000 [==============================] - 1s 65us/step - loss: 0.2325 - acc: 0.9087 - val_loss: 0.2566 - val_acc: 0.8975\n",
      "Epoch 28/50\n",
      "8000/8000 [==============================] - 1s 68us/step - loss: 0.2317 - acc: 0.9060 - val_loss: 0.2526 - val_acc: 0.8975\n",
      "Epoch 29/50\n",
      "8000/8000 [==============================] - 1s 65us/step - loss: 0.2270 - acc: 0.9081 - val_loss: 0.2508 - val_acc: 0.8975\n",
      "Epoch 30/50\n",
      "8000/8000 [==============================] - 1s 65us/step - loss: 0.2213 - acc: 0.9135 - val_loss: 0.2489 - val_acc: 0.8970\n",
      "Epoch 31/50\n",
      "8000/8000 [==============================] - 1s 68us/step - loss: 0.2183 - acc: 0.9120 - val_loss: 0.2487 - val_acc: 0.9010\n",
      "Epoch 32/50\n",
      "8000/8000 [==============================] - 1s 65us/step - loss: 0.2180 - acc: 0.9154 - val_loss: 0.2487 - val_acc: 0.8965\n",
      "Epoch 33/50\n",
      "8000/8000 [==============================] - 1s 63us/step - loss: 0.2125 - acc: 0.9173 - val_loss: 0.2449 - val_acc: 0.9030\n",
      "Epoch 34/50\n",
      "8000/8000 [==============================] - 1s 68us/step - loss: 0.2105 - acc: 0.9180 - val_loss: 0.2432 - val_acc: 0.9000\n",
      "Epoch 35/50\n",
      "8000/8000 [==============================] - 1s 68us/step - loss: 0.2100 - acc: 0.9162 - val_loss: 0.2437 - val_acc: 0.9025\n",
      "Epoch 36/50\n",
      "8000/8000 [==============================] - 1s 68us/step - loss: 0.2036 - acc: 0.9191 - val_loss: 0.2473 - val_acc: 0.8940\n",
      "Epoch 37/50\n",
      "8000/8000 [==============================] - 1s 69us/step - loss: 0.2033 - acc: 0.9206 - val_loss: 0.2398 - val_acc: 0.9020\n",
      "Epoch 38/50\n",
      "8000/8000 [==============================] - 1s 66us/step - loss: 0.2003 - acc: 0.9219 - val_loss: 0.2385 - val_acc: 0.9040\n",
      "Epoch 39/50\n",
      "8000/8000 [==============================] - 1s 71us/step - loss: 0.1971 - acc: 0.9235 - val_loss: 0.2439 - val_acc: 0.9040\n",
      "Epoch 40/50\n",
      "8000/8000 [==============================] - 1s 76us/step - loss: 0.1978 - acc: 0.9257 - val_loss: 0.2367 - val_acc: 0.9040\n",
      "Epoch 41/50\n",
      "8000/8000 [==============================] - 1s 65us/step - loss: 0.1931 - acc: 0.9265 - val_loss: 0.2395 - val_acc: 0.9005\n",
      "Epoch 42/50\n",
      "8000/8000 [==============================] - 1s 67us/step - loss: 0.1933 - acc: 0.9230 - val_loss: 0.2347 - val_acc: 0.9065\n",
      "Epoch 43/50\n",
      "8000/8000 [==============================] - 1s 65us/step - loss: 0.1901 - acc: 0.9276 - val_loss: 0.2347 - val_acc: 0.9095\n",
      "Epoch 44/50\n",
      "8000/8000 [==============================] - 1s 66us/step - loss: 0.1886 - acc: 0.9271 - val_loss: 0.2345 - val_acc: 0.9080\n",
      "Epoch 45/50\n",
      "8000/8000 [==============================] - 1s 63us/step - loss: 0.1857 - acc: 0.9270 - val_loss: 0.2324 - val_acc: 0.9050\n",
      "Epoch 46/50\n",
      "8000/8000 [==============================] - 1s 68us/step - loss: 0.1827 - acc: 0.9315 - val_loss: 0.2350 - val_acc: 0.9085\n",
      "Epoch 47/50\n",
      "8000/8000 [==============================] - 1s 66us/step - loss: 0.1789 - acc: 0.9319 - val_loss: 0.2312 - val_acc: 0.9070\n",
      "Epoch 48/50\n",
      "8000/8000 [==============================] - 1s 70us/step - loss: 0.1797 - acc: 0.9317 - val_loss: 0.2326 - val_acc: 0.9070\n",
      "Epoch 49/50\n",
      "8000/8000 [==============================] - 1s 63us/step - loss: 0.1750 - acc: 0.9327 - val_loss: 0.2344 - val_acc: 0.9045\n",
      "Epoch 50/50\n",
      "8000/8000 [==============================] - 1s 66us/step - loss: 0.1739 - acc: 0.9345 - val_loss: 0.2297 - val_acc: 0.9095\n"
     ]
    }
   ],
   "source": [
    "history = model.fit(features, labels,\n",
    "                    epochs=50,\n",
    "                    batch_size=1024,\n",
    "                    validation_split=0.2 )"
   ]
  },
  {
   "cell_type": "code",
   "execution_count": 82,
   "metadata": {},
   "outputs": [],
   "source": [
    "import matplotlib.pyplot as plt\n",
    "plt.style.use('ggplot')"
   ]
  },
  {
   "cell_type": "code",
   "execution_count": 83,
   "metadata": {},
   "outputs": [
    {
     "data": {
      "text/plain": [
       "dict_keys(['val_loss', 'val_acc', 'loss', 'acc'])"
      ]
     },
     "execution_count": 83,
     "metadata": {},
     "output_type": "execute_result"
    }
   ],
   "source": [
    "history.history.keys()"
   ]
  },
  {
   "cell_type": "code",
   "execution_count": 84,
   "metadata": {},
   "outputs": [],
   "source": [
    "acc = history.history['acc']\n",
    "val_acc = history.history['val_acc']\n",
    "loss = history.history['loss']\n",
    "val_loss = history.history['val_loss']"
   ]
  },
  {
   "cell_type": "code",
   "execution_count": 85,
   "metadata": {},
   "outputs": [
    {
     "data": {
      "text/plain": [
       "<matplotlib.legend.Legend at 0x7f27194a6898>"
      ]
     },
     "execution_count": 85,
     "metadata": {},
     "output_type": "execute_result"
    },
    {
     "data": {
      "image/png": "[encoded data removed]",
      "text/plain": [
       "<Figure size 1152x576 with 2 Axes>"
      ]
     },
     "metadata": {},
     "output_type": "display_data"
    }
   ],
   "source": [
    "fig, axes = plt.subplots(1,2,figsize=(16,8))\n",
    "\n",
    "axes[0].plot(acc, 'bo', label='Training acc')\n",
    "axes[0].plot(val_acc, 'b', label='Validation acc')\n",
    "axes[0].set_title('Training and validation accuracy')\n",
    "axes[0].legend()\n",
    "\n",
    "axes[1].plot(loss, 'bo', label='Training loss')\n",
    "axes[1].plot(val_loss, 'b', label='Validation loss')\n",
    "axes[1].set_title('Training and validation loss')\n",
    "axes[1].legend()\n"
   ]
  }
 ],
 "metadata": {
  "kernelspec": {
   "display_name": "Python 3",
   "language": "python",
   "name": "python3"
  },
  "language_info": {
   "codemirror_mode": {
    "name": "ipython",
    "version": 3
   },
   "file_extension": ".py",
   "mimetype": "text/x-python",
   "name": "python",
   "nbconvert_exporter": "python",
   "pygments_lexer": "ipython3",
   "version": "3.6.3"
  }
 },
 "nbformat": 4,
 "nbformat_minor": 2
}
