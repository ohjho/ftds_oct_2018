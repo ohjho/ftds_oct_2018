{
 "cells": [
  {
   "cell_type": "markdown",
   "metadata": {},
   "source": [
    "# Quick Draw\n",
    "\n",
    "Google created a massive dataset of doodles called quick draw. All of these doodles are avaliable as small 28 by 28 images and can be downloaded from [here](https://console.cloud.google.com/storage/browser/quickdraw_dataset/full/numpy_bitmap?pli=1). Once you've downloaded a few different images put them in a folder.\n",
    "\n",
    "Your task is to classify the doodles, the rough outline is bellow:\n",
    "\n",
    "* Read Data into numpy arrays (`np.load`)\n",
    "* Generate the labels and onehot encode them.\n",
    "* Design a neural network to classify the images, just use `Dense` layers for now. The final activation should be softmax, and you will want to use catergorical cross entropy as a loss funuction.\n",
    "* Plot the training accuracy and validation accuracy. \n",
    "\n",
    "How canan you improve your network? Somethings you can try:\n",
    "\n",
    "* Adding or remove layers.\n",
    "* Changing the number of neurones in each layer\n",
    "* Adding reuglization either as dropout or to the cost function using L1 or L2 regularization."
   ]
  },
  {
   "cell_type": "code",
   "execution_count": null,
   "metadata": {},
   "outputs": [],
   "source": []
  }
 ],
 "metadata": {
  "kernelspec": {
   "display_name": "Python 3",
   "language": "python",
   "name": "python3"
  },
  "language_info": {
   "codemirror_mode": {
    "name": "ipython",
    "version": 3
   },
   "file_extension": ".py",
   "mimetype": "text/x-python",
   "name": "python",
   "nbconvert_exporter": "python",
   "pygments_lexer": "ipython3",
   "version": "3.6.5"
  }
 },
 "nbformat": 4,
 "nbformat_minor": 2
}
