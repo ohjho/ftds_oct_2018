{
 "cells": [
  {
   "cell_type": "markdown",
   "metadata": {},
   "source": [
    "# Perceptron\n",
    "\n",
    "Deep learning is vaugely inspired by biology, and this is seen in one of the percursors to neural networks the perceptron. The perceptron takes a series of inputs, adds them together and then passes them through as step function.\n",
    "\n",
    "![perecptron](https://i.stack.imgur.com/IjJT0.png)\n",
    "\n",
    "\n",
    "The step functions is very simple it outputs 0 if n is bellow 0 and 1 if n is greater than.\n",
    "\n",
    "$$  H[n]=\\begin{cases} 0, & n < 0, \\\\ 1, & n \\ge 0, \\end{cases}   $$\n",
    "\n",
    "\n",
    "This is analogous to a biological neurone which takes inputs from surrounding nerve cells in the form of neurotramsmiters, if it recieves enought inputs then it will pass a threshold point and fire an activation potential.\n",
    "In the above diagram you may notice that one of the inputs is 1, this is called the bias neurone and it always inputs one."
   ]
  },
  {
   "cell_type": "markdown",
   "metadata": {},
   "source": [
    "We can create a simple perceptron in code using numpy. By taking the dot product between $x $ and $ w $ and then applying a activation function to the output. "
   ]
  },
  {
   "cell_type": "code",
   "execution_count": 1,
   "metadata": {},
   "outputs": [],
   "source": [
    "import numpy as np"
   ]
  },
  {
   "cell_type": "code",
   "execution_count": 2,
   "metadata": {},
   "outputs": [],
   "source": [
    "def step_function(n):\n",
    "    if n > 0:\n",
    "        return 1\n",
    "    return 0\n"
   ]
  },
  {
   "cell_type": "code",
   "execution_count": 3,
   "metadata": {},
   "outputs": [],
   "source": [
    "def perceptron(w,b,x):\n",
    "    return step_function(np.dot(x,w) + b)"
   ]
  },
  {
   "cell_type": "markdown",
   "metadata": {},
   "source": [
    "For simlicitys sake we'll just add the bias as a number rather than maintaining a seperate $ w_0 $ weight for it. "
   ]
  },
  {
   "cell_type": "code",
   "execution_count": 4,
   "metadata": {},
   "outputs": [
    {
     "data": {
      "text/plain": [
       "1"
      ]
     },
     "execution_count": 4,
     "metadata": {},
     "output_type": "execute_result"
    }
   ],
   "source": [
    "w = [1,2]\n",
    "x = [1,3]\n",
    "b = 1\n",
    "perceptron(w,b,x)"
   ]
  },
  {
   "cell_type": "markdown",
   "metadata": {},
   "source": [
    "Whats intresting is that the perceptron can be use to simulate boolean logic if we pick the weight rights."
   ]
  },
  {
   "cell_type": "code",
   "execution_count": 5,
   "metadata": {},
   "outputs": [],
   "source": [
    "def test_gate(w,b):\n",
    "    \n",
    "    X = [\n",
    "        [1,1],\n",
    "        [0,1],\n",
    "        [1,0],\n",
    "        [0,0]\n",
    "    ]\n",
    "    \n",
    "    if len(w) == 1:\n",
    "        X = [\n",
    "            [1],\n",
    "            [0],\n",
    "        ]\n",
    "    \n",
    "    for x in X:\n",
    "        print(\" \".join((str(i) for i in x)),\"| \",end=\"\")\n",
    "        output = perceptron(w,b,x)\n",
    "        print(output)\n"
   ]
  },
  {
   "cell_type": "code",
   "execution_count": 6,
   "metadata": {},
   "outputs": [
    {
     "name": "stdout",
     "output_type": "stream",
     "text": [
      "1 | 0\n",
      "0 | 1\n"
     ]
    }
   ],
   "source": [
    "#Not\n",
    "w = [-1]\n",
    "b = [1]\n",
    "test_gate(w,b)"
   ]
  },
  {
   "cell_type": "code",
   "execution_count": 69,
   "metadata": {
    "scrolled": true
   },
   "outputs": [
    {
     "name": "stdout",
     "output_type": "stream",
     "text": [
      "1 1 | 1\n",
      "0 1 | 0\n",
      "1 0 | 0\n",
      "0 0 | 0\n"
     ]
    }
   ],
   "source": [
    "#And\n",
    "w = [1,1.1]\n",
    "b = [-2]\n",
    "test_gate(w,b)"
   ]
  },
  {
   "cell_type": "code",
   "execution_count": 73,
   "metadata": {},
   "outputs": [
    {
     "name": "stdout",
     "output_type": "stream",
     "text": [
      "1 1 | 1\n",
      "0 1 | 1\n",
      "1 0 | 1\n",
      "0 0 | 0\n"
     ]
    }
   ],
   "source": [
    "#Or\n",
    "w = [0.6,0.6]\n",
    "b = -0.5\n",
    "test_gate(w,b)"
   ]
  },
  {
   "cell_type": "markdown",
   "metadata": {},
   "source": [
    "You may have noticed the similarity with linear regressions, and in fact the perceptron is a simple linear classifier. It tries to seperate the data by drawing a line, and then assigns a class depending what side of the line the data falls on. This is also why XOR is not possible with a single perceptron, since the XOR problem is not linearly seperatble.\n",
    "\n",
    "\n",
    "$$ y = \\beta_0 + \\beta_1 x $$"
   ]
  },
  {
   "cell_type": "markdown",
   "metadata": {},
   "source": [
    "However if we used two perceptrons we would be able to solve the XOR problem. So far we've discovered that perceptrons can simulate boolean logic and by linking multiple perceptrons together allows us to model more complex things."
   ]
  },
  {
   "cell_type": "markdown",
   "metadata": {},
   "source": [
    "# Multi Layer Perceptron\n",
    "\n",
    "The multilayer perceptron is a network composed of multiple perceptrons linked together. \n",
    "\n",
    "<img src=\"http://www.mdpi.com/information/information-03-00756/article_deploy/html/images/information-03-00756-g002.png\" width=\"600\">\n",
    "\n",
    "We could implement this in numpy and there is a [great series](https://www.youtube.com/playlist?list=PLiaHhY2iBX9hdHaRr6b7XevZtgZRa1PoU) that does exactly that, however we'll go the easier route and use keras."
   ]
  },
  {
   "cell_type": "markdown",
   "metadata": {},
   "source": [
    "# Data\n",
    "\n",
    "Keras comes with many common datasets built in, lets load the popular mnist dataset, which contains images of hand written digits. MNSIT is like the iris of deep learning."
   ]
  },
  {
   "cell_type": "code",
   "execution_count": 20,
   "metadata": {},
   "outputs": [],
   "source": [
    "import matplotlib.pyplot as plt\n",
    "from keras.datasets import mnist\n",
    "(train_images, train_labels), (test_images, test_labels) = mnist.load_data()"
   ]
  },
  {
   "cell_type": "code",
   "execution_count": 21,
   "metadata": {},
   "outputs": [
    {
     "data": {
      "image/png": "[encoded data removed]",
      "text/plain": [
       "<Figure size 432x288 with 1 Axes>"
      ]
     },
     "metadata": {},
     "output_type": "display_data"
    }
   ],
   "source": [
    "plt.imshow(train_images[0,:,:],cmap=\"gray\")\n",
    "plt.axis('off');"
   ]
  },
  {
   "cell_type": "markdown",
   "metadata": {},
   "source": [
    "The train data"
   ]
  },
  {
   "cell_type": "code",
   "execution_count": 22,
   "metadata": {},
   "outputs": [
    {
     "data": {
      "text/plain": [
       "(60000, 28, 28)"
      ]
     },
     "execution_count": 22,
     "metadata": {},
     "output_type": "execute_result"
    }
   ],
   "source": [
    "train_images.shape #60000 examples , 28 x 28 img dimensions"
   ]
  },
  {
   "cell_type": "code",
   "execution_count": 23,
   "metadata": {},
   "outputs": [
    {
     "data": {
      "text/plain": [
       "array([0, 1, 2, 3, 4, 5, 6, 7, 8, 9], dtype=uint8)"
      ]
     },
     "execution_count": 23,
     "metadata": {},
     "output_type": "execute_result"
    }
   ],
   "source": [
    "np.unique(train_labels) # labels go from 0 to 9"
   ]
  },
  {
   "cell_type": "code",
   "execution_count": 24,
   "metadata": {},
   "outputs": [
    {
     "data": {
      "text/plain": [
       "(60000,)"
      ]
     },
     "execution_count": 24,
     "metadata": {},
     "output_type": "execute_result"
    }
   ],
   "source": [
    "train_labels.shape # one label for each training example"
   ]
  },
  {
   "cell_type": "code",
   "execution_count": 25,
   "metadata": {},
   "outputs": [
    {
     "data": {
      "text/plain": [
       "(10000, 28, 28)"
      ]
     },
     "execution_count": 25,
     "metadata": {},
     "output_type": "execute_result"
    }
   ],
   "source": [
    "test_images.shape"
   ]
  },
  {
   "cell_type": "code",
   "execution_count": 107,
   "metadata": {},
   "outputs": [
    {
     "data": {
      "text/plain": [
       "(10000,)"
      ]
     },
     "execution_count": 107,
     "metadata": {},
     "output_type": "execute_result"
    }
   ],
   "source": [
    "test_labels.shape"
   ]
  },
  {
   "cell_type": "markdown",
   "metadata": {},
   "source": [
    "Before we can feed our images into the network we have 3 steps:\n",
    "\n",
    "* Flatten the images - since the network will be a MLP (multilayer perceptron) the input must be a vector\n",
    "* Change data type to float32 - since most GPU support best float32.\n",
    "* Scale image values between 0 to 1, although not stricty needed up normalization speeds training times.\n"
   ]
  },
  {
   "cell_type": "code",
   "execution_count": 26,
   "metadata": {},
   "outputs": [],
   "source": [
    "train_images = train_images.reshape(60000,-1) #flatten images\n",
    "train_images = train_images.astype('float32') / 255 #change data type and scale \n",
    "\n",
    "test_images = test_images.reshape(10000,-1)\n",
    "test_images = test_images.astype('float32') / 255"
   ]
  },
  {
   "cell_type": "code",
   "execution_count": 27,
   "metadata": {},
   "outputs": [
    {
     "data": {
      "text/plain": [
       "(60000, 784)"
      ]
     },
     "execution_count": 27,
     "metadata": {},
     "output_type": "execute_result"
    }
   ],
   "source": [
    "train_images.shape # number of images, flattened dimensions 28 * 28"
   ]
  },
  {
   "cell_type": "code",
   "execution_count": 28,
   "metadata": {},
   "outputs": [
    {
     "data": {
      "text/plain": [
       "array([5, 0, 4, ..., 5, 6, 8], dtype=uint8)"
      ]
     },
     "execution_count": 28,
     "metadata": {},
     "output_type": "execute_result"
    }
   ],
   "source": [
    "train_labels"
   ]
  },
  {
   "cell_type": "markdown",
   "metadata": {},
   "source": [
    "Next we need to prepare the labels by onehot encoding them."
   ]
  },
  {
   "cell_type": "code",
   "execution_count": 29,
   "metadata": {},
   "outputs": [],
   "source": [
    "from keras.utils import to_categorical\n",
    "train_labels = to_categorical(train_labels)\n",
    "test_labels = to_categorical(test_labels)"
   ]
  },
  {
   "cell_type": "code",
   "execution_count": 32,
   "metadata": {},
   "outputs": [
    {
     "data": {
      "text/plain": [
       "(60000, 10)"
      ]
     },
     "execution_count": 32,
     "metadata": {},
     "output_type": "execute_result"
    }
   ],
   "source": [
    "train_labels.shape #number of labels, size of the onehot vector"
   ]
  },
  {
   "cell_type": "markdown",
   "metadata": {},
   "source": [
    "# Network Architecture\n",
    "\n",
    "The network will be a MLP with 3 layers. We'll use the relu activation fucntion on each layer execpt the last. On the last layer we'll use softmax since we want output to sum to 1. This way we can interpret each value in the output vector as the probablity that the digit is of that class."
   ]
  },
  {
   "cell_type": "code",
   "execution_count": 34,
   "metadata": {},
   "outputs": [],
   "source": [
    "from keras import Sequential\n",
    "from keras.layers import Dense"
   ]
  },
  {
   "cell_type": "code",
   "execution_count": 42,
   "metadata": {},
   "outputs": [
    {
     "name": "stdout",
     "output_type": "stream",
     "text": [
      "_________________________________________________________________\n",
      "Layer (type)                 Output Shape              Param #   \n",
      "=================================================================\n",
      "dense_4 (Dense)              (None, 256)               200960    \n",
      "_________________________________________________________________\n",
      "dense_5 (Dense)              (None, 256)               65792     \n",
      "_________________________________________________________________\n",
      "dense_6 (Dense)              (None, 10)                2570      \n",
      "=================================================================\n",
      "Total params: 269,322\n",
      "Trainable params: 269,322\n",
      "Non-trainable params: 0\n",
      "_________________________________________________________________\n"
     ]
    }
   ],
   "source": [
    "network = Sequential()\n",
    "network.add(Dense(256, activation='relu', input_shape=(28 * 28,))) #for first layer needs input shape\n",
    "network.add(Dense(256, activation='relu'))  #other layers input shape wil be calculated for us\n",
    "network.add(Dense(10, activation='softmax')) #since it's classfication final output is softmax\n",
    "network.summary()"
   ]
  },
  {
   "cell_type": "markdown",
   "metadata": {},
   "source": [
    "# Compilation"
   ]
  },
  {
   "cell_type": "markdown",
   "metadata": {},
   "source": [
    "Before we are ready to compile and train the network we need 3 more things.\n",
    "\n",
    "* Loss function - A function to measure how well the network is perofrming\n",
    "* Optimizer - Looks at the loss functions output and updates the network acordningly to make it perform better\n",
    "* Metrics to monitor traning - Well use accuracy so we can see how the network is improving during training. "
   ]
  },
  {
   "cell_type": "markdown",
   "metadata": {},
   "source": [
    "You may be wondering which optimizer to use, since there are so many different ones, as a default adam is a good choice. For the details of why see [here](http://ruder.io/optimizing-gradient-descent/)."
   ]
  },
  {
   "cell_type": "code",
   "execution_count": 49,
   "metadata": {},
   "outputs": [],
   "source": [
    "network.compile(optimizer='adam',\n",
    "loss='categorical_crossentropy',\n",
    "metrics=['accuracy'])"
   ]
  },
  {
   "cell_type": "markdown",
   "metadata": {},
   "source": [
    "We're now ready to train our network"
   ]
  },
  {
   "cell_type": "code",
   "execution_count": 50,
   "metadata": {
    "scrolled": true
   },
   "outputs": [
    {
     "name": "stdout",
     "output_type": "stream",
     "text": [
      "Train on 48000 samples, validate on 12000 samples\n",
      "Epoch 1/10\n",
      "48000/48000 [==============================] - 1s 29us/step - loss: 0.0094 - acc: 0.9968 - val_loss: 0.0252 - val_acc: 0.9925\n",
      "Epoch 2/10\n",
      "48000/48000 [==============================] - 1s 20us/step - loss: 0.0054 - acc: 0.9983 - val_loss: 0.0311 - val_acc: 0.9912\n",
      "Epoch 3/10\n",
      "48000/48000 [==============================] - 1s 24us/step - loss: 0.0097 - acc: 0.9966 - val_loss: 0.0417 - val_acc: 0.9891\n",
      "Epoch 4/10\n",
      "48000/48000 [==============================] - 1s 21us/step - loss: 0.0092 - acc: 0.9969 - val_loss: 0.0381 - val_acc: 0.9898\n",
      "Epoch 5/10\n",
      "48000/48000 [==============================] - 1s 22us/step - loss: 0.0051 - acc: 0.9983 - val_loss: 0.0280 - val_acc: 0.9923\n",
      "Epoch 6/10\n",
      "48000/48000 [==============================] - 1s 22us/step - loss: 0.0048 - acc: 0.9984 - val_loss: 0.0418 - val_acc: 0.9888\n",
      "Epoch 7/10\n",
      "48000/48000 [==============================] - 1s 22us/step - loss: 0.0090 - acc: 0.9972 - val_loss: 0.0438 - val_acc: 0.9887\n",
      "Epoch 8/10\n",
      "48000/48000 [==============================] - 1s 23us/step - loss: 0.0073 - acc: 0.9976 - val_loss: 0.0509 - val_acc: 0.9877\n",
      "Epoch 9/10\n",
      "48000/48000 [==============================] - 1s 25us/step - loss: 0.0033 - acc: 0.9989 - val_loss: 0.0389 - val_acc: 0.9907\n",
      "Epoch 10/10\n",
      "48000/48000 [==============================] - 1s 28us/step - loss: 0.0031 - acc: 0.9992 - val_loss: 0.0488 - val_acc: 0.9885\n"
     ]
    }
   ],
   "source": [
    "history = network.fit(train_images,train_labels,epochs=10,batch_size=128,validation_split=0.2)"
   ]
  },
  {
   "cell_type": "code",
   "execution_count": 51,
   "metadata": {
    "scrolled": true
   },
   "outputs": [
    {
     "data": {
      "text/plain": [
       "dict_keys(['val_loss', 'val_acc', 'loss', 'acc'])"
      ]
     },
     "execution_count": 51,
     "metadata": {},
     "output_type": "execute_result"
    }
   ],
   "source": [
    "history.history.keys()"
   ]
  },
  {
   "cell_type": "code",
   "execution_count": 52,
   "metadata": {},
   "outputs": [
    {
     "data": {
      "text/plain": [
       "[<matplotlib.lines.Line2D at 0x7fba27fd3160>]"
      ]
     },
     "execution_count": 52,
     "metadata": {},
     "output_type": "execute_result"
    },
    {
     "data": {
      "image/png": "[encoded data removed]",
      "text/plain": [
       "<Figure size 432x288 with 1 Axes>"
      ]
     },
     "metadata": {},
     "output_type": "display_data"
    }
   ],
   "source": [
    "plt.plot(history.history[\"val_acc\"])\n",
    "plt.plot(history.history[\"acc\"])"
   ]
  },
  {
   "cell_type": "markdown",
   "metadata": {},
   "source": [
    "# Evaluation"
   ]
  },
  {
   "cell_type": "markdown",
   "metadata": {},
   "source": [
    "Lets evaluate the network to see how well it does on unseen data."
   ]
  },
  {
   "cell_type": "code",
   "execution_count": 53,
   "metadata": {},
   "outputs": [
    {
     "name": "stdout",
     "output_type": "stream",
     "text": [
      "10000/10000 [==============================] - 0s 27us/step\n",
      "Test Accuracy:  0.9805\n"
     ]
    }
   ],
   "source": [
    "test_loss, test_acc = network.evaluate(test_images,test_labels)\n",
    "print('Test Accuracy: ',test_acc)"
   ]
  },
  {
   "cell_type": "markdown",
   "metadata": {},
   "source": [
    "As excpected the testing accuracy is slightly lower than the train accuracy. Now that we've created a model, we might ask ourselves how if it's possible can be improve it. Our goal is to develope a model that is able to generalize well from the training data, allowing us to make better predictions on data that we have not already seen. We must strike the balance between over fitting and underfitting, this will lead to a model that generalizes well. A simple technique is to push right up until the point of overfitting  by adding:\n",
    "\n",
    "* More layers\n",
    "* Bigger layers\n",
    "* Train for longer\n",
    "\n",
    "Once we have an understanding of this boundary we can dial it slightly back. We now have a model that has decent balance. To prevent overfitting we can add some regularization techniques, such as dropout or L2 regularization."
   ]
  }
 ],
 "metadata": {
  "kernelspec": {
   "display_name": "Python 3",
   "language": "python",
   "name": "python3"
  },
  "language_info": {
   "codemirror_mode": {
    "name": "ipython",
    "version": 3
   },
   "file_extension": ".py",
   "mimetype": "text/x-python",
   "name": "python",
   "nbconvert_exporter": "python",
   "pygments_lexer": "ipython3",
   "version": "3.6.5"
  }
 },
 "nbformat": 4,
 "nbformat_minor": 2
}
