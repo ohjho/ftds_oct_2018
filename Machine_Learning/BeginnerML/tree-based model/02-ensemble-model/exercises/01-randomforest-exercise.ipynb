{
 "cells": [
  {
   "cell_type": "code",
   "execution_count": 1,
   "metadata": {},
   "outputs": [],
   "source": [
    "import pandas as pd\n",
    "melbourne_data = pd.read_csv('data/melb_data.csv')\n",
    "melbourne_data['Distance'].fillna(10, inplace= True)\n",
    "melbourne_data['Landsize'].fillna(558, inplace= True)\n",
    "\n",
    "y = melbourne_data.Price\n",
    "melbourne_predictors = ['Rooms', 'Distance', 'Landsize']\n",
    "X = melbourne_data[melbourne_predictors]  \n",
    "\n",
    "from sklearn.model_selection import train_test_split # split dataset into training and validation\n",
    "train_X, test_X, train_y, test_y = train_test_split(X, y,random_state = 0) # random_state =0 so that others can get the same set of training and testing dataset\n",
    "\n",
    "# for model evaluation with MAE\n",
    "from sklearn.metrics import mean_absolute_error"
   ]
  },
  {
   "cell_type": "markdown",
   "metadata": {},
   "source": [
    "# Exercise 1 : define randomforest regression model, and print for parameters can tune in randomforest"
   ]
  },
  {
   "cell_type": "code",
   "execution_count": 2,
   "metadata": {},
   "outputs": [
    {
     "data": {
      "text/plain": [
       "{'bootstrap': True,\n",
       " 'criterion': 'mse',\n",
       " 'max_depth': None,\n",
       " 'max_features': 'auto',\n",
       " 'max_leaf_nodes': None,\n",
       " 'min_impurity_decrease': 0.0,\n",
       " 'min_impurity_split': None,\n",
       " 'min_samples_leaf': 1,\n",
       " 'min_samples_split': 2,\n",
       " 'min_weight_fraction_leaf': 0.0,\n",
       " 'n_estimators': 10,\n",
       " 'n_jobs': 1,\n",
       " 'oob_score': False,\n",
       " 'random_state': None,\n",
       " 'verbose': 0,\n",
       " 'warm_start': False}"
      ]
     },
     "execution_count": 2,
     "metadata": {},
     "output_type": "execute_result"
    }
   ],
   "source": []
  },
  {
   "cell_type": "markdown",
   "metadata": {},
   "source": [
    "# Exercise 2: Have your own user defined function to plot the partial dependancy plot to check for specific parameter that can get lower loss rate"
   ]
  },
  {
   "cell_type": "code",
   "execution_count": 5,
   "metadata": {},
   "outputs": [],
   "source": []
  },
  {
   "cell_type": "code",
   "execution_count": 8,
   "metadata": {},
   "outputs": [
    {
     "data": {
      "text/plain": [
       "[<matplotlib.lines.Line2D at 0x11c67610da0>]"
      ]
     },
     "execution_count": 8,
     "metadata": {},
     "output_type": "execute_result"
    },
    {
     "data": {
      "image/png": "[encoded data removed]",
      "text/plain": [
       "<Figure size 432x288 with 1 Axes>"
      ]
     },
     "metadata": {},
     "output_type": "display_data"
    }
   ],
   "source": [
    "\n"
   ]
  },
  {
   "cell_type": "code",
   "execution_count": 11,
   "metadata": {},
   "outputs": [
    {
     "name": "stdout",
     "output_type": "stream",
     "text": [
      "274925.63951879484\n"
     ]
    }
   ],
   "source": [
    "# setting the parameter to the value that is lowerest in the loss on the given range\n",
    "\n",
    "# define, fit, predict and evaluation in simple four lines of code\n",
    "rf_model = RandomForestRegressor(min_samples_leaf=4, random_state=0)\n",
    "rf_model.fit(train_X, train_y)\n",
    "melb_preds = rf_model.predict(test_X)\n",
    "print(mean_absolute_error(test_y, melb_preds))\n"
   ]
  },
  {
   "cell_type": "code",
   "execution_count": null,
   "metadata": {},
   "outputs": [],
   "source": []
  }
 ],
 "metadata": {
  "kernelspec": {
   "display_name": "Python 3",
   "language": "python",
   "name": "python3"
  },
  "language_info": {
   "codemirror_mode": {
    "name": "ipython",
    "version": 3
   },
   "file_extension": ".py",
   "mimetype": "text/x-python",
   "name": "python",
   "nbconvert_exporter": "python",
   "pygments_lexer": "ipython3",
   "version": "3.6.5"
  }
 },
 "nbformat": 4,
 "nbformat_minor": 2
}
