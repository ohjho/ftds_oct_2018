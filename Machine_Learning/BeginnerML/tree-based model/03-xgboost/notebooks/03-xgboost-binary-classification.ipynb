{
 "cells": [
  {
   "cell_type": "code",
   "execution_count": 1,
   "metadata": {},
   "outputs": [],
   "source": [
    "# NumPy for numerical computing\n",
    "import numpy as np\n",
    "\n",
    "# Pandas for DataFrames\n",
    "import pandas as pd\n",
    "\n",
    "# Matplotlib for visualization\n",
    "from matplotlib import pyplot as plt\n",
    "# display plots in the notebook\n",
    "%matplotlib inline \n",
    "\n",
    "# Seaborn for easier visualization\n",
    "import seaborn as sns"
   ]
  },
  {
   "cell_type": "code",
   "execution_count": 2,
   "metadata": {},
   "outputs": [],
   "source": [
    "# Load employee data from CSV\n",
    "sub_df = pd.read_csv('sample_submission_sLex1ul.csv')\n",
    "train_df = pd.read_csv('train_x4ELi83.csv')\n",
    "test_df = pd.read_csv('test_Tu0FSbF.csv')"
   ]
  },
  {
   "cell_type": "code",
   "execution_count": 3,
   "metadata": {},
   "outputs": [
    {
     "name": "stdout",
     "output_type": "stream",
     "text": [
      "(79853, 13)\n",
      "(79853, 13)\n"
     ]
    }
   ],
   "source": [
    "# Drop duplicates\n",
    "print( train_df.shape )\n",
    "train_df = train_df.drop_duplicates()\n",
    "print( train_df.shape )"
   ]
  },
  {
   "cell_type": "code",
   "execution_count": 4,
   "metadata": {},
   "outputs": [
    {
     "name": "stdout",
     "output_type": "stream",
     "text": [
      "(34224, 12)\n",
      "(34224, 12)\n"
     ]
    }
   ],
   "source": [
    "# Drop duplicates\n",
    "print( test_df.shape )\n",
    "test_df = test_df.drop_duplicates()\n",
    "print( test_df.shape )"
   ]
  },
  {
   "cell_type": "code",
   "execution_count": 5,
   "metadata": {},
   "outputs": [
    {
     "data": {
      "text/plain": [
       "id                                     0\n",
       "perc_premium_paid_by_cash_credit       0\n",
       "age_in_days                            0\n",
       "Income                                 0\n",
       "Count_3-6_months_late                 97\n",
       "Count_6-12_months_late                97\n",
       "Count_more_than_12_months_late        97\n",
       "application_underwriting_score      2974\n",
       "no_of_premiums_paid                    0\n",
       "sourcing_channel                       0\n",
       "residence_area_type                    0\n",
       "premium                                0\n",
       "renewal                                0\n",
       "dtype: int64"
      ]
     },
     "execution_count": 5,
     "metadata": {},
     "output_type": "execute_result"
    }
   ],
   "source": [
    "train_df.isnull().sum()"
   ]
  },
  {
   "cell_type": "code",
   "execution_count": 6,
   "metadata": {},
   "outputs": [
    {
     "data": {
      "text/plain": [
       "id                                     0\n",
       "perc_premium_paid_by_cash_credit       0\n",
       "age_in_days                            0\n",
       "Income                                 0\n",
       "Count_3-6_months_late                 31\n",
       "Count_6-12_months_late                31\n",
       "Count_more_than_12_months_late        31\n",
       "application_underwriting_score      1323\n",
       "no_of_premiums_paid                    0\n",
       "sourcing_channel                       0\n",
       "residence_area_type                    0\n",
       "premium                                0\n",
       "dtype: int64"
      ]
     },
     "execution_count": 6,
     "metadata": {},
     "output_type": "execute_result"
    }
   ],
   "source": [
    "test_df.isnull().sum()"
   ]
  },
  {
   "cell_type": "code",
   "execution_count": 7,
   "metadata": {},
   "outputs": [],
   "source": [
    "# Indicator variable for missing last_evaluation\n",
    "train_df['Count_3-6_months_late_missing'] = train_df['Count_3-6_months_late'].isnull().astype(int)\n",
    "train_df['Count_6-12_months_late_missing'] = train_df['Count_6-12_months_late'].isnull().astype(int)\n",
    "train_df['Count_more_than_12_months_late_missing'] = train_df['Count_more_than_12_months_late'].isnull().astype(int)\n",
    "train_df['application_underwriting_score_missing'] = train_df['application_underwriting_score'].isnull().astype(int)"
   ]
  },
  {
   "cell_type": "code",
   "execution_count": 8,
   "metadata": {},
   "outputs": [],
   "source": [
    "# Indicator variable for missing last_evaluation\n",
    "test_df['Count_3-6_months_late_missing'] = test_df['Count_3-6_months_late'].isnull().astype(int)\n",
    "test_df['Count_6-12_months_late_missing'] = test_df['Count_6-12_months_late'].isnull().astype(int)\n",
    "test_df['Count_more_than_12_months_late_missing'] = test_df['Count_more_than_12_months_late'].isnull().astype(int)\n",
    "test_df['application_underwriting_score_missing'] = test_df['application_underwriting_score'].isnull().astype(int)"
   ]
  },
  {
   "cell_type": "code",
   "execution_count": 9,
   "metadata": {},
   "outputs": [],
   "source": [
    "train_df[\"Count_3-6_months_late\"].fillna(train_df[\"Count_3-6_months_late\"].mean(), inplace = True)\n",
    "train_df[\"Count_6-12_months_late\"].fillna(train_df[\"Count_3-6_months_late\"].mean(), inplace = True)\n",
    "train_df[\"Count_more_than_12_months_late\"].fillna(train_df[\"Count_3-6_months_late\"].mean(), inplace = True)\n",
    "train_df[\"application_underwriting_score\"].fillna(train_df[\"application_underwriting_score\"].mean(), inplace = True)"
   ]
  },
  {
   "cell_type": "code",
   "execution_count": 10,
   "metadata": {},
   "outputs": [],
   "source": [
    "test_df[\"Count_3-6_months_late\"].fillna(test_df[\"Count_3-6_months_late\"].mean(), inplace = True)\n",
    "test_df[\"Count_6-12_months_late\"].fillna(test_df[\"Count_3-6_months_late\"].mean(), inplace = True)\n",
    "test_df[\"Count_more_than_12_months_late\"].fillna(test_df[\"Count_3-6_months_late\"].mean(), inplace = True)\n",
    "test_df[\"application_underwriting_score\"].fillna(test_df[\"application_underwriting_score\"].mean(), inplace = True)"
   ]
  },
  {
   "cell_type": "code",
   "execution_count": 11,
   "metadata": {},
   "outputs": [
    {
     "data": {
      "text/plain": [
       "id                                        0\n",
       "perc_premium_paid_by_cash_credit          0\n",
       "age_in_days                               0\n",
       "Income                                    0\n",
       "Count_3-6_months_late                     0\n",
       "Count_6-12_months_late                    0\n",
       "Count_more_than_12_months_late            0\n",
       "application_underwriting_score            0\n",
       "no_of_premiums_paid                       0\n",
       "sourcing_channel                          0\n",
       "residence_area_type                       0\n",
       "premium                                   0\n",
       "renewal                                   0\n",
       "Count_3-6_months_late_missing             0\n",
       "Count_6-12_months_late_missing            0\n",
       "Count_more_than_12_months_late_missing    0\n",
       "application_underwriting_score_missing    0\n",
       "dtype: int64"
      ]
     },
     "execution_count": 11,
     "metadata": {},
     "output_type": "execute_result"
    }
   ],
   "source": [
    "train_df.isnull().sum()"
   ]
  },
  {
   "cell_type": "code",
   "execution_count": 12,
   "metadata": {},
   "outputs": [
    {
     "data": {
      "text/plain": [
       "id                                        0\n",
       "perc_premium_paid_by_cash_credit          0\n",
       "age_in_days                               0\n",
       "Income                                    0\n",
       "Count_3-6_months_late                     0\n",
       "Count_6-12_months_late                    0\n",
       "Count_more_than_12_months_late            0\n",
       "application_underwriting_score            0\n",
       "no_of_premiums_paid                       0\n",
       "sourcing_channel                          0\n",
       "residence_area_type                       0\n",
       "premium                                   0\n",
       "Count_3-6_months_late_missing             0\n",
       "Count_6-12_months_late_missing            0\n",
       "Count_more_than_12_months_late_missing    0\n",
       "application_underwriting_score_missing    0\n",
       "dtype: int64"
      ]
     },
     "execution_count": 12,
     "metadata": {},
     "output_type": "execute_result"
    }
   ],
   "source": [
    "test_df.isnull().sum()"
   ]
  },
  {
   "cell_type": "code",
   "execution_count": 13,
   "metadata": {},
   "outputs": [],
   "source": [
    "import numpy as np\n",
    "# Scikit-Learn for Modeling\n",
    "import sklearn\n",
    "# Pickle for saving model files\n",
    "import pickle\n",
    "\n",
    "# Function for splitting training and test set\n",
    "from sklearn.model_selection import train_test_split # Scikit-Learn 0.18+\n",
    "\n",
    "# Helper for cross-validation\n",
    "from sklearn.model_selection import GridSearchCV\n",
    "\n",
    "# Classification metrics (added later)\n",
    "from sklearn.metrics import roc_curve, auc"
   ]
  },
  {
   "cell_type": "code",
   "execution_count": 14,
   "metadata": {},
   "outputs": [
    {
     "data": {
      "text/plain": [
       "Index(['id', 'perc_premium_paid_by_cash_credit', 'age_in_days', 'Income',\n",
       "       'Count_3-6_months_late', 'Count_6-12_months_late',\n",
       "       'Count_more_than_12_months_late', 'application_underwriting_score',\n",
       "       'no_of_premiums_paid', 'sourcing_channel', 'residence_area_type',\n",
       "       'premium', 'renewal', 'Count_3-6_months_late_missing',\n",
       "       'Count_6-12_months_late_missing',\n",
       "       'Count_more_than_12_months_late_missing',\n",
       "       'application_underwriting_score_missing'],\n",
       "      dtype='object')"
      ]
     },
     "execution_count": 14,
     "metadata": {},
     "output_type": "execute_result"
    }
   ],
   "source": [
    "train_df.columns"
   ]
  },
  {
   "cell_type": "code",
   "execution_count": 15,
   "metadata": {},
   "outputs": [],
   "source": [
    "# Create separate object for target variable\n",
    "y = train_df.renewal\n",
    "\n",
    "# Create separate object for input features\n",
    "X = train_df.drop(['renewal','id'], axis=1)"
   ]
  },
  {
   "cell_type": "code",
   "execution_count": 16,
   "metadata": {},
   "outputs": [],
   "source": [
    "X_pred = test_df.drop(['id'],axis=1)"
   ]
  },
  {
   "cell_type": "code",
   "execution_count": 21,
   "metadata": {},
   "outputs": [],
   "source": [
    "X = pd.get_dummies(X, columns=['sourcing_channel', 'residence_area_type'])\n",
    "X_pred = pd.get_dummies(X_pred, columns=['sourcing_channel', 'residence_area_type'])"
   ]
  },
  {
   "cell_type": "code",
   "execution_count": null,
   "metadata": {},
   "outputs": [],
   "source": []
  },
  {
   "cell_type": "code",
   "execution_count": 22,
   "metadata": {},
   "outputs": [
    {
     "data": {
      "text/plain": [
       "Index(['perc_premium_paid_by_cash_credit', 'age_in_days', 'Income',\n",
       "       'Count_3-6_months_late', 'Count_6-12_months_late',\n",
       "       'Count_more_than_12_months_late', 'application_underwriting_score',\n",
       "       'no_of_premiums_paid', 'premium', 'Count_3-6_months_late_missing',\n",
       "       'Count_6-12_months_late_missing',\n",
       "       'Count_more_than_12_months_late_missing',\n",
       "       'application_underwriting_score_missing', 'sourcing_channel_A',\n",
       "       'sourcing_channel_B', 'sourcing_channel_C', 'sourcing_channel_D',\n",
       "       'sourcing_channel_E', 'residence_area_type_Rural',\n",
       "       'residence_area_type_Urban'],\n",
       "      dtype='object')"
      ]
     },
     "execution_count": 22,
     "metadata": {},
     "output_type": "execute_result"
    }
   ],
   "source": [
    "X.columns"
   ]
  },
  {
   "cell_type": "code",
   "execution_count": 23,
   "metadata": {},
   "outputs": [
    {
     "data": {
      "text/plain": [
       "Index(['perc_premium_paid_by_cash_credit', 'age_in_days', 'Income',\n",
       "       'Count_3-6_months_late', 'Count_6-12_months_late',\n",
       "       'Count_more_than_12_months_late', 'application_underwriting_score',\n",
       "       'no_of_premiums_paid', 'premium', 'Count_3-6_months_late_missing',\n",
       "       'Count_6-12_months_late_missing',\n",
       "       'Count_more_than_12_months_late_missing',\n",
       "       'application_underwriting_score_missing', 'sourcing_channel_A',\n",
       "       'sourcing_channel_B', 'sourcing_channel_C', 'sourcing_channel_D',\n",
       "       'sourcing_channel_E', 'residence_area_type_Rural',\n",
       "       'residence_area_type_Urban'],\n",
       "      dtype='object')"
      ]
     },
     "execution_count": 23,
     "metadata": {},
     "output_type": "execute_result"
    }
   ],
   "source": [
    "X_pred.columns"
   ]
  },
  {
   "cell_type": "code",
   "execution_count": 24,
   "metadata": {},
   "outputs": [
    {
     "name": "stdout",
     "output_type": "stream",
     "text": [
      "47911 31942 47911 31942\n"
     ]
    }
   ],
   "source": [
    "# Split X and y into train and test sets\n",
    "X_train, X_test, y_train, y_test = train_test_split(X, y, \n",
    "                                                    test_size=0.4, \n",
    "                                                    random_state=1234)\n",
    "\n",
    "# Print number of observations in X_train, X_test, y_train, and y_test\n",
    "print( len(X_train), len(X_test), len(y_train), len(y_test) )"
   ]
  },
  {
   "cell_type": "code",
   "execution_count": 26,
   "metadata": {},
   "outputs": [
    {
     "name": "stdout",
     "output_type": "stream",
     "text": [
      "Fitting 3 folds for each of 27 candidates, totalling 81 fits\n"
     ]
    },
    {
     "name": "stderr",
     "output_type": "stream",
     "text": [
      "[Parallel(n_jobs=-1)]: Done   5 tasks      | elapsed:  4.6min\n",
      "[Parallel(n_jobs=-1)]: Done  10 tasks      | elapsed:  9.4min\n",
      "[Parallel(n_jobs=-1)]: Done  17 tasks      | elapsed: 13.5min\n",
      "[Parallel(n_jobs=-1)]: Done  24 tasks      | elapsed: 23.3min\n",
      "[Parallel(n_jobs=-1)]: Done  33 tasks      | elapsed: 28.1min\n",
      "[Parallel(n_jobs=-1)]: Done  42 tasks      | elapsed: 31.1min\n",
      "[Parallel(n_jobs=-1)]: Done  53 tasks      | elapsed: 34.7min\n",
      "[Parallel(n_jobs=-1)]: Done  64 tasks      | elapsed: 36.9min\n",
      "[Parallel(n_jobs=-1)]: Done  81 out of  81 | elapsed: 46.9min finished\n"
     ]
    },
    {
     "data": {
      "text/plain": [
       "XGBClassifier(base_score=0.5, booster='gbtree', colsample_bylevel=1,\n",
       "       colsample_bytree=1, gamma=0, learning_rate=0.05, max_delta_step=0,\n",
       "       max_depth=10, min_child_weight=6, missing=None, n_estimators=200,\n",
       "       n_jobs=1, nthread=None, objective='binary:logistic', random_state=0,\n",
       "       reg_alpha=0, reg_lambda=1, scale_pos_weight=1, seed=None,\n",
       "       silent=True, subsample=1)"
      ]
     },
     "execution_count": 26,
     "metadata": {},
     "output_type": "execute_result"
    }
   ],
   "source": [
    "import xgboost as xgb\n",
    "\n",
    "from sklearn import metrics\n",
    "\n",
    "def auc(m, train, test): \n",
    "\n",
    "    return (metrics.roc_auc_score(y_train,m.predict_proba(train)[:,1]),\n",
    "\n",
    "                            metrics.roc_auc_score(y_test,m.predict_proba(test)[:,1]))\n",
    "# Parameter Tuning\n",
    "xgb_model = xgb.XGBClassifier()\n",
    "\n",
    "param_dist = {\"max_depth\": [10,30,50],\n",
    "\n",
    "              \"min_child_weight\" : [1,3,6],\n",
    "\n",
    "              \"n_estimators\": [200],\n",
    "\n",
    "              \"learning_rate\": [0.05, 0.1,0.16],}\n",
    "\n",
    "xgb_model = GridSearchCV(xgb_model, param_grid=param_dist, cv = 3, verbose=10, n_jobs=-1)\n",
    "\n",
    "xgb_model.fit(X_train, y_train)\n",
    "\n",
    "# Get the best estimator for setting optimal parameter\n",
    "xgb_model.best_estimator_\n"
   ]
  },
  {
   "cell_type": "code",
   "execution_count": 53,
   "metadata": {},
   "outputs": [
    {
     "data": {
      "text/plain": [
       "XGBClassifier(base_score=0.5, booster='gbtree', colsample_bylevel=1,\n",
       "       colsample_bytree=1, gamma=0, learning_rate=0.16, max_delta_step=0,\n",
       "       max_depth=50, min_child_weight=1, missing=None, n_estimators=200,\n",
       "       n_jobs=-1, nthread=None, objective='binary:logistic',\n",
       "       random_state=0, reg_alpha=0, reg_lambda=1, scale_pos_weight=1,\n",
       "       seed=None, silent=True, subsample=1, verbose=1)"
      ]
     },
     "execution_count": 53,
     "metadata": {},
     "output_type": "execute_result"
    }
   ],
   "source": [
    "xgb_model = xgb.XGBClassifier(max_depth=50, min_child_weight=1,n_estimators=200,n_jobs=-1 , verbose=1,learning_rate=0.16)\n",
    "\n",
    "xgb_model.fit(X_train,y_train)"
   ]
  },
  {
   "cell_type": "code",
   "execution_count": 31,
   "metadata": {},
   "outputs": [],
   "source": [
    "pred_xgb = xgb_model.predict_proba(X_pred)"
   ]
  },
  {
   "cell_type": "code",
   "execution_count": 38,
   "metadata": {},
   "outputs": [],
   "source": [
    "X_pred['prob'] = pred_xgb[:,1]"
   ]
  },
  {
   "cell_type": "code",
   "execution_count": 50,
   "metadata": {},
   "outputs": [],
   "source": [
    "sub_df['renewal'] = pred_xgb[:,1]"
   ]
  },
  {
   "cell_type": "code",
   "execution_count": 52,
   "metadata": {},
   "outputs": [],
   "source": [
    "sub_df.to_csv('xgb_submission.csv',index=False)"
   ]
  }
 ],
 "metadata": {
  "kernelspec": {
   "display_name": "Python 3",
   "language": "python",
   "name": "python3"
  },
  "language_info": {
   "codemirror_mode": {
    "name": "ipython",
    "version": 3
   },
   "file_extension": ".py",
   "mimetype": "text/x-python",
   "name": "python",
   "nbconvert_exporter": "python",
   "pygments_lexer": "ipython3",
   "version": "3.6.5"
  }
 },
 "nbformat": 4,
 "nbformat_minor": 2
}
