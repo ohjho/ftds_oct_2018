{
 "cells": [
  {
   "cell_type": "markdown",
   "metadata": {},
   "source": [
    "# What is XGBoost\n",
    "\n",
    "XGBoost is the leading model for working with standard tabular data most likely in Pandas DataFrames, XGBoost models dominate many Kaggle competitions and top players tuning hyperparameter for higher accuracy.\n",
    "\n",
    "XGBoost is an implementation of the Gradient Boosted Decision Trees algorithm (scikit-learn has another version of this algorithm, but XGBoost has some technical advantages.) \n",
    "What is Gradient Boosted Decision Trees? \n",
    "\n",
    "![](img/xgboost.png)\n",
    "\n",
    "We go through cycles that repeatedly builds new models and combines them into an ensemble model. We start the cycle by calculating the errors for each observation in the dataset. We then build a new model to predict those. We add predictions from this error-predicting model to the \"ensemble of models.\"\n",
    "\n",
    "To make a prediction, we add the predictions from all previous models. We can use these predictions to calculate new errors, build the next model, and add it to the ensemble.\n",
    "\n",
    "There's one piece outside that cycle. We need some base prediction to start the cycle. In practice, the initial predictions can be pretty naive. Even if it's predictions are wildly inaccurate, subsequent additions to the ensemble will address those errors.\n",
    "\n",
    "This process may sound complicated, but the code to use it is straightforward. \n"
   ]
  },
  {
   "cell_type": "markdown",
   "metadata": {},
   "source": [
    "# Model Tuning in XGBoost\n",
    "\n",
    "XGBoost has a few parameters that can dramatically affect your model's accuracy and training speed. \n",
    "\n",
    "1.\tn_estimators: specifies how many times to go through the modeling cycle described above\n",
    "(possible range: 100-1000)\n",
    "2.\tearly_stopping_rounds: stop iterating when the validation score stops improving\n",
    "3.\tlearning_rate: weight adding to each prediction from each model, help to reduce the model's propensity to overfit.\n",
    "4.\tn_jobs: set tp number of cores in computer for runtime reduction for large dataset\n",
    "In the underfitting vs overfitting graph, n_estimators moves you further to the right. Too low a value causes underfitting, which is inaccurate predictions on both training data and new data. Too large a value causes overfitting, which is accurate predictions on training data, but inaccurate predictions on new data (which is what we care about). You can experiment with your dataset to find the ideal. Typical values range from 100-1000, though this depends a lot on the learning rate discussed below.\n"
   ]
  },
  {
   "cell_type": "markdown",
   "metadata": {},
   "source": [
    "# Installation of xgboost\n",
    "\n",
    "since xgboost is not maintained actively in pip environment, the preferred way to install xgboost is using anaconda installation:\n",
    "\n",
    "https://anaconda.org/conda-forge/xgboost"
   ]
  },
  {
   "cell_type": "code",
   "execution_count": 1,
   "metadata": {},
   "outputs": [],
   "source": [
    "import pandas as pd\n",
    "from sklearn.model_selection import train_test_split\n",
    "from sklearn.preprocessing import Imputer"
   ]
  },
  {
   "cell_type": "code",
   "execution_count": 2,
   "metadata": {},
   "outputs": [],
   "source": [
    "data = pd.read_csv('data/train.csv')\n",
    "data.dropna(axis=0,subset=['SalePrice'], inplace = True)"
   ]
  },
  {
   "cell_type": "code",
   "execution_count": 3,
   "metadata": {},
   "outputs": [],
   "source": [
    "y = data.SalePrice\n",
    "X = data.drop(['SalePrice'],axis=1).select_dtypes(exclude=['object'])"
   ]
  },
  {
   "cell_type": "code",
   "execution_count": 4,
   "metadata": {},
   "outputs": [
    {
     "name": "stderr",
     "output_type": "stream",
     "text": [
      "C:\\Users\\Brian Tsang\\Anaconda3\\lib\\site-packages\\ipykernel_launcher.py:1: FutureWarning: Method .as_matrix will be removed in a future version. Use .values instead.\n",
      "  \"\"\"Entry point for launching an IPython kernel.\n"
     ]
    }
   ],
   "source": [
    "train_X, test_X, train_y, test_y = train_test_split(X.as_matrix(),y.as_matrix(),test_size = 0.3)"
   ]
  },
  {
   "cell_type": "code",
   "execution_count": 5,
   "metadata": {},
   "outputs": [],
   "source": [
    "my_imputer = Imputer()\n",
    "train_X = my_imputer.fit_transform(train_X)\n",
    "test_X = my_imputer.fit_transform(test_X)"
   ]
  },
  {
   "cell_type": "code",
   "execution_count": 6,
   "metadata": {},
   "outputs": [],
   "source": [
    "from xgboost import XGBRegressor"
   ]
  },
  {
   "cell_type": "code",
   "execution_count": 7,
   "metadata": {},
   "outputs": [],
   "source": [
    "xgb_model = XGBRegressor()"
   ]
  },
  {
   "cell_type": "code",
   "execution_count": 8,
   "metadata": {},
   "outputs": [
    {
     "data": {
      "text/plain": [
       "XGBRegressor(base_score=0.5, booster='gbtree', colsample_bylevel=1,\n",
       "       colsample_bytree=1, gamma=0, learning_rate=0.1, max_delta_step=0,\n",
       "       max_depth=3, min_child_weight=1, missing=None, n_estimators=100,\n",
       "       n_jobs=1, nthread=None, objective='reg:linear', random_state=0,\n",
       "       reg_alpha=0, reg_lambda=1, scale_pos_weight=1, seed=None,\n",
       "       silent=True, subsample=1)"
      ]
     },
     "execution_count": 8,
     "metadata": {},
     "output_type": "execute_result"
    }
   ],
   "source": [
    "xgb_model.fit(train_X, train_y, verbose=False)"
   ]
  },
  {
   "cell_type": "code",
   "execution_count": 9,
   "metadata": {},
   "outputs": [],
   "source": [
    "predictions = xgb_model.predict(test_X)"
   ]
  },
  {
   "cell_type": "code",
   "execution_count": 10,
   "metadata": {},
   "outputs": [
    {
     "name": "stdout",
     "output_type": "stream",
     "text": [
      "195479.48\n"
     ]
    }
   ],
   "source": [
    "print(predictions[1])"
   ]
  },
  {
   "cell_type": "code",
   "execution_count": 11,
   "metadata": {},
   "outputs": [
    {
     "name": "stdout",
     "output_type": "stream",
     "text": [
      "Mean Absolute Error : 15028.021261415524\n"
     ]
    }
   ],
   "source": [
    "from sklearn.metrics import mean_absolute_error\n",
    "print(\"Mean Absolute Error : \" + str(mean_absolute_error(predictions, test_y)))"
   ]
  },
  {
   "cell_type": "code",
   "execution_count": 12,
   "metadata": {},
   "outputs": [
    {
     "name": "stdout",
     "output_type": "stream",
     "text": [
      "[0]\tvalidation_0-rmse:167624\n",
      "Will train until validation_0-rmse hasn't improved in 5 rounds.\n",
      "[1]\tvalidation_0-rmse:151612\n",
      "[2]\tvalidation_0-rmse:137175\n",
      "[3]\tvalidation_0-rmse:124214\n",
      "[4]\tvalidation_0-rmse:112826\n",
      "[5]\tvalidation_0-rmse:102644\n",
      "[6]\tvalidation_0-rmse:93437.7\n",
      "[7]\tvalidation_0-rmse:85157.3\n",
      "[8]\tvalidation_0-rmse:77680.4\n",
      "[9]\tvalidation_0-rmse:70976.5\n",
      "[10]\tvalidation_0-rmse:65321.9\n",
      "[11]\tvalidation_0-rmse:60057.7\n",
      "[12]\tvalidation_0-rmse:55383.8\n",
      "[13]\tvalidation_0-rmse:51155.4\n",
      "[14]\tvalidation_0-rmse:47516.6\n",
      "[15]\tvalidation_0-rmse:44415.5\n",
      "[16]\tvalidation_0-rmse:41906.6\n",
      "[17]\tvalidation_0-rmse:39774.8\n",
      "[18]\tvalidation_0-rmse:37929\n",
      "[19]\tvalidation_0-rmse:36125.6\n",
      "[20]\tvalidation_0-rmse:34631.9\n",
      "[21]\tvalidation_0-rmse:33579.3\n",
      "[22]\tvalidation_0-rmse:32460.4\n",
      "[23]\tvalidation_0-rmse:31500.8\n",
      "[24]\tvalidation_0-rmse:30623.7\n",
      "[25]\tvalidation_0-rmse:29795.5\n",
      "[26]\tvalidation_0-rmse:29232\n",
      "[27]\tvalidation_0-rmse:28895.3\n",
      "[28]\tvalidation_0-rmse:28517.7\n",
      "[29]\tvalidation_0-rmse:28378.8\n",
      "[30]\tvalidation_0-rmse:28184.1\n",
      "[31]\tvalidation_0-rmse:27842.9\n",
      "[32]\tvalidation_0-rmse:27615.9\n",
      "[33]\tvalidation_0-rmse:27556.4\n",
      "[34]\tvalidation_0-rmse:27198.7\n",
      "[35]\tvalidation_0-rmse:27081.4\n",
      "[36]\tvalidation_0-rmse:26923.9\n",
      "[37]\tvalidation_0-rmse:26678.2\n",
      "[38]\tvalidation_0-rmse:26558.8\n",
      "[39]\tvalidation_0-rmse:26423.9\n",
      "[40]\tvalidation_0-rmse:26384.9\n",
      "[41]\tvalidation_0-rmse:26392.8\n",
      "[42]\tvalidation_0-rmse:26309.8\n",
      "[43]\tvalidation_0-rmse:26284.4\n",
      "[44]\tvalidation_0-rmse:26245.5\n",
      "[45]\tvalidation_0-rmse:26142.7\n",
      "[46]\tvalidation_0-rmse:26244.4\n",
      "[47]\tvalidation_0-rmse:26301.7\n",
      "[48]\tvalidation_0-rmse:26281.3\n",
      "[49]\tvalidation_0-rmse:26238.9\n",
      "[50]\tvalidation_0-rmse:26313.2\n",
      "Stopping. Best iteration:\n",
      "[45]\tvalidation_0-rmse:26142.7\n",
      "\n"
     ]
    },
    {
     "data": {
      "text/plain": [
       "XGBRegressor(base_score=0.5, booster='gbtree', colsample_bylevel=1,\n",
       "       colsample_bytree=1, gamma=0, learning_rate=0.1, max_delta_step=0,\n",
       "       max_depth=3, min_child_weight=1, missing=None, n_estimators=1000,\n",
       "       n_jobs=1, nthread=None, objective='reg:linear', random_state=0,\n",
       "       reg_alpha=0, reg_lambda=1, scale_pos_weight=1, seed=None,\n",
       "       silent=True, subsample=1)"
      ]
     },
     "execution_count": 12,
     "metadata": {},
     "output_type": "execute_result"
    }
   ],
   "source": [
    "xgb_model_2 = XGBRegressor(n_estimators=1000)\n",
    "\n",
    "xgb_model_2.fit(train_X, train_y, early_stopping_rounds=5,\n",
    "             eval_set=[(test_X, test_y)], verbose=True)\n"
   ]
  },
  {
   "cell_type": "code",
   "execution_count": 13,
   "metadata": {},
   "outputs": [],
   "source": [
    "predictions = xgb_model_2.predict(test_X)"
   ]
  },
  {
   "cell_type": "code",
   "execution_count": 14,
   "metadata": {},
   "outputs": [
    {
     "name": "stdout",
     "output_type": "stream",
     "text": [
      "Mean Absolute Error : 15423.398473173516\n"
     ]
    }
   ],
   "source": [
    "from sklearn.metrics import mean_absolute_error\n",
    "print(\"Mean Absolute Error : \" + str(mean_absolute_error(predictions, test_y)))"
   ]
  },
  {
   "cell_type": "code",
   "execution_count": 15,
   "metadata": {},
   "outputs": [
    {
     "name": "stdout",
     "output_type": "stream",
     "text": [
      "[0]\tvalidation_0-rmse:176564\n",
      "Will train until validation_0-rmse hasn't improved in 5 rounds.\n",
      "[1]\tvalidation_0-rmse:168030\n",
      "[2]\tvalidation_0-rmse:160086\n",
      "[3]\tvalidation_0-rmse:152396\n",
      "[4]\tvalidation_0-rmse:145117\n",
      "[5]\tvalidation_0-rmse:138247\n",
      "[6]\tvalidation_0-rmse:131690\n",
      "[7]\tvalidation_0-rmse:125551\n",
      "[8]\tvalidation_0-rmse:119710\n",
      "[9]\tvalidation_0-rmse:114249\n",
      "[10]\tvalidation_0-rmse:108945\n",
      "[11]\tvalidation_0-rmse:104016\n",
      "[12]\tvalidation_0-rmse:99316.5\n",
      "[13]\tvalidation_0-rmse:94881.4\n",
      "[14]\tvalidation_0-rmse:90544.4\n",
      "[15]\tvalidation_0-rmse:86486.2\n",
      "[16]\tvalidation_0-rmse:82646.3\n",
      "[17]\tvalidation_0-rmse:79053.8\n",
      "[18]\tvalidation_0-rmse:75640.9\n",
      "[19]\tvalidation_0-rmse:72444.1\n",
      "[20]\tvalidation_0-rmse:69495\n",
      "[21]\tvalidation_0-rmse:66645.9\n",
      "[22]\tvalidation_0-rmse:63912.4\n",
      "[23]\tvalidation_0-rmse:61388.1\n",
      "[24]\tvalidation_0-rmse:58943\n",
      "[25]\tvalidation_0-rmse:56634.6\n",
      "[26]\tvalidation_0-rmse:54488\n",
      "[27]\tvalidation_0-rmse:52548.7\n",
      "[28]\tvalidation_0-rmse:50582.4\n",
      "[29]\tvalidation_0-rmse:48787.6\n",
      "[30]\tvalidation_0-rmse:47200.9\n",
      "[31]\tvalidation_0-rmse:45663.1\n",
      "[32]\tvalidation_0-rmse:44166.1\n",
      "[33]\tvalidation_0-rmse:42876.5\n",
      "[34]\tvalidation_0-rmse:41579.1\n",
      "[35]\tvalidation_0-rmse:40359.6\n",
      "[36]\tvalidation_0-rmse:39283\n",
      "[37]\tvalidation_0-rmse:38214.5\n",
      "[38]\tvalidation_0-rmse:37259.3\n",
      "[39]\tvalidation_0-rmse:36336.1\n",
      "[40]\tvalidation_0-rmse:35479.4\n",
      "[41]\tvalidation_0-rmse:34819.1\n",
      "[42]\tvalidation_0-rmse:34140.6\n",
      "[43]\tvalidation_0-rmse:33620.9\n",
      "[44]\tvalidation_0-rmse:33119.4\n",
      "[45]\tvalidation_0-rmse:32526.1\n",
      "[46]\tvalidation_0-rmse:31950.3\n",
      "[47]\tvalidation_0-rmse:31416.9\n",
      "[48]\tvalidation_0-rmse:30950.6\n",
      "[49]\tvalidation_0-rmse:30484.9\n",
      "[50]\tvalidation_0-rmse:30087.3\n",
      "[51]\tvalidation_0-rmse:29833.8\n",
      "[52]\tvalidation_0-rmse:29530.7\n",
      "[53]\tvalidation_0-rmse:29125\n",
      "[54]\tvalidation_0-rmse:28831.9\n",
      "[55]\tvalidation_0-rmse:28487.9\n",
      "[56]\tvalidation_0-rmse:28230.7\n",
      "[57]\tvalidation_0-rmse:28075.7\n",
      "[58]\tvalidation_0-rmse:27872.7\n",
      "[59]\tvalidation_0-rmse:27707.4\n",
      "[60]\tvalidation_0-rmse:27496.1\n",
      "[61]\tvalidation_0-rmse:27292\n",
      "[62]\tvalidation_0-rmse:27171.2\n",
      "[63]\tvalidation_0-rmse:27098.3\n",
      "[64]\tvalidation_0-rmse:27041.3\n",
      "[65]\tvalidation_0-rmse:26932.9\n",
      "[66]\tvalidation_0-rmse:26811.7\n",
      "[67]\tvalidation_0-rmse:26763.1\n",
      "[68]\tvalidation_0-rmse:26726.4\n",
      "[69]\tvalidation_0-rmse:26646.5\n",
      "[70]\tvalidation_0-rmse:26563.2\n",
      "[71]\tvalidation_0-rmse:26557.3\n",
      "[72]\tvalidation_0-rmse:26469.8\n",
      "[73]\tvalidation_0-rmse:26313.1\n",
      "[74]\tvalidation_0-rmse:26265.2\n",
      "[75]\tvalidation_0-rmse:26289.7\n",
      "[76]\tvalidation_0-rmse:26237.6\n",
      "[77]\tvalidation_0-rmse:26110.4\n",
      "[78]\tvalidation_0-rmse:26050.5\n",
      "[79]\tvalidation_0-rmse:26023.9\n",
      "[80]\tvalidation_0-rmse:25933.7\n",
      "[81]\tvalidation_0-rmse:25879.3\n",
      "[82]\tvalidation_0-rmse:25826.9\n",
      "[83]\tvalidation_0-rmse:25803.2\n",
      "[84]\tvalidation_0-rmse:25784.4\n",
      "[85]\tvalidation_0-rmse:25743.3\n",
      "[86]\tvalidation_0-rmse:25682.6\n",
      "[87]\tvalidation_0-rmse:25672.3\n",
      "[88]\tvalidation_0-rmse:25666.6\n",
      "[89]\tvalidation_0-rmse:25631.2\n",
      "[90]\tvalidation_0-rmse:25554\n",
      "[91]\tvalidation_0-rmse:25607.8\n",
      "[92]\tvalidation_0-rmse:25599.5\n",
      "[93]\tvalidation_0-rmse:25596\n",
      "[94]\tvalidation_0-rmse:25579.6\n",
      "[95]\tvalidation_0-rmse:25587.3\n",
      "Stopping. Best iteration:\n",
      "[90]\tvalidation_0-rmse:25554\n",
      "\n"
     ]
    },
    {
     "data": {
      "text/plain": [
       "XGBRegressor(base_score=0.5, booster='gbtree', colsample_bylevel=1,\n",
       "       colsample_bytree=1, gamma=0, learning_rate=0.05, max_delta_step=0,\n",
       "       max_depth=3, min_child_weight=1, missing=None, n_estimators=1000,\n",
       "       n_jobs=1, nthread=None, objective='reg:linear', random_state=0,\n",
       "       reg_alpha=0, reg_lambda=1, scale_pos_weight=1, seed=None,\n",
       "       silent=True, subsample=1)"
      ]
     },
     "execution_count": 15,
     "metadata": {},
     "output_type": "execute_result"
    }
   ],
   "source": [
    "xgb_model_3 = XGBRegressor(n_estimators=1000, learning_rate=0.05)\n",
    "xgb_model_3.fit(train_X, train_y, early_stopping_rounds=5,\n",
    "             eval_set=[(test_X, test_y)], verbose=True)\n"
   ]
  },
  {
   "cell_type": "code",
   "execution_count": 16,
   "metadata": {},
   "outputs": [],
   "source": [
    "predictions = xgb_model_3.predict(test_X)"
   ]
  },
  {
   "cell_type": "code",
   "execution_count": 17,
   "metadata": {},
   "outputs": [
    {
     "name": "stdout",
     "output_type": "stream",
     "text": [
      "Mean Absolute Error : 15344.130029965754\n"
     ]
    }
   ],
   "source": [
    "from sklearn.metrics import mean_absolute_error\n",
    "print(\"Mean Absolute Error : \" + str(mean_absolute_error(predictions, test_y)))"
   ]
  },
  {
   "cell_type": "code",
   "execution_count": null,
   "metadata": {},
   "outputs": [],
   "source": []
  },
  {
   "cell_type": "code",
   "execution_count": null,
   "metadata": {},
   "outputs": [],
   "source": []
  }
 ],
 "metadata": {
  "kernelspec": {
   "display_name": "Python 3",
   "language": "python",
   "name": "python3"
  },
  "language_info": {
   "codemirror_mode": {
    "name": "ipython",
    "version": 3
   },
   "file_extension": ".py",
   "mimetype": "text/x-python",
   "name": "python",
   "nbconvert_exporter": "python",
   "pygments_lexer": "ipython3",
   "version": "3.6.5"
  }
 },
 "nbformat": 4,
 "nbformat_minor": 2
}
